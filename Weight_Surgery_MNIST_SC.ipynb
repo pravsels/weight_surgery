{
 "cells": [
  {
   "cell_type": "markdown",
   "id": "65791bdc",
   "metadata": {},
   "source": [
    "# MNIST Embeddings"
   ]
  },
  {
   "cell_type": "markdown",
   "id": "a8a44dcf",
   "metadata": {},
   "source": [
    "## Imports and Hyper-parameters "
   ]
  },
  {
   "cell_type": "code",
   "execution_count": 29,
   "id": "9f195be0",
   "metadata": {},
   "outputs": [
    {
     "name": "stdout",
     "output_type": "stream",
     "text": [
      "/home/praveens/Desktop/synthetic_biometrics/visualize_embeddings\n"
     ]
    }
   ],
   "source": [
    "import torch \n",
    "import os \n",
    "import numpy as np \n",
    "from torchvision import transforms \n",
    "from torchvision.datasets import MNIST \n",
    "from torchvision import models \n",
    "\n",
    "print(os.getcwd())\n",
    "root = os.getcwd()\n",
    "\n",
    "from DeepFeatures import DeepFeatures\n",
    "from mnist_net import Net\n",
    "\n",
    "from sklearn.ensemble import IsolationForest\n",
    "import plotly.express as px\n",
    "import pandas as pd\n"
   ]
  },
  {
   "cell_type": "code",
   "execution_count": 34,
   "id": "fae1b25d",
   "metadata": {},
   "outputs": [],
   "source": [
    "batch_size = 128\n",
    "data_folder = root + '/MNIST'\n",
    "device = 'cpu'\n",
    "model_path = './mnist_net.pth'\n",
    "\n",
    "shatter_class = 3"
   ]
  },
  {
   "cell_type": "markdown",
   "id": "2e460bd2",
   "metadata": {},
   "source": [
    "## Create Dataloader"
   ]
  },
  {
   "cell_type": "code",
   "execution_count": 35,
   "id": "860de05b",
   "metadata": {},
   "outputs": [],
   "source": [
    "transformations = transforms.Compose([transforms.Resize((221, 221)),\n",
    "                                      transforms.ToTensor(),\n",
    "                                      transforms.Normalize(mean=[0.485], std=[0.229])\n",
    "                                    ])\n",
    "\n",
    "mnist_data = MNIST(root=r'./MNIST',\n",
    "                   download=False, # change to True to download MNIST data\n",
    "                   train=False, \n",
    "                   transform=transformations)\n",
    "\n",
    "data_loader = torch.utils.data.DataLoader(mnist_data,\n",
    "                                          batch_size=batch_size,\n",
    "                                          shuffle=True)"
   ]
  },
  {
   "cell_type": "code",
   "execution_count": 36,
   "id": "74a9d075",
   "metadata": {},
   "outputs": [
    {
     "data": {
      "text/plain": [
       "Dataset MNIST\n",
       "    Number of datapoints: 10000\n",
       "    Root location: ./MNIST\n",
       "    Split: Test\n",
       "    StandardTransform\n",
       "Transform: Compose(\n",
       "               Resize(size=(221, 221), interpolation=bilinear, max_size=None, antialias=None)\n",
       "               ToTensor()\n",
       "               Normalize(mean=[0.485], std=[0.229])\n",
       "           )"
      ]
     },
     "execution_count": 36,
     "metadata": {},
     "output_type": "execute_result"
    }
   ],
   "source": [
    "mnist_data"
   ]
  },
  {
   "cell_type": "code",
   "execution_count": 37,
   "id": "17645ff9",
   "metadata": {},
   "outputs": [],
   "source": [
    "# list(mnist_net.named_parameters())"
   ]
  },
  {
   "cell_type": "markdown",
   "id": "b9e14939",
   "metadata": {},
   "source": [
    "## Initialize Tensorboard Logging Class "
   ]
  },
  {
   "cell_type": "code",
   "execution_count": 68,
   "id": "d275c88e",
   "metadata": {
    "scrolled": true
   },
   "outputs": [
    {
     "data": {
      "text/plain": [
       "Net(\n",
       "  (conv1): Conv2d(1, 8, kernel_size=(2, 2), stride=(1, 1))\n",
       "  (conv2): Conv2d(8, 16, kernel_size=(2, 2), stride=(1, 1))\n",
       "  (conv3): Conv2d(16, 32, kernel_size=(2, 2), stride=(1, 1))\n",
       "  (conv4): Conv2d(32, 64, kernel_size=(2, 2), stride=(1, 1))\n",
       "  (pool): MaxPool2d(kernel_size=2, stride=2, padding=0, dilation=1, ceil_mode=False)\n",
       "  (fc1): Linear(in_features=9216, out_features=128, bias=True)\n",
       "  (fc2): Linear(in_features=128, out_features=64, bias=True)\n",
       "  (fc3): Linear(in_features=64, out_features=3, bias=True)\n",
       "  (fc4): Linear(in_features=3, out_features=3, bias=True)\n",
       "  (fc5): Linear(in_features=3, out_features=10, bias=True)\n",
       ")"
      ]
     },
     "execution_count": 68,
     "metadata": {},
     "output_type": "execute_result"
    }
   ],
   "source": [
    "mnist_net = Net().to(device)\n",
    "mnist_net.load_state_dict(torch.load(model_path, map_location=torch.device(device)))  # load saved model \n",
    "\n",
    "mnist_net.eval()"
   ]
  },
  {
   "cell_type": "code",
   "execution_count": 69,
   "id": "70ae5433",
   "metadata": {},
   "outputs": [],
   "source": [
    "deep_features = DeepFeatures(model=mnist_net)"
   ]
  },
  {
   "cell_type": "code",
   "execution_count": 70,
   "id": "c1c86b24",
   "metadata": {},
   "outputs": [],
   "source": [
    "def filter_by_classes(data_loader, cl1):\n",
    "    \n",
    "    class1 = torch.tensor(cl1)\n",
    "    class1_images = []\n",
    "    \n",
    "    for images, labels in data_loader: \n",
    "        class1_images.extend(images[labels == class1])\n",
    "        \n",
    "    class1_images = torch.stack(class1_images)\n",
    "        \n",
    "    return class1_images"
   ]
  },
  {
   "cell_type": "code",
   "execution_count": 90,
   "id": "2e19fdf3",
   "metadata": {},
   "outputs": [],
   "source": [
    "def find_cosine_similarity(deep_features, data_loader, cl1):\n",
    "    images1 = filter_by_classes(data_loader, cl1)\n",
    "    \n",
    "    e1 = deep_features.generate_embeddings(images1).clone().detach()\n",
    "      \n",
    "    shape = e1.shape[0]\n",
    "    idx1 = np.random.randint(shape)\n",
    "    idx2 = np.random.randint(shape)\n",
    "        \n",
    "    cos_sim = (torch.dot(e1[idx1], e1[idx2])/(torch.linalg.norm(e1[idx1])*torch.linalg.norm(e1[idx2])))\n",
    "        \n",
    "    print('cosine similarity of 2 random embeddings : ', cos_sim)\n",
    "    \n",
    "    return cos_sim"
   ]
  },
  {
   "cell_type": "code",
   "execution_count": 93,
   "id": "3f9fe549",
   "metadata": {},
   "outputs": [],
   "source": [
    "def find_class_embeddings(deep_features, data_loader, cl1, remove_outliers=True):\n",
    "    images1 = filter_by_classes(data_loader, cl1)\n",
    "    \n",
    "    e1 = deep_features.generate_embeddings(images1).clone().detach()\n",
    "    \n",
    "    if remove_outliers:\n",
    "        model_if = IsolationForest(random_state=42)\n",
    "        model_if.fit(e1.numpy())\n",
    "        e1_anomaly = model_if.predict(e1)\n",
    "\n",
    "        # keeping the inliers \n",
    "        e1 = e1[e1_anomaly==1]\n",
    "        print('inliers for ' + str(cl1) + ' : ', e1.shape[0])\n",
    "        \n",
    "    \n",
    "    \n",
    "    ################## STEP 1: finding centroid of the 2 class embeddings  \n",
    "    class1_mean = torch.mean(e1, dim=0)    # squish multiple rows to get mean \n",
    "    \n",
    "    class1_normed = class1_mean/torch.norm(class1_mean)\n",
    "    \n",
    "    print('val of centroid of class ' + str(cl1) + ' : ', class1_normed)\n",
    "    \n",
    "    return class1_normed"
   ]
  },
  {
   "cell_type": "code",
   "execution_count": 94,
   "id": "262262cf",
   "metadata": {
    "scrolled": true
   },
   "outputs": [
    {
     "name": "stdout",
     "output_type": "stream",
     "text": [
      "inliers for 3 :  865\n",
      "val of centroid of class 3 :  tensor([-0.6044, -0.4138,  0.6808])\n"
     ]
    }
   ],
   "source": [
    "x1 = find_class_embeddings(deep_features, \n",
    "                            data_loader, \n",
    "                            shatter_class)"
   ]
  },
  {
   "cell_type": "code",
   "execution_count": 95,
   "id": "eb9a9adf",
   "metadata": {},
   "outputs": [],
   "source": [
    "################## Step 3: calculate change of basis matrix\n",
    "def change_of_basis(wm, d):\n",
    "    ################## The first basis is d, how do we get the other 2 ?    \n",
    "\n",
    "    new_wm = torch.eye(wm.shape[0])\n",
    "    \n",
    "    # replace first column of identity matrix with d \n",
    "    new_wm[:, 0] = d\n",
    "    \n",
    "    print('new weight matrix : ', new_wm)\n",
    "\n",
    "    return new_wm"
   ]
  },
  {
   "cell_type": "code",
   "execution_count": 96,
   "id": "5b80f3e1",
   "metadata": {},
   "outputs": [],
   "source": [
    "def perform_weight_surgery(mnist_net, x1, save_model=True):\n",
    "    \n",
    "    ################## Step 2: calculating difference vector of the 2 classes \n",
    "    # calculate the difference between the 2 class vectors \n",
    "    d = x1\n",
    "    print('d : ', d)\n",
    "    d = d/torch.norm(d)\n",
    "    print('normed d : ', d)\n",
    "    weight_matrix = mnist_net.fc4.weight.clone().detach()  # weight matrix of the penultimate layer \n",
    "    print('weight matrix : \\n', weight_matrix)\n",
    "    \n",
    "    ################## Step 3: calculate change of basis matrix \n",
    "    # perform a change of basis, to put d as the first basis \n",
    "    new_wm = change_of_basis(weight_matrix, d)\n",
    "    \n",
    "    # gram schmidt to calculate orthogonal basis vectors \n",
    "    def gram_schmidt(weight_matrix):\n",
    "        ################## d is first basis vector\n",
    "        m, n = weight_matrix.shape\n",
    "        \n",
    "        Q = torch.zeros((m, n))\n",
    "\n",
    "        for i in range(n):\n",
    "\n",
    "            v = weight_matrix[:, i].clone()\n",
    "\n",
    "            for j in range(i):\n",
    "                proj = (v @ torch.outer(Q[:, j], Q[:, j]))\n",
    "                v = v - proj\n",
    "                        \n",
    "            Q[:, i] = v/torch.linalg.norm(v)\n",
    "            \n",
    "        return Q\n",
    "    \n",
    "    ################## Step 4: using Gram-Schmidt to get orthogonal basis vectors \n",
    "    U = gram_schmidt(new_wm)    \n",
    "    \n",
    "    print('U matrix: ', U)\n",
    "    print('result of U * U_transpose : ', torch.mm(U, U.T))\n",
    "    \n",
    "    S = torch.eye(U.shape[0])\n",
    "    S[0, 0] = 1e-5\n",
    "#     print('matrix S :\\n', S)\n",
    "    \n",
    "    # projection matrix \n",
    "#     P_d = torch.mm(torch.mm(U, S), U.T)\n",
    "    P_d = U @ S @ U.T\n",
    "\n",
    "    print('projection matrix : ', P_d)\n",
    "    \n",
    "#     modified_weight_matrix = torch.mm(P_d, weight_matrix)\n",
    "    modified_weight_matrix = P_d @ weight_matrix\n",
    "    \n",
    "    print('modified weight matrix :\\n', modified_weight_matrix)\n",
    "    \n",
    "    print('rank of the modified weights matrix : ', torch.linalg.matrix_rank(modified_weight_matrix))\n",
    "    \n",
    "    mnist_net.fc4.weight = torch.nn.Parameter(modified_weight_matrix)\n",
    "    \n",
    "    if save_model: \n",
    "        path = './modified_mnist_net_sc.pth'\n",
    "        torch.save(mnist_net.state_dict(), path)"
   ]
  },
  {
   "cell_type": "code",
   "execution_count": 97,
   "id": "346069de",
   "metadata": {
    "scrolled": false
   },
   "outputs": [
    {
     "name": "stdout",
     "output_type": "stream",
     "text": [
      "d :  tensor([-0.6044, -0.4138,  0.6808])\n",
      "normed d :  tensor([-0.6044, -0.4138,  0.6808])\n",
      "weight matrix : \n",
      " tensor([[ 0.7285,  0.0657,  0.1034],\n",
      "        [ 0.2230, -0.8799, -0.1116],\n",
      "        [ 0.7428, -0.3980,  0.0314]])\n",
      "new weight matrix :  tensor([[-0.6044,  0.0000,  0.0000],\n",
      "        [-0.4138,  1.0000,  0.0000],\n",
      "        [ 0.6808,  0.0000,  1.0000]])\n",
      "U matrix:  tensor([[-0.6044, -0.2747,  0.7478],\n",
      "        [-0.4138,  0.9104,  0.0000],\n",
      "        [ 0.6808,  0.3094,  0.6639]])\n",
      "result of U * U_transpose :  tensor([[ 1.0000e+00,  0.0000e+00, -5.0064e-08],\n",
      "        [ 0.0000e+00,  1.0000e+00,  0.0000e+00],\n",
      "        [-5.0064e-08,  0.0000e+00,  1.0000e+00]])\n",
      "projection matrix :  tensor([[ 0.6347, -0.2501,  0.4115],\n",
      "        [-0.2501,  0.8288,  0.2817],\n",
      "        [ 0.4115,  0.2817,  0.5365]])\n",
      "modified weight matrix :\n",
      " tensor([[ 0.7123,  0.0980,  0.1064],\n",
      "        [ 0.2119, -0.8578, -0.1095],\n",
      "        [ 0.7611, -0.4344,  0.0279]])\n",
      "rank of the modified weights matrix :  tensor(2)\n"
     ]
    }
   ],
   "source": [
    "perform_weight_surgery(mnist_net, x1, save_model=True)"
   ]
  },
  {
   "cell_type": "code",
   "execution_count": 98,
   "id": "3754c031",
   "metadata": {},
   "outputs": [],
   "source": [
    "original_mnist_net = Net().to(device)\n",
    "original_mnist_net.load_state_dict(torch.load('./mnist_net.pth', map_location=torch.device(device)))  # load saved model \n",
    "\n",
    "original_mnist_net.eval()\n",
    "\n",
    "original_deep_features = DeepFeatures(model=original_mnist_net)"
   ]
  },
  {
   "cell_type": "code",
   "execution_count": 103,
   "id": "59c38717",
   "metadata": {
    "scrolled": true
   },
   "outputs": [
    {
     "name": "stdout",
     "output_type": "stream",
     "text": [
      "cosine similarity of 2 random embeddings :  tensor(0.9995)\n"
     ]
    }
   ],
   "source": [
    "_ = find_cosine_similarity(original_deep_features, data_loader, shatter_class)"
   ]
  },
  {
   "cell_type": "code",
   "execution_count": 104,
   "id": "3e35df1e",
   "metadata": {
    "scrolled": true
   },
   "outputs": [
    {
     "name": "stdout",
     "output_type": "stream",
     "text": [
      "cosine similarity of 2 random embeddings :  tensor(0.2448)\n"
     ]
    }
   ],
   "source": [
    "_ = find_cosine_similarity(deep_features, data_loader, shatter_class)"
   ]
  },
  {
   "cell_type": "markdown",
   "id": "25a3132c",
   "metadata": {},
   "source": [
    "## View Unmodified Embeddings through Plotly"
   ]
  },
  {
   "cell_type": "code",
   "execution_count": 105,
   "id": "1489d437",
   "metadata": {},
   "outputs": [],
   "source": [
    "def remove_outliers(embeds, labels):\n",
    "    unique_labels = set(labels.numpy())\n",
    "    \n",
    "    model_if = IsolationForest(random_state=42)\n",
    "    \n",
    "    new_embeds, new_labels = [], []\n",
    "    \n",
    "    for label_x in unique_labels:\n",
    "        embed_x = embeds[labels==label_x]\n",
    "        \n",
    "        model_if.fit(embed_x)\n",
    "        embedx_anomaly = model_if.predict(embed_x)\n",
    "        \n",
    "        embed_x = embed_x[embedx_anomaly == 1]   # keeping inliers \n",
    "        labels_x = [label_x] * embed_x.shape[0]\n",
    "        \n",
    "        new_embeds.extend(embed_x)\n",
    "        new_labels.extend(labels_x)\n",
    "        \n",
    "    return np.stack(new_embeds), np.stack(new_labels)"
   ]
  },
  {
   "cell_type": "code",
   "execution_count": 106,
   "id": "fe72310f",
   "metadata": {},
   "outputs": [],
   "source": [
    "batch_images, batch_labels = next(iter(data_loader))\n",
    "\n",
    "embeds = original_deep_features.generate_embeddings(batch_images.to(device), normalize=True)\n",
    "embeds = embeds.detach().numpy()\n",
    "\n",
    "# new_embeds, new_labels = remove_outliers(embeds, batch_labels)"
   ]
  },
  {
   "cell_type": "code",
   "execution_count": 107,
   "id": "179b2ce4",
   "metadata": {},
   "outputs": [
    {
     "data": {
      "application/vnd.plotly.v1+json": {
       "config": {
        "plotlyServerURL": "https://plot.ly"
       },
       "data": [
        {
         "hovertemplate": "x=%{x}<br>y=%{y}<br>z=%{z}<br>label=%{marker.color}<extra></extra>",
         "legendgroup": "",
         "marker": {
          "color": [
           0,
           7,
           2,
           6,
           6,
           4,
           0,
           3,
           7,
           0,
           9,
           2,
           7,
           1,
           2,
           5,
           4,
           1,
           2,
           2,
           0,
           2,
           3,
           4,
           4,
           9,
           4,
           2,
           1,
           4,
           3,
           8,
           3,
           2,
           9,
           6,
           7,
           0,
           9,
           6,
           3,
           6,
           2,
           9,
           8,
           7,
           1,
           2,
           0,
           5,
           8,
           9,
           6,
           7,
           0,
           5,
           1,
           3,
           7,
           7,
           7,
           3,
           3,
           3,
           9,
           2,
           6,
           1,
           2,
           9,
           4,
           2,
           4,
           4,
           8,
           0,
           0,
           0,
           8,
           9,
           8,
           9,
           5,
           6,
           9,
           4,
           4,
           9,
           3,
           6,
           0,
           6,
           0,
           0,
           0,
           9,
           5,
           2,
           4,
           4,
           4,
           1,
           7,
           3,
           2,
           2,
           0,
           8,
           1,
           3,
           5,
           7,
           0,
           9,
           6,
           8,
           3,
           1,
           5,
           4,
           4,
           3,
           1,
           9,
           1,
           9,
           5,
           2
          ],
          "coloraxis": "coloraxis",
          "size": 5,
          "symbol": "circle"
         },
         "mode": "markers+text",
         "name": "",
         "scene": "scene",
         "showlegend": false,
         "text": [
          0,
          7,
          2,
          6,
          6,
          4,
          0,
          3,
          7,
          0,
          9,
          2,
          7,
          1,
          2,
          5,
          4,
          1,
          2,
          2,
          0,
          2,
          3,
          4,
          4,
          9,
          4,
          2,
          1,
          4,
          3,
          8,
          3,
          2,
          9,
          6,
          7,
          0,
          9,
          6,
          3,
          6,
          2,
          9,
          8,
          7,
          1,
          2,
          0,
          5,
          8,
          9,
          6,
          7,
          0,
          5,
          1,
          3,
          7,
          7,
          7,
          3,
          3,
          3,
          9,
          2,
          6,
          1,
          2,
          9,
          4,
          2,
          4,
          4,
          8,
          0,
          0,
          0,
          8,
          9,
          8,
          9,
          5,
          6,
          9,
          4,
          4,
          9,
          3,
          6,
          0,
          6,
          0,
          0,
          0,
          9,
          5,
          2,
          4,
          4,
          4,
          1,
          7,
          3,
          2,
          2,
          0,
          8,
          1,
          3,
          5,
          7,
          0,
          9,
          6,
          8,
          3,
          1,
          5,
          4,
          4,
          3,
          1,
          9,
          1,
          9,
          5,
          2
         ],
         "type": "scatter3d",
         "x": [
          -0.261100172996521,
          0.5669518709182739,
          0.976257860660553,
          -0.1706305742263794,
          -0.29758697748184204,
          -0.41756391525268555,
          -0.2966512143611908,
          0.595434308052063,
          0.584822416305542,
          -0.26580944657325745,
          0.00540217524394393,
          0.6204683780670166,
          0.5885071158409119,
          -0.9479990601539612,
          0.9736567735671997,
          -0.6613723635673523,
          -0.4556354880332947,
          -0.9439840912818909,
          0.9701226353645325,
          0.986229658126831,
          -0.2566315531730652,
          0.9745276570320129,
          0.6241039633750916,
          -0.4418273866176605,
          -0.5520516633987427,
          0.26764753460884094,
          -0.5442507863044739,
          0.9629389643669128,
          -0.9486332535743713,
          -0.4493183493614197,
          0.5879529118537903,
          0.058541346341371536,
          0.8195948600769043,
          0.9727177619934082,
          0.28798046708106995,
          -0.1623784899711609,
          0.6295742392539978,
          -0.24663813412189484,
          0.2890784740447998,
          -0.15255795419216156,
          -0.1551777422428131,
          -0.18766671419143677,
          0.9234429597854614,
          0.25167420506477356,
          0.05261056870222092,
          0.5970602631568909,
          -0.9444184303283691,
          0.9769082069396973,
          -0.2528863847255707,
          -0.7273252606391907,
          0.06086532399058342,
          0.3150513768196106,
          -0.11629211902618408,
          0.5740978717803955,
          -0.20785731077194214,
          -0.6912886500358582,
          -0.9456564784049988,
          0.6200264096260071,
          0.6053863167762756,
          0.6000237464904785,
          0.5870500802993774,
          0.614325761795044,
          0.5608757734298706,
          0.6103211045265198,
          0.2785782814025879,
          0.9716077446937561,
          -0.12486013770103455,
          -0.946351945400238,
          0.9772515296936035,
          0.2986772358417511,
          -0.3776859641075134,
          0.9845094084739685,
          -0.4911133944988251,
          0.0034512411803007126,
          0.09328531473875046,
          -0.2718569338321686,
          -0.2475740760564804,
          -0.2583020329475403,
          0.018001390621066093,
          0.3018598258495331,
          0.044135674834251404,
          0.3042154610157013,
          -0.6793373823165894,
          -0.15463273227214813,
          0.2621349096298218,
          -0.46269160509109497,
          -0.37383198738098145,
          0.25020545721054077,
          0.6020650863647461,
          -0.11240842938423157,
          -0.24699240922927856,
          -0.19149072468280792,
          -0.24836266040802002,
          -0.25698310136795044,
          -0.2568517327308655,
          0.3423016667366028,
          -0.7286264896392822,
          0.9740622639656067,
          -0.38262107968330383,
          -0.3615027964115143,
          -0.3867252469062805,
          -0.9459580183029175,
          0.5918757915496826,
          0.6174180507659912,
          0.9888610243797302,
          0.9778711199760437,
          -0.2596166431903839,
          0.07631006091833115,
          -0.9466676115989685,
          0.5891798138618469,
          -0.7209488749504089,
          0.6376873850822449,
          -0.2704220712184906,
          0.3101799488067627,
          -0.5389454960823059,
          0.10961557179689407,
          0.6276035904884338,
          -0.9468407034873962,
          -0.7171511054039001,
          -0.41935136914253235,
          -0.4166577458381653,
          0.497905969619751,
          -0.941339910030365,
          0.26421019434928894,
          -0.9467884302139282,
          -0.4451417624950409,
          -0.7021710872650146,
          0.9768401384353638
         ],
         "y": [
          -0.9226154685020447,
          -0.7972034811973572,
          0.1298462152481079,
          -0.14169543981552124,
          -0.3156644403934479,
          -0.5349562764167786,
          -0.9101321697235107,
          0.3653509318828583,
          -0.791965126991272,
          -0.923026442527771,
          0.17940975725650787,
          -0.7282692790031433,
          -0.7604250311851501,
          -0.06424088776111603,
          0.09880926460027695,
          0.522148847579956,
          -0.5280948877334595,
          -0.10102037340402603,
          0.16645365953445435,
          0.05456556752324104,
          -0.929153561592102,
          0.13193663954734802,
          0.3322163224220276,
          -0.5030043721199036,
          -0.4455549716949463,
          0.23087608814239502,
          -0.5941164493560791,
          0.13545329868793488,
          -0.05702204629778862,
          -0.5171053409576416,
          0.4335995316505432,
          0.9861198663711548,
          0.1325082778930664,
          0.14920730888843536,
          0.3581230342388153,
          -0.10540518164634705,
          -0.7392380833625793,
          -0.9246369004249573,
          0.23779717087745667,
          -0.19288891553878784,
          0.5717625617980957,
          -0.16395749151706696,
          -0.36999061703681946,
          0.21924610435962677,
          0.9849517345428467,
          -0.769745409488678,
          -0.09755587577819824,
          0.10651931911706924,
          -0.9267702698707581,
          0.5318872928619385,
          0.9852995276451111,
          0.30022597312927246,
          -0.2088014930486679,
          -0.7970949411392212,
          -0.9288403987884521,
          0.527372419834137,
          -0.08711563795804977,
          0.3476865589618683,
          -0.7696207761764526,
          -0.7771329879760742,
          -0.7967300415039062,
          0.3608839809894562,
          0.33270153403282166,
          0.34148064255714417,
          0.19228877127170563,
          0.14500902593135834,
          -0.17141740024089813,
          -0.08081933110952377,
          0.1378193348646164,
          0.3175116777420044,
          -0.5586784482002258,
          -0.012858637608587742,
          -0.5122261643409729,
          -0.7882647514343262,
          0.9909549951553345,
          -0.9197997450828552,
          -0.9251543879508972,
          -0.9307488799095154,
          0.9903260469436646,
          0.22960543632507324,
          0.9855918884277344,
          0.22344037890434265,
          0.5254282355308533,
          -0.07374213635921478,
          0.1930931657552719,
          -0.5523039102554321,
          -0.5628255605697632,
          0.2486284375190735,
          0.42517539858818054,
          -0.20741772651672363,
          -0.9259063005447388,
          -0.12870196998119354,
          -0.9236811399459839,
          -0.925247073173523,
          -0.9221910238265991,
          0.09548424184322357,
          0.5320071578025818,
          0.13131505250930786,
          -0.5853404402732849,
          -0.5548280477523804,
          -0.5438637733459473,
          -0.08442843705415726,
          -0.768123984336853,
          0.3519328832626343,
          0.0446510836482048,
          0.09381899982690811,
          -0.9267051815986633,
          0.9865118861198425,
          -0.07783900201320648,
          0.3942127525806427,
          0.5312526226043701,
          -0.7235490083694458,
          -0.9215403199195862,
          0.2717280685901642,
          -0.0658550038933754,
          0.9812164902687073,
          0.35334712266921997,
          -0.07617006450891495,
          0.5308386087417603,
          -0.34730613231658936,
          -0.5263735055923462,
          0.49985289573669434,
          -0.12039024382829666,
          0.17622607946395874,
          -0.07667629420757294,
          0.4233848750591278,
          0.5289615988731384,
          0.12556388974189758
         ],
         "z": [
          -0.28391435742378235,
          0.2074422389268875,
          0.17337992787361145,
          -0.9750936031341553,
          -0.9009982943534851,
          0.7344809770584106,
          -0.2892357409000397,
          -0.7155255079269409,
          0.17542482912540436,
          -0.2781502306461334,
          0.9837596416473389,
          -0.29093456268310547,
          0.2746144235134125,
          -0.31172245740890503,
          0.20549724996089935,
          0.5384674072265625,
          0.7165975570678711,
          -0.3141477108001709,
          0.17650827765464783,
          0.15612077713012695,
          -0.2661089599132538,
          0.18135173618793488,
          -0.7071962356567383,
          0.7428156733512878,
          0.7047833800315857,
          0.9354469180107117,
          0.5922977328300476,
          0.2332398146390915,
          -0.311196893453598,
          0.7285019755363464,
          -0.682863712310791,
          -0.15537235140800476,
          -0.557409942150116,
          0.1776440441608429,
          0.8881527185440063,
          -0.981082558631897,
          0.2390885353088379,
          -0.290200412273407,
          0.9273004531860352,
          -0.9692883491516113,
          -0.8056100606918335,
          -0.968451976776123,
          -0.10178416967391968,
          0.9426511526107788,
          -0.16462764143943787,
          0.22585636377334595,
          -0.31393733620643616,
          0.1852138191461563,
          -0.27775025367736816,
          0.4336978495121002,
          -0.15962551534175873,
          0.9003371000289917,
          -0.9710190892219543,
          0.1872197389602661,
          -0.30667704343795776,
          0.49396181106567383,
          -0.3132805824279785,
          -0.7033358812332153,
          0.20295612514019012,
          0.18983094394207,
          0.14350399374961853,
          -0.7016884088516235,
          -0.7581081390380859,
          -0.7147720456123352,
          0.9409671425819397,
          0.18695105612277985,
          -0.9772543907165527,
          -0.31286799907684326,
          0.16119982302188873,
          0.8999879360198975,
          0.7383981347084045,
          0.17485986649990082,
          0.70457923412323,
          0.6153265237808228,
          -0.09646797180175781,
          -0.28295281529426575,
          -0.28774356842041016,
          -0.2588176429271698,
          -0.13758733868598938,
          0.9252902269363403,
          -0.16328060626983643,
          0.9260277152061462,
          0.5122751593589783,
          -0.9852161407470703,
          0.9455158710479736,
          0.6934528350830078,
          0.7372089624404907,
          0.9357249140739441,
          -0.6758279800415039,
          -0.9717727303504944,
          -0.285818487405777,
          -0.973019540309906,
          -0.2917688190937042,
          -0.27906540036201477,
          -0.2891208827495575,
          0.9347257614135742,
          0.4313603937625885,
          0.18427971005439758,
          0.7148269414901733,
          0.7493207454681396,
          0.7447521686553955,
          -0.3131060004234314,
          0.24427153170108795,
          -0.7035184502601624,
          0.14198629558086395,
          0.18699246644973755,
          -0.27169233560562134,
          -0.1448138803243637,
          -0.3126683533191681,
          -0.7053108811378479,
          0.4449755847454071,
          0.26425647735595703,
          -0.2786311209201813,
          0.9110171794891357,
          -0.8397623300552368,
          -0.15874098241329193,
          -0.6937286853790283,
          -0.31255537271499634,
          0.45155805349349976,
          0.8387627601623535,
          0.7411661744117737,
          -0.7086867094039917,
          -0.3152543902397156,
          0.9482284784317017,
          -0.31258973479270935,
          0.7890463471412659,
          0.4766082763671875,
          0.17325378954410553
         ]
        }
       ],
       "layout": {
        "coloraxis": {
         "colorbar": {
          "title": {
           "text": "label"
          }
         },
         "colorscale": [
          [
           0,
           "#0d0887"
          ],
          [
           0.1111111111111111,
           "#46039f"
          ],
          [
           0.2222222222222222,
           "#7201a8"
          ],
          [
           0.3333333333333333,
           "#9c179e"
          ],
          [
           0.4444444444444444,
           "#bd3786"
          ],
          [
           0.5555555555555556,
           "#d8576b"
          ],
          [
           0.6666666666666666,
           "#ed7953"
          ],
          [
           0.7777777777777778,
           "#fb9f3a"
          ],
          [
           0.8888888888888888,
           "#fdca26"
          ],
          [
           1,
           "#f0f921"
          ]
         ]
        },
        "legend": {
         "tracegroupgap": 0
        },
        "margin": {
         "t": 60
        },
        "scene": {
         "domain": {
          "x": [
           0,
           1
          ],
          "y": [
           0,
           1
          ]
         },
         "xaxis": {
          "title": {
           "text": "x"
          }
         },
         "yaxis": {
          "title": {
           "text": "y"
          }
         },
         "zaxis": {
          "title": {
           "text": "z"
          }
         }
        },
        "template": {
         "data": {
          "bar": [
           {
            "error_x": {
             "color": "#2a3f5f"
            },
            "error_y": {
             "color": "#2a3f5f"
            },
            "marker": {
             "line": {
              "color": "#E5ECF6",
              "width": 0.5
             },
             "pattern": {
              "fillmode": "overlay",
              "size": 10,
              "solidity": 0.2
             }
            },
            "type": "bar"
           }
          ],
          "barpolar": [
           {
            "marker": {
             "line": {
              "color": "#E5ECF6",
              "width": 0.5
             },
             "pattern": {
              "fillmode": "overlay",
              "size": 10,
              "solidity": 0.2
             }
            },
            "type": "barpolar"
           }
          ],
          "carpet": [
           {
            "aaxis": {
             "endlinecolor": "#2a3f5f",
             "gridcolor": "white",
             "linecolor": "white",
             "minorgridcolor": "white",
             "startlinecolor": "#2a3f5f"
            },
            "baxis": {
             "endlinecolor": "#2a3f5f",
             "gridcolor": "white",
             "linecolor": "white",
             "minorgridcolor": "white",
             "startlinecolor": "#2a3f5f"
            },
            "type": "carpet"
           }
          ],
          "choropleth": [
           {
            "colorbar": {
             "outlinewidth": 0,
             "ticks": ""
            },
            "type": "choropleth"
           }
          ],
          "contour": [
           {
            "colorbar": {
             "outlinewidth": 0,
             "ticks": ""
            },
            "colorscale": [
             [
              0,
              "#0d0887"
             ],
             [
              0.1111111111111111,
              "#46039f"
             ],
             [
              0.2222222222222222,
              "#7201a8"
             ],
             [
              0.3333333333333333,
              "#9c179e"
             ],
             [
              0.4444444444444444,
              "#bd3786"
             ],
             [
              0.5555555555555556,
              "#d8576b"
             ],
             [
              0.6666666666666666,
              "#ed7953"
             ],
             [
              0.7777777777777778,
              "#fb9f3a"
             ],
             [
              0.8888888888888888,
              "#fdca26"
             ],
             [
              1,
              "#f0f921"
             ]
            ],
            "type": "contour"
           }
          ],
          "contourcarpet": [
           {
            "colorbar": {
             "outlinewidth": 0,
             "ticks": ""
            },
            "type": "contourcarpet"
           }
          ],
          "heatmap": [
           {
            "colorbar": {
             "outlinewidth": 0,
             "ticks": ""
            },
            "colorscale": [
             [
              0,
              "#0d0887"
             ],
             [
              0.1111111111111111,
              "#46039f"
             ],
             [
              0.2222222222222222,
              "#7201a8"
             ],
             [
              0.3333333333333333,
              "#9c179e"
             ],
             [
              0.4444444444444444,
              "#bd3786"
             ],
             [
              0.5555555555555556,
              "#d8576b"
             ],
             [
              0.6666666666666666,
              "#ed7953"
             ],
             [
              0.7777777777777778,
              "#fb9f3a"
             ],
             [
              0.8888888888888888,
              "#fdca26"
             ],
             [
              1,
              "#f0f921"
             ]
            ],
            "type": "heatmap"
           }
          ],
          "heatmapgl": [
           {
            "colorbar": {
             "outlinewidth": 0,
             "ticks": ""
            },
            "colorscale": [
             [
              0,
              "#0d0887"
             ],
             [
              0.1111111111111111,
              "#46039f"
             ],
             [
              0.2222222222222222,
              "#7201a8"
             ],
             [
              0.3333333333333333,
              "#9c179e"
             ],
             [
              0.4444444444444444,
              "#bd3786"
             ],
             [
              0.5555555555555556,
              "#d8576b"
             ],
             [
              0.6666666666666666,
              "#ed7953"
             ],
             [
              0.7777777777777778,
              "#fb9f3a"
             ],
             [
              0.8888888888888888,
              "#fdca26"
             ],
             [
              1,
              "#f0f921"
             ]
            ],
            "type": "heatmapgl"
           }
          ],
          "histogram": [
           {
            "marker": {
             "pattern": {
              "fillmode": "overlay",
              "size": 10,
              "solidity": 0.2
             }
            },
            "type": "histogram"
           }
          ],
          "histogram2d": [
           {
            "colorbar": {
             "outlinewidth": 0,
             "ticks": ""
            },
            "colorscale": [
             [
              0,
              "#0d0887"
             ],
             [
              0.1111111111111111,
              "#46039f"
             ],
             [
              0.2222222222222222,
              "#7201a8"
             ],
             [
              0.3333333333333333,
              "#9c179e"
             ],
             [
              0.4444444444444444,
              "#bd3786"
             ],
             [
              0.5555555555555556,
              "#d8576b"
             ],
             [
              0.6666666666666666,
              "#ed7953"
             ],
             [
              0.7777777777777778,
              "#fb9f3a"
             ],
             [
              0.8888888888888888,
              "#fdca26"
             ],
             [
              1,
              "#f0f921"
             ]
            ],
            "type": "histogram2d"
           }
          ],
          "histogram2dcontour": [
           {
            "colorbar": {
             "outlinewidth": 0,
             "ticks": ""
            },
            "colorscale": [
             [
              0,
              "#0d0887"
             ],
             [
              0.1111111111111111,
              "#46039f"
             ],
             [
              0.2222222222222222,
              "#7201a8"
             ],
             [
              0.3333333333333333,
              "#9c179e"
             ],
             [
              0.4444444444444444,
              "#bd3786"
             ],
             [
              0.5555555555555556,
              "#d8576b"
             ],
             [
              0.6666666666666666,
              "#ed7953"
             ],
             [
              0.7777777777777778,
              "#fb9f3a"
             ],
             [
              0.8888888888888888,
              "#fdca26"
             ],
             [
              1,
              "#f0f921"
             ]
            ],
            "type": "histogram2dcontour"
           }
          ],
          "mesh3d": [
           {
            "colorbar": {
             "outlinewidth": 0,
             "ticks": ""
            },
            "type": "mesh3d"
           }
          ],
          "parcoords": [
           {
            "line": {
             "colorbar": {
              "outlinewidth": 0,
              "ticks": ""
             }
            },
            "type": "parcoords"
           }
          ],
          "pie": [
           {
            "automargin": true,
            "type": "pie"
           }
          ],
          "scatter": [
           {
            "fillpattern": {
             "fillmode": "overlay",
             "size": 10,
             "solidity": 0.2
            },
            "type": "scatter"
           }
          ],
          "scatter3d": [
           {
            "line": {
             "colorbar": {
              "outlinewidth": 0,
              "ticks": ""
             }
            },
            "marker": {
             "colorbar": {
              "outlinewidth": 0,
              "ticks": ""
             }
            },
            "type": "scatter3d"
           }
          ],
          "scattercarpet": [
           {
            "marker": {
             "colorbar": {
              "outlinewidth": 0,
              "ticks": ""
             }
            },
            "type": "scattercarpet"
           }
          ],
          "scattergeo": [
           {
            "marker": {
             "colorbar": {
              "outlinewidth": 0,
              "ticks": ""
             }
            },
            "type": "scattergeo"
           }
          ],
          "scattergl": [
           {
            "marker": {
             "colorbar": {
              "outlinewidth": 0,
              "ticks": ""
             }
            },
            "type": "scattergl"
           }
          ],
          "scattermapbox": [
           {
            "marker": {
             "colorbar": {
              "outlinewidth": 0,
              "ticks": ""
             }
            },
            "type": "scattermapbox"
           }
          ],
          "scatterpolar": [
           {
            "marker": {
             "colorbar": {
              "outlinewidth": 0,
              "ticks": ""
             }
            },
            "type": "scatterpolar"
           }
          ],
          "scatterpolargl": [
           {
            "marker": {
             "colorbar": {
              "outlinewidth": 0,
              "ticks": ""
             }
            },
            "type": "scatterpolargl"
           }
          ],
          "scatterternary": [
           {
            "marker": {
             "colorbar": {
              "outlinewidth": 0,
              "ticks": ""
             }
            },
            "type": "scatterternary"
           }
          ],
          "surface": [
           {
            "colorbar": {
             "outlinewidth": 0,
             "ticks": ""
            },
            "colorscale": [
             [
              0,
              "#0d0887"
             ],
             [
              0.1111111111111111,
              "#46039f"
             ],
             [
              0.2222222222222222,
              "#7201a8"
             ],
             [
              0.3333333333333333,
              "#9c179e"
             ],
             [
              0.4444444444444444,
              "#bd3786"
             ],
             [
              0.5555555555555556,
              "#d8576b"
             ],
             [
              0.6666666666666666,
              "#ed7953"
             ],
             [
              0.7777777777777778,
              "#fb9f3a"
             ],
             [
              0.8888888888888888,
              "#fdca26"
             ],
             [
              1,
              "#f0f921"
             ]
            ],
            "type": "surface"
           }
          ],
          "table": [
           {
            "cells": {
             "fill": {
              "color": "#EBF0F8"
             },
             "line": {
              "color": "white"
             }
            },
            "header": {
             "fill": {
              "color": "#C8D4E3"
             },
             "line": {
              "color": "white"
             }
            },
            "type": "table"
           }
          ]
         },
         "layout": {
          "annotationdefaults": {
           "arrowcolor": "#2a3f5f",
           "arrowhead": 0,
           "arrowwidth": 1
          },
          "autotypenumbers": "strict",
          "coloraxis": {
           "colorbar": {
            "outlinewidth": 0,
            "ticks": ""
           }
          },
          "colorscale": {
           "diverging": [
            [
             0,
             "#8e0152"
            ],
            [
             0.1,
             "#c51b7d"
            ],
            [
             0.2,
             "#de77ae"
            ],
            [
             0.3,
             "#f1b6da"
            ],
            [
             0.4,
             "#fde0ef"
            ],
            [
             0.5,
             "#f7f7f7"
            ],
            [
             0.6,
             "#e6f5d0"
            ],
            [
             0.7,
             "#b8e186"
            ],
            [
             0.8,
             "#7fbc41"
            ],
            [
             0.9,
             "#4d9221"
            ],
            [
             1,
             "#276419"
            ]
           ],
           "sequential": [
            [
             0,
             "#0d0887"
            ],
            [
             0.1111111111111111,
             "#46039f"
            ],
            [
             0.2222222222222222,
             "#7201a8"
            ],
            [
             0.3333333333333333,
             "#9c179e"
            ],
            [
             0.4444444444444444,
             "#bd3786"
            ],
            [
             0.5555555555555556,
             "#d8576b"
            ],
            [
             0.6666666666666666,
             "#ed7953"
            ],
            [
             0.7777777777777778,
             "#fb9f3a"
            ],
            [
             0.8888888888888888,
             "#fdca26"
            ],
            [
             1,
             "#f0f921"
            ]
           ],
           "sequentialminus": [
            [
             0,
             "#0d0887"
            ],
            [
             0.1111111111111111,
             "#46039f"
            ],
            [
             0.2222222222222222,
             "#7201a8"
            ],
            [
             0.3333333333333333,
             "#9c179e"
            ],
            [
             0.4444444444444444,
             "#bd3786"
            ],
            [
             0.5555555555555556,
             "#d8576b"
            ],
            [
             0.6666666666666666,
             "#ed7953"
            ],
            [
             0.7777777777777778,
             "#fb9f3a"
            ],
            [
             0.8888888888888888,
             "#fdca26"
            ],
            [
             1,
             "#f0f921"
            ]
           ]
          },
          "colorway": [
           "#636efa",
           "#EF553B",
           "#00cc96",
           "#ab63fa",
           "#FFA15A",
           "#19d3f3",
           "#FF6692",
           "#B6E880",
           "#FF97FF",
           "#FECB52"
          ],
          "font": {
           "color": "#2a3f5f"
          },
          "geo": {
           "bgcolor": "white",
           "lakecolor": "white",
           "landcolor": "#E5ECF6",
           "showlakes": true,
           "showland": true,
           "subunitcolor": "white"
          },
          "hoverlabel": {
           "align": "left"
          },
          "hovermode": "closest",
          "mapbox": {
           "style": "light"
          },
          "paper_bgcolor": "white",
          "plot_bgcolor": "#E5ECF6",
          "polar": {
           "angularaxis": {
            "gridcolor": "white",
            "linecolor": "white",
            "ticks": ""
           },
           "bgcolor": "#E5ECF6",
           "radialaxis": {
            "gridcolor": "white",
            "linecolor": "white",
            "ticks": ""
           }
          },
          "scene": {
           "xaxis": {
            "backgroundcolor": "#E5ECF6",
            "gridcolor": "white",
            "gridwidth": 2,
            "linecolor": "white",
            "showbackground": true,
            "ticks": "",
            "zerolinecolor": "white"
           },
           "yaxis": {
            "backgroundcolor": "#E5ECF6",
            "gridcolor": "white",
            "gridwidth": 2,
            "linecolor": "white",
            "showbackground": true,
            "ticks": "",
            "zerolinecolor": "white"
           },
           "zaxis": {
            "backgroundcolor": "#E5ECF6",
            "gridcolor": "white",
            "gridwidth": 2,
            "linecolor": "white",
            "showbackground": true,
            "ticks": "",
            "zerolinecolor": "white"
           }
          },
          "shapedefaults": {
           "line": {
            "color": "#2a3f5f"
           }
          },
          "ternary": {
           "aaxis": {
            "gridcolor": "white",
            "linecolor": "white",
            "ticks": ""
           },
           "baxis": {
            "gridcolor": "white",
            "linecolor": "white",
            "ticks": ""
           },
           "bgcolor": "#E5ECF6",
           "caxis": {
            "gridcolor": "white",
            "linecolor": "white",
            "ticks": ""
           }
          },
          "title": {
           "x": 0.05
          },
          "xaxis": {
           "automargin": true,
           "gridcolor": "white",
           "linecolor": "white",
           "ticks": "",
           "title": {
            "standoff": 15
           },
           "zerolinecolor": "white",
           "zerolinewidth": 2
          },
          "yaxis": {
           "automargin": true,
           "gridcolor": "white",
           "linecolor": "white",
           "ticks": "",
           "title": {
            "standoff": 15
           },
           "zerolinecolor": "white",
           "zerolinewidth": 2
          }
         }
        }
       }
      },
      "text/html": [
       "<div>                            <div id=\"1ca4a954-e9d7-4e5d-86b7-2c0998c20849\" class=\"plotly-graph-div\" style=\"height:525px; width:100%;\"></div>            <script type=\"text/javascript\">                require([\"plotly\"], function(Plotly) {                    window.PLOTLYENV=window.PLOTLYENV || {};                                    if (document.getElementById(\"1ca4a954-e9d7-4e5d-86b7-2c0998c20849\")) {                    Plotly.newPlot(                        \"1ca4a954-e9d7-4e5d-86b7-2c0998c20849\",                        [{\"hovertemplate\":\"x=%{x}<br>y=%{y}<br>z=%{z}<br>label=%{marker.color}<extra></extra>\",\"legendgroup\":\"\",\"marker\":{\"color\":[0,7,2,6,6,4,0,3,7,0,9,2,7,1,2,5,4,1,2,2,0,2,3,4,4,9,4,2,1,4,3,8,3,2,9,6,7,0,9,6,3,6,2,9,8,7,1,2,0,5,8,9,6,7,0,5,1,3,7,7,7,3,3,3,9,2,6,1,2,9,4,2,4,4,8,0,0,0,8,9,8,9,5,6,9,4,4,9,3,6,0,6,0,0,0,9,5,2,4,4,4,1,7,3,2,2,0,8,1,3,5,7,0,9,6,8,3,1,5,4,4,3,1,9,1,9,5,2],\"coloraxis\":\"coloraxis\",\"symbol\":\"circle\",\"size\":5},\"mode\":\"markers+text\",\"name\":\"\",\"scene\":\"scene\",\"showlegend\":false,\"text\":[0.0,7.0,2.0,6.0,6.0,4.0,0.0,3.0,7.0,0.0,9.0,2.0,7.0,1.0,2.0,5.0,4.0,1.0,2.0,2.0,0.0,2.0,3.0,4.0,4.0,9.0,4.0,2.0,1.0,4.0,3.0,8.0,3.0,2.0,9.0,6.0,7.0,0.0,9.0,6.0,3.0,6.0,2.0,9.0,8.0,7.0,1.0,2.0,0.0,5.0,8.0,9.0,6.0,7.0,0.0,5.0,1.0,3.0,7.0,7.0,7.0,3.0,3.0,3.0,9.0,2.0,6.0,1.0,2.0,9.0,4.0,2.0,4.0,4.0,8.0,0.0,0.0,0.0,8.0,9.0,8.0,9.0,5.0,6.0,9.0,4.0,4.0,9.0,3.0,6.0,0.0,6.0,0.0,0.0,0.0,9.0,5.0,2.0,4.0,4.0,4.0,1.0,7.0,3.0,2.0,2.0,0.0,8.0,1.0,3.0,5.0,7.0,0.0,9.0,6.0,8.0,3.0,1.0,5.0,4.0,4.0,3.0,1.0,9.0,1.0,9.0,5.0,2.0],\"x\":[-0.261100172996521,0.5669518709182739,0.976257860660553,-0.1706305742263794,-0.29758697748184204,-0.41756391525268555,-0.2966512143611908,0.595434308052063,0.584822416305542,-0.26580944657325745,0.00540217524394393,0.6204683780670166,0.5885071158409119,-0.9479990601539612,0.9736567735671997,-0.6613723635673523,-0.4556354880332947,-0.9439840912818909,0.9701226353645325,0.986229658126831,-0.2566315531730652,0.9745276570320129,0.6241039633750916,-0.4418273866176605,-0.5520516633987427,0.26764753460884094,-0.5442507863044739,0.9629389643669128,-0.9486332535743713,-0.4493183493614197,0.5879529118537903,0.058541346341371536,0.8195948600769043,0.9727177619934082,0.28798046708106995,-0.1623784899711609,0.6295742392539978,-0.24663813412189484,0.2890784740447998,-0.15255795419216156,-0.1551777422428131,-0.18766671419143677,0.9234429597854614,0.25167420506477356,0.05261056870222092,0.5970602631568909,-0.9444184303283691,0.9769082069396973,-0.2528863847255707,-0.7273252606391907,0.06086532399058342,0.3150513768196106,-0.11629211902618408,0.5740978717803955,-0.20785731077194214,-0.6912886500358582,-0.9456564784049988,0.6200264096260071,0.6053863167762756,0.6000237464904785,0.5870500802993774,0.614325761795044,0.5608757734298706,0.6103211045265198,0.2785782814025879,0.9716077446937561,-0.12486013770103455,-0.946351945400238,0.9772515296936035,0.2986772358417511,-0.3776859641075134,0.9845094084739685,-0.4911133944988251,0.0034512411803007126,0.09328531473875046,-0.2718569338321686,-0.2475740760564804,-0.2583020329475403,0.018001390621066093,0.3018598258495331,0.044135674834251404,0.3042154610157013,-0.6793373823165894,-0.15463273227214813,0.2621349096298218,-0.46269160509109497,-0.37383198738098145,0.25020545721054077,0.6020650863647461,-0.11240842938423157,-0.24699240922927856,-0.19149072468280792,-0.24836266040802002,-0.25698310136795044,-0.2568517327308655,0.3423016667366028,-0.7286264896392822,0.9740622639656067,-0.38262107968330383,-0.3615027964115143,-0.3867252469062805,-0.9459580183029175,0.5918757915496826,0.6174180507659912,0.9888610243797302,0.9778711199760437,-0.2596166431903839,0.07631006091833115,-0.9466676115989685,0.5891798138618469,-0.7209488749504089,0.6376873850822449,-0.2704220712184906,0.3101799488067627,-0.5389454960823059,0.10961557179689407,0.6276035904884338,-0.9468407034873962,-0.7171511054039001,-0.41935136914253235,-0.4166577458381653,0.497905969619751,-0.941339910030365,0.26421019434928894,-0.9467884302139282,-0.4451417624950409,-0.7021710872650146,0.9768401384353638],\"y\":[-0.9226154685020447,-0.7972034811973572,0.1298462152481079,-0.14169543981552124,-0.3156644403934479,-0.5349562764167786,-0.9101321697235107,0.3653509318828583,-0.791965126991272,-0.923026442527771,0.17940975725650787,-0.7282692790031433,-0.7604250311851501,-0.06424088776111603,0.09880926460027695,0.522148847579956,-0.5280948877334595,-0.10102037340402603,0.16645365953445435,0.05456556752324104,-0.929153561592102,0.13193663954734802,0.3322163224220276,-0.5030043721199036,-0.4455549716949463,0.23087608814239502,-0.5941164493560791,0.13545329868793488,-0.05702204629778862,-0.5171053409576416,0.4335995316505432,0.9861198663711548,0.1325082778930664,0.14920730888843536,0.3581230342388153,-0.10540518164634705,-0.7392380833625793,-0.9246369004249573,0.23779717087745667,-0.19288891553878784,0.5717625617980957,-0.16395749151706696,-0.36999061703681946,0.21924610435962677,0.9849517345428467,-0.769745409488678,-0.09755587577819824,0.10651931911706924,-0.9267702698707581,0.5318872928619385,0.9852995276451111,0.30022597312927246,-0.2088014930486679,-0.7970949411392212,-0.9288403987884521,0.527372419834137,-0.08711563795804977,0.3476865589618683,-0.7696207761764526,-0.7771329879760742,-0.7967300415039062,0.3608839809894562,0.33270153403282166,0.34148064255714417,0.19228877127170563,0.14500902593135834,-0.17141740024089813,-0.08081933110952377,0.1378193348646164,0.3175116777420044,-0.5586784482002258,-0.012858637608587742,-0.5122261643409729,-0.7882647514343262,0.9909549951553345,-0.9197997450828552,-0.9251543879508972,-0.9307488799095154,0.9903260469436646,0.22960543632507324,0.9855918884277344,0.22344037890434265,0.5254282355308533,-0.07374213635921478,0.1930931657552719,-0.5523039102554321,-0.5628255605697632,0.2486284375190735,0.42517539858818054,-0.20741772651672363,-0.9259063005447388,-0.12870196998119354,-0.9236811399459839,-0.925247073173523,-0.9221910238265991,0.09548424184322357,0.5320071578025818,0.13131505250930786,-0.5853404402732849,-0.5548280477523804,-0.5438637733459473,-0.08442843705415726,-0.768123984336853,0.3519328832626343,0.0446510836482048,0.09381899982690811,-0.9267051815986633,0.9865118861198425,-0.07783900201320648,0.3942127525806427,0.5312526226043701,-0.7235490083694458,-0.9215403199195862,0.2717280685901642,-0.0658550038933754,0.9812164902687073,0.35334712266921997,-0.07617006450891495,0.5308386087417603,-0.34730613231658936,-0.5263735055923462,0.49985289573669434,-0.12039024382829666,0.17622607946395874,-0.07667629420757294,0.4233848750591278,0.5289615988731384,0.12556388974189758],\"z\":[-0.28391435742378235,0.2074422389268875,0.17337992787361145,-0.9750936031341553,-0.9009982943534851,0.7344809770584106,-0.2892357409000397,-0.7155255079269409,0.17542482912540436,-0.2781502306461334,0.9837596416473389,-0.29093456268310547,0.2746144235134125,-0.31172245740890503,0.20549724996089935,0.5384674072265625,0.7165975570678711,-0.3141477108001709,0.17650827765464783,0.15612077713012695,-0.2661089599132538,0.18135173618793488,-0.7071962356567383,0.7428156733512878,0.7047833800315857,0.9354469180107117,0.5922977328300476,0.2332398146390915,-0.311196893453598,0.7285019755363464,-0.682863712310791,-0.15537235140800476,-0.557409942150116,0.1776440441608429,0.8881527185440063,-0.981082558631897,0.2390885353088379,-0.290200412273407,0.9273004531860352,-0.9692883491516113,-0.8056100606918335,-0.968451976776123,-0.10178416967391968,0.9426511526107788,-0.16462764143943787,0.22585636377334595,-0.31393733620643616,0.1852138191461563,-0.27775025367736816,0.4336978495121002,-0.15962551534175873,0.9003371000289917,-0.9710190892219543,0.1872197389602661,-0.30667704343795776,0.49396181106567383,-0.3132805824279785,-0.7033358812332153,0.20295612514019012,0.18983094394207,0.14350399374961853,-0.7016884088516235,-0.7581081390380859,-0.7147720456123352,0.9409671425819397,0.18695105612277985,-0.9772543907165527,-0.31286799907684326,0.16119982302188873,0.8999879360198975,0.7383981347084045,0.17485986649990082,0.70457923412323,0.6153265237808228,-0.09646797180175781,-0.28295281529426575,-0.28774356842041016,-0.2588176429271698,-0.13758733868598938,0.9252902269363403,-0.16328060626983643,0.9260277152061462,0.5122751593589783,-0.9852161407470703,0.9455158710479736,0.6934528350830078,0.7372089624404907,0.9357249140739441,-0.6758279800415039,-0.9717727303504944,-0.285818487405777,-0.973019540309906,-0.2917688190937042,-0.27906540036201477,-0.2891208827495575,0.9347257614135742,0.4313603937625885,0.18427971005439758,0.7148269414901733,0.7493207454681396,0.7447521686553955,-0.3131060004234314,0.24427153170108795,-0.7035184502601624,0.14198629558086395,0.18699246644973755,-0.27169233560562134,-0.1448138803243637,-0.3126683533191681,-0.7053108811378479,0.4449755847454071,0.26425647735595703,-0.2786311209201813,0.9110171794891357,-0.8397623300552368,-0.15874098241329193,-0.6937286853790283,-0.31255537271499634,0.45155805349349976,0.8387627601623535,0.7411661744117737,-0.7086867094039917,-0.3152543902397156,0.9482284784317017,-0.31258973479270935,0.7890463471412659,0.4766082763671875,0.17325378954410553],\"type\":\"scatter3d\"}],                        {\"template\":{\"data\":{\"histogram2dcontour\":[{\"type\":\"histogram2dcontour\",\"colorbar\":{\"outlinewidth\":0,\"ticks\":\"\"},\"colorscale\":[[0.0,\"#0d0887\"],[0.1111111111111111,\"#46039f\"],[0.2222222222222222,\"#7201a8\"],[0.3333333333333333,\"#9c179e\"],[0.4444444444444444,\"#bd3786\"],[0.5555555555555556,\"#d8576b\"],[0.6666666666666666,\"#ed7953\"],[0.7777777777777778,\"#fb9f3a\"],[0.8888888888888888,\"#fdca26\"],[1.0,\"#f0f921\"]]}],\"choropleth\":[{\"type\":\"choropleth\",\"colorbar\":{\"outlinewidth\":0,\"ticks\":\"\"}}],\"histogram2d\":[{\"type\":\"histogram2d\",\"colorbar\":{\"outlinewidth\":0,\"ticks\":\"\"},\"colorscale\":[[0.0,\"#0d0887\"],[0.1111111111111111,\"#46039f\"],[0.2222222222222222,\"#7201a8\"],[0.3333333333333333,\"#9c179e\"],[0.4444444444444444,\"#bd3786\"],[0.5555555555555556,\"#d8576b\"],[0.6666666666666666,\"#ed7953\"],[0.7777777777777778,\"#fb9f3a\"],[0.8888888888888888,\"#fdca26\"],[1.0,\"#f0f921\"]]}],\"heatmap\":[{\"type\":\"heatmap\",\"colorbar\":{\"outlinewidth\":0,\"ticks\":\"\"},\"colorscale\":[[0.0,\"#0d0887\"],[0.1111111111111111,\"#46039f\"],[0.2222222222222222,\"#7201a8\"],[0.3333333333333333,\"#9c179e\"],[0.4444444444444444,\"#bd3786\"],[0.5555555555555556,\"#d8576b\"],[0.6666666666666666,\"#ed7953\"],[0.7777777777777778,\"#fb9f3a\"],[0.8888888888888888,\"#fdca26\"],[1.0,\"#f0f921\"]]}],\"heatmapgl\":[{\"type\":\"heatmapgl\",\"colorbar\":{\"outlinewidth\":0,\"ticks\":\"\"},\"colorscale\":[[0.0,\"#0d0887\"],[0.1111111111111111,\"#46039f\"],[0.2222222222222222,\"#7201a8\"],[0.3333333333333333,\"#9c179e\"],[0.4444444444444444,\"#bd3786\"],[0.5555555555555556,\"#d8576b\"],[0.6666666666666666,\"#ed7953\"],[0.7777777777777778,\"#fb9f3a\"],[0.8888888888888888,\"#fdca26\"],[1.0,\"#f0f921\"]]}],\"contourcarpet\":[{\"type\":\"contourcarpet\",\"colorbar\":{\"outlinewidth\":0,\"ticks\":\"\"}}],\"contour\":[{\"type\":\"contour\",\"colorbar\":{\"outlinewidth\":0,\"ticks\":\"\"},\"colorscale\":[[0.0,\"#0d0887\"],[0.1111111111111111,\"#46039f\"],[0.2222222222222222,\"#7201a8\"],[0.3333333333333333,\"#9c179e\"],[0.4444444444444444,\"#bd3786\"],[0.5555555555555556,\"#d8576b\"],[0.6666666666666666,\"#ed7953\"],[0.7777777777777778,\"#fb9f3a\"],[0.8888888888888888,\"#fdca26\"],[1.0,\"#f0f921\"]]}],\"surface\":[{\"type\":\"surface\",\"colorbar\":{\"outlinewidth\":0,\"ticks\":\"\"},\"colorscale\":[[0.0,\"#0d0887\"],[0.1111111111111111,\"#46039f\"],[0.2222222222222222,\"#7201a8\"],[0.3333333333333333,\"#9c179e\"],[0.4444444444444444,\"#bd3786\"],[0.5555555555555556,\"#d8576b\"],[0.6666666666666666,\"#ed7953\"],[0.7777777777777778,\"#fb9f3a\"],[0.8888888888888888,\"#fdca26\"],[1.0,\"#f0f921\"]]}],\"mesh3d\":[{\"type\":\"mesh3d\",\"colorbar\":{\"outlinewidth\":0,\"ticks\":\"\"}}],\"scatter\":[{\"fillpattern\":{\"fillmode\":\"overlay\",\"size\":10,\"solidity\":0.2},\"type\":\"scatter\"}],\"parcoords\":[{\"type\":\"parcoords\",\"line\":{\"colorbar\":{\"outlinewidth\":0,\"ticks\":\"\"}}}],\"scatterpolargl\":[{\"type\":\"scatterpolargl\",\"marker\":{\"colorbar\":{\"outlinewidth\":0,\"ticks\":\"\"}}}],\"bar\":[{\"error_x\":{\"color\":\"#2a3f5f\"},\"error_y\":{\"color\":\"#2a3f5f\"},\"marker\":{\"line\":{\"color\":\"#E5ECF6\",\"width\":0.5},\"pattern\":{\"fillmode\":\"overlay\",\"size\":10,\"solidity\":0.2}},\"type\":\"bar\"}],\"scattergeo\":[{\"type\":\"scattergeo\",\"marker\":{\"colorbar\":{\"outlinewidth\":0,\"ticks\":\"\"}}}],\"scatterpolar\":[{\"type\":\"scatterpolar\",\"marker\":{\"colorbar\":{\"outlinewidth\":0,\"ticks\":\"\"}}}],\"histogram\":[{\"marker\":{\"pattern\":{\"fillmode\":\"overlay\",\"size\":10,\"solidity\":0.2}},\"type\":\"histogram\"}],\"scattergl\":[{\"type\":\"scattergl\",\"marker\":{\"colorbar\":{\"outlinewidth\":0,\"ticks\":\"\"}}}],\"scatter3d\":[{\"type\":\"scatter3d\",\"line\":{\"colorbar\":{\"outlinewidth\":0,\"ticks\":\"\"}},\"marker\":{\"colorbar\":{\"outlinewidth\":0,\"ticks\":\"\"}}}],\"scattermapbox\":[{\"type\":\"scattermapbox\",\"marker\":{\"colorbar\":{\"outlinewidth\":0,\"ticks\":\"\"}}}],\"scatterternary\":[{\"type\":\"scatterternary\",\"marker\":{\"colorbar\":{\"outlinewidth\":0,\"ticks\":\"\"}}}],\"scattercarpet\":[{\"type\":\"scattercarpet\",\"marker\":{\"colorbar\":{\"outlinewidth\":0,\"ticks\":\"\"}}}],\"carpet\":[{\"aaxis\":{\"endlinecolor\":\"#2a3f5f\",\"gridcolor\":\"white\",\"linecolor\":\"white\",\"minorgridcolor\":\"white\",\"startlinecolor\":\"#2a3f5f\"},\"baxis\":{\"endlinecolor\":\"#2a3f5f\",\"gridcolor\":\"white\",\"linecolor\":\"white\",\"minorgridcolor\":\"white\",\"startlinecolor\":\"#2a3f5f\"},\"type\":\"carpet\"}],\"table\":[{\"cells\":{\"fill\":{\"color\":\"#EBF0F8\"},\"line\":{\"color\":\"white\"}},\"header\":{\"fill\":{\"color\":\"#C8D4E3\"},\"line\":{\"color\":\"white\"}},\"type\":\"table\"}],\"barpolar\":[{\"marker\":{\"line\":{\"color\":\"#E5ECF6\",\"width\":0.5},\"pattern\":{\"fillmode\":\"overlay\",\"size\":10,\"solidity\":0.2}},\"type\":\"barpolar\"}],\"pie\":[{\"automargin\":true,\"type\":\"pie\"}]},\"layout\":{\"autotypenumbers\":\"strict\",\"colorway\":[\"#636efa\",\"#EF553B\",\"#00cc96\",\"#ab63fa\",\"#FFA15A\",\"#19d3f3\",\"#FF6692\",\"#B6E880\",\"#FF97FF\",\"#FECB52\"],\"font\":{\"color\":\"#2a3f5f\"},\"hovermode\":\"closest\",\"hoverlabel\":{\"align\":\"left\"},\"paper_bgcolor\":\"white\",\"plot_bgcolor\":\"#E5ECF6\",\"polar\":{\"bgcolor\":\"#E5ECF6\",\"angularaxis\":{\"gridcolor\":\"white\",\"linecolor\":\"white\",\"ticks\":\"\"},\"radialaxis\":{\"gridcolor\":\"white\",\"linecolor\":\"white\",\"ticks\":\"\"}},\"ternary\":{\"bgcolor\":\"#E5ECF6\",\"aaxis\":{\"gridcolor\":\"white\",\"linecolor\":\"white\",\"ticks\":\"\"},\"baxis\":{\"gridcolor\":\"white\",\"linecolor\":\"white\",\"ticks\":\"\"},\"caxis\":{\"gridcolor\":\"white\",\"linecolor\":\"white\",\"ticks\":\"\"}},\"coloraxis\":{\"colorbar\":{\"outlinewidth\":0,\"ticks\":\"\"}},\"colorscale\":{\"sequential\":[[0.0,\"#0d0887\"],[0.1111111111111111,\"#46039f\"],[0.2222222222222222,\"#7201a8\"],[0.3333333333333333,\"#9c179e\"],[0.4444444444444444,\"#bd3786\"],[0.5555555555555556,\"#d8576b\"],[0.6666666666666666,\"#ed7953\"],[0.7777777777777778,\"#fb9f3a\"],[0.8888888888888888,\"#fdca26\"],[1.0,\"#f0f921\"]],\"sequentialminus\":[[0.0,\"#0d0887\"],[0.1111111111111111,\"#46039f\"],[0.2222222222222222,\"#7201a8\"],[0.3333333333333333,\"#9c179e\"],[0.4444444444444444,\"#bd3786\"],[0.5555555555555556,\"#d8576b\"],[0.6666666666666666,\"#ed7953\"],[0.7777777777777778,\"#fb9f3a\"],[0.8888888888888888,\"#fdca26\"],[1.0,\"#f0f921\"]],\"diverging\":[[0,\"#8e0152\"],[0.1,\"#c51b7d\"],[0.2,\"#de77ae\"],[0.3,\"#f1b6da\"],[0.4,\"#fde0ef\"],[0.5,\"#f7f7f7\"],[0.6,\"#e6f5d0\"],[0.7,\"#b8e186\"],[0.8,\"#7fbc41\"],[0.9,\"#4d9221\"],[1,\"#276419\"]]},\"xaxis\":{\"gridcolor\":\"white\",\"linecolor\":\"white\",\"ticks\":\"\",\"title\":{\"standoff\":15},\"zerolinecolor\":\"white\",\"automargin\":true,\"zerolinewidth\":2},\"yaxis\":{\"gridcolor\":\"white\",\"linecolor\":\"white\",\"ticks\":\"\",\"title\":{\"standoff\":15},\"zerolinecolor\":\"white\",\"automargin\":true,\"zerolinewidth\":2},\"scene\":{\"xaxis\":{\"backgroundcolor\":\"#E5ECF6\",\"gridcolor\":\"white\",\"linecolor\":\"white\",\"showbackground\":true,\"ticks\":\"\",\"zerolinecolor\":\"white\",\"gridwidth\":2},\"yaxis\":{\"backgroundcolor\":\"#E5ECF6\",\"gridcolor\":\"white\",\"linecolor\":\"white\",\"showbackground\":true,\"ticks\":\"\",\"zerolinecolor\":\"white\",\"gridwidth\":2},\"zaxis\":{\"backgroundcolor\":\"#E5ECF6\",\"gridcolor\":\"white\",\"linecolor\":\"white\",\"showbackground\":true,\"ticks\":\"\",\"zerolinecolor\":\"white\",\"gridwidth\":2}},\"shapedefaults\":{\"line\":{\"color\":\"#2a3f5f\"}},\"annotationdefaults\":{\"arrowcolor\":\"#2a3f5f\",\"arrowhead\":0,\"arrowwidth\":1},\"geo\":{\"bgcolor\":\"white\",\"landcolor\":\"#E5ECF6\",\"subunitcolor\":\"white\",\"showland\":true,\"showlakes\":true,\"lakecolor\":\"white\"},\"title\":{\"x\":0.05},\"mapbox\":{\"style\":\"light\"}}},\"scene\":{\"domain\":{\"x\":[0.0,1.0],\"y\":[0.0,1.0]},\"xaxis\":{\"title\":{\"text\":\"x\"}},\"yaxis\":{\"title\":{\"text\":\"y\"}},\"zaxis\":{\"title\":{\"text\":\"z\"}}},\"coloraxis\":{\"colorbar\":{\"title\":{\"text\":\"label\"}},\"colorscale\":[[0.0,\"#0d0887\"],[0.1111111111111111,\"#46039f\"],[0.2222222222222222,\"#7201a8\"],[0.3333333333333333,\"#9c179e\"],[0.4444444444444444,\"#bd3786\"],[0.5555555555555556,\"#d8576b\"],[0.6666666666666666,\"#ed7953\"],[0.7777777777777778,\"#fb9f3a\"],[0.8888888888888888,\"#fdca26\"],[1.0,\"#f0f921\"]]},\"legend\":{\"tracegroupgap\":0},\"margin\":{\"t\":60}},                        {\"responsive\": true}                    ).then(function(){\n",
       "                            \n",
       "var gd = document.getElementById('1ca4a954-e9d7-4e5d-86b7-2c0998c20849');\n",
       "var x = new MutationObserver(function (mutations, observer) {{\n",
       "        var display = window.getComputedStyle(gd).display;\n",
       "        if (!display || display === 'none') {{\n",
       "            console.log([gd, 'removed!']);\n",
       "            Plotly.purge(gd);\n",
       "            observer.disconnect();\n",
       "        }}\n",
       "}});\n",
       "\n",
       "// Listen for the removal of the full notebook cells\n",
       "var notebookContainer = gd.closest('#notebook-container');\n",
       "if (notebookContainer) {{\n",
       "    x.observe(notebookContainer, {childList: true});\n",
       "}}\n",
       "\n",
       "// Listen for the clearing of the current output cell\n",
       "var outputEl = gd.closest('.output');\n",
       "if (outputEl) {{\n",
       "    x.observe(outputEl, {childList: true});\n",
       "}}\n",
       "\n",
       "                        })                };                });            </script>        </div>"
      ]
     },
     "metadata": {},
     "output_type": "display_data"
    }
   ],
   "source": [
    "df = pd.DataFrame({'x': embeds[:, 0], \n",
    "                   'y': embeds[:, 1], \n",
    "                   'z': embeds[:, 2], \n",
    "                   'label': batch_labels.numpy()})\n",
    "\n",
    "fig = px.scatter_3d(df, x='x', y='y', z='z',\n",
    "                      color='label', text='label')\n",
    "fig.update_traces(marker_size = 5)\n",
    "fig.show()"
   ]
  },
  {
   "cell_type": "markdown",
   "id": "e81ca6fe",
   "metadata": {},
   "source": [
    "## Write Modified Embeddings through Plotly"
   ]
  },
  {
   "cell_type": "code",
   "execution_count": 108,
   "id": "e223c3ae",
   "metadata": {
    "scrolled": false
   },
   "outputs": [],
   "source": [
    "batch_images, batch_labels = next(iter(data_loader))\n",
    "\n",
    "embeds = deep_features.generate_embeddings(batch_images.to(device), normalize=True)\n",
    "embeds = embeds.detach().numpy()\n",
    "\n",
    "# new_embeds, new_labels = remove_outliers(embeds, batch_labels)"
   ]
  },
  {
   "cell_type": "code",
   "execution_count": 109,
   "id": "8b609821",
   "metadata": {},
   "outputs": [],
   "source": [
    "def project_to_2D_unit_circle(embeds):\n",
    "    \n",
    "    # Find the normal vector of the plane\n",
    "    u, s, vh = np.linalg.svd(embeds)\n",
    "    normal = vh[-1]    # the last eigenvector is the one that doesn't vary, i.e. \n",
    "                       # normal to the plane where the points lie \n",
    "\n",
    "    # Project the points onto the plane\n",
    "    points_proj = embeds - (embeds @ np.outer(normal, normal))  # embeds minus projection of embeds onto normal\n",
    "                                                                # would give us embeds that lie on the 2D plane,\n",
    "                                                                # which is perpendicular to the normal \n",
    "\n",
    "    # normalize to unit circle \n",
    "    points_norm = np.linalg.norm(points_proj, axis=1)\n",
    "    points_proj /= points_norm[:, np.newaxis]         # using broadcasting to normalize \n",
    "    \n",
    "    return points_proj"
   ]
  },
  {
   "cell_type": "code",
   "execution_count": 110,
   "id": "32fe4454",
   "metadata": {},
   "outputs": [
    {
     "data": {
      "application/vnd.plotly.v1+json": {
       "config": {
        "plotlyServerURL": "https://plot.ly"
       },
       "data": [
        {
         "hovertemplate": "x=%{x}<br>y=%{y}<br>z=%{z}<br>label=%{marker.color}<extra></extra>",
         "legendgroup": "",
         "marker": {
          "color": [
           8,
           1,
           2,
           9,
           0,
           0,
           2,
           4,
           3,
           0,
           8,
           3,
           0,
           2,
           8,
           2,
           7,
           9,
           1,
           2,
           9,
           9,
           7,
           7,
           8,
           7,
           0,
           8,
           4,
           4,
           1,
           1,
           6,
           7,
           6,
           2,
           8,
           8,
           0,
           0,
           8,
           6,
           1,
           1,
           2,
           9,
           6,
           4,
           8,
           2,
           7,
           1,
           6,
           8,
           7,
           3,
           5,
           9,
           6,
           0,
           2,
           5,
           2,
           4,
           2,
           1,
           1,
           0,
           3,
           9,
           7,
           3,
           6,
           3,
           3,
           4,
           1,
           6,
           3,
           0,
           4,
           6,
           7,
           9,
           8,
           6,
           7,
           2,
           9,
           6,
           7,
           5,
           3,
           1,
           6,
           1,
           0,
           4,
           5,
           2,
           4,
           0,
           3,
           4,
           4,
           8,
           0,
           2,
           9,
           6,
           9,
           3,
           1,
           6,
           2,
           3,
           1,
           9,
           9,
           1,
           7,
           0,
           8,
           9,
           2,
           9,
           4,
           2
          ],
          "coloraxis": "coloraxis",
          "size": 5,
          "symbol": "circle"
         },
         "mode": "markers+text",
         "name": "",
         "scene": "scene",
         "showlegend": false,
         "text": [
          8,
          1,
          2,
          9,
          0,
          0,
          2,
          4,
          3,
          0,
          8,
          3,
          0,
          2,
          8,
          2,
          7,
          9,
          1,
          2,
          9,
          9,
          7,
          7,
          8,
          7,
          0,
          8,
          4,
          4,
          1,
          1,
          6,
          7,
          6,
          2,
          8,
          8,
          0,
          0,
          8,
          6,
          1,
          1,
          2,
          9,
          6,
          4,
          8,
          2,
          7,
          1,
          6,
          8,
          7,
          3,
          5,
          9,
          6,
          0,
          2,
          5,
          2,
          4,
          2,
          1,
          1,
          0,
          3,
          9,
          7,
          3,
          6,
          3,
          3,
          4,
          1,
          6,
          3,
          0,
          4,
          6,
          7,
          9,
          8,
          6,
          7,
          2,
          9,
          6,
          7,
          5,
          3,
          1,
          6,
          1,
          0,
          4,
          5,
          2,
          4,
          0,
          3,
          4,
          4,
          8,
          0,
          2,
          9,
          6,
          9,
          3,
          1,
          6,
          2,
          3,
          1,
          9,
          9,
          1,
          7,
          0,
          8,
          9,
          2,
          9,
          4,
          2
         ],
         "type": "scatter3d",
         "x": [
          -0.27637621760368347,
          -0.7585501670837402,
          0.7596100568771362,
          0.574517011642456,
          -0.06051117181777954,
          -0.020677320659160614,
          0.7616360187530518,
          0.6232137084007263,
          -0.2978624105453491,
          -0.08067627996206284,
          -0.21446754038333893,
          -0.5965065956115723,
          -0.04089905694127083,
          0.7659452557563782,
          -0.29326415061950684,
          0.757196843624115,
          0.6487370729446411,
          0.5123149752616882,
          -0.7627615332603455,
          0.7594151496887207,
          0.668370246887207,
          0.5473831295967102,
          0.6456730961799622,
          0.6321196556091309,
          -0.3109482228755951,
          0.6511262059211731,
          -0.0597909651696682,
          -0.3382333517074585,
          0.6674978733062744,
          0.6625874042510986,
          -0.7649100422859192,
          -0.7658253908157349,
          -0.5735387206077576,
          0.6545577645301819,
          -0.49185702204704285,
          0.7571824789047241,
          -0.25936925411224365,
          -0.2480558454990387,
          -0.075372114777565,
          -0.012466450221836567,
          -0.2801126539707184,
          -0.5844244360923767,
          -0.7655360102653503,
          -0.7508152723312378,
          0.7738567590713501,
          0.716950535774231,
          -0.6176305413246155,
          0.7818061709403992,
          -0.3229046165943146,
          0.7608378529548645,
          0.6425831913948059,
          -0.7664575576782227,
          -0.6337345838546753,
          -0.5549389123916626,
          0.5714913606643677,
          0.6964921951293945,
          -0.40783461928367615,
          0.6299448609352112,
          -0.5220606923103333,
          -0.07361188530921936,
          0.7593267560005188,
          -0.41286689043045044,
          0.7596135139465332,
          0.6301359534263611,
          0.7709329128265381,
          -0.7059842944145203,
          -0.7630329132080078,
          -0.0645667240023613,
          -0.015189501456916332,
          0.5600515007972717,
          0.6137909889221191,
          0.3539440631866455,
          -0.5526518821716309,
          0.7504454255104065,
          0.7818344831466675,
          0.6366429328918457,
          -0.7557306289672852,
          -0.5350755453109741,
          -0.508305549621582,
          -0.05857004597783089,
          0.650326132774353,
          -0.5266084671020508,
          0.6545506119728088,
          0.5378727316856384,
          -0.26990416646003723,
          -0.5290690660476685,
          0.6596807241439819,
          0.7637290954589844,
          0.539445698261261,
          -0.6170129179954529,
          0.6661525964736938,
          -0.4293161928653717,
          0.4091896712779999,
          -0.756794273853302,
          -0.5666009783744812,
          -0.7531798481941223,
          -0.0726742222905159,
          0.6735532879829407,
          -0.4202433228492737,
          0.7785089612007141,
          0.5725899934768677,
          -0.06727105379104614,
          -0.7704405784606934,
          0.6533580422401428,
          0.5499123930931091,
          -0.3080909252166748,
          -0.06164586916565895,
          0.7598118185997009,
          0.614631712436676,
          -0.5236517786979675,
          0.5582990050315857,
          0.2170083373785019,
          -0.6155731081962585,
          -0.5704876780509949,
          0.756956934928894,
          -0.4922115206718445,
          -0.7555157542228699,
          0.510569155216217,
          0.5840239524841309,
          -0.7523742318153381,
          0.6098721623420715,
          -0.07225114107131958,
          -0.259482741355896,
          0.5534067153930664,
          0.7579922676086426,
          0.5475919842720032,
          0.6213319301605225,
          0.7576003074645996
         ],
         "y": [
          0.9253161549568176,
          0.0630335882306099,
          -0.06793172657489777,
          0.37873122096061707,
          -0.8507527709007263,
          -0.8682002425193787,
          -0.07757788896560669,
          -0.7697317600250244,
          0.9240553975105286,
          -0.8410534262657166,
          0.924553632736206,
          0.7964103817939758,
          -0.8596262335777283,
          -0.0995456725358963,
          0.9243939518928528,
          -0.518812894821167,
          -0.7400001287460327,
          0.46919870376586914,
          0.08311176300048828,
          -0.06702370941638947,
          0.20544825494289398,
          0.4200160503387451,
          -0.7438202500343323,
          -0.7598751187324524,
          0.9228830933570862,
          -0.736969530582428,
          -0.8510884046554565,
          0.919417679309845,
          -0.7148840427398682,
          -0.7217621207237244,
          0.09406544268131256,
          0.09890393167734146,
          -0.38027435541152954,
          -0.7325348854064941,
          -0.4959876239299774,
          -0.0568510927259922,
          0.9257447719573975,
          0.9257581233978271,
          -0.8436615467071533,
          -0.8715153932571411,
          0.9251552224159241,
          -0.3628579080104828,
          0.09736239910125732,
          0.029834887012839317,
          -0.14742416143417358,
          0.08421511948108673,
          -0.30604222416877747,
          -0.21894146502017975,
          0.9215369820594788,
          -0.07373128086328506,
          -0.7475990653038025,
          0.10231051594018936,
          -0.2761763036251068,
          0.8307672142982483,
          -0.8180181980133057,
          -0.6689343452453613,
          0.9038367867469788,
          0.28335726261138916,
          -0.4559626877307892,
          -0.8445180058479309,
          -0.06661281734704971,
          0.9023044109344482,
          -0.06794775277376175,
          -0.7621159553527832,
          -0.12824499607086182,
          -0.114674411714077,
          0.08446642011404037,
          -0.8488490581512451,
          0.8819758892059326,
          0.4011213183403015,
          -0.7796139717102051,
          -0.9167732000350952,
          -0.4122355878353119,
          -0.5422510504722595,
          -0.37515556812286377,
          -0.7546641230583191,
          0.0504470132291317,
          -0.4377780556678772,
          -0.47455307841300964,
          -0.8516556024551392,
          -0.737989604473114,
          -0.4496760964393616,
          -0.7325441837310791,
          0.43379074335098267,
          0.9255377054214478,
          -0.44624456763267517,
          -0.7257277965545654,
          -0.087978795170784,
          0.431535929441452,
          -0.307155042886734,
          -0.7167912721633911,
          0.8968824744224548,
          0.5923060178756714,
          0.055123310536146164,
          -0.39109542965888977,
          0.03955772891640663,
          -0.844972550868988,
          -0.7060766220092773,
          0.8999521732330322,
          -0.18398253619670868,
          -0.8171305060386658,
          -0.8475664854049683,
          0.46058493852615356,
          -0.7340964674949646,
          -0.8344157934188843,
          0.9231656193733215,
          -0.8502225279808044,
          -0.06887536495923996,
          0.31142401695251465,
          -0.4537714123725891,
          0.4037737548351288,
          -0.9247086644172668,
          -0.3097403645515442,
          -0.3850592374801636,
          -0.055845957249403,
          0.8697832822799683,
          0.04951256141066551,
          0.47153663635253906,
          0.3635084927082062,
          0.036207035183906555,
          -0.7835680246353149,
          -0.8451771140098572,
          0.925743579864502,
          0.411111980676651,
          -0.060493577271699905,
          0.4197096526622772,
          -0.7717488408088684,
          -0.05872388556599617
         ],
         "z": [
          0.25962701439857483,
          -0.6485587358474731,
          0.6468213200569153,
          0.7255982756614685,
          -0.5220710039138794,
          -0.4957829415798187,
          0.643344521522522,
          0.1382669359445572,
          0.23958219587802887,
          -0.5349023342132568,
          0.3149670958518982,
          -0.09955023974180222,
          -0.509283721446991,
          0.6351523399353027,
          0.24390976130962372,
          0.3968452513217926,
          0.17759542167186737,
          0.7192954421043396,
          -0.6413168907165527,
          0.6471447944641113,
          0.7148931622505188,
          0.7238495945930481,
          0.172736257314682,
          0.15170541405677795,
          0.22715197503566742,
          0.18141280114650726,
          -0.5216067433357239,
          0.2006724774837494,
          0.2082962989807129,
          0.20009344816207886,
          -0.6372318267822266,
          -0.6353970766067505,
          -0.7255651950836182,
          0.1869407445192337,
          -0.7155926823616028,
          0.6507247686386108,
          0.2751801908016205,
          0.28537717461586,
          -0.5315583348274231,
          -0.4902096688747406,
          0.2561732828617096,
          -0.7257976531982422,
          -0.6359836459159851,
          -0.659838080406189,
          0.6159641742706299,
          0.6920186281204224,
          -0.724479615688324,
          0.583818256855011,
          0.21564336121082306,
          0.6447397470474243,
          0.16787642240524292,
          -0.6340941786766052,
          -0.7225698232650757,
          -0.04322916269302368,
          0.06514424830675125,
          0.2596642076969147,
          0.12942172586917877,
          0.7231031060218811,
          -0.7207986116409302,
          -0.5304437279701233,
          0.6472910046577454,
          0.12404706329107285,
          0.6468155980110168,
          0.14868710935115814,
          0.6238715052604675,
          -0.698881983757019,
          -0.6408167481422424,
          -0.5246773362159729,
          0.4710497260093689,
          0.7248750925064087,
          0.124348945915699,
          -0.18506908416748047,
          -0.72431880235672,
          0.3778828978538513,
          0.4979890286922455,
          0.15864329040050507,
          -0.6529366970062256,
          -0.722526490688324,
          -0.7186270952224731,
          -0.520818829536438,
          0.18013149499893188,
          -0.7214395403862,
          0.18692918121814728,
          0.7228543758392334,
          0.26557794213294983,
          -0.7217698097229004,
          0.1952960193157196,
          0.6395134925842285,
          0.7230318784713745,
          -0.7245349287986755,
          0.2060365080833435,
          0.10625188797712326,
          0.6940730810165405,
          -0.6513246893882751,
          -0.7252638936042786,
          -0.6566241383552551,
          -0.5298489332199097,
          0.21859076619148254,
          0.1161106526851654,
          0.6000618934631348,
          0.06662148237228394,
          -0.5264081954956055,
          -0.44077521562576294,
          0.18500198423862457,
          0.03669670224189758,
          0.229880690574646,
          -0.5228015184402466,
          0.6464844346046448,
          0.7247364521026611,
          -0.7210273146629333,
          0.7247544527053833,
          -0.3127639591693878,
          -0.7246590256690979,
          -0.7254469394683838,
          0.6510740518569946,
          0.03471044450998306,
          -0.6532568335533142,
          0.7190079092979431,
          0.7257944941520691,
          -0.6577401161193848,
          0.11864630877971649,
          -0.5295803546905518,
          0.27507737278938293,
          0.724381148815155,
          0.649452269077301,
          0.7238693237304688,
          0.13546347618103027,
          0.6500717401504517
         ]
        }
       ],
       "layout": {
        "coloraxis": {
         "colorbar": {
          "title": {
           "text": "label"
          }
         },
         "colorscale": [
          [
           0,
           "#0d0887"
          ],
          [
           0.1111111111111111,
           "#46039f"
          ],
          [
           0.2222222222222222,
           "#7201a8"
          ],
          [
           0.3333333333333333,
           "#9c179e"
          ],
          [
           0.4444444444444444,
           "#bd3786"
          ],
          [
           0.5555555555555556,
           "#d8576b"
          ],
          [
           0.6666666666666666,
           "#ed7953"
          ],
          [
           0.7777777777777778,
           "#fb9f3a"
          ],
          [
           0.8888888888888888,
           "#fdca26"
          ],
          [
           1,
           "#f0f921"
          ]
         ]
        },
        "legend": {
         "tracegroupgap": 0
        },
        "margin": {
         "t": 60
        },
        "scene": {
         "domain": {
          "x": [
           0,
           1
          ],
          "y": [
           0,
           1
          ]
         },
         "xaxis": {
          "title": {
           "text": "x"
          }
         },
         "yaxis": {
          "title": {
           "text": "y"
          }
         },
         "zaxis": {
          "title": {
           "text": "z"
          }
         }
        },
        "template": {
         "data": {
          "bar": [
           {
            "error_x": {
             "color": "#2a3f5f"
            },
            "error_y": {
             "color": "#2a3f5f"
            },
            "marker": {
             "line": {
              "color": "#E5ECF6",
              "width": 0.5
             },
             "pattern": {
              "fillmode": "overlay",
              "size": 10,
              "solidity": 0.2
             }
            },
            "type": "bar"
           }
          ],
          "barpolar": [
           {
            "marker": {
             "line": {
              "color": "#E5ECF6",
              "width": 0.5
             },
             "pattern": {
              "fillmode": "overlay",
              "size": 10,
              "solidity": 0.2
             }
            },
            "type": "barpolar"
           }
          ],
          "carpet": [
           {
            "aaxis": {
             "endlinecolor": "#2a3f5f",
             "gridcolor": "white",
             "linecolor": "white",
             "minorgridcolor": "white",
             "startlinecolor": "#2a3f5f"
            },
            "baxis": {
             "endlinecolor": "#2a3f5f",
             "gridcolor": "white",
             "linecolor": "white",
             "minorgridcolor": "white",
             "startlinecolor": "#2a3f5f"
            },
            "type": "carpet"
           }
          ],
          "choropleth": [
           {
            "colorbar": {
             "outlinewidth": 0,
             "ticks": ""
            },
            "type": "choropleth"
           }
          ],
          "contour": [
           {
            "colorbar": {
             "outlinewidth": 0,
             "ticks": ""
            },
            "colorscale": [
             [
              0,
              "#0d0887"
             ],
             [
              0.1111111111111111,
              "#46039f"
             ],
             [
              0.2222222222222222,
              "#7201a8"
             ],
             [
              0.3333333333333333,
              "#9c179e"
             ],
             [
              0.4444444444444444,
              "#bd3786"
             ],
             [
              0.5555555555555556,
              "#d8576b"
             ],
             [
              0.6666666666666666,
              "#ed7953"
             ],
             [
              0.7777777777777778,
              "#fb9f3a"
             ],
             [
              0.8888888888888888,
              "#fdca26"
             ],
             [
              1,
              "#f0f921"
             ]
            ],
            "type": "contour"
           }
          ],
          "contourcarpet": [
           {
            "colorbar": {
             "outlinewidth": 0,
             "ticks": ""
            },
            "type": "contourcarpet"
           }
          ],
          "heatmap": [
           {
            "colorbar": {
             "outlinewidth": 0,
             "ticks": ""
            },
            "colorscale": [
             [
              0,
              "#0d0887"
             ],
             [
              0.1111111111111111,
              "#46039f"
             ],
             [
              0.2222222222222222,
              "#7201a8"
             ],
             [
              0.3333333333333333,
              "#9c179e"
             ],
             [
              0.4444444444444444,
              "#bd3786"
             ],
             [
              0.5555555555555556,
              "#d8576b"
             ],
             [
              0.6666666666666666,
              "#ed7953"
             ],
             [
              0.7777777777777778,
              "#fb9f3a"
             ],
             [
              0.8888888888888888,
              "#fdca26"
             ],
             [
              1,
              "#f0f921"
             ]
            ],
            "type": "heatmap"
           }
          ],
          "heatmapgl": [
           {
            "colorbar": {
             "outlinewidth": 0,
             "ticks": ""
            },
            "colorscale": [
             [
              0,
              "#0d0887"
             ],
             [
              0.1111111111111111,
              "#46039f"
             ],
             [
              0.2222222222222222,
              "#7201a8"
             ],
             [
              0.3333333333333333,
              "#9c179e"
             ],
             [
              0.4444444444444444,
              "#bd3786"
             ],
             [
              0.5555555555555556,
              "#d8576b"
             ],
             [
              0.6666666666666666,
              "#ed7953"
             ],
             [
              0.7777777777777778,
              "#fb9f3a"
             ],
             [
              0.8888888888888888,
              "#fdca26"
             ],
             [
              1,
              "#f0f921"
             ]
            ],
            "type": "heatmapgl"
           }
          ],
          "histogram": [
           {
            "marker": {
             "pattern": {
              "fillmode": "overlay",
              "size": 10,
              "solidity": 0.2
             }
            },
            "type": "histogram"
           }
          ],
          "histogram2d": [
           {
            "colorbar": {
             "outlinewidth": 0,
             "ticks": ""
            },
            "colorscale": [
             [
              0,
              "#0d0887"
             ],
             [
              0.1111111111111111,
              "#46039f"
             ],
             [
              0.2222222222222222,
              "#7201a8"
             ],
             [
              0.3333333333333333,
              "#9c179e"
             ],
             [
              0.4444444444444444,
              "#bd3786"
             ],
             [
              0.5555555555555556,
              "#d8576b"
             ],
             [
              0.6666666666666666,
              "#ed7953"
             ],
             [
              0.7777777777777778,
              "#fb9f3a"
             ],
             [
              0.8888888888888888,
              "#fdca26"
             ],
             [
              1,
              "#f0f921"
             ]
            ],
            "type": "histogram2d"
           }
          ],
          "histogram2dcontour": [
           {
            "colorbar": {
             "outlinewidth": 0,
             "ticks": ""
            },
            "colorscale": [
             [
              0,
              "#0d0887"
             ],
             [
              0.1111111111111111,
              "#46039f"
             ],
             [
              0.2222222222222222,
              "#7201a8"
             ],
             [
              0.3333333333333333,
              "#9c179e"
             ],
             [
              0.4444444444444444,
              "#bd3786"
             ],
             [
              0.5555555555555556,
              "#d8576b"
             ],
             [
              0.6666666666666666,
              "#ed7953"
             ],
             [
              0.7777777777777778,
              "#fb9f3a"
             ],
             [
              0.8888888888888888,
              "#fdca26"
             ],
             [
              1,
              "#f0f921"
             ]
            ],
            "type": "histogram2dcontour"
           }
          ],
          "mesh3d": [
           {
            "colorbar": {
             "outlinewidth": 0,
             "ticks": ""
            },
            "type": "mesh3d"
           }
          ],
          "parcoords": [
           {
            "line": {
             "colorbar": {
              "outlinewidth": 0,
              "ticks": ""
             }
            },
            "type": "parcoords"
           }
          ],
          "pie": [
           {
            "automargin": true,
            "type": "pie"
           }
          ],
          "scatter": [
           {
            "fillpattern": {
             "fillmode": "overlay",
             "size": 10,
             "solidity": 0.2
            },
            "type": "scatter"
           }
          ],
          "scatter3d": [
           {
            "line": {
             "colorbar": {
              "outlinewidth": 0,
              "ticks": ""
             }
            },
            "marker": {
             "colorbar": {
              "outlinewidth": 0,
              "ticks": ""
             }
            },
            "type": "scatter3d"
           }
          ],
          "scattercarpet": [
           {
            "marker": {
             "colorbar": {
              "outlinewidth": 0,
              "ticks": ""
             }
            },
            "type": "scattercarpet"
           }
          ],
          "scattergeo": [
           {
            "marker": {
             "colorbar": {
              "outlinewidth": 0,
              "ticks": ""
             }
            },
            "type": "scattergeo"
           }
          ],
          "scattergl": [
           {
            "marker": {
             "colorbar": {
              "outlinewidth": 0,
              "ticks": ""
             }
            },
            "type": "scattergl"
           }
          ],
          "scattermapbox": [
           {
            "marker": {
             "colorbar": {
              "outlinewidth": 0,
              "ticks": ""
             }
            },
            "type": "scattermapbox"
           }
          ],
          "scatterpolar": [
           {
            "marker": {
             "colorbar": {
              "outlinewidth": 0,
              "ticks": ""
             }
            },
            "type": "scatterpolar"
           }
          ],
          "scatterpolargl": [
           {
            "marker": {
             "colorbar": {
              "outlinewidth": 0,
              "ticks": ""
             }
            },
            "type": "scatterpolargl"
           }
          ],
          "scatterternary": [
           {
            "marker": {
             "colorbar": {
              "outlinewidth": 0,
              "ticks": ""
             }
            },
            "type": "scatterternary"
           }
          ],
          "surface": [
           {
            "colorbar": {
             "outlinewidth": 0,
             "ticks": ""
            },
            "colorscale": [
             [
              0,
              "#0d0887"
             ],
             [
              0.1111111111111111,
              "#46039f"
             ],
             [
              0.2222222222222222,
              "#7201a8"
             ],
             [
              0.3333333333333333,
              "#9c179e"
             ],
             [
              0.4444444444444444,
              "#bd3786"
             ],
             [
              0.5555555555555556,
              "#d8576b"
             ],
             [
              0.6666666666666666,
              "#ed7953"
             ],
             [
              0.7777777777777778,
              "#fb9f3a"
             ],
             [
              0.8888888888888888,
              "#fdca26"
             ],
             [
              1,
              "#f0f921"
             ]
            ],
            "type": "surface"
           }
          ],
          "table": [
           {
            "cells": {
             "fill": {
              "color": "#EBF0F8"
             },
             "line": {
              "color": "white"
             }
            },
            "header": {
             "fill": {
              "color": "#C8D4E3"
             },
             "line": {
              "color": "white"
             }
            },
            "type": "table"
           }
          ]
         },
         "layout": {
          "annotationdefaults": {
           "arrowcolor": "#2a3f5f",
           "arrowhead": 0,
           "arrowwidth": 1
          },
          "autotypenumbers": "strict",
          "coloraxis": {
           "colorbar": {
            "outlinewidth": 0,
            "ticks": ""
           }
          },
          "colorscale": {
           "diverging": [
            [
             0,
             "#8e0152"
            ],
            [
             0.1,
             "#c51b7d"
            ],
            [
             0.2,
             "#de77ae"
            ],
            [
             0.3,
             "#f1b6da"
            ],
            [
             0.4,
             "#fde0ef"
            ],
            [
             0.5,
             "#f7f7f7"
            ],
            [
             0.6,
             "#e6f5d0"
            ],
            [
             0.7,
             "#b8e186"
            ],
            [
             0.8,
             "#7fbc41"
            ],
            [
             0.9,
             "#4d9221"
            ],
            [
             1,
             "#276419"
            ]
           ],
           "sequential": [
            [
             0,
             "#0d0887"
            ],
            [
             0.1111111111111111,
             "#46039f"
            ],
            [
             0.2222222222222222,
             "#7201a8"
            ],
            [
             0.3333333333333333,
             "#9c179e"
            ],
            [
             0.4444444444444444,
             "#bd3786"
            ],
            [
             0.5555555555555556,
             "#d8576b"
            ],
            [
             0.6666666666666666,
             "#ed7953"
            ],
            [
             0.7777777777777778,
             "#fb9f3a"
            ],
            [
             0.8888888888888888,
             "#fdca26"
            ],
            [
             1,
             "#f0f921"
            ]
           ],
           "sequentialminus": [
            [
             0,
             "#0d0887"
            ],
            [
             0.1111111111111111,
             "#46039f"
            ],
            [
             0.2222222222222222,
             "#7201a8"
            ],
            [
             0.3333333333333333,
             "#9c179e"
            ],
            [
             0.4444444444444444,
             "#bd3786"
            ],
            [
             0.5555555555555556,
             "#d8576b"
            ],
            [
             0.6666666666666666,
             "#ed7953"
            ],
            [
             0.7777777777777778,
             "#fb9f3a"
            ],
            [
             0.8888888888888888,
             "#fdca26"
            ],
            [
             1,
             "#f0f921"
            ]
           ]
          },
          "colorway": [
           "#636efa",
           "#EF553B",
           "#00cc96",
           "#ab63fa",
           "#FFA15A",
           "#19d3f3",
           "#FF6692",
           "#B6E880",
           "#FF97FF",
           "#FECB52"
          ],
          "font": {
           "color": "#2a3f5f"
          },
          "geo": {
           "bgcolor": "white",
           "lakecolor": "white",
           "landcolor": "#E5ECF6",
           "showlakes": true,
           "showland": true,
           "subunitcolor": "white"
          },
          "hoverlabel": {
           "align": "left"
          },
          "hovermode": "closest",
          "mapbox": {
           "style": "light"
          },
          "paper_bgcolor": "white",
          "plot_bgcolor": "#E5ECF6",
          "polar": {
           "angularaxis": {
            "gridcolor": "white",
            "linecolor": "white",
            "ticks": ""
           },
           "bgcolor": "#E5ECF6",
           "radialaxis": {
            "gridcolor": "white",
            "linecolor": "white",
            "ticks": ""
           }
          },
          "scene": {
           "xaxis": {
            "backgroundcolor": "#E5ECF6",
            "gridcolor": "white",
            "gridwidth": 2,
            "linecolor": "white",
            "showbackground": true,
            "ticks": "",
            "zerolinecolor": "white"
           },
           "yaxis": {
            "backgroundcolor": "#E5ECF6",
            "gridcolor": "white",
            "gridwidth": 2,
            "linecolor": "white",
            "showbackground": true,
            "ticks": "",
            "zerolinecolor": "white"
           },
           "zaxis": {
            "backgroundcolor": "#E5ECF6",
            "gridcolor": "white",
            "gridwidth": 2,
            "linecolor": "white",
            "showbackground": true,
            "ticks": "",
            "zerolinecolor": "white"
           }
          },
          "shapedefaults": {
           "line": {
            "color": "#2a3f5f"
           }
          },
          "ternary": {
           "aaxis": {
            "gridcolor": "white",
            "linecolor": "white",
            "ticks": ""
           },
           "baxis": {
            "gridcolor": "white",
            "linecolor": "white",
            "ticks": ""
           },
           "bgcolor": "#E5ECF6",
           "caxis": {
            "gridcolor": "white",
            "linecolor": "white",
            "ticks": ""
           }
          },
          "title": {
           "x": 0.05
          },
          "xaxis": {
           "automargin": true,
           "gridcolor": "white",
           "linecolor": "white",
           "ticks": "",
           "title": {
            "standoff": 15
           },
           "zerolinecolor": "white",
           "zerolinewidth": 2
          },
          "yaxis": {
           "automargin": true,
           "gridcolor": "white",
           "linecolor": "white",
           "ticks": "",
           "title": {
            "standoff": 15
           },
           "zerolinecolor": "white",
           "zerolinewidth": 2
          }
         }
        }
       }
      },
      "text/html": [
       "<div>                            <div id=\"a7db9984-195d-4d79-a28b-616c90486f7f\" class=\"plotly-graph-div\" style=\"height:525px; width:100%;\"></div>            <script type=\"text/javascript\">                require([\"plotly\"], function(Plotly) {                    window.PLOTLYENV=window.PLOTLYENV || {};                                    if (document.getElementById(\"a7db9984-195d-4d79-a28b-616c90486f7f\")) {                    Plotly.newPlot(                        \"a7db9984-195d-4d79-a28b-616c90486f7f\",                        [{\"hovertemplate\":\"x=%{x}<br>y=%{y}<br>z=%{z}<br>label=%{marker.color}<extra></extra>\",\"legendgroup\":\"\",\"marker\":{\"color\":[8,1,2,9,0,0,2,4,3,0,8,3,0,2,8,2,7,9,1,2,9,9,7,7,8,7,0,8,4,4,1,1,6,7,6,2,8,8,0,0,8,6,1,1,2,9,6,4,8,2,7,1,6,8,7,3,5,9,6,0,2,5,2,4,2,1,1,0,3,9,7,3,6,3,3,4,1,6,3,0,4,6,7,9,8,6,7,2,9,6,7,5,3,1,6,1,0,4,5,2,4,0,3,4,4,8,0,2,9,6,9,3,1,6,2,3,1,9,9,1,7,0,8,9,2,9,4,2],\"coloraxis\":\"coloraxis\",\"symbol\":\"circle\",\"size\":5},\"mode\":\"markers+text\",\"name\":\"\",\"scene\":\"scene\",\"showlegend\":false,\"text\":[8.0,1.0,2.0,9.0,0.0,0.0,2.0,4.0,3.0,0.0,8.0,3.0,0.0,2.0,8.0,2.0,7.0,9.0,1.0,2.0,9.0,9.0,7.0,7.0,8.0,7.0,0.0,8.0,4.0,4.0,1.0,1.0,6.0,7.0,6.0,2.0,8.0,8.0,0.0,0.0,8.0,6.0,1.0,1.0,2.0,9.0,6.0,4.0,8.0,2.0,7.0,1.0,6.0,8.0,7.0,3.0,5.0,9.0,6.0,0.0,2.0,5.0,2.0,4.0,2.0,1.0,1.0,0.0,3.0,9.0,7.0,3.0,6.0,3.0,3.0,4.0,1.0,6.0,3.0,0.0,4.0,6.0,7.0,9.0,8.0,6.0,7.0,2.0,9.0,6.0,7.0,5.0,3.0,1.0,6.0,1.0,0.0,4.0,5.0,2.0,4.0,0.0,3.0,4.0,4.0,8.0,0.0,2.0,9.0,6.0,9.0,3.0,1.0,6.0,2.0,3.0,1.0,9.0,9.0,1.0,7.0,0.0,8.0,9.0,2.0,9.0,4.0,2.0],\"x\":[-0.27637621760368347,-0.7585501670837402,0.7596100568771362,0.574517011642456,-0.06051117181777954,-0.020677320659160614,0.7616360187530518,0.6232137084007263,-0.2978624105453491,-0.08067627996206284,-0.21446754038333893,-0.5965065956115723,-0.04089905694127083,0.7659452557563782,-0.29326415061950684,0.757196843624115,0.6487370729446411,0.5123149752616882,-0.7627615332603455,0.7594151496887207,0.668370246887207,0.5473831295967102,0.6456730961799622,0.6321196556091309,-0.3109482228755951,0.6511262059211731,-0.0597909651696682,-0.3382333517074585,0.6674978733062744,0.6625874042510986,-0.7649100422859192,-0.7658253908157349,-0.5735387206077576,0.6545577645301819,-0.49185702204704285,0.7571824789047241,-0.25936925411224365,-0.2480558454990387,-0.075372114777565,-0.012466450221836567,-0.2801126539707184,-0.5844244360923767,-0.7655360102653503,-0.7508152723312378,0.7738567590713501,0.716950535774231,-0.6176305413246155,0.7818061709403992,-0.3229046165943146,0.7608378529548645,0.6425831913948059,-0.7664575576782227,-0.6337345838546753,-0.5549389123916626,0.5714913606643677,0.6964921951293945,-0.40783461928367615,0.6299448609352112,-0.5220606923103333,-0.07361188530921936,0.7593267560005188,-0.41286689043045044,0.7596135139465332,0.6301359534263611,0.7709329128265381,-0.7059842944145203,-0.7630329132080078,-0.0645667240023613,-0.015189501456916332,0.5600515007972717,0.6137909889221191,0.3539440631866455,-0.5526518821716309,0.7504454255104065,0.7818344831466675,0.6366429328918457,-0.7557306289672852,-0.5350755453109741,-0.508305549621582,-0.05857004597783089,0.650326132774353,-0.5266084671020508,0.6545506119728088,0.5378727316856384,-0.26990416646003723,-0.5290690660476685,0.6596807241439819,0.7637290954589844,0.539445698261261,-0.6170129179954529,0.6661525964736938,-0.4293161928653717,0.4091896712779999,-0.756794273853302,-0.5666009783744812,-0.7531798481941223,-0.0726742222905159,0.6735532879829407,-0.4202433228492737,0.7785089612007141,0.5725899934768677,-0.06727105379104614,-0.7704405784606934,0.6533580422401428,0.5499123930931091,-0.3080909252166748,-0.06164586916565895,0.7598118185997009,0.614631712436676,-0.5236517786979675,0.5582990050315857,0.2170083373785019,-0.6155731081962585,-0.5704876780509949,0.756956934928894,-0.4922115206718445,-0.7555157542228699,0.510569155216217,0.5840239524841309,-0.7523742318153381,0.6098721623420715,-0.07225114107131958,-0.259482741355896,0.5534067153930664,0.7579922676086426,0.5475919842720032,0.6213319301605225,0.7576003074645996],\"y\":[0.9253161549568176,0.0630335882306099,-0.06793172657489777,0.37873122096061707,-0.8507527709007263,-0.8682002425193787,-0.07757788896560669,-0.7697317600250244,0.9240553975105286,-0.8410534262657166,0.924553632736206,0.7964103817939758,-0.8596262335777283,-0.0995456725358963,0.9243939518928528,-0.518812894821167,-0.7400001287460327,0.46919870376586914,0.08311176300048828,-0.06702370941638947,0.20544825494289398,0.4200160503387451,-0.7438202500343323,-0.7598751187324524,0.9228830933570862,-0.736969530582428,-0.8510884046554565,0.919417679309845,-0.7148840427398682,-0.7217621207237244,0.09406544268131256,0.09890393167734146,-0.38027435541152954,-0.7325348854064941,-0.4959876239299774,-0.0568510927259922,0.9257447719573975,0.9257581233978271,-0.8436615467071533,-0.8715153932571411,0.9251552224159241,-0.3628579080104828,0.09736239910125732,0.029834887012839317,-0.14742416143417358,0.08421511948108673,-0.30604222416877747,-0.21894146502017975,0.9215369820594788,-0.07373128086328506,-0.7475990653038025,0.10231051594018936,-0.2761763036251068,0.8307672142982483,-0.8180181980133057,-0.6689343452453613,0.9038367867469788,0.28335726261138916,-0.4559626877307892,-0.8445180058479309,-0.06661281734704971,0.9023044109344482,-0.06794775277376175,-0.7621159553527832,-0.12824499607086182,-0.114674411714077,0.08446642011404037,-0.8488490581512451,0.8819758892059326,0.4011213183403015,-0.7796139717102051,-0.9167732000350952,-0.4122355878353119,-0.5422510504722595,-0.37515556812286377,-0.7546641230583191,0.0504470132291317,-0.4377780556678772,-0.47455307841300964,-0.8516556024551392,-0.737989604473114,-0.4496760964393616,-0.7325441837310791,0.43379074335098267,0.9255377054214478,-0.44624456763267517,-0.7257277965545654,-0.087978795170784,0.431535929441452,-0.307155042886734,-0.7167912721633911,0.8968824744224548,0.5923060178756714,0.055123310536146164,-0.39109542965888977,0.03955772891640663,-0.844972550868988,-0.7060766220092773,0.8999521732330322,-0.18398253619670868,-0.8171305060386658,-0.8475664854049683,0.46058493852615356,-0.7340964674949646,-0.8344157934188843,0.9231656193733215,-0.8502225279808044,-0.06887536495923996,0.31142401695251465,-0.4537714123725891,0.4037737548351288,-0.9247086644172668,-0.3097403645515442,-0.3850592374801636,-0.055845957249403,0.8697832822799683,0.04951256141066551,0.47153663635253906,0.3635084927082062,0.036207035183906555,-0.7835680246353149,-0.8451771140098572,0.925743579864502,0.411111980676651,-0.060493577271699905,0.4197096526622772,-0.7717488408088684,-0.05872388556599617],\"z\":[0.25962701439857483,-0.6485587358474731,0.6468213200569153,0.7255982756614685,-0.5220710039138794,-0.4957829415798187,0.643344521522522,0.1382669359445572,0.23958219587802887,-0.5349023342132568,0.3149670958518982,-0.09955023974180222,-0.509283721446991,0.6351523399353027,0.24390976130962372,0.3968452513217926,0.17759542167186737,0.7192954421043396,-0.6413168907165527,0.6471447944641113,0.7148931622505188,0.7238495945930481,0.172736257314682,0.15170541405677795,0.22715197503566742,0.18141280114650726,-0.5216067433357239,0.2006724774837494,0.2082962989807129,0.20009344816207886,-0.6372318267822266,-0.6353970766067505,-0.7255651950836182,0.1869407445192337,-0.7155926823616028,0.6507247686386108,0.2751801908016205,0.28537717461586,-0.5315583348274231,-0.4902096688747406,0.2561732828617096,-0.7257976531982422,-0.6359836459159851,-0.659838080406189,0.6159641742706299,0.6920186281204224,-0.724479615688324,0.583818256855011,0.21564336121082306,0.6447397470474243,0.16787642240524292,-0.6340941786766052,-0.7225698232650757,-0.04322916269302368,0.06514424830675125,0.2596642076969147,0.12942172586917877,0.7231031060218811,-0.7207986116409302,-0.5304437279701233,0.6472910046577454,0.12404706329107285,0.6468155980110168,0.14868710935115814,0.6238715052604675,-0.698881983757019,-0.6408167481422424,-0.5246773362159729,0.4710497260093689,0.7248750925064087,0.124348945915699,-0.18506908416748047,-0.72431880235672,0.3778828978538513,0.4979890286922455,0.15864329040050507,-0.6529366970062256,-0.722526490688324,-0.7186270952224731,-0.520818829536438,0.18013149499893188,-0.7214395403862,0.18692918121814728,0.7228543758392334,0.26557794213294983,-0.7217698097229004,0.1952960193157196,0.6395134925842285,0.7230318784713745,-0.7245349287986755,0.2060365080833435,0.10625188797712326,0.6940730810165405,-0.6513246893882751,-0.7252638936042786,-0.6566241383552551,-0.5298489332199097,0.21859076619148254,0.1161106526851654,0.6000618934631348,0.06662148237228394,-0.5264081954956055,-0.44077521562576294,0.18500198423862457,0.03669670224189758,0.229880690574646,-0.5228015184402466,0.6464844346046448,0.7247364521026611,-0.7210273146629333,0.7247544527053833,-0.3127639591693878,-0.7246590256690979,-0.7254469394683838,0.6510740518569946,0.03471044450998306,-0.6532568335533142,0.7190079092979431,0.7257944941520691,-0.6577401161193848,0.11864630877971649,-0.5295803546905518,0.27507737278938293,0.724381148815155,0.649452269077301,0.7238693237304688,0.13546347618103027,0.6500717401504517],\"type\":\"scatter3d\"}],                        {\"template\":{\"data\":{\"histogram2dcontour\":[{\"type\":\"histogram2dcontour\",\"colorbar\":{\"outlinewidth\":0,\"ticks\":\"\"},\"colorscale\":[[0.0,\"#0d0887\"],[0.1111111111111111,\"#46039f\"],[0.2222222222222222,\"#7201a8\"],[0.3333333333333333,\"#9c179e\"],[0.4444444444444444,\"#bd3786\"],[0.5555555555555556,\"#d8576b\"],[0.6666666666666666,\"#ed7953\"],[0.7777777777777778,\"#fb9f3a\"],[0.8888888888888888,\"#fdca26\"],[1.0,\"#f0f921\"]]}],\"choropleth\":[{\"type\":\"choropleth\",\"colorbar\":{\"outlinewidth\":0,\"ticks\":\"\"}}],\"histogram2d\":[{\"type\":\"histogram2d\",\"colorbar\":{\"outlinewidth\":0,\"ticks\":\"\"},\"colorscale\":[[0.0,\"#0d0887\"],[0.1111111111111111,\"#46039f\"],[0.2222222222222222,\"#7201a8\"],[0.3333333333333333,\"#9c179e\"],[0.4444444444444444,\"#bd3786\"],[0.5555555555555556,\"#d8576b\"],[0.6666666666666666,\"#ed7953\"],[0.7777777777777778,\"#fb9f3a\"],[0.8888888888888888,\"#fdca26\"],[1.0,\"#f0f921\"]]}],\"heatmap\":[{\"type\":\"heatmap\",\"colorbar\":{\"outlinewidth\":0,\"ticks\":\"\"},\"colorscale\":[[0.0,\"#0d0887\"],[0.1111111111111111,\"#46039f\"],[0.2222222222222222,\"#7201a8\"],[0.3333333333333333,\"#9c179e\"],[0.4444444444444444,\"#bd3786\"],[0.5555555555555556,\"#d8576b\"],[0.6666666666666666,\"#ed7953\"],[0.7777777777777778,\"#fb9f3a\"],[0.8888888888888888,\"#fdca26\"],[1.0,\"#f0f921\"]]}],\"heatmapgl\":[{\"type\":\"heatmapgl\",\"colorbar\":{\"outlinewidth\":0,\"ticks\":\"\"},\"colorscale\":[[0.0,\"#0d0887\"],[0.1111111111111111,\"#46039f\"],[0.2222222222222222,\"#7201a8\"],[0.3333333333333333,\"#9c179e\"],[0.4444444444444444,\"#bd3786\"],[0.5555555555555556,\"#d8576b\"],[0.6666666666666666,\"#ed7953\"],[0.7777777777777778,\"#fb9f3a\"],[0.8888888888888888,\"#fdca26\"],[1.0,\"#f0f921\"]]}],\"contourcarpet\":[{\"type\":\"contourcarpet\",\"colorbar\":{\"outlinewidth\":0,\"ticks\":\"\"}}],\"contour\":[{\"type\":\"contour\",\"colorbar\":{\"outlinewidth\":0,\"ticks\":\"\"},\"colorscale\":[[0.0,\"#0d0887\"],[0.1111111111111111,\"#46039f\"],[0.2222222222222222,\"#7201a8\"],[0.3333333333333333,\"#9c179e\"],[0.4444444444444444,\"#bd3786\"],[0.5555555555555556,\"#d8576b\"],[0.6666666666666666,\"#ed7953\"],[0.7777777777777778,\"#fb9f3a\"],[0.8888888888888888,\"#fdca26\"],[1.0,\"#f0f921\"]]}],\"surface\":[{\"type\":\"surface\",\"colorbar\":{\"outlinewidth\":0,\"ticks\":\"\"},\"colorscale\":[[0.0,\"#0d0887\"],[0.1111111111111111,\"#46039f\"],[0.2222222222222222,\"#7201a8\"],[0.3333333333333333,\"#9c179e\"],[0.4444444444444444,\"#bd3786\"],[0.5555555555555556,\"#d8576b\"],[0.6666666666666666,\"#ed7953\"],[0.7777777777777778,\"#fb9f3a\"],[0.8888888888888888,\"#fdca26\"],[1.0,\"#f0f921\"]]}],\"mesh3d\":[{\"type\":\"mesh3d\",\"colorbar\":{\"outlinewidth\":0,\"ticks\":\"\"}}],\"scatter\":[{\"fillpattern\":{\"fillmode\":\"overlay\",\"size\":10,\"solidity\":0.2},\"type\":\"scatter\"}],\"parcoords\":[{\"type\":\"parcoords\",\"line\":{\"colorbar\":{\"outlinewidth\":0,\"ticks\":\"\"}}}],\"scatterpolargl\":[{\"type\":\"scatterpolargl\",\"marker\":{\"colorbar\":{\"outlinewidth\":0,\"ticks\":\"\"}}}],\"bar\":[{\"error_x\":{\"color\":\"#2a3f5f\"},\"error_y\":{\"color\":\"#2a3f5f\"},\"marker\":{\"line\":{\"color\":\"#E5ECF6\",\"width\":0.5},\"pattern\":{\"fillmode\":\"overlay\",\"size\":10,\"solidity\":0.2}},\"type\":\"bar\"}],\"scattergeo\":[{\"type\":\"scattergeo\",\"marker\":{\"colorbar\":{\"outlinewidth\":0,\"ticks\":\"\"}}}],\"scatterpolar\":[{\"type\":\"scatterpolar\",\"marker\":{\"colorbar\":{\"outlinewidth\":0,\"ticks\":\"\"}}}],\"histogram\":[{\"marker\":{\"pattern\":{\"fillmode\":\"overlay\",\"size\":10,\"solidity\":0.2}},\"type\":\"histogram\"}],\"scattergl\":[{\"type\":\"scattergl\",\"marker\":{\"colorbar\":{\"outlinewidth\":0,\"ticks\":\"\"}}}],\"scatter3d\":[{\"type\":\"scatter3d\",\"line\":{\"colorbar\":{\"outlinewidth\":0,\"ticks\":\"\"}},\"marker\":{\"colorbar\":{\"outlinewidth\":0,\"ticks\":\"\"}}}],\"scattermapbox\":[{\"type\":\"scattermapbox\",\"marker\":{\"colorbar\":{\"outlinewidth\":0,\"ticks\":\"\"}}}],\"scatterternary\":[{\"type\":\"scatterternary\",\"marker\":{\"colorbar\":{\"outlinewidth\":0,\"ticks\":\"\"}}}],\"scattercarpet\":[{\"type\":\"scattercarpet\",\"marker\":{\"colorbar\":{\"outlinewidth\":0,\"ticks\":\"\"}}}],\"carpet\":[{\"aaxis\":{\"endlinecolor\":\"#2a3f5f\",\"gridcolor\":\"white\",\"linecolor\":\"white\",\"minorgridcolor\":\"white\",\"startlinecolor\":\"#2a3f5f\"},\"baxis\":{\"endlinecolor\":\"#2a3f5f\",\"gridcolor\":\"white\",\"linecolor\":\"white\",\"minorgridcolor\":\"white\",\"startlinecolor\":\"#2a3f5f\"},\"type\":\"carpet\"}],\"table\":[{\"cells\":{\"fill\":{\"color\":\"#EBF0F8\"},\"line\":{\"color\":\"white\"}},\"header\":{\"fill\":{\"color\":\"#C8D4E3\"},\"line\":{\"color\":\"white\"}},\"type\":\"table\"}],\"barpolar\":[{\"marker\":{\"line\":{\"color\":\"#E5ECF6\",\"width\":0.5},\"pattern\":{\"fillmode\":\"overlay\",\"size\":10,\"solidity\":0.2}},\"type\":\"barpolar\"}],\"pie\":[{\"automargin\":true,\"type\":\"pie\"}]},\"layout\":{\"autotypenumbers\":\"strict\",\"colorway\":[\"#636efa\",\"#EF553B\",\"#00cc96\",\"#ab63fa\",\"#FFA15A\",\"#19d3f3\",\"#FF6692\",\"#B6E880\",\"#FF97FF\",\"#FECB52\"],\"font\":{\"color\":\"#2a3f5f\"},\"hovermode\":\"closest\",\"hoverlabel\":{\"align\":\"left\"},\"paper_bgcolor\":\"white\",\"plot_bgcolor\":\"#E5ECF6\",\"polar\":{\"bgcolor\":\"#E5ECF6\",\"angularaxis\":{\"gridcolor\":\"white\",\"linecolor\":\"white\",\"ticks\":\"\"},\"radialaxis\":{\"gridcolor\":\"white\",\"linecolor\":\"white\",\"ticks\":\"\"}},\"ternary\":{\"bgcolor\":\"#E5ECF6\",\"aaxis\":{\"gridcolor\":\"white\",\"linecolor\":\"white\",\"ticks\":\"\"},\"baxis\":{\"gridcolor\":\"white\",\"linecolor\":\"white\",\"ticks\":\"\"},\"caxis\":{\"gridcolor\":\"white\",\"linecolor\":\"white\",\"ticks\":\"\"}},\"coloraxis\":{\"colorbar\":{\"outlinewidth\":0,\"ticks\":\"\"}},\"colorscale\":{\"sequential\":[[0.0,\"#0d0887\"],[0.1111111111111111,\"#46039f\"],[0.2222222222222222,\"#7201a8\"],[0.3333333333333333,\"#9c179e\"],[0.4444444444444444,\"#bd3786\"],[0.5555555555555556,\"#d8576b\"],[0.6666666666666666,\"#ed7953\"],[0.7777777777777778,\"#fb9f3a\"],[0.8888888888888888,\"#fdca26\"],[1.0,\"#f0f921\"]],\"sequentialminus\":[[0.0,\"#0d0887\"],[0.1111111111111111,\"#46039f\"],[0.2222222222222222,\"#7201a8\"],[0.3333333333333333,\"#9c179e\"],[0.4444444444444444,\"#bd3786\"],[0.5555555555555556,\"#d8576b\"],[0.6666666666666666,\"#ed7953\"],[0.7777777777777778,\"#fb9f3a\"],[0.8888888888888888,\"#fdca26\"],[1.0,\"#f0f921\"]],\"diverging\":[[0,\"#8e0152\"],[0.1,\"#c51b7d\"],[0.2,\"#de77ae\"],[0.3,\"#f1b6da\"],[0.4,\"#fde0ef\"],[0.5,\"#f7f7f7\"],[0.6,\"#e6f5d0\"],[0.7,\"#b8e186\"],[0.8,\"#7fbc41\"],[0.9,\"#4d9221\"],[1,\"#276419\"]]},\"xaxis\":{\"gridcolor\":\"white\",\"linecolor\":\"white\",\"ticks\":\"\",\"title\":{\"standoff\":15},\"zerolinecolor\":\"white\",\"automargin\":true,\"zerolinewidth\":2},\"yaxis\":{\"gridcolor\":\"white\",\"linecolor\":\"white\",\"ticks\":\"\",\"title\":{\"standoff\":15},\"zerolinecolor\":\"white\",\"automargin\":true,\"zerolinewidth\":2},\"scene\":{\"xaxis\":{\"backgroundcolor\":\"#E5ECF6\",\"gridcolor\":\"white\",\"linecolor\":\"white\",\"showbackground\":true,\"ticks\":\"\",\"zerolinecolor\":\"white\",\"gridwidth\":2},\"yaxis\":{\"backgroundcolor\":\"#E5ECF6\",\"gridcolor\":\"white\",\"linecolor\":\"white\",\"showbackground\":true,\"ticks\":\"\",\"zerolinecolor\":\"white\",\"gridwidth\":2},\"zaxis\":{\"backgroundcolor\":\"#E5ECF6\",\"gridcolor\":\"white\",\"linecolor\":\"white\",\"showbackground\":true,\"ticks\":\"\",\"zerolinecolor\":\"white\",\"gridwidth\":2}},\"shapedefaults\":{\"line\":{\"color\":\"#2a3f5f\"}},\"annotationdefaults\":{\"arrowcolor\":\"#2a3f5f\",\"arrowhead\":0,\"arrowwidth\":1},\"geo\":{\"bgcolor\":\"white\",\"landcolor\":\"#E5ECF6\",\"subunitcolor\":\"white\",\"showland\":true,\"showlakes\":true,\"lakecolor\":\"white\"},\"title\":{\"x\":0.05},\"mapbox\":{\"style\":\"light\"}}},\"scene\":{\"domain\":{\"x\":[0.0,1.0],\"y\":[0.0,1.0]},\"xaxis\":{\"title\":{\"text\":\"x\"}},\"yaxis\":{\"title\":{\"text\":\"y\"}},\"zaxis\":{\"title\":{\"text\":\"z\"}}},\"coloraxis\":{\"colorbar\":{\"title\":{\"text\":\"label\"}},\"colorscale\":[[0.0,\"#0d0887\"],[0.1111111111111111,\"#46039f\"],[0.2222222222222222,\"#7201a8\"],[0.3333333333333333,\"#9c179e\"],[0.4444444444444444,\"#bd3786\"],[0.5555555555555556,\"#d8576b\"],[0.6666666666666666,\"#ed7953\"],[0.7777777777777778,\"#fb9f3a\"],[0.8888888888888888,\"#fdca26\"],[1.0,\"#f0f921\"]]},\"legend\":{\"tracegroupgap\":0},\"margin\":{\"t\":60}},                        {\"responsive\": true}                    ).then(function(){\n",
       "                            \n",
       "var gd = document.getElementById('a7db9984-195d-4d79-a28b-616c90486f7f');\n",
       "var x = new MutationObserver(function (mutations, observer) {{\n",
       "        var display = window.getComputedStyle(gd).display;\n",
       "        if (!display || display === 'none') {{\n",
       "            console.log([gd, 'removed!']);\n",
       "            Plotly.purge(gd);\n",
       "            observer.disconnect();\n",
       "        }}\n",
       "}});\n",
       "\n",
       "// Listen for the removal of the full notebook cells\n",
       "var notebookContainer = gd.closest('#notebook-container');\n",
       "if (notebookContainer) {{\n",
       "    x.observe(notebookContainer, {childList: true});\n",
       "}}\n",
       "\n",
       "// Listen for the clearing of the current output cell\n",
       "var outputEl = gd.closest('.output');\n",
       "if (outputEl) {{\n",
       "    x.observe(outputEl, {childList: true});\n",
       "}}\n",
       "\n",
       "                        })                };                });            </script>        </div>"
      ]
     },
     "metadata": {},
     "output_type": "display_data"
    }
   ],
   "source": [
    "projected_points = project_to_2D_unit_circle(embeds)\n",
    "df = pd.DataFrame({'x': projected_points[:, 0], \n",
    "                   'y': projected_points[:, 1], \n",
    "                   'z': projected_points[:, 2], \n",
    "                   'label': batch_labels.numpy()})\n",
    "\n",
    "fig = px.scatter_3d(df, x='x', y='y', z='z',\n",
    "                      color='label', text='label')\n",
    "fig.update_traces(marker_size = 5)\n",
    "fig.show()"
   ]
  },
  {
   "cell_type": "markdown",
   "id": "fc5385f0",
   "metadata": {},
   "source": [
    "## Accuracy over test images"
   ]
  },
  {
   "cell_type": "code",
   "execution_count": 111,
   "id": "afe69ae9",
   "metadata": {},
   "outputs": [],
   "source": [
    "def accuracy_over_test_images(mnist_net, tag='original'):\n",
    "    correct = 0\n",
    "    total = 0\n",
    "    # since we're not training, we don't need to calculate the gradients for our outputs\n",
    "    with torch.no_grad():\n",
    "        for images, labels in data_loader:\n",
    "            images = images.to(device); labels = labels.to(device)\n",
    "            # calculate outputs by running images through the network\n",
    "            outputs = mnist_net(images)\n",
    "            # the class with the highest energy is what we choose as prediction\n",
    "            _, predicted = torch.max(outputs.data, 1)\n",
    "            total += labels.size(0)\n",
    "            correct += (predicted == labels).sum().item()\n",
    "\n",
    "    print(f'Accuracy of the ' +  tag +  ' network on the '+ str(total) +' test images: '+ str(100 * correct // total)+ '%')"
   ]
  },
  {
   "cell_type": "code",
   "execution_count": 112,
   "id": "283671bb",
   "metadata": {
    "scrolled": true
   },
   "outputs": [
    {
     "name": "stdout",
     "output_type": "stream",
     "text": [
      "Accuracy of the modified network on the 10000 test images: 54%\n"
     ]
    }
   ],
   "source": [
    "accuracy_over_test_images(mnist_net, tag='modified')"
   ]
  },
  {
   "cell_type": "code",
   "execution_count": 980,
   "id": "1279a9ae",
   "metadata": {
    "scrolled": true
   },
   "outputs": [],
   "source": [
    "# accuracy_over_test_images(original_mnist_net)\n",
    "# Accuracy of the original network on the 10000 test images: 97%"
   ]
  },
  {
   "cell_type": "code",
   "execution_count": null,
   "id": "79858db0",
   "metadata": {},
   "outputs": [],
   "source": []
  }
 ],
 "metadata": {
  "kernelspec": {
   "display_name": "Python 3 (ipykernel)",
   "language": "python",
   "name": "python3"
  },
  "language_info": {
   "codemirror_mode": {
    "name": "ipython",
    "version": 3
   },
   "file_extension": ".py",
   "mimetype": "text/x-python",
   "name": "python",
   "nbconvert_exporter": "python",
   "pygments_lexer": "ipython3",
   "version": "3.7.16"
  }
 },
 "nbformat": 4,
 "nbformat_minor": 5
}
