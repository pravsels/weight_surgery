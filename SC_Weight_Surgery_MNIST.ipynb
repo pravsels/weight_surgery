{
 "cells": [
  {
   "cell_type": "markdown",
   "id": "65791bdc",
   "metadata": {},
   "source": [
    "# MNIST Embeddings"
   ]
  },
  {
   "cell_type": "markdown",
   "id": "a8a44dcf",
   "metadata": {},
   "source": [
    "## Imports and Hyper-parameters "
   ]
  },
  {
   "cell_type": "code",
   "execution_count": 45,
   "id": "9f195be0",
   "metadata": {},
   "outputs": [
    {
     "name": "stdout",
     "output_type": "stream",
     "text": [
      "/home/praveens/Desktop/synthetic_biometrics/visualize_embeddings\n"
     ]
    }
   ],
   "source": [
    "import torch \n",
    "import os \n",
    "import numpy as np \n",
    "from torchvision import transforms \n",
    "from torchvision.datasets import MNIST \n",
    "from torchvision import models \n",
    "\n",
    "print(os.getcwd())\n",
    "root = os.getcwd()\n",
    "\n",
    "from mnist_net import Net\n",
    "\n",
    "from sklearn.ensemble import IsolationForest\n",
    "import plotly.express as px\n",
    "import pandas as pd"
   ]
  },
  {
   "cell_type": "code",
   "execution_count": 46,
   "id": "fae1b25d",
   "metadata": {},
   "outputs": [],
   "source": [
    "batch_size = 256\n",
    "data_folder = root + '/MNIST'\n",
    "device = 'cpu'\n",
    "model_path = './mnist_net.pth'\n",
    "\n",
    "shatter_class = 3"
   ]
  },
  {
   "cell_type": "markdown",
   "id": "2e460bd2",
   "metadata": {},
   "source": [
    "## Create Dataloader"
   ]
  },
  {
   "cell_type": "code",
   "execution_count": 47,
   "id": "860de05b",
   "metadata": {},
   "outputs": [],
   "source": [
    "transformations = transforms.Compose([transforms.Resize((221, 221)),\n",
    "                                      transforms.ToTensor(),\n",
    "                                      transforms.Normalize(mean=[0.485], std=[0.229])\n",
    "                                    ])\n",
    "\n",
    "mnist_data = MNIST(root=r'./MNIST',\n",
    "                   download=False, # change to True to download MNIST data\n",
    "                   train=False, \n",
    "                   transform=transformations)\n",
    "\n",
    "data_loader = torch.utils.data.DataLoader(mnist_data,\n",
    "                                          batch_size=batch_size,\n",
    "                                          shuffle=True)"
   ]
  },
  {
   "cell_type": "code",
   "execution_count": 48,
   "id": "74a9d075",
   "metadata": {},
   "outputs": [
    {
     "data": {
      "text/plain": [
       "Dataset MNIST\n",
       "    Number of datapoints: 10000\n",
       "    Root location: ./MNIST\n",
       "    Split: Test\n",
       "    StandardTransform\n",
       "Transform: Compose(\n",
       "               Resize(size=(221, 221), interpolation=bilinear, max_size=None, antialias=None)\n",
       "               ToTensor()\n",
       "               Normalize(mean=[0.485], std=[0.229])\n",
       "           )"
      ]
     },
     "execution_count": 48,
     "metadata": {},
     "output_type": "execute_result"
    }
   ],
   "source": [
    "mnist_data"
   ]
  },
  {
   "cell_type": "code",
   "execution_count": 49,
   "id": "17645ff9",
   "metadata": {},
   "outputs": [],
   "source": [
    "# list(mnist_net.named_parameters())"
   ]
  },
  {
   "cell_type": "markdown",
   "id": "b9e14939",
   "metadata": {},
   "source": [
    "## Initialize Tensorboard Logging Class "
   ]
  },
  {
   "cell_type": "code",
   "execution_count": 50,
   "id": "d275c88e",
   "metadata": {
    "scrolled": true
   },
   "outputs": [
    {
     "data": {
      "text/plain": [
       "Net(\n",
       "  (conv1): Conv2d(1, 8, kernel_size=(2, 2), stride=(1, 1))\n",
       "  (conv2): Conv2d(8, 16, kernel_size=(2, 2), stride=(1, 1))\n",
       "  (conv3): Conv2d(16, 32, kernel_size=(2, 2), stride=(1, 1))\n",
       "  (conv4): Conv2d(32, 64, kernel_size=(2, 2), stride=(1, 1))\n",
       "  (pool): MaxPool2d(kernel_size=2, stride=2, padding=0, dilation=1, ceil_mode=False)\n",
       "  (fc1): Linear(in_features=9216, out_features=128, bias=True)\n",
       "  (fc2): Linear(in_features=128, out_features=64, bias=True)\n",
       "  (fc3): Linear(in_features=64, out_features=16, bias=True)\n",
       "  (fc4): Linear(in_features=16, out_features=3, bias=True)\n",
       "  (fc5): Linear(in_features=3, out_features=10, bias=True)\n",
       ")"
      ]
     },
     "execution_count": 50,
     "metadata": {},
     "output_type": "execute_result"
    }
   ],
   "source": [
    "mnist_net = Net().to(device)\n",
    "mnist_net.load_state_dict(torch.load(model_path, map_location=torch.device(device)))  # load saved model \n",
    "\n",
    "mnist_net.eval()"
   ]
  },
  {
   "cell_type": "code",
   "execution_count": 51,
   "id": "c1c86b24",
   "metadata": {},
   "outputs": [],
   "source": [
    "def filter_by_classes(data_loader, cl1):\n",
    "    \n",
    "    class1 = torch.tensor(cl1)\n",
    "    class1_images = []\n",
    "    \n",
    "    for images, labels in data_loader: \n",
    "        class1_images.extend(images[labels == class1])\n",
    "        \n",
    "    class1_images = torch.stack(class1_images)\n",
    "        \n",
    "    return class1_images"
   ]
  },
  {
   "cell_type": "code",
   "execution_count": 52,
   "id": "39cf25e2",
   "metadata": {},
   "outputs": [],
   "source": [
    "def find_cosine_similarity(model, data_loader, cl1):\n",
    "    images1 = filter_by_classes(data_loader, cl1)\n",
    "    \n",
    "    e1 = model.embedding(images1).clone().detach()\n",
    "      \n",
    "    shape = e1.shape[0]\n",
    "    idx1 = np.random.randint(shape)\n",
    "    idx2 = np.random.randint(shape)\n",
    "        \n",
    "    cos_sim = (torch.dot(e1[idx1], e1[idx2])/(torch.linalg.norm(e1[idx1])*torch.linalg.norm(e1[idx2])))\n",
    "        \n",
    "    print('cosine similarity of 2 random embeddings : ', cos_sim)\n",
    "    \n",
    "    return cos_sim"
   ]
  },
  {
   "cell_type": "code",
   "execution_count": 53,
   "id": "3f9fe549",
   "metadata": {},
   "outputs": [],
   "source": [
    "def find_class_embeddings(model, data_loader, cl1, remove_outliers=True):\n",
    "    images1 = filter_by_classes(data_loader, cl1)\n",
    "    \n",
    "    e1 = model.embedding(images1).clone().detach()\n",
    "    \n",
    "    if remove_outliers:\n",
    "        model_if = IsolationForest(random_state=42)\n",
    "        model_if.fit(e1.numpy())\n",
    "        e1_anomaly = model_if.predict(e1)\n",
    "\n",
    "        # keeping the inliers \n",
    "        e1 = e1[e1_anomaly==1]\n",
    "        print('inliers for ' + str(cl1) + ' : ', e1.shape[0])\n",
    "        \n",
    "    \n",
    "    \n",
    "    ################## STEP 1: finding centroid of the 2 class embeddings  \n",
    "    class1_mean = torch.mean(e1, dim=0)    # squish multiple rows to get mean \n",
    "    \n",
    "    class1_normed = class1_mean/torch.norm(class1_mean)\n",
    "    \n",
    "    print('val of centroid of class ' + str(cl1) + ' : ', class1_normed)\n",
    "    \n",
    "    return class1_normed"
   ]
  },
  {
   "cell_type": "code",
   "execution_count": 54,
   "id": "262262cf",
   "metadata": {
    "scrolled": true
   },
   "outputs": [
    {
     "name": "stdout",
     "output_type": "stream",
     "text": [
      "inliers for 3 :  895\n",
      "val of centroid of class 3 :  tensor([ 0.9645,  0.2336, -0.1232])\n"
     ]
    }
   ],
   "source": [
    "x1 = find_class_embeddings(mnist_net, \n",
    "                            data_loader, \n",
    "                            shatter_class)"
   ]
  },
  {
   "cell_type": "code",
   "execution_count": 55,
   "id": "eb9a9adf",
   "metadata": {},
   "outputs": [],
   "source": [
    "################## Step 3: calculate change of basis matrix\n",
    "def change_of_basis(wm, d):\n",
    "    ################## The first basis is d, how do we get the other 2 ?    \n",
    "\n",
    "    new_wm = torch.eye(wm.shape[0])\n",
    "    \n",
    "    # replace first column of identity matrix with d \n",
    "    new_wm[:, 0] = d\n",
    "    \n",
    "    print('new weight matrix : ', new_wm)\n",
    "\n",
    "    return new_wm"
   ]
  },
  {
   "cell_type": "code",
   "execution_count": 56,
   "id": "5b80f3e1",
   "metadata": {},
   "outputs": [],
   "source": [
    "def perform_weight_surgery(mnist_net, x1, save_model=True):\n",
    "    \n",
    "    ################## Step 2: calculating difference vector of the 2 classes \n",
    "    # calculate the difference between the 2 class vectors \n",
    "    d = x1\n",
    "    print('d : ', d)\n",
    "    d = d/torch.norm(d)\n",
    "    print('normed d : ', d)\n",
    "    weight_matrix = mnist_net.fc4.weight.clone().detach()  # weight matrix of the penultimate layer \n",
    "    print('weight matrix : \\n', weight_matrix)\n",
    "    \n",
    "    ################## Step 3: calculate change of basis matrix \n",
    "    # perform a change of basis, to put d as the first basis \n",
    "    new_wm = change_of_basis(weight_matrix, d)\n",
    "    \n",
    "    # gram schmidt to calculate orthogonal basis vectors \n",
    "    def gram_schmidt(weight_matrix):\n",
    "        ################## d is first basis vector\n",
    "        m, n = weight_matrix.shape\n",
    "        \n",
    "        Q = torch.zeros((m, n))\n",
    "\n",
    "        for i in range(n):\n",
    "\n",
    "            v = weight_matrix[:, i].clone()\n",
    "\n",
    "            for j in range(i):\n",
    "                proj = (v @ torch.outer(Q[:, j], Q[:, j]))\n",
    "                v = v - proj\n",
    "                        \n",
    "            Q[:, i] = v/torch.linalg.norm(v)\n",
    "            \n",
    "        return Q\n",
    "    \n",
    "    ################## Step 4: using Gram-Schmidt to get orthogonal basis vectors \n",
    "    U = gram_schmidt(new_wm)    \n",
    "    \n",
    "    print('U matrix: ', U)\n",
    "    print('result of U * U_transpose : ', torch.mm(U, U.T))\n",
    "    \n",
    "    S = torch.eye(U.shape[0])\n",
    "    S[0, 0] = 1e-5\n",
    "#     print('matrix S :\\n', S)\n",
    "    \n",
    "    # projection matrix \n",
    "#     P_d = torch.mm(torch.mm(U, S), U.T)\n",
    "    P_d = U @ S @ U.T\n",
    "\n",
    "    print('projection matrix : ', P_d)\n",
    "    \n",
    "#     modified_weight_matrix = torch.mm(P_d, weight_matrix)\n",
    "    modified_weight_matrix = P_d @ weight_matrix\n",
    "    \n",
    "    print('modified weight matrix :\\n', modified_weight_matrix)\n",
    "    \n",
    "    print('rank of the modified weights matrix : ', torch.linalg.matrix_rank(modified_weight_matrix))\n",
    "    \n",
    "    mnist_net.fc4.weight = torch.nn.Parameter(modified_weight_matrix)\n",
    "    \n",
    "    if save_model: \n",
    "        path = './modified_mnist_net_sc.pth'\n",
    "        torch.save(mnist_net.state_dict(), path)"
   ]
  },
  {
   "cell_type": "code",
   "execution_count": 57,
   "id": "346069de",
   "metadata": {
    "scrolled": false
   },
   "outputs": [
    {
     "name": "stdout",
     "output_type": "stream",
     "text": [
      "d :  tensor([ 0.9645,  0.2336, -0.1232])\n",
      "normed d :  tensor([ 0.9645,  0.2336, -0.1232])\n",
      "weight matrix : \n",
      " tensor([[-0.4793, -0.3378,  0.2388,  0.2235,  0.0479,  0.6634, -0.3005,  0.0974,\n",
      "          0.1657,  0.2789,  0.3297,  0.6865, -0.0954, -0.6407,  0.2100, -0.5907],\n",
      "        [ 0.7700,  0.2041,  0.5233, -0.4937,  0.1929, -0.2195, -0.1123, -0.1531,\n",
      "         -0.3558, -0.4096,  0.4457, -0.1805,  0.1870, -0.3620,  0.4298, -0.7580],\n",
      "        [-0.0495, -0.4934, -0.1103, -0.4222, -0.3907,  0.5165,  0.0474, -0.0977,\n",
      "          0.4707, -0.1545,  0.1174, -0.3732,  0.8841,  0.2384, -0.3835, -0.5321]])\n",
      "new weight matrix :  tensor([[ 0.9645,  0.0000,  0.0000],\n",
      "        [ 0.2336,  1.0000,  0.0000],\n",
      "        [-0.1232,  0.0000,  1.0000]])\n",
      "U matrix:  tensor([[ 9.6449e-01, -2.3175e-01,  1.2673e-01],\n",
      "        [ 2.3363e-01,  9.7233e-01,  1.8778e-09],\n",
      "        [-1.2322e-01,  2.9607e-02,  9.9194e-01]])\n",
      "result of U * U_transpose :  tensor([[ 1.0000e+00,  2.3796e-10, -5.8477e-09],\n",
      "        [ 2.3796e-10,  1.0000e+00,  1.8626e-09],\n",
      "        [-5.8477e-09,  1.8626e-09,  1.0000e+00]])\n",
      "projection matrix :  tensor([[ 0.0698, -0.2253,  0.1188],\n",
      "        [-0.2253,  0.9454,  0.0288],\n",
      "        [ 0.1188,  0.0288,  0.9848]])\n",
      "modified weight matrix :\n",
      " tensor([[-0.2128, -0.1282, -0.1144,  0.0767, -0.0866,  0.1571,  0.0100,  0.0297,\n",
      "          0.1477,  0.0934, -0.0635,  0.0442,  0.0563,  0.0652, -0.1278,  0.0663],\n",
      "        [ 0.8346,  0.2549,  0.4378, -0.5292,  0.1604, -0.3421, -0.0371, -0.1696,\n",
      "         -0.3602, -0.4545,  0.3505, -0.3361,  0.2237, -0.1910,  0.3480, -0.5988],\n",
      "        [-0.0836, -0.5202, -0.0652, -0.4034, -0.3735,  0.5812,  0.0077, -0.0890,\n",
      "          0.4730, -0.1308,  0.1677, -0.2912,  0.8647,  0.1482, -0.3404, -0.6161]])\n",
      "rank of the modified weights matrix :  tensor(3)\n"
     ]
    }
   ],
   "source": [
    "perform_weight_surgery(mnist_net, x1, save_model=True)"
   ]
  },
  {
   "cell_type": "code",
   "execution_count": 58,
   "id": "3754c031",
   "metadata": {},
   "outputs": [
    {
     "data": {
      "text/plain": [
       "Net(\n",
       "  (conv1): Conv2d(1, 8, kernel_size=(2, 2), stride=(1, 1))\n",
       "  (conv2): Conv2d(8, 16, kernel_size=(2, 2), stride=(1, 1))\n",
       "  (conv3): Conv2d(16, 32, kernel_size=(2, 2), stride=(1, 1))\n",
       "  (conv4): Conv2d(32, 64, kernel_size=(2, 2), stride=(1, 1))\n",
       "  (pool): MaxPool2d(kernel_size=2, stride=2, padding=0, dilation=1, ceil_mode=False)\n",
       "  (fc1): Linear(in_features=9216, out_features=128, bias=True)\n",
       "  (fc2): Linear(in_features=128, out_features=64, bias=True)\n",
       "  (fc3): Linear(in_features=64, out_features=16, bias=True)\n",
       "  (fc4): Linear(in_features=16, out_features=3, bias=True)\n",
       "  (fc5): Linear(in_features=3, out_features=10, bias=True)\n",
       ")"
      ]
     },
     "execution_count": 58,
     "metadata": {},
     "output_type": "execute_result"
    }
   ],
   "source": [
    "original_mnist_net = Net().to(device)\n",
    "original_mnist_net.load_state_dict(torch.load('./mnist_net.pth', map_location=torch.device(device)))  # load saved model \n",
    "\n",
    "original_mnist_net.eval()"
   ]
  },
  {
   "cell_type": "code",
   "execution_count": 59,
   "id": "59c38717",
   "metadata": {
    "scrolled": true
   },
   "outputs": [
    {
     "name": "stdout",
     "output_type": "stream",
     "text": [
      "cosine similarity of 2 random embeddings :  tensor(0.9988)\n"
     ]
    }
   ],
   "source": [
    "_ = find_cosine_similarity(original_mnist_net, data_loader, shatter_class)"
   ]
  },
  {
   "cell_type": "code",
   "execution_count": 60,
   "id": "3e35df1e",
   "metadata": {
    "scrolled": true
   },
   "outputs": [
    {
     "name": "stdout",
     "output_type": "stream",
     "text": [
      "cosine similarity of 2 random embeddings :  tensor(0.6584)\n"
     ]
    }
   ],
   "source": [
    "_ = find_cosine_similarity(mnist_net, data_loader, shatter_class)"
   ]
  },
  {
   "cell_type": "markdown",
   "id": "25a3132c",
   "metadata": {},
   "source": [
    "## View Unmodified Embeddings through Plotly"
   ]
  },
  {
   "cell_type": "code",
   "execution_count": 61,
   "id": "1489d437",
   "metadata": {},
   "outputs": [],
   "source": [
    "def remove_outliers(embeds, labels):\n",
    "    unique_labels = set(labels.numpy())\n",
    "    \n",
    "    model_if = IsolationForest(random_state=42)\n",
    "    \n",
    "    new_embeds, new_labels = [], []\n",
    "    \n",
    "    for label_x in unique_labels:\n",
    "        embed_x = embeds[labels==label_x]\n",
    "        \n",
    "        model_if.fit(embed_x)\n",
    "        embedx_anomaly = model_if.predict(embed_x)\n",
    "        \n",
    "        embed_x = embed_x[embedx_anomaly == 1]   # keeping inliers \n",
    "        labels_x = [label_x] * embed_x.shape[0]\n",
    "        \n",
    "        new_embeds.extend(embed_x)\n",
    "        new_labels.extend(labels_x)\n",
    "        \n",
    "    return np.stack(new_embeds), np.stack(new_labels)"
   ]
  },
  {
   "cell_type": "code",
   "execution_count": 62,
   "id": "fe72310f",
   "metadata": {},
   "outputs": [],
   "source": [
    "batch_images, batch_labels = next(iter(data_loader))\n",
    "\n",
    "embeds = original_mnist_net.embedding(batch_images.to(device), normalize=True)\n",
    "embeds = embeds.detach().numpy()\n",
    "\n",
    "# embeds, batch_labels = remove_outliers(embeds, batch_labels)"
   ]
  },
  {
   "cell_type": "code",
   "execution_count": 63,
   "id": "179b2ce4",
   "metadata": {},
   "outputs": [
    {
     "data": {
      "application/vnd.plotly.v1+json": {
       "config": {
        "plotlyServerURL": "https://plot.ly"
       },
       "data": [
        {
         "hovertemplate": "x=%{x}<br>y=%{y}<br>z=%{z}<br>label=%{marker.color}<extra></extra>",
         "legendgroup": "",
         "marker": {
          "color": [
           6,
           1,
           8,
           2,
           0,
           1,
           6,
           7,
           3,
           3,
           5,
           7,
           9,
           8,
           7,
           0,
           3,
           0,
           9,
           6,
           4,
           2,
           1,
           9,
           7,
           8,
           3,
           7,
           8,
           2,
           9,
           6,
           4,
           9,
           7,
           6,
           2,
           8,
           6,
           5,
           4,
           3,
           8,
           3,
           3,
           7,
           7,
           3,
           1,
           7,
           1,
           9,
           8,
           7,
           6,
           8,
           6,
           9,
           6,
           7,
           2,
           3,
           0,
           7,
           2,
           5,
           7,
           3,
           4,
           0,
           2,
           9,
           0,
           5,
           6,
           4,
           8,
           2,
           2,
           2,
           2,
           2,
           7,
           4,
           1,
           1,
           8,
           9,
           6,
           7,
           3,
           1,
           3,
           8,
           8,
           7,
           2,
           1,
           1,
           1,
           5,
           8,
           4,
           5,
           7,
           2,
           5,
           3,
           4,
           8,
           6,
           2,
           4,
           6,
           7,
           5,
           6,
           3,
           3,
           5,
           3,
           0,
           1,
           7,
           9,
           6,
           2,
           7,
           9,
           9,
           5,
           1,
           1,
           1,
           0,
           1,
           1,
           3,
           4,
           8,
           0,
           2,
           0,
           4,
           9,
           4,
           3,
           0,
           9,
           8,
           3,
           2,
           0,
           9,
           3,
           5,
           9,
           6,
           9,
           5,
           6,
           1,
           5,
           6,
           9,
           4,
           2,
           9,
           5,
           7,
           3,
           1,
           4,
           5,
           4,
           4,
           4,
           6,
           4,
           9,
           3,
           8,
           1,
           7,
           7,
           2,
           8,
           0,
           7,
           7,
           3,
           3,
           8,
           0,
           2,
           8,
           7,
           3,
           3,
           0,
           4,
           3,
           3,
           7,
           1,
           1,
           1,
           6,
           2,
           8,
           0,
           8,
           5,
           8,
           6,
           1,
           4,
           7,
           9,
           8,
           6,
           3,
           7,
           5,
           5,
           7,
           2,
           2,
           0,
           3,
           1,
           4,
           4,
           6,
           6,
           5,
           2,
           0,
           4,
           1,
           8,
           1,
           8,
           6,
           8,
           4,
           5,
           5,
           0,
           5,
           4,
           4,
           6,
           6,
           2,
           1
          ],
          "coloraxis": "coloraxis",
          "opacity": 1,
          "size": 5,
          "symbol": "circle"
         },
         "mode": "markers+text",
         "name": "",
         "scene": "scene",
         "showlegend": false,
         "text": [
          6,
          1,
          8,
          2,
          0,
          1,
          6,
          7,
          3,
          3,
          5,
          7,
          9,
          8,
          7,
          0,
          3,
          0,
          9,
          6,
          4,
          2,
          1,
          9,
          7,
          8,
          3,
          7,
          8,
          2,
          9,
          6,
          4,
          9,
          7,
          6,
          2,
          8,
          6,
          5,
          4,
          3,
          8,
          3,
          3,
          7,
          7,
          3,
          1,
          7,
          1,
          9,
          8,
          7,
          6,
          8,
          6,
          9,
          6,
          7,
          2,
          3,
          0,
          7,
          2,
          5,
          7,
          3,
          4,
          0,
          2,
          9,
          0,
          5,
          6,
          4,
          8,
          2,
          2,
          2,
          2,
          2,
          7,
          4,
          1,
          1,
          8,
          9,
          6,
          7,
          3,
          1,
          3,
          8,
          8,
          7,
          2,
          1,
          1,
          1,
          5,
          8,
          4,
          5,
          7,
          2,
          5,
          3,
          4,
          8,
          6,
          2,
          4,
          6,
          7,
          5,
          6,
          3,
          3,
          5,
          3,
          0,
          1,
          7,
          9,
          6,
          2,
          7,
          9,
          9,
          5,
          1,
          1,
          1,
          0,
          1,
          1,
          3,
          4,
          8,
          0,
          2,
          0,
          4,
          9,
          4,
          3,
          0,
          9,
          8,
          3,
          2,
          0,
          9,
          3,
          5,
          9,
          6,
          9,
          5,
          6,
          1,
          5,
          6,
          9,
          4,
          2,
          9,
          5,
          7,
          3,
          1,
          4,
          5,
          4,
          4,
          4,
          6,
          4,
          9,
          3,
          8,
          1,
          7,
          7,
          2,
          8,
          0,
          7,
          7,
          3,
          3,
          8,
          0,
          2,
          8,
          7,
          3,
          3,
          0,
          4,
          3,
          3,
          7,
          1,
          1,
          1,
          6,
          2,
          8,
          0,
          8,
          5,
          8,
          6,
          1,
          4,
          7,
          9,
          8,
          6,
          3,
          7,
          5,
          5,
          7,
          2,
          2,
          0,
          3,
          1,
          4,
          4,
          6,
          6,
          5,
          2,
          0,
          4,
          1,
          8,
          1,
          8,
          6,
          8,
          4,
          5,
          5,
          0,
          5,
          4,
          4,
          6,
          6,
          2,
          1
         ],
         "textfont": {
          "color": "white"
         },
         "textposition": "middle center",
         "type": "scatter3d",
         "x": [
          -0.8095597624778748,
          -0.7997342348098755,
          0.03524869307875633,
          0.29421839118003845,
          0.42211461067199707,
          -0.7658910751342773,
          -0.7934823632240295,
          -0.5232523083686829,
          0.9490489363670349,
          0.9661852121353149,
          0.3342970013618469,
          -0.30687767267227173,
          0.6389751434326172,
          0.019816704094409943,
          -0.4851554334163666,
          0.4415249526500702,
          0.9657281041145325,
          0.43180468678474426,
          0.6403076648712158,
          -0.787947952747345,
          -0.3458509147167206,
          0.2732000946998596,
          -0.7933374047279358,
          0.7008143663406372,
          -0.5277956128120422,
          0.026406267657876015,
          0.961958110332489,
          -0.45833367109298706,
          -0.01151367835700512,
          0.3455139398574829,
          0.9766279458999634,
          -0.8273473978042603,
          -0.328608900308609,
          0.6436684727668762,
          -0.4931807518005371,
          -0.8090248703956604,
          0.24835792183876038,
          0.3870752453804016,
          -0.8045711517333984,
          0.7285081148147583,
          -0.37221959233283997,
          0.9720905423164368,
          0.07630839943885803,
          0.9847993850708008,
          0.9637175798416138,
          -0.6905710101127625,
          -0.5355689525604248,
          0.9537635445594788,
          -0.7564518451690674,
          -0.5178637504577637,
          -0.7921262979507446,
          0.6509982347488403,
          -0.024772141128778458,
          -0.44156986474990845,
          -0.8193884491920471,
          0.046717800199985504,
          -0.7934790849685669,
          0.653008222579956,
          -0.7212401628494263,
          -0.4919978678226471,
          0.3557010889053345,
          0.9721382856369019,
          0.44458287954330444,
          -0.4957859218120575,
          0.4453302025794983,
          0.3317747712135315,
          0.11029592901468277,
          0.9607190489768982,
          -0.3247659206390381,
          0.4008597135543823,
          0.2605770528316498,
          0.6420224905014038,
          0.4382716119289398,
          0.31215906143188477,
          -0.8237662315368652,
          -0.36097782850265503,
          -0.07401616871356964,
          0.3266961872577667,
          0.335405558347702,
          0.25986388325691223,
          0.2515457272529602,
          0.2847868502140045,
          -0.38546425104141235,
          -0.36634400486946106,
          -0.7666070461273193,
          -0.7820118069648743,
          0.3373747766017914,
          0.6448180079460144,
          -0.7900874018669128,
          -0.4176112711429596,
          0.966025710105896,
          -0.7638483643531799,
          0.49314528703689575,
          0.015445858240127563,
          0.011068387888371944,
          -0.5175374150276184,
          0.27492275834083557,
          -0.7814066410064697,
          -0.7661643028259277,
          -0.776837170124054,
          0.22850456833839417,
          -0.029916713014245033,
          -0.3688449561595917,
          0.33259230852127075,
          -0.507226288318634,
          -0.3496999740600586,
          0.2970275580883026,
          0.9611567854881287,
          -0.3275183439254761,
          0.00033386211725883186,
          -0.810552716255188,
          0.23495501279830933,
          -0.3397131860256195,
          -0.8183797001838684,
          -0.49802473187446594,
          0.3511389195919037,
          -0.8102893829345703,
          0.9835249781608582,
          0.9683203101158142,
          0.33056873083114624,
          0.9621393084526062,
          0.4476056694984436,
          -0.790511965751648,
          -0.3797348141670227,
          0.6313864588737488,
          -0.7835344076156616,
          0.34151479601860046,
          -0.5102181434631348,
          0.6373981833457947,
          0.6434157490730286,
          0.34097427129745483,
          -0.7663266658782959,
          -0.7703202962875366,
          -0.7929618954658508,
          0.4260231852531433,
          -0.7698156237602234,
          -0.7646352648735046,
          0.9662359952926636,
          -0.3571767210960388,
          -0.008734576404094696,
          0.44108036160469055,
          0.26072442531585693,
          0.4594051241874695,
          -0.3673661947250366,
          0.649645209312439,
          -0.3547390103340149,
          0.9682376384735107,
          0.4261828362941742,
          0.6541475057601929,
          0.025455640628933907,
          0.9687562584877014,
          0.2597651183605194,
          0.4122719168663025,
          0.6435487866401672,
          0.9178605079650879,
          0.3872430622577667,
          0.6423659324645996,
          -0.7884646058082581,
          0.6357721090316772,
          0.45365628600120544,
          -0.804176926612854,
          -0.7656053900718689,
          0.32177138328552246,
          -0.8078160881996155,
          0.6359079480171204,
          -0.3879414200782776,
          0.2825649678707123,
          0.649107813835144,
          0.34710919857025146,
          -0.523076057434082,
          0.9438533186912537,
          -0.7963996529579163,
          -0.37345296144485474,
          0.33680567145347595,
          -0.3614037036895752,
          -0.3423652648925781,
          -0.24852724373340607,
          -0.8078230023384094,
          -0.32653555274009705,
          0.6485214233398438,
          0.9700189232826233,
          -0.022949472069740295,
          -0.7628031969070435,
          -0.5028104186058044,
          -0.5216366648674011,
          0.30563703179359436,
          -0.08597657084465027,
          0.4186320900917053,
          -0.4560955762863159,
          -0.5343036651611328,
          0.96795654296875,
          0.9667618870735168,
          0.601016640663147,
          0.4374757707118988,
          0.2843659222126007,
          -0.021254004910588264,
          -0.5087882876396179,
          0.908647894859314,
          0.9492011070251465,
          0.4311337471008301,
          -0.3548349142074585,
          0.9570923447608948,
          0.9690881371498108,
          -0.5035778284072876,
          -0.770871102809906,
          -0.7679123282432556,
          -0.7642862200737,
          -0.8164957165718079,
          0.33073660731315613,
          0.011865499429404736,
          0.43593284487724304,
          0.18750996887683868,
          0.33023205399513245,
          -0.01814083755016327,
          -0.8053486943244934,
          -0.7610253095626831,
          -0.3190126419067383,
          -0.5037394762039185,
          0.6396982073783875,
          -0.0037438462022691965,
          -0.8107767701148987,
          0.9687277674674988,
          -0.5225743055343628,
          0.3381395637989044,
          0.3488842248916626,
          -0.4032517075538635,
          0.2430274933576584,
          0.2975304126739502,
          0.4450441300868988,
          0.9515296220779419,
          -0.7945437431335449,
          -0.30052319169044495,
          -0.340892493724823,
          -0.8095976114273071,
          -0.8101063370704651,
          0.2966419458389282,
          0.2810826301574707,
          0.4219364821910858,
          -0.3436259627342224,
          -0.7648057341575623,
          -0.01182350143790245,
          -0.7601484656333923,
          -0.7790414690971375,
          -0.8052254915237427,
          0.00199126941151917,
          -0.35015377402305603,
          0.3128446340560913,
          0.32835206389427185,
          0.42916932702064514,
          0.36473792791366577,
          -0.3548356294631958,
          -0.35829779505729675,
          -0.7926090359687805,
          -0.8117552399635315,
          0.28502222895622253,
          -0.7960854768753052
         ],
         "y": [
          0.4458293616771698,
          0.06608685851097107,
          0.9521161913871765,
          0.16579459607601166,
          -0.7769196033477783,
          0.014373382553458214,
          0.46392637491226196,
          -0.8511387705802917,
          0.27939194440841675,
          0.2208259254693985,
          0.5492715835571289,
          -0.9225601553916931,
          -0.5359326601028442,
          0.9592834115028381,
          -0.8740969300270081,
          -0.7667959332466125,
          0.22674055397510529,
          -0.7690988779067993,
          -0.5372853875160217,
          0.4640783965587616,
          -0.32590407133102417,
          0.11195103824138641,
          0.03072996623814106,
          0.6957535147666931,
          -0.8491536974906921,
          0.9742586016654968,
          0.22413745522499084,
          -0.8882622718811035,
          0.9639953374862671,
          0.1647988110780716,
          0.21493510901927948,
          0.4203956723213196,
          -0.3227853775024414,
          -0.536292552947998,
          -0.8688654899597168,
          0.44733551144599915,
          0.10822997242212296,
          0.7088809013366699,
          0.45046207308769226,
          0.4175925850868225,
          -0.30672991275787354,
          0.2119400054216385,
          0.9432328939437866,
          0.1444166898727417,
          0.23164282739162445,
          -0.514657735824585,
          -0.8444569110870361,
          0.2982810437679291,
          0.05115927383303642,
          -0.8552731871604919,
          0.014320258982479572,
          -0.5362339019775391,
          0.9576638340950012,
          -0.8947595953941345,
          0.4263889491558075,
          0.9718890190124512,
          0.46000951528549194,
          -0.5234188437461853,
          0.5336974263191223,
          -0.8703187704086304,
          0.14901821315288544,
          0.18715065717697144,
          -0.7652931213378906,
          -0.8679713010787964,
          0.20010915398597717,
          0.5584020614624023,
          -0.878699541091919,
          0.272151380777359,
          -0.3309389054775238,
          -0.7718625068664551,
          0.10867885500192642,
          -0.5407205820083618,
          -0.7668259739875793,
          0.5731151700019836,
          0.42172008752822876,
          -0.35039985179901123,
          0.9241425395011902,
          0.22754943370819092,
          0.1586543172597885,
          0.08485639840364456,
          0.13177978992462158,
          0.11029272526502609,
          -0.9155339002609253,
          -0.3095248341560364,
          0.04812366142868996,
          0.049580469727516174,
          0.9388613700866699,
          -0.5039263367652893,
          0.45529091358184814,
          -0.9074102640151978,
          0.22105157375335693,
          0.044611189514398575,
          0.09477326273918152,
          0.9660090208053589,
          0.9603311419487,
          -0.8553648591041565,
          0.1164245456457138,
          -0.0013673807261511683,
          0.0782000795006752,
          0.04106007143855095,
          0.7557883858680725,
          0.9633740186691284,
          -0.321709007024765,
          0.5504657626152039,
          -0.8616955280303955,
          -0.035902779549360275,
          0.587899386882782,
          0.2499469518661499,
          -0.3407660722732544,
          0.9764420390129089,
          0.4435259699821472,
          0.11378154903650284,
          -0.31045061349868774,
          0.4331844449043274,
          -0.8668780326843262,
          0.49730414152145386,
          0.44499650597572327,
          0.1597311794757843,
          0.2128903865814209,
          0.5841899514198303,
          0.2295721173286438,
          -0.7597307562828064,
          0.008389054797589779,
          -0.9241150617599487,
          -0.5487048029899597,
          0.47073739767074585,
          0.10619751363992691,
          -0.8599293828010559,
          -0.5392913222312927,
          -0.5375511646270752,
          0.5191306471824646,
          0.05305188521742821,
          0.01874667778611183,
          0.015414992347359657,
          -0.7719168066978455,
          0.07370498776435852,
          0.04304494336247444,
          0.2258225530385971,
          -0.3256106674671173,
          0.9686512351036072,
          -0.7670661211013794,
          0.09103408455848694,
          -0.7545205354690552,
          -0.3206101357936859,
          -0.5321546196937561,
          -0.30987977981567383,
          0.21824663877487183,
          -0.7739242911338806,
          -0.538444995880127,
          0.9558218717575073,
          0.2071813941001892,
          0.022828275337815285,
          -0.7719768285751343,
          -0.5257652401924133,
          0.3598162829875946,
          0.8351588845252991,
          -0.5284795165061951,
          0.469017893075943,
          -0.5303969979286194,
          0.5155010223388672,
          0.45189422369003296,
          0.03579260781407356,
          0.5414008498191833,
          0.4445800483226776,
          -0.526294469833374,
          -0.26835593581199646,
          0.09209359437227249,
          -0.5366114974021912,
          0.6458337903022766,
          -0.8520093560218811,
          0.29367029666900635,
          -0.0057618324644863605,
          -0.32041090726852417,
          0.5339202284812927,
          -0.3195142447948456,
          -0.32221248745918274,
          -0.3867156505584717,
          0.4473980963230133,
          -0.33491069078445435,
          -0.5544573068618774,
          0.21243712306022644,
          0.9698970317840576,
          0.013318384997546673,
          -0.8642110824584961,
          -0.8531545996665955,
          0.09878890216350555,
          0.9212073087692261,
          -0.7651681900024414,
          -0.8888940215110779,
          -0.8452684879302979,
          0.2179337739944458,
          0.22032278776168823,
          0.6669833660125732,
          -0.7724108099937439,
          0.13200901448726654,
          0.9623664021492004,
          -0.8608782887458801,
          0.3055432140827179,
          0.29267677664756775,
          -0.7671806216239929,
          -0.31091785430908203,
          0.2565537989139557,
          0.2287249118089676,
          -0.8637062311172485,
          -0.01461793016642332,
          0.029046986252069473,
          0.05480029433965683,
          0.43496373295783997,
          0.12133719772100449,
          0.966860294342041,
          -0.761077344417572,
          0.9688630104064941,
          0.5336076021194458,
          0.9655560255050659,
          0.4502619504928589,
          0.07836530357599258,
          -0.32340067625045776,
          -0.8638547658920288,
          -0.5381568670272827,
          0.972679078578949,
          0.4437934160232544,
          0.22397075593471527,
          -0.8525642156600952,
          0.5409306883811951,
          0.5266768932342529,
          -0.9149456024169922,
          0.0576336644589901,
          0.07795394212007523,
          -0.7696366310119629,
          0.2860826849937439,
          0.08000843226909637,
          -0.3426273465156555,
          -0.32663071155548096,
          0.44617199897766113,
          0.4475749135017395,
          0.6400007605552673,
          0.11348188668489456,
          -0.7761792540550232,
          -0.3147319257259369,
          0.03557673841714859,
          0.9606316685676575,
          0.02860081195831299,
          0.49772292375564575,
          0.4512031078338623,
          0.9644737243652344,
          -0.3007061779499054,
          0.546412467956543,
          0.5887103080749512,
          -0.7748164534568787,
          0.5361071228981018,
          -0.32027876377105713,
          -0.3087981343269348,
          0.4121076464653015,
          0.44926902651786804,
          0.11173353344202042,
          0.021841559559106827
         ],
         "z": [
          0.38190189003944397,
          -0.5967057347297668,
          -0.3036976158618927,
          -0.9412479400634766,
          -0.4671350121498108,
          -0.6428096890449524,
          0.3939010500907898,
          -0.0420699268579483,
          -0.14576061069965363,
          -0.13312409818172455,
          0.7658630609512329,
          0.2338995337486267,
          0.5518034100532532,
          -0.28174924850463867,
          0.02405824512243271,
          -0.4659181833267212,
          -0.12632466852664948,
          -0.47120222449302673,
          0.5489358305931091,
          0.4046841859817505,
          0.8798714280128479,
          -0.9554206728935242,
          -0.6080061793327332,
          0.1574365645647049,
          0.01923055201768875,
          -0.2238812893629074,
          -0.15620188415050507,
          0.030338121578097343,
          -0.2656697630882263,
          -0.9238297939300537,
          -0.0009052129462361336,
          0.37251016497612,
          0.8875954747200012,
          0.5459680557250977,
          0.04296059533953667,
          0.3812738358974457,
          -0.9626030325889587,
          -0.5896276235580444,
          0.3869743347167969,
          0.543039858341217,
          0.8759962320327759,
          -0.10060521215200424,
          -0.3232470154762268,
          -0.09650909155607224,
          -0.13262708485126495,
          -0.5081722140312195,
          -0.007646483369171619,
          -0.036926474422216415,
          -0.6520454287528992,
          0.018023280426859856,
          -0.6101891994476318,
          0.5372658371925354,
          -0.2868209779262543,
          0.06649193167686462,
          0.3831385672092438,
          -0.23075777292251587,
          0.3984747529029846,
          0.5473691821098328,
          0.4415651261806488,
          0.0219842828810215,
          -0.9226430654525757,
          -0.14114466309547424,
          -0.46548086404800415,
          0.02867312729358673,
          -0.8727183938026428,
          0.7603371143341064,
          -0.4644588530063629,
          -0.05433855578303337,
          0.8860059976577759,
          -0.49349746108055115,
          -0.9593166708946228,
          0.543533205986023,
          -0.46893057227134705,
          0.7576910257339478,
          0.37889495491981506,
          0.8642423748970032,
          -0.374809592962265,
          -0.9173280596733093,
          -0.9286182522773743,
          -0.9619096517562866,
          -0.9588320255279541,
          -0.9522247314453125,
          0.11495639383792877,
          0.8774887323379517,
          -0.6403106451034546,
          -0.6212884187698364,
          -0.06868549436330795,
          0.5746894478797913,
          0.4104534983634949,
          0.04698464274406433,
          -0.13390517234802246,
          -0.6438520550727844,
          -0.8647692203521729,
          -0.25804656744003296,
          -0.2786425054073334,
          0.02249295450747013,
          -0.954391360282898,
          -0.6240207552909851,
          -0.6378690600395203,
          -0.6283613443374634,
          0.6136525869369507,
          -0.26648733019828796,
          0.872041642665863,
          0.7657479047775269,
          0.014225419610738754,
          -0.9361734986305237,
          0.7524287104606628,
          -0.11706406623125076,
          0.8812549114227295,
          -0.2157793790102005,
          0.38247740268707275,
          -0.9653236865997314,
          0.887814998626709,
          0.3776319622993469,
          0.02222113497555256,
          0.7933410406112671,
          0.3813256621360779,
          -0.0846438780426979,
          -0.13051235675811768,
          0.7412465810775757,
          -0.14691735804080963,
          -0.4716549217700958,
          -0.6123891472816467,
          0.04257721081376076,
          0.5479727983474731,
          0.4055613577365875,
          -0.9338574409484863,
          0.01410383265465498,
          0.5503529906272888,
          0.5450273752212524,
          0.7837345600128174,
          -0.6402568817138672,
          -0.6373814344406128,
          -0.609076201915741,
          -0.4718567430973053,
          -0.6339964270591736,
          -0.6430240869522095,
          -0.12406471371650696,
          0.8754441738128662,
          -0.24827104806900024,
          -0.4658944606781006,
          -0.9611116051673889,
          -0.4686637818813324,
          0.8730700016021729,
          0.5429297089576721,
          0.8821195363998413,
          -0.12200149148702621,
          -0.4684115946292877,
          0.5311948657035828,
          -0.29284238815307617,
          -0.1363351196050644,
          -0.9654019474983215,
          -0.48382195830345154,
          0.556251585483551,
          -0.16752424836158752,
          0.39057981967926025,
          0.5550454258918762,
          0.3979268968105316,
          0.560778796672821,
          0.7269488573074341,
          0.3861231505870819,
          -0.6423139572143555,
          0.7767549157142639,
          0.387016624212265,
          0.5644776821136475,
          0.8817519545555115,
          -0.9548171162605286,
          0.5391725897789001,
          0.680010199546814,
          0.02171255089342594,
          -0.15132343769073486,
          -0.6047433018684387,
          0.8705571293830872,
          0.775558590888977,
          0.8759554624557495,
          0.8825899362564087,
          0.8880795240402222,
          0.38374072313308716,
          0.8838605284690857,
          0.5215333700180054,
          -0.11804147064685822,
          -0.24243171513080597,
          -0.6464934945106506,
          0.01791004277765751,
          -0.004734853748232126,
          -0.9470093846321106,
          -0.3794538676738739,
          -0.48914700746536255,
          0.042944494634866714,
          -0.00637841084972024,
          -0.12476004660129547,
          -0.1297282576560974,
          0.4403546452522278,
          -0.46043074131011963,
          -0.949583888053894,
          -0.2709227502346039,
          0.004809304606169462,
          -0.28460925817489624,
          -0.11557535827159882,
          -0.47492897510528564,
          0.8817155361175537,
          -0.1347382366657257,
          -0.09248338639736176,
          0.02051374688744545,
          -0.6368234753608704,
          -0.6398959755897522,
          -0.6425446271896362,
          0.37965962290763855,
          -0.9358903169631958,
          -0.25503015518188477,
          -0.4803372025489807,
          -0.16169218719005585,
          0.7785946726799011,
          -0.259562224149704,
          0.38558724522590637,
          -0.6439715623855591,
          0.8908663988113403,
          0.0012661656364798546,
          0.5487926602363586,
          -0.23212388157844543,
          0.3816916048526764,
          -0.10678775608539581,
          0.007102122530341148,
          0.7701011300086975,
          0.7751718163490295,
          0.016203951090574265,
          -0.968305766582489,
          -0.9515244960784912,
          -0.457815557718277,
          -0.11290742456912994,
          -0.6019126772880554,
          0.890108048915863,
          0.8815354108810425,
          0.38142120838165283,
          0.3786877691745758,
          0.7088035345077515,
          -0.9529504179954529,
          -0.4685245752334595,
          0.8847966194152832,
          -0.6432779431343079,
          -0.2775733172893524,
          -0.6491196155548096,
          0.3812692165374756,
          0.3847435414791107,
          -0.2641713619232178,
          0.8871123194694519,
          0.776892364025116,
          0.738650918006897,
          -0.4641907513141632,
          0.7612854242324829,
          0.8783582448959351,
          0.8810598254203796,
          0.4493752717971802,
          0.37310951948165894,
          -0.9519863724708557,
          -0.6047899723052979
         ]
        }
       ],
       "layout": {
        "coloraxis": {
         "colorbar": {
          "title": {
           "text": "label"
          }
         },
         "colorscale": [
          [
           0,
           "#0d0887"
          ],
          [
           0.1111111111111111,
           "#46039f"
          ],
          [
           0.2222222222222222,
           "#7201a8"
          ],
          [
           0.3333333333333333,
           "#9c179e"
          ],
          [
           0.4444444444444444,
           "#bd3786"
          ],
          [
           0.5555555555555556,
           "#d8576b"
          ],
          [
           0.6666666666666666,
           "#ed7953"
          ],
          [
           0.7777777777777778,
           "#fb9f3a"
          ],
          [
           0.8888888888888888,
           "#fdca26"
          ],
          [
           1,
           "#f0f921"
          ]
         ]
        },
        "legend": {
         "tracegroupgap": 0
        },
        "margin": {
         "t": 60
        },
        "scene": {
         "domain": {
          "x": [
           0,
           1
          ],
          "y": [
           0,
           1
          ]
         },
         "xaxis": {
          "title": {
           "text": "x"
          }
         },
         "yaxis": {
          "title": {
           "text": "y"
          }
         },
         "zaxis": {
          "title": {
           "text": "z"
          }
         }
        },
        "template": {
         "data": {
          "bar": [
           {
            "error_x": {
             "color": "#2a3f5f"
            },
            "error_y": {
             "color": "#2a3f5f"
            },
            "marker": {
             "line": {
              "color": "#E5ECF6",
              "width": 0.5
             },
             "pattern": {
              "fillmode": "overlay",
              "size": 10,
              "solidity": 0.2
             }
            },
            "type": "bar"
           }
          ],
          "barpolar": [
           {
            "marker": {
             "line": {
              "color": "#E5ECF6",
              "width": 0.5
             },
             "pattern": {
              "fillmode": "overlay",
              "size": 10,
              "solidity": 0.2
             }
            },
            "type": "barpolar"
           }
          ],
          "carpet": [
           {
            "aaxis": {
             "endlinecolor": "#2a3f5f",
             "gridcolor": "white",
             "linecolor": "white",
             "minorgridcolor": "white",
             "startlinecolor": "#2a3f5f"
            },
            "baxis": {
             "endlinecolor": "#2a3f5f",
             "gridcolor": "white",
             "linecolor": "white",
             "minorgridcolor": "white",
             "startlinecolor": "#2a3f5f"
            },
            "type": "carpet"
           }
          ],
          "choropleth": [
           {
            "colorbar": {
             "outlinewidth": 0,
             "ticks": ""
            },
            "type": "choropleth"
           }
          ],
          "contour": [
           {
            "colorbar": {
             "outlinewidth": 0,
             "ticks": ""
            },
            "colorscale": [
             [
              0,
              "#0d0887"
             ],
             [
              0.1111111111111111,
              "#46039f"
             ],
             [
              0.2222222222222222,
              "#7201a8"
             ],
             [
              0.3333333333333333,
              "#9c179e"
             ],
             [
              0.4444444444444444,
              "#bd3786"
             ],
             [
              0.5555555555555556,
              "#d8576b"
             ],
             [
              0.6666666666666666,
              "#ed7953"
             ],
             [
              0.7777777777777778,
              "#fb9f3a"
             ],
             [
              0.8888888888888888,
              "#fdca26"
             ],
             [
              1,
              "#f0f921"
             ]
            ],
            "type": "contour"
           }
          ],
          "contourcarpet": [
           {
            "colorbar": {
             "outlinewidth": 0,
             "ticks": ""
            },
            "type": "contourcarpet"
           }
          ],
          "heatmap": [
           {
            "colorbar": {
             "outlinewidth": 0,
             "ticks": ""
            },
            "colorscale": [
             [
              0,
              "#0d0887"
             ],
             [
              0.1111111111111111,
              "#46039f"
             ],
             [
              0.2222222222222222,
              "#7201a8"
             ],
             [
              0.3333333333333333,
              "#9c179e"
             ],
             [
              0.4444444444444444,
              "#bd3786"
             ],
             [
              0.5555555555555556,
              "#d8576b"
             ],
             [
              0.6666666666666666,
              "#ed7953"
             ],
             [
              0.7777777777777778,
              "#fb9f3a"
             ],
             [
              0.8888888888888888,
              "#fdca26"
             ],
             [
              1,
              "#f0f921"
             ]
            ],
            "type": "heatmap"
           }
          ],
          "heatmapgl": [
           {
            "colorbar": {
             "outlinewidth": 0,
             "ticks": ""
            },
            "colorscale": [
             [
              0,
              "#0d0887"
             ],
             [
              0.1111111111111111,
              "#46039f"
             ],
             [
              0.2222222222222222,
              "#7201a8"
             ],
             [
              0.3333333333333333,
              "#9c179e"
             ],
             [
              0.4444444444444444,
              "#bd3786"
             ],
             [
              0.5555555555555556,
              "#d8576b"
             ],
             [
              0.6666666666666666,
              "#ed7953"
             ],
             [
              0.7777777777777778,
              "#fb9f3a"
             ],
             [
              0.8888888888888888,
              "#fdca26"
             ],
             [
              1,
              "#f0f921"
             ]
            ],
            "type": "heatmapgl"
           }
          ],
          "histogram": [
           {
            "marker": {
             "pattern": {
              "fillmode": "overlay",
              "size": 10,
              "solidity": 0.2
             }
            },
            "type": "histogram"
           }
          ],
          "histogram2d": [
           {
            "colorbar": {
             "outlinewidth": 0,
             "ticks": ""
            },
            "colorscale": [
             [
              0,
              "#0d0887"
             ],
             [
              0.1111111111111111,
              "#46039f"
             ],
             [
              0.2222222222222222,
              "#7201a8"
             ],
             [
              0.3333333333333333,
              "#9c179e"
             ],
             [
              0.4444444444444444,
              "#bd3786"
             ],
             [
              0.5555555555555556,
              "#d8576b"
             ],
             [
              0.6666666666666666,
              "#ed7953"
             ],
             [
              0.7777777777777778,
              "#fb9f3a"
             ],
             [
              0.8888888888888888,
              "#fdca26"
             ],
             [
              1,
              "#f0f921"
             ]
            ],
            "type": "histogram2d"
           }
          ],
          "histogram2dcontour": [
           {
            "colorbar": {
             "outlinewidth": 0,
             "ticks": ""
            },
            "colorscale": [
             [
              0,
              "#0d0887"
             ],
             [
              0.1111111111111111,
              "#46039f"
             ],
             [
              0.2222222222222222,
              "#7201a8"
             ],
             [
              0.3333333333333333,
              "#9c179e"
             ],
             [
              0.4444444444444444,
              "#bd3786"
             ],
             [
              0.5555555555555556,
              "#d8576b"
             ],
             [
              0.6666666666666666,
              "#ed7953"
             ],
             [
              0.7777777777777778,
              "#fb9f3a"
             ],
             [
              0.8888888888888888,
              "#fdca26"
             ],
             [
              1,
              "#f0f921"
             ]
            ],
            "type": "histogram2dcontour"
           }
          ],
          "mesh3d": [
           {
            "colorbar": {
             "outlinewidth": 0,
             "ticks": ""
            },
            "type": "mesh3d"
           }
          ],
          "parcoords": [
           {
            "line": {
             "colorbar": {
              "outlinewidth": 0,
              "ticks": ""
             }
            },
            "type": "parcoords"
           }
          ],
          "pie": [
           {
            "automargin": true,
            "type": "pie"
           }
          ],
          "scatter": [
           {
            "fillpattern": {
             "fillmode": "overlay",
             "size": 10,
             "solidity": 0.2
            },
            "type": "scatter"
           }
          ],
          "scatter3d": [
           {
            "line": {
             "colorbar": {
              "outlinewidth": 0,
              "ticks": ""
             }
            },
            "marker": {
             "colorbar": {
              "outlinewidth": 0,
              "ticks": ""
             }
            },
            "type": "scatter3d"
           }
          ],
          "scattercarpet": [
           {
            "marker": {
             "colorbar": {
              "outlinewidth": 0,
              "ticks": ""
             }
            },
            "type": "scattercarpet"
           }
          ],
          "scattergeo": [
           {
            "marker": {
             "colorbar": {
              "outlinewidth": 0,
              "ticks": ""
             }
            },
            "type": "scattergeo"
           }
          ],
          "scattergl": [
           {
            "marker": {
             "colorbar": {
              "outlinewidth": 0,
              "ticks": ""
             }
            },
            "type": "scattergl"
           }
          ],
          "scattermapbox": [
           {
            "marker": {
             "colorbar": {
              "outlinewidth": 0,
              "ticks": ""
             }
            },
            "type": "scattermapbox"
           }
          ],
          "scatterpolar": [
           {
            "marker": {
             "colorbar": {
              "outlinewidth": 0,
              "ticks": ""
             }
            },
            "type": "scatterpolar"
           }
          ],
          "scatterpolargl": [
           {
            "marker": {
             "colorbar": {
              "outlinewidth": 0,
              "ticks": ""
             }
            },
            "type": "scatterpolargl"
           }
          ],
          "scatterternary": [
           {
            "marker": {
             "colorbar": {
              "outlinewidth": 0,
              "ticks": ""
             }
            },
            "type": "scatterternary"
           }
          ],
          "surface": [
           {
            "colorbar": {
             "outlinewidth": 0,
             "ticks": ""
            },
            "colorscale": [
             [
              0,
              "#0d0887"
             ],
             [
              0.1111111111111111,
              "#46039f"
             ],
             [
              0.2222222222222222,
              "#7201a8"
             ],
             [
              0.3333333333333333,
              "#9c179e"
             ],
             [
              0.4444444444444444,
              "#bd3786"
             ],
             [
              0.5555555555555556,
              "#d8576b"
             ],
             [
              0.6666666666666666,
              "#ed7953"
             ],
             [
              0.7777777777777778,
              "#fb9f3a"
             ],
             [
              0.8888888888888888,
              "#fdca26"
             ],
             [
              1,
              "#f0f921"
             ]
            ],
            "type": "surface"
           }
          ],
          "table": [
           {
            "cells": {
             "fill": {
              "color": "#EBF0F8"
             },
             "line": {
              "color": "white"
             }
            },
            "header": {
             "fill": {
              "color": "#C8D4E3"
             },
             "line": {
              "color": "white"
             }
            },
            "type": "table"
           }
          ]
         },
         "layout": {
          "annotationdefaults": {
           "arrowcolor": "#2a3f5f",
           "arrowhead": 0,
           "arrowwidth": 1
          },
          "autotypenumbers": "strict",
          "coloraxis": {
           "colorbar": {
            "outlinewidth": 0,
            "ticks": ""
           }
          },
          "colorscale": {
           "diverging": [
            [
             0,
             "#8e0152"
            ],
            [
             0.1,
             "#c51b7d"
            ],
            [
             0.2,
             "#de77ae"
            ],
            [
             0.3,
             "#f1b6da"
            ],
            [
             0.4,
             "#fde0ef"
            ],
            [
             0.5,
             "#f7f7f7"
            ],
            [
             0.6,
             "#e6f5d0"
            ],
            [
             0.7,
             "#b8e186"
            ],
            [
             0.8,
             "#7fbc41"
            ],
            [
             0.9,
             "#4d9221"
            ],
            [
             1,
             "#276419"
            ]
           ],
           "sequential": [
            [
             0,
             "#0d0887"
            ],
            [
             0.1111111111111111,
             "#46039f"
            ],
            [
             0.2222222222222222,
             "#7201a8"
            ],
            [
             0.3333333333333333,
             "#9c179e"
            ],
            [
             0.4444444444444444,
             "#bd3786"
            ],
            [
             0.5555555555555556,
             "#d8576b"
            ],
            [
             0.6666666666666666,
             "#ed7953"
            ],
            [
             0.7777777777777778,
             "#fb9f3a"
            ],
            [
             0.8888888888888888,
             "#fdca26"
            ],
            [
             1,
             "#f0f921"
            ]
           ],
           "sequentialminus": [
            [
             0,
             "#0d0887"
            ],
            [
             0.1111111111111111,
             "#46039f"
            ],
            [
             0.2222222222222222,
             "#7201a8"
            ],
            [
             0.3333333333333333,
             "#9c179e"
            ],
            [
             0.4444444444444444,
             "#bd3786"
            ],
            [
             0.5555555555555556,
             "#d8576b"
            ],
            [
             0.6666666666666666,
             "#ed7953"
            ],
            [
             0.7777777777777778,
             "#fb9f3a"
            ],
            [
             0.8888888888888888,
             "#fdca26"
            ],
            [
             1,
             "#f0f921"
            ]
           ]
          },
          "colorway": [
           "#636efa",
           "#EF553B",
           "#00cc96",
           "#ab63fa",
           "#FFA15A",
           "#19d3f3",
           "#FF6692",
           "#B6E880",
           "#FF97FF",
           "#FECB52"
          ],
          "font": {
           "color": "#2a3f5f"
          },
          "geo": {
           "bgcolor": "white",
           "lakecolor": "white",
           "landcolor": "#E5ECF6",
           "showlakes": true,
           "showland": true,
           "subunitcolor": "white"
          },
          "hoverlabel": {
           "align": "left"
          },
          "hovermode": "closest",
          "mapbox": {
           "style": "light"
          },
          "paper_bgcolor": "white",
          "plot_bgcolor": "#E5ECF6",
          "polar": {
           "angularaxis": {
            "gridcolor": "white",
            "linecolor": "white",
            "ticks": ""
           },
           "bgcolor": "#E5ECF6",
           "radialaxis": {
            "gridcolor": "white",
            "linecolor": "white",
            "ticks": ""
           }
          },
          "scene": {
           "xaxis": {
            "backgroundcolor": "#E5ECF6",
            "gridcolor": "white",
            "gridwidth": 2,
            "linecolor": "white",
            "showbackground": true,
            "ticks": "",
            "zerolinecolor": "white"
           },
           "yaxis": {
            "backgroundcolor": "#E5ECF6",
            "gridcolor": "white",
            "gridwidth": 2,
            "linecolor": "white",
            "showbackground": true,
            "ticks": "",
            "zerolinecolor": "white"
           },
           "zaxis": {
            "backgroundcolor": "#E5ECF6",
            "gridcolor": "white",
            "gridwidth": 2,
            "linecolor": "white",
            "showbackground": true,
            "ticks": "",
            "zerolinecolor": "white"
           }
          },
          "shapedefaults": {
           "line": {
            "color": "#2a3f5f"
           }
          },
          "ternary": {
           "aaxis": {
            "gridcolor": "white",
            "linecolor": "white",
            "ticks": ""
           },
           "baxis": {
            "gridcolor": "white",
            "linecolor": "white",
            "ticks": ""
           },
           "bgcolor": "#E5ECF6",
           "caxis": {
            "gridcolor": "white",
            "linecolor": "white",
            "ticks": ""
           }
          },
          "title": {
           "x": 0.05
          },
          "xaxis": {
           "automargin": true,
           "gridcolor": "white",
           "linecolor": "white",
           "ticks": "",
           "title": {
            "standoff": 15
           },
           "zerolinecolor": "white",
           "zerolinewidth": 2
          },
          "yaxis": {
           "automargin": true,
           "gridcolor": "white",
           "linecolor": "white",
           "ticks": "",
           "title": {
            "standoff": 15
           },
           "zerolinecolor": "white",
           "zerolinewidth": 2
          }
         }
        }
       }
      },
      "text/html": [
       "<div>                            <div id=\"a0f1c4ac-5ec5-4242-a075-a5341436d8d5\" class=\"plotly-graph-div\" style=\"height:525px; width:100%;\"></div>            <script type=\"text/javascript\">                require([\"plotly\"], function(Plotly) {                    window.PLOTLYENV=window.PLOTLYENV || {};                                    if (document.getElementById(\"a0f1c4ac-5ec5-4242-a075-a5341436d8d5\")) {                    Plotly.newPlot(                        \"a0f1c4ac-5ec5-4242-a075-a5341436d8d5\",                        [{\"hovertemplate\":\"x=%{x}<br>y=%{y}<br>z=%{z}<br>label=%{marker.color}<extra></extra>\",\"legendgroup\":\"\",\"marker\":{\"color\":[6,1,8,2,0,1,6,7,3,3,5,7,9,8,7,0,3,0,9,6,4,2,1,9,7,8,3,7,8,2,9,6,4,9,7,6,2,8,6,5,4,3,8,3,3,7,7,3,1,7,1,9,8,7,6,8,6,9,6,7,2,3,0,7,2,5,7,3,4,0,2,9,0,5,6,4,8,2,2,2,2,2,7,4,1,1,8,9,6,7,3,1,3,8,8,7,2,1,1,1,5,8,4,5,7,2,5,3,4,8,6,2,4,6,7,5,6,3,3,5,3,0,1,7,9,6,2,7,9,9,5,1,1,1,0,1,1,3,4,8,0,2,0,4,9,4,3,0,9,8,3,2,0,9,3,5,9,6,9,5,6,1,5,6,9,4,2,9,5,7,3,1,4,5,4,4,4,6,4,9,3,8,1,7,7,2,8,0,7,7,3,3,8,0,2,8,7,3,3,0,4,3,3,7,1,1,1,6,2,8,0,8,5,8,6,1,4,7,9,8,6,3,7,5,5,7,2,2,0,3,1,4,4,6,6,5,2,0,4,1,8,1,8,6,8,4,5,5,0,5,4,4,6,6,2,1],\"coloraxis\":\"coloraxis\",\"opacity\":1.0,\"symbol\":\"circle\",\"size\":5},\"mode\":\"markers+text\",\"name\":\"\",\"scene\":\"scene\",\"showlegend\":false,\"text\":[6.0,1.0,8.0,2.0,0.0,1.0,6.0,7.0,3.0,3.0,5.0,7.0,9.0,8.0,7.0,0.0,3.0,0.0,9.0,6.0,4.0,2.0,1.0,9.0,7.0,8.0,3.0,7.0,8.0,2.0,9.0,6.0,4.0,9.0,7.0,6.0,2.0,8.0,6.0,5.0,4.0,3.0,8.0,3.0,3.0,7.0,7.0,3.0,1.0,7.0,1.0,9.0,8.0,7.0,6.0,8.0,6.0,9.0,6.0,7.0,2.0,3.0,0.0,7.0,2.0,5.0,7.0,3.0,4.0,0.0,2.0,9.0,0.0,5.0,6.0,4.0,8.0,2.0,2.0,2.0,2.0,2.0,7.0,4.0,1.0,1.0,8.0,9.0,6.0,7.0,3.0,1.0,3.0,8.0,8.0,7.0,2.0,1.0,1.0,1.0,5.0,8.0,4.0,5.0,7.0,2.0,5.0,3.0,4.0,8.0,6.0,2.0,4.0,6.0,7.0,5.0,6.0,3.0,3.0,5.0,3.0,0.0,1.0,7.0,9.0,6.0,2.0,7.0,9.0,9.0,5.0,1.0,1.0,1.0,0.0,1.0,1.0,3.0,4.0,8.0,0.0,2.0,0.0,4.0,9.0,4.0,3.0,0.0,9.0,8.0,3.0,2.0,0.0,9.0,3.0,5.0,9.0,6.0,9.0,5.0,6.0,1.0,5.0,6.0,9.0,4.0,2.0,9.0,5.0,7.0,3.0,1.0,4.0,5.0,4.0,4.0,4.0,6.0,4.0,9.0,3.0,8.0,1.0,7.0,7.0,2.0,8.0,0.0,7.0,7.0,3.0,3.0,8.0,0.0,2.0,8.0,7.0,3.0,3.0,0.0,4.0,3.0,3.0,7.0,1.0,1.0,1.0,6.0,2.0,8.0,0.0,8.0,5.0,8.0,6.0,1.0,4.0,7.0,9.0,8.0,6.0,3.0,7.0,5.0,5.0,7.0,2.0,2.0,0.0,3.0,1.0,4.0,4.0,6.0,6.0,5.0,2.0,0.0,4.0,1.0,8.0,1.0,8.0,6.0,8.0,4.0,5.0,5.0,0.0,5.0,4.0,4.0,6.0,6.0,2.0,1.0],\"x\":[-0.8095597624778748,-0.7997342348098755,0.03524869307875633,0.29421839118003845,0.42211461067199707,-0.7658910751342773,-0.7934823632240295,-0.5232523083686829,0.9490489363670349,0.9661852121353149,0.3342970013618469,-0.30687767267227173,0.6389751434326172,0.019816704094409943,-0.4851554334163666,0.4415249526500702,0.9657281041145325,0.43180468678474426,0.6403076648712158,-0.787947952747345,-0.3458509147167206,0.2732000946998596,-0.7933374047279358,0.7008143663406372,-0.5277956128120422,0.026406267657876015,0.961958110332489,-0.45833367109298706,-0.01151367835700512,0.3455139398574829,0.9766279458999634,-0.8273473978042603,-0.328608900308609,0.6436684727668762,-0.4931807518005371,-0.8090248703956604,0.24835792183876038,0.3870752453804016,-0.8045711517333984,0.7285081148147583,-0.37221959233283997,0.9720905423164368,0.07630839943885803,0.9847993850708008,0.9637175798416138,-0.6905710101127625,-0.5355689525604248,0.9537635445594788,-0.7564518451690674,-0.5178637504577637,-0.7921262979507446,0.6509982347488403,-0.024772141128778458,-0.44156986474990845,-0.8193884491920471,0.046717800199985504,-0.7934790849685669,0.653008222579956,-0.7212401628494263,-0.4919978678226471,0.3557010889053345,0.9721382856369019,0.44458287954330444,-0.4957859218120575,0.4453302025794983,0.3317747712135315,0.11029592901468277,0.9607190489768982,-0.3247659206390381,0.4008597135543823,0.2605770528316498,0.6420224905014038,0.4382716119289398,0.31215906143188477,-0.8237662315368652,-0.36097782850265503,-0.07401616871356964,0.3266961872577667,0.335405558347702,0.25986388325691223,0.2515457272529602,0.2847868502140045,-0.38546425104141235,-0.36634400486946106,-0.7666070461273193,-0.7820118069648743,0.3373747766017914,0.6448180079460144,-0.7900874018669128,-0.4176112711429596,0.966025710105896,-0.7638483643531799,0.49314528703689575,0.015445858240127563,0.011068387888371944,-0.5175374150276184,0.27492275834083557,-0.7814066410064697,-0.7661643028259277,-0.776837170124054,0.22850456833839417,-0.029916713014245033,-0.3688449561595917,0.33259230852127075,-0.507226288318634,-0.3496999740600586,0.2970275580883026,0.9611567854881287,-0.3275183439254761,0.00033386211725883186,-0.810552716255188,0.23495501279830933,-0.3397131860256195,-0.8183797001838684,-0.49802473187446594,0.3511389195919037,-0.8102893829345703,0.9835249781608582,0.9683203101158142,0.33056873083114624,0.9621393084526062,0.4476056694984436,-0.790511965751648,-0.3797348141670227,0.6313864588737488,-0.7835344076156616,0.34151479601860046,-0.5102181434631348,0.6373981833457947,0.6434157490730286,0.34097427129745483,-0.7663266658782959,-0.7703202962875366,-0.7929618954658508,0.4260231852531433,-0.7698156237602234,-0.7646352648735046,0.9662359952926636,-0.3571767210960388,-0.008734576404094696,0.44108036160469055,0.26072442531585693,0.4594051241874695,-0.3673661947250366,0.649645209312439,-0.3547390103340149,0.9682376384735107,0.4261828362941742,0.6541475057601929,0.025455640628933907,0.9687562584877014,0.2597651183605194,0.4122719168663025,0.6435487866401672,0.9178605079650879,0.3872430622577667,0.6423659324645996,-0.7884646058082581,0.6357721090316772,0.45365628600120544,-0.804176926612854,-0.7656053900718689,0.32177138328552246,-0.8078160881996155,0.6359079480171204,-0.3879414200782776,0.2825649678707123,0.649107813835144,0.34710919857025146,-0.523076057434082,0.9438533186912537,-0.7963996529579163,-0.37345296144485474,0.33680567145347595,-0.3614037036895752,-0.3423652648925781,-0.24852724373340607,-0.8078230023384094,-0.32653555274009705,0.6485214233398438,0.9700189232826233,-0.022949472069740295,-0.7628031969070435,-0.5028104186058044,-0.5216366648674011,0.30563703179359436,-0.08597657084465027,0.4186320900917053,-0.4560955762863159,-0.5343036651611328,0.96795654296875,0.9667618870735168,0.601016640663147,0.4374757707118988,0.2843659222126007,-0.021254004910588264,-0.5087882876396179,0.908647894859314,0.9492011070251465,0.4311337471008301,-0.3548349142074585,0.9570923447608948,0.9690881371498108,-0.5035778284072876,-0.770871102809906,-0.7679123282432556,-0.7642862200737,-0.8164957165718079,0.33073660731315613,0.011865499429404736,0.43593284487724304,0.18750996887683868,0.33023205399513245,-0.01814083755016327,-0.8053486943244934,-0.7610253095626831,-0.3190126419067383,-0.5037394762039185,0.6396982073783875,-0.0037438462022691965,-0.8107767701148987,0.9687277674674988,-0.5225743055343628,0.3381395637989044,0.3488842248916626,-0.4032517075538635,0.2430274933576584,0.2975304126739502,0.4450441300868988,0.9515296220779419,-0.7945437431335449,-0.30052319169044495,-0.340892493724823,-0.8095976114273071,-0.8101063370704651,0.2966419458389282,0.2810826301574707,0.4219364821910858,-0.3436259627342224,-0.7648057341575623,-0.01182350143790245,-0.7601484656333923,-0.7790414690971375,-0.8052254915237427,0.00199126941151917,-0.35015377402305603,0.3128446340560913,0.32835206389427185,0.42916932702064514,0.36473792791366577,-0.3548356294631958,-0.35829779505729675,-0.7926090359687805,-0.8117552399635315,0.28502222895622253,-0.7960854768753052],\"y\":[0.4458293616771698,0.06608685851097107,0.9521161913871765,0.16579459607601166,-0.7769196033477783,0.014373382553458214,0.46392637491226196,-0.8511387705802917,0.27939194440841675,0.2208259254693985,0.5492715835571289,-0.9225601553916931,-0.5359326601028442,0.9592834115028381,-0.8740969300270081,-0.7667959332466125,0.22674055397510529,-0.7690988779067993,-0.5372853875160217,0.4640783965587616,-0.32590407133102417,0.11195103824138641,0.03072996623814106,0.6957535147666931,-0.8491536974906921,0.9742586016654968,0.22413745522499084,-0.8882622718811035,0.9639953374862671,0.1647988110780716,0.21493510901927948,0.4203956723213196,-0.3227853775024414,-0.536292552947998,-0.8688654899597168,0.44733551144599915,0.10822997242212296,0.7088809013366699,0.45046207308769226,0.4175925850868225,-0.30672991275787354,0.2119400054216385,0.9432328939437866,0.1444166898727417,0.23164282739162445,-0.514657735824585,-0.8444569110870361,0.2982810437679291,0.05115927383303642,-0.8552731871604919,0.014320258982479572,-0.5362339019775391,0.9576638340950012,-0.8947595953941345,0.4263889491558075,0.9718890190124512,0.46000951528549194,-0.5234188437461853,0.5336974263191223,-0.8703187704086304,0.14901821315288544,0.18715065717697144,-0.7652931213378906,-0.8679713010787964,0.20010915398597717,0.5584020614624023,-0.878699541091919,0.272151380777359,-0.3309389054775238,-0.7718625068664551,0.10867885500192642,-0.5407205820083618,-0.7668259739875793,0.5731151700019836,0.42172008752822876,-0.35039985179901123,0.9241425395011902,0.22754943370819092,0.1586543172597885,0.08485639840364456,0.13177978992462158,0.11029272526502609,-0.9155339002609253,-0.3095248341560364,0.04812366142868996,0.049580469727516174,0.9388613700866699,-0.5039263367652893,0.45529091358184814,-0.9074102640151978,0.22105157375335693,0.044611189514398575,0.09477326273918152,0.9660090208053589,0.9603311419487,-0.8553648591041565,0.1164245456457138,-0.0013673807261511683,0.0782000795006752,0.04106007143855095,0.7557883858680725,0.9633740186691284,-0.321709007024765,0.5504657626152039,-0.8616955280303955,-0.035902779549360275,0.587899386882782,0.2499469518661499,-0.3407660722732544,0.9764420390129089,0.4435259699821472,0.11378154903650284,-0.31045061349868774,0.4331844449043274,-0.8668780326843262,0.49730414152145386,0.44499650597572327,0.1597311794757843,0.2128903865814209,0.5841899514198303,0.2295721173286438,-0.7597307562828064,0.008389054797589779,-0.9241150617599487,-0.5487048029899597,0.47073739767074585,0.10619751363992691,-0.8599293828010559,-0.5392913222312927,-0.5375511646270752,0.5191306471824646,0.05305188521742821,0.01874667778611183,0.015414992347359657,-0.7719168066978455,0.07370498776435852,0.04304494336247444,0.2258225530385971,-0.3256106674671173,0.9686512351036072,-0.7670661211013794,0.09103408455848694,-0.7545205354690552,-0.3206101357936859,-0.5321546196937561,-0.30987977981567383,0.21824663877487183,-0.7739242911338806,-0.538444995880127,0.9558218717575073,0.2071813941001892,0.022828275337815285,-0.7719768285751343,-0.5257652401924133,0.3598162829875946,0.8351588845252991,-0.5284795165061951,0.469017893075943,-0.5303969979286194,0.5155010223388672,0.45189422369003296,0.03579260781407356,0.5414008498191833,0.4445800483226776,-0.526294469833374,-0.26835593581199646,0.09209359437227249,-0.5366114974021912,0.6458337903022766,-0.8520093560218811,0.29367029666900635,-0.0057618324644863605,-0.32041090726852417,0.5339202284812927,-0.3195142447948456,-0.32221248745918274,-0.3867156505584717,0.4473980963230133,-0.33491069078445435,-0.5544573068618774,0.21243712306022644,0.9698970317840576,0.013318384997546673,-0.8642110824584961,-0.8531545996665955,0.09878890216350555,0.9212073087692261,-0.7651681900024414,-0.8888940215110779,-0.8452684879302979,0.2179337739944458,0.22032278776168823,0.6669833660125732,-0.7724108099937439,0.13200901448726654,0.9623664021492004,-0.8608782887458801,0.3055432140827179,0.29267677664756775,-0.7671806216239929,-0.31091785430908203,0.2565537989139557,0.2287249118089676,-0.8637062311172485,-0.01461793016642332,0.029046986252069473,0.05480029433965683,0.43496373295783997,0.12133719772100449,0.966860294342041,-0.761077344417572,0.9688630104064941,0.5336076021194458,0.9655560255050659,0.4502619504928589,0.07836530357599258,-0.32340067625045776,-0.8638547658920288,-0.5381568670272827,0.972679078578949,0.4437934160232544,0.22397075593471527,-0.8525642156600952,0.5409306883811951,0.5266768932342529,-0.9149456024169922,0.0576336644589901,0.07795394212007523,-0.7696366310119629,0.2860826849937439,0.08000843226909637,-0.3426273465156555,-0.32663071155548096,0.44617199897766113,0.4475749135017395,0.6400007605552673,0.11348188668489456,-0.7761792540550232,-0.3147319257259369,0.03557673841714859,0.9606316685676575,0.02860081195831299,0.49772292375564575,0.4512031078338623,0.9644737243652344,-0.3007061779499054,0.546412467956543,0.5887103080749512,-0.7748164534568787,0.5361071228981018,-0.32027876377105713,-0.3087981343269348,0.4121076464653015,0.44926902651786804,0.11173353344202042,0.021841559559106827],\"z\":[0.38190189003944397,-0.5967057347297668,-0.3036976158618927,-0.9412479400634766,-0.4671350121498108,-0.6428096890449524,0.3939010500907898,-0.0420699268579483,-0.14576061069965363,-0.13312409818172455,0.7658630609512329,0.2338995337486267,0.5518034100532532,-0.28174924850463867,0.02405824512243271,-0.4659181833267212,-0.12632466852664948,-0.47120222449302673,0.5489358305931091,0.4046841859817505,0.8798714280128479,-0.9554206728935242,-0.6080061793327332,0.1574365645647049,0.01923055201768875,-0.2238812893629074,-0.15620188415050507,0.030338121578097343,-0.2656697630882263,-0.9238297939300537,-0.0009052129462361336,0.37251016497612,0.8875954747200012,0.5459680557250977,0.04296059533953667,0.3812738358974457,-0.9626030325889587,-0.5896276235580444,0.3869743347167969,0.543039858341217,0.8759962320327759,-0.10060521215200424,-0.3232470154762268,-0.09650909155607224,-0.13262708485126495,-0.5081722140312195,-0.007646483369171619,-0.036926474422216415,-0.6520454287528992,0.018023280426859856,-0.6101891994476318,0.5372658371925354,-0.2868209779262543,0.06649193167686462,0.3831385672092438,-0.23075777292251587,0.3984747529029846,0.5473691821098328,0.4415651261806488,0.0219842828810215,-0.9226430654525757,-0.14114466309547424,-0.46548086404800415,0.02867312729358673,-0.8727183938026428,0.7603371143341064,-0.4644588530063629,-0.05433855578303337,0.8860059976577759,-0.49349746108055115,-0.9593166708946228,0.543533205986023,-0.46893057227134705,0.7576910257339478,0.37889495491981506,0.8642423748970032,-0.374809592962265,-0.9173280596733093,-0.9286182522773743,-0.9619096517562866,-0.9588320255279541,-0.9522247314453125,0.11495639383792877,0.8774887323379517,-0.6403106451034546,-0.6212884187698364,-0.06868549436330795,0.5746894478797913,0.4104534983634949,0.04698464274406433,-0.13390517234802246,-0.6438520550727844,-0.8647692203521729,-0.25804656744003296,-0.2786425054073334,0.02249295450747013,-0.954391360282898,-0.6240207552909851,-0.6378690600395203,-0.6283613443374634,0.6136525869369507,-0.26648733019828796,0.872041642665863,0.7657479047775269,0.014225419610738754,-0.9361734986305237,0.7524287104606628,-0.11706406623125076,0.8812549114227295,-0.2157793790102005,0.38247740268707275,-0.9653236865997314,0.887814998626709,0.3776319622993469,0.02222113497555256,0.7933410406112671,0.3813256621360779,-0.0846438780426979,-0.13051235675811768,0.7412465810775757,-0.14691735804080963,-0.4716549217700958,-0.6123891472816467,0.04257721081376076,0.5479727983474731,0.4055613577365875,-0.9338574409484863,0.01410383265465498,0.5503529906272888,0.5450273752212524,0.7837345600128174,-0.6402568817138672,-0.6373814344406128,-0.609076201915741,-0.4718567430973053,-0.6339964270591736,-0.6430240869522095,-0.12406471371650696,0.8754441738128662,-0.24827104806900024,-0.4658944606781006,-0.9611116051673889,-0.4686637818813324,0.8730700016021729,0.5429297089576721,0.8821195363998413,-0.12200149148702621,-0.4684115946292877,0.5311948657035828,-0.29284238815307617,-0.1363351196050644,-0.9654019474983215,-0.48382195830345154,0.556251585483551,-0.16752424836158752,0.39057981967926025,0.5550454258918762,0.3979268968105316,0.560778796672821,0.7269488573074341,0.3861231505870819,-0.6423139572143555,0.7767549157142639,0.387016624212265,0.5644776821136475,0.8817519545555115,-0.9548171162605286,0.5391725897789001,0.680010199546814,0.02171255089342594,-0.15132343769073486,-0.6047433018684387,0.8705571293830872,0.775558590888977,0.8759554624557495,0.8825899362564087,0.8880795240402222,0.38374072313308716,0.8838605284690857,0.5215333700180054,-0.11804147064685822,-0.24243171513080597,-0.6464934945106506,0.01791004277765751,-0.004734853748232126,-0.9470093846321106,-0.3794538676738739,-0.48914700746536255,0.042944494634866714,-0.00637841084972024,-0.12476004660129547,-0.1297282576560974,0.4403546452522278,-0.46043074131011963,-0.949583888053894,-0.2709227502346039,0.004809304606169462,-0.28460925817489624,-0.11557535827159882,-0.47492897510528564,0.8817155361175537,-0.1347382366657257,-0.09248338639736176,0.02051374688744545,-0.6368234753608704,-0.6398959755897522,-0.6425446271896362,0.37965962290763855,-0.9358903169631958,-0.25503015518188477,-0.4803372025489807,-0.16169218719005585,0.7785946726799011,-0.259562224149704,0.38558724522590637,-0.6439715623855591,0.8908663988113403,0.0012661656364798546,0.5487926602363586,-0.23212388157844543,0.3816916048526764,-0.10678775608539581,0.007102122530341148,0.7701011300086975,0.7751718163490295,0.016203951090574265,-0.968305766582489,-0.9515244960784912,-0.457815557718277,-0.11290742456912994,-0.6019126772880554,0.890108048915863,0.8815354108810425,0.38142120838165283,0.3786877691745758,0.7088035345077515,-0.9529504179954529,-0.4685245752334595,0.8847966194152832,-0.6432779431343079,-0.2775733172893524,-0.6491196155548096,0.3812692165374756,0.3847435414791107,-0.2641713619232178,0.8871123194694519,0.776892364025116,0.738650918006897,-0.4641907513141632,0.7612854242324829,0.8783582448959351,0.8810598254203796,0.4493752717971802,0.37310951948165894,-0.9519863724708557,-0.6047899723052979],\"type\":\"scatter3d\",\"textfont\":{\"color\":\"white\"},\"textposition\":\"middle center\"}],                        {\"template\":{\"data\":{\"histogram2dcontour\":[{\"type\":\"histogram2dcontour\",\"colorbar\":{\"outlinewidth\":0,\"ticks\":\"\"},\"colorscale\":[[0.0,\"#0d0887\"],[0.1111111111111111,\"#46039f\"],[0.2222222222222222,\"#7201a8\"],[0.3333333333333333,\"#9c179e\"],[0.4444444444444444,\"#bd3786\"],[0.5555555555555556,\"#d8576b\"],[0.6666666666666666,\"#ed7953\"],[0.7777777777777778,\"#fb9f3a\"],[0.8888888888888888,\"#fdca26\"],[1.0,\"#f0f921\"]]}],\"choropleth\":[{\"type\":\"choropleth\",\"colorbar\":{\"outlinewidth\":0,\"ticks\":\"\"}}],\"histogram2d\":[{\"type\":\"histogram2d\",\"colorbar\":{\"outlinewidth\":0,\"ticks\":\"\"},\"colorscale\":[[0.0,\"#0d0887\"],[0.1111111111111111,\"#46039f\"],[0.2222222222222222,\"#7201a8\"],[0.3333333333333333,\"#9c179e\"],[0.4444444444444444,\"#bd3786\"],[0.5555555555555556,\"#d8576b\"],[0.6666666666666666,\"#ed7953\"],[0.7777777777777778,\"#fb9f3a\"],[0.8888888888888888,\"#fdca26\"],[1.0,\"#f0f921\"]]}],\"heatmap\":[{\"type\":\"heatmap\",\"colorbar\":{\"outlinewidth\":0,\"ticks\":\"\"},\"colorscale\":[[0.0,\"#0d0887\"],[0.1111111111111111,\"#46039f\"],[0.2222222222222222,\"#7201a8\"],[0.3333333333333333,\"#9c179e\"],[0.4444444444444444,\"#bd3786\"],[0.5555555555555556,\"#d8576b\"],[0.6666666666666666,\"#ed7953\"],[0.7777777777777778,\"#fb9f3a\"],[0.8888888888888888,\"#fdca26\"],[1.0,\"#f0f921\"]]}],\"heatmapgl\":[{\"type\":\"heatmapgl\",\"colorbar\":{\"outlinewidth\":0,\"ticks\":\"\"},\"colorscale\":[[0.0,\"#0d0887\"],[0.1111111111111111,\"#46039f\"],[0.2222222222222222,\"#7201a8\"],[0.3333333333333333,\"#9c179e\"],[0.4444444444444444,\"#bd3786\"],[0.5555555555555556,\"#d8576b\"],[0.6666666666666666,\"#ed7953\"],[0.7777777777777778,\"#fb9f3a\"],[0.8888888888888888,\"#fdca26\"],[1.0,\"#f0f921\"]]}],\"contourcarpet\":[{\"type\":\"contourcarpet\",\"colorbar\":{\"outlinewidth\":0,\"ticks\":\"\"}}],\"contour\":[{\"type\":\"contour\",\"colorbar\":{\"outlinewidth\":0,\"ticks\":\"\"},\"colorscale\":[[0.0,\"#0d0887\"],[0.1111111111111111,\"#46039f\"],[0.2222222222222222,\"#7201a8\"],[0.3333333333333333,\"#9c179e\"],[0.4444444444444444,\"#bd3786\"],[0.5555555555555556,\"#d8576b\"],[0.6666666666666666,\"#ed7953\"],[0.7777777777777778,\"#fb9f3a\"],[0.8888888888888888,\"#fdca26\"],[1.0,\"#f0f921\"]]}],\"surface\":[{\"type\":\"surface\",\"colorbar\":{\"outlinewidth\":0,\"ticks\":\"\"},\"colorscale\":[[0.0,\"#0d0887\"],[0.1111111111111111,\"#46039f\"],[0.2222222222222222,\"#7201a8\"],[0.3333333333333333,\"#9c179e\"],[0.4444444444444444,\"#bd3786\"],[0.5555555555555556,\"#d8576b\"],[0.6666666666666666,\"#ed7953\"],[0.7777777777777778,\"#fb9f3a\"],[0.8888888888888888,\"#fdca26\"],[1.0,\"#f0f921\"]]}],\"mesh3d\":[{\"type\":\"mesh3d\",\"colorbar\":{\"outlinewidth\":0,\"ticks\":\"\"}}],\"scatter\":[{\"fillpattern\":{\"fillmode\":\"overlay\",\"size\":10,\"solidity\":0.2},\"type\":\"scatter\"}],\"parcoords\":[{\"type\":\"parcoords\",\"line\":{\"colorbar\":{\"outlinewidth\":0,\"ticks\":\"\"}}}],\"scatterpolargl\":[{\"type\":\"scatterpolargl\",\"marker\":{\"colorbar\":{\"outlinewidth\":0,\"ticks\":\"\"}}}],\"bar\":[{\"error_x\":{\"color\":\"#2a3f5f\"},\"error_y\":{\"color\":\"#2a3f5f\"},\"marker\":{\"line\":{\"color\":\"#E5ECF6\",\"width\":0.5},\"pattern\":{\"fillmode\":\"overlay\",\"size\":10,\"solidity\":0.2}},\"type\":\"bar\"}],\"scattergeo\":[{\"type\":\"scattergeo\",\"marker\":{\"colorbar\":{\"outlinewidth\":0,\"ticks\":\"\"}}}],\"scatterpolar\":[{\"type\":\"scatterpolar\",\"marker\":{\"colorbar\":{\"outlinewidth\":0,\"ticks\":\"\"}}}],\"histogram\":[{\"marker\":{\"pattern\":{\"fillmode\":\"overlay\",\"size\":10,\"solidity\":0.2}},\"type\":\"histogram\"}],\"scattergl\":[{\"type\":\"scattergl\",\"marker\":{\"colorbar\":{\"outlinewidth\":0,\"ticks\":\"\"}}}],\"scatter3d\":[{\"type\":\"scatter3d\",\"line\":{\"colorbar\":{\"outlinewidth\":0,\"ticks\":\"\"}},\"marker\":{\"colorbar\":{\"outlinewidth\":0,\"ticks\":\"\"}}}],\"scattermapbox\":[{\"type\":\"scattermapbox\",\"marker\":{\"colorbar\":{\"outlinewidth\":0,\"ticks\":\"\"}}}],\"scatterternary\":[{\"type\":\"scatterternary\",\"marker\":{\"colorbar\":{\"outlinewidth\":0,\"ticks\":\"\"}}}],\"scattercarpet\":[{\"type\":\"scattercarpet\",\"marker\":{\"colorbar\":{\"outlinewidth\":0,\"ticks\":\"\"}}}],\"carpet\":[{\"aaxis\":{\"endlinecolor\":\"#2a3f5f\",\"gridcolor\":\"white\",\"linecolor\":\"white\",\"minorgridcolor\":\"white\",\"startlinecolor\":\"#2a3f5f\"},\"baxis\":{\"endlinecolor\":\"#2a3f5f\",\"gridcolor\":\"white\",\"linecolor\":\"white\",\"minorgridcolor\":\"white\",\"startlinecolor\":\"#2a3f5f\"},\"type\":\"carpet\"}],\"table\":[{\"cells\":{\"fill\":{\"color\":\"#EBF0F8\"},\"line\":{\"color\":\"white\"}},\"header\":{\"fill\":{\"color\":\"#C8D4E3\"},\"line\":{\"color\":\"white\"}},\"type\":\"table\"}],\"barpolar\":[{\"marker\":{\"line\":{\"color\":\"#E5ECF6\",\"width\":0.5},\"pattern\":{\"fillmode\":\"overlay\",\"size\":10,\"solidity\":0.2}},\"type\":\"barpolar\"}],\"pie\":[{\"automargin\":true,\"type\":\"pie\"}]},\"layout\":{\"autotypenumbers\":\"strict\",\"colorway\":[\"#636efa\",\"#EF553B\",\"#00cc96\",\"#ab63fa\",\"#FFA15A\",\"#19d3f3\",\"#FF6692\",\"#B6E880\",\"#FF97FF\",\"#FECB52\"],\"font\":{\"color\":\"#2a3f5f\"},\"hovermode\":\"closest\",\"hoverlabel\":{\"align\":\"left\"},\"paper_bgcolor\":\"white\",\"plot_bgcolor\":\"#E5ECF6\",\"polar\":{\"bgcolor\":\"#E5ECF6\",\"angularaxis\":{\"gridcolor\":\"white\",\"linecolor\":\"white\",\"ticks\":\"\"},\"radialaxis\":{\"gridcolor\":\"white\",\"linecolor\":\"white\",\"ticks\":\"\"}},\"ternary\":{\"bgcolor\":\"#E5ECF6\",\"aaxis\":{\"gridcolor\":\"white\",\"linecolor\":\"white\",\"ticks\":\"\"},\"baxis\":{\"gridcolor\":\"white\",\"linecolor\":\"white\",\"ticks\":\"\"},\"caxis\":{\"gridcolor\":\"white\",\"linecolor\":\"white\",\"ticks\":\"\"}},\"coloraxis\":{\"colorbar\":{\"outlinewidth\":0,\"ticks\":\"\"}},\"colorscale\":{\"sequential\":[[0.0,\"#0d0887\"],[0.1111111111111111,\"#46039f\"],[0.2222222222222222,\"#7201a8\"],[0.3333333333333333,\"#9c179e\"],[0.4444444444444444,\"#bd3786\"],[0.5555555555555556,\"#d8576b\"],[0.6666666666666666,\"#ed7953\"],[0.7777777777777778,\"#fb9f3a\"],[0.8888888888888888,\"#fdca26\"],[1.0,\"#f0f921\"]],\"sequentialminus\":[[0.0,\"#0d0887\"],[0.1111111111111111,\"#46039f\"],[0.2222222222222222,\"#7201a8\"],[0.3333333333333333,\"#9c179e\"],[0.4444444444444444,\"#bd3786\"],[0.5555555555555556,\"#d8576b\"],[0.6666666666666666,\"#ed7953\"],[0.7777777777777778,\"#fb9f3a\"],[0.8888888888888888,\"#fdca26\"],[1.0,\"#f0f921\"]],\"diverging\":[[0,\"#8e0152\"],[0.1,\"#c51b7d\"],[0.2,\"#de77ae\"],[0.3,\"#f1b6da\"],[0.4,\"#fde0ef\"],[0.5,\"#f7f7f7\"],[0.6,\"#e6f5d0\"],[0.7,\"#b8e186\"],[0.8,\"#7fbc41\"],[0.9,\"#4d9221\"],[1,\"#276419\"]]},\"xaxis\":{\"gridcolor\":\"white\",\"linecolor\":\"white\",\"ticks\":\"\",\"title\":{\"standoff\":15},\"zerolinecolor\":\"white\",\"automargin\":true,\"zerolinewidth\":2},\"yaxis\":{\"gridcolor\":\"white\",\"linecolor\":\"white\",\"ticks\":\"\",\"title\":{\"standoff\":15},\"zerolinecolor\":\"white\",\"automargin\":true,\"zerolinewidth\":2},\"scene\":{\"xaxis\":{\"backgroundcolor\":\"#E5ECF6\",\"gridcolor\":\"white\",\"linecolor\":\"white\",\"showbackground\":true,\"ticks\":\"\",\"zerolinecolor\":\"white\",\"gridwidth\":2},\"yaxis\":{\"backgroundcolor\":\"#E5ECF6\",\"gridcolor\":\"white\",\"linecolor\":\"white\",\"showbackground\":true,\"ticks\":\"\",\"zerolinecolor\":\"white\",\"gridwidth\":2},\"zaxis\":{\"backgroundcolor\":\"#E5ECF6\",\"gridcolor\":\"white\",\"linecolor\":\"white\",\"showbackground\":true,\"ticks\":\"\",\"zerolinecolor\":\"white\",\"gridwidth\":2}},\"shapedefaults\":{\"line\":{\"color\":\"#2a3f5f\"}},\"annotationdefaults\":{\"arrowcolor\":\"#2a3f5f\",\"arrowhead\":0,\"arrowwidth\":1},\"geo\":{\"bgcolor\":\"white\",\"landcolor\":\"#E5ECF6\",\"subunitcolor\":\"white\",\"showland\":true,\"showlakes\":true,\"lakecolor\":\"white\"},\"title\":{\"x\":0.05},\"mapbox\":{\"style\":\"light\"}}},\"scene\":{\"domain\":{\"x\":[0.0,1.0],\"y\":[0.0,1.0]},\"xaxis\":{\"title\":{\"text\":\"x\"}},\"yaxis\":{\"title\":{\"text\":\"y\"}},\"zaxis\":{\"title\":{\"text\":\"z\"}}},\"coloraxis\":{\"colorbar\":{\"title\":{\"text\":\"label\"}},\"colorscale\":[[0.0,\"#0d0887\"],[0.1111111111111111,\"#46039f\"],[0.2222222222222222,\"#7201a8\"],[0.3333333333333333,\"#9c179e\"],[0.4444444444444444,\"#bd3786\"],[0.5555555555555556,\"#d8576b\"],[0.6666666666666666,\"#ed7953\"],[0.7777777777777778,\"#fb9f3a\"],[0.8888888888888888,\"#fdca26\"],[1.0,\"#f0f921\"]]},\"legend\":{\"tracegroupgap\":0},\"margin\":{\"t\":60}},                        {\"responsive\": true}                    ).then(function(){\n",
       "                            \n",
       "var gd = document.getElementById('a0f1c4ac-5ec5-4242-a075-a5341436d8d5');\n",
       "var x = new MutationObserver(function (mutations, observer) {{\n",
       "        var display = window.getComputedStyle(gd).display;\n",
       "        if (!display || display === 'none') {{\n",
       "            console.log([gd, 'removed!']);\n",
       "            Plotly.purge(gd);\n",
       "            observer.disconnect();\n",
       "        }}\n",
       "}});\n",
       "\n",
       "// Listen for the removal of the full notebook cells\n",
       "var notebookContainer = gd.closest('#notebook-container');\n",
       "if (notebookContainer) {{\n",
       "    x.observe(notebookContainer, {childList: true});\n",
       "}}\n",
       "\n",
       "// Listen for the clearing of the current output cell\n",
       "var outputEl = gd.closest('.output');\n",
       "if (outputEl) {{\n",
       "    x.observe(outputEl, {childList: true});\n",
       "}}\n",
       "\n",
       "                        })                };                });            </script>        </div>"
      ]
     },
     "metadata": {},
     "output_type": "display_data"
    }
   ],
   "source": [
    "df = pd.DataFrame({'x': embeds[:, 0], \n",
    "                   'y': embeds[:, 1], \n",
    "                   'z': embeds[:, 2], \n",
    "                   'label': batch_labels.numpy()})\n",
    "\n",
    "fig = px.scatter_3d(df, x='x', y='y', z='z',\n",
    "                      color='label', text='label', opacity=1.)\n",
    "\n",
    "fig.update_traces(marker=dict(size=5), \n",
    "                  textposition='middle center', \n",
    "                  textfont=dict(color='white'))\n",
    "\n",
    "fig.show()"
   ]
  },
  {
   "cell_type": "markdown",
   "id": "e81ca6fe",
   "metadata": {},
   "source": [
    "## View Modified Embeddings through Plotly"
   ]
  },
  {
   "cell_type": "code",
   "execution_count": 64,
   "id": "e223c3ae",
   "metadata": {
    "scrolled": false
   },
   "outputs": [],
   "source": [
    "batch_images, batch_labels = next(iter(data_loader))\n",
    "\n",
    "embeds = mnist_net.embedding(batch_images.to(device), normalize=True)\n",
    "embeds = embeds.detach().numpy()\n",
    "\n",
    "# new_embeds, new_labels = remove_outliers(embeds, batch_labels)"
   ]
  },
  {
   "cell_type": "code",
   "execution_count": 65,
   "id": "8b609821",
   "metadata": {},
   "outputs": [],
   "source": [
    "def project_to_2D_unit_circle(embeds):\n",
    "    \n",
    "    # Find the normal vector of the plane\n",
    "    u, s, vh = np.linalg.svd(embeds)\n",
    "    normal = vh[-1]    # the last eigenvector is the one that doesn't vary, i.e. \n",
    "                       # normal to the plane where the points lie \n",
    "\n",
    "    # Project the points onto the plane\n",
    "    points_proj = embeds - (embeds @ np.outer(normal, normal))  # embeds minus projection of embeds onto normal\n",
    "                                                                # would give us embeds that lie on the 2D plane,\n",
    "                                                                # which is perpendicular to the normal \n",
    "\n",
    "    # normalize to unit circle \n",
    "    points_norm = np.linalg.norm(points_proj, axis=1)\n",
    "    points_proj /= points_norm[:, np.newaxis]         # using broadcasting to normalize \n",
    "    \n",
    "    return points_proj"
   ]
  },
  {
   "cell_type": "code",
   "execution_count": 66,
   "id": "32fe4454",
   "metadata": {
    "scrolled": false
   },
   "outputs": [
    {
     "data": {
      "application/vnd.plotly.v1+json": {
       "config": {
        "plotlyServerURL": "https://plot.ly"
       },
       "data": [
        {
         "hovertemplate": "x=%{x}<br>y=%{y}<br>z=%{z}<br>label=%{marker.color}<extra></extra>",
         "legendgroup": "",
         "marker": {
          "color": [
           3,
           3,
           3,
           3,
           3,
           3,
           3,
           3,
           3,
           3,
           3,
           3,
           3,
           3,
           3,
           3,
           3,
           3,
           3,
           3,
           3,
           3,
           3,
           3,
           3
          ],
          "coloraxis": "coloraxis",
          "size": 5,
          "symbol": "circle"
         },
         "mode": "markers+text",
         "name": "",
         "scene": "scene",
         "showlegend": false,
         "text": [
          3,
          3,
          3,
          3,
          3,
          3,
          3,
          3,
          3,
          3,
          3,
          3,
          3,
          3,
          3,
          3,
          3,
          3,
          3,
          3,
          3,
          3,
          3,
          3,
          3
         ],
         "textfont": {
          "color": "white",
          "size": 10
         },
         "textposition": "middle center",
         "type": "scatter3d",
         "x": [
          -0.25213688611984253,
          0.11346281319856644,
          0.2264087200164795,
          -0.21878954768180847,
          0.2508845329284668,
          -0.1669120341539383,
          -0.26636794209480286,
          -0.26677510142326355,
          -0.19688680768013,
          0.22578701376914978,
          -0.17375677824020386,
          -0.2669760286808014,
          -0.259535014629364,
          -0.23844313621520996,
          -0.2041444480419159,
          -0.2042682021856308,
          -0.2559078335762024,
          0.17691227793693542,
          -0.12638728320598602,
          0.1817333996295929,
          0.23711802065372467,
          -0.21598517894744873,
          -0.266263484954834,
          0.2100210189819336,
          -0.11760768294334412
         ],
         "y": [
          0.6504541039466858,
          0.0607605017721653,
          -0.9700927138328552,
          0.9659004211425781,
          -0.9606066346168518,
          0.16796956956386566,
          0.8158539533615112,
          0.8289602994918823,
          0.31263023614883423,
          -0.9698380827903748,
          0.19972114264965057,
          0.8646615147590637,
          0.7178658246994019,
          0.971150279045105,
          0.9524604678153992,
          0.9525985717773438,
          0.9501383304595947,
          -0.9143138527870178,
          0.8146586418151855,
          -0.23761248588562012,
          -0.9714530110359192,
          0.9638242721557617,
          0.885962963104248,
          -0.958588719367981,
          -0.04405828192830086
         ],
         "z": [
          -0.7164750695228577,
          0.9916825890541077,
          -0.0875176414847374,
          0.13844722509384155,
          0.11954884231090546,
          -0.9715588688850403,
          -0.5132548213005066,
          -0.49158498644828796,
          -0.9292459487915039,
          -0.09183897078037262,
          -0.9643236398696899,
          -0.4255399703979492,
          -0.645995557308197,
          -0.003460254753008485,
          0.22615063190460205,
          0.2254561334848404,
          -0.17818064987659454,
          -0.3643243610858917,
          0.566001296043396,
          0.9542081952095032,
          -0.007351052016019821,
          0.15618327260017395,
          -0.3797016441822052,
          -0.1923505812883377,
          -0.9920822978019714
         ]
        }
       ],
       "layout": {
        "coloraxis": {
         "colorbar": {
          "title": {
           "text": "label"
          }
         },
         "colorscale": [
          [
           0,
           "#0d0887"
          ],
          [
           0.1111111111111111,
           "#46039f"
          ],
          [
           0.2222222222222222,
           "#7201a8"
          ],
          [
           0.3333333333333333,
           "#9c179e"
          ],
          [
           0.4444444444444444,
           "#bd3786"
          ],
          [
           0.5555555555555556,
           "#d8576b"
          ],
          [
           0.6666666666666666,
           "#ed7953"
          ],
          [
           0.7777777777777778,
           "#fb9f3a"
          ],
          [
           0.8888888888888888,
           "#fdca26"
          ],
          [
           1,
           "#f0f921"
          ]
         ],
         "showscale": false
        },
        "legend": {
         "tracegroupgap": 0
        },
        "margin": {
         "t": 60
        },
        "scene": {
         "camera": {
          "eye": {
           "x": 0.8,
           "y": 0.8,
           "z": -1.2
          }
         },
         "domain": {
          "x": [
           0,
           1
          ],
          "y": [
           0,
           1
          ]
         },
         "xaxis": {
          "title": {
           "text": "x"
          }
         },
         "yaxis": {
          "title": {
           "text": "y"
          }
         },
         "zaxis": {
          "title": {
           "text": "z"
          }
         }
        },
        "template": {
         "data": {
          "bar": [
           {
            "error_x": {
             "color": "#2a3f5f"
            },
            "error_y": {
             "color": "#2a3f5f"
            },
            "marker": {
             "line": {
              "color": "#E5ECF6",
              "width": 0.5
             },
             "pattern": {
              "fillmode": "overlay",
              "size": 10,
              "solidity": 0.2
             }
            },
            "type": "bar"
           }
          ],
          "barpolar": [
           {
            "marker": {
             "line": {
              "color": "#E5ECF6",
              "width": 0.5
             },
             "pattern": {
              "fillmode": "overlay",
              "size": 10,
              "solidity": 0.2
             }
            },
            "type": "barpolar"
           }
          ],
          "carpet": [
           {
            "aaxis": {
             "endlinecolor": "#2a3f5f",
             "gridcolor": "white",
             "linecolor": "white",
             "minorgridcolor": "white",
             "startlinecolor": "#2a3f5f"
            },
            "baxis": {
             "endlinecolor": "#2a3f5f",
             "gridcolor": "white",
             "linecolor": "white",
             "minorgridcolor": "white",
             "startlinecolor": "#2a3f5f"
            },
            "type": "carpet"
           }
          ],
          "choropleth": [
           {
            "colorbar": {
             "outlinewidth": 0,
             "ticks": ""
            },
            "type": "choropleth"
           }
          ],
          "contour": [
           {
            "colorbar": {
             "outlinewidth": 0,
             "ticks": ""
            },
            "colorscale": [
             [
              0,
              "#0d0887"
             ],
             [
              0.1111111111111111,
              "#46039f"
             ],
             [
              0.2222222222222222,
              "#7201a8"
             ],
             [
              0.3333333333333333,
              "#9c179e"
             ],
             [
              0.4444444444444444,
              "#bd3786"
             ],
             [
              0.5555555555555556,
              "#d8576b"
             ],
             [
              0.6666666666666666,
              "#ed7953"
             ],
             [
              0.7777777777777778,
              "#fb9f3a"
             ],
             [
              0.8888888888888888,
              "#fdca26"
             ],
             [
              1,
              "#f0f921"
             ]
            ],
            "type": "contour"
           }
          ],
          "contourcarpet": [
           {
            "colorbar": {
             "outlinewidth": 0,
             "ticks": ""
            },
            "type": "contourcarpet"
           }
          ],
          "heatmap": [
           {
            "colorbar": {
             "outlinewidth": 0,
             "ticks": ""
            },
            "colorscale": [
             [
              0,
              "#0d0887"
             ],
             [
              0.1111111111111111,
              "#46039f"
             ],
             [
              0.2222222222222222,
              "#7201a8"
             ],
             [
              0.3333333333333333,
              "#9c179e"
             ],
             [
              0.4444444444444444,
              "#bd3786"
             ],
             [
              0.5555555555555556,
              "#d8576b"
             ],
             [
              0.6666666666666666,
              "#ed7953"
             ],
             [
              0.7777777777777778,
              "#fb9f3a"
             ],
             [
              0.8888888888888888,
              "#fdca26"
             ],
             [
              1,
              "#f0f921"
             ]
            ],
            "type": "heatmap"
           }
          ],
          "heatmapgl": [
           {
            "colorbar": {
             "outlinewidth": 0,
             "ticks": ""
            },
            "colorscale": [
             [
              0,
              "#0d0887"
             ],
             [
              0.1111111111111111,
              "#46039f"
             ],
             [
              0.2222222222222222,
              "#7201a8"
             ],
             [
              0.3333333333333333,
              "#9c179e"
             ],
             [
              0.4444444444444444,
              "#bd3786"
             ],
             [
              0.5555555555555556,
              "#d8576b"
             ],
             [
              0.6666666666666666,
              "#ed7953"
             ],
             [
              0.7777777777777778,
              "#fb9f3a"
             ],
             [
              0.8888888888888888,
              "#fdca26"
             ],
             [
              1,
              "#f0f921"
             ]
            ],
            "type": "heatmapgl"
           }
          ],
          "histogram": [
           {
            "marker": {
             "pattern": {
              "fillmode": "overlay",
              "size": 10,
              "solidity": 0.2
             }
            },
            "type": "histogram"
           }
          ],
          "histogram2d": [
           {
            "colorbar": {
             "outlinewidth": 0,
             "ticks": ""
            },
            "colorscale": [
             [
              0,
              "#0d0887"
             ],
             [
              0.1111111111111111,
              "#46039f"
             ],
             [
              0.2222222222222222,
              "#7201a8"
             ],
             [
              0.3333333333333333,
              "#9c179e"
             ],
             [
              0.4444444444444444,
              "#bd3786"
             ],
             [
              0.5555555555555556,
              "#d8576b"
             ],
             [
              0.6666666666666666,
              "#ed7953"
             ],
             [
              0.7777777777777778,
              "#fb9f3a"
             ],
             [
              0.8888888888888888,
              "#fdca26"
             ],
             [
              1,
              "#f0f921"
             ]
            ],
            "type": "histogram2d"
           }
          ],
          "histogram2dcontour": [
           {
            "colorbar": {
             "outlinewidth": 0,
             "ticks": ""
            },
            "colorscale": [
             [
              0,
              "#0d0887"
             ],
             [
              0.1111111111111111,
              "#46039f"
             ],
             [
              0.2222222222222222,
              "#7201a8"
             ],
             [
              0.3333333333333333,
              "#9c179e"
             ],
             [
              0.4444444444444444,
              "#bd3786"
             ],
             [
              0.5555555555555556,
              "#d8576b"
             ],
             [
              0.6666666666666666,
              "#ed7953"
             ],
             [
              0.7777777777777778,
              "#fb9f3a"
             ],
             [
              0.8888888888888888,
              "#fdca26"
             ],
             [
              1,
              "#f0f921"
             ]
            ],
            "type": "histogram2dcontour"
           }
          ],
          "mesh3d": [
           {
            "colorbar": {
             "outlinewidth": 0,
             "ticks": ""
            },
            "type": "mesh3d"
           }
          ],
          "parcoords": [
           {
            "line": {
             "colorbar": {
              "outlinewidth": 0,
              "ticks": ""
             }
            },
            "type": "parcoords"
           }
          ],
          "pie": [
           {
            "automargin": true,
            "type": "pie"
           }
          ],
          "scatter": [
           {
            "fillpattern": {
             "fillmode": "overlay",
             "size": 10,
             "solidity": 0.2
            },
            "type": "scatter"
           }
          ],
          "scatter3d": [
           {
            "line": {
             "colorbar": {
              "outlinewidth": 0,
              "ticks": ""
             }
            },
            "marker": {
             "colorbar": {
              "outlinewidth": 0,
              "ticks": ""
             }
            },
            "type": "scatter3d"
           }
          ],
          "scattercarpet": [
           {
            "marker": {
             "colorbar": {
              "outlinewidth": 0,
              "ticks": ""
             }
            },
            "type": "scattercarpet"
           }
          ],
          "scattergeo": [
           {
            "marker": {
             "colorbar": {
              "outlinewidth": 0,
              "ticks": ""
             }
            },
            "type": "scattergeo"
           }
          ],
          "scattergl": [
           {
            "marker": {
             "colorbar": {
              "outlinewidth": 0,
              "ticks": ""
             }
            },
            "type": "scattergl"
           }
          ],
          "scattermapbox": [
           {
            "marker": {
             "colorbar": {
              "outlinewidth": 0,
              "ticks": ""
             }
            },
            "type": "scattermapbox"
           }
          ],
          "scatterpolar": [
           {
            "marker": {
             "colorbar": {
              "outlinewidth": 0,
              "ticks": ""
             }
            },
            "type": "scatterpolar"
           }
          ],
          "scatterpolargl": [
           {
            "marker": {
             "colorbar": {
              "outlinewidth": 0,
              "ticks": ""
             }
            },
            "type": "scatterpolargl"
           }
          ],
          "scatterternary": [
           {
            "marker": {
             "colorbar": {
              "outlinewidth": 0,
              "ticks": ""
             }
            },
            "type": "scatterternary"
           }
          ],
          "surface": [
           {
            "colorbar": {
             "outlinewidth": 0,
             "ticks": ""
            },
            "colorscale": [
             [
              0,
              "#0d0887"
             ],
             [
              0.1111111111111111,
              "#46039f"
             ],
             [
              0.2222222222222222,
              "#7201a8"
             ],
             [
              0.3333333333333333,
              "#9c179e"
             ],
             [
              0.4444444444444444,
              "#bd3786"
             ],
             [
              0.5555555555555556,
              "#d8576b"
             ],
             [
              0.6666666666666666,
              "#ed7953"
             ],
             [
              0.7777777777777778,
              "#fb9f3a"
             ],
             [
              0.8888888888888888,
              "#fdca26"
             ],
             [
              1,
              "#f0f921"
             ]
            ],
            "type": "surface"
           }
          ],
          "table": [
           {
            "cells": {
             "fill": {
              "color": "#EBF0F8"
             },
             "line": {
              "color": "white"
             }
            },
            "header": {
             "fill": {
              "color": "#C8D4E3"
             },
             "line": {
              "color": "white"
             }
            },
            "type": "table"
           }
          ]
         },
         "layout": {
          "annotationdefaults": {
           "arrowcolor": "#2a3f5f",
           "arrowhead": 0,
           "arrowwidth": 1
          },
          "autotypenumbers": "strict",
          "coloraxis": {
           "colorbar": {
            "outlinewidth": 0,
            "ticks": ""
           }
          },
          "colorscale": {
           "diverging": [
            [
             0,
             "#8e0152"
            ],
            [
             0.1,
             "#c51b7d"
            ],
            [
             0.2,
             "#de77ae"
            ],
            [
             0.3,
             "#f1b6da"
            ],
            [
             0.4,
             "#fde0ef"
            ],
            [
             0.5,
             "#f7f7f7"
            ],
            [
             0.6,
             "#e6f5d0"
            ],
            [
             0.7,
             "#b8e186"
            ],
            [
             0.8,
             "#7fbc41"
            ],
            [
             0.9,
             "#4d9221"
            ],
            [
             1,
             "#276419"
            ]
           ],
           "sequential": [
            [
             0,
             "#0d0887"
            ],
            [
             0.1111111111111111,
             "#46039f"
            ],
            [
             0.2222222222222222,
             "#7201a8"
            ],
            [
             0.3333333333333333,
             "#9c179e"
            ],
            [
             0.4444444444444444,
             "#bd3786"
            ],
            [
             0.5555555555555556,
             "#d8576b"
            ],
            [
             0.6666666666666666,
             "#ed7953"
            ],
            [
             0.7777777777777778,
             "#fb9f3a"
            ],
            [
             0.8888888888888888,
             "#fdca26"
            ],
            [
             1,
             "#f0f921"
            ]
           ],
           "sequentialminus": [
            [
             0,
             "#0d0887"
            ],
            [
             0.1111111111111111,
             "#46039f"
            ],
            [
             0.2222222222222222,
             "#7201a8"
            ],
            [
             0.3333333333333333,
             "#9c179e"
            ],
            [
             0.4444444444444444,
             "#bd3786"
            ],
            [
             0.5555555555555556,
             "#d8576b"
            ],
            [
             0.6666666666666666,
             "#ed7953"
            ],
            [
             0.7777777777777778,
             "#fb9f3a"
            ],
            [
             0.8888888888888888,
             "#fdca26"
            ],
            [
             1,
             "#f0f921"
            ]
           ]
          },
          "colorway": [
           "#636efa",
           "#EF553B",
           "#00cc96",
           "#ab63fa",
           "#FFA15A",
           "#19d3f3",
           "#FF6692",
           "#B6E880",
           "#FF97FF",
           "#FECB52"
          ],
          "font": {
           "color": "#2a3f5f"
          },
          "geo": {
           "bgcolor": "white",
           "lakecolor": "white",
           "landcolor": "#E5ECF6",
           "showlakes": true,
           "showland": true,
           "subunitcolor": "white"
          },
          "hoverlabel": {
           "align": "left"
          },
          "hovermode": "closest",
          "mapbox": {
           "style": "light"
          },
          "paper_bgcolor": "white",
          "plot_bgcolor": "#E5ECF6",
          "polar": {
           "angularaxis": {
            "gridcolor": "white",
            "linecolor": "white",
            "ticks": ""
           },
           "bgcolor": "#E5ECF6",
           "radialaxis": {
            "gridcolor": "white",
            "linecolor": "white",
            "ticks": ""
           }
          },
          "scene": {
           "xaxis": {
            "backgroundcolor": "#E5ECF6",
            "gridcolor": "white",
            "gridwidth": 2,
            "linecolor": "white",
            "showbackground": true,
            "ticks": "",
            "zerolinecolor": "white"
           },
           "yaxis": {
            "backgroundcolor": "#E5ECF6",
            "gridcolor": "white",
            "gridwidth": 2,
            "linecolor": "white",
            "showbackground": true,
            "ticks": "",
            "zerolinecolor": "white"
           },
           "zaxis": {
            "backgroundcolor": "#E5ECF6",
            "gridcolor": "white",
            "gridwidth": 2,
            "linecolor": "white",
            "showbackground": true,
            "ticks": "",
            "zerolinecolor": "white"
           }
          },
          "shapedefaults": {
           "line": {
            "color": "#2a3f5f"
           }
          },
          "ternary": {
           "aaxis": {
            "gridcolor": "white",
            "linecolor": "white",
            "ticks": ""
           },
           "baxis": {
            "gridcolor": "white",
            "linecolor": "white",
            "ticks": ""
           },
           "bgcolor": "#E5ECF6",
           "caxis": {
            "gridcolor": "white",
            "linecolor": "white",
            "ticks": ""
           }
          },
          "title": {
           "x": 0.05
          },
          "xaxis": {
           "automargin": true,
           "gridcolor": "white",
           "linecolor": "white",
           "ticks": "",
           "title": {
            "standoff": 15
           },
           "zerolinecolor": "white",
           "zerolinewidth": 2
          },
          "yaxis": {
           "automargin": true,
           "gridcolor": "white",
           "linecolor": "white",
           "ticks": "",
           "title": {
            "standoff": 15
           },
           "zerolinecolor": "white",
           "zerolinewidth": 2
          }
         }
        }
       }
      },
      "text/html": [
       "<div>                            <div id=\"fa19b016-feeb-424c-b9e8-09cd6c5be27c\" class=\"plotly-graph-div\" style=\"height:525px; width:100%;\"></div>            <script type=\"text/javascript\">                require([\"plotly\"], function(Plotly) {                    window.PLOTLYENV=window.PLOTLYENV || {};                                    if (document.getElementById(\"fa19b016-feeb-424c-b9e8-09cd6c5be27c\")) {                    Plotly.newPlot(                        \"fa19b016-feeb-424c-b9e8-09cd6c5be27c\",                        [{\"hovertemplate\":\"x=%{x}<br>y=%{y}<br>z=%{z}<br>label=%{marker.color}<extra></extra>\",\"legendgroup\":\"\",\"marker\":{\"color\":[3,3,3,3,3,3,3,3,3,3,3,3,3,3,3,3,3,3,3,3,3,3,3,3,3],\"coloraxis\":\"coloraxis\",\"symbol\":\"circle\",\"size\":5},\"mode\":\"markers+text\",\"name\":\"\",\"scene\":\"scene\",\"showlegend\":false,\"text\":[3.0,3.0,3.0,3.0,3.0,3.0,3.0,3.0,3.0,3.0,3.0,3.0,3.0,3.0,3.0,3.0,3.0,3.0,3.0,3.0,3.0,3.0,3.0,3.0,3.0],\"x\":[-0.25213688611984253,0.11346281319856644,0.2264087200164795,-0.21878954768180847,0.2508845329284668,-0.1669120341539383,-0.26636794209480286,-0.26677510142326355,-0.19688680768013,0.22578701376914978,-0.17375677824020386,-0.2669760286808014,-0.259535014629364,-0.23844313621520996,-0.2041444480419159,-0.2042682021856308,-0.2559078335762024,0.17691227793693542,-0.12638728320598602,0.1817333996295929,0.23711802065372467,-0.21598517894744873,-0.266263484954834,0.2100210189819336,-0.11760768294334412],\"y\":[0.6504541039466858,0.0607605017721653,-0.9700927138328552,0.9659004211425781,-0.9606066346168518,0.16796956956386566,0.8158539533615112,0.8289602994918823,0.31263023614883423,-0.9698380827903748,0.19972114264965057,0.8646615147590637,0.7178658246994019,0.971150279045105,0.9524604678153992,0.9525985717773438,0.9501383304595947,-0.9143138527870178,0.8146586418151855,-0.23761248588562012,-0.9714530110359192,0.9638242721557617,0.885962963104248,-0.958588719367981,-0.04405828192830086],\"z\":[-0.7164750695228577,0.9916825890541077,-0.0875176414847374,0.13844722509384155,0.11954884231090546,-0.9715588688850403,-0.5132548213005066,-0.49158498644828796,-0.9292459487915039,-0.09183897078037262,-0.9643236398696899,-0.4255399703979492,-0.645995557308197,-0.003460254753008485,0.22615063190460205,0.2254561334848404,-0.17818064987659454,-0.3643243610858917,0.566001296043396,0.9542081952095032,-0.007351052016019821,0.15618327260017395,-0.3797016441822052,-0.1923505812883377,-0.9920822978019714],\"type\":\"scatter3d\",\"textfont\":{\"color\":\"white\",\"size\":10},\"textposition\":\"middle center\"}],                        {\"template\":{\"data\":{\"histogram2dcontour\":[{\"type\":\"histogram2dcontour\",\"colorbar\":{\"outlinewidth\":0,\"ticks\":\"\"},\"colorscale\":[[0.0,\"#0d0887\"],[0.1111111111111111,\"#46039f\"],[0.2222222222222222,\"#7201a8\"],[0.3333333333333333,\"#9c179e\"],[0.4444444444444444,\"#bd3786\"],[0.5555555555555556,\"#d8576b\"],[0.6666666666666666,\"#ed7953\"],[0.7777777777777778,\"#fb9f3a\"],[0.8888888888888888,\"#fdca26\"],[1.0,\"#f0f921\"]]}],\"choropleth\":[{\"type\":\"choropleth\",\"colorbar\":{\"outlinewidth\":0,\"ticks\":\"\"}}],\"histogram2d\":[{\"type\":\"histogram2d\",\"colorbar\":{\"outlinewidth\":0,\"ticks\":\"\"},\"colorscale\":[[0.0,\"#0d0887\"],[0.1111111111111111,\"#46039f\"],[0.2222222222222222,\"#7201a8\"],[0.3333333333333333,\"#9c179e\"],[0.4444444444444444,\"#bd3786\"],[0.5555555555555556,\"#d8576b\"],[0.6666666666666666,\"#ed7953\"],[0.7777777777777778,\"#fb9f3a\"],[0.8888888888888888,\"#fdca26\"],[1.0,\"#f0f921\"]]}],\"heatmap\":[{\"type\":\"heatmap\",\"colorbar\":{\"outlinewidth\":0,\"ticks\":\"\"},\"colorscale\":[[0.0,\"#0d0887\"],[0.1111111111111111,\"#46039f\"],[0.2222222222222222,\"#7201a8\"],[0.3333333333333333,\"#9c179e\"],[0.4444444444444444,\"#bd3786\"],[0.5555555555555556,\"#d8576b\"],[0.6666666666666666,\"#ed7953\"],[0.7777777777777778,\"#fb9f3a\"],[0.8888888888888888,\"#fdca26\"],[1.0,\"#f0f921\"]]}],\"heatmapgl\":[{\"type\":\"heatmapgl\",\"colorbar\":{\"outlinewidth\":0,\"ticks\":\"\"},\"colorscale\":[[0.0,\"#0d0887\"],[0.1111111111111111,\"#46039f\"],[0.2222222222222222,\"#7201a8\"],[0.3333333333333333,\"#9c179e\"],[0.4444444444444444,\"#bd3786\"],[0.5555555555555556,\"#d8576b\"],[0.6666666666666666,\"#ed7953\"],[0.7777777777777778,\"#fb9f3a\"],[0.8888888888888888,\"#fdca26\"],[1.0,\"#f0f921\"]]}],\"contourcarpet\":[{\"type\":\"contourcarpet\",\"colorbar\":{\"outlinewidth\":0,\"ticks\":\"\"}}],\"contour\":[{\"type\":\"contour\",\"colorbar\":{\"outlinewidth\":0,\"ticks\":\"\"},\"colorscale\":[[0.0,\"#0d0887\"],[0.1111111111111111,\"#46039f\"],[0.2222222222222222,\"#7201a8\"],[0.3333333333333333,\"#9c179e\"],[0.4444444444444444,\"#bd3786\"],[0.5555555555555556,\"#d8576b\"],[0.6666666666666666,\"#ed7953\"],[0.7777777777777778,\"#fb9f3a\"],[0.8888888888888888,\"#fdca26\"],[1.0,\"#f0f921\"]]}],\"surface\":[{\"type\":\"surface\",\"colorbar\":{\"outlinewidth\":0,\"ticks\":\"\"},\"colorscale\":[[0.0,\"#0d0887\"],[0.1111111111111111,\"#46039f\"],[0.2222222222222222,\"#7201a8\"],[0.3333333333333333,\"#9c179e\"],[0.4444444444444444,\"#bd3786\"],[0.5555555555555556,\"#d8576b\"],[0.6666666666666666,\"#ed7953\"],[0.7777777777777778,\"#fb9f3a\"],[0.8888888888888888,\"#fdca26\"],[1.0,\"#f0f921\"]]}],\"mesh3d\":[{\"type\":\"mesh3d\",\"colorbar\":{\"outlinewidth\":0,\"ticks\":\"\"}}],\"scatter\":[{\"fillpattern\":{\"fillmode\":\"overlay\",\"size\":10,\"solidity\":0.2},\"type\":\"scatter\"}],\"parcoords\":[{\"type\":\"parcoords\",\"line\":{\"colorbar\":{\"outlinewidth\":0,\"ticks\":\"\"}}}],\"scatterpolargl\":[{\"type\":\"scatterpolargl\",\"marker\":{\"colorbar\":{\"outlinewidth\":0,\"ticks\":\"\"}}}],\"bar\":[{\"error_x\":{\"color\":\"#2a3f5f\"},\"error_y\":{\"color\":\"#2a3f5f\"},\"marker\":{\"line\":{\"color\":\"#E5ECF6\",\"width\":0.5},\"pattern\":{\"fillmode\":\"overlay\",\"size\":10,\"solidity\":0.2}},\"type\":\"bar\"}],\"scattergeo\":[{\"type\":\"scattergeo\",\"marker\":{\"colorbar\":{\"outlinewidth\":0,\"ticks\":\"\"}}}],\"scatterpolar\":[{\"type\":\"scatterpolar\",\"marker\":{\"colorbar\":{\"outlinewidth\":0,\"ticks\":\"\"}}}],\"histogram\":[{\"marker\":{\"pattern\":{\"fillmode\":\"overlay\",\"size\":10,\"solidity\":0.2}},\"type\":\"histogram\"}],\"scattergl\":[{\"type\":\"scattergl\",\"marker\":{\"colorbar\":{\"outlinewidth\":0,\"ticks\":\"\"}}}],\"scatter3d\":[{\"type\":\"scatter3d\",\"line\":{\"colorbar\":{\"outlinewidth\":0,\"ticks\":\"\"}},\"marker\":{\"colorbar\":{\"outlinewidth\":0,\"ticks\":\"\"}}}],\"scattermapbox\":[{\"type\":\"scattermapbox\",\"marker\":{\"colorbar\":{\"outlinewidth\":0,\"ticks\":\"\"}}}],\"scatterternary\":[{\"type\":\"scatterternary\",\"marker\":{\"colorbar\":{\"outlinewidth\":0,\"ticks\":\"\"}}}],\"scattercarpet\":[{\"type\":\"scattercarpet\",\"marker\":{\"colorbar\":{\"outlinewidth\":0,\"ticks\":\"\"}}}],\"carpet\":[{\"aaxis\":{\"endlinecolor\":\"#2a3f5f\",\"gridcolor\":\"white\",\"linecolor\":\"white\",\"minorgridcolor\":\"white\",\"startlinecolor\":\"#2a3f5f\"},\"baxis\":{\"endlinecolor\":\"#2a3f5f\",\"gridcolor\":\"white\",\"linecolor\":\"white\",\"minorgridcolor\":\"white\",\"startlinecolor\":\"#2a3f5f\"},\"type\":\"carpet\"}],\"table\":[{\"cells\":{\"fill\":{\"color\":\"#EBF0F8\"},\"line\":{\"color\":\"white\"}},\"header\":{\"fill\":{\"color\":\"#C8D4E3\"},\"line\":{\"color\":\"white\"}},\"type\":\"table\"}],\"barpolar\":[{\"marker\":{\"line\":{\"color\":\"#E5ECF6\",\"width\":0.5},\"pattern\":{\"fillmode\":\"overlay\",\"size\":10,\"solidity\":0.2}},\"type\":\"barpolar\"}],\"pie\":[{\"automargin\":true,\"type\":\"pie\"}]},\"layout\":{\"autotypenumbers\":\"strict\",\"colorway\":[\"#636efa\",\"#EF553B\",\"#00cc96\",\"#ab63fa\",\"#FFA15A\",\"#19d3f3\",\"#FF6692\",\"#B6E880\",\"#FF97FF\",\"#FECB52\"],\"font\":{\"color\":\"#2a3f5f\"},\"hovermode\":\"closest\",\"hoverlabel\":{\"align\":\"left\"},\"paper_bgcolor\":\"white\",\"plot_bgcolor\":\"#E5ECF6\",\"polar\":{\"bgcolor\":\"#E5ECF6\",\"angularaxis\":{\"gridcolor\":\"white\",\"linecolor\":\"white\",\"ticks\":\"\"},\"radialaxis\":{\"gridcolor\":\"white\",\"linecolor\":\"white\",\"ticks\":\"\"}},\"ternary\":{\"bgcolor\":\"#E5ECF6\",\"aaxis\":{\"gridcolor\":\"white\",\"linecolor\":\"white\",\"ticks\":\"\"},\"baxis\":{\"gridcolor\":\"white\",\"linecolor\":\"white\",\"ticks\":\"\"},\"caxis\":{\"gridcolor\":\"white\",\"linecolor\":\"white\",\"ticks\":\"\"}},\"coloraxis\":{\"colorbar\":{\"outlinewidth\":0,\"ticks\":\"\"}},\"colorscale\":{\"sequential\":[[0.0,\"#0d0887\"],[0.1111111111111111,\"#46039f\"],[0.2222222222222222,\"#7201a8\"],[0.3333333333333333,\"#9c179e\"],[0.4444444444444444,\"#bd3786\"],[0.5555555555555556,\"#d8576b\"],[0.6666666666666666,\"#ed7953\"],[0.7777777777777778,\"#fb9f3a\"],[0.8888888888888888,\"#fdca26\"],[1.0,\"#f0f921\"]],\"sequentialminus\":[[0.0,\"#0d0887\"],[0.1111111111111111,\"#46039f\"],[0.2222222222222222,\"#7201a8\"],[0.3333333333333333,\"#9c179e\"],[0.4444444444444444,\"#bd3786\"],[0.5555555555555556,\"#d8576b\"],[0.6666666666666666,\"#ed7953\"],[0.7777777777777778,\"#fb9f3a\"],[0.8888888888888888,\"#fdca26\"],[1.0,\"#f0f921\"]],\"diverging\":[[0,\"#8e0152\"],[0.1,\"#c51b7d\"],[0.2,\"#de77ae\"],[0.3,\"#f1b6da\"],[0.4,\"#fde0ef\"],[0.5,\"#f7f7f7\"],[0.6,\"#e6f5d0\"],[0.7,\"#b8e186\"],[0.8,\"#7fbc41\"],[0.9,\"#4d9221\"],[1,\"#276419\"]]},\"xaxis\":{\"gridcolor\":\"white\",\"linecolor\":\"white\",\"ticks\":\"\",\"title\":{\"standoff\":15},\"zerolinecolor\":\"white\",\"automargin\":true,\"zerolinewidth\":2},\"yaxis\":{\"gridcolor\":\"white\",\"linecolor\":\"white\",\"ticks\":\"\",\"title\":{\"standoff\":15},\"zerolinecolor\":\"white\",\"automargin\":true,\"zerolinewidth\":2},\"scene\":{\"xaxis\":{\"backgroundcolor\":\"#E5ECF6\",\"gridcolor\":\"white\",\"linecolor\":\"white\",\"showbackground\":true,\"ticks\":\"\",\"zerolinecolor\":\"white\",\"gridwidth\":2},\"yaxis\":{\"backgroundcolor\":\"#E5ECF6\",\"gridcolor\":\"white\",\"linecolor\":\"white\",\"showbackground\":true,\"ticks\":\"\",\"zerolinecolor\":\"white\",\"gridwidth\":2},\"zaxis\":{\"backgroundcolor\":\"#E5ECF6\",\"gridcolor\":\"white\",\"linecolor\":\"white\",\"showbackground\":true,\"ticks\":\"\",\"zerolinecolor\":\"white\",\"gridwidth\":2}},\"shapedefaults\":{\"line\":{\"color\":\"#2a3f5f\"}},\"annotationdefaults\":{\"arrowcolor\":\"#2a3f5f\",\"arrowhead\":0,\"arrowwidth\":1},\"geo\":{\"bgcolor\":\"white\",\"landcolor\":\"#E5ECF6\",\"subunitcolor\":\"white\",\"showland\":true,\"showlakes\":true,\"lakecolor\":\"white\"},\"title\":{\"x\":0.05},\"mapbox\":{\"style\":\"light\"}}},\"scene\":{\"domain\":{\"x\":[0.0,1.0],\"y\":[0.0,1.0]},\"xaxis\":{\"title\":{\"text\":\"x\"}},\"yaxis\":{\"title\":{\"text\":\"y\"}},\"zaxis\":{\"title\":{\"text\":\"z\"}},\"camera\":{\"eye\":{\"x\":0.8,\"y\":0.8,\"z\":-1.2}}},\"coloraxis\":{\"colorbar\":{\"title\":{\"text\":\"label\"}},\"colorscale\":[[0.0,\"#0d0887\"],[0.1111111111111111,\"#46039f\"],[0.2222222222222222,\"#7201a8\"],[0.3333333333333333,\"#9c179e\"],[0.4444444444444444,\"#bd3786\"],[0.5555555555555556,\"#d8576b\"],[0.6666666666666666,\"#ed7953\"],[0.7777777777777778,\"#fb9f3a\"],[0.8888888888888888,\"#fdca26\"],[1.0,\"#f0f921\"]],\"showscale\":false},\"legend\":{\"tracegroupgap\":0},\"margin\":{\"t\":60}},                        {\"responsive\": true}                    ).then(function(){\n",
       "                            \n",
       "var gd = document.getElementById('fa19b016-feeb-424c-b9e8-09cd6c5be27c');\n",
       "var x = new MutationObserver(function (mutations, observer) {{\n",
       "        var display = window.getComputedStyle(gd).display;\n",
       "        if (!display || display === 'none') {{\n",
       "            console.log([gd, 'removed!']);\n",
       "            Plotly.purge(gd);\n",
       "            observer.disconnect();\n",
       "        }}\n",
       "}});\n",
       "\n",
       "// Listen for the removal of the full notebook cells\n",
       "var notebookContainer = gd.closest('#notebook-container');\n",
       "if (notebookContainer) {{\n",
       "    x.observe(notebookContainer, {childList: true});\n",
       "}}\n",
       "\n",
       "// Listen for the clearing of the current output cell\n",
       "var outputEl = gd.closest('.output');\n",
       "if (outputEl) {{\n",
       "    x.observe(outputEl, {childList: true});\n",
       "}}\n",
       "\n",
       "                        })                };                });            </script>        </div>"
      ]
     },
     "metadata": {},
     "output_type": "display_data"
    }
   ],
   "source": [
    "projected_points = project_to_2D_unit_circle(embeds)\n",
    "\n",
    "projected_points = projected_points[torch.tensor(shatter_class)==batch_labels]\n",
    "\n",
    "df = pd.DataFrame(\n",
    "                    {\n",
    "                     'x': projected_points[:, 0], \n",
    "                     'y': projected_points[:, 1], \n",
    "                     'z': projected_points[:, 2], \n",
    "                     'label': batch_labels[batch_labels==torch.tensor(shatter_class)].numpy()\n",
    "                    }\n",
    "                 )\n",
    "\n",
    "fig = px.scatter_3d(df, x='x', y='y', z='z',\n",
    "                      color='label', text='label')\n",
    "fig.update_coloraxes(showscale=False)\n",
    "fig.update_traces(marker=dict(size=5), \n",
    "                  textposition='middle center', \n",
    "                  textfont=dict(color='white', size=10))\n",
    "\n",
    "camera = dict(\n",
    "    eye=dict(x=.8, y=.8, z=-1.2)\n",
    ")\n",
    "\n",
    "fig.update_layout(scene_camera=camera)\n",
    "# fig.write_image(\"./figs/sc_plot.pdf\", scale=10)\n",
    "fig.show()"
   ]
  },
  {
   "cell_type": "markdown",
   "id": "fc5385f0",
   "metadata": {},
   "source": [
    "## Accuracy over test images"
   ]
  },
  {
   "cell_type": "code",
   "execution_count": 67,
   "id": "afe69ae9",
   "metadata": {},
   "outputs": [],
   "source": [
    "def accuracy_over_test_images(mnist_net, tag='original'):\n",
    "    correct = 0\n",
    "    total = 0\n",
    "    # since we're not training, we don't need to calculate the gradients for our outputs\n",
    "    with torch.no_grad():\n",
    "        for images, labels in data_loader:\n",
    "            images = images.to(device); labels = labels.to(device)\n",
    "            # calculate outputs by running images through the network\n",
    "            outputs = mnist_net(images)\n",
    "            # the class with the highest energy is what we choose as prediction\n",
    "            _, predicted = torch.max(outputs.data, 1)\n",
    "            total += labels.size(0)\n",
    "            correct += (predicted == labels).sum().item()\n",
    "\n",
    "    print(f'Accuracy of the ' +  tag +  ' network on the '+ str(total) +' test images: '+ str(100 * correct // total)+ '%')"
   ]
  },
  {
   "cell_type": "code",
   "execution_count": 68,
   "id": "283671bb",
   "metadata": {
    "scrolled": true
   },
   "outputs": [
    {
     "name": "stdout",
     "output_type": "stream",
     "text": [
      "Accuracy of the modified network on the 10000 test images: 57%\n"
     ]
    }
   ],
   "source": [
    "accuracy_over_test_images(mnist_net, tag='modified')"
   ]
  },
  {
   "cell_type": "code",
   "execution_count": 52,
   "id": "1279a9ae",
   "metadata": {
    "scrolled": true
   },
   "outputs": [],
   "source": [
    "# accuracy_over_test_images(original_mnist_net)\n",
    "# Accuracy of the original network on the 10000 test images: 97%"
   ]
  },
  {
   "cell_type": "code",
   "execution_count": null,
   "id": "79858db0",
   "metadata": {},
   "outputs": [],
   "source": []
  }
 ],
 "metadata": {
  "kernelspec": {
   "display_name": "Python 3 (ipykernel)",
   "language": "python",
   "name": "python3"
  },
  "language_info": {
   "codemirror_mode": {
    "name": "ipython",
    "version": 3
   },
   "file_extension": ".py",
   "mimetype": "text/x-python",
   "name": "python",
   "nbconvert_exporter": "python",
   "pygments_lexer": "ipython3",
   "version": "3.7.16"
  }
 },
 "nbformat": 4,
 "nbformat_minor": 5
}
