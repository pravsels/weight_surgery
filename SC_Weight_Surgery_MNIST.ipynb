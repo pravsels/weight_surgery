{
 "cells": [
  {
   "cell_type": "markdown",
   "id": "65791bdc",
   "metadata": {},
   "source": [
    "# MNIST Embeddings"
   ]
  },
  {
   "cell_type": "markdown",
   "id": "a8a44dcf",
   "metadata": {},
   "source": [
    "## Imports and Hyper-parameters "
   ]
  },
  {
   "cell_type": "code",
   "execution_count": 28,
   "id": "9f195be0",
   "metadata": {},
   "outputs": [
    {
     "name": "stdout",
     "output_type": "stream",
     "text": [
      "/home/praveens/Desktop/synthetic_biometrics/visualize_embeddings\n"
     ]
    }
   ],
   "source": [
    "import torch \n",
    "import os \n",
    "import numpy as np \n",
    "from torchvision import transforms \n",
    "from torchvision.datasets import MNIST \n",
    "from torchvision import models \n",
    "\n",
    "print(os.getcwd())\n",
    "root = os.getcwd()\n",
    "\n",
    "from mnist_net import Net\n",
    "\n",
    "from sklearn.ensemble import IsolationForest\n",
    "import plotly.express as px\n",
    "import pandas as pd"
   ]
  },
  {
   "cell_type": "code",
   "execution_count": 29,
   "id": "fae1b25d",
   "metadata": {},
   "outputs": [],
   "source": [
    "batch_size = 256\n",
    "data_folder = root + '/MNIST'\n",
    "device = 'cpu'\n",
    "model_path = './mnist_net.pth'\n",
    "\n",
    "shatter_class = 3"
   ]
  },
  {
   "cell_type": "markdown",
   "id": "2e460bd2",
   "metadata": {},
   "source": [
    "## Create Dataloader"
   ]
  },
  {
   "cell_type": "code",
   "execution_count": 30,
   "id": "860de05b",
   "metadata": {},
   "outputs": [],
   "source": [
    "transformations = transforms.Compose([transforms.Resize((221, 221)),\n",
    "                                      transforms.ToTensor(),\n",
    "                                      transforms.Normalize(mean=[0.485], std=[0.229])\n",
    "                                    ])\n",
    "\n",
    "mnist_data = MNIST(root=r'./MNIST',\n",
    "                   download=False, # change to True to download MNIST data\n",
    "                   train=False, \n",
    "                   transform=transformations)\n",
    "\n",
    "data_loader = torch.utils.data.DataLoader(mnist_data,\n",
    "                                          batch_size=batch_size,\n",
    "                                          shuffle=True)"
   ]
  },
  {
   "cell_type": "code",
   "execution_count": 31,
   "id": "74a9d075",
   "metadata": {},
   "outputs": [
    {
     "data": {
      "text/plain": [
       "Dataset MNIST\n",
       "    Number of datapoints: 10000\n",
       "    Root location: ./MNIST\n",
       "    Split: Test\n",
       "    StandardTransform\n",
       "Transform: Compose(\n",
       "               Resize(size=(221, 221), interpolation=bilinear, max_size=None, antialias=None)\n",
       "               ToTensor()\n",
       "               Normalize(mean=[0.485], std=[0.229])\n",
       "           )"
      ]
     },
     "execution_count": 31,
     "metadata": {},
     "output_type": "execute_result"
    }
   ],
   "source": [
    "mnist_data"
   ]
  },
  {
   "cell_type": "code",
   "execution_count": 32,
   "id": "17645ff9",
   "metadata": {},
   "outputs": [],
   "source": [
    "# list(mnist_net.named_parameters())"
   ]
  },
  {
   "cell_type": "markdown",
   "id": "b9e14939",
   "metadata": {},
   "source": [
    "## Initialize Tensorboard Logging Class "
   ]
  },
  {
   "cell_type": "code",
   "execution_count": 33,
   "id": "d275c88e",
   "metadata": {
    "scrolled": true
   },
   "outputs": [
    {
     "data": {
      "text/plain": [
       "Net(\n",
       "  (conv1): Conv2d(1, 8, kernel_size=(2, 2), stride=(1, 1))\n",
       "  (conv2): Conv2d(8, 16, kernel_size=(2, 2), stride=(1, 1))\n",
       "  (conv3): Conv2d(16, 32, kernel_size=(2, 2), stride=(1, 1))\n",
       "  (conv4): Conv2d(32, 64, kernel_size=(2, 2), stride=(1, 1))\n",
       "  (pool): MaxPool2d(kernel_size=2, stride=2, padding=0, dilation=1, ceil_mode=False)\n",
       "  (fc1): Linear(in_features=9216, out_features=128, bias=True)\n",
       "  (fc2): Linear(in_features=128, out_features=64, bias=True)\n",
       "  (fc3): Linear(in_features=64, out_features=3, bias=True)\n",
       "  (fc4): Linear(in_features=3, out_features=3, bias=True)\n",
       "  (fc5): Linear(in_features=3, out_features=10, bias=True)\n",
       ")"
      ]
     },
     "execution_count": 33,
     "metadata": {},
     "output_type": "execute_result"
    }
   ],
   "source": [
    "mnist_net = Net().to(device)\n",
    "mnist_net.load_state_dict(torch.load(model_path, map_location=torch.device(device)))  # load saved model \n",
    "\n",
    "mnist_net.eval()"
   ]
  },
  {
   "cell_type": "code",
   "execution_count": 34,
   "id": "c1c86b24",
   "metadata": {},
   "outputs": [],
   "source": [
    "def filter_by_classes(data_loader, cl1):\n",
    "    \n",
    "    class1 = torch.tensor(cl1)\n",
    "    class1_images = []\n",
    "    \n",
    "    for images, labels in data_loader: \n",
    "        class1_images.extend(images[labels == class1])\n",
    "        \n",
    "    class1_images = torch.stack(class1_images)\n",
    "        \n",
    "    return class1_images"
   ]
  },
  {
   "cell_type": "code",
   "execution_count": 35,
   "id": "39cf25e2",
   "metadata": {},
   "outputs": [],
   "source": [
    "def find_cosine_similarity(model, data_loader, cl1):\n",
    "    images1 = filter_by_classes(data_loader, cl1)\n",
    "    \n",
    "    e1 = model.embedding(images1).clone().detach()\n",
    "      \n",
    "    shape = e1.shape[0]\n",
    "    idx1 = np.random.randint(shape)\n",
    "    idx2 = np.random.randint(shape)\n",
    "        \n",
    "    cos_sim = (torch.dot(e1[idx1], e1[idx2])/(torch.linalg.norm(e1[idx1])*torch.linalg.norm(e1[idx2])))\n",
    "        \n",
    "    print('cosine similarity of 2 random embeddings : ', cos_sim)\n",
    "    \n",
    "    return cos_sim"
   ]
  },
  {
   "cell_type": "code",
   "execution_count": 36,
   "id": "3f9fe549",
   "metadata": {},
   "outputs": [],
   "source": [
    "def find_class_embeddings(model, data_loader, cl1, remove_outliers=True):\n",
    "    images1 = filter_by_classes(data_loader, cl1)\n",
    "    \n",
    "    e1 = model.embedding(images1).clone().detach()\n",
    "    \n",
    "    if remove_outliers:\n",
    "        model_if = IsolationForest(random_state=42)\n",
    "        model_if.fit(e1.numpy())\n",
    "        e1_anomaly = model_if.predict(e1)\n",
    "\n",
    "        # keeping the inliers \n",
    "        e1 = e1[e1_anomaly==1]\n",
    "        print('inliers for ' + str(cl1) + ' : ', e1.shape[0])\n",
    "        \n",
    "    \n",
    "    \n",
    "    ################## STEP 1: finding centroid of the 2 class embeddings  \n",
    "    class1_mean = torch.mean(e1, dim=0)    # squish multiple rows to get mean \n",
    "    \n",
    "    class1_normed = class1_mean/torch.norm(class1_mean)\n",
    "    \n",
    "    print('val of centroid of class ' + str(cl1) + ' : ', class1_normed)\n",
    "    \n",
    "    return class1_normed"
   ]
  },
  {
   "cell_type": "code",
   "execution_count": 37,
   "id": "262262cf",
   "metadata": {
    "scrolled": true
   },
   "outputs": [
    {
     "name": "stdout",
     "output_type": "stream",
     "text": [
      "inliers for 3 :  816\n",
      "val of centroid of class 3 :  tensor([ 0.6078,  0.3645, -0.7055])\n"
     ]
    }
   ],
   "source": [
    "x1 = find_class_embeddings(mnist_net, \n",
    "                            data_loader, \n",
    "                            shatter_class)"
   ]
  },
  {
   "cell_type": "code",
   "execution_count": 38,
   "id": "eb9a9adf",
   "metadata": {},
   "outputs": [],
   "source": [
    "################## Step 3: calculate change of basis matrix\n",
    "def change_of_basis(wm, d):\n",
    "    ################## The first basis is d, how do we get the other 2 ?    \n",
    "\n",
    "    new_wm = torch.eye(wm.shape[0])\n",
    "    \n",
    "    # replace first column of identity matrix with d \n",
    "    new_wm[:, 0] = d\n",
    "    \n",
    "    print('new weight matrix : ', new_wm)\n",
    "\n",
    "    return new_wm"
   ]
  },
  {
   "cell_type": "code",
   "execution_count": 39,
   "id": "5b80f3e1",
   "metadata": {},
   "outputs": [],
   "source": [
    "def perform_weight_surgery(mnist_net, x1, save_model=True):\n",
    "    \n",
    "    ################## Step 2: calculating difference vector of the 2 classes \n",
    "    # calculate the difference between the 2 class vectors \n",
    "    d = x1\n",
    "    print('d : ', d)\n",
    "    d = d/torch.norm(d)\n",
    "    print('normed d : ', d)\n",
    "    weight_matrix = mnist_net.fc4.weight.clone().detach()  # weight matrix of the penultimate layer \n",
    "    print('weight matrix : \\n', weight_matrix)\n",
    "    \n",
    "    ################## Step 3: calculate change of basis matrix \n",
    "    # perform a change of basis, to put d as the first basis \n",
    "    new_wm = change_of_basis(weight_matrix, d)\n",
    "    \n",
    "    # gram schmidt to calculate orthogonal basis vectors \n",
    "    def gram_schmidt(weight_matrix):\n",
    "        ################## d is first basis vector\n",
    "        m, n = weight_matrix.shape\n",
    "        \n",
    "        Q = torch.zeros((m, n))\n",
    "\n",
    "        for i in range(n):\n",
    "\n",
    "            v = weight_matrix[:, i].clone()\n",
    "\n",
    "            for j in range(i):\n",
    "                proj = (v @ torch.outer(Q[:, j], Q[:, j]))\n",
    "                v = v - proj\n",
    "                        \n",
    "            Q[:, i] = v/torch.linalg.norm(v)\n",
    "            \n",
    "        return Q\n",
    "    \n",
    "    ################## Step 4: using Gram-Schmidt to get orthogonal basis vectors \n",
    "    U = gram_schmidt(new_wm)    \n",
    "    \n",
    "    print('U matrix: ', U)\n",
    "    print('result of U * U_transpose : ', torch.mm(U, U.T))\n",
    "    \n",
    "    S = torch.eye(U.shape[0])\n",
    "    S[0, 0] = 1e-6\n",
    "#     print('matrix S :\\n', S)\n",
    "    \n",
    "    # projection matrix \n",
    "#     P_d = torch.mm(torch.mm(U, S), U.T)\n",
    "    P_d = U @ S @ U.T\n",
    "\n",
    "    print('projection matrix : ', P_d)\n",
    "    \n",
    "#     modified_weight_matrix = torch.mm(P_d, weight_matrix)\n",
    "    modified_weight_matrix = P_d @ weight_matrix\n",
    "    \n",
    "    print('modified weight matrix :\\n', modified_weight_matrix)\n",
    "    \n",
    "    print('rank of the modified weights matrix : ', torch.linalg.matrix_rank(modified_weight_matrix))\n",
    "    \n",
    "    mnist_net.fc4.weight = torch.nn.Parameter(modified_weight_matrix)\n",
    "    \n",
    "    if save_model: \n",
    "        path = './modified_mnist_net_sc.pth'\n",
    "        torch.save(mnist_net.state_dict(), path)"
   ]
  },
  {
   "cell_type": "code",
   "execution_count": 40,
   "id": "346069de",
   "metadata": {
    "scrolled": false
   },
   "outputs": [
    {
     "name": "stdout",
     "output_type": "stream",
     "text": [
      "d :  tensor([ 0.6078,  0.3645, -0.7055])\n",
      "normed d :  tensor([ 0.6078,  0.3645, -0.7055])\n",
      "weight matrix : \n",
      " tensor([[ 0.4307, -0.1483,  0.8380],\n",
      "        [ 0.0444, -1.0082,  0.3290],\n",
      "        [ 1.0885, -0.1497, -0.8214]])\n",
      "new weight matrix :  tensor([[ 0.6078,  0.0000,  0.0000],\n",
      "        [ 0.3645,  1.0000,  0.0000],\n",
      "        [-0.7055,  0.0000,  1.0000]])\n",
      "U matrix:  tensor([[ 0.6078, -0.2379,  0.7576],\n",
      "        [ 0.3645,  0.9312,  0.0000],\n",
      "        [-0.7055,  0.2761,  0.6527]])\n",
      "result of U * U_transpose :  tensor([[ 1.0000e+00, -1.4901e-08,  3.6355e-08],\n",
      "        [-1.4901e-08,  1.0000e+00,  0.0000e+00],\n",
      "        [ 3.6355e-08,  0.0000e+00,  1.0000e+00]])\n",
      "projection matrix :  tensor([[ 0.6306, -0.2215,  0.4288],\n",
      "        [-0.2215,  0.8671,  0.2572],\n",
      "        [ 0.4288,  0.2572,  0.5023]])\n",
      "modified weight matrix :\n",
      " tensor([[ 0.7285,  0.0657,  0.1033],\n",
      "        [ 0.2230, -0.8799, -0.1116],\n",
      "        [ 0.7429, -0.3980,  0.0314]])\n",
      "rank of the modified weights matrix :  tensor(3)\n"
     ]
    }
   ],
   "source": [
    "perform_weight_surgery(mnist_net, x1, save_model=True)"
   ]
  },
  {
   "cell_type": "code",
   "execution_count": 41,
   "id": "3754c031",
   "metadata": {},
   "outputs": [
    {
     "data": {
      "text/plain": [
       "Net(\n",
       "  (conv1): Conv2d(1, 8, kernel_size=(2, 2), stride=(1, 1))\n",
       "  (conv2): Conv2d(8, 16, kernel_size=(2, 2), stride=(1, 1))\n",
       "  (conv3): Conv2d(16, 32, kernel_size=(2, 2), stride=(1, 1))\n",
       "  (conv4): Conv2d(32, 64, kernel_size=(2, 2), stride=(1, 1))\n",
       "  (pool): MaxPool2d(kernel_size=2, stride=2, padding=0, dilation=1, ceil_mode=False)\n",
       "  (fc1): Linear(in_features=9216, out_features=128, bias=True)\n",
       "  (fc2): Linear(in_features=128, out_features=64, bias=True)\n",
       "  (fc3): Linear(in_features=64, out_features=3, bias=True)\n",
       "  (fc4): Linear(in_features=3, out_features=3, bias=True)\n",
       "  (fc5): Linear(in_features=3, out_features=10, bias=True)\n",
       ")"
      ]
     },
     "execution_count": 41,
     "metadata": {},
     "output_type": "execute_result"
    }
   ],
   "source": [
    "original_mnist_net = Net().to(device)\n",
    "original_mnist_net.load_state_dict(torch.load('./mnist_net.pth', map_location=torch.device(device)))  # load saved model \n",
    "\n",
    "original_mnist_net.eval()"
   ]
  },
  {
   "cell_type": "code",
   "execution_count": 42,
   "id": "59c38717",
   "metadata": {
    "scrolled": true
   },
   "outputs": [
    {
     "name": "stdout",
     "output_type": "stream",
     "text": [
      "cosine similarity of 2 random embeddings :  tensor(0.9982)\n"
     ]
    }
   ],
   "source": [
    "_ = find_cosine_similarity(original_mnist_net, data_loader, shatter_class)"
   ]
  },
  {
   "cell_type": "code",
   "execution_count": 43,
   "id": "3e35df1e",
   "metadata": {
    "scrolled": true
   },
   "outputs": [
    {
     "name": "stdout",
     "output_type": "stream",
     "text": [
      "cosine similarity of 2 random embeddings :  tensor(0.0609)\n"
     ]
    }
   ],
   "source": [
    "_ = find_cosine_similarity(mnist_net, data_loader, shatter_class)"
   ]
  },
  {
   "cell_type": "markdown",
   "id": "25a3132c",
   "metadata": {},
   "source": [
    "## View Unmodified Embeddings through Plotly"
   ]
  },
  {
   "cell_type": "code",
   "execution_count": 44,
   "id": "1489d437",
   "metadata": {},
   "outputs": [],
   "source": [
    "def remove_outliers(embeds, labels):\n",
    "    unique_labels = set(labels.numpy())\n",
    "    \n",
    "    model_if = IsolationForest(random_state=42)\n",
    "    \n",
    "    new_embeds, new_labels = [], []\n",
    "    \n",
    "    for label_x in unique_labels:\n",
    "        embed_x = embeds[labels==label_x]\n",
    "        \n",
    "        model_if.fit(embed_x)\n",
    "        embedx_anomaly = model_if.predict(embed_x)\n",
    "        \n",
    "        embed_x = embed_x[embedx_anomaly == 1]   # keeping inliers \n",
    "        labels_x = [label_x] * embed_x.shape[0]\n",
    "        \n",
    "        new_embeds.extend(embed_x)\n",
    "        new_labels.extend(labels_x)\n",
    "        \n",
    "    return np.stack(new_embeds), np.stack(new_labels)"
   ]
  },
  {
   "cell_type": "code",
   "execution_count": 45,
   "id": "fe72310f",
   "metadata": {},
   "outputs": [],
   "source": [
    "batch_images, batch_labels = next(iter(data_loader))\n",
    "\n",
    "embeds = original_mnist_net.embedding(batch_images.to(device), normalize=True)\n",
    "embeds = embeds.detach().numpy()\n",
    "\n",
    "# embeds, batch_labels = remove_outliers(embeds, batch_labels)"
   ]
  },
  {
   "cell_type": "code",
   "execution_count": 46,
   "id": "179b2ce4",
   "metadata": {},
   "outputs": [
    {
     "data": {
      "application/vnd.plotly.v1+json": {
       "config": {
        "plotlyServerURL": "https://plot.ly"
       },
       "data": [
        {
         "hovertemplate": "x=%{x}<br>y=%{y}<br>z=%{z}<br>label=%{marker.color}<extra></extra>",
         "legendgroup": "",
         "marker": {
          "color": [
           3,
           4,
           4,
           5,
           2,
           0,
           4,
           6,
           3,
           1,
           5,
           7,
           3,
           7,
           5,
           2,
           4,
           4,
           9,
           5,
           1,
           3,
           0,
           6,
           0,
           9,
           6,
           5,
           0,
           2,
           7,
           5,
           9,
           3,
           1,
           3,
           5,
           7,
           2,
           4,
           3,
           8,
           1,
           4,
           9,
           4,
           8,
           9,
           6,
           1,
           4,
           7,
           3,
           3,
           5,
           1,
           6,
           6,
           8,
           1,
           3,
           0,
           1,
           6,
           4,
           3,
           6,
           7,
           6,
           3,
           0,
           5,
           9,
           9,
           7,
           6,
           0,
           0,
           7,
           1,
           6,
           1,
           6,
           8,
           5,
           0,
           6,
           0,
           6,
           3,
           1,
           6,
           8,
           0,
           8,
           1,
           6,
           9,
           2,
           7,
           5,
           7,
           3,
           1,
           7,
           0,
           6,
           4,
           0,
           5,
           3,
           5,
           1,
           3,
           8,
           7,
           1,
           1,
           8,
           4,
           0,
           5,
           9,
           1,
           4,
           5,
           0,
           8,
           7,
           5,
           5,
           6,
           5,
           0,
           9,
           4,
           4,
           4,
           4,
           8,
           0,
           6,
           2,
           1,
           7,
           7,
           7,
           0,
           8,
           0,
           5,
           7,
           5,
           1,
           4,
           1,
           0,
           8,
           1,
           3,
           2,
           3,
           0,
           0,
           2,
           1,
           5,
           6,
           2,
           9,
           6,
           0,
           7,
           1,
           0,
           9,
           9,
           4,
           6,
           1,
           6,
           8,
           3,
           7,
           7,
           4,
           6,
           8,
           5,
           8,
           0,
           4,
           2,
           8,
           4,
           4,
           6,
           3,
           9,
           7,
           0,
           5,
           1,
           3,
           9,
           6,
           1,
           9,
           7,
           7,
           9,
           8,
           7,
           4,
           1,
           6,
           1,
           0,
           3,
           4,
           0,
           7,
           8,
           6,
           2,
           8,
           3,
           1,
           8,
           6,
           7,
           9,
           1,
           8,
           5,
           2,
           5,
           9,
           4,
           8,
           9,
           5,
           0,
           4,
           2,
           1,
           4,
           6,
           7,
           6,
           8,
           0,
           1,
           1,
           5,
           0
          ],
          "coloraxis": "coloraxis",
          "opacity": 1,
          "size": 5,
          "symbol": "circle"
         },
         "mode": "markers+text",
         "name": "",
         "scene": "scene",
         "showlegend": false,
         "text": [
          3,
          4,
          4,
          5,
          2,
          0,
          4,
          6,
          3,
          1,
          5,
          7,
          3,
          7,
          5,
          2,
          4,
          4,
          9,
          5,
          1,
          3,
          0,
          6,
          0,
          9,
          6,
          5,
          0,
          2,
          7,
          5,
          9,
          3,
          1,
          3,
          5,
          7,
          2,
          4,
          3,
          8,
          1,
          4,
          9,
          4,
          8,
          9,
          6,
          1,
          4,
          7,
          3,
          3,
          5,
          1,
          6,
          6,
          8,
          1,
          3,
          0,
          1,
          6,
          4,
          3,
          6,
          7,
          6,
          3,
          0,
          5,
          9,
          9,
          7,
          6,
          0,
          0,
          7,
          1,
          6,
          1,
          6,
          8,
          5,
          0,
          6,
          0,
          6,
          3,
          1,
          6,
          8,
          0,
          8,
          1,
          6,
          9,
          2,
          7,
          5,
          7,
          3,
          1,
          7,
          0,
          6,
          4,
          0,
          5,
          3,
          5,
          1,
          3,
          8,
          7,
          1,
          1,
          8,
          4,
          0,
          5,
          9,
          1,
          4,
          5,
          0,
          8,
          7,
          5,
          5,
          6,
          5,
          0,
          9,
          4,
          4,
          4,
          4,
          8,
          0,
          6,
          2,
          1,
          7,
          7,
          7,
          0,
          8,
          0,
          5,
          7,
          5,
          1,
          4,
          1,
          0,
          8,
          1,
          3,
          2,
          3,
          0,
          0,
          2,
          1,
          5,
          6,
          2,
          9,
          6,
          0,
          7,
          1,
          0,
          9,
          9,
          4,
          6,
          1,
          6,
          8,
          3,
          7,
          7,
          4,
          6,
          8,
          5,
          8,
          0,
          4,
          2,
          8,
          4,
          4,
          6,
          3,
          9,
          7,
          0,
          5,
          1,
          3,
          9,
          6,
          1,
          9,
          7,
          7,
          9,
          8,
          7,
          4,
          1,
          6,
          1,
          0,
          3,
          4,
          0,
          7,
          8,
          6,
          2,
          8,
          3,
          1,
          8,
          6,
          7,
          9,
          1,
          8,
          5,
          2,
          5,
          9,
          4,
          8,
          9,
          5,
          0,
          4,
          2,
          1,
          4,
          6,
          7,
          6,
          8,
          0,
          1,
          1,
          5,
          0
         ],
         "textfont": {
          "color": "white"
         },
         "textposition": "middle center",
         "type": "scatter3d",
         "x": [
          0.6530661582946777,
          -0.45415326952934265,
          -0.39060068130493164,
          0.04784439876675606,
          0.9774656295776367,
          -0.2831728458404541,
          0.07714831084012985,
          -0.1581418365240097,
          0.6135185360908508,
          -0.9415007829666138,
          -0.7031959891319275,
          0.5909889340400696,
          0.5891798138618469,
          0.5745587944984436,
          -0.7134457230567932,
          0.9772230982780457,
          -0.3345124125480652,
          -0.484825998544693,
          0.25640201568603516,
          -0.6984201073646545,
          -0.9402570128440857,
          0.5943948030471802,
          -0.19623024761676788,
          -0.395556777715683,
          0.1334172636270523,
          0.2644403874874115,
          -0.3193349242210388,
          -0.6879281997680664,
          -0.24836266040802002,
          0.9745496511459351,
          0.5786424279212952,
          -0.710045576095581,
          0.2922227680683136,
          0.595434308052063,
          -0.9487913250923157,
          0.5987935066223145,
          -0.6935648918151855,
          0.6094210147857666,
          0.9746413826942444,
          -0.43615880608558655,
          0.6182118058204651,
          0.07834092527627945,
          -0.9459369778633118,
          -0.4167439639568329,
          0.6069595217704773,
          -0.5030912160873413,
          0.0632801204919815,
          0.2621349096298218,
          -0.18148575723171234,
          -0.9415366649627686,
          -0.5283597707748413,
          0.8905618190765381,
          0.6095315217971802,
          0.5847795009613037,
          -0.5992369055747986,
          -0.9477439522743225,
          -0.16891176998615265,
          -0.17221912741661072,
          0.2581396698951721,
          -0.9455123543739319,
          0.7020238637924194,
          -0.22528353333473206,
          -0.9449545741081238,
          -0.22031059861183167,
          -0.5893520712852478,
          0.6328107118606567,
          -0.15020518004894257,
          0.5959264636039734,
          -0.3803729712963104,
          0.6039131283760071,
          -0.2600269913673401,
          -0.7099800109863281,
          0.28843700885772705,
          0.2761405110359192,
          0.38670215010643005,
          -0.15658092498779297,
          -0.2746051251888275,
          -0.26604539155960083,
          0.633700966835022,
          -0.9459224939346313,
          -0.29758697748184204,
          -0.9436245560646057,
          -0.18717607855796814,
          0.06417496502399445,
          -0.680822491645813,
          -0.24464984238147736,
          -0.14900191128253937,
          -0.24562674760818481,
          -0.1487603634595871,
          0.5943695902824402,
          -0.9456116557121277,
          -0.18553012609481812,
          -0.14466261863708496,
          -0.2656404674053192,
          0.2777073085308075,
          -0.9455167651176453,
          -0.15583154559135437,
          0.2811495065689087,
          0.9811833500862122,
          0.77552729845047,
          -0.6907355189323425,
          0.5743288993835449,
          0.5655252933502197,
          -0.9402412176132202,
          0.5567107796669006,
          -0.27211496233940125,
          -0.15879279375076294,
          -0.35019463300704956,
          -0.2732377052307129,
          -0.7021103501319885,
          0.6372837424278259,
          -0.798964262008667,
          -0.9475403428077698,
          0.631954550743103,
          0.09858845919370651,
          -0.23523563146591187,
          -0.946509599685669,
          -0.9445856213569641,
          0.07088442146778107,
          -0.3348061442375183,
          -0.25236523151397705,
          -0.7172868251800537,
          0.2969963252544403,
          -0.9024711847305298,
          -0.4809092879295349,
          -0.7042920589447021,
          -0.2598951756954193,
          0.0018940006848424673,
          0.5922346711158752,
          -0.7148004770278931,
          -0.6856934428215027,
          -0.15458926558494568,
          -0.7045722603797913,
          -0.257321298122406,
          0.2808728814125061,
          -0.38262107968330383,
          -0.39504027366638184,
          -0.35519522428512573,
          -0.4383140504360199,
          0.15187625586986542,
          -0.2649339437484741,
          -0.18589095771312714,
          0.9681258201599121,
          -0.9383988380432129,
          0.593562126159668,
          0.5517635345458984,
          0.5838772654533386,
          -0.27289897203445435,
          0.08256465941667557,
          -0.2641660273075104,
          -0.6824928522109985,
          0.5450013279914856,
          -0.6636752486228943,
          -0.945160448551178,
          -0.3912668228149414,
          -0.9325262308120728,
          -0.26496797800064087,
          0.0662868469953537,
          -0.9447299242019653,
          0.6154471635818481,
          0.9730696082115173,
          0.5947567820549011,
          -0.2549850046634674,
          -0.2852654457092285,
          0.9793858528137207,
          -0.9499578475952148,
          -0.6836358904838562,
          -0.15011072158813477,
          0.9718905687332153,
          0.30462515354156494,
          -0.17426776885986328,
          -0.26621073484420776,
          0.5957521200180054,
          -0.9442189335823059,
          -0.27094796299934387,
          0.2803162932395935,
          0.29244160652160645,
          -0.36371010541915894,
          -0.18449687957763672,
          -0.9402143955230713,
          -0.11897733807563782,
          0.11214292794466019,
          0.6334589123725891,
          0.6006214618682861,
          0.691842794418335,
          -0.37155023217201233,
          -0.15056370198726654,
          0.1013321653008461,
          -0.7046420574188232,
          0.07795964926481247,
          -0.2563266456127167,
          -0.33579015731811523,
          0.9792137145996094,
          0.09948538988828659,
          -0.35598286986351013,
          -0.4523956775665283,
          -0.11198122054338455,
          0.6418110132217407,
          0.2872477173805237,
          0.599647581577301,
          -0.30310097336769104,
          -0.6939412951469421,
          -0.9493269920349121,
          0.5942386984825134,
          0.3167203962802887,
          -0.15481577813625336,
          -0.9481940865516663,
          0.33293235301971436,
          0.5749496817588806,
          0.5782117247581482,
          0.3201713263988495,
          0.04520291090011597,
          0.5810946822166443,
          -0.3368414640426636,
          -0.9191232323646545,
          -0.189047172665596,
          -0.9465631246566772,
          -0.31790658831596375,
          0.6197996139526367,
          -0.5089846253395081,
          -0.2492295801639557,
          0.5979659557342529,
          0.06020435690879822,
          -0.14935952425003052,
          0.9234098196029663,
          0.041276395320892334,
          0.6109046936035156,
          -0.9460641145706177,
          0.21770308911800385,
          -0.17195233702659607,
          0.5964279174804688,
          0.2610069215297699,
          -0.9418586492538452,
          0.07376807928085327,
          -0.7166892290115356,
          0.9701687097549438,
          -0.7291452288627625,
          0.31973645091056824,
          -0.5151443481445312,
          0.08171480894088745,
          0.25920769572257996,
          -0.713214099407196,
          -0.1882043033838272,
          -0.4206445813179016,
          0.9740867614746094,
          -0.9406391978263855,
          -0.3979569375514984,
          -0.16456709802150726,
          0.6088345050811768,
          -0.09724628180265427,
          0.10042288899421692,
          -0.2763918340206146,
          -0.949461817741394,
          -0.9395475387573242,
          -0.6550937294960022,
          -0.2684634029865265
         ],
         "y": [
          0.3911325931549072,
          -0.5453498959541321,
          -0.5447383522987366,
          0.8330291509628296,
          0.11139662563800812,
          -0.9156947135925293,
          -0.3400335907936096,
          -0.2078942507505417,
          0.3336832821369171,
          -0.11928460001945496,
          0.5291018486022949,
          -0.7719082832336426,
          0.3942127525806427,
          -0.7789011001586914,
          0.5304098129272461,
          0.1434529423713684,
          -0.6100320816040039,
          -0.5252730846405029,
          0.21865691244602203,
          0.5284342169761658,
          -0.12763015925884247,
          0.3874550461769104,
          -0.939180850982666,
          -0.3031047582626343,
          -0.988174557685852,
          0.227884903550148,
          -0.1735556423664093,
          0.5268461108207703,
          -0.9236811399459839,
          0.15765827894210815,
          -0.7231869697570801,
          0.5299953818321228,
          0.21502801775932312,
          0.3653509318828583,
          -0.05512799322605133,
          0.38058096170425415,
          0.5277196168899536,
          -0.7523430585861206,
          0.132555291056633,
          -0.5234124064445496,
          0.3344648778438568,
          0.9382638931274414,
          -0.08461709320545197,
          -0.5530848503112793,
          -0.31711143255233765,
          -0.5190839767456055,
          0.9854934811592102,
          0.1930931657552719,
          -0.10828515142202377,
          -0.1190362200140953,
          -0.4733830988407135,
          -0.3998774290084839,
          0.36995622515678406,
          0.34673070907592773,
          0.5080432295799255,
          -0.06699448078870773,
          -0.18002580106258392,
          -0.2223145216703415,
          0.9658754467964172,
          -0.08837880194187164,
          0.2960858941078186,
          -0.9285120964050293,
          -0.09314437955617905,
          -0.8167996406555176,
          -0.463039368391037,
          0.3858034610748291,
          -0.1721070259809494,
          -0.7125544548034668,
          -0.10905146598815918,
          0.3721654713153839,
          -0.9272609949111938,
          0.5299871563911438,
          0.24796895682811737,
          0.2369919717311859,
          -0.9208105206489563,
          -0.16282141208648682,
          -0.9211338758468628,
          -0.9189633131027222,
          -0.7551870346069336,
          -0.08474840968847275,
          -0.3156644403934479,
          -0.1038205549120903,
          -0.12548311054706573,
          0.9870554208755493,
          0.5256806015968323,
          -0.9260591268539429,
          -0.15920592844486237,
          -0.9257701635360718,
          -0.13903169333934784,
          0.33414846658706665,
          -0.08750983327627182,
          -0.1366586983203888,
          0.9690289497375488,
          -0.9238970279693604,
          0.9589678049087524,
          -0.08834071457386017,
          -0.1716545671224594,
          0.31355395913124084,
          0.0771830752491951,
          -0.6032315492630005,
          0.5272868871688843,
          -0.7898796200752258,
          0.45583224296569824,
          -0.12773388624191284,
          -0.8024648427963257,
          -0.917838990688324,
          -0.1837301105260849,
          -0.613642156124115,
          -0.9194320440292358,
          0.5289532542228699,
          0.34298932552337646,
          0.531946063041687,
          -0.06913623213768005,
          0.285148561000824,
          0.9918847680091858,
          -0.9541001319885254,
          -0.0793401449918747,
          -0.0961967334151268,
          0.9905352592468262,
          -0.6000937819480896,
          -0.9312098026275635,
          0.530853807926178,
          0.35609856247901917,
          -0.28863072395324707,
          -0.5014098882675171,
          0.529249906539917,
          -0.9251910448074341,
          0.9968584179878235,
          -0.7724834680557251,
          0.530569314956665,
          0.5264871716499329,
          -0.15562404692173004,
          0.5292875170707703,
          -0.9263994097709656,
          0.22629697620868683,
          -0.5853404402732849,
          -0.5635128021240234,
          -0.572981059551239,
          -0.5382880568504333,
          0.9827380776405334,
          -0.9121974110603333,
          -0.16635775566101074,
          0.14093470573425293,
          -0.1393256038427353,
          -0.7702345848083496,
          -0.8019652962684631,
          -0.7777963280677795,
          -0.9174119830131531,
          0.9902414679527283,
          -0.9250146746635437,
          0.5259608626365662,
          -0.810029149055481,
          0.522591769695282,
          -0.09140699356794357,
          -0.5845189690589905,
          -0.07574324309825897,
          -0.9234427809715271,
          0.9860608577728271,
          -0.09501193463802338,
          0.7325330376625061,
          -0.01169668324291706,
          0.39946356415748596,
          -0.9232949018478394,
          -0.9108738303184509,
          0.13018429279327393,
          -0.039582155644893646,
          0.5261504650115967,
          -0.18238379061222076,
          0.2181793451309204,
          0.2573157548904419,
          -0.17378677427768707,
          -0.9198428392410278,
          -0.7619691491127014,
          -0.0991586446762085,
          -0.9238324761390686,
          0.24246551096439362,
          0.21609482169151306,
          -0.7910794019699097,
          -0.12784793972969055,
          -0.1279085874557495,
          -0.19704803824424744,
          0.9832948446273804,
          0.38156720995903015,
          -0.7607781291007996,
          -0.6963668465614319,
          -0.5829105973243713,
          -0.17940564453601837,
          0.9792398810386658,
          0.529296875,
          0.9915175437927246,
          -0.930604100227356,
          -0.615250825881958,
          0.09791728109121323,
          0.9925376772880554,
          -0.5238884687423706,
          -0.526052713394165,
          -0.18389888107776642,
          0.33823901414871216,
          0.20851536095142365,
          -0.7590295076370239,
          -0.9230341911315918,
          0.5277762413024902,
          -0.04836944118142128,
          0.3527083992958069,
          0.22237007319927216,
          -0.13440006971359253,
          -0.062080591917037964,
          0.31722477078437805,
          -0.8050970435142517,
          -0.7681161761283875,
          0.2869552671909332,
          0.9968439936637878,
          -0.7876129150390625,
          -0.6088278293609619,
          -0.1046910434961319,
          -0.1690611094236374,
          -0.07883425801992416,
          -0.8781145215034485,
          0.37450698018074036,
          -0.4848634600639343,
          -0.9157970547676086,
          -0.7573285102844238,
          0.9920352101325989,
          -0.1497010886669159,
          -0.31644153594970703,
          0.9741642475128174,
          0.3446129858493805,
          -0.08346681296825409,
          0.9756419658660889,
          -0.1500931978225708,
          -0.7814505100250244,
          0.20053431391716003,
          -0.11679329723119736,
          0.985531210899353,
          0.5307864546775818,
          -0.15064814686775208,
          0.53205406665802,
          0.29097074270248413,
          -0.4693760275840759,
          0.9884760975837708,
          0.2823488414287567,
          0.5303821563720703,
          -0.9258238673210144,
          -0.4965500831604004,
          0.10654434561729431,
          -0.1251150667667389,
          -0.5574911832809448,
          -0.19133910536766052,
          -0.7505413889884949,
          -0.1816582828760147,
          0.9797998666763306,
          -0.9212577939033508,
          -0.046574804931879044,
          -0.1321967989206314,
          0.5209091305732727,
          -0.925369381904602
         ],
         "z": [
          -0.6484750509262085,
          0.7045127749443054,
          0.7420856952667236,
          -0.5511562824249268,
          0.17930901050567627,
          -0.2851601541042328,
          0.9372434616088867,
          -0.9652829170227051,
          -0.7157167196273804,
          -0.3151944577693939,
          0.47493860125541687,
          0.23428532481193542,
          -0.7053108811378479,
          0.2513866722583771,
          0.457887202501297,
          0.1563849151134491,
          0.7183051109313965,
          0.6993082761764526,
          0.9415132403373718,
          0.48266610503196716,
          -0.31563761830329895,
          -0.7046796083450317,
          -0.2818385064601898,
          -0.8669846653938293,
          -0.07556988298892975,
          0.9370911717414856,
          -0.9316134452819824,
          0.49918729066848755,
          -0.2917688190937042,
          0.15936405956745148,
          0.3770591616630554,
          0.46361643075942993,
          0.9318630695343018,
          -0.7155255079269409,
          -0.31105631589889526,
          -0.7047017216682434,
          0.4903873801231384,
          0.2501718997955322,
          0.1802864670753479,
          0.7319869995117188,
          -0.7112997174263,
          -0.33693253993988037,
          -0.3131183087825775,
          0.7214025855064392,
          0.7287251949310303,
          0.6909783482551575,
          -0.1574743539094925,
          0.9455158710479736,
          -0.9774135947227478,
          -0.3151808977127075,
          0.7048010230064392,
          0.21678918600082397,
          -0.7011445760726929,
          -0.7333558201789856,
          0.6187140941619873,
          -0.3119186460971832,
          -0.9690508246421814,
          -0.9596441388130188,
          0.021181214600801468,
          -0.31336185336112976,
          -0.6476848721504211,
          -0.29514873027801514,
          -0.3136640191078186,
          -0.5331993699073792,
          0.6620110869407654,
          -0.6713466048240662,
          -0.9735592007637024,
          0.37032127380371094,
          -0.9183812737464905,
          -0.7048275470733643,
          -0.2693939507007599,
          0.46372613310813904,
          0.9248327016830444,
          0.9314404129981995,
          -0.0506901852786541,
          -0.9741516709327698,
          -0.2758702039718628,
          -0.2910778820514679,
          0.16767744719982147,
          -0.31312689185142517,
          -0.9009982943534851,
          -0.31431499123573303,
          -0.9742788076400757,
          -0.14698031544685364,
          0.5100398659706116,
          -0.28733405470848083,
          -0.9759363532066345,
          -0.28743186593055725,
          -0.9790508151054382,
          -0.7314844727516174,
          -0.31330597400665283,
          -0.9730893969535828,
          0.2001389116048813,
          -0.27540791034698486,
          -0.057090289890766144,
          -0.31335940957069397,
          -0.9727544188499451,
          0.9069944024085999,
          0.17698054015636444,
          0.18619635701179504,
          0.49482616782188416,
          0.21502676606178284,
          -0.6873123049736023,
          -0.3156430125236511,
          0.21476300060749054,
          -0.28900715708732605,
          -0.9700660109519958,
          0.7076771855354309,
          -0.2828177213668823,
          0.47670698165893555,
          -0.6900925040245056,
          0.2805165946483612,
          -0.3120695948600769,
          -0.7206412553787231,
          -0.08028100430965424,
          0.18535660207271576,
          -0.31276920437812805,
          -0.31385377049446106,
          -0.11753864586353302,
          0.7264931797981262,
          -0.2629832625389099,
          0.45132455229759216,
          0.8859949707984924,
          -0.31974688172340393,
          0.7192457318305969,
          0.4731460213661194,
          -0.2765429615974426,
          0.0791817158460617,
          0.22918842732906342,
          0.4555836021900177,
          0.5026288628578186,
          -0.9756450653076172,
          0.47268664836883545,
          -0.27489957213401794,
          0.9326843023300171,
          0.7148269414901733,
          0.725531816482544,
          0.7385994791984558,
          0.7198101282119751,
          -0.10563843697309494,
          -0.3125794231891632,
          -0.9683851003646851,
          0.20705042779445648,
          -0.3162216246128082,
          0.2332867830991745,
          0.2289290726184845,
          0.23263749480247498,
          -0.289622962474823,
          -0.11227166652679443,
          -0.2730642259120941,
          0.5075122714042664,
          0.2163940817117691,
          0.5351943373680115,
          -0.31355464458465576,
          0.7108078598976135,
          -0.3530687987804413,
          -0.27757054567337036,
          -0.15261061489582062,
          -0.31378045678138733,
          -0.29089534282684326,
          0.23021458089351654,
          -0.6976339817047119,
          -0.28724405169487,
          -0.2982155978679657,
          0.15445199608802795,
          -0.3098604083061218,
          0.5057743787765503,
          -0.9717010855674744,
          0.08846805989742279,
          0.9170562028884888,
          -0.9692413210868835,
          -0.28813377022743225,
          0.25393372774124146,
          -0.3140351176261902,
          -0.2704084515571594,
          0.9287806153297424,
          0.9315475821495056,
          0.4918416738510132,
          -0.9744822978973389,
          -0.315652072429657,
          -0.9731477499008179,
          -0.14337073266506195,
          -0.6731539368629456,
          0.24590735137462616,
          0.1908579021692276,
          0.722610354423523,
          -0.9721852540969849,
          -0.17555931210517883,
          0.4725721478462219,
          -0.1039963886141777,
          -0.2612902820110321,
          0.7132400870323181,
          0.17763102054595947,
          -0.07051052898168564,
          0.7738326787948608,
          0.7201434969902039,
          -0.9765456318855286,
          -0.6882390975952148,
          0.9348850846290588,
          0.2535685896873474,
          -0.23693403601646423,
          0.4897935390472412,
          -0.31054559350013733,
          -0.7228257656097412,
          0.922084391117096,
          -0.9787587523460388,
          -0.3115668296813965,
          0.8879889845848083,
          0.14577926695346832,
          0.275079607963562,
          0.9028549194335938,
          -0.06525859981775284,
          0.20492671430110931,
          0.7182385325431824,
          -0.3798055946826935,
          -0.9673052430152893,
          -0.31273534893989563,
          -0.35756152868270874,
          -0.6896324753761292,
          0.7112258076667786,
          -0.31496095657348633,
          0.26246950030326843,
          -0.1106412410736084,
          -0.9773849248886108,
          -0.21720755100250244,
          -0.22203689813613892,
          -0.7127674221992493,
          -0.31304293870925903,
          0.026983072981238365,
          -0.9736038446426392,
          0.18332691490650177,
          0.9442782402038574,
          -0.31505781412124634,
          -0.15259909629821777,
          0.45235198736190796,
          0.18994154036045074,
          0.4304250478744507,
          0.9017230868339539,
          0.7171558141708374,
          -0.12742704153060913,
          0.9236289858818054,
          0.45827972888946533,
          -0.32776421308517456,
          0.7592734694480896,
          0.19950754940509796,
          -0.3155064284801483,
          0.7285834550857544,
          -0.9676295518875122,
          0.2569204866886139,
          -0.9785414934158325,
          -0.17293787002563477,
          -0.27366361021995544,
          -0.3104075789451599,
          -0.31587082147598267,
          0.5472713112831116,
          -0.26761701703071594
         ]
        }
       ],
       "layout": {
        "coloraxis": {
         "colorbar": {
          "title": {
           "text": "label"
          }
         },
         "colorscale": [
          [
           0,
           "#0d0887"
          ],
          [
           0.1111111111111111,
           "#46039f"
          ],
          [
           0.2222222222222222,
           "#7201a8"
          ],
          [
           0.3333333333333333,
           "#9c179e"
          ],
          [
           0.4444444444444444,
           "#bd3786"
          ],
          [
           0.5555555555555556,
           "#d8576b"
          ],
          [
           0.6666666666666666,
           "#ed7953"
          ],
          [
           0.7777777777777778,
           "#fb9f3a"
          ],
          [
           0.8888888888888888,
           "#fdca26"
          ],
          [
           1,
           "#f0f921"
          ]
         ]
        },
        "legend": {
         "tracegroupgap": 0
        },
        "margin": {
         "t": 60
        },
        "scene": {
         "domain": {
          "x": [
           0,
           1
          ],
          "y": [
           0,
           1
          ]
         },
         "xaxis": {
          "title": {
           "text": "x"
          }
         },
         "yaxis": {
          "title": {
           "text": "y"
          }
         },
         "zaxis": {
          "title": {
           "text": "z"
          }
         }
        },
        "template": {
         "data": {
          "bar": [
           {
            "error_x": {
             "color": "#2a3f5f"
            },
            "error_y": {
             "color": "#2a3f5f"
            },
            "marker": {
             "line": {
              "color": "#E5ECF6",
              "width": 0.5
             },
             "pattern": {
              "fillmode": "overlay",
              "size": 10,
              "solidity": 0.2
             }
            },
            "type": "bar"
           }
          ],
          "barpolar": [
           {
            "marker": {
             "line": {
              "color": "#E5ECF6",
              "width": 0.5
             },
             "pattern": {
              "fillmode": "overlay",
              "size": 10,
              "solidity": 0.2
             }
            },
            "type": "barpolar"
           }
          ],
          "carpet": [
           {
            "aaxis": {
             "endlinecolor": "#2a3f5f",
             "gridcolor": "white",
             "linecolor": "white",
             "minorgridcolor": "white",
             "startlinecolor": "#2a3f5f"
            },
            "baxis": {
             "endlinecolor": "#2a3f5f",
             "gridcolor": "white",
             "linecolor": "white",
             "minorgridcolor": "white",
             "startlinecolor": "#2a3f5f"
            },
            "type": "carpet"
           }
          ],
          "choropleth": [
           {
            "colorbar": {
             "outlinewidth": 0,
             "ticks": ""
            },
            "type": "choropleth"
           }
          ],
          "contour": [
           {
            "colorbar": {
             "outlinewidth": 0,
             "ticks": ""
            },
            "colorscale": [
             [
              0,
              "#0d0887"
             ],
             [
              0.1111111111111111,
              "#46039f"
             ],
             [
              0.2222222222222222,
              "#7201a8"
             ],
             [
              0.3333333333333333,
              "#9c179e"
             ],
             [
              0.4444444444444444,
              "#bd3786"
             ],
             [
              0.5555555555555556,
              "#d8576b"
             ],
             [
              0.6666666666666666,
              "#ed7953"
             ],
             [
              0.7777777777777778,
              "#fb9f3a"
             ],
             [
              0.8888888888888888,
              "#fdca26"
             ],
             [
              1,
              "#f0f921"
             ]
            ],
            "type": "contour"
           }
          ],
          "contourcarpet": [
           {
            "colorbar": {
             "outlinewidth": 0,
             "ticks": ""
            },
            "type": "contourcarpet"
           }
          ],
          "heatmap": [
           {
            "colorbar": {
             "outlinewidth": 0,
             "ticks": ""
            },
            "colorscale": [
             [
              0,
              "#0d0887"
             ],
             [
              0.1111111111111111,
              "#46039f"
             ],
             [
              0.2222222222222222,
              "#7201a8"
             ],
             [
              0.3333333333333333,
              "#9c179e"
             ],
             [
              0.4444444444444444,
              "#bd3786"
             ],
             [
              0.5555555555555556,
              "#d8576b"
             ],
             [
              0.6666666666666666,
              "#ed7953"
             ],
             [
              0.7777777777777778,
              "#fb9f3a"
             ],
             [
              0.8888888888888888,
              "#fdca26"
             ],
             [
              1,
              "#f0f921"
             ]
            ],
            "type": "heatmap"
           }
          ],
          "heatmapgl": [
           {
            "colorbar": {
             "outlinewidth": 0,
             "ticks": ""
            },
            "colorscale": [
             [
              0,
              "#0d0887"
             ],
             [
              0.1111111111111111,
              "#46039f"
             ],
             [
              0.2222222222222222,
              "#7201a8"
             ],
             [
              0.3333333333333333,
              "#9c179e"
             ],
             [
              0.4444444444444444,
              "#bd3786"
             ],
             [
              0.5555555555555556,
              "#d8576b"
             ],
             [
              0.6666666666666666,
              "#ed7953"
             ],
             [
              0.7777777777777778,
              "#fb9f3a"
             ],
             [
              0.8888888888888888,
              "#fdca26"
             ],
             [
              1,
              "#f0f921"
             ]
            ],
            "type": "heatmapgl"
           }
          ],
          "histogram": [
           {
            "marker": {
             "pattern": {
              "fillmode": "overlay",
              "size": 10,
              "solidity": 0.2
             }
            },
            "type": "histogram"
           }
          ],
          "histogram2d": [
           {
            "colorbar": {
             "outlinewidth": 0,
             "ticks": ""
            },
            "colorscale": [
             [
              0,
              "#0d0887"
             ],
             [
              0.1111111111111111,
              "#46039f"
             ],
             [
              0.2222222222222222,
              "#7201a8"
             ],
             [
              0.3333333333333333,
              "#9c179e"
             ],
             [
              0.4444444444444444,
              "#bd3786"
             ],
             [
              0.5555555555555556,
              "#d8576b"
             ],
             [
              0.6666666666666666,
              "#ed7953"
             ],
             [
              0.7777777777777778,
              "#fb9f3a"
             ],
             [
              0.8888888888888888,
              "#fdca26"
             ],
             [
              1,
              "#f0f921"
             ]
            ],
            "type": "histogram2d"
           }
          ],
          "histogram2dcontour": [
           {
            "colorbar": {
             "outlinewidth": 0,
             "ticks": ""
            },
            "colorscale": [
             [
              0,
              "#0d0887"
             ],
             [
              0.1111111111111111,
              "#46039f"
             ],
             [
              0.2222222222222222,
              "#7201a8"
             ],
             [
              0.3333333333333333,
              "#9c179e"
             ],
             [
              0.4444444444444444,
              "#bd3786"
             ],
             [
              0.5555555555555556,
              "#d8576b"
             ],
             [
              0.6666666666666666,
              "#ed7953"
             ],
             [
              0.7777777777777778,
              "#fb9f3a"
             ],
             [
              0.8888888888888888,
              "#fdca26"
             ],
             [
              1,
              "#f0f921"
             ]
            ],
            "type": "histogram2dcontour"
           }
          ],
          "mesh3d": [
           {
            "colorbar": {
             "outlinewidth": 0,
             "ticks": ""
            },
            "type": "mesh3d"
           }
          ],
          "parcoords": [
           {
            "line": {
             "colorbar": {
              "outlinewidth": 0,
              "ticks": ""
             }
            },
            "type": "parcoords"
           }
          ],
          "pie": [
           {
            "automargin": true,
            "type": "pie"
           }
          ],
          "scatter": [
           {
            "fillpattern": {
             "fillmode": "overlay",
             "size": 10,
             "solidity": 0.2
            },
            "type": "scatter"
           }
          ],
          "scatter3d": [
           {
            "line": {
             "colorbar": {
              "outlinewidth": 0,
              "ticks": ""
             }
            },
            "marker": {
             "colorbar": {
              "outlinewidth": 0,
              "ticks": ""
             }
            },
            "type": "scatter3d"
           }
          ],
          "scattercarpet": [
           {
            "marker": {
             "colorbar": {
              "outlinewidth": 0,
              "ticks": ""
             }
            },
            "type": "scattercarpet"
           }
          ],
          "scattergeo": [
           {
            "marker": {
             "colorbar": {
              "outlinewidth": 0,
              "ticks": ""
             }
            },
            "type": "scattergeo"
           }
          ],
          "scattergl": [
           {
            "marker": {
             "colorbar": {
              "outlinewidth": 0,
              "ticks": ""
             }
            },
            "type": "scattergl"
           }
          ],
          "scattermapbox": [
           {
            "marker": {
             "colorbar": {
              "outlinewidth": 0,
              "ticks": ""
             }
            },
            "type": "scattermapbox"
           }
          ],
          "scatterpolar": [
           {
            "marker": {
             "colorbar": {
              "outlinewidth": 0,
              "ticks": ""
             }
            },
            "type": "scatterpolar"
           }
          ],
          "scatterpolargl": [
           {
            "marker": {
             "colorbar": {
              "outlinewidth": 0,
              "ticks": ""
             }
            },
            "type": "scatterpolargl"
           }
          ],
          "scatterternary": [
           {
            "marker": {
             "colorbar": {
              "outlinewidth": 0,
              "ticks": ""
             }
            },
            "type": "scatterternary"
           }
          ],
          "surface": [
           {
            "colorbar": {
             "outlinewidth": 0,
             "ticks": ""
            },
            "colorscale": [
             [
              0,
              "#0d0887"
             ],
             [
              0.1111111111111111,
              "#46039f"
             ],
             [
              0.2222222222222222,
              "#7201a8"
             ],
             [
              0.3333333333333333,
              "#9c179e"
             ],
             [
              0.4444444444444444,
              "#bd3786"
             ],
             [
              0.5555555555555556,
              "#d8576b"
             ],
             [
              0.6666666666666666,
              "#ed7953"
             ],
             [
              0.7777777777777778,
              "#fb9f3a"
             ],
             [
              0.8888888888888888,
              "#fdca26"
             ],
             [
              1,
              "#f0f921"
             ]
            ],
            "type": "surface"
           }
          ],
          "table": [
           {
            "cells": {
             "fill": {
              "color": "#EBF0F8"
             },
             "line": {
              "color": "white"
             }
            },
            "header": {
             "fill": {
              "color": "#C8D4E3"
             },
             "line": {
              "color": "white"
             }
            },
            "type": "table"
           }
          ]
         },
         "layout": {
          "annotationdefaults": {
           "arrowcolor": "#2a3f5f",
           "arrowhead": 0,
           "arrowwidth": 1
          },
          "autotypenumbers": "strict",
          "coloraxis": {
           "colorbar": {
            "outlinewidth": 0,
            "ticks": ""
           }
          },
          "colorscale": {
           "diverging": [
            [
             0,
             "#8e0152"
            ],
            [
             0.1,
             "#c51b7d"
            ],
            [
             0.2,
             "#de77ae"
            ],
            [
             0.3,
             "#f1b6da"
            ],
            [
             0.4,
             "#fde0ef"
            ],
            [
             0.5,
             "#f7f7f7"
            ],
            [
             0.6,
             "#e6f5d0"
            ],
            [
             0.7,
             "#b8e186"
            ],
            [
             0.8,
             "#7fbc41"
            ],
            [
             0.9,
             "#4d9221"
            ],
            [
             1,
             "#276419"
            ]
           ],
           "sequential": [
            [
             0,
             "#0d0887"
            ],
            [
             0.1111111111111111,
             "#46039f"
            ],
            [
             0.2222222222222222,
             "#7201a8"
            ],
            [
             0.3333333333333333,
             "#9c179e"
            ],
            [
             0.4444444444444444,
             "#bd3786"
            ],
            [
             0.5555555555555556,
             "#d8576b"
            ],
            [
             0.6666666666666666,
             "#ed7953"
            ],
            [
             0.7777777777777778,
             "#fb9f3a"
            ],
            [
             0.8888888888888888,
             "#fdca26"
            ],
            [
             1,
             "#f0f921"
            ]
           ],
           "sequentialminus": [
            [
             0,
             "#0d0887"
            ],
            [
             0.1111111111111111,
             "#46039f"
            ],
            [
             0.2222222222222222,
             "#7201a8"
            ],
            [
             0.3333333333333333,
             "#9c179e"
            ],
            [
             0.4444444444444444,
             "#bd3786"
            ],
            [
             0.5555555555555556,
             "#d8576b"
            ],
            [
             0.6666666666666666,
             "#ed7953"
            ],
            [
             0.7777777777777778,
             "#fb9f3a"
            ],
            [
             0.8888888888888888,
             "#fdca26"
            ],
            [
             1,
             "#f0f921"
            ]
           ]
          },
          "colorway": [
           "#636efa",
           "#EF553B",
           "#00cc96",
           "#ab63fa",
           "#FFA15A",
           "#19d3f3",
           "#FF6692",
           "#B6E880",
           "#FF97FF",
           "#FECB52"
          ],
          "font": {
           "color": "#2a3f5f"
          },
          "geo": {
           "bgcolor": "white",
           "lakecolor": "white",
           "landcolor": "#E5ECF6",
           "showlakes": true,
           "showland": true,
           "subunitcolor": "white"
          },
          "hoverlabel": {
           "align": "left"
          },
          "hovermode": "closest",
          "mapbox": {
           "style": "light"
          },
          "paper_bgcolor": "white",
          "plot_bgcolor": "#E5ECF6",
          "polar": {
           "angularaxis": {
            "gridcolor": "white",
            "linecolor": "white",
            "ticks": ""
           },
           "bgcolor": "#E5ECF6",
           "radialaxis": {
            "gridcolor": "white",
            "linecolor": "white",
            "ticks": ""
           }
          },
          "scene": {
           "xaxis": {
            "backgroundcolor": "#E5ECF6",
            "gridcolor": "white",
            "gridwidth": 2,
            "linecolor": "white",
            "showbackground": true,
            "ticks": "",
            "zerolinecolor": "white"
           },
           "yaxis": {
            "backgroundcolor": "#E5ECF6",
            "gridcolor": "white",
            "gridwidth": 2,
            "linecolor": "white",
            "showbackground": true,
            "ticks": "",
            "zerolinecolor": "white"
           },
           "zaxis": {
            "backgroundcolor": "#E5ECF6",
            "gridcolor": "white",
            "gridwidth": 2,
            "linecolor": "white",
            "showbackground": true,
            "ticks": "",
            "zerolinecolor": "white"
           }
          },
          "shapedefaults": {
           "line": {
            "color": "#2a3f5f"
           }
          },
          "ternary": {
           "aaxis": {
            "gridcolor": "white",
            "linecolor": "white",
            "ticks": ""
           },
           "baxis": {
            "gridcolor": "white",
            "linecolor": "white",
            "ticks": ""
           },
           "bgcolor": "#E5ECF6",
           "caxis": {
            "gridcolor": "white",
            "linecolor": "white",
            "ticks": ""
           }
          },
          "title": {
           "x": 0.05
          },
          "xaxis": {
           "automargin": true,
           "gridcolor": "white",
           "linecolor": "white",
           "ticks": "",
           "title": {
            "standoff": 15
           },
           "zerolinecolor": "white",
           "zerolinewidth": 2
          },
          "yaxis": {
           "automargin": true,
           "gridcolor": "white",
           "linecolor": "white",
           "ticks": "",
           "title": {
            "standoff": 15
           },
           "zerolinecolor": "white",
           "zerolinewidth": 2
          }
         }
        }
       }
      },
      "text/html": [
       "<div>                            <div id=\"1168bbbc-f29a-442e-9643-a14613f46dad\" class=\"plotly-graph-div\" style=\"height:525px; width:100%;\"></div>            <script type=\"text/javascript\">                require([\"plotly\"], function(Plotly) {                    window.PLOTLYENV=window.PLOTLYENV || {};                                    if (document.getElementById(\"1168bbbc-f29a-442e-9643-a14613f46dad\")) {                    Plotly.newPlot(                        \"1168bbbc-f29a-442e-9643-a14613f46dad\",                        [{\"hovertemplate\":\"x=%{x}<br>y=%{y}<br>z=%{z}<br>label=%{marker.color}<extra></extra>\",\"legendgroup\":\"\",\"marker\":{\"color\":[3,4,4,5,2,0,4,6,3,1,5,7,3,7,5,2,4,4,9,5,1,3,0,6,0,9,6,5,0,2,7,5,9,3,1,3,5,7,2,4,3,8,1,4,9,4,8,9,6,1,4,7,3,3,5,1,6,6,8,1,3,0,1,6,4,3,6,7,6,3,0,5,9,9,7,6,0,0,7,1,6,1,6,8,5,0,6,0,6,3,1,6,8,0,8,1,6,9,2,7,5,7,3,1,7,0,6,4,0,5,3,5,1,3,8,7,1,1,8,4,0,5,9,1,4,5,0,8,7,5,5,6,5,0,9,4,4,4,4,8,0,6,2,1,7,7,7,0,8,0,5,7,5,1,4,1,0,8,1,3,2,3,0,0,2,1,5,6,2,9,6,0,7,1,0,9,9,4,6,1,6,8,3,7,7,4,6,8,5,8,0,4,2,8,4,4,6,3,9,7,0,5,1,3,9,6,1,9,7,7,9,8,7,4,1,6,1,0,3,4,0,7,8,6,2,8,3,1,8,6,7,9,1,8,5,2,5,9,4,8,9,5,0,4,2,1,4,6,7,6,8,0,1,1,5,0],\"coloraxis\":\"coloraxis\",\"opacity\":1.0,\"symbol\":\"circle\",\"size\":5},\"mode\":\"markers+text\",\"name\":\"\",\"scene\":\"scene\",\"showlegend\":false,\"text\":[3.0,4.0,4.0,5.0,2.0,0.0,4.0,6.0,3.0,1.0,5.0,7.0,3.0,7.0,5.0,2.0,4.0,4.0,9.0,5.0,1.0,3.0,0.0,6.0,0.0,9.0,6.0,5.0,0.0,2.0,7.0,5.0,9.0,3.0,1.0,3.0,5.0,7.0,2.0,4.0,3.0,8.0,1.0,4.0,9.0,4.0,8.0,9.0,6.0,1.0,4.0,7.0,3.0,3.0,5.0,1.0,6.0,6.0,8.0,1.0,3.0,0.0,1.0,6.0,4.0,3.0,6.0,7.0,6.0,3.0,0.0,5.0,9.0,9.0,7.0,6.0,0.0,0.0,7.0,1.0,6.0,1.0,6.0,8.0,5.0,0.0,6.0,0.0,6.0,3.0,1.0,6.0,8.0,0.0,8.0,1.0,6.0,9.0,2.0,7.0,5.0,7.0,3.0,1.0,7.0,0.0,6.0,4.0,0.0,5.0,3.0,5.0,1.0,3.0,8.0,7.0,1.0,1.0,8.0,4.0,0.0,5.0,9.0,1.0,4.0,5.0,0.0,8.0,7.0,5.0,5.0,6.0,5.0,0.0,9.0,4.0,4.0,4.0,4.0,8.0,0.0,6.0,2.0,1.0,7.0,7.0,7.0,0.0,8.0,0.0,5.0,7.0,5.0,1.0,4.0,1.0,0.0,8.0,1.0,3.0,2.0,3.0,0.0,0.0,2.0,1.0,5.0,6.0,2.0,9.0,6.0,0.0,7.0,1.0,0.0,9.0,9.0,4.0,6.0,1.0,6.0,8.0,3.0,7.0,7.0,4.0,6.0,8.0,5.0,8.0,0.0,4.0,2.0,8.0,4.0,4.0,6.0,3.0,9.0,7.0,0.0,5.0,1.0,3.0,9.0,6.0,1.0,9.0,7.0,7.0,9.0,8.0,7.0,4.0,1.0,6.0,1.0,0.0,3.0,4.0,0.0,7.0,8.0,6.0,2.0,8.0,3.0,1.0,8.0,6.0,7.0,9.0,1.0,8.0,5.0,2.0,5.0,9.0,4.0,8.0,9.0,5.0,0.0,4.0,2.0,1.0,4.0,6.0,7.0,6.0,8.0,0.0,1.0,1.0,5.0,0.0],\"x\":[0.6530661582946777,-0.45415326952934265,-0.39060068130493164,0.04784439876675606,0.9774656295776367,-0.2831728458404541,0.07714831084012985,-0.1581418365240097,0.6135185360908508,-0.9415007829666138,-0.7031959891319275,0.5909889340400696,0.5891798138618469,0.5745587944984436,-0.7134457230567932,0.9772230982780457,-0.3345124125480652,-0.484825998544693,0.25640201568603516,-0.6984201073646545,-0.9402570128440857,0.5943948030471802,-0.19623024761676788,-0.395556777715683,0.1334172636270523,0.2644403874874115,-0.3193349242210388,-0.6879281997680664,-0.24836266040802002,0.9745496511459351,0.5786424279212952,-0.710045576095581,0.2922227680683136,0.595434308052063,-0.9487913250923157,0.5987935066223145,-0.6935648918151855,0.6094210147857666,0.9746413826942444,-0.43615880608558655,0.6182118058204651,0.07834092527627945,-0.9459369778633118,-0.4167439639568329,0.6069595217704773,-0.5030912160873413,0.0632801204919815,0.2621349096298218,-0.18148575723171234,-0.9415366649627686,-0.5283597707748413,0.8905618190765381,0.6095315217971802,0.5847795009613037,-0.5992369055747986,-0.9477439522743225,-0.16891176998615265,-0.17221912741661072,0.2581396698951721,-0.9455123543739319,0.7020238637924194,-0.22528353333473206,-0.9449545741081238,-0.22031059861183167,-0.5893520712852478,0.6328107118606567,-0.15020518004894257,0.5959264636039734,-0.3803729712963104,0.6039131283760071,-0.2600269913673401,-0.7099800109863281,0.28843700885772705,0.2761405110359192,0.38670215010643005,-0.15658092498779297,-0.2746051251888275,-0.26604539155960083,0.633700966835022,-0.9459224939346313,-0.29758697748184204,-0.9436245560646057,-0.18717607855796814,0.06417496502399445,-0.680822491645813,-0.24464984238147736,-0.14900191128253937,-0.24562674760818481,-0.1487603634595871,0.5943695902824402,-0.9456116557121277,-0.18553012609481812,-0.14466261863708496,-0.2656404674053192,0.2777073085308075,-0.9455167651176453,-0.15583154559135437,0.2811495065689087,0.9811833500862122,0.77552729845047,-0.6907355189323425,0.5743288993835449,0.5655252933502197,-0.9402412176132202,0.5567107796669006,-0.27211496233940125,-0.15879279375076294,-0.35019463300704956,-0.2732377052307129,-0.7021103501319885,0.6372837424278259,-0.798964262008667,-0.9475403428077698,0.631954550743103,0.09858845919370651,-0.23523563146591187,-0.946509599685669,-0.9445856213569641,0.07088442146778107,-0.3348061442375183,-0.25236523151397705,-0.7172868251800537,0.2969963252544403,-0.9024711847305298,-0.4809092879295349,-0.7042920589447021,-0.2598951756954193,0.0018940006848424673,0.5922346711158752,-0.7148004770278931,-0.6856934428215027,-0.15458926558494568,-0.7045722603797913,-0.257321298122406,0.2808728814125061,-0.38262107968330383,-0.39504027366638184,-0.35519522428512573,-0.4383140504360199,0.15187625586986542,-0.2649339437484741,-0.18589095771312714,0.9681258201599121,-0.9383988380432129,0.593562126159668,0.5517635345458984,0.5838772654533386,-0.27289897203445435,0.08256465941667557,-0.2641660273075104,-0.6824928522109985,0.5450013279914856,-0.6636752486228943,-0.945160448551178,-0.3912668228149414,-0.9325262308120728,-0.26496797800064087,0.0662868469953537,-0.9447299242019653,0.6154471635818481,0.9730696082115173,0.5947567820549011,-0.2549850046634674,-0.2852654457092285,0.9793858528137207,-0.9499578475952148,-0.6836358904838562,-0.15011072158813477,0.9718905687332153,0.30462515354156494,-0.17426776885986328,-0.26621073484420776,0.5957521200180054,-0.9442189335823059,-0.27094796299934387,0.2803162932395935,0.29244160652160645,-0.36371010541915894,-0.18449687957763672,-0.9402143955230713,-0.11897733807563782,0.11214292794466019,0.6334589123725891,0.6006214618682861,0.691842794418335,-0.37155023217201233,-0.15056370198726654,0.1013321653008461,-0.7046420574188232,0.07795964926481247,-0.2563266456127167,-0.33579015731811523,0.9792137145996094,0.09948538988828659,-0.35598286986351013,-0.4523956775665283,-0.11198122054338455,0.6418110132217407,0.2872477173805237,0.599647581577301,-0.30310097336769104,-0.6939412951469421,-0.9493269920349121,0.5942386984825134,0.3167203962802887,-0.15481577813625336,-0.9481940865516663,0.33293235301971436,0.5749496817588806,0.5782117247581482,0.3201713263988495,0.04520291090011597,0.5810946822166443,-0.3368414640426636,-0.9191232323646545,-0.189047172665596,-0.9465631246566772,-0.31790658831596375,0.6197996139526367,-0.5089846253395081,-0.2492295801639557,0.5979659557342529,0.06020435690879822,-0.14935952425003052,0.9234098196029663,0.041276395320892334,0.6109046936035156,-0.9460641145706177,0.21770308911800385,-0.17195233702659607,0.5964279174804688,0.2610069215297699,-0.9418586492538452,0.07376807928085327,-0.7166892290115356,0.9701687097549438,-0.7291452288627625,0.31973645091056824,-0.5151443481445312,0.08171480894088745,0.25920769572257996,-0.713214099407196,-0.1882043033838272,-0.4206445813179016,0.9740867614746094,-0.9406391978263855,-0.3979569375514984,-0.16456709802150726,0.6088345050811768,-0.09724628180265427,0.10042288899421692,-0.2763918340206146,-0.949461817741394,-0.9395475387573242,-0.6550937294960022,-0.2684634029865265],\"y\":[0.3911325931549072,-0.5453498959541321,-0.5447383522987366,0.8330291509628296,0.11139662563800812,-0.9156947135925293,-0.3400335907936096,-0.2078942507505417,0.3336832821369171,-0.11928460001945496,0.5291018486022949,-0.7719082832336426,0.3942127525806427,-0.7789011001586914,0.5304098129272461,0.1434529423713684,-0.6100320816040039,-0.5252730846405029,0.21865691244602203,0.5284342169761658,-0.12763015925884247,0.3874550461769104,-0.939180850982666,-0.3031047582626343,-0.988174557685852,0.227884903550148,-0.1735556423664093,0.5268461108207703,-0.9236811399459839,0.15765827894210815,-0.7231869697570801,0.5299953818321228,0.21502801775932312,0.3653509318828583,-0.05512799322605133,0.38058096170425415,0.5277196168899536,-0.7523430585861206,0.132555291056633,-0.5234124064445496,0.3344648778438568,0.9382638931274414,-0.08461709320545197,-0.5530848503112793,-0.31711143255233765,-0.5190839767456055,0.9854934811592102,0.1930931657552719,-0.10828515142202377,-0.1190362200140953,-0.4733830988407135,-0.3998774290084839,0.36995622515678406,0.34673070907592773,0.5080432295799255,-0.06699448078870773,-0.18002580106258392,-0.2223145216703415,0.9658754467964172,-0.08837880194187164,0.2960858941078186,-0.9285120964050293,-0.09314437955617905,-0.8167996406555176,-0.463039368391037,0.3858034610748291,-0.1721070259809494,-0.7125544548034668,-0.10905146598815918,0.3721654713153839,-0.9272609949111938,0.5299871563911438,0.24796895682811737,0.2369919717311859,-0.9208105206489563,-0.16282141208648682,-0.9211338758468628,-0.9189633131027222,-0.7551870346069336,-0.08474840968847275,-0.3156644403934479,-0.1038205549120903,-0.12548311054706573,0.9870554208755493,0.5256806015968323,-0.9260591268539429,-0.15920592844486237,-0.9257701635360718,-0.13903169333934784,0.33414846658706665,-0.08750983327627182,-0.1366586983203888,0.9690289497375488,-0.9238970279693604,0.9589678049087524,-0.08834071457386017,-0.1716545671224594,0.31355395913124084,0.0771830752491951,-0.6032315492630005,0.5272868871688843,-0.7898796200752258,0.45583224296569824,-0.12773388624191284,-0.8024648427963257,-0.917838990688324,-0.1837301105260849,-0.613642156124115,-0.9194320440292358,0.5289532542228699,0.34298932552337646,0.531946063041687,-0.06913623213768005,0.285148561000824,0.9918847680091858,-0.9541001319885254,-0.0793401449918747,-0.0961967334151268,0.9905352592468262,-0.6000937819480896,-0.9312098026275635,0.530853807926178,0.35609856247901917,-0.28863072395324707,-0.5014098882675171,0.529249906539917,-0.9251910448074341,0.9968584179878235,-0.7724834680557251,0.530569314956665,0.5264871716499329,-0.15562404692173004,0.5292875170707703,-0.9263994097709656,0.22629697620868683,-0.5853404402732849,-0.5635128021240234,-0.572981059551239,-0.5382880568504333,0.9827380776405334,-0.9121974110603333,-0.16635775566101074,0.14093470573425293,-0.1393256038427353,-0.7702345848083496,-0.8019652962684631,-0.7777963280677795,-0.9174119830131531,0.9902414679527283,-0.9250146746635437,0.5259608626365662,-0.810029149055481,0.522591769695282,-0.09140699356794357,-0.5845189690589905,-0.07574324309825897,-0.9234427809715271,0.9860608577728271,-0.09501193463802338,0.7325330376625061,-0.01169668324291706,0.39946356415748596,-0.9232949018478394,-0.9108738303184509,0.13018429279327393,-0.039582155644893646,0.5261504650115967,-0.18238379061222076,0.2181793451309204,0.2573157548904419,-0.17378677427768707,-0.9198428392410278,-0.7619691491127014,-0.0991586446762085,-0.9238324761390686,0.24246551096439362,0.21609482169151306,-0.7910794019699097,-0.12784793972969055,-0.1279085874557495,-0.19704803824424744,0.9832948446273804,0.38156720995903015,-0.7607781291007996,-0.6963668465614319,-0.5829105973243713,-0.17940564453601837,0.9792398810386658,0.529296875,0.9915175437927246,-0.930604100227356,-0.615250825881958,0.09791728109121323,0.9925376772880554,-0.5238884687423706,-0.526052713394165,-0.18389888107776642,0.33823901414871216,0.20851536095142365,-0.7590295076370239,-0.9230341911315918,0.5277762413024902,-0.04836944118142128,0.3527083992958069,0.22237007319927216,-0.13440006971359253,-0.062080591917037964,0.31722477078437805,-0.8050970435142517,-0.7681161761283875,0.2869552671909332,0.9968439936637878,-0.7876129150390625,-0.6088278293609619,-0.1046910434961319,-0.1690611094236374,-0.07883425801992416,-0.8781145215034485,0.37450698018074036,-0.4848634600639343,-0.9157970547676086,-0.7573285102844238,0.9920352101325989,-0.1497010886669159,-0.31644153594970703,0.9741642475128174,0.3446129858493805,-0.08346681296825409,0.9756419658660889,-0.1500931978225708,-0.7814505100250244,0.20053431391716003,-0.11679329723119736,0.985531210899353,0.5307864546775818,-0.15064814686775208,0.53205406665802,0.29097074270248413,-0.4693760275840759,0.9884760975837708,0.2823488414287567,0.5303821563720703,-0.9258238673210144,-0.4965500831604004,0.10654434561729431,-0.1251150667667389,-0.5574911832809448,-0.19133910536766052,-0.7505413889884949,-0.1816582828760147,0.9797998666763306,-0.9212577939033508,-0.046574804931879044,-0.1321967989206314,0.5209091305732727,-0.925369381904602],\"z\":[-0.6484750509262085,0.7045127749443054,0.7420856952667236,-0.5511562824249268,0.17930901050567627,-0.2851601541042328,0.9372434616088867,-0.9652829170227051,-0.7157167196273804,-0.3151944577693939,0.47493860125541687,0.23428532481193542,-0.7053108811378479,0.2513866722583771,0.457887202501297,0.1563849151134491,0.7183051109313965,0.6993082761764526,0.9415132403373718,0.48266610503196716,-0.31563761830329895,-0.7046796083450317,-0.2818385064601898,-0.8669846653938293,-0.07556988298892975,0.9370911717414856,-0.9316134452819824,0.49918729066848755,-0.2917688190937042,0.15936405956745148,0.3770591616630554,0.46361643075942993,0.9318630695343018,-0.7155255079269409,-0.31105631589889526,-0.7047017216682434,0.4903873801231384,0.2501718997955322,0.1802864670753479,0.7319869995117188,-0.7112997174263,-0.33693253993988037,-0.3131183087825775,0.7214025855064392,0.7287251949310303,0.6909783482551575,-0.1574743539094925,0.9455158710479736,-0.9774135947227478,-0.3151808977127075,0.7048010230064392,0.21678918600082397,-0.7011445760726929,-0.7333558201789856,0.6187140941619873,-0.3119186460971832,-0.9690508246421814,-0.9596441388130188,0.021181214600801468,-0.31336185336112976,-0.6476848721504211,-0.29514873027801514,-0.3136640191078186,-0.5331993699073792,0.6620110869407654,-0.6713466048240662,-0.9735592007637024,0.37032127380371094,-0.9183812737464905,-0.7048275470733643,-0.2693939507007599,0.46372613310813904,0.9248327016830444,0.9314404129981995,-0.0506901852786541,-0.9741516709327698,-0.2758702039718628,-0.2910778820514679,0.16767744719982147,-0.31312689185142517,-0.9009982943534851,-0.31431499123573303,-0.9742788076400757,-0.14698031544685364,0.5100398659706116,-0.28733405470848083,-0.9759363532066345,-0.28743186593055725,-0.9790508151054382,-0.7314844727516174,-0.31330597400665283,-0.9730893969535828,0.2001389116048813,-0.27540791034698486,-0.057090289890766144,-0.31335940957069397,-0.9727544188499451,0.9069944024085999,0.17698054015636444,0.18619635701179504,0.49482616782188416,0.21502676606178284,-0.6873123049736023,-0.3156430125236511,0.21476300060749054,-0.28900715708732605,-0.9700660109519958,0.7076771855354309,-0.2828177213668823,0.47670698165893555,-0.6900925040245056,0.2805165946483612,-0.3120695948600769,-0.7206412553787231,-0.08028100430965424,0.18535660207271576,-0.31276920437812805,-0.31385377049446106,-0.11753864586353302,0.7264931797981262,-0.2629832625389099,0.45132455229759216,0.8859949707984924,-0.31974688172340393,0.7192457318305969,0.4731460213661194,-0.2765429615974426,0.0791817158460617,0.22918842732906342,0.4555836021900177,0.5026288628578186,-0.9756450653076172,0.47268664836883545,-0.27489957213401794,0.9326843023300171,0.7148269414901733,0.725531816482544,0.7385994791984558,0.7198101282119751,-0.10563843697309494,-0.3125794231891632,-0.9683851003646851,0.20705042779445648,-0.3162216246128082,0.2332867830991745,0.2289290726184845,0.23263749480247498,-0.289622962474823,-0.11227166652679443,-0.2730642259120941,0.5075122714042664,0.2163940817117691,0.5351943373680115,-0.31355464458465576,0.7108078598976135,-0.3530687987804413,-0.27757054567337036,-0.15261061489582062,-0.31378045678138733,-0.29089534282684326,0.23021458089351654,-0.6976339817047119,-0.28724405169487,-0.2982155978679657,0.15445199608802795,-0.3098604083061218,0.5057743787765503,-0.9717010855674744,0.08846805989742279,0.9170562028884888,-0.9692413210868835,-0.28813377022743225,0.25393372774124146,-0.3140351176261902,-0.2704084515571594,0.9287806153297424,0.9315475821495056,0.4918416738510132,-0.9744822978973389,-0.315652072429657,-0.9731477499008179,-0.14337073266506195,-0.6731539368629456,0.24590735137462616,0.1908579021692276,0.722610354423523,-0.9721852540969849,-0.17555931210517883,0.4725721478462219,-0.1039963886141777,-0.2612902820110321,0.7132400870323181,0.17763102054595947,-0.07051052898168564,0.7738326787948608,0.7201434969902039,-0.9765456318855286,-0.6882390975952148,0.9348850846290588,0.2535685896873474,-0.23693403601646423,0.4897935390472412,-0.31054559350013733,-0.7228257656097412,0.922084391117096,-0.9787587523460388,-0.3115668296813965,0.8879889845848083,0.14577926695346832,0.275079607963562,0.9028549194335938,-0.06525859981775284,0.20492671430110931,0.7182385325431824,-0.3798055946826935,-0.9673052430152893,-0.31273534893989563,-0.35756152868270874,-0.6896324753761292,0.7112258076667786,-0.31496095657348633,0.26246950030326843,-0.1106412410736084,-0.9773849248886108,-0.21720755100250244,-0.22203689813613892,-0.7127674221992493,-0.31304293870925903,0.026983072981238365,-0.9736038446426392,0.18332691490650177,0.9442782402038574,-0.31505781412124634,-0.15259909629821777,0.45235198736190796,0.18994154036045074,0.4304250478744507,0.9017230868339539,0.7171558141708374,-0.12742704153060913,0.9236289858818054,0.45827972888946533,-0.32776421308517456,0.7592734694480896,0.19950754940509796,-0.3155064284801483,0.7285834550857544,-0.9676295518875122,0.2569204866886139,-0.9785414934158325,-0.17293787002563477,-0.27366361021995544,-0.3104075789451599,-0.31587082147598267,0.5472713112831116,-0.26761701703071594],\"type\":\"scatter3d\",\"textfont\":{\"color\":\"white\"},\"textposition\":\"middle center\"}],                        {\"template\":{\"data\":{\"histogram2dcontour\":[{\"type\":\"histogram2dcontour\",\"colorbar\":{\"outlinewidth\":0,\"ticks\":\"\"},\"colorscale\":[[0.0,\"#0d0887\"],[0.1111111111111111,\"#46039f\"],[0.2222222222222222,\"#7201a8\"],[0.3333333333333333,\"#9c179e\"],[0.4444444444444444,\"#bd3786\"],[0.5555555555555556,\"#d8576b\"],[0.6666666666666666,\"#ed7953\"],[0.7777777777777778,\"#fb9f3a\"],[0.8888888888888888,\"#fdca26\"],[1.0,\"#f0f921\"]]}],\"choropleth\":[{\"type\":\"choropleth\",\"colorbar\":{\"outlinewidth\":0,\"ticks\":\"\"}}],\"histogram2d\":[{\"type\":\"histogram2d\",\"colorbar\":{\"outlinewidth\":0,\"ticks\":\"\"},\"colorscale\":[[0.0,\"#0d0887\"],[0.1111111111111111,\"#46039f\"],[0.2222222222222222,\"#7201a8\"],[0.3333333333333333,\"#9c179e\"],[0.4444444444444444,\"#bd3786\"],[0.5555555555555556,\"#d8576b\"],[0.6666666666666666,\"#ed7953\"],[0.7777777777777778,\"#fb9f3a\"],[0.8888888888888888,\"#fdca26\"],[1.0,\"#f0f921\"]]}],\"heatmap\":[{\"type\":\"heatmap\",\"colorbar\":{\"outlinewidth\":0,\"ticks\":\"\"},\"colorscale\":[[0.0,\"#0d0887\"],[0.1111111111111111,\"#46039f\"],[0.2222222222222222,\"#7201a8\"],[0.3333333333333333,\"#9c179e\"],[0.4444444444444444,\"#bd3786\"],[0.5555555555555556,\"#d8576b\"],[0.6666666666666666,\"#ed7953\"],[0.7777777777777778,\"#fb9f3a\"],[0.8888888888888888,\"#fdca26\"],[1.0,\"#f0f921\"]]}],\"heatmapgl\":[{\"type\":\"heatmapgl\",\"colorbar\":{\"outlinewidth\":0,\"ticks\":\"\"},\"colorscale\":[[0.0,\"#0d0887\"],[0.1111111111111111,\"#46039f\"],[0.2222222222222222,\"#7201a8\"],[0.3333333333333333,\"#9c179e\"],[0.4444444444444444,\"#bd3786\"],[0.5555555555555556,\"#d8576b\"],[0.6666666666666666,\"#ed7953\"],[0.7777777777777778,\"#fb9f3a\"],[0.8888888888888888,\"#fdca26\"],[1.0,\"#f0f921\"]]}],\"contourcarpet\":[{\"type\":\"contourcarpet\",\"colorbar\":{\"outlinewidth\":0,\"ticks\":\"\"}}],\"contour\":[{\"type\":\"contour\",\"colorbar\":{\"outlinewidth\":0,\"ticks\":\"\"},\"colorscale\":[[0.0,\"#0d0887\"],[0.1111111111111111,\"#46039f\"],[0.2222222222222222,\"#7201a8\"],[0.3333333333333333,\"#9c179e\"],[0.4444444444444444,\"#bd3786\"],[0.5555555555555556,\"#d8576b\"],[0.6666666666666666,\"#ed7953\"],[0.7777777777777778,\"#fb9f3a\"],[0.8888888888888888,\"#fdca26\"],[1.0,\"#f0f921\"]]}],\"surface\":[{\"type\":\"surface\",\"colorbar\":{\"outlinewidth\":0,\"ticks\":\"\"},\"colorscale\":[[0.0,\"#0d0887\"],[0.1111111111111111,\"#46039f\"],[0.2222222222222222,\"#7201a8\"],[0.3333333333333333,\"#9c179e\"],[0.4444444444444444,\"#bd3786\"],[0.5555555555555556,\"#d8576b\"],[0.6666666666666666,\"#ed7953\"],[0.7777777777777778,\"#fb9f3a\"],[0.8888888888888888,\"#fdca26\"],[1.0,\"#f0f921\"]]}],\"mesh3d\":[{\"type\":\"mesh3d\",\"colorbar\":{\"outlinewidth\":0,\"ticks\":\"\"}}],\"scatter\":[{\"fillpattern\":{\"fillmode\":\"overlay\",\"size\":10,\"solidity\":0.2},\"type\":\"scatter\"}],\"parcoords\":[{\"type\":\"parcoords\",\"line\":{\"colorbar\":{\"outlinewidth\":0,\"ticks\":\"\"}}}],\"scatterpolargl\":[{\"type\":\"scatterpolargl\",\"marker\":{\"colorbar\":{\"outlinewidth\":0,\"ticks\":\"\"}}}],\"bar\":[{\"error_x\":{\"color\":\"#2a3f5f\"},\"error_y\":{\"color\":\"#2a3f5f\"},\"marker\":{\"line\":{\"color\":\"#E5ECF6\",\"width\":0.5},\"pattern\":{\"fillmode\":\"overlay\",\"size\":10,\"solidity\":0.2}},\"type\":\"bar\"}],\"scattergeo\":[{\"type\":\"scattergeo\",\"marker\":{\"colorbar\":{\"outlinewidth\":0,\"ticks\":\"\"}}}],\"scatterpolar\":[{\"type\":\"scatterpolar\",\"marker\":{\"colorbar\":{\"outlinewidth\":0,\"ticks\":\"\"}}}],\"histogram\":[{\"marker\":{\"pattern\":{\"fillmode\":\"overlay\",\"size\":10,\"solidity\":0.2}},\"type\":\"histogram\"}],\"scattergl\":[{\"type\":\"scattergl\",\"marker\":{\"colorbar\":{\"outlinewidth\":0,\"ticks\":\"\"}}}],\"scatter3d\":[{\"type\":\"scatter3d\",\"line\":{\"colorbar\":{\"outlinewidth\":0,\"ticks\":\"\"}},\"marker\":{\"colorbar\":{\"outlinewidth\":0,\"ticks\":\"\"}}}],\"scattermapbox\":[{\"type\":\"scattermapbox\",\"marker\":{\"colorbar\":{\"outlinewidth\":0,\"ticks\":\"\"}}}],\"scatterternary\":[{\"type\":\"scatterternary\",\"marker\":{\"colorbar\":{\"outlinewidth\":0,\"ticks\":\"\"}}}],\"scattercarpet\":[{\"type\":\"scattercarpet\",\"marker\":{\"colorbar\":{\"outlinewidth\":0,\"ticks\":\"\"}}}],\"carpet\":[{\"aaxis\":{\"endlinecolor\":\"#2a3f5f\",\"gridcolor\":\"white\",\"linecolor\":\"white\",\"minorgridcolor\":\"white\",\"startlinecolor\":\"#2a3f5f\"},\"baxis\":{\"endlinecolor\":\"#2a3f5f\",\"gridcolor\":\"white\",\"linecolor\":\"white\",\"minorgridcolor\":\"white\",\"startlinecolor\":\"#2a3f5f\"},\"type\":\"carpet\"}],\"table\":[{\"cells\":{\"fill\":{\"color\":\"#EBF0F8\"},\"line\":{\"color\":\"white\"}},\"header\":{\"fill\":{\"color\":\"#C8D4E3\"},\"line\":{\"color\":\"white\"}},\"type\":\"table\"}],\"barpolar\":[{\"marker\":{\"line\":{\"color\":\"#E5ECF6\",\"width\":0.5},\"pattern\":{\"fillmode\":\"overlay\",\"size\":10,\"solidity\":0.2}},\"type\":\"barpolar\"}],\"pie\":[{\"automargin\":true,\"type\":\"pie\"}]},\"layout\":{\"autotypenumbers\":\"strict\",\"colorway\":[\"#636efa\",\"#EF553B\",\"#00cc96\",\"#ab63fa\",\"#FFA15A\",\"#19d3f3\",\"#FF6692\",\"#B6E880\",\"#FF97FF\",\"#FECB52\"],\"font\":{\"color\":\"#2a3f5f\"},\"hovermode\":\"closest\",\"hoverlabel\":{\"align\":\"left\"},\"paper_bgcolor\":\"white\",\"plot_bgcolor\":\"#E5ECF6\",\"polar\":{\"bgcolor\":\"#E5ECF6\",\"angularaxis\":{\"gridcolor\":\"white\",\"linecolor\":\"white\",\"ticks\":\"\"},\"radialaxis\":{\"gridcolor\":\"white\",\"linecolor\":\"white\",\"ticks\":\"\"}},\"ternary\":{\"bgcolor\":\"#E5ECF6\",\"aaxis\":{\"gridcolor\":\"white\",\"linecolor\":\"white\",\"ticks\":\"\"},\"baxis\":{\"gridcolor\":\"white\",\"linecolor\":\"white\",\"ticks\":\"\"},\"caxis\":{\"gridcolor\":\"white\",\"linecolor\":\"white\",\"ticks\":\"\"}},\"coloraxis\":{\"colorbar\":{\"outlinewidth\":0,\"ticks\":\"\"}},\"colorscale\":{\"sequential\":[[0.0,\"#0d0887\"],[0.1111111111111111,\"#46039f\"],[0.2222222222222222,\"#7201a8\"],[0.3333333333333333,\"#9c179e\"],[0.4444444444444444,\"#bd3786\"],[0.5555555555555556,\"#d8576b\"],[0.6666666666666666,\"#ed7953\"],[0.7777777777777778,\"#fb9f3a\"],[0.8888888888888888,\"#fdca26\"],[1.0,\"#f0f921\"]],\"sequentialminus\":[[0.0,\"#0d0887\"],[0.1111111111111111,\"#46039f\"],[0.2222222222222222,\"#7201a8\"],[0.3333333333333333,\"#9c179e\"],[0.4444444444444444,\"#bd3786\"],[0.5555555555555556,\"#d8576b\"],[0.6666666666666666,\"#ed7953\"],[0.7777777777777778,\"#fb9f3a\"],[0.8888888888888888,\"#fdca26\"],[1.0,\"#f0f921\"]],\"diverging\":[[0,\"#8e0152\"],[0.1,\"#c51b7d\"],[0.2,\"#de77ae\"],[0.3,\"#f1b6da\"],[0.4,\"#fde0ef\"],[0.5,\"#f7f7f7\"],[0.6,\"#e6f5d0\"],[0.7,\"#b8e186\"],[0.8,\"#7fbc41\"],[0.9,\"#4d9221\"],[1,\"#276419\"]]},\"xaxis\":{\"gridcolor\":\"white\",\"linecolor\":\"white\",\"ticks\":\"\",\"title\":{\"standoff\":15},\"zerolinecolor\":\"white\",\"automargin\":true,\"zerolinewidth\":2},\"yaxis\":{\"gridcolor\":\"white\",\"linecolor\":\"white\",\"ticks\":\"\",\"title\":{\"standoff\":15},\"zerolinecolor\":\"white\",\"automargin\":true,\"zerolinewidth\":2},\"scene\":{\"xaxis\":{\"backgroundcolor\":\"#E5ECF6\",\"gridcolor\":\"white\",\"linecolor\":\"white\",\"showbackground\":true,\"ticks\":\"\",\"zerolinecolor\":\"white\",\"gridwidth\":2},\"yaxis\":{\"backgroundcolor\":\"#E5ECF6\",\"gridcolor\":\"white\",\"linecolor\":\"white\",\"showbackground\":true,\"ticks\":\"\",\"zerolinecolor\":\"white\",\"gridwidth\":2},\"zaxis\":{\"backgroundcolor\":\"#E5ECF6\",\"gridcolor\":\"white\",\"linecolor\":\"white\",\"showbackground\":true,\"ticks\":\"\",\"zerolinecolor\":\"white\",\"gridwidth\":2}},\"shapedefaults\":{\"line\":{\"color\":\"#2a3f5f\"}},\"annotationdefaults\":{\"arrowcolor\":\"#2a3f5f\",\"arrowhead\":0,\"arrowwidth\":1},\"geo\":{\"bgcolor\":\"white\",\"landcolor\":\"#E5ECF6\",\"subunitcolor\":\"white\",\"showland\":true,\"showlakes\":true,\"lakecolor\":\"white\"},\"title\":{\"x\":0.05},\"mapbox\":{\"style\":\"light\"}}},\"scene\":{\"domain\":{\"x\":[0.0,1.0],\"y\":[0.0,1.0]},\"xaxis\":{\"title\":{\"text\":\"x\"}},\"yaxis\":{\"title\":{\"text\":\"y\"}},\"zaxis\":{\"title\":{\"text\":\"z\"}}},\"coloraxis\":{\"colorbar\":{\"title\":{\"text\":\"label\"}},\"colorscale\":[[0.0,\"#0d0887\"],[0.1111111111111111,\"#46039f\"],[0.2222222222222222,\"#7201a8\"],[0.3333333333333333,\"#9c179e\"],[0.4444444444444444,\"#bd3786\"],[0.5555555555555556,\"#d8576b\"],[0.6666666666666666,\"#ed7953\"],[0.7777777777777778,\"#fb9f3a\"],[0.8888888888888888,\"#fdca26\"],[1.0,\"#f0f921\"]]},\"legend\":{\"tracegroupgap\":0},\"margin\":{\"t\":60}},                        {\"responsive\": true}                    ).then(function(){\n",
       "                            \n",
       "var gd = document.getElementById('1168bbbc-f29a-442e-9643-a14613f46dad');\n",
       "var x = new MutationObserver(function (mutations, observer) {{\n",
       "        var display = window.getComputedStyle(gd).display;\n",
       "        if (!display || display === 'none') {{\n",
       "            console.log([gd, 'removed!']);\n",
       "            Plotly.purge(gd);\n",
       "            observer.disconnect();\n",
       "        }}\n",
       "}});\n",
       "\n",
       "// Listen for the removal of the full notebook cells\n",
       "var notebookContainer = gd.closest('#notebook-container');\n",
       "if (notebookContainer) {{\n",
       "    x.observe(notebookContainer, {childList: true});\n",
       "}}\n",
       "\n",
       "// Listen for the clearing of the current output cell\n",
       "var outputEl = gd.closest('.output');\n",
       "if (outputEl) {{\n",
       "    x.observe(outputEl, {childList: true});\n",
       "}}\n",
       "\n",
       "                        })                };                });            </script>        </div>"
      ]
     },
     "metadata": {},
     "output_type": "display_data"
    }
   ],
   "source": [
    "df = pd.DataFrame({'x': embeds[:, 0], \n",
    "                   'y': embeds[:, 1], \n",
    "                   'z': embeds[:, 2], \n",
    "                   'label': batch_labels.numpy()})\n",
    "\n",
    "fig = px.scatter_3d(df, x='x', y='y', z='z',\n",
    "                      color='label', text='label', opacity=1.)\n",
    "\n",
    "fig.update_traces(marker=dict(size=5), \n",
    "                  textposition='middle center', \n",
    "                  textfont=dict(color='white'))\n",
    "\n",
    "fig.show()"
   ]
  },
  {
   "cell_type": "markdown",
   "id": "e81ca6fe",
   "metadata": {},
   "source": [
    "## View Modified Embeddings through Plotly"
   ]
  },
  {
   "cell_type": "code",
   "execution_count": 47,
   "id": "e223c3ae",
   "metadata": {
    "scrolled": false
   },
   "outputs": [],
   "source": [
    "batch_images, batch_labels = next(iter(data_loader))\n",
    "\n",
    "embeds = mnist_net.embedding(batch_images.to(device), normalize=True)\n",
    "embeds = embeds.detach().numpy()\n",
    "\n",
    "# new_embeds, new_labels = remove_outliers(embeds, batch_labels)"
   ]
  },
  {
   "cell_type": "code",
   "execution_count": 48,
   "id": "8b609821",
   "metadata": {},
   "outputs": [],
   "source": [
    "def project_to_2D_unit_circle(embeds):\n",
    "    \n",
    "    # Find the normal vector of the plane\n",
    "    u, s, vh = np.linalg.svd(embeds)\n",
    "    normal = vh[-1]    # the last eigenvector is the one that doesn't vary, i.e. \n",
    "                       # normal to the plane where the points lie \n",
    "\n",
    "    # Project the points onto the plane\n",
    "    points_proj = embeds - (embeds @ np.outer(normal, normal))  # embeds minus projection of embeds onto normal\n",
    "                                                                # would give us embeds that lie on the 2D plane,\n",
    "                                                                # which is perpendicular to the normal \n",
    "\n",
    "    # normalize to unit circle \n",
    "    points_norm = np.linalg.norm(points_proj, axis=1)\n",
    "    points_proj /= points_norm[:, np.newaxis]         # using broadcasting to normalize \n",
    "    \n",
    "    return points_proj"
   ]
  },
  {
   "cell_type": "code",
   "execution_count": 49,
   "id": "32fe4454",
   "metadata": {
    "scrolled": false
   },
   "outputs": [
    {
     "data": {
      "application/vnd.plotly.v1+json": {
       "config": {
        "plotlyServerURL": "https://plot.ly"
       },
       "data": [
        {
         "hovertemplate": "x=%{x}<br>y=%{y}<br>z=%{z}<br>label=%{marker.color}<extra></extra>",
         "legendgroup": "",
         "marker": {
          "color": [
           3,
           3,
           3,
           3,
           3,
           3,
           3,
           3,
           3,
           3,
           3,
           3,
           3,
           3,
           3,
           3,
           3,
           3,
           3
          ],
          "coloraxis": "coloraxis",
          "size": 5,
          "symbol": "circle"
         },
         "mode": "markers+text",
         "name": "",
         "scene": "scene",
         "showlegend": false,
         "text": [
          3,
          3,
          3,
          3,
          3,
          3,
          3,
          3,
          3,
          3,
          3,
          3,
          3,
          3,
          3,
          3,
          3,
          3,
          3
         ],
         "textfont": {
          "color": "white",
          "size": 10
         },
         "textposition": "middle center",
         "type": "scatter3d",
         "x": [
          0.7395599484443665,
          -0.7686367630958557,
          0.2672041654586792,
          0.30041050910949707,
          -0.752750813961029,
          0.5803320407867432,
          -0.39466041326522827,
          -0.49733784794807434,
          -0.01051175408065319,
          0.6626478433609009,
          0.5250741243362427,
          -0.6784853339195251,
          -0.6972386837005615,
          -0.754493236541748,
          -0.09495670348405838,
          -0.6089919209480286,
          -0.6403618454933167,
          0.18277785181999207,
          -0.07672581076622009
         ],
         "y": [
          -0.5802215337753296,
          0.06086777150630951,
          -0.930165708065033,
          0.7137065529823303,
          0.5431782603263855,
          -0.8101378083229065,
          0.9095545411109924,
          0.8673500418663025,
          0.89069664478302,
          -0.7215317487716675,
          0.47690725326538086,
          0.6988957524299622,
          -0.1719970405101776,
          0.5377401113510132,
          -0.8468074202537537,
          0.7837916612625122,
          0.7497788071632385,
          -0.9281741976737976,
          -0.8555283546447754
         ],
         "z": [
          0.34116578102111816,
          -0.6367830038070679,
          -0.2517811954021454,
          0.6327529549598694,
          -0.3719189167022705,
          0.0830148458480835,
          0.13020703196525574,
          0.018942933529615402,
          0.45447656512260437,
          0.20072340965270996,
          0.7048806548118591,
          -0.22627925872802734,
          -0.6958989500999451,
          -0.3762650489807129,
          -0.5233550071716309,
          -0.12165307253599167,
          -0.16663891077041626,
          -0.3241681456565857,
          -0.5120394825935364
         ]
        }
       ],
       "layout": {
        "coloraxis": {
         "colorbar": {
          "title": {
           "text": "label"
          }
         },
         "colorscale": [
          [
           0,
           "#0d0887"
          ],
          [
           0.1111111111111111,
           "#46039f"
          ],
          [
           0.2222222222222222,
           "#7201a8"
          ],
          [
           0.3333333333333333,
           "#9c179e"
          ],
          [
           0.4444444444444444,
           "#bd3786"
          ],
          [
           0.5555555555555556,
           "#d8576b"
          ],
          [
           0.6666666666666666,
           "#ed7953"
          ],
          [
           0.7777777777777778,
           "#fb9f3a"
          ],
          [
           0.8888888888888888,
           "#fdca26"
          ],
          [
           1,
           "#f0f921"
          ]
         ],
         "showscale": false
        },
        "legend": {
         "tracegroupgap": 0
        },
        "margin": {
         "t": 60
        },
        "scene": {
         "camera": {
          "eye": {
           "x": 0.8,
           "y": 0.8,
           "z": -1.2
          }
         },
         "domain": {
          "x": [
           0,
           1
          ],
          "y": [
           0,
           1
          ]
         },
         "xaxis": {
          "title": {
           "text": "x"
          }
         },
         "yaxis": {
          "title": {
           "text": "y"
          }
         },
         "zaxis": {
          "title": {
           "text": "z"
          }
         }
        },
        "template": {
         "data": {
          "bar": [
           {
            "error_x": {
             "color": "#2a3f5f"
            },
            "error_y": {
             "color": "#2a3f5f"
            },
            "marker": {
             "line": {
              "color": "#E5ECF6",
              "width": 0.5
             },
             "pattern": {
              "fillmode": "overlay",
              "size": 10,
              "solidity": 0.2
             }
            },
            "type": "bar"
           }
          ],
          "barpolar": [
           {
            "marker": {
             "line": {
              "color": "#E5ECF6",
              "width": 0.5
             },
             "pattern": {
              "fillmode": "overlay",
              "size": 10,
              "solidity": 0.2
             }
            },
            "type": "barpolar"
           }
          ],
          "carpet": [
           {
            "aaxis": {
             "endlinecolor": "#2a3f5f",
             "gridcolor": "white",
             "linecolor": "white",
             "minorgridcolor": "white",
             "startlinecolor": "#2a3f5f"
            },
            "baxis": {
             "endlinecolor": "#2a3f5f",
             "gridcolor": "white",
             "linecolor": "white",
             "minorgridcolor": "white",
             "startlinecolor": "#2a3f5f"
            },
            "type": "carpet"
           }
          ],
          "choropleth": [
           {
            "colorbar": {
             "outlinewidth": 0,
             "ticks": ""
            },
            "type": "choropleth"
           }
          ],
          "contour": [
           {
            "colorbar": {
             "outlinewidth": 0,
             "ticks": ""
            },
            "colorscale": [
             [
              0,
              "#0d0887"
             ],
             [
              0.1111111111111111,
              "#46039f"
             ],
             [
              0.2222222222222222,
              "#7201a8"
             ],
             [
              0.3333333333333333,
              "#9c179e"
             ],
             [
              0.4444444444444444,
              "#bd3786"
             ],
             [
              0.5555555555555556,
              "#d8576b"
             ],
             [
              0.6666666666666666,
              "#ed7953"
             ],
             [
              0.7777777777777778,
              "#fb9f3a"
             ],
             [
              0.8888888888888888,
              "#fdca26"
             ],
             [
              1,
              "#f0f921"
             ]
            ],
            "type": "contour"
           }
          ],
          "contourcarpet": [
           {
            "colorbar": {
             "outlinewidth": 0,
             "ticks": ""
            },
            "type": "contourcarpet"
           }
          ],
          "heatmap": [
           {
            "colorbar": {
             "outlinewidth": 0,
             "ticks": ""
            },
            "colorscale": [
             [
              0,
              "#0d0887"
             ],
             [
              0.1111111111111111,
              "#46039f"
             ],
             [
              0.2222222222222222,
              "#7201a8"
             ],
             [
              0.3333333333333333,
              "#9c179e"
             ],
             [
              0.4444444444444444,
              "#bd3786"
             ],
             [
              0.5555555555555556,
              "#d8576b"
             ],
             [
              0.6666666666666666,
              "#ed7953"
             ],
             [
              0.7777777777777778,
              "#fb9f3a"
             ],
             [
              0.8888888888888888,
              "#fdca26"
             ],
             [
              1,
              "#f0f921"
             ]
            ],
            "type": "heatmap"
           }
          ],
          "heatmapgl": [
           {
            "colorbar": {
             "outlinewidth": 0,
             "ticks": ""
            },
            "colorscale": [
             [
              0,
              "#0d0887"
             ],
             [
              0.1111111111111111,
              "#46039f"
             ],
             [
              0.2222222222222222,
              "#7201a8"
             ],
             [
              0.3333333333333333,
              "#9c179e"
             ],
             [
              0.4444444444444444,
              "#bd3786"
             ],
             [
              0.5555555555555556,
              "#d8576b"
             ],
             [
              0.6666666666666666,
              "#ed7953"
             ],
             [
              0.7777777777777778,
              "#fb9f3a"
             ],
             [
              0.8888888888888888,
              "#fdca26"
             ],
             [
              1,
              "#f0f921"
             ]
            ],
            "type": "heatmapgl"
           }
          ],
          "histogram": [
           {
            "marker": {
             "pattern": {
              "fillmode": "overlay",
              "size": 10,
              "solidity": 0.2
             }
            },
            "type": "histogram"
           }
          ],
          "histogram2d": [
           {
            "colorbar": {
             "outlinewidth": 0,
             "ticks": ""
            },
            "colorscale": [
             [
              0,
              "#0d0887"
             ],
             [
              0.1111111111111111,
              "#46039f"
             ],
             [
              0.2222222222222222,
              "#7201a8"
             ],
             [
              0.3333333333333333,
              "#9c179e"
             ],
             [
              0.4444444444444444,
              "#bd3786"
             ],
             [
              0.5555555555555556,
              "#d8576b"
             ],
             [
              0.6666666666666666,
              "#ed7953"
             ],
             [
              0.7777777777777778,
              "#fb9f3a"
             ],
             [
              0.8888888888888888,
              "#fdca26"
             ],
             [
              1,
              "#f0f921"
             ]
            ],
            "type": "histogram2d"
           }
          ],
          "histogram2dcontour": [
           {
            "colorbar": {
             "outlinewidth": 0,
             "ticks": ""
            },
            "colorscale": [
             [
              0,
              "#0d0887"
             ],
             [
              0.1111111111111111,
              "#46039f"
             ],
             [
              0.2222222222222222,
              "#7201a8"
             ],
             [
              0.3333333333333333,
              "#9c179e"
             ],
             [
              0.4444444444444444,
              "#bd3786"
             ],
             [
              0.5555555555555556,
              "#d8576b"
             ],
             [
              0.6666666666666666,
              "#ed7953"
             ],
             [
              0.7777777777777778,
              "#fb9f3a"
             ],
             [
              0.8888888888888888,
              "#fdca26"
             ],
             [
              1,
              "#f0f921"
             ]
            ],
            "type": "histogram2dcontour"
           }
          ],
          "mesh3d": [
           {
            "colorbar": {
             "outlinewidth": 0,
             "ticks": ""
            },
            "type": "mesh3d"
           }
          ],
          "parcoords": [
           {
            "line": {
             "colorbar": {
              "outlinewidth": 0,
              "ticks": ""
             }
            },
            "type": "parcoords"
           }
          ],
          "pie": [
           {
            "automargin": true,
            "type": "pie"
           }
          ],
          "scatter": [
           {
            "fillpattern": {
             "fillmode": "overlay",
             "size": 10,
             "solidity": 0.2
            },
            "type": "scatter"
           }
          ],
          "scatter3d": [
           {
            "line": {
             "colorbar": {
              "outlinewidth": 0,
              "ticks": ""
             }
            },
            "marker": {
             "colorbar": {
              "outlinewidth": 0,
              "ticks": ""
             }
            },
            "type": "scatter3d"
           }
          ],
          "scattercarpet": [
           {
            "marker": {
             "colorbar": {
              "outlinewidth": 0,
              "ticks": ""
             }
            },
            "type": "scattercarpet"
           }
          ],
          "scattergeo": [
           {
            "marker": {
             "colorbar": {
              "outlinewidth": 0,
              "ticks": ""
             }
            },
            "type": "scattergeo"
           }
          ],
          "scattergl": [
           {
            "marker": {
             "colorbar": {
              "outlinewidth": 0,
              "ticks": ""
             }
            },
            "type": "scattergl"
           }
          ],
          "scattermapbox": [
           {
            "marker": {
             "colorbar": {
              "outlinewidth": 0,
              "ticks": ""
             }
            },
            "type": "scattermapbox"
           }
          ],
          "scatterpolar": [
           {
            "marker": {
             "colorbar": {
              "outlinewidth": 0,
              "ticks": ""
             }
            },
            "type": "scatterpolar"
           }
          ],
          "scatterpolargl": [
           {
            "marker": {
             "colorbar": {
              "outlinewidth": 0,
              "ticks": ""
             }
            },
            "type": "scatterpolargl"
           }
          ],
          "scatterternary": [
           {
            "marker": {
             "colorbar": {
              "outlinewidth": 0,
              "ticks": ""
             }
            },
            "type": "scatterternary"
           }
          ],
          "surface": [
           {
            "colorbar": {
             "outlinewidth": 0,
             "ticks": ""
            },
            "colorscale": [
             [
              0,
              "#0d0887"
             ],
             [
              0.1111111111111111,
              "#46039f"
             ],
             [
              0.2222222222222222,
              "#7201a8"
             ],
             [
              0.3333333333333333,
              "#9c179e"
             ],
             [
              0.4444444444444444,
              "#bd3786"
             ],
             [
              0.5555555555555556,
              "#d8576b"
             ],
             [
              0.6666666666666666,
              "#ed7953"
             ],
             [
              0.7777777777777778,
              "#fb9f3a"
             ],
             [
              0.8888888888888888,
              "#fdca26"
             ],
             [
              1,
              "#f0f921"
             ]
            ],
            "type": "surface"
           }
          ],
          "table": [
           {
            "cells": {
             "fill": {
              "color": "#EBF0F8"
             },
             "line": {
              "color": "white"
             }
            },
            "header": {
             "fill": {
              "color": "#C8D4E3"
             },
             "line": {
              "color": "white"
             }
            },
            "type": "table"
           }
          ]
         },
         "layout": {
          "annotationdefaults": {
           "arrowcolor": "#2a3f5f",
           "arrowhead": 0,
           "arrowwidth": 1
          },
          "autotypenumbers": "strict",
          "coloraxis": {
           "colorbar": {
            "outlinewidth": 0,
            "ticks": ""
           }
          },
          "colorscale": {
           "diverging": [
            [
             0,
             "#8e0152"
            ],
            [
             0.1,
             "#c51b7d"
            ],
            [
             0.2,
             "#de77ae"
            ],
            [
             0.3,
             "#f1b6da"
            ],
            [
             0.4,
             "#fde0ef"
            ],
            [
             0.5,
             "#f7f7f7"
            ],
            [
             0.6,
             "#e6f5d0"
            ],
            [
             0.7,
             "#b8e186"
            ],
            [
             0.8,
             "#7fbc41"
            ],
            [
             0.9,
             "#4d9221"
            ],
            [
             1,
             "#276419"
            ]
           ],
           "sequential": [
            [
             0,
             "#0d0887"
            ],
            [
             0.1111111111111111,
             "#46039f"
            ],
            [
             0.2222222222222222,
             "#7201a8"
            ],
            [
             0.3333333333333333,
             "#9c179e"
            ],
            [
             0.4444444444444444,
             "#bd3786"
            ],
            [
             0.5555555555555556,
             "#d8576b"
            ],
            [
             0.6666666666666666,
             "#ed7953"
            ],
            [
             0.7777777777777778,
             "#fb9f3a"
            ],
            [
             0.8888888888888888,
             "#fdca26"
            ],
            [
             1,
             "#f0f921"
            ]
           ],
           "sequentialminus": [
            [
             0,
             "#0d0887"
            ],
            [
             0.1111111111111111,
             "#46039f"
            ],
            [
             0.2222222222222222,
             "#7201a8"
            ],
            [
             0.3333333333333333,
             "#9c179e"
            ],
            [
             0.4444444444444444,
             "#bd3786"
            ],
            [
             0.5555555555555556,
             "#d8576b"
            ],
            [
             0.6666666666666666,
             "#ed7953"
            ],
            [
             0.7777777777777778,
             "#fb9f3a"
            ],
            [
             0.8888888888888888,
             "#fdca26"
            ],
            [
             1,
             "#f0f921"
            ]
           ]
          },
          "colorway": [
           "#636efa",
           "#EF553B",
           "#00cc96",
           "#ab63fa",
           "#FFA15A",
           "#19d3f3",
           "#FF6692",
           "#B6E880",
           "#FF97FF",
           "#FECB52"
          ],
          "font": {
           "color": "#2a3f5f"
          },
          "geo": {
           "bgcolor": "white",
           "lakecolor": "white",
           "landcolor": "#E5ECF6",
           "showlakes": true,
           "showland": true,
           "subunitcolor": "white"
          },
          "hoverlabel": {
           "align": "left"
          },
          "hovermode": "closest",
          "mapbox": {
           "style": "light"
          },
          "paper_bgcolor": "white",
          "plot_bgcolor": "#E5ECF6",
          "polar": {
           "angularaxis": {
            "gridcolor": "white",
            "linecolor": "white",
            "ticks": ""
           },
           "bgcolor": "#E5ECF6",
           "radialaxis": {
            "gridcolor": "white",
            "linecolor": "white",
            "ticks": ""
           }
          },
          "scene": {
           "xaxis": {
            "backgroundcolor": "#E5ECF6",
            "gridcolor": "white",
            "gridwidth": 2,
            "linecolor": "white",
            "showbackground": true,
            "ticks": "",
            "zerolinecolor": "white"
           },
           "yaxis": {
            "backgroundcolor": "#E5ECF6",
            "gridcolor": "white",
            "gridwidth": 2,
            "linecolor": "white",
            "showbackground": true,
            "ticks": "",
            "zerolinecolor": "white"
           },
           "zaxis": {
            "backgroundcolor": "#E5ECF6",
            "gridcolor": "white",
            "gridwidth": 2,
            "linecolor": "white",
            "showbackground": true,
            "ticks": "",
            "zerolinecolor": "white"
           }
          },
          "shapedefaults": {
           "line": {
            "color": "#2a3f5f"
           }
          },
          "ternary": {
           "aaxis": {
            "gridcolor": "white",
            "linecolor": "white",
            "ticks": ""
           },
           "baxis": {
            "gridcolor": "white",
            "linecolor": "white",
            "ticks": ""
           },
           "bgcolor": "#E5ECF6",
           "caxis": {
            "gridcolor": "white",
            "linecolor": "white",
            "ticks": ""
           }
          },
          "title": {
           "x": 0.05
          },
          "xaxis": {
           "automargin": true,
           "gridcolor": "white",
           "linecolor": "white",
           "ticks": "",
           "title": {
            "standoff": 15
           },
           "zerolinecolor": "white",
           "zerolinewidth": 2
          },
          "yaxis": {
           "automargin": true,
           "gridcolor": "white",
           "linecolor": "white",
           "ticks": "",
           "title": {
            "standoff": 15
           },
           "zerolinecolor": "white",
           "zerolinewidth": 2
          }
         }
        }
       }
      },
      "text/html": [
       "<div>                            <div id=\"9af84e42-b325-43cd-8732-c5c2d93e7ca5\" class=\"plotly-graph-div\" style=\"height:525px; width:100%;\"></div>            <script type=\"text/javascript\">                require([\"plotly\"], function(Plotly) {                    window.PLOTLYENV=window.PLOTLYENV || {};                                    if (document.getElementById(\"9af84e42-b325-43cd-8732-c5c2d93e7ca5\")) {                    Plotly.newPlot(                        \"9af84e42-b325-43cd-8732-c5c2d93e7ca5\",                        [{\"hovertemplate\":\"x=%{x}<br>y=%{y}<br>z=%{z}<br>label=%{marker.color}<extra></extra>\",\"legendgroup\":\"\",\"marker\":{\"color\":[3,3,3,3,3,3,3,3,3,3,3,3,3,3,3,3,3,3,3],\"coloraxis\":\"coloraxis\",\"symbol\":\"circle\",\"size\":5},\"mode\":\"markers+text\",\"name\":\"\",\"scene\":\"scene\",\"showlegend\":false,\"text\":[3.0,3.0,3.0,3.0,3.0,3.0,3.0,3.0,3.0,3.0,3.0,3.0,3.0,3.0,3.0,3.0,3.0,3.0,3.0],\"x\":[0.7395599484443665,-0.7686367630958557,0.2672041654586792,0.30041050910949707,-0.752750813961029,0.5803320407867432,-0.39466041326522827,-0.49733784794807434,-0.01051175408065319,0.6626478433609009,0.5250741243362427,-0.6784853339195251,-0.6972386837005615,-0.754493236541748,-0.09495670348405838,-0.6089919209480286,-0.6403618454933167,0.18277785181999207,-0.07672581076622009],\"y\":[-0.5802215337753296,0.06086777150630951,-0.930165708065033,0.7137065529823303,0.5431782603263855,-0.8101378083229065,0.9095545411109924,0.8673500418663025,0.89069664478302,-0.7215317487716675,0.47690725326538086,0.6988957524299622,-0.1719970405101776,0.5377401113510132,-0.8468074202537537,0.7837916612625122,0.7497788071632385,-0.9281741976737976,-0.8555283546447754],\"z\":[0.34116578102111816,-0.6367830038070679,-0.2517811954021454,0.6327529549598694,-0.3719189167022705,0.0830148458480835,0.13020703196525574,0.018942933529615402,0.45447656512260437,0.20072340965270996,0.7048806548118591,-0.22627925872802734,-0.6958989500999451,-0.3762650489807129,-0.5233550071716309,-0.12165307253599167,-0.16663891077041626,-0.3241681456565857,-0.5120394825935364],\"type\":\"scatter3d\",\"textfont\":{\"color\":\"white\",\"size\":10},\"textposition\":\"middle center\"}],                        {\"template\":{\"data\":{\"histogram2dcontour\":[{\"type\":\"histogram2dcontour\",\"colorbar\":{\"outlinewidth\":0,\"ticks\":\"\"},\"colorscale\":[[0.0,\"#0d0887\"],[0.1111111111111111,\"#46039f\"],[0.2222222222222222,\"#7201a8\"],[0.3333333333333333,\"#9c179e\"],[0.4444444444444444,\"#bd3786\"],[0.5555555555555556,\"#d8576b\"],[0.6666666666666666,\"#ed7953\"],[0.7777777777777778,\"#fb9f3a\"],[0.8888888888888888,\"#fdca26\"],[1.0,\"#f0f921\"]]}],\"choropleth\":[{\"type\":\"choropleth\",\"colorbar\":{\"outlinewidth\":0,\"ticks\":\"\"}}],\"histogram2d\":[{\"type\":\"histogram2d\",\"colorbar\":{\"outlinewidth\":0,\"ticks\":\"\"},\"colorscale\":[[0.0,\"#0d0887\"],[0.1111111111111111,\"#46039f\"],[0.2222222222222222,\"#7201a8\"],[0.3333333333333333,\"#9c179e\"],[0.4444444444444444,\"#bd3786\"],[0.5555555555555556,\"#d8576b\"],[0.6666666666666666,\"#ed7953\"],[0.7777777777777778,\"#fb9f3a\"],[0.8888888888888888,\"#fdca26\"],[1.0,\"#f0f921\"]]}],\"heatmap\":[{\"type\":\"heatmap\",\"colorbar\":{\"outlinewidth\":0,\"ticks\":\"\"},\"colorscale\":[[0.0,\"#0d0887\"],[0.1111111111111111,\"#46039f\"],[0.2222222222222222,\"#7201a8\"],[0.3333333333333333,\"#9c179e\"],[0.4444444444444444,\"#bd3786\"],[0.5555555555555556,\"#d8576b\"],[0.6666666666666666,\"#ed7953\"],[0.7777777777777778,\"#fb9f3a\"],[0.8888888888888888,\"#fdca26\"],[1.0,\"#f0f921\"]]}],\"heatmapgl\":[{\"type\":\"heatmapgl\",\"colorbar\":{\"outlinewidth\":0,\"ticks\":\"\"},\"colorscale\":[[0.0,\"#0d0887\"],[0.1111111111111111,\"#46039f\"],[0.2222222222222222,\"#7201a8\"],[0.3333333333333333,\"#9c179e\"],[0.4444444444444444,\"#bd3786\"],[0.5555555555555556,\"#d8576b\"],[0.6666666666666666,\"#ed7953\"],[0.7777777777777778,\"#fb9f3a\"],[0.8888888888888888,\"#fdca26\"],[1.0,\"#f0f921\"]]}],\"contourcarpet\":[{\"type\":\"contourcarpet\",\"colorbar\":{\"outlinewidth\":0,\"ticks\":\"\"}}],\"contour\":[{\"type\":\"contour\",\"colorbar\":{\"outlinewidth\":0,\"ticks\":\"\"},\"colorscale\":[[0.0,\"#0d0887\"],[0.1111111111111111,\"#46039f\"],[0.2222222222222222,\"#7201a8\"],[0.3333333333333333,\"#9c179e\"],[0.4444444444444444,\"#bd3786\"],[0.5555555555555556,\"#d8576b\"],[0.6666666666666666,\"#ed7953\"],[0.7777777777777778,\"#fb9f3a\"],[0.8888888888888888,\"#fdca26\"],[1.0,\"#f0f921\"]]}],\"surface\":[{\"type\":\"surface\",\"colorbar\":{\"outlinewidth\":0,\"ticks\":\"\"},\"colorscale\":[[0.0,\"#0d0887\"],[0.1111111111111111,\"#46039f\"],[0.2222222222222222,\"#7201a8\"],[0.3333333333333333,\"#9c179e\"],[0.4444444444444444,\"#bd3786\"],[0.5555555555555556,\"#d8576b\"],[0.6666666666666666,\"#ed7953\"],[0.7777777777777778,\"#fb9f3a\"],[0.8888888888888888,\"#fdca26\"],[1.0,\"#f0f921\"]]}],\"mesh3d\":[{\"type\":\"mesh3d\",\"colorbar\":{\"outlinewidth\":0,\"ticks\":\"\"}}],\"scatter\":[{\"fillpattern\":{\"fillmode\":\"overlay\",\"size\":10,\"solidity\":0.2},\"type\":\"scatter\"}],\"parcoords\":[{\"type\":\"parcoords\",\"line\":{\"colorbar\":{\"outlinewidth\":0,\"ticks\":\"\"}}}],\"scatterpolargl\":[{\"type\":\"scatterpolargl\",\"marker\":{\"colorbar\":{\"outlinewidth\":0,\"ticks\":\"\"}}}],\"bar\":[{\"error_x\":{\"color\":\"#2a3f5f\"},\"error_y\":{\"color\":\"#2a3f5f\"},\"marker\":{\"line\":{\"color\":\"#E5ECF6\",\"width\":0.5},\"pattern\":{\"fillmode\":\"overlay\",\"size\":10,\"solidity\":0.2}},\"type\":\"bar\"}],\"scattergeo\":[{\"type\":\"scattergeo\",\"marker\":{\"colorbar\":{\"outlinewidth\":0,\"ticks\":\"\"}}}],\"scatterpolar\":[{\"type\":\"scatterpolar\",\"marker\":{\"colorbar\":{\"outlinewidth\":0,\"ticks\":\"\"}}}],\"histogram\":[{\"marker\":{\"pattern\":{\"fillmode\":\"overlay\",\"size\":10,\"solidity\":0.2}},\"type\":\"histogram\"}],\"scattergl\":[{\"type\":\"scattergl\",\"marker\":{\"colorbar\":{\"outlinewidth\":0,\"ticks\":\"\"}}}],\"scatter3d\":[{\"type\":\"scatter3d\",\"line\":{\"colorbar\":{\"outlinewidth\":0,\"ticks\":\"\"}},\"marker\":{\"colorbar\":{\"outlinewidth\":0,\"ticks\":\"\"}}}],\"scattermapbox\":[{\"type\":\"scattermapbox\",\"marker\":{\"colorbar\":{\"outlinewidth\":0,\"ticks\":\"\"}}}],\"scatterternary\":[{\"type\":\"scatterternary\",\"marker\":{\"colorbar\":{\"outlinewidth\":0,\"ticks\":\"\"}}}],\"scattercarpet\":[{\"type\":\"scattercarpet\",\"marker\":{\"colorbar\":{\"outlinewidth\":0,\"ticks\":\"\"}}}],\"carpet\":[{\"aaxis\":{\"endlinecolor\":\"#2a3f5f\",\"gridcolor\":\"white\",\"linecolor\":\"white\",\"minorgridcolor\":\"white\",\"startlinecolor\":\"#2a3f5f\"},\"baxis\":{\"endlinecolor\":\"#2a3f5f\",\"gridcolor\":\"white\",\"linecolor\":\"white\",\"minorgridcolor\":\"white\",\"startlinecolor\":\"#2a3f5f\"},\"type\":\"carpet\"}],\"table\":[{\"cells\":{\"fill\":{\"color\":\"#EBF0F8\"},\"line\":{\"color\":\"white\"}},\"header\":{\"fill\":{\"color\":\"#C8D4E3\"},\"line\":{\"color\":\"white\"}},\"type\":\"table\"}],\"barpolar\":[{\"marker\":{\"line\":{\"color\":\"#E5ECF6\",\"width\":0.5},\"pattern\":{\"fillmode\":\"overlay\",\"size\":10,\"solidity\":0.2}},\"type\":\"barpolar\"}],\"pie\":[{\"automargin\":true,\"type\":\"pie\"}]},\"layout\":{\"autotypenumbers\":\"strict\",\"colorway\":[\"#636efa\",\"#EF553B\",\"#00cc96\",\"#ab63fa\",\"#FFA15A\",\"#19d3f3\",\"#FF6692\",\"#B6E880\",\"#FF97FF\",\"#FECB52\"],\"font\":{\"color\":\"#2a3f5f\"},\"hovermode\":\"closest\",\"hoverlabel\":{\"align\":\"left\"},\"paper_bgcolor\":\"white\",\"plot_bgcolor\":\"#E5ECF6\",\"polar\":{\"bgcolor\":\"#E5ECF6\",\"angularaxis\":{\"gridcolor\":\"white\",\"linecolor\":\"white\",\"ticks\":\"\"},\"radialaxis\":{\"gridcolor\":\"white\",\"linecolor\":\"white\",\"ticks\":\"\"}},\"ternary\":{\"bgcolor\":\"#E5ECF6\",\"aaxis\":{\"gridcolor\":\"white\",\"linecolor\":\"white\",\"ticks\":\"\"},\"baxis\":{\"gridcolor\":\"white\",\"linecolor\":\"white\",\"ticks\":\"\"},\"caxis\":{\"gridcolor\":\"white\",\"linecolor\":\"white\",\"ticks\":\"\"}},\"coloraxis\":{\"colorbar\":{\"outlinewidth\":0,\"ticks\":\"\"}},\"colorscale\":{\"sequential\":[[0.0,\"#0d0887\"],[0.1111111111111111,\"#46039f\"],[0.2222222222222222,\"#7201a8\"],[0.3333333333333333,\"#9c179e\"],[0.4444444444444444,\"#bd3786\"],[0.5555555555555556,\"#d8576b\"],[0.6666666666666666,\"#ed7953\"],[0.7777777777777778,\"#fb9f3a\"],[0.8888888888888888,\"#fdca26\"],[1.0,\"#f0f921\"]],\"sequentialminus\":[[0.0,\"#0d0887\"],[0.1111111111111111,\"#46039f\"],[0.2222222222222222,\"#7201a8\"],[0.3333333333333333,\"#9c179e\"],[0.4444444444444444,\"#bd3786\"],[0.5555555555555556,\"#d8576b\"],[0.6666666666666666,\"#ed7953\"],[0.7777777777777778,\"#fb9f3a\"],[0.8888888888888888,\"#fdca26\"],[1.0,\"#f0f921\"]],\"diverging\":[[0,\"#8e0152\"],[0.1,\"#c51b7d\"],[0.2,\"#de77ae\"],[0.3,\"#f1b6da\"],[0.4,\"#fde0ef\"],[0.5,\"#f7f7f7\"],[0.6,\"#e6f5d0\"],[0.7,\"#b8e186\"],[0.8,\"#7fbc41\"],[0.9,\"#4d9221\"],[1,\"#276419\"]]},\"xaxis\":{\"gridcolor\":\"white\",\"linecolor\":\"white\",\"ticks\":\"\",\"title\":{\"standoff\":15},\"zerolinecolor\":\"white\",\"automargin\":true,\"zerolinewidth\":2},\"yaxis\":{\"gridcolor\":\"white\",\"linecolor\":\"white\",\"ticks\":\"\",\"title\":{\"standoff\":15},\"zerolinecolor\":\"white\",\"automargin\":true,\"zerolinewidth\":2},\"scene\":{\"xaxis\":{\"backgroundcolor\":\"#E5ECF6\",\"gridcolor\":\"white\",\"linecolor\":\"white\",\"showbackground\":true,\"ticks\":\"\",\"zerolinecolor\":\"white\",\"gridwidth\":2},\"yaxis\":{\"backgroundcolor\":\"#E5ECF6\",\"gridcolor\":\"white\",\"linecolor\":\"white\",\"showbackground\":true,\"ticks\":\"\",\"zerolinecolor\":\"white\",\"gridwidth\":2},\"zaxis\":{\"backgroundcolor\":\"#E5ECF6\",\"gridcolor\":\"white\",\"linecolor\":\"white\",\"showbackground\":true,\"ticks\":\"\",\"zerolinecolor\":\"white\",\"gridwidth\":2}},\"shapedefaults\":{\"line\":{\"color\":\"#2a3f5f\"}},\"annotationdefaults\":{\"arrowcolor\":\"#2a3f5f\",\"arrowhead\":0,\"arrowwidth\":1},\"geo\":{\"bgcolor\":\"white\",\"landcolor\":\"#E5ECF6\",\"subunitcolor\":\"white\",\"showland\":true,\"showlakes\":true,\"lakecolor\":\"white\"},\"title\":{\"x\":0.05},\"mapbox\":{\"style\":\"light\"}}},\"scene\":{\"domain\":{\"x\":[0.0,1.0],\"y\":[0.0,1.0]},\"xaxis\":{\"title\":{\"text\":\"x\"}},\"yaxis\":{\"title\":{\"text\":\"y\"}},\"zaxis\":{\"title\":{\"text\":\"z\"}},\"camera\":{\"eye\":{\"x\":0.8,\"y\":0.8,\"z\":-1.2}}},\"coloraxis\":{\"colorbar\":{\"title\":{\"text\":\"label\"}},\"colorscale\":[[0.0,\"#0d0887\"],[0.1111111111111111,\"#46039f\"],[0.2222222222222222,\"#7201a8\"],[0.3333333333333333,\"#9c179e\"],[0.4444444444444444,\"#bd3786\"],[0.5555555555555556,\"#d8576b\"],[0.6666666666666666,\"#ed7953\"],[0.7777777777777778,\"#fb9f3a\"],[0.8888888888888888,\"#fdca26\"],[1.0,\"#f0f921\"]],\"showscale\":false},\"legend\":{\"tracegroupgap\":0},\"margin\":{\"t\":60}},                        {\"responsive\": true}                    ).then(function(){\n",
       "                            \n",
       "var gd = document.getElementById('9af84e42-b325-43cd-8732-c5c2d93e7ca5');\n",
       "var x = new MutationObserver(function (mutations, observer) {{\n",
       "        var display = window.getComputedStyle(gd).display;\n",
       "        if (!display || display === 'none') {{\n",
       "            console.log([gd, 'removed!']);\n",
       "            Plotly.purge(gd);\n",
       "            observer.disconnect();\n",
       "        }}\n",
       "}});\n",
       "\n",
       "// Listen for the removal of the full notebook cells\n",
       "var notebookContainer = gd.closest('#notebook-container');\n",
       "if (notebookContainer) {{\n",
       "    x.observe(notebookContainer, {childList: true});\n",
       "}}\n",
       "\n",
       "// Listen for the clearing of the current output cell\n",
       "var outputEl = gd.closest('.output');\n",
       "if (outputEl) {{\n",
       "    x.observe(outputEl, {childList: true});\n",
       "}}\n",
       "\n",
       "                        })                };                });            </script>        </div>"
      ]
     },
     "metadata": {},
     "output_type": "display_data"
    }
   ],
   "source": [
    "projected_points = project_to_2D_unit_circle(embeds)\n",
    "\n",
    "projected_points = projected_points[torch.tensor(shatter_class)==batch_labels]\n",
    "\n",
    "df = pd.DataFrame(\n",
    "                    {\n",
    "                     'x': projected_points[:, 0], \n",
    "                     'y': projected_points[:, 1], \n",
    "                     'z': projected_points[:, 2], \n",
    "                     'label': batch_labels[batch_labels==torch.tensor(shatter_class)].numpy()\n",
    "                    }\n",
    "                 )\n",
    "\n",
    "fig = px.scatter_3d(df, x='x', y='y', z='z',\n",
    "                      color='label', text='label')\n",
    "fig.update_coloraxes(showscale=False)\n",
    "fig.update_traces(marker=dict(size=5), \n",
    "                  textposition='middle center', \n",
    "                  textfont=dict(color='white', size=10))\n",
    "\n",
    "camera = dict(\n",
    "    eye=dict(x=.8, y=.8, z=-1.2)\n",
    ")\n",
    "\n",
    "fig.update_layout(scene_camera=camera)\n",
    "# fig.write_image(\"./figs/sc_plot.pdf\", scale=10)\n",
    "fig.show()"
   ]
  },
  {
   "cell_type": "markdown",
   "id": "fc5385f0",
   "metadata": {},
   "source": [
    "## Accuracy over test images"
   ]
  },
  {
   "cell_type": "code",
   "execution_count": 50,
   "id": "afe69ae9",
   "metadata": {},
   "outputs": [],
   "source": [
    "def accuracy_over_test_images(mnist_net, tag='original'):\n",
    "    correct = 0\n",
    "    total = 0\n",
    "    # since we're not training, we don't need to calculate the gradients for our outputs\n",
    "    with torch.no_grad():\n",
    "        for images, labels in data_loader:\n",
    "            images = images.to(device); labels = labels.to(device)\n",
    "            # calculate outputs by running images through the network\n",
    "            outputs = mnist_net(images)\n",
    "            # the class with the highest energy is what we choose as prediction\n",
    "            _, predicted = torch.max(outputs.data, 1)\n",
    "            total += labels.size(0)\n",
    "            correct += (predicted == labels).sum().item()\n",
    "\n",
    "    print(f'Accuracy of the ' +  tag +  ' network on the '+ str(total) +' test images: '+ str(100 * correct // total)+ '%')"
   ]
  },
  {
   "cell_type": "code",
   "execution_count": 51,
   "id": "283671bb",
   "metadata": {
    "scrolled": true
   },
   "outputs": [
    {
     "name": "stdout",
     "output_type": "stream",
     "text": [
      "Accuracy of the modified network on the 10000 test images: 55%\n"
     ]
    }
   ],
   "source": [
    "accuracy_over_test_images(mnist_net, tag='modified')"
   ]
  },
  {
   "cell_type": "code",
   "execution_count": 52,
   "id": "1279a9ae",
   "metadata": {
    "scrolled": true
   },
   "outputs": [],
   "source": [
    "# accuracy_over_test_images(original_mnist_net)\n",
    "# Accuracy of the original network on the 10000 test images: 97%"
   ]
  },
  {
   "cell_type": "code",
   "execution_count": null,
   "id": "79858db0",
   "metadata": {},
   "outputs": [],
   "source": []
  }
 ],
 "metadata": {
  "kernelspec": {
   "display_name": "Python 3 (ipykernel)",
   "language": "python",
   "name": "python3"
  },
  "language_info": {
   "codemirror_mode": {
    "name": "ipython",
    "version": 3
   },
   "file_extension": ".py",
   "mimetype": "text/x-python",
   "name": "python",
   "nbconvert_exporter": "python",
   "pygments_lexer": "ipython3",
   "version": "3.7.16"
  }
 },
 "nbformat": 4,
 "nbformat_minor": 5
}
