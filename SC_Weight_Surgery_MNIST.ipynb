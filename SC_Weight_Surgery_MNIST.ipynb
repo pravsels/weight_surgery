{
 "cells": [
  {
   "cell_type": "markdown",
   "id": "65791bdc",
   "metadata": {},
   "source": [
    "# MNIST Embeddings"
   ]
  },
  {
   "cell_type": "markdown",
   "id": "a8a44dcf",
   "metadata": {},
   "source": [
    "## Imports and Hyper-parameters "
   ]
  },
  {
   "cell_type": "code",
   "execution_count": 29,
   "id": "9f195be0",
   "metadata": {},
   "outputs": [
    {
     "name": "stdout",
     "output_type": "stream",
     "text": [
      "/home/praveens/Desktop/synthetic_biometrics/visualize_embeddings\n"
     ]
    }
   ],
   "source": [
    "import torch \n",
    "import os \n",
    "import numpy as np \n",
    "from torchvision import transforms \n",
    "from torchvision.datasets import MNIST \n",
    "from torchvision import models \n",
    "\n",
    "print(os.getcwd())\n",
    "root = os.getcwd()\n",
    "\n",
    "from DeepFeatures import DeepFeatures\n",
    "from mnist_net import Net\n",
    "\n",
    "from sklearn.ensemble import IsolationForest\n",
    "import plotly.express as px\n",
    "import pandas as pd\n"
   ]
  },
  {
   "cell_type": "code",
   "execution_count": 160,
   "id": "fae1b25d",
   "metadata": {},
   "outputs": [],
   "source": [
    "batch_size = 256\n",
    "data_folder = root + '/MNIST'\n",
    "device = 'cpu'\n",
    "model_path = './mnist_net.pth'\n",
    "\n",
    "shatter_class = 3"
   ]
  },
  {
   "cell_type": "markdown",
   "id": "2e460bd2",
   "metadata": {},
   "source": [
    "## Create Dataloader"
   ]
  },
  {
   "cell_type": "code",
   "execution_count": 161,
   "id": "860de05b",
   "metadata": {},
   "outputs": [],
   "source": [
    "transformations = transforms.Compose([transforms.Resize((221, 221)),\n",
    "                                      transforms.ToTensor(),\n",
    "                                      transforms.Normalize(mean=[0.485], std=[0.229])\n",
    "                                    ])\n",
    "\n",
    "mnist_data = MNIST(root=r'./MNIST',\n",
    "                   download=False, # change to True to download MNIST data\n",
    "                   train=False, \n",
    "                   transform=transformations)\n",
    "\n",
    "data_loader = torch.utils.data.DataLoader(mnist_data,\n",
    "                                          batch_size=batch_size,\n",
    "                                          shuffle=True)"
   ]
  },
  {
   "cell_type": "code",
   "execution_count": 162,
   "id": "74a9d075",
   "metadata": {},
   "outputs": [
    {
     "data": {
      "text/plain": [
       "Dataset MNIST\n",
       "    Number of datapoints: 10000\n",
       "    Root location: ./MNIST\n",
       "    Split: Test\n",
       "    StandardTransform\n",
       "Transform: Compose(\n",
       "               Resize(size=(221, 221), interpolation=bilinear, max_size=None, antialias=None)\n",
       "               ToTensor()\n",
       "               Normalize(mean=[0.485], std=[0.229])\n",
       "           )"
      ]
     },
     "execution_count": 162,
     "metadata": {},
     "output_type": "execute_result"
    }
   ],
   "source": [
    "mnist_data"
   ]
  },
  {
   "cell_type": "code",
   "execution_count": 163,
   "id": "17645ff9",
   "metadata": {},
   "outputs": [],
   "source": [
    "# list(mnist_net.named_parameters())"
   ]
  },
  {
   "cell_type": "markdown",
   "id": "b9e14939",
   "metadata": {},
   "source": [
    "## Initialize Tensorboard Logging Class "
   ]
  },
  {
   "cell_type": "code",
   "execution_count": 164,
   "id": "d275c88e",
   "metadata": {
    "scrolled": true
   },
   "outputs": [
    {
     "data": {
      "text/plain": [
       "Net(\n",
       "  (conv1): Conv2d(1, 8, kernel_size=(2, 2), stride=(1, 1))\n",
       "  (conv2): Conv2d(8, 16, kernel_size=(2, 2), stride=(1, 1))\n",
       "  (conv3): Conv2d(16, 32, kernel_size=(2, 2), stride=(1, 1))\n",
       "  (conv4): Conv2d(32, 64, kernel_size=(2, 2), stride=(1, 1))\n",
       "  (pool): MaxPool2d(kernel_size=2, stride=2, padding=0, dilation=1, ceil_mode=False)\n",
       "  (fc1): Linear(in_features=9216, out_features=128, bias=True)\n",
       "  (fc2): Linear(in_features=128, out_features=64, bias=True)\n",
       "  (fc3): Linear(in_features=64, out_features=3, bias=True)\n",
       "  (fc4): Linear(in_features=3, out_features=3, bias=True)\n",
       "  (fc5): Linear(in_features=3, out_features=10, bias=True)\n",
       ")"
      ]
     },
     "execution_count": 164,
     "metadata": {},
     "output_type": "execute_result"
    }
   ],
   "source": [
    "mnist_net = Net().to(device)\n",
    "mnist_net.load_state_dict(torch.load(model_path, map_location=torch.device(device)))  # load saved model \n",
    "\n",
    "mnist_net.eval()"
   ]
  },
  {
   "cell_type": "code",
   "execution_count": 165,
   "id": "70ae5433",
   "metadata": {},
   "outputs": [],
   "source": [
    "deep_features = DeepFeatures(model=mnist_net)"
   ]
  },
  {
   "cell_type": "code",
   "execution_count": 166,
   "id": "c1c86b24",
   "metadata": {},
   "outputs": [],
   "source": [
    "def filter_by_classes(data_loader, cl1):\n",
    "    \n",
    "    class1 = torch.tensor(cl1)\n",
    "    class1_images = []\n",
    "    \n",
    "    for images, labels in data_loader: \n",
    "        class1_images.extend(images[labels == class1])\n",
    "        \n",
    "    class1_images = torch.stack(class1_images)\n",
    "        \n",
    "    return class1_images"
   ]
  },
  {
   "cell_type": "code",
   "execution_count": 167,
   "id": "39cf25e2",
   "metadata": {},
   "outputs": [],
   "source": [
    "def find_cosine_similarity(deep_features, data_loader, cl1):\n",
    "    images1 = filter_by_classes(data_loader, cl1)\n",
    "    \n",
    "    e1 = deep_features.generate_embeddings(images1).clone().detach()\n",
    "      \n",
    "    shape = e1.shape[0]\n",
    "    idx1 = np.random.randint(shape)\n",
    "    idx2 = np.random.randint(shape)\n",
    "        \n",
    "    cos_sim = (torch.dot(e1[idx1], e1[idx2])/(torch.linalg.norm(e1[idx1])*torch.linalg.norm(e1[idx2])))\n",
    "        \n",
    "    print('cosine similarity of 2 random embeddings : ', cos_sim)\n",
    "    \n",
    "    return cos_sim"
   ]
  },
  {
   "cell_type": "code",
   "execution_count": 168,
   "id": "3f9fe549",
   "metadata": {},
   "outputs": [],
   "source": [
    "def find_class_embeddings(deep_features, data_loader, cl1, remove_outliers=True):\n",
    "    images1 = filter_by_classes(data_loader, cl1)\n",
    "    \n",
    "    e1 = deep_features.generate_embeddings(images1).clone().detach()\n",
    "    \n",
    "    if remove_outliers:\n",
    "        model_if = IsolationForest(random_state=42)\n",
    "        model_if.fit(e1.numpy())\n",
    "        e1_anomaly = model_if.predict(e1)\n",
    "\n",
    "        # keeping the inliers \n",
    "        e1 = e1[e1_anomaly==1]\n",
    "        print('inliers for ' + str(cl1) + ' : ', e1.shape[0])\n",
    "        \n",
    "    \n",
    "    \n",
    "    ################## STEP 1: finding centroid of the 2 class embeddings  \n",
    "    class1_mean = torch.mean(e1, dim=0)    # squish multiple rows to get mean \n",
    "    \n",
    "    class1_normed = class1_mean/torch.norm(class1_mean)\n",
    "    \n",
    "    print('val of centroid of class ' + str(cl1) + ' : ', class1_normed)\n",
    "    \n",
    "    return class1_normed"
   ]
  },
  {
   "cell_type": "code",
   "execution_count": 169,
   "id": "262262cf",
   "metadata": {
    "scrolled": true
   },
   "outputs": [
    {
     "name": "stdout",
     "output_type": "stream",
     "text": [
      "inliers for 3 :  818\n",
      "val of centroid of class 3 :  tensor([ 0.6072,  0.3653, -0.7056])\n"
     ]
    }
   ],
   "source": [
    "x1 = find_class_embeddings(deep_features, \n",
    "                            data_loader, \n",
    "                            shatter_class)"
   ]
  },
  {
   "cell_type": "code",
   "execution_count": 170,
   "id": "eb9a9adf",
   "metadata": {},
   "outputs": [],
   "source": [
    "################## Step 3: calculate change of basis matrix\n",
    "def change_of_basis(wm, d):\n",
    "    ################## The first basis is d, how do we get the other 2 ?    \n",
    "\n",
    "    new_wm = torch.eye(wm.shape[0])\n",
    "    \n",
    "    # replace first column of identity matrix with d \n",
    "    new_wm[:, 0] = d\n",
    "    \n",
    "    print('new weight matrix : ', new_wm)\n",
    "\n",
    "    return new_wm"
   ]
  },
  {
   "cell_type": "code",
   "execution_count": 171,
   "id": "5b80f3e1",
   "metadata": {},
   "outputs": [],
   "source": [
    "def perform_weight_surgery(mnist_net, x1, save_model=True):\n",
    "    \n",
    "    ################## Step 2: calculating difference vector of the 2 classes \n",
    "    # calculate the difference between the 2 class vectors \n",
    "    d = x1\n",
    "    print('d : ', d)\n",
    "    d = d/torch.norm(d)\n",
    "    print('normed d : ', d)\n",
    "    weight_matrix = mnist_net.fc4.weight.clone().detach()  # weight matrix of the penultimate layer \n",
    "    print('weight matrix : \\n', weight_matrix)\n",
    "    \n",
    "    ################## Step 3: calculate change of basis matrix \n",
    "    # perform a change of basis, to put d as the first basis \n",
    "    new_wm = change_of_basis(weight_matrix, d)\n",
    "    \n",
    "    # gram schmidt to calculate orthogonal basis vectors \n",
    "    def gram_schmidt(weight_matrix):\n",
    "        ################## d is first basis vector\n",
    "        m, n = weight_matrix.shape\n",
    "        \n",
    "        Q = torch.zeros((m, n))\n",
    "\n",
    "        for i in range(n):\n",
    "\n",
    "            v = weight_matrix[:, i].clone()\n",
    "\n",
    "            for j in range(i):\n",
    "                proj = (v @ torch.outer(Q[:, j], Q[:, j]))\n",
    "                v = v - proj\n",
    "                        \n",
    "            Q[:, i] = v/torch.linalg.norm(v)\n",
    "            \n",
    "        return Q\n",
    "    \n",
    "    ################## Step 4: using Gram-Schmidt to get orthogonal basis vectors \n",
    "    U = gram_schmidt(new_wm)    \n",
    "    \n",
    "    print('U matrix: ', U)\n",
    "    print('result of U * U_transpose : ', torch.mm(U, U.T))\n",
    "    \n",
    "    S = torch.eye(U.shape[0])\n",
    "    S[0, 0] = 1e-5\n",
    "#     print('matrix S :\\n', S)\n",
    "    \n",
    "    # projection matrix \n",
    "#     P_d = torch.mm(torch.mm(U, S), U.T)\n",
    "    P_d = U @ S @ U.T\n",
    "\n",
    "    print('projection matrix : ', P_d)\n",
    "    \n",
    "#     modified_weight_matrix = torch.mm(P_d, weight_matrix)\n",
    "    modified_weight_matrix = P_d @ weight_matrix\n",
    "    \n",
    "    print('modified weight matrix :\\n', modified_weight_matrix)\n",
    "    \n",
    "    print('rank of the modified weights matrix : ', torch.linalg.matrix_rank(modified_weight_matrix))\n",
    "    \n",
    "    mnist_net.fc4.weight = torch.nn.Parameter(modified_weight_matrix)\n",
    "    \n",
    "    if save_model: \n",
    "        path = './modified_mnist_net_sc.pth'\n",
    "        torch.save(mnist_net.state_dict(), path)"
   ]
  },
  {
   "cell_type": "code",
   "execution_count": 172,
   "id": "346069de",
   "metadata": {
    "scrolled": false
   },
   "outputs": [
    {
     "name": "stdout",
     "output_type": "stream",
     "text": [
      "d :  tensor([ 0.6072,  0.3653, -0.7056])\n",
      "normed d :  tensor([ 0.6072,  0.3653, -0.7056])\n",
      "weight matrix : \n",
      " tensor([[ 0.4307, -0.1483,  0.8380],\n",
      "        [ 0.0444, -1.0082,  0.3290],\n",
      "        [ 1.0885, -0.1497, -0.8214]])\n",
      "new weight matrix :  tensor([[ 0.6072,  0.0000,  0.0000],\n",
      "        [ 0.3653,  1.0000,  0.0000],\n",
      "        [-0.7056,  0.0000,  1.0000]])\n",
      "U matrix:  tensor([[ 6.0723e-01, -2.3827e-01,  7.5796e-01],\n",
      "        [ 3.6527e-01,  9.3090e-01, -4.5688e-08],\n",
      "        [-7.0558e-01,  2.7686e-01,  6.5230e-01]])\n",
      "result of U * U_transpose :  tensor([[ 1.0000e+00, -3.4629e-08, -4.2462e-08],\n",
      "        [-3.4629e-08,  1.0000e+00, -2.9802e-08],\n",
      "        [-4.2462e-08, -2.9802e-08,  1.0000e+00]])\n",
      "projection matrix :  tensor([[ 0.6313, -0.2218,  0.4284],\n",
      "        [-0.2218,  0.8666,  0.2577],\n",
      "        [ 0.4284,  0.2577,  0.5022]])\n",
      "modified weight matrix :\n",
      " tensor([[ 0.7284,  0.0659,  0.1041],\n",
      "        [ 0.2235, -0.8794, -0.1124],\n",
      "        [ 0.7426, -0.3985,  0.0314]])\n",
      "rank of the modified weights matrix :  tensor(3)\n"
     ]
    }
   ],
   "source": [
    "perform_weight_surgery(mnist_net, x1, save_model=True)"
   ]
  },
  {
   "cell_type": "code",
   "execution_count": 173,
   "id": "3754c031",
   "metadata": {},
   "outputs": [],
   "source": [
    "original_mnist_net = Net().to(device)\n",
    "original_mnist_net.load_state_dict(torch.load('./mnist_net.pth', map_location=torch.device(device)))  # load saved model \n",
    "\n",
    "original_mnist_net.eval()\n",
    "\n",
    "original_deep_features = DeepFeatures(model=original_mnist_net)"
   ]
  },
  {
   "cell_type": "code",
   "execution_count": 182,
   "id": "59c38717",
   "metadata": {
    "scrolled": true
   },
   "outputs": [
    {
     "name": "stdout",
     "output_type": "stream",
     "text": [
      "cosine similarity of 2 random embeddings :  tensor(0.9996)\n"
     ]
    }
   ],
   "source": [
    "_ = find_cosine_similarity(original_deep_features, data_loader, shatter_class)"
   ]
  },
  {
   "cell_type": "code",
   "execution_count": 183,
   "id": "3e35df1e",
   "metadata": {
    "scrolled": true
   },
   "outputs": [
    {
     "name": "stdout",
     "output_type": "stream",
     "text": [
      "cosine similarity of 2 random embeddings :  tensor(0.4750)\n"
     ]
    }
   ],
   "source": [
    "_ = find_cosine_similarity(deep_features, data_loader, shatter_class)"
   ]
  },
  {
   "cell_type": "markdown",
   "id": "25a3132c",
   "metadata": {},
   "source": [
    "## View Unmodified Embeddings through Plotly"
   ]
  },
  {
   "cell_type": "code",
   "execution_count": 194,
   "id": "1489d437",
   "metadata": {},
   "outputs": [],
   "source": [
    "def remove_outliers(embeds, labels):\n",
    "    unique_labels = set(labels.numpy())\n",
    "    \n",
    "    model_if = IsolationForest(random_state=42)\n",
    "    \n",
    "    new_embeds, new_labels = [], []\n",
    "    \n",
    "    for label_x in unique_labels:\n",
    "        embed_x = embeds[labels==label_x]\n",
    "        \n",
    "        model_if.fit(embed_x)\n",
    "        embedx_anomaly = model_if.predict(embed_x)\n",
    "        \n",
    "        embed_x = embed_x[embedx_anomaly == 1]   # keeping inliers \n",
    "        labels_x = [label_x] * embed_x.shape[0]\n",
    "        \n",
    "        new_embeds.extend(embed_x)\n",
    "        new_labels.extend(labels_x)\n",
    "        \n",
    "    return np.stack(new_embeds), np.stack(new_labels)"
   ]
  },
  {
   "cell_type": "code",
   "execution_count": 195,
   "id": "fe72310f",
   "metadata": {},
   "outputs": [],
   "source": [
    "batch_images, batch_labels = next(iter(data_loader))\n",
    "\n",
    "embeds = original_deep_features.generate_embeddings(batch_images.to(device), normalize=True)\n",
    "embeds = embeds.detach().numpy()\n",
    "\n",
    "# embeds, batch_labels = remove_outliers(embeds, batch_labels)"
   ]
  },
  {
   "cell_type": "code",
   "execution_count": 215,
   "id": "179b2ce4",
   "metadata": {},
   "outputs": [
    {
     "data": {
      "application/vnd.plotly.v1+json": {
       "config": {
        "plotlyServerURL": "https://plot.ly"
       },
       "data": [
        {
         "hovertemplate": "x=%{x}<br>y=%{y}<br>z=%{z}<br>label=%{marker.color}<extra></extra>",
         "legendgroup": "",
         "marker": {
          "color": [
           5,
           4,
           6,
           9,
           3,
           7,
           9,
           3,
           7,
           9,
           3,
           4,
           5,
           9,
           5,
           3,
           1,
           7,
           5,
           7,
           3,
           0,
           6,
           1,
           7,
           3,
           9,
           5,
           6,
           5,
           9,
           2,
           0,
           9,
           3,
           9,
           8,
           2,
           4,
           6,
           1,
           4,
           5,
           5,
           3,
           5,
           5,
           3,
           1,
           0,
           8,
           1,
           7,
           8,
           8,
           3,
           0,
           3,
           7,
           1,
           2,
           3,
           9,
           0,
           6,
           9,
           8,
           9,
           1,
           1,
           6,
           7,
           8,
           5,
           7,
           0,
           9,
           3,
           9,
           0,
           3,
           8,
           7,
           7,
           5,
           7,
           3,
           5,
           0,
           5,
           4,
           1,
           9,
           9,
           9,
           6,
           3,
           5,
           5,
           5,
           6,
           5,
           8,
           0,
           1,
           5,
           6,
           8,
           8,
           0,
           2,
           5,
           2,
           4,
           6,
           3,
           0,
           6,
           2,
           6,
           1,
           7,
           7,
           4,
           5,
           2,
           4,
           3,
           0,
           1,
           0,
           3,
           9,
           9,
           4,
           1,
           9,
           1,
           4,
           1,
           3,
           2,
           5,
           6,
           6,
           2,
           7,
           9,
           4,
           5,
           6,
           4,
           5,
           5,
           6,
           5,
           6,
           5,
           3,
           1,
           0,
           7,
           9,
           0,
           5,
           3,
           2,
           2,
           2,
           0,
           6,
           7,
           8,
           2,
           2,
           7,
           1,
           1,
           4,
           9,
           3,
           4,
           0,
           8,
           1,
           3,
           7,
           4,
           1,
           3,
           2,
           4,
           2,
           6,
           7,
           1,
           1,
           1,
           5,
           0,
           4,
           1,
           6,
           3,
           2,
           1,
           8,
           9,
           1,
           7,
           7,
           8,
           2,
           1,
           0,
           7,
           9,
           7,
           8,
           9,
           3,
           1,
           2,
           3,
           6,
           4,
           8,
           4,
           3,
           3,
           1,
           2,
           9,
           8,
           7,
           0,
           5,
           3,
           2,
           8,
           7,
           3,
           6,
           1,
           3,
           8,
           6,
           2,
           6,
           3,
           2,
           5,
           2,
           6,
           3,
           8
          ],
          "coloraxis": "coloraxis",
          "opacity": 1,
          "size": 5,
          "symbol": "circle"
         },
         "mode": "markers+text",
         "name": "",
         "scene": "scene",
         "showlegend": false,
         "text": [
          5,
          4,
          6,
          9,
          3,
          7,
          9,
          3,
          7,
          9,
          3,
          4,
          5,
          9,
          5,
          3,
          1,
          7,
          5,
          7,
          3,
          0,
          6,
          1,
          7,
          3,
          9,
          5,
          6,
          5,
          9,
          2,
          0,
          9,
          3,
          9,
          8,
          2,
          4,
          6,
          1,
          4,
          5,
          5,
          3,
          5,
          5,
          3,
          1,
          0,
          8,
          1,
          7,
          8,
          8,
          3,
          0,
          3,
          7,
          1,
          2,
          3,
          9,
          0,
          6,
          9,
          8,
          9,
          1,
          1,
          6,
          7,
          8,
          5,
          7,
          0,
          9,
          3,
          9,
          0,
          3,
          8,
          7,
          7,
          5,
          7,
          3,
          5,
          0,
          5,
          4,
          1,
          9,
          9,
          9,
          6,
          3,
          5,
          5,
          5,
          6,
          5,
          8,
          0,
          1,
          5,
          6,
          8,
          8,
          0,
          2,
          5,
          2,
          4,
          6,
          3,
          0,
          6,
          2,
          6,
          1,
          7,
          7,
          4,
          5,
          2,
          4,
          3,
          0,
          1,
          0,
          3,
          9,
          9,
          4,
          1,
          9,
          1,
          4,
          1,
          3,
          2,
          5,
          6,
          6,
          2,
          7,
          9,
          4,
          5,
          6,
          4,
          5,
          5,
          6,
          5,
          6,
          5,
          3,
          1,
          0,
          7,
          9,
          0,
          5,
          3,
          2,
          2,
          2,
          0,
          6,
          7,
          8,
          2,
          2,
          7,
          1,
          1,
          4,
          9,
          3,
          4,
          0,
          8,
          1,
          3,
          7,
          4,
          1,
          3,
          2,
          4,
          2,
          6,
          7,
          1,
          1,
          1,
          5,
          0,
          4,
          1,
          6,
          3,
          2,
          1,
          8,
          9,
          1,
          7,
          7,
          8,
          2,
          1,
          0,
          7,
          9,
          7,
          8,
          9,
          3,
          1,
          2,
          3,
          6,
          4,
          8,
          4,
          3,
          3,
          1,
          2,
          9,
          8,
          7,
          0,
          5,
          3,
          2,
          8,
          7,
          3,
          6,
          1,
          3,
          8,
          6,
          2,
          6,
          3,
          2,
          5,
          2,
          6,
          3,
          8
         ],
         "textfont": {
          "color": "white"
         },
         "textposition": "middle center",
         "type": "scatter3d",
         "x": [
          -0.6936049461364746,
          -0.3766995966434479,
          -0.18300692737102509,
          0.4184521734714508,
          0.6116977334022522,
          0.5948353409767151,
          0.2238602489233017,
          0.5924594402313232,
          0.6467772722244263,
          0.27970054745674133,
          0.6082724332809448,
          -0.42910176515579224,
          -0.7209488749504089,
          0.2755519449710846,
          -0.6999860405921936,
          0.4568304121494293,
          -0.9468228220939636,
          0.5944804549217224,
          -0.7181033492088318,
          0.5782637000083923,
          0.5927153825759888,
          -0.2498995065689087,
          -0.1851898431777954,
          -0.9479421973228455,
          0.5922346711158752,
          0.602054238319397,
          0.26773014664649963,
          -0.6825313568115234,
          -0.15883086621761322,
          -0.8085678219795227,
          0.32194405794143677,
          0.9804566502571106,
          -0.25707268714904785,
          0.41295069456100464,
          0.6136465072631836,
          0.27812644839286804,
          0.10688023269176483,
          0.9802302718162537,
          -0.32993295788764954,
          -0.17863596975803375,
          -0.9424078464508057,
          -0.4254320561885834,
          -0.6988675594329834,
          -0.7166744470596313,
          0.6094671487808228,
          -0.6813110113143921,
          -0.7070804834365845,
          0.5846108794212341,
          -0.9466585516929626,
          -0.2551459074020386,
          0.12180568277835846,
          -0.9453151226043701,
          0.5776747465133667,
          0.12924836575984955,
          0.15037225186824799,
          0.6220600605010986,
          -0.26299384236335754,
          0.689908504486084,
          0.5560619831085205,
          -0.9426229000091553,
          0.9717694520950317,
          0.605590283870697,
          0.2557370662689209,
          -0.26174160838127136,
          -0.20807133615016937,
          0.28427600860595703,
          0.07696730643510818,
          0.28247764706611633,
          -0.947155237197876,
          -0.9445577263832092,
          -0.17500458657741547,
          0.5480831265449524,
          0.10629695653915405,
          -0.6960664987564087,
          0.5950126647949219,
          -0.2575792372226715,
          0.2687535285949707,
          0.5943948030471802,
          0.3023291826248169,
          -0.2662199139595032,
          0.6144533157348633,
          0.13088704645633698,
          0.6982296109199524,
          0.5643327832221985,
          -0.7138023972511292,
          0.6319695115089417,
          0.5996781587600708,
          -0.723641037940979,
          -0.26621073484420776,
          -0.6833928227424622,
          -0.4701291620731354,
          -0.9459646940231323,
          -0.9502786993980408,
          0.29284417629241943,
          0.2867661118507385,
          -0.16157446801662445,
          0.6398127675056458,
          -0.6823843121528625,
          -0.722331702709198,
          -0.7013736367225647,
          -0.1342996209859848,
          -0.6838899850845337,
          0.09163709729909897,
          -0.2816314697265625,
          -0.944913387298584,
          -0.6789399981498718,
          -0.15463273227214813,
          0.0654967650771141,
          0.05624181777238846,
          -0.2551238536834717,
          0.9761925935745239,
          -0.6660340428352356,
          0.975493848323822,
          -0.3615027964115143,
          -0.11162550002336502,
          0.5943289399147034,
          -0.24464981257915497,
          -0.15201444923877716,
          0.9748817086219788,
          -0.1639283299446106,
          -0.9449384212493896,
          0.5351377129554749,
          0.6175866723060608,
          -0.48012059926986694,
          -0.6870111227035522,
          0.9664067029953003,
          0.13279329240322113,
          0.5860430598258972,
          -0.2714267075061798,
          -0.9478023648262024,
          -0.2659376859664917,
          0.5348738431930542,
          0.22648020088672638,
          0.2842850387096405,
          -0.42585211992263794,
          -0.9459224939346313,
          0.2727580666542053,
          -0.9485179781913757,
          -0.4242324233055115,
          -0.945311427116394,
          0.5832962989807129,
          0.9396358132362366,
          -0.690434992313385,
          -0.13747823238372803,
          -0.1426258236169815,
          0.9679210782051086,
          0.5322268605232239,
          0.2769632935523987,
          -0.36759260296821594,
          -0.16801853477954865,
          -0.2096157968044281,
          0.07391487807035446,
          -0.7409898042678833,
          -0.7120002508163452,
          -0.08707092702388763,
          -0.6696731448173523,
          -0.15089526772499084,
          -0.682868242263794,
          0.6269257664680481,
          -0.9435584545135498,
          -0.24722686409950256,
          0.8248982429504395,
          0.2336839884519577,
          -0.25341707468032837,
          -0.7205711603164673,
          0.6150946021080017,
          0.9712130427360535,
          0.9279803037643433,
          0.9854059219360352,
          -0.271377831697464,
          -0.14114750921726227,
          0.6109082698822021,
          -0.2668588161468506,
          0.9819175004959106,
          0.9655946493148804,
          0.5925479531288147,
          -0.9463437795639038,
          -0.9380464553833008,
          -0.3620203733444214,
          0.2879634201526642,
          0.5921446681022644,
          -0.4493618607521057,
          -0.24072512984275818,
          0.058144710958004,
          -0.9476358294487,
          0.597237765789032,
          0.6118160486221313,
          -0.4914854168891907,
          -0.9479764699935913,
          0.6103944778442383,
          0.9740432500839233,
          -0.41307079792022705,
          0.972588837146759,
          -0.2119138240814209,
          0.6074686646461487,
          -0.9476615786552429,
          -0.9806398749351501,
          -0.9413734078407288,
          -0.6937711238861084,
          -0.2562270164489746,
          -0.357090026140213,
          -0.9457384943962097,
          -0.1751524657011032,
          0.5508413314819336,
          0.9673611521720886,
          -0.9382848739624023,
          0.08705000579357147,
          0.2521902024745941,
          -0.9452837705612183,
          0.5754635334014893,
          0.6455263495445251,
          0.08808694034814835,
          0.8275623917579651,
          -0.9470888376235962,
          -0.2536478340625763,
          0.5675922632217407,
          0.3030078411102295,
          0.5459094047546387,
          0.07639546692371368,
          0.2979394495487213,
          0.6180542707443237,
          -0.9490455985069275,
          0.9746745228767395,
          0.6160997152328491,
          -0.15009325742721558,
          -0.29658618569374084,
          0.0908939391374588,
          -0.43932271003723145,
          0.5692620873451233,
          0.6143987774848938,
          -0.9355590343475342,
          0.9753819108009338,
          0.4128156304359436,
          0.07781464606523514,
          0.5341646075248718,
          -0.24699240922927856,
          -0.7148798108100891,
          0.45827043056488037,
          0.9739269018173218,
          0.06807125359773636,
          0.590491771697998,
          0.612466037273407,
          -0.14986851811408997,
          -0.9469169974327087,
          0.5893387794494629,
          0.0642237737774849,
          -0.1121985912322998,
          0.9706047177314758,
          -0.17282506823539734,
          0.6035730838775635,
          0.9769930243492126,
          -0.709532618522644,
          0.9351084232330322,
          -0.12626869976520538,
          0.5802862644195557,
          0.08591388911008835
         ],
         "y": [
          0.5277256369590759,
          -0.5640375018119812,
          -0.06210894137620926,
          0.19698944687843323,
          0.374069482088089,
          -0.769784152507782,
          0.20437774062156677,
          0.3151549994945526,
          -0.6904997825622559,
          0.302749365568161,
          0.3485255241394043,
          -0.560870349407196,
          0.5312526226043701,
          0.23147176206111908,
          0.5286570191383362,
          0.5586574077606201,
          -0.07634327560663223,
          -0.7732075452804565,
          0.53094482421875,
          -0.7926946878433228,
          0.34765782952308655,
          -0.9249778389930725,
          -0.13203538954257965,
          -0.06486206501722336,
          -0.7724834680557251,
          0.3666977286338806,
          0.20552393794059753,
          0.5259672403335571,
          -0.15824928879737854,
          0.5304992198944092,
          0.24092157185077667,
          0.12346922606229782,
          -0.9247965812683105,
          -0.09214742481708527,
          0.34045320749282837,
          0.21618133783340454,
          0.9791483879089355,
          0.11650263518095016,
          -0.6055560111999512,
          -0.16403108835220337,
          -0.11288661509752274,
          -0.5429955124855042,
          0.5284982919692993,
          0.5307847857475281,
          0.5525986552238464,
          0.5257629752159119,
          0.5296180248260498,
          0.38456636667251587,
          -0.0779261589050293,
          -0.9291474223136902,
          0.9868020415306091,
          -0.09008540213108063,
          -0.7872812151908875,
          0.9884802103042603,
          0.9884240627288818,
          0.34855207800865173,
          -0.917540431022644,
          0.3558739125728607,
          -0.8098700642585754,
          -0.11132717877626419,
          0.13861404359340668,
          0.4242169260978699,
          0.3586116135120392,
          -0.9218586087226868,
          -0.10336863994598389,
          0.2589375078678131,
          0.9883313775062561,
          0.24936506152153015,
          -0.07306800782680511,
          -0.09642494469881058,
          -0.1394987851381302,
          -0.7923371195793152,
          0.9897475242614746,
          0.5280923247337341,
          -0.7864214777946472,
          -0.9235374927520752,
          0.34744349122047424,
          0.3874550461769104,
          0.2569844722747803,
          -0.923904299736023,
          0.49610212445259094,
          0.9871779680252075,
          -0.7012369632720947,
          -0.7831797003746033,
          0.5304521322250366,
          -0.7647044062614441,
          0.3740262985229492,
          0.5315300226211548,
          -0.9198428392410278,
          0.5261102318763733,
          -0.5418819189071655,
          -0.08436740189790726,
          -0.08413153141736984,
          0.22854569554328918,
          0.2978455722332001,
          -0.15695931017398834,
          0.32677000761032104,
          0.5259427428245544,
          0.5313968062400818,
          0.528851330280304,
          -0.10156472772359848,
          0.5261923670768738,
          0.9881391525268555,
          -0.916769802570343,
          -0.0934884175658226,
          0.5253602266311646,
          -0.07374213635921478,
          0.9809333682060242,
          0.9936263561248779,
          -0.9278530478477478,
          0.1379028558731079,
          0.5230387449264526,
          0.14383281767368317,
          -0.5548280477523804,
          -0.18609793484210968,
          0.3507583737373352,
          -0.9260591268539429,
          -0.14580592513084412,
          0.13905256986618042,
          -0.17508955299854279,
          -0.0932794064283371,
          -0.809542715549469,
          -0.7488000392913818,
          -0.5116352438926697,
          0.5266996026039124,
          0.17586718499660492,
          -0.33658695220947266,
          0.44419610500335693,
          -0.9167459011077881,
          -0.16157762706279755,
          -0.9195146560668945,
          0.370900422334671,
          0.3145153224468231,
          0.2987249791622162,
          -0.5276705622673035,
          -0.08474840968847275,
          0.2525150775909424,
          -0.058377619832754135,
          -0.5682411193847656,
          -0.09011735022068024,
          0.3548162281513214,
          -0.08163206279277802,
          0.5272402763366699,
          -0.2083227038383484,
          -0.19454041123390198,
          0.02935463935136795,
          -0.8370005488395691,
          0.20573611557483673,
          -0.576728880405426,
          0.6494777202606201,
          -0.05326134338974953,
          -0.4861926734447479,
          0.5329729914665222,
          0.530236005783081,
          -0.22085727751255035,
          0.5237149000167847,
          -0.11703047156333923,
          0.5741623044013977,
          0.3716510534286499,
          -0.1043294295668602,
          -0.9241681098937988,
          -0.1639438271522522,
          0.17804421484470367,
          -0.9262060523033142,
          0.531212568283081,
          0.2867767810821533,
          0.14654052257537842,
          -0.36851075291633606,
          0.0583939291536808,
          -0.9172368049621582,
          -0.15909910202026367,
          -0.7542399764060974,
          -0.7492245435714722,
          -0.018259091302752495,
          0.2478456199169159,
          -0.7842164635658264,
          -0.08089526742696762,
          -0.14145171642303467,
          -0.5737776756286621,
          0.22898529469966888,
          0.5672969222068787,
          -0.5552079677581787,
          -0.9292965531349182,
          0.9878255128860474,
          -0.06813698261976242,
          0.38184189796447754,
          -0.7608076333999634,
          -0.5072618126869202,
          -0.06448788940906525,
          0.33919575810432434,
          0.2010100930929184,
          -0.4979431927204132,
          0.15640944242477417,
          -0.9305136799812317,
          -0.7700996994972229,
          -0.0678669810295105,
          -0.15541329979896545,
          -0.12016075104475021,
          0.5277506709098816,
          -0.9287853240966797,
          -0.6262134909629822,
          -0.08639097213745117,
          -0.12200266867876053,
          0.4872174859046936,
          0.16716152429580688,
          -0.1400160938501358,
          0.9784621000289917,
          0.2203538864850998,
          -0.09035450965166092,
          -0.768140971660614,
          -0.7432106137275696,
          0.987535297870636,
          -0.549444317817688,
          -0.07373017817735672,
          -0.9248088002204895,
          -0.7925679087638855,
          0.2849636375904083,
          -0.8288480043411255,
          0.9819023013114929,
          0.25604820251464844,
          0.30563023686408997,
          -0.05198880285024643,
          0.09876236319541931,
          0.3752184808254242,
          -0.1957245022058487,
          -0.665662944316864,
          0.982437252998352,
          -0.5066332221031189,
          0.3180408477783203,
          0.3559609353542328,
          -0.1557573527097702,
          0.14079146087169647,
          -0.05883602797985077,
          0.9847115874290466,
          -0.828666090965271,
          -0.9259063005447388,
          0.53057861328125,
          0.43631234765052795,
          0.13030625879764557,
          0.9850136041641235,
          -0.723655641078949,
          0.35362133383750916,
          -0.20119698345661163,
          -0.0754256322979927,
          0.37604576349258423,
          0.985507071018219,
          -0.16919778287410736,
          0.0956181213259697,
          -0.1617516726255417,
          0.3591538965702057,
          0.13965843617916107,
          0.5299311280250549,
          -0.12209433317184448,
          -0.1739262342453003,
          0.30223244428634644,
          0.9913389086723328
         ],
         "z": [
          0.4903241991996765,
          0.7348190546035767,
          -0.9811477661132812,
          0.8866188526153564,
          -0.6970637440681458,
          0.23152388632297516,
          0.9529513120651245,
          -0.7413967847824097,
          0.323866069316864,
          0.9111039638519287,
          -0.7131160497665405,
          0.7080227136611938,
          0.4449755847454071,
          0.9330015778541565,
          0.4801470637321472,
          -0.6922483444213867,
          -0.3125671446323395,
          0.2207784652709961,
          0.4499167501926422,
          0.19299264252185822,
          -0.7265138626098633,
          -0.28629735112190247,
          -0.973792314529419,
          -0.31176692247390747,
          0.22918842732906342,
          -0.7092695832252502,
          0.9413184523582458,
          0.5074537992477417,
          -0.9745408892631531,
          0.2545361816883087,
          0.9155920743942261,
          0.15316708385944366,
          -0.2804730534553528,
          0.9060797691345215,
          -0.7124111652374268,
          0.9359013438224792,
          -0.1727573722600937,
          0.15992392599582672,
          0.7241865396499634,
          -0.9701458215713501,
          -0.31483975052833557,
          0.7239913940429688,
          0.4819478392601013,
          0.45237722992897034,
          -0.5684931874275208,
          0.5093020796775818,
          0.4685530364513397,
          -0.7143799662590027,
          -0.31267425417900085,
          -0.26755499839782715,
          -0.1067008301615715,
          -0.31347087025642395,
          0.21559247374534607,
          -0.07875055819749832,
          -0.020150993019342422,
          -0.7011082172393799,
          -0.2982511818408966,
          -0.6303807497024536,
          0.186830073595047,
          -0.3147513270378113,
          0.1909193992614746,
          -0.6732758283615112,
          0.8977729678153992,
          -0.28577589988708496,
          -0.9726362228393555,
          0.9231134653091431,
          -0.13144250214099884,
          0.9262955784797668,
          -0.3123430609703064,
          -0.31386786699295044,
          -0.9746350049972534,
          0.26796770095825195,
          -0.09539851546287537,
          0.4864257574081421,
          0.16583490371704102,
          -0.2841329276561737,
          0.8983621001243591,
          -0.7046796083450317,
          0.9179085493087769,
          -0.2748231291770935,
          -0.6134573221206665,
          -0.09136880189180374,
          0.1440214216709137,
          0.26107096672058105,
          0.45728176832199097,
          0.1258639246225357,
          -0.7074535489082336,
          0.44024935364723206,
          -0.28813377022743225,
          0.5061444640159607,
          0.6966652870178223,
          -0.31310197710990906,
          -0.29982057213783264,
          0.9284444451332092,
          0.9105236530303955,
          -0.9742984175682068,
          -0.6956011652946472,
          0.5076770186424255,
          0.4425543248653412,
          0.47790297865867615,
          -0.9857221245765686,
          0.5053870677947998,
          -0.12322182208299637,
          -0.2832258641719818,
          -0.31368550658226013,
          0.5128714442253113,
          -0.9852161407470703,
          -0.18297523260116577,
          -0.09769035875797272,
          -0.27203041315078735,
          0.1674240678548813,
          0.531816840171814,
          0.16650453209877014,
          0.7493207454681396,
          -0.9761697053909302,
          -0.7236999869346619,
          -0.28733405470848083,
          -0.9775644540786743,
          0.17398296296596527,
          -0.9708095788955688,
          -0.3136724531650543,
          0.24138827621936798,
          0.24059349298477173,
          0.7125401496887207,
          0.5006028413772583,
          0.1874268651008606,
          0.9322420358657837,
          -0.6776750683784485,
          -0.2930947244167328,
          -0.2748878598213196,
          -0.28943026065826416,
          -0.7591724395751953,
          0.9218388795852661,
          0.9110133647918701,
          0.7349923849105835,
          -0.31312689185142517,
          0.928352952003479,
          -0.3112967908382416,
          0.7050737142562866,
          -0.3134728968143463,
          -0.7306647300720215,
          0.3322962820529938,
          0.49529504776000977,
          -0.9683497548103333,
          -0.9704698920249939,
          -0.24953357875347137,
          0.12714001536369324,
          0.938596785068512,
          0.7295612096786499,
          -0.7415851354598999,
          -0.9763321280479431,
          0.8707199692726135,
          0.40850207209587097,
          0.4603317975997925,
          -0.9714117050170898,
          0.5265553593635559,
          -0.981597900390625,
          0.45169520378112793,
          -0.6847186088562012,
          -0.3143451511859894,
          -0.29119113087654114,
          -0.5409854650497437,
          0.9558723568916321,
          -0.27914541959762573,
          0.445634663105011,
          -0.7344505190849304,
          0.18780609965324402,
          -0.055248815566301346,
          0.1598912924528122,
          -0.29160037636756897,
          -0.9771206974983215,
          0.24065130949020386,
          -0.6061757206916809,
          0.18842680752277374,
          0.07873749732971191,
          0.1840965747833252,
          -0.3128730058670044,
          -0.31632307171821594,
          0.7346566915512085,
          0.9298617243766785,
          -0.5723100900650024,
          0.6998700499534607,
          -0.28010591864585876,
          -0.14429135620594025,
          -0.3119993507862091,
          -0.7053395509719849,
          0.21645517647266388,
          0.7079036235809326,
          -0.3117401599884033,
          -0.715796709060669,
          0.10408981144428253,
          0.7625123262405396,
          0.17206688225269318,
          -0.2987254858016968,
          0.19475184381008148,
          -0.31198030710220337,
          -0.11913065612316132,
          -0.3152419924736023,
          0.4900621473789215,
          -0.26777878403663635,
          0.6930680871009827,
          -0.31323373317718506,
          -0.9769529104232788,
          -0.6776377558708191,
          0.1904454082250595,
          -0.31625473499298096,
          -0.18717439472675323,
          0.942254900932312,
          -0.3134879469871521,
          0.28071537613868713,
          0.17587973177433014,
          -0.13044044375419617,
          0.1151144877076149,
          -0.3123886287212372,
          -0.2835337221622467,
          0.2228793054819107,
          0.9093854427337646,
          0.12244969606399536,
          -0.1732967495918274,
          0.9196038842201233,
          -0.7242920994758606,
          -0.3108208477497101,
          0.20063766837120056,
          -0.6925548315048218,
          -0.9691047072410583,
          0.6847842931747437,
          -0.16295823454856873,
          0.7418344616889954,
          -0.7581494450569153,
          -0.7041349411010742,
          -0.3169683516025543,
          0.16972877085208893,
          0.9089122414588928,
          -0.15584644675254822,
          0.16727429628372192,
          -0.285818487405777,
          0.4554482698440552,
          -0.7743512392044067,
          0.1857057362794876,
          -0.15847556293010712,
          0.3572702407836914,
          -0.7069917321205139,
          -0.9680182337760925,
          -0.31250467896461487,
          -0.7150309681892395,
          -0.1570066660642624,
          -0.9791749715805054,
          0.2208700180053711,
          -0.9715800881385803,
          -0.7118343114852905,
          0.16118410229682922,
          0.4644744396209717,
          0.33266374468803406,
          -0.9766298532485962,
          -0.7562561631202698,
          -0.09932758659124374
         ]
        }
       ],
       "layout": {
        "coloraxis": {
         "colorbar": {
          "title": {
           "text": "label"
          }
         },
         "colorscale": [
          [
           0,
           "#0d0887"
          ],
          [
           0.1111111111111111,
           "#46039f"
          ],
          [
           0.2222222222222222,
           "#7201a8"
          ],
          [
           0.3333333333333333,
           "#9c179e"
          ],
          [
           0.4444444444444444,
           "#bd3786"
          ],
          [
           0.5555555555555556,
           "#d8576b"
          ],
          [
           0.6666666666666666,
           "#ed7953"
          ],
          [
           0.7777777777777778,
           "#fb9f3a"
          ],
          [
           0.8888888888888888,
           "#fdca26"
          ],
          [
           1,
           "#f0f921"
          ]
         ]
        },
        "legend": {
         "tracegroupgap": 0
        },
        "margin": {
         "t": 60
        },
        "scene": {
         "domain": {
          "x": [
           0,
           1
          ],
          "y": [
           0,
           1
          ]
         },
         "xaxis": {
          "title": {
           "text": "x"
          }
         },
         "yaxis": {
          "title": {
           "text": "y"
          }
         },
         "zaxis": {
          "title": {
           "text": "z"
          }
         }
        },
        "template": {
         "data": {
          "bar": [
           {
            "error_x": {
             "color": "#2a3f5f"
            },
            "error_y": {
             "color": "#2a3f5f"
            },
            "marker": {
             "line": {
              "color": "#E5ECF6",
              "width": 0.5
             },
             "pattern": {
              "fillmode": "overlay",
              "size": 10,
              "solidity": 0.2
             }
            },
            "type": "bar"
           }
          ],
          "barpolar": [
           {
            "marker": {
             "line": {
              "color": "#E5ECF6",
              "width": 0.5
             },
             "pattern": {
              "fillmode": "overlay",
              "size": 10,
              "solidity": 0.2
             }
            },
            "type": "barpolar"
           }
          ],
          "carpet": [
           {
            "aaxis": {
             "endlinecolor": "#2a3f5f",
             "gridcolor": "white",
             "linecolor": "white",
             "minorgridcolor": "white",
             "startlinecolor": "#2a3f5f"
            },
            "baxis": {
             "endlinecolor": "#2a3f5f",
             "gridcolor": "white",
             "linecolor": "white",
             "minorgridcolor": "white",
             "startlinecolor": "#2a3f5f"
            },
            "type": "carpet"
           }
          ],
          "choropleth": [
           {
            "colorbar": {
             "outlinewidth": 0,
             "ticks": ""
            },
            "type": "choropleth"
           }
          ],
          "contour": [
           {
            "colorbar": {
             "outlinewidth": 0,
             "ticks": ""
            },
            "colorscale": [
             [
              0,
              "#0d0887"
             ],
             [
              0.1111111111111111,
              "#46039f"
             ],
             [
              0.2222222222222222,
              "#7201a8"
             ],
             [
              0.3333333333333333,
              "#9c179e"
             ],
             [
              0.4444444444444444,
              "#bd3786"
             ],
             [
              0.5555555555555556,
              "#d8576b"
             ],
             [
              0.6666666666666666,
              "#ed7953"
             ],
             [
              0.7777777777777778,
              "#fb9f3a"
             ],
             [
              0.8888888888888888,
              "#fdca26"
             ],
             [
              1,
              "#f0f921"
             ]
            ],
            "type": "contour"
           }
          ],
          "contourcarpet": [
           {
            "colorbar": {
             "outlinewidth": 0,
             "ticks": ""
            },
            "type": "contourcarpet"
           }
          ],
          "heatmap": [
           {
            "colorbar": {
             "outlinewidth": 0,
             "ticks": ""
            },
            "colorscale": [
             [
              0,
              "#0d0887"
             ],
             [
              0.1111111111111111,
              "#46039f"
             ],
             [
              0.2222222222222222,
              "#7201a8"
             ],
             [
              0.3333333333333333,
              "#9c179e"
             ],
             [
              0.4444444444444444,
              "#bd3786"
             ],
             [
              0.5555555555555556,
              "#d8576b"
             ],
             [
              0.6666666666666666,
              "#ed7953"
             ],
             [
              0.7777777777777778,
              "#fb9f3a"
             ],
             [
              0.8888888888888888,
              "#fdca26"
             ],
             [
              1,
              "#f0f921"
             ]
            ],
            "type": "heatmap"
           }
          ],
          "heatmapgl": [
           {
            "colorbar": {
             "outlinewidth": 0,
             "ticks": ""
            },
            "colorscale": [
             [
              0,
              "#0d0887"
             ],
             [
              0.1111111111111111,
              "#46039f"
             ],
             [
              0.2222222222222222,
              "#7201a8"
             ],
             [
              0.3333333333333333,
              "#9c179e"
             ],
             [
              0.4444444444444444,
              "#bd3786"
             ],
             [
              0.5555555555555556,
              "#d8576b"
             ],
             [
              0.6666666666666666,
              "#ed7953"
             ],
             [
              0.7777777777777778,
              "#fb9f3a"
             ],
             [
              0.8888888888888888,
              "#fdca26"
             ],
             [
              1,
              "#f0f921"
             ]
            ],
            "type": "heatmapgl"
           }
          ],
          "histogram": [
           {
            "marker": {
             "pattern": {
              "fillmode": "overlay",
              "size": 10,
              "solidity": 0.2
             }
            },
            "type": "histogram"
           }
          ],
          "histogram2d": [
           {
            "colorbar": {
             "outlinewidth": 0,
             "ticks": ""
            },
            "colorscale": [
             [
              0,
              "#0d0887"
             ],
             [
              0.1111111111111111,
              "#46039f"
             ],
             [
              0.2222222222222222,
              "#7201a8"
             ],
             [
              0.3333333333333333,
              "#9c179e"
             ],
             [
              0.4444444444444444,
              "#bd3786"
             ],
             [
              0.5555555555555556,
              "#d8576b"
             ],
             [
              0.6666666666666666,
              "#ed7953"
             ],
             [
              0.7777777777777778,
              "#fb9f3a"
             ],
             [
              0.8888888888888888,
              "#fdca26"
             ],
             [
              1,
              "#f0f921"
             ]
            ],
            "type": "histogram2d"
           }
          ],
          "histogram2dcontour": [
           {
            "colorbar": {
             "outlinewidth": 0,
             "ticks": ""
            },
            "colorscale": [
             [
              0,
              "#0d0887"
             ],
             [
              0.1111111111111111,
              "#46039f"
             ],
             [
              0.2222222222222222,
              "#7201a8"
             ],
             [
              0.3333333333333333,
              "#9c179e"
             ],
             [
              0.4444444444444444,
              "#bd3786"
             ],
             [
              0.5555555555555556,
              "#d8576b"
             ],
             [
              0.6666666666666666,
              "#ed7953"
             ],
             [
              0.7777777777777778,
              "#fb9f3a"
             ],
             [
              0.8888888888888888,
              "#fdca26"
             ],
             [
              1,
              "#f0f921"
             ]
            ],
            "type": "histogram2dcontour"
           }
          ],
          "mesh3d": [
           {
            "colorbar": {
             "outlinewidth": 0,
             "ticks": ""
            },
            "type": "mesh3d"
           }
          ],
          "parcoords": [
           {
            "line": {
             "colorbar": {
              "outlinewidth": 0,
              "ticks": ""
             }
            },
            "type": "parcoords"
           }
          ],
          "pie": [
           {
            "automargin": true,
            "type": "pie"
           }
          ],
          "scatter": [
           {
            "fillpattern": {
             "fillmode": "overlay",
             "size": 10,
             "solidity": 0.2
            },
            "type": "scatter"
           }
          ],
          "scatter3d": [
           {
            "line": {
             "colorbar": {
              "outlinewidth": 0,
              "ticks": ""
             }
            },
            "marker": {
             "colorbar": {
              "outlinewidth": 0,
              "ticks": ""
             }
            },
            "type": "scatter3d"
           }
          ],
          "scattercarpet": [
           {
            "marker": {
             "colorbar": {
              "outlinewidth": 0,
              "ticks": ""
             }
            },
            "type": "scattercarpet"
           }
          ],
          "scattergeo": [
           {
            "marker": {
             "colorbar": {
              "outlinewidth": 0,
              "ticks": ""
             }
            },
            "type": "scattergeo"
           }
          ],
          "scattergl": [
           {
            "marker": {
             "colorbar": {
              "outlinewidth": 0,
              "ticks": ""
             }
            },
            "type": "scattergl"
           }
          ],
          "scattermapbox": [
           {
            "marker": {
             "colorbar": {
              "outlinewidth": 0,
              "ticks": ""
             }
            },
            "type": "scattermapbox"
           }
          ],
          "scatterpolar": [
           {
            "marker": {
             "colorbar": {
              "outlinewidth": 0,
              "ticks": ""
             }
            },
            "type": "scatterpolar"
           }
          ],
          "scatterpolargl": [
           {
            "marker": {
             "colorbar": {
              "outlinewidth": 0,
              "ticks": ""
             }
            },
            "type": "scatterpolargl"
           }
          ],
          "scatterternary": [
           {
            "marker": {
             "colorbar": {
              "outlinewidth": 0,
              "ticks": ""
             }
            },
            "type": "scatterternary"
           }
          ],
          "surface": [
           {
            "colorbar": {
             "outlinewidth": 0,
             "ticks": ""
            },
            "colorscale": [
             [
              0,
              "#0d0887"
             ],
             [
              0.1111111111111111,
              "#46039f"
             ],
             [
              0.2222222222222222,
              "#7201a8"
             ],
             [
              0.3333333333333333,
              "#9c179e"
             ],
             [
              0.4444444444444444,
              "#bd3786"
             ],
             [
              0.5555555555555556,
              "#d8576b"
             ],
             [
              0.6666666666666666,
              "#ed7953"
             ],
             [
              0.7777777777777778,
              "#fb9f3a"
             ],
             [
              0.8888888888888888,
              "#fdca26"
             ],
             [
              1,
              "#f0f921"
             ]
            ],
            "type": "surface"
           }
          ],
          "table": [
           {
            "cells": {
             "fill": {
              "color": "#EBF0F8"
             },
             "line": {
              "color": "white"
             }
            },
            "header": {
             "fill": {
              "color": "#C8D4E3"
             },
             "line": {
              "color": "white"
             }
            },
            "type": "table"
           }
          ]
         },
         "layout": {
          "annotationdefaults": {
           "arrowcolor": "#2a3f5f",
           "arrowhead": 0,
           "arrowwidth": 1
          },
          "autotypenumbers": "strict",
          "coloraxis": {
           "colorbar": {
            "outlinewidth": 0,
            "ticks": ""
           }
          },
          "colorscale": {
           "diverging": [
            [
             0,
             "#8e0152"
            ],
            [
             0.1,
             "#c51b7d"
            ],
            [
             0.2,
             "#de77ae"
            ],
            [
             0.3,
             "#f1b6da"
            ],
            [
             0.4,
             "#fde0ef"
            ],
            [
             0.5,
             "#f7f7f7"
            ],
            [
             0.6,
             "#e6f5d0"
            ],
            [
             0.7,
             "#b8e186"
            ],
            [
             0.8,
             "#7fbc41"
            ],
            [
             0.9,
             "#4d9221"
            ],
            [
             1,
             "#276419"
            ]
           ],
           "sequential": [
            [
             0,
             "#0d0887"
            ],
            [
             0.1111111111111111,
             "#46039f"
            ],
            [
             0.2222222222222222,
             "#7201a8"
            ],
            [
             0.3333333333333333,
             "#9c179e"
            ],
            [
             0.4444444444444444,
             "#bd3786"
            ],
            [
             0.5555555555555556,
             "#d8576b"
            ],
            [
             0.6666666666666666,
             "#ed7953"
            ],
            [
             0.7777777777777778,
             "#fb9f3a"
            ],
            [
             0.8888888888888888,
             "#fdca26"
            ],
            [
             1,
             "#f0f921"
            ]
           ],
           "sequentialminus": [
            [
             0,
             "#0d0887"
            ],
            [
             0.1111111111111111,
             "#46039f"
            ],
            [
             0.2222222222222222,
             "#7201a8"
            ],
            [
             0.3333333333333333,
             "#9c179e"
            ],
            [
             0.4444444444444444,
             "#bd3786"
            ],
            [
             0.5555555555555556,
             "#d8576b"
            ],
            [
             0.6666666666666666,
             "#ed7953"
            ],
            [
             0.7777777777777778,
             "#fb9f3a"
            ],
            [
             0.8888888888888888,
             "#fdca26"
            ],
            [
             1,
             "#f0f921"
            ]
           ]
          },
          "colorway": [
           "#636efa",
           "#EF553B",
           "#00cc96",
           "#ab63fa",
           "#FFA15A",
           "#19d3f3",
           "#FF6692",
           "#B6E880",
           "#FF97FF",
           "#FECB52"
          ],
          "font": {
           "color": "#2a3f5f"
          },
          "geo": {
           "bgcolor": "white",
           "lakecolor": "white",
           "landcolor": "#E5ECF6",
           "showlakes": true,
           "showland": true,
           "subunitcolor": "white"
          },
          "hoverlabel": {
           "align": "left"
          },
          "hovermode": "closest",
          "mapbox": {
           "style": "light"
          },
          "paper_bgcolor": "white",
          "plot_bgcolor": "#E5ECF6",
          "polar": {
           "angularaxis": {
            "gridcolor": "white",
            "linecolor": "white",
            "ticks": ""
           },
           "bgcolor": "#E5ECF6",
           "radialaxis": {
            "gridcolor": "white",
            "linecolor": "white",
            "ticks": ""
           }
          },
          "scene": {
           "xaxis": {
            "backgroundcolor": "#E5ECF6",
            "gridcolor": "white",
            "gridwidth": 2,
            "linecolor": "white",
            "showbackground": true,
            "ticks": "",
            "zerolinecolor": "white"
           },
           "yaxis": {
            "backgroundcolor": "#E5ECF6",
            "gridcolor": "white",
            "gridwidth": 2,
            "linecolor": "white",
            "showbackground": true,
            "ticks": "",
            "zerolinecolor": "white"
           },
           "zaxis": {
            "backgroundcolor": "#E5ECF6",
            "gridcolor": "white",
            "gridwidth": 2,
            "linecolor": "white",
            "showbackground": true,
            "ticks": "",
            "zerolinecolor": "white"
           }
          },
          "shapedefaults": {
           "line": {
            "color": "#2a3f5f"
           }
          },
          "ternary": {
           "aaxis": {
            "gridcolor": "white",
            "linecolor": "white",
            "ticks": ""
           },
           "baxis": {
            "gridcolor": "white",
            "linecolor": "white",
            "ticks": ""
           },
           "bgcolor": "#E5ECF6",
           "caxis": {
            "gridcolor": "white",
            "linecolor": "white",
            "ticks": ""
           }
          },
          "title": {
           "x": 0.05
          },
          "xaxis": {
           "automargin": true,
           "gridcolor": "white",
           "linecolor": "white",
           "ticks": "",
           "title": {
            "standoff": 15
           },
           "zerolinecolor": "white",
           "zerolinewidth": 2
          },
          "yaxis": {
           "automargin": true,
           "gridcolor": "white",
           "linecolor": "white",
           "ticks": "",
           "title": {
            "standoff": 15
           },
           "zerolinecolor": "white",
           "zerolinewidth": 2
          }
         }
        }
       }
      },
      "text/html": [
       "<div>                            <div id=\"8432b773-576b-4bf1-9006-06a9654b386e\" class=\"plotly-graph-div\" style=\"height:525px; width:100%;\"></div>            <script type=\"text/javascript\">                require([\"plotly\"], function(Plotly) {                    window.PLOTLYENV=window.PLOTLYENV || {};                                    if (document.getElementById(\"8432b773-576b-4bf1-9006-06a9654b386e\")) {                    Plotly.newPlot(                        \"8432b773-576b-4bf1-9006-06a9654b386e\",                        [{\"hovertemplate\":\"x=%{x}<br>y=%{y}<br>z=%{z}<br>label=%{marker.color}<extra></extra>\",\"legendgroup\":\"\",\"marker\":{\"color\":[5,4,6,9,3,7,9,3,7,9,3,4,5,9,5,3,1,7,5,7,3,0,6,1,7,3,9,5,6,5,9,2,0,9,3,9,8,2,4,6,1,4,5,5,3,5,5,3,1,0,8,1,7,8,8,3,0,3,7,1,2,3,9,0,6,9,8,9,1,1,6,7,8,5,7,0,9,3,9,0,3,8,7,7,5,7,3,5,0,5,4,1,9,9,9,6,3,5,5,5,6,5,8,0,1,5,6,8,8,0,2,5,2,4,6,3,0,6,2,6,1,7,7,4,5,2,4,3,0,1,0,3,9,9,4,1,9,1,4,1,3,2,5,6,6,2,7,9,4,5,6,4,5,5,6,5,6,5,3,1,0,7,9,0,5,3,2,2,2,0,6,7,8,2,2,7,1,1,4,9,3,4,0,8,1,3,7,4,1,3,2,4,2,6,7,1,1,1,5,0,4,1,6,3,2,1,8,9,1,7,7,8,2,1,0,7,9,7,8,9,3,1,2,3,6,4,8,4,3,3,1,2,9,8,7,0,5,3,2,8,7,3,6,1,3,8,6,2,6,3,2,5,2,6,3,8],\"coloraxis\":\"coloraxis\",\"opacity\":1.0,\"symbol\":\"circle\",\"size\":5},\"mode\":\"markers+text\",\"name\":\"\",\"scene\":\"scene\",\"showlegend\":false,\"text\":[5.0,4.0,6.0,9.0,3.0,7.0,9.0,3.0,7.0,9.0,3.0,4.0,5.0,9.0,5.0,3.0,1.0,7.0,5.0,7.0,3.0,0.0,6.0,1.0,7.0,3.0,9.0,5.0,6.0,5.0,9.0,2.0,0.0,9.0,3.0,9.0,8.0,2.0,4.0,6.0,1.0,4.0,5.0,5.0,3.0,5.0,5.0,3.0,1.0,0.0,8.0,1.0,7.0,8.0,8.0,3.0,0.0,3.0,7.0,1.0,2.0,3.0,9.0,0.0,6.0,9.0,8.0,9.0,1.0,1.0,6.0,7.0,8.0,5.0,7.0,0.0,9.0,3.0,9.0,0.0,3.0,8.0,7.0,7.0,5.0,7.0,3.0,5.0,0.0,5.0,4.0,1.0,9.0,9.0,9.0,6.0,3.0,5.0,5.0,5.0,6.0,5.0,8.0,0.0,1.0,5.0,6.0,8.0,8.0,0.0,2.0,5.0,2.0,4.0,6.0,3.0,0.0,6.0,2.0,6.0,1.0,7.0,7.0,4.0,5.0,2.0,4.0,3.0,0.0,1.0,0.0,3.0,9.0,9.0,4.0,1.0,9.0,1.0,4.0,1.0,3.0,2.0,5.0,6.0,6.0,2.0,7.0,9.0,4.0,5.0,6.0,4.0,5.0,5.0,6.0,5.0,6.0,5.0,3.0,1.0,0.0,7.0,9.0,0.0,5.0,3.0,2.0,2.0,2.0,0.0,6.0,7.0,8.0,2.0,2.0,7.0,1.0,1.0,4.0,9.0,3.0,4.0,0.0,8.0,1.0,3.0,7.0,4.0,1.0,3.0,2.0,4.0,2.0,6.0,7.0,1.0,1.0,1.0,5.0,0.0,4.0,1.0,6.0,3.0,2.0,1.0,8.0,9.0,1.0,7.0,7.0,8.0,2.0,1.0,0.0,7.0,9.0,7.0,8.0,9.0,3.0,1.0,2.0,3.0,6.0,4.0,8.0,4.0,3.0,3.0,1.0,2.0,9.0,8.0,7.0,0.0,5.0,3.0,2.0,8.0,7.0,3.0,6.0,1.0,3.0,8.0,6.0,2.0,6.0,3.0,2.0,5.0,2.0,6.0,3.0,8.0],\"x\":[-0.6936049461364746,-0.3766995966434479,-0.18300692737102509,0.4184521734714508,0.6116977334022522,0.5948353409767151,0.2238602489233017,0.5924594402313232,0.6467772722244263,0.27970054745674133,0.6082724332809448,-0.42910176515579224,-0.7209488749504089,0.2755519449710846,-0.6999860405921936,0.4568304121494293,-0.9468228220939636,0.5944804549217224,-0.7181033492088318,0.5782637000083923,0.5927153825759888,-0.2498995065689087,-0.1851898431777954,-0.9479421973228455,0.5922346711158752,0.602054238319397,0.26773014664649963,-0.6825313568115234,-0.15883086621761322,-0.8085678219795227,0.32194405794143677,0.9804566502571106,-0.25707268714904785,0.41295069456100464,0.6136465072631836,0.27812644839286804,0.10688023269176483,0.9802302718162537,-0.32993295788764954,-0.17863596975803375,-0.9424078464508057,-0.4254320561885834,-0.6988675594329834,-0.7166744470596313,0.6094671487808228,-0.6813110113143921,-0.7070804834365845,0.5846108794212341,-0.9466585516929626,-0.2551459074020386,0.12180568277835846,-0.9453151226043701,0.5776747465133667,0.12924836575984955,0.15037225186824799,0.6220600605010986,-0.26299384236335754,0.689908504486084,0.5560619831085205,-0.9426229000091553,0.9717694520950317,0.605590283870697,0.2557370662689209,-0.26174160838127136,-0.20807133615016937,0.28427600860595703,0.07696730643510818,0.28247764706611633,-0.947155237197876,-0.9445577263832092,-0.17500458657741547,0.5480831265449524,0.10629695653915405,-0.6960664987564087,0.5950126647949219,-0.2575792372226715,0.2687535285949707,0.5943948030471802,0.3023291826248169,-0.2662199139595032,0.6144533157348633,0.13088704645633698,0.6982296109199524,0.5643327832221985,-0.7138023972511292,0.6319695115089417,0.5996781587600708,-0.723641037940979,-0.26621073484420776,-0.6833928227424622,-0.4701291620731354,-0.9459646940231323,-0.9502786993980408,0.29284417629241943,0.2867661118507385,-0.16157446801662445,0.6398127675056458,-0.6823843121528625,-0.722331702709198,-0.7013736367225647,-0.1342996209859848,-0.6838899850845337,0.09163709729909897,-0.2816314697265625,-0.944913387298584,-0.6789399981498718,-0.15463273227214813,0.0654967650771141,0.05624181777238846,-0.2551238536834717,0.9761925935745239,-0.6660340428352356,0.975493848323822,-0.3615027964115143,-0.11162550002336502,0.5943289399147034,-0.24464981257915497,-0.15201444923877716,0.9748817086219788,-0.1639283299446106,-0.9449384212493896,0.5351377129554749,0.6175866723060608,-0.48012059926986694,-0.6870111227035522,0.9664067029953003,0.13279329240322113,0.5860430598258972,-0.2714267075061798,-0.9478023648262024,-0.2659376859664917,0.5348738431930542,0.22648020088672638,0.2842850387096405,-0.42585211992263794,-0.9459224939346313,0.2727580666542053,-0.9485179781913757,-0.4242324233055115,-0.945311427116394,0.5832962989807129,0.9396358132362366,-0.690434992313385,-0.13747823238372803,-0.1426258236169815,0.9679210782051086,0.5322268605232239,0.2769632935523987,-0.36759260296821594,-0.16801853477954865,-0.2096157968044281,0.07391487807035446,-0.7409898042678833,-0.7120002508163452,-0.08707092702388763,-0.6696731448173523,-0.15089526772499084,-0.682868242263794,0.6269257664680481,-0.9435584545135498,-0.24722686409950256,0.8248982429504395,0.2336839884519577,-0.25341707468032837,-0.7205711603164673,0.6150946021080017,0.9712130427360535,0.9279803037643433,0.9854059219360352,-0.271377831697464,-0.14114750921726227,0.6109082698822021,-0.2668588161468506,0.9819175004959106,0.9655946493148804,0.5925479531288147,-0.9463437795639038,-0.9380464553833008,-0.3620203733444214,0.2879634201526642,0.5921446681022644,-0.4493618607521057,-0.24072512984275818,0.058144710958004,-0.9476358294487,0.597237765789032,0.6118160486221313,-0.4914854168891907,-0.9479764699935913,0.6103944778442383,0.9740432500839233,-0.41307079792022705,0.972588837146759,-0.2119138240814209,0.6074686646461487,-0.9476615786552429,-0.9806398749351501,-0.9413734078407288,-0.6937711238861084,-0.2562270164489746,-0.357090026140213,-0.9457384943962097,-0.1751524657011032,0.5508413314819336,0.9673611521720886,-0.9382848739624023,0.08705000579357147,0.2521902024745941,-0.9452837705612183,0.5754635334014893,0.6455263495445251,0.08808694034814835,0.8275623917579651,-0.9470888376235962,-0.2536478340625763,0.5675922632217407,0.3030078411102295,0.5459094047546387,0.07639546692371368,0.2979394495487213,0.6180542707443237,-0.9490455985069275,0.9746745228767395,0.6160997152328491,-0.15009325742721558,-0.29658618569374084,0.0908939391374588,-0.43932271003723145,0.5692620873451233,0.6143987774848938,-0.9355590343475342,0.9753819108009338,0.4128156304359436,0.07781464606523514,0.5341646075248718,-0.24699240922927856,-0.7148798108100891,0.45827043056488037,0.9739269018173218,0.06807125359773636,0.590491771697998,0.612466037273407,-0.14986851811408997,-0.9469169974327087,0.5893387794494629,0.0642237737774849,-0.1121985912322998,0.9706047177314758,-0.17282506823539734,0.6035730838775635,0.9769930243492126,-0.709532618522644,0.9351084232330322,-0.12626869976520538,0.5802862644195557,0.08591388911008835],\"y\":[0.5277256369590759,-0.5640375018119812,-0.06210894137620926,0.19698944687843323,0.374069482088089,-0.769784152507782,0.20437774062156677,0.3151549994945526,-0.6904997825622559,0.302749365568161,0.3485255241394043,-0.560870349407196,0.5312526226043701,0.23147176206111908,0.5286570191383362,0.5586574077606201,-0.07634327560663223,-0.7732075452804565,0.53094482421875,-0.7926946878433228,0.34765782952308655,-0.9249778389930725,-0.13203538954257965,-0.06486206501722336,-0.7724834680557251,0.3666977286338806,0.20552393794059753,0.5259672403335571,-0.15824928879737854,0.5304992198944092,0.24092157185077667,0.12346922606229782,-0.9247965812683105,-0.09214742481708527,0.34045320749282837,0.21618133783340454,0.9791483879089355,0.11650263518095016,-0.6055560111999512,-0.16403108835220337,-0.11288661509752274,-0.5429955124855042,0.5284982919692993,0.5307847857475281,0.5525986552238464,0.5257629752159119,0.5296180248260498,0.38456636667251587,-0.0779261589050293,-0.9291474223136902,0.9868020415306091,-0.09008540213108063,-0.7872812151908875,0.9884802103042603,0.9884240627288818,0.34855207800865173,-0.917540431022644,0.3558739125728607,-0.8098700642585754,-0.11132717877626419,0.13861404359340668,0.4242169260978699,0.3586116135120392,-0.9218586087226868,-0.10336863994598389,0.2589375078678131,0.9883313775062561,0.24936506152153015,-0.07306800782680511,-0.09642494469881058,-0.1394987851381302,-0.7923371195793152,0.9897475242614746,0.5280923247337341,-0.7864214777946472,-0.9235374927520752,0.34744349122047424,0.3874550461769104,0.2569844722747803,-0.923904299736023,0.49610212445259094,0.9871779680252075,-0.7012369632720947,-0.7831797003746033,0.5304521322250366,-0.7647044062614441,0.3740262985229492,0.5315300226211548,-0.9198428392410278,0.5261102318763733,-0.5418819189071655,-0.08436740189790726,-0.08413153141736984,0.22854569554328918,0.2978455722332001,-0.15695931017398834,0.32677000761032104,0.5259427428245544,0.5313968062400818,0.528851330280304,-0.10156472772359848,0.5261923670768738,0.9881391525268555,-0.916769802570343,-0.0934884175658226,0.5253602266311646,-0.07374213635921478,0.9809333682060242,0.9936263561248779,-0.9278530478477478,0.1379028558731079,0.5230387449264526,0.14383281767368317,-0.5548280477523804,-0.18609793484210968,0.3507583737373352,-0.9260591268539429,-0.14580592513084412,0.13905256986618042,-0.17508955299854279,-0.0932794064283371,-0.809542715549469,-0.7488000392913818,-0.5116352438926697,0.5266996026039124,0.17586718499660492,-0.33658695220947266,0.44419610500335693,-0.9167459011077881,-0.16157762706279755,-0.9195146560668945,0.370900422334671,0.3145153224468231,0.2987249791622162,-0.5276705622673035,-0.08474840968847275,0.2525150775909424,-0.058377619832754135,-0.5682411193847656,-0.09011735022068024,0.3548162281513214,-0.08163206279277802,0.5272402763366699,-0.2083227038383484,-0.19454041123390198,0.02935463935136795,-0.8370005488395691,0.20573611557483673,-0.576728880405426,0.6494777202606201,-0.05326134338974953,-0.4861926734447479,0.5329729914665222,0.530236005783081,-0.22085727751255035,0.5237149000167847,-0.11703047156333923,0.5741623044013977,0.3716510534286499,-0.1043294295668602,-0.9241681098937988,-0.1639438271522522,0.17804421484470367,-0.9262060523033142,0.531212568283081,0.2867767810821533,0.14654052257537842,-0.36851075291633606,0.0583939291536808,-0.9172368049621582,-0.15909910202026367,-0.7542399764060974,-0.7492245435714722,-0.018259091302752495,0.2478456199169159,-0.7842164635658264,-0.08089526742696762,-0.14145171642303467,-0.5737776756286621,0.22898529469966888,0.5672969222068787,-0.5552079677581787,-0.9292965531349182,0.9878255128860474,-0.06813698261976242,0.38184189796447754,-0.7608076333999634,-0.5072618126869202,-0.06448788940906525,0.33919575810432434,0.2010100930929184,-0.4979431927204132,0.15640944242477417,-0.9305136799812317,-0.7700996994972229,-0.0678669810295105,-0.15541329979896545,-0.12016075104475021,0.5277506709098816,-0.9287853240966797,-0.6262134909629822,-0.08639097213745117,-0.12200266867876053,0.4872174859046936,0.16716152429580688,-0.1400160938501358,0.9784621000289917,0.2203538864850998,-0.09035450965166092,-0.768140971660614,-0.7432106137275696,0.987535297870636,-0.549444317817688,-0.07373017817735672,-0.9248088002204895,-0.7925679087638855,0.2849636375904083,-0.8288480043411255,0.9819023013114929,0.25604820251464844,0.30563023686408997,-0.05198880285024643,0.09876236319541931,0.3752184808254242,-0.1957245022058487,-0.665662944316864,0.982437252998352,-0.5066332221031189,0.3180408477783203,0.3559609353542328,-0.1557573527097702,0.14079146087169647,-0.05883602797985077,0.9847115874290466,-0.828666090965271,-0.9259063005447388,0.53057861328125,0.43631234765052795,0.13030625879764557,0.9850136041641235,-0.723655641078949,0.35362133383750916,-0.20119698345661163,-0.0754256322979927,0.37604576349258423,0.985507071018219,-0.16919778287410736,0.0956181213259697,-0.1617516726255417,0.3591538965702057,0.13965843617916107,0.5299311280250549,-0.12209433317184448,-0.1739262342453003,0.30223244428634644,0.9913389086723328],\"z\":[0.4903241991996765,0.7348190546035767,-0.9811477661132812,0.8866188526153564,-0.6970637440681458,0.23152388632297516,0.9529513120651245,-0.7413967847824097,0.323866069316864,0.9111039638519287,-0.7131160497665405,0.7080227136611938,0.4449755847454071,0.9330015778541565,0.4801470637321472,-0.6922483444213867,-0.3125671446323395,0.2207784652709961,0.4499167501926422,0.19299264252185822,-0.7265138626098633,-0.28629735112190247,-0.973792314529419,-0.31176692247390747,0.22918842732906342,-0.7092695832252502,0.9413184523582458,0.5074537992477417,-0.9745408892631531,0.2545361816883087,0.9155920743942261,0.15316708385944366,-0.2804730534553528,0.9060797691345215,-0.7124111652374268,0.9359013438224792,-0.1727573722600937,0.15992392599582672,0.7241865396499634,-0.9701458215713501,-0.31483975052833557,0.7239913940429688,0.4819478392601013,0.45237722992897034,-0.5684931874275208,0.5093020796775818,0.4685530364513397,-0.7143799662590027,-0.31267425417900085,-0.26755499839782715,-0.1067008301615715,-0.31347087025642395,0.21559247374534607,-0.07875055819749832,-0.020150993019342422,-0.7011082172393799,-0.2982511818408966,-0.6303807497024536,0.186830073595047,-0.3147513270378113,0.1909193992614746,-0.6732758283615112,0.8977729678153992,-0.28577589988708496,-0.9726362228393555,0.9231134653091431,-0.13144250214099884,0.9262955784797668,-0.3123430609703064,-0.31386786699295044,-0.9746350049972534,0.26796770095825195,-0.09539851546287537,0.4864257574081421,0.16583490371704102,-0.2841329276561737,0.8983621001243591,-0.7046796083450317,0.9179085493087769,-0.2748231291770935,-0.6134573221206665,-0.09136880189180374,0.1440214216709137,0.26107096672058105,0.45728176832199097,0.1258639246225357,-0.7074535489082336,0.44024935364723206,-0.28813377022743225,0.5061444640159607,0.6966652870178223,-0.31310197710990906,-0.29982057213783264,0.9284444451332092,0.9105236530303955,-0.9742984175682068,-0.6956011652946472,0.5076770186424255,0.4425543248653412,0.47790297865867615,-0.9857221245765686,0.5053870677947998,-0.12322182208299637,-0.2832258641719818,-0.31368550658226013,0.5128714442253113,-0.9852161407470703,-0.18297523260116577,-0.09769035875797272,-0.27203041315078735,0.1674240678548813,0.531816840171814,0.16650453209877014,0.7493207454681396,-0.9761697053909302,-0.7236999869346619,-0.28733405470848083,-0.9775644540786743,0.17398296296596527,-0.9708095788955688,-0.3136724531650543,0.24138827621936798,0.24059349298477173,0.7125401496887207,0.5006028413772583,0.1874268651008606,0.9322420358657837,-0.6776750683784485,-0.2930947244167328,-0.2748878598213196,-0.28943026065826416,-0.7591724395751953,0.9218388795852661,0.9110133647918701,0.7349923849105835,-0.31312689185142517,0.928352952003479,-0.3112967908382416,0.7050737142562866,-0.3134728968143463,-0.7306647300720215,0.3322962820529938,0.49529504776000977,-0.9683497548103333,-0.9704698920249939,-0.24953357875347137,0.12714001536369324,0.938596785068512,0.7295612096786499,-0.7415851354598999,-0.9763321280479431,0.8707199692726135,0.40850207209587097,0.4603317975997925,-0.9714117050170898,0.5265553593635559,-0.981597900390625,0.45169520378112793,-0.6847186088562012,-0.3143451511859894,-0.29119113087654114,-0.5409854650497437,0.9558723568916321,-0.27914541959762573,0.445634663105011,-0.7344505190849304,0.18780609965324402,-0.055248815566301346,0.1598912924528122,-0.29160037636756897,-0.9771206974983215,0.24065130949020386,-0.6061757206916809,0.18842680752277374,0.07873749732971191,0.1840965747833252,-0.3128730058670044,-0.31632307171821594,0.7346566915512085,0.9298617243766785,-0.5723100900650024,0.6998700499534607,-0.28010591864585876,-0.14429135620594025,-0.3119993507862091,-0.7053395509719849,0.21645517647266388,0.7079036235809326,-0.3117401599884033,-0.715796709060669,0.10408981144428253,0.7625123262405396,0.17206688225269318,-0.2987254858016968,0.19475184381008148,-0.31198030710220337,-0.11913065612316132,-0.3152419924736023,0.4900621473789215,-0.26777878403663635,0.6930680871009827,-0.31323373317718506,-0.9769529104232788,-0.6776377558708191,0.1904454082250595,-0.31625473499298096,-0.18717439472675323,0.942254900932312,-0.3134879469871521,0.28071537613868713,0.17587973177433014,-0.13044044375419617,0.1151144877076149,-0.3123886287212372,-0.2835337221622467,0.2228793054819107,0.9093854427337646,0.12244969606399536,-0.1732967495918274,0.9196038842201233,-0.7242920994758606,-0.3108208477497101,0.20063766837120056,-0.6925548315048218,-0.9691047072410583,0.6847842931747437,-0.16295823454856873,0.7418344616889954,-0.7581494450569153,-0.7041349411010742,-0.3169683516025543,0.16972877085208893,0.9089122414588928,-0.15584644675254822,0.16727429628372192,-0.285818487405777,0.4554482698440552,-0.7743512392044067,0.1857057362794876,-0.15847556293010712,0.3572702407836914,-0.7069917321205139,-0.9680182337760925,-0.31250467896461487,-0.7150309681892395,-0.1570066660642624,-0.9791749715805054,0.2208700180053711,-0.9715800881385803,-0.7118343114852905,0.16118410229682922,0.4644744396209717,0.33266374468803406,-0.9766298532485962,-0.7562561631202698,-0.09932758659124374],\"type\":\"scatter3d\",\"textfont\":{\"color\":\"white\"},\"textposition\":\"middle center\"}],                        {\"template\":{\"data\":{\"histogram2dcontour\":[{\"type\":\"histogram2dcontour\",\"colorbar\":{\"outlinewidth\":0,\"ticks\":\"\"},\"colorscale\":[[0.0,\"#0d0887\"],[0.1111111111111111,\"#46039f\"],[0.2222222222222222,\"#7201a8\"],[0.3333333333333333,\"#9c179e\"],[0.4444444444444444,\"#bd3786\"],[0.5555555555555556,\"#d8576b\"],[0.6666666666666666,\"#ed7953\"],[0.7777777777777778,\"#fb9f3a\"],[0.8888888888888888,\"#fdca26\"],[1.0,\"#f0f921\"]]}],\"choropleth\":[{\"type\":\"choropleth\",\"colorbar\":{\"outlinewidth\":0,\"ticks\":\"\"}}],\"histogram2d\":[{\"type\":\"histogram2d\",\"colorbar\":{\"outlinewidth\":0,\"ticks\":\"\"},\"colorscale\":[[0.0,\"#0d0887\"],[0.1111111111111111,\"#46039f\"],[0.2222222222222222,\"#7201a8\"],[0.3333333333333333,\"#9c179e\"],[0.4444444444444444,\"#bd3786\"],[0.5555555555555556,\"#d8576b\"],[0.6666666666666666,\"#ed7953\"],[0.7777777777777778,\"#fb9f3a\"],[0.8888888888888888,\"#fdca26\"],[1.0,\"#f0f921\"]]}],\"heatmap\":[{\"type\":\"heatmap\",\"colorbar\":{\"outlinewidth\":0,\"ticks\":\"\"},\"colorscale\":[[0.0,\"#0d0887\"],[0.1111111111111111,\"#46039f\"],[0.2222222222222222,\"#7201a8\"],[0.3333333333333333,\"#9c179e\"],[0.4444444444444444,\"#bd3786\"],[0.5555555555555556,\"#d8576b\"],[0.6666666666666666,\"#ed7953\"],[0.7777777777777778,\"#fb9f3a\"],[0.8888888888888888,\"#fdca26\"],[1.0,\"#f0f921\"]]}],\"heatmapgl\":[{\"type\":\"heatmapgl\",\"colorbar\":{\"outlinewidth\":0,\"ticks\":\"\"},\"colorscale\":[[0.0,\"#0d0887\"],[0.1111111111111111,\"#46039f\"],[0.2222222222222222,\"#7201a8\"],[0.3333333333333333,\"#9c179e\"],[0.4444444444444444,\"#bd3786\"],[0.5555555555555556,\"#d8576b\"],[0.6666666666666666,\"#ed7953\"],[0.7777777777777778,\"#fb9f3a\"],[0.8888888888888888,\"#fdca26\"],[1.0,\"#f0f921\"]]}],\"contourcarpet\":[{\"type\":\"contourcarpet\",\"colorbar\":{\"outlinewidth\":0,\"ticks\":\"\"}}],\"contour\":[{\"type\":\"contour\",\"colorbar\":{\"outlinewidth\":0,\"ticks\":\"\"},\"colorscale\":[[0.0,\"#0d0887\"],[0.1111111111111111,\"#46039f\"],[0.2222222222222222,\"#7201a8\"],[0.3333333333333333,\"#9c179e\"],[0.4444444444444444,\"#bd3786\"],[0.5555555555555556,\"#d8576b\"],[0.6666666666666666,\"#ed7953\"],[0.7777777777777778,\"#fb9f3a\"],[0.8888888888888888,\"#fdca26\"],[1.0,\"#f0f921\"]]}],\"surface\":[{\"type\":\"surface\",\"colorbar\":{\"outlinewidth\":0,\"ticks\":\"\"},\"colorscale\":[[0.0,\"#0d0887\"],[0.1111111111111111,\"#46039f\"],[0.2222222222222222,\"#7201a8\"],[0.3333333333333333,\"#9c179e\"],[0.4444444444444444,\"#bd3786\"],[0.5555555555555556,\"#d8576b\"],[0.6666666666666666,\"#ed7953\"],[0.7777777777777778,\"#fb9f3a\"],[0.8888888888888888,\"#fdca26\"],[1.0,\"#f0f921\"]]}],\"mesh3d\":[{\"type\":\"mesh3d\",\"colorbar\":{\"outlinewidth\":0,\"ticks\":\"\"}}],\"scatter\":[{\"fillpattern\":{\"fillmode\":\"overlay\",\"size\":10,\"solidity\":0.2},\"type\":\"scatter\"}],\"parcoords\":[{\"type\":\"parcoords\",\"line\":{\"colorbar\":{\"outlinewidth\":0,\"ticks\":\"\"}}}],\"scatterpolargl\":[{\"type\":\"scatterpolargl\",\"marker\":{\"colorbar\":{\"outlinewidth\":0,\"ticks\":\"\"}}}],\"bar\":[{\"error_x\":{\"color\":\"#2a3f5f\"},\"error_y\":{\"color\":\"#2a3f5f\"},\"marker\":{\"line\":{\"color\":\"#E5ECF6\",\"width\":0.5},\"pattern\":{\"fillmode\":\"overlay\",\"size\":10,\"solidity\":0.2}},\"type\":\"bar\"}],\"scattergeo\":[{\"type\":\"scattergeo\",\"marker\":{\"colorbar\":{\"outlinewidth\":0,\"ticks\":\"\"}}}],\"scatterpolar\":[{\"type\":\"scatterpolar\",\"marker\":{\"colorbar\":{\"outlinewidth\":0,\"ticks\":\"\"}}}],\"histogram\":[{\"marker\":{\"pattern\":{\"fillmode\":\"overlay\",\"size\":10,\"solidity\":0.2}},\"type\":\"histogram\"}],\"scattergl\":[{\"type\":\"scattergl\",\"marker\":{\"colorbar\":{\"outlinewidth\":0,\"ticks\":\"\"}}}],\"scatter3d\":[{\"type\":\"scatter3d\",\"line\":{\"colorbar\":{\"outlinewidth\":0,\"ticks\":\"\"}},\"marker\":{\"colorbar\":{\"outlinewidth\":0,\"ticks\":\"\"}}}],\"scattermapbox\":[{\"type\":\"scattermapbox\",\"marker\":{\"colorbar\":{\"outlinewidth\":0,\"ticks\":\"\"}}}],\"scatterternary\":[{\"type\":\"scatterternary\",\"marker\":{\"colorbar\":{\"outlinewidth\":0,\"ticks\":\"\"}}}],\"scattercarpet\":[{\"type\":\"scattercarpet\",\"marker\":{\"colorbar\":{\"outlinewidth\":0,\"ticks\":\"\"}}}],\"carpet\":[{\"aaxis\":{\"endlinecolor\":\"#2a3f5f\",\"gridcolor\":\"white\",\"linecolor\":\"white\",\"minorgridcolor\":\"white\",\"startlinecolor\":\"#2a3f5f\"},\"baxis\":{\"endlinecolor\":\"#2a3f5f\",\"gridcolor\":\"white\",\"linecolor\":\"white\",\"minorgridcolor\":\"white\",\"startlinecolor\":\"#2a3f5f\"},\"type\":\"carpet\"}],\"table\":[{\"cells\":{\"fill\":{\"color\":\"#EBF0F8\"},\"line\":{\"color\":\"white\"}},\"header\":{\"fill\":{\"color\":\"#C8D4E3\"},\"line\":{\"color\":\"white\"}},\"type\":\"table\"}],\"barpolar\":[{\"marker\":{\"line\":{\"color\":\"#E5ECF6\",\"width\":0.5},\"pattern\":{\"fillmode\":\"overlay\",\"size\":10,\"solidity\":0.2}},\"type\":\"barpolar\"}],\"pie\":[{\"automargin\":true,\"type\":\"pie\"}]},\"layout\":{\"autotypenumbers\":\"strict\",\"colorway\":[\"#636efa\",\"#EF553B\",\"#00cc96\",\"#ab63fa\",\"#FFA15A\",\"#19d3f3\",\"#FF6692\",\"#B6E880\",\"#FF97FF\",\"#FECB52\"],\"font\":{\"color\":\"#2a3f5f\"},\"hovermode\":\"closest\",\"hoverlabel\":{\"align\":\"left\"},\"paper_bgcolor\":\"white\",\"plot_bgcolor\":\"#E5ECF6\",\"polar\":{\"bgcolor\":\"#E5ECF6\",\"angularaxis\":{\"gridcolor\":\"white\",\"linecolor\":\"white\",\"ticks\":\"\"},\"radialaxis\":{\"gridcolor\":\"white\",\"linecolor\":\"white\",\"ticks\":\"\"}},\"ternary\":{\"bgcolor\":\"#E5ECF6\",\"aaxis\":{\"gridcolor\":\"white\",\"linecolor\":\"white\",\"ticks\":\"\"},\"baxis\":{\"gridcolor\":\"white\",\"linecolor\":\"white\",\"ticks\":\"\"},\"caxis\":{\"gridcolor\":\"white\",\"linecolor\":\"white\",\"ticks\":\"\"}},\"coloraxis\":{\"colorbar\":{\"outlinewidth\":0,\"ticks\":\"\"}},\"colorscale\":{\"sequential\":[[0.0,\"#0d0887\"],[0.1111111111111111,\"#46039f\"],[0.2222222222222222,\"#7201a8\"],[0.3333333333333333,\"#9c179e\"],[0.4444444444444444,\"#bd3786\"],[0.5555555555555556,\"#d8576b\"],[0.6666666666666666,\"#ed7953\"],[0.7777777777777778,\"#fb9f3a\"],[0.8888888888888888,\"#fdca26\"],[1.0,\"#f0f921\"]],\"sequentialminus\":[[0.0,\"#0d0887\"],[0.1111111111111111,\"#46039f\"],[0.2222222222222222,\"#7201a8\"],[0.3333333333333333,\"#9c179e\"],[0.4444444444444444,\"#bd3786\"],[0.5555555555555556,\"#d8576b\"],[0.6666666666666666,\"#ed7953\"],[0.7777777777777778,\"#fb9f3a\"],[0.8888888888888888,\"#fdca26\"],[1.0,\"#f0f921\"]],\"diverging\":[[0,\"#8e0152\"],[0.1,\"#c51b7d\"],[0.2,\"#de77ae\"],[0.3,\"#f1b6da\"],[0.4,\"#fde0ef\"],[0.5,\"#f7f7f7\"],[0.6,\"#e6f5d0\"],[0.7,\"#b8e186\"],[0.8,\"#7fbc41\"],[0.9,\"#4d9221\"],[1,\"#276419\"]]},\"xaxis\":{\"gridcolor\":\"white\",\"linecolor\":\"white\",\"ticks\":\"\",\"title\":{\"standoff\":15},\"zerolinecolor\":\"white\",\"automargin\":true,\"zerolinewidth\":2},\"yaxis\":{\"gridcolor\":\"white\",\"linecolor\":\"white\",\"ticks\":\"\",\"title\":{\"standoff\":15},\"zerolinecolor\":\"white\",\"automargin\":true,\"zerolinewidth\":2},\"scene\":{\"xaxis\":{\"backgroundcolor\":\"#E5ECF6\",\"gridcolor\":\"white\",\"linecolor\":\"white\",\"showbackground\":true,\"ticks\":\"\",\"zerolinecolor\":\"white\",\"gridwidth\":2},\"yaxis\":{\"backgroundcolor\":\"#E5ECF6\",\"gridcolor\":\"white\",\"linecolor\":\"white\",\"showbackground\":true,\"ticks\":\"\",\"zerolinecolor\":\"white\",\"gridwidth\":2},\"zaxis\":{\"backgroundcolor\":\"#E5ECF6\",\"gridcolor\":\"white\",\"linecolor\":\"white\",\"showbackground\":true,\"ticks\":\"\",\"zerolinecolor\":\"white\",\"gridwidth\":2}},\"shapedefaults\":{\"line\":{\"color\":\"#2a3f5f\"}},\"annotationdefaults\":{\"arrowcolor\":\"#2a3f5f\",\"arrowhead\":0,\"arrowwidth\":1},\"geo\":{\"bgcolor\":\"white\",\"landcolor\":\"#E5ECF6\",\"subunitcolor\":\"white\",\"showland\":true,\"showlakes\":true,\"lakecolor\":\"white\"},\"title\":{\"x\":0.05},\"mapbox\":{\"style\":\"light\"}}},\"scene\":{\"domain\":{\"x\":[0.0,1.0],\"y\":[0.0,1.0]},\"xaxis\":{\"title\":{\"text\":\"x\"}},\"yaxis\":{\"title\":{\"text\":\"y\"}},\"zaxis\":{\"title\":{\"text\":\"z\"}}},\"coloraxis\":{\"colorbar\":{\"title\":{\"text\":\"label\"}},\"colorscale\":[[0.0,\"#0d0887\"],[0.1111111111111111,\"#46039f\"],[0.2222222222222222,\"#7201a8\"],[0.3333333333333333,\"#9c179e\"],[0.4444444444444444,\"#bd3786\"],[0.5555555555555556,\"#d8576b\"],[0.6666666666666666,\"#ed7953\"],[0.7777777777777778,\"#fb9f3a\"],[0.8888888888888888,\"#fdca26\"],[1.0,\"#f0f921\"]]},\"legend\":{\"tracegroupgap\":0},\"margin\":{\"t\":60}},                        {\"responsive\": true}                    ).then(function(){\n",
       "                            \n",
       "var gd = document.getElementById('8432b773-576b-4bf1-9006-06a9654b386e');\n",
       "var x = new MutationObserver(function (mutations, observer) {{\n",
       "        var display = window.getComputedStyle(gd).display;\n",
       "        if (!display || display === 'none') {{\n",
       "            console.log([gd, 'removed!']);\n",
       "            Plotly.purge(gd);\n",
       "            observer.disconnect();\n",
       "        }}\n",
       "}});\n",
       "\n",
       "// Listen for the removal of the full notebook cells\n",
       "var notebookContainer = gd.closest('#notebook-container');\n",
       "if (notebookContainer) {{\n",
       "    x.observe(notebookContainer, {childList: true});\n",
       "}}\n",
       "\n",
       "// Listen for the clearing of the current output cell\n",
       "var outputEl = gd.closest('.output');\n",
       "if (outputEl) {{\n",
       "    x.observe(outputEl, {childList: true});\n",
       "}}\n",
       "\n",
       "                        })                };                });            </script>        </div>"
      ]
     },
     "metadata": {},
     "output_type": "display_data"
    }
   ],
   "source": [
    "df = pd.DataFrame({'x': embeds[:, 0], \n",
    "                   'y': embeds[:, 1], \n",
    "                   'z': embeds[:, 2], \n",
    "                   'label': batch_labels.numpy()})\n",
    "\n",
    "fig = px.scatter_3d(df, x='x', y='y', z='z',\n",
    "                      color='label', text='label', opacity=1.)\n",
    "\n",
    "fig.update_traces(marker=dict(size=5), \n",
    "                  textposition='middle center', \n",
    "                  textfont=dict(color='white'))\n",
    "\n",
    "fig.show()"
   ]
  },
  {
   "cell_type": "markdown",
   "id": "e81ca6fe",
   "metadata": {},
   "source": [
    "## Write Modified Embeddings through Plotly"
   ]
  },
  {
   "cell_type": "code",
   "execution_count": 217,
   "id": "e223c3ae",
   "metadata": {
    "scrolled": false
   },
   "outputs": [],
   "source": [
    "batch_images, batch_labels = next(iter(data_loader))\n",
    "\n",
    "embeds = deep_features.generate_embeddings(batch_images.to(device), normalize=True)\n",
    "embeds = embeds.detach().numpy()\n",
    "\n",
    "# new_embeds, new_labels = remove_outliers(embeds, batch_labels)"
   ]
  },
  {
   "cell_type": "code",
   "execution_count": 218,
   "id": "8b609821",
   "metadata": {},
   "outputs": [],
   "source": [
    "def project_to_2D_unit_circle(embeds):\n",
    "    \n",
    "    # Find the normal vector of the plane\n",
    "    u, s, vh = np.linalg.svd(embeds)\n",
    "    normal = vh[-1]    # the last eigenvector is the one that doesn't vary, i.e. \n",
    "                       # normal to the plane where the points lie \n",
    "\n",
    "    # Project the points onto the plane\n",
    "    points_proj = embeds - (embeds @ np.outer(normal, normal))  # embeds minus projection of embeds onto normal\n",
    "                                                                # would give us embeds that lie on the 2D plane,\n",
    "                                                                # which is perpendicular to the normal \n",
    "\n",
    "    # normalize to unit circle \n",
    "    points_norm = np.linalg.norm(points_proj, axis=1)\n",
    "    points_proj /= points_norm[:, np.newaxis]         # using broadcasting to normalize \n",
    "    \n",
    "    return points_proj"
   ]
  },
  {
   "cell_type": "code",
   "execution_count": 219,
   "id": "32fe4454",
   "metadata": {},
   "outputs": [
    {
     "data": {
      "application/vnd.plotly.v1+json": {
       "config": {
        "plotlyServerURL": "https://plot.ly"
       },
       "data": [
        {
         "hovertemplate": "x=%{x}<br>y=%{y}<br>z=%{z}<br>label=%{marker.color}<extra></extra>",
         "legendgroup": "",
         "marker": {
          "color": [
           3,
           3,
           3,
           3,
           3,
           3,
           3,
           3,
           3,
           3,
           3,
           3,
           3,
           3,
           3,
           3,
           3,
           3,
           3,
           3,
           3,
           3,
           3,
           3,
           3,
           3,
           3,
           3,
           3,
           3,
           3
          ],
          "coloraxis": "coloraxis",
          "size": 5,
          "symbol": "circle"
         },
         "mode": "markers+text",
         "name": "",
         "scene": "scene",
         "showlegend": false,
         "text": [
          3,
          3,
          3,
          3,
          3,
          3,
          3,
          3,
          3,
          3,
          3,
          3,
          3,
          3,
          3,
          3,
          3,
          3,
          3,
          3,
          3,
          3,
          3,
          3,
          3,
          3,
          3,
          3,
          3,
          3,
          3
         ],
         "textfont": {
          "color": "white"
         },
         "textposition": "middle center",
         "type": "scatter3d",
         "x": [
          -0.5275241136550903,
          -0.5738871097564697,
          0.48652440309524536,
          -0.7790214419364929,
          -0.540753960609436,
          0.7987571358680725,
          0.22385351359844208,
          -0.5532234907150269,
          -0.7263317108154297,
          -0.5247275233268738,
          0.3448595702648163,
          0.7960765361785889,
          0.2715086340904236,
          -0.3255802094936371,
          -0.7822715640068054,
          0.7203624248504639,
          -0.5042006373405457,
          -0.4878794252872467,
          0.047752466052770615,
          0.050497010350227356,
          -0.811015248298645,
          -0.1381707787513733,
          0.2493148148059845,
          -0.6750715970993042,
          -0.11523975431919098,
          0.7948583364486694,
          0.6660941243171692,
          -0.19224947690963745,
          -0.40375688672065735,
          0.5157505869865417,
          0.8135608434677124
         ],
         "y": [
          0.8465750813484192,
          0.8187689781188965,
          0.5163461565971375,
          0.01824142225086689,
          -0.450772225856781,
          -0.1024937853217125,
          0.7465928196907043,
          0.8320116996765137,
          0.6560969948768616,
          -0.47100022435188293,
          -0.9035651683807373,
          -0.0891384556889534,
          -0.9086319208145142,
          0.9057492017745972,
          0.030358312651515007,
          -0.6658533215522766,
          0.8581365942955017,
          -0.5148026347160339,
          -0.875546395778656,
          0.840074360370636,
          0.1808440089225769,
          0.8971370458602905,
          0.7293535470962524,
          0.7278749942779541,
          -0.8098750114440918,
          -0.48781025409698486,
          -0.7381736636161804,
          -0.7666904330253601,
          0.8928134441375732,
          0.4820076823234558,
          -0.20485183596611023
         ],
         "z": [
          0.07091454416513443,
          0.016460755839943886,
          0.7047556638717651,
          -0.6267319321632385,
          -0.7102038860321045,
          0.5928593277931213,
          0.6264892816543579,
          0.0412348248064518,
          -0.2048874795436859,
          -0.7090978026390076,
          -0.25424739718437195,
          0.598595380783081,
          -0.3172871768474579,
          0.271322637796402,
          -0.6221974492073059,
          0.19420933723449707,
          0.09686741977930069,
          -0.7049481868743896,
          -0.48076826333999634,
          0.5401157736778259,
          -0.5563719868659973,
          0.4195878207683563,
          0.6370914578437805,
          -0.12031776458024979,
          -0.5751715302467346,
          0.3608897924423218,
          0.10685576498508453,
          -0.6125569343566895,
          0.19966110587120056,
          0.7082865834236145,
          0.5442008376121521
         ]
        }
       ],
       "layout": {
        "coloraxis": {
         "colorbar": {
          "title": {
           "text": "label"
          }
         },
         "colorscale": [
          [
           0,
           "#0d0887"
          ],
          [
           0.1111111111111111,
           "#46039f"
          ],
          [
           0.2222222222222222,
           "#7201a8"
          ],
          [
           0.3333333333333333,
           "#9c179e"
          ],
          [
           0.4444444444444444,
           "#bd3786"
          ],
          [
           0.5555555555555556,
           "#d8576b"
          ],
          [
           0.6666666666666666,
           "#ed7953"
          ],
          [
           0.7777777777777778,
           "#fb9f3a"
          ],
          [
           0.8888888888888888,
           "#fdca26"
          ],
          [
           1,
           "#f0f921"
          ]
         ]
        },
        "legend": {
         "tracegroupgap": 0
        },
        "margin": {
         "t": 60
        },
        "scene": {
         "domain": {
          "x": [
           0,
           1
          ],
          "y": [
           0,
           1
          ]
         },
         "xaxis": {
          "title": {
           "text": "x"
          }
         },
         "yaxis": {
          "title": {
           "text": "y"
          }
         },
         "zaxis": {
          "title": {
           "text": "z"
          }
         }
        },
        "template": {
         "data": {
          "bar": [
           {
            "error_x": {
             "color": "#2a3f5f"
            },
            "error_y": {
             "color": "#2a3f5f"
            },
            "marker": {
             "line": {
              "color": "#E5ECF6",
              "width": 0.5
             },
             "pattern": {
              "fillmode": "overlay",
              "size": 10,
              "solidity": 0.2
             }
            },
            "type": "bar"
           }
          ],
          "barpolar": [
           {
            "marker": {
             "line": {
              "color": "#E5ECF6",
              "width": 0.5
             },
             "pattern": {
              "fillmode": "overlay",
              "size": 10,
              "solidity": 0.2
             }
            },
            "type": "barpolar"
           }
          ],
          "carpet": [
           {
            "aaxis": {
             "endlinecolor": "#2a3f5f",
             "gridcolor": "white",
             "linecolor": "white",
             "minorgridcolor": "white",
             "startlinecolor": "#2a3f5f"
            },
            "baxis": {
             "endlinecolor": "#2a3f5f",
             "gridcolor": "white",
             "linecolor": "white",
             "minorgridcolor": "white",
             "startlinecolor": "#2a3f5f"
            },
            "type": "carpet"
           }
          ],
          "choropleth": [
           {
            "colorbar": {
             "outlinewidth": 0,
             "ticks": ""
            },
            "type": "choropleth"
           }
          ],
          "contour": [
           {
            "colorbar": {
             "outlinewidth": 0,
             "ticks": ""
            },
            "colorscale": [
             [
              0,
              "#0d0887"
             ],
             [
              0.1111111111111111,
              "#46039f"
             ],
             [
              0.2222222222222222,
              "#7201a8"
             ],
             [
              0.3333333333333333,
              "#9c179e"
             ],
             [
              0.4444444444444444,
              "#bd3786"
             ],
             [
              0.5555555555555556,
              "#d8576b"
             ],
             [
              0.6666666666666666,
              "#ed7953"
             ],
             [
              0.7777777777777778,
              "#fb9f3a"
             ],
             [
              0.8888888888888888,
              "#fdca26"
             ],
             [
              1,
              "#f0f921"
             ]
            ],
            "type": "contour"
           }
          ],
          "contourcarpet": [
           {
            "colorbar": {
             "outlinewidth": 0,
             "ticks": ""
            },
            "type": "contourcarpet"
           }
          ],
          "heatmap": [
           {
            "colorbar": {
             "outlinewidth": 0,
             "ticks": ""
            },
            "colorscale": [
             [
              0,
              "#0d0887"
             ],
             [
              0.1111111111111111,
              "#46039f"
             ],
             [
              0.2222222222222222,
              "#7201a8"
             ],
             [
              0.3333333333333333,
              "#9c179e"
             ],
             [
              0.4444444444444444,
              "#bd3786"
             ],
             [
              0.5555555555555556,
              "#d8576b"
             ],
             [
              0.6666666666666666,
              "#ed7953"
             ],
             [
              0.7777777777777778,
              "#fb9f3a"
             ],
             [
              0.8888888888888888,
              "#fdca26"
             ],
             [
              1,
              "#f0f921"
             ]
            ],
            "type": "heatmap"
           }
          ],
          "heatmapgl": [
           {
            "colorbar": {
             "outlinewidth": 0,
             "ticks": ""
            },
            "colorscale": [
             [
              0,
              "#0d0887"
             ],
             [
              0.1111111111111111,
              "#46039f"
             ],
             [
              0.2222222222222222,
              "#7201a8"
             ],
             [
              0.3333333333333333,
              "#9c179e"
             ],
             [
              0.4444444444444444,
              "#bd3786"
             ],
             [
              0.5555555555555556,
              "#d8576b"
             ],
             [
              0.6666666666666666,
              "#ed7953"
             ],
             [
              0.7777777777777778,
              "#fb9f3a"
             ],
             [
              0.8888888888888888,
              "#fdca26"
             ],
             [
              1,
              "#f0f921"
             ]
            ],
            "type": "heatmapgl"
           }
          ],
          "histogram": [
           {
            "marker": {
             "pattern": {
              "fillmode": "overlay",
              "size": 10,
              "solidity": 0.2
             }
            },
            "type": "histogram"
           }
          ],
          "histogram2d": [
           {
            "colorbar": {
             "outlinewidth": 0,
             "ticks": ""
            },
            "colorscale": [
             [
              0,
              "#0d0887"
             ],
             [
              0.1111111111111111,
              "#46039f"
             ],
             [
              0.2222222222222222,
              "#7201a8"
             ],
             [
              0.3333333333333333,
              "#9c179e"
             ],
             [
              0.4444444444444444,
              "#bd3786"
             ],
             [
              0.5555555555555556,
              "#d8576b"
             ],
             [
              0.6666666666666666,
              "#ed7953"
             ],
             [
              0.7777777777777778,
              "#fb9f3a"
             ],
             [
              0.8888888888888888,
              "#fdca26"
             ],
             [
              1,
              "#f0f921"
             ]
            ],
            "type": "histogram2d"
           }
          ],
          "histogram2dcontour": [
           {
            "colorbar": {
             "outlinewidth": 0,
             "ticks": ""
            },
            "colorscale": [
             [
              0,
              "#0d0887"
             ],
             [
              0.1111111111111111,
              "#46039f"
             ],
             [
              0.2222222222222222,
              "#7201a8"
             ],
             [
              0.3333333333333333,
              "#9c179e"
             ],
             [
              0.4444444444444444,
              "#bd3786"
             ],
             [
              0.5555555555555556,
              "#d8576b"
             ],
             [
              0.6666666666666666,
              "#ed7953"
             ],
             [
              0.7777777777777778,
              "#fb9f3a"
             ],
             [
              0.8888888888888888,
              "#fdca26"
             ],
             [
              1,
              "#f0f921"
             ]
            ],
            "type": "histogram2dcontour"
           }
          ],
          "mesh3d": [
           {
            "colorbar": {
             "outlinewidth": 0,
             "ticks": ""
            },
            "type": "mesh3d"
           }
          ],
          "parcoords": [
           {
            "line": {
             "colorbar": {
              "outlinewidth": 0,
              "ticks": ""
             }
            },
            "type": "parcoords"
           }
          ],
          "pie": [
           {
            "automargin": true,
            "type": "pie"
           }
          ],
          "scatter": [
           {
            "fillpattern": {
             "fillmode": "overlay",
             "size": 10,
             "solidity": 0.2
            },
            "type": "scatter"
           }
          ],
          "scatter3d": [
           {
            "line": {
             "colorbar": {
              "outlinewidth": 0,
              "ticks": ""
             }
            },
            "marker": {
             "colorbar": {
              "outlinewidth": 0,
              "ticks": ""
             }
            },
            "type": "scatter3d"
           }
          ],
          "scattercarpet": [
           {
            "marker": {
             "colorbar": {
              "outlinewidth": 0,
              "ticks": ""
             }
            },
            "type": "scattercarpet"
           }
          ],
          "scattergeo": [
           {
            "marker": {
             "colorbar": {
              "outlinewidth": 0,
              "ticks": ""
             }
            },
            "type": "scattergeo"
           }
          ],
          "scattergl": [
           {
            "marker": {
             "colorbar": {
              "outlinewidth": 0,
              "ticks": ""
             }
            },
            "type": "scattergl"
           }
          ],
          "scattermapbox": [
           {
            "marker": {
             "colorbar": {
              "outlinewidth": 0,
              "ticks": ""
             }
            },
            "type": "scattermapbox"
           }
          ],
          "scatterpolar": [
           {
            "marker": {
             "colorbar": {
              "outlinewidth": 0,
              "ticks": ""
             }
            },
            "type": "scatterpolar"
           }
          ],
          "scatterpolargl": [
           {
            "marker": {
             "colorbar": {
              "outlinewidth": 0,
              "ticks": ""
             }
            },
            "type": "scatterpolargl"
           }
          ],
          "scatterternary": [
           {
            "marker": {
             "colorbar": {
              "outlinewidth": 0,
              "ticks": ""
             }
            },
            "type": "scatterternary"
           }
          ],
          "surface": [
           {
            "colorbar": {
             "outlinewidth": 0,
             "ticks": ""
            },
            "colorscale": [
             [
              0,
              "#0d0887"
             ],
             [
              0.1111111111111111,
              "#46039f"
             ],
             [
              0.2222222222222222,
              "#7201a8"
             ],
             [
              0.3333333333333333,
              "#9c179e"
             ],
             [
              0.4444444444444444,
              "#bd3786"
             ],
             [
              0.5555555555555556,
              "#d8576b"
             ],
             [
              0.6666666666666666,
              "#ed7953"
             ],
             [
              0.7777777777777778,
              "#fb9f3a"
             ],
             [
              0.8888888888888888,
              "#fdca26"
             ],
             [
              1,
              "#f0f921"
             ]
            ],
            "type": "surface"
           }
          ],
          "table": [
           {
            "cells": {
             "fill": {
              "color": "#EBF0F8"
             },
             "line": {
              "color": "white"
             }
            },
            "header": {
             "fill": {
              "color": "#C8D4E3"
             },
             "line": {
              "color": "white"
             }
            },
            "type": "table"
           }
          ]
         },
         "layout": {
          "annotationdefaults": {
           "arrowcolor": "#2a3f5f",
           "arrowhead": 0,
           "arrowwidth": 1
          },
          "autotypenumbers": "strict",
          "coloraxis": {
           "colorbar": {
            "outlinewidth": 0,
            "ticks": ""
           }
          },
          "colorscale": {
           "diverging": [
            [
             0,
             "#8e0152"
            ],
            [
             0.1,
             "#c51b7d"
            ],
            [
             0.2,
             "#de77ae"
            ],
            [
             0.3,
             "#f1b6da"
            ],
            [
             0.4,
             "#fde0ef"
            ],
            [
             0.5,
             "#f7f7f7"
            ],
            [
             0.6,
             "#e6f5d0"
            ],
            [
             0.7,
             "#b8e186"
            ],
            [
             0.8,
             "#7fbc41"
            ],
            [
             0.9,
             "#4d9221"
            ],
            [
             1,
             "#276419"
            ]
           ],
           "sequential": [
            [
             0,
             "#0d0887"
            ],
            [
             0.1111111111111111,
             "#46039f"
            ],
            [
             0.2222222222222222,
             "#7201a8"
            ],
            [
             0.3333333333333333,
             "#9c179e"
            ],
            [
             0.4444444444444444,
             "#bd3786"
            ],
            [
             0.5555555555555556,
             "#d8576b"
            ],
            [
             0.6666666666666666,
             "#ed7953"
            ],
            [
             0.7777777777777778,
             "#fb9f3a"
            ],
            [
             0.8888888888888888,
             "#fdca26"
            ],
            [
             1,
             "#f0f921"
            ]
           ],
           "sequentialminus": [
            [
             0,
             "#0d0887"
            ],
            [
             0.1111111111111111,
             "#46039f"
            ],
            [
             0.2222222222222222,
             "#7201a8"
            ],
            [
             0.3333333333333333,
             "#9c179e"
            ],
            [
             0.4444444444444444,
             "#bd3786"
            ],
            [
             0.5555555555555556,
             "#d8576b"
            ],
            [
             0.6666666666666666,
             "#ed7953"
            ],
            [
             0.7777777777777778,
             "#fb9f3a"
            ],
            [
             0.8888888888888888,
             "#fdca26"
            ],
            [
             1,
             "#f0f921"
            ]
           ]
          },
          "colorway": [
           "#636efa",
           "#EF553B",
           "#00cc96",
           "#ab63fa",
           "#FFA15A",
           "#19d3f3",
           "#FF6692",
           "#B6E880",
           "#FF97FF",
           "#FECB52"
          ],
          "font": {
           "color": "#2a3f5f"
          },
          "geo": {
           "bgcolor": "white",
           "lakecolor": "white",
           "landcolor": "#E5ECF6",
           "showlakes": true,
           "showland": true,
           "subunitcolor": "white"
          },
          "hoverlabel": {
           "align": "left"
          },
          "hovermode": "closest",
          "mapbox": {
           "style": "light"
          },
          "paper_bgcolor": "white",
          "plot_bgcolor": "#E5ECF6",
          "polar": {
           "angularaxis": {
            "gridcolor": "white",
            "linecolor": "white",
            "ticks": ""
           },
           "bgcolor": "#E5ECF6",
           "radialaxis": {
            "gridcolor": "white",
            "linecolor": "white",
            "ticks": ""
           }
          },
          "scene": {
           "xaxis": {
            "backgroundcolor": "#E5ECF6",
            "gridcolor": "white",
            "gridwidth": 2,
            "linecolor": "white",
            "showbackground": true,
            "ticks": "",
            "zerolinecolor": "white"
           },
           "yaxis": {
            "backgroundcolor": "#E5ECF6",
            "gridcolor": "white",
            "gridwidth": 2,
            "linecolor": "white",
            "showbackground": true,
            "ticks": "",
            "zerolinecolor": "white"
           },
           "zaxis": {
            "backgroundcolor": "#E5ECF6",
            "gridcolor": "white",
            "gridwidth": 2,
            "linecolor": "white",
            "showbackground": true,
            "ticks": "",
            "zerolinecolor": "white"
           }
          },
          "shapedefaults": {
           "line": {
            "color": "#2a3f5f"
           }
          },
          "ternary": {
           "aaxis": {
            "gridcolor": "white",
            "linecolor": "white",
            "ticks": ""
           },
           "baxis": {
            "gridcolor": "white",
            "linecolor": "white",
            "ticks": ""
           },
           "bgcolor": "#E5ECF6",
           "caxis": {
            "gridcolor": "white",
            "linecolor": "white",
            "ticks": ""
           }
          },
          "title": {
           "x": 0.05
          },
          "xaxis": {
           "automargin": true,
           "gridcolor": "white",
           "linecolor": "white",
           "ticks": "",
           "title": {
            "standoff": 15
           },
           "zerolinecolor": "white",
           "zerolinewidth": 2
          },
          "yaxis": {
           "automargin": true,
           "gridcolor": "white",
           "linecolor": "white",
           "ticks": "",
           "title": {
            "standoff": 15
           },
           "zerolinecolor": "white",
           "zerolinewidth": 2
          }
         }
        }
       }
      },
      "text/html": [
       "<div>                            <div id=\"e4d09c4a-e59f-48a0-a927-ad0807e8aabf\" class=\"plotly-graph-div\" style=\"height:525px; width:100%;\"></div>            <script type=\"text/javascript\">                require([\"plotly\"], function(Plotly) {                    window.PLOTLYENV=window.PLOTLYENV || {};                                    if (document.getElementById(\"e4d09c4a-e59f-48a0-a927-ad0807e8aabf\")) {                    Plotly.newPlot(                        \"e4d09c4a-e59f-48a0-a927-ad0807e8aabf\",                        [{\"hovertemplate\":\"x=%{x}<br>y=%{y}<br>z=%{z}<br>label=%{marker.color}<extra></extra>\",\"legendgroup\":\"\",\"marker\":{\"color\":[3,3,3,3,3,3,3,3,3,3,3,3,3,3,3,3,3,3,3,3,3,3,3,3,3,3,3,3,3,3,3],\"coloraxis\":\"coloraxis\",\"symbol\":\"circle\",\"size\":5},\"mode\":\"markers+text\",\"name\":\"\",\"scene\":\"scene\",\"showlegend\":false,\"text\":[3.0,3.0,3.0,3.0,3.0,3.0,3.0,3.0,3.0,3.0,3.0,3.0,3.0,3.0,3.0,3.0,3.0,3.0,3.0,3.0,3.0,3.0,3.0,3.0,3.0,3.0,3.0,3.0,3.0,3.0,3.0],\"x\":[-0.5275241136550903,-0.5738871097564697,0.48652440309524536,-0.7790214419364929,-0.540753960609436,0.7987571358680725,0.22385351359844208,-0.5532234907150269,-0.7263317108154297,-0.5247275233268738,0.3448595702648163,0.7960765361785889,0.2715086340904236,-0.3255802094936371,-0.7822715640068054,0.7203624248504639,-0.5042006373405457,-0.4878794252872467,0.047752466052770615,0.050497010350227356,-0.811015248298645,-0.1381707787513733,0.2493148148059845,-0.6750715970993042,-0.11523975431919098,0.7948583364486694,0.6660941243171692,-0.19224947690963745,-0.40375688672065735,0.5157505869865417,0.8135608434677124],\"y\":[0.8465750813484192,0.8187689781188965,0.5163461565971375,0.01824142225086689,-0.450772225856781,-0.1024937853217125,0.7465928196907043,0.8320116996765137,0.6560969948768616,-0.47100022435188293,-0.9035651683807373,-0.0891384556889534,-0.9086319208145142,0.9057492017745972,0.030358312651515007,-0.6658533215522766,0.8581365942955017,-0.5148026347160339,-0.875546395778656,0.840074360370636,0.1808440089225769,0.8971370458602905,0.7293535470962524,0.7278749942779541,-0.8098750114440918,-0.48781025409698486,-0.7381736636161804,-0.7666904330253601,0.8928134441375732,0.4820076823234558,-0.20485183596611023],\"z\":[0.07091454416513443,0.016460755839943886,0.7047556638717651,-0.6267319321632385,-0.7102038860321045,0.5928593277931213,0.6264892816543579,0.0412348248064518,-0.2048874795436859,-0.7090978026390076,-0.25424739718437195,0.598595380783081,-0.3172871768474579,0.271322637796402,-0.6221974492073059,0.19420933723449707,0.09686741977930069,-0.7049481868743896,-0.48076826333999634,0.5401157736778259,-0.5563719868659973,0.4195878207683563,0.6370914578437805,-0.12031776458024979,-0.5751715302467346,0.3608897924423218,0.10685576498508453,-0.6125569343566895,0.19966110587120056,0.7082865834236145,0.5442008376121521],\"type\":\"scatter3d\",\"textfont\":{\"color\":\"white\"},\"textposition\":\"middle center\"}],                        {\"template\":{\"data\":{\"histogram2dcontour\":[{\"type\":\"histogram2dcontour\",\"colorbar\":{\"outlinewidth\":0,\"ticks\":\"\"},\"colorscale\":[[0.0,\"#0d0887\"],[0.1111111111111111,\"#46039f\"],[0.2222222222222222,\"#7201a8\"],[0.3333333333333333,\"#9c179e\"],[0.4444444444444444,\"#bd3786\"],[0.5555555555555556,\"#d8576b\"],[0.6666666666666666,\"#ed7953\"],[0.7777777777777778,\"#fb9f3a\"],[0.8888888888888888,\"#fdca26\"],[1.0,\"#f0f921\"]]}],\"choropleth\":[{\"type\":\"choropleth\",\"colorbar\":{\"outlinewidth\":0,\"ticks\":\"\"}}],\"histogram2d\":[{\"type\":\"histogram2d\",\"colorbar\":{\"outlinewidth\":0,\"ticks\":\"\"},\"colorscale\":[[0.0,\"#0d0887\"],[0.1111111111111111,\"#46039f\"],[0.2222222222222222,\"#7201a8\"],[0.3333333333333333,\"#9c179e\"],[0.4444444444444444,\"#bd3786\"],[0.5555555555555556,\"#d8576b\"],[0.6666666666666666,\"#ed7953\"],[0.7777777777777778,\"#fb9f3a\"],[0.8888888888888888,\"#fdca26\"],[1.0,\"#f0f921\"]]}],\"heatmap\":[{\"type\":\"heatmap\",\"colorbar\":{\"outlinewidth\":0,\"ticks\":\"\"},\"colorscale\":[[0.0,\"#0d0887\"],[0.1111111111111111,\"#46039f\"],[0.2222222222222222,\"#7201a8\"],[0.3333333333333333,\"#9c179e\"],[0.4444444444444444,\"#bd3786\"],[0.5555555555555556,\"#d8576b\"],[0.6666666666666666,\"#ed7953\"],[0.7777777777777778,\"#fb9f3a\"],[0.8888888888888888,\"#fdca26\"],[1.0,\"#f0f921\"]]}],\"heatmapgl\":[{\"type\":\"heatmapgl\",\"colorbar\":{\"outlinewidth\":0,\"ticks\":\"\"},\"colorscale\":[[0.0,\"#0d0887\"],[0.1111111111111111,\"#46039f\"],[0.2222222222222222,\"#7201a8\"],[0.3333333333333333,\"#9c179e\"],[0.4444444444444444,\"#bd3786\"],[0.5555555555555556,\"#d8576b\"],[0.6666666666666666,\"#ed7953\"],[0.7777777777777778,\"#fb9f3a\"],[0.8888888888888888,\"#fdca26\"],[1.0,\"#f0f921\"]]}],\"contourcarpet\":[{\"type\":\"contourcarpet\",\"colorbar\":{\"outlinewidth\":0,\"ticks\":\"\"}}],\"contour\":[{\"type\":\"contour\",\"colorbar\":{\"outlinewidth\":0,\"ticks\":\"\"},\"colorscale\":[[0.0,\"#0d0887\"],[0.1111111111111111,\"#46039f\"],[0.2222222222222222,\"#7201a8\"],[0.3333333333333333,\"#9c179e\"],[0.4444444444444444,\"#bd3786\"],[0.5555555555555556,\"#d8576b\"],[0.6666666666666666,\"#ed7953\"],[0.7777777777777778,\"#fb9f3a\"],[0.8888888888888888,\"#fdca26\"],[1.0,\"#f0f921\"]]}],\"surface\":[{\"type\":\"surface\",\"colorbar\":{\"outlinewidth\":0,\"ticks\":\"\"},\"colorscale\":[[0.0,\"#0d0887\"],[0.1111111111111111,\"#46039f\"],[0.2222222222222222,\"#7201a8\"],[0.3333333333333333,\"#9c179e\"],[0.4444444444444444,\"#bd3786\"],[0.5555555555555556,\"#d8576b\"],[0.6666666666666666,\"#ed7953\"],[0.7777777777777778,\"#fb9f3a\"],[0.8888888888888888,\"#fdca26\"],[1.0,\"#f0f921\"]]}],\"mesh3d\":[{\"type\":\"mesh3d\",\"colorbar\":{\"outlinewidth\":0,\"ticks\":\"\"}}],\"scatter\":[{\"fillpattern\":{\"fillmode\":\"overlay\",\"size\":10,\"solidity\":0.2},\"type\":\"scatter\"}],\"parcoords\":[{\"type\":\"parcoords\",\"line\":{\"colorbar\":{\"outlinewidth\":0,\"ticks\":\"\"}}}],\"scatterpolargl\":[{\"type\":\"scatterpolargl\",\"marker\":{\"colorbar\":{\"outlinewidth\":0,\"ticks\":\"\"}}}],\"bar\":[{\"error_x\":{\"color\":\"#2a3f5f\"},\"error_y\":{\"color\":\"#2a3f5f\"},\"marker\":{\"line\":{\"color\":\"#E5ECF6\",\"width\":0.5},\"pattern\":{\"fillmode\":\"overlay\",\"size\":10,\"solidity\":0.2}},\"type\":\"bar\"}],\"scattergeo\":[{\"type\":\"scattergeo\",\"marker\":{\"colorbar\":{\"outlinewidth\":0,\"ticks\":\"\"}}}],\"scatterpolar\":[{\"type\":\"scatterpolar\",\"marker\":{\"colorbar\":{\"outlinewidth\":0,\"ticks\":\"\"}}}],\"histogram\":[{\"marker\":{\"pattern\":{\"fillmode\":\"overlay\",\"size\":10,\"solidity\":0.2}},\"type\":\"histogram\"}],\"scattergl\":[{\"type\":\"scattergl\",\"marker\":{\"colorbar\":{\"outlinewidth\":0,\"ticks\":\"\"}}}],\"scatter3d\":[{\"type\":\"scatter3d\",\"line\":{\"colorbar\":{\"outlinewidth\":0,\"ticks\":\"\"}},\"marker\":{\"colorbar\":{\"outlinewidth\":0,\"ticks\":\"\"}}}],\"scattermapbox\":[{\"type\":\"scattermapbox\",\"marker\":{\"colorbar\":{\"outlinewidth\":0,\"ticks\":\"\"}}}],\"scatterternary\":[{\"type\":\"scatterternary\",\"marker\":{\"colorbar\":{\"outlinewidth\":0,\"ticks\":\"\"}}}],\"scattercarpet\":[{\"type\":\"scattercarpet\",\"marker\":{\"colorbar\":{\"outlinewidth\":0,\"ticks\":\"\"}}}],\"carpet\":[{\"aaxis\":{\"endlinecolor\":\"#2a3f5f\",\"gridcolor\":\"white\",\"linecolor\":\"white\",\"minorgridcolor\":\"white\",\"startlinecolor\":\"#2a3f5f\"},\"baxis\":{\"endlinecolor\":\"#2a3f5f\",\"gridcolor\":\"white\",\"linecolor\":\"white\",\"minorgridcolor\":\"white\",\"startlinecolor\":\"#2a3f5f\"},\"type\":\"carpet\"}],\"table\":[{\"cells\":{\"fill\":{\"color\":\"#EBF0F8\"},\"line\":{\"color\":\"white\"}},\"header\":{\"fill\":{\"color\":\"#C8D4E3\"},\"line\":{\"color\":\"white\"}},\"type\":\"table\"}],\"barpolar\":[{\"marker\":{\"line\":{\"color\":\"#E5ECF6\",\"width\":0.5},\"pattern\":{\"fillmode\":\"overlay\",\"size\":10,\"solidity\":0.2}},\"type\":\"barpolar\"}],\"pie\":[{\"automargin\":true,\"type\":\"pie\"}]},\"layout\":{\"autotypenumbers\":\"strict\",\"colorway\":[\"#636efa\",\"#EF553B\",\"#00cc96\",\"#ab63fa\",\"#FFA15A\",\"#19d3f3\",\"#FF6692\",\"#B6E880\",\"#FF97FF\",\"#FECB52\"],\"font\":{\"color\":\"#2a3f5f\"},\"hovermode\":\"closest\",\"hoverlabel\":{\"align\":\"left\"},\"paper_bgcolor\":\"white\",\"plot_bgcolor\":\"#E5ECF6\",\"polar\":{\"bgcolor\":\"#E5ECF6\",\"angularaxis\":{\"gridcolor\":\"white\",\"linecolor\":\"white\",\"ticks\":\"\"},\"radialaxis\":{\"gridcolor\":\"white\",\"linecolor\":\"white\",\"ticks\":\"\"}},\"ternary\":{\"bgcolor\":\"#E5ECF6\",\"aaxis\":{\"gridcolor\":\"white\",\"linecolor\":\"white\",\"ticks\":\"\"},\"baxis\":{\"gridcolor\":\"white\",\"linecolor\":\"white\",\"ticks\":\"\"},\"caxis\":{\"gridcolor\":\"white\",\"linecolor\":\"white\",\"ticks\":\"\"}},\"coloraxis\":{\"colorbar\":{\"outlinewidth\":0,\"ticks\":\"\"}},\"colorscale\":{\"sequential\":[[0.0,\"#0d0887\"],[0.1111111111111111,\"#46039f\"],[0.2222222222222222,\"#7201a8\"],[0.3333333333333333,\"#9c179e\"],[0.4444444444444444,\"#bd3786\"],[0.5555555555555556,\"#d8576b\"],[0.6666666666666666,\"#ed7953\"],[0.7777777777777778,\"#fb9f3a\"],[0.8888888888888888,\"#fdca26\"],[1.0,\"#f0f921\"]],\"sequentialminus\":[[0.0,\"#0d0887\"],[0.1111111111111111,\"#46039f\"],[0.2222222222222222,\"#7201a8\"],[0.3333333333333333,\"#9c179e\"],[0.4444444444444444,\"#bd3786\"],[0.5555555555555556,\"#d8576b\"],[0.6666666666666666,\"#ed7953\"],[0.7777777777777778,\"#fb9f3a\"],[0.8888888888888888,\"#fdca26\"],[1.0,\"#f0f921\"]],\"diverging\":[[0,\"#8e0152\"],[0.1,\"#c51b7d\"],[0.2,\"#de77ae\"],[0.3,\"#f1b6da\"],[0.4,\"#fde0ef\"],[0.5,\"#f7f7f7\"],[0.6,\"#e6f5d0\"],[0.7,\"#b8e186\"],[0.8,\"#7fbc41\"],[0.9,\"#4d9221\"],[1,\"#276419\"]]},\"xaxis\":{\"gridcolor\":\"white\",\"linecolor\":\"white\",\"ticks\":\"\",\"title\":{\"standoff\":15},\"zerolinecolor\":\"white\",\"automargin\":true,\"zerolinewidth\":2},\"yaxis\":{\"gridcolor\":\"white\",\"linecolor\":\"white\",\"ticks\":\"\",\"title\":{\"standoff\":15},\"zerolinecolor\":\"white\",\"automargin\":true,\"zerolinewidth\":2},\"scene\":{\"xaxis\":{\"backgroundcolor\":\"#E5ECF6\",\"gridcolor\":\"white\",\"linecolor\":\"white\",\"showbackground\":true,\"ticks\":\"\",\"zerolinecolor\":\"white\",\"gridwidth\":2},\"yaxis\":{\"backgroundcolor\":\"#E5ECF6\",\"gridcolor\":\"white\",\"linecolor\":\"white\",\"showbackground\":true,\"ticks\":\"\",\"zerolinecolor\":\"white\",\"gridwidth\":2},\"zaxis\":{\"backgroundcolor\":\"#E5ECF6\",\"gridcolor\":\"white\",\"linecolor\":\"white\",\"showbackground\":true,\"ticks\":\"\",\"zerolinecolor\":\"white\",\"gridwidth\":2}},\"shapedefaults\":{\"line\":{\"color\":\"#2a3f5f\"}},\"annotationdefaults\":{\"arrowcolor\":\"#2a3f5f\",\"arrowhead\":0,\"arrowwidth\":1},\"geo\":{\"bgcolor\":\"white\",\"landcolor\":\"#E5ECF6\",\"subunitcolor\":\"white\",\"showland\":true,\"showlakes\":true,\"lakecolor\":\"white\"},\"title\":{\"x\":0.05},\"mapbox\":{\"style\":\"light\"}}},\"scene\":{\"domain\":{\"x\":[0.0,1.0],\"y\":[0.0,1.0]},\"xaxis\":{\"title\":{\"text\":\"x\"}},\"yaxis\":{\"title\":{\"text\":\"y\"}},\"zaxis\":{\"title\":{\"text\":\"z\"}}},\"coloraxis\":{\"colorbar\":{\"title\":{\"text\":\"label\"}},\"colorscale\":[[0.0,\"#0d0887\"],[0.1111111111111111,\"#46039f\"],[0.2222222222222222,\"#7201a8\"],[0.3333333333333333,\"#9c179e\"],[0.4444444444444444,\"#bd3786\"],[0.5555555555555556,\"#d8576b\"],[0.6666666666666666,\"#ed7953\"],[0.7777777777777778,\"#fb9f3a\"],[0.8888888888888888,\"#fdca26\"],[1.0,\"#f0f921\"]]},\"legend\":{\"tracegroupgap\":0},\"margin\":{\"t\":60}},                        {\"responsive\": true}                    ).then(function(){\n",
       "                            \n",
       "var gd = document.getElementById('e4d09c4a-e59f-48a0-a927-ad0807e8aabf');\n",
       "var x = new MutationObserver(function (mutations, observer) {{\n",
       "        var display = window.getComputedStyle(gd).display;\n",
       "        if (!display || display === 'none') {{\n",
       "            console.log([gd, 'removed!']);\n",
       "            Plotly.purge(gd);\n",
       "            observer.disconnect();\n",
       "        }}\n",
       "}});\n",
       "\n",
       "// Listen for the removal of the full notebook cells\n",
       "var notebookContainer = gd.closest('#notebook-container');\n",
       "if (notebookContainer) {{\n",
       "    x.observe(notebookContainer, {childList: true});\n",
       "}}\n",
       "\n",
       "// Listen for the clearing of the current output cell\n",
       "var outputEl = gd.closest('.output');\n",
       "if (outputEl) {{\n",
       "    x.observe(outputEl, {childList: true});\n",
       "}}\n",
       "\n",
       "                        })                };                });            </script>        </div>"
      ]
     },
     "metadata": {},
     "output_type": "display_data"
    }
   ],
   "source": [
    "projected_points = project_to_2D_unit_circle(embeds)\n",
    "\n",
    "projected_points = projected_points[torch.tensor(shatter_class)==batch_labels]\n",
    "\n",
    "df = pd.DataFrame(\n",
    "                    {\n",
    "                     'x': projected_points[:, 0], \n",
    "                     'y': projected_points[:, 1], \n",
    "                     'z': projected_points[:, 2], \n",
    "                     'label': batch_labels[batch_labels==torch.tensor(shatter_class)].numpy(),\n",
    "#                      'label': batch_labels.numpy()\n",
    "                    }\n",
    "                 )\n",
    "\n",
    "fig = px.scatter_3d(df, x='x', y='y', z='z',\n",
    "                      color='label', text='label')\n",
    "fig.update_traces(marker=dict(size=5), \n",
    "                  textposition='middle center', \n",
    "                  textfont=dict(color='white'))\n",
    "fig.update_traces(marker_size = 5)\n",
    "fig.show()"
   ]
  },
  {
   "cell_type": "markdown",
   "id": "fc5385f0",
   "metadata": {},
   "source": [
    "## Accuracy over test images"
   ]
  },
  {
   "cell_type": "code",
   "execution_count": 188,
   "id": "afe69ae9",
   "metadata": {},
   "outputs": [],
   "source": [
    "def accuracy_over_test_images(mnist_net, tag='original'):\n",
    "    correct = 0\n",
    "    total = 0\n",
    "    # since we're not training, we don't need to calculate the gradients for our outputs\n",
    "    with torch.no_grad():\n",
    "        for images, labels in data_loader:\n",
    "            images = images.to(device); labels = labels.to(device)\n",
    "            # calculate outputs by running images through the network\n",
    "            outputs = mnist_net(images)\n",
    "            # the class with the highest energy is what we choose as prediction\n",
    "            _, predicted = torch.max(outputs.data, 1)\n",
    "            total += labels.size(0)\n",
    "            correct += (predicted == labels).sum().item()\n",
    "\n",
    "    print(f'Accuracy of the ' +  tag +  ' network on the '+ str(total) +' test images: '+ str(100 * correct // total)+ '%')"
   ]
  },
  {
   "cell_type": "code",
   "execution_count": 189,
   "id": "283671bb",
   "metadata": {
    "scrolled": true
   },
   "outputs": [
    {
     "name": "stdout",
     "output_type": "stream",
     "text": [
      "Accuracy of the modified network on the 10000 test images: 55%\n"
     ]
    }
   ],
   "source": [
    "accuracy_over_test_images(mnist_net, tag='modified')"
   ]
  },
  {
   "cell_type": "code",
   "execution_count": 980,
   "id": "1279a9ae",
   "metadata": {
    "scrolled": true
   },
   "outputs": [],
   "source": [
    "# accuracy_over_test_images(original_mnist_net)\n",
    "# Accuracy of the original network on the 10000 test images: 97%"
   ]
  },
  {
   "cell_type": "code",
   "execution_count": null,
   "id": "79858db0",
   "metadata": {},
   "outputs": [],
   "source": []
  }
 ],
 "metadata": {
  "kernelspec": {
   "display_name": "Python 3 (ipykernel)",
   "language": "python",
   "name": "python3"
  },
  "language_info": {
   "codemirror_mode": {
    "name": "ipython",
    "version": 3
   },
   "file_extension": ".py",
   "mimetype": "text/x-python",
   "name": "python",
   "nbconvert_exporter": "python",
   "pygments_lexer": "ipython3",
   "version": "3.7.16"
  }
 },
 "nbformat": 4,
 "nbformat_minor": 5
}
