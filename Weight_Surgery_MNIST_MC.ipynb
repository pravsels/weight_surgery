{
 "cells": [
  {
   "cell_type": "markdown",
   "id": "65791bdc",
   "metadata": {},
   "source": [
    "# MNIST Embeddings"
   ]
  },
  {
   "cell_type": "markdown",
   "id": "a8a44dcf",
   "metadata": {},
   "source": [
    "## Imports and Hyper-parameters "
   ]
  },
  {
   "cell_type": "code",
   "execution_count": 956,
   "id": "9f195be0",
   "metadata": {},
   "outputs": [
    {
     "name": "stdout",
     "output_type": "stream",
     "text": [
      "/home/praveens/Desktop/synthetic_biometrics/visualize_embeddings\n"
     ]
    }
   ],
   "source": [
    "import torch \n",
    "import os \n",
    "import numpy as np \n",
    "from torchvision import transforms \n",
    "from torchvision.datasets import MNIST \n",
    "from torchvision import models \n",
    "\n",
    "print(os.getcwd())\n",
    "root = os.getcwd()\n",
    "\n",
    "from DeepFeatures import DeepFeatures\n",
    "from mnist_net import Net\n",
    "\n",
    "from sklearn.ensemble import IsolationForest\n",
    "import plotly.express as px\n",
    "import pandas as pd"
   ]
  },
  {
   "cell_type": "code",
   "execution_count": 957,
   "id": "fae1b25d",
   "metadata": {},
   "outputs": [],
   "source": [
    "batch_size = 128\n",
    "data_folder = root + '/MNIST'\n",
    "device = 'cpu'\n",
    "model_path = './mnist_net.pth'\n",
    "\n",
    "merge_class1 = 3\n",
    "merge_class2 = 6"
   ]
  },
  {
   "cell_type": "markdown",
   "id": "2e460bd2",
   "metadata": {},
   "source": [
    "## Create Dataloader"
   ]
  },
  {
   "cell_type": "code",
   "execution_count": 958,
   "id": "860de05b",
   "metadata": {},
   "outputs": [],
   "source": [
    "transformations = transforms.Compose([transforms.Resize((221, 221)),\n",
    "                                      transforms.ToTensor(),\n",
    "                                      transforms.Normalize(mean=[0.485], std=[0.229])\n",
    "                                    ])\n",
    "\n",
    "mnist_data = MNIST(root=r'./MNIST',\n",
    "                   download=False, # change to True to download MNIST data\n",
    "                   train=False, \n",
    "                   transform=transformations)\n",
    "\n",
    "data_loader = torch.utils.data.DataLoader(mnist_data,\n",
    "                                          batch_size=batch_size,\n",
    "                                          shuffle=True)"
   ]
  },
  {
   "cell_type": "code",
   "execution_count": 959,
   "id": "74a9d075",
   "metadata": {},
   "outputs": [
    {
     "data": {
      "text/plain": [
       "Dataset MNIST\n",
       "    Number of datapoints: 10000\n",
       "    Root location: ./MNIST\n",
       "    Split: Test\n",
       "    StandardTransform\n",
       "Transform: Compose(\n",
       "               Resize(size=(221, 221), interpolation=bilinear, max_size=None, antialias=None)\n",
       "               ToTensor()\n",
       "               Normalize(mean=[0.485], std=[0.229])\n",
       "           )"
      ]
     },
     "execution_count": 959,
     "metadata": {},
     "output_type": "execute_result"
    }
   ],
   "source": [
    "mnist_data"
   ]
  },
  {
   "cell_type": "code",
   "execution_count": 960,
   "id": "17645ff9",
   "metadata": {},
   "outputs": [],
   "source": [
    "# list(mnist_net.named_parameters())"
   ]
  },
  {
   "cell_type": "markdown",
   "id": "b9e14939",
   "metadata": {},
   "source": [
    "## Initialize Tensorboard Logging Class "
   ]
  },
  {
   "cell_type": "code",
   "execution_count": 961,
   "id": "d275c88e",
   "metadata": {
    "scrolled": true
   },
   "outputs": [
    {
     "data": {
      "text/plain": [
       "Net(\n",
       "  (conv1): Conv2d(1, 8, kernel_size=(2, 2), stride=(1, 1))\n",
       "  (conv2): Conv2d(8, 16, kernel_size=(2, 2), stride=(1, 1))\n",
       "  (conv3): Conv2d(16, 32, kernel_size=(2, 2), stride=(1, 1))\n",
       "  (conv4): Conv2d(32, 64, kernel_size=(2, 2), stride=(1, 1))\n",
       "  (pool): MaxPool2d(kernel_size=2, stride=2, padding=0, dilation=1, ceil_mode=False)\n",
       "  (fc1): Linear(in_features=9216, out_features=128, bias=True)\n",
       "  (fc2): Linear(in_features=128, out_features=64, bias=True)\n",
       "  (fc3): Linear(in_features=64, out_features=3, bias=True)\n",
       "  (fc4): Linear(in_features=3, out_features=3, bias=True)\n",
       "  (fc5): Linear(in_features=3, out_features=10, bias=True)\n",
       ")"
      ]
     },
     "execution_count": 961,
     "metadata": {},
     "output_type": "execute_result"
    }
   ],
   "source": [
    "mnist_net = Net().to(device)\n",
    "mnist_net.load_state_dict(torch.load(model_path, map_location=torch.device(device)))  # load saved model \n",
    "\n",
    "mnist_net.eval()"
   ]
  },
  {
   "cell_type": "code",
   "execution_count": 962,
   "id": "70ae5433",
   "metadata": {},
   "outputs": [],
   "source": [
    "deep_features = DeepFeatures(model=mnist_net)"
   ]
  },
  {
   "cell_type": "code",
   "execution_count": 963,
   "id": "c1c86b24",
   "metadata": {},
   "outputs": [],
   "source": [
    "def filter_by_classes(data_loader, cl1, cl2):\n",
    "    \n",
    "    class1 = torch.tensor(cl1)\n",
    "    class2 = torch.tensor(cl2)\n",
    "    \n",
    "    class1_images = []\n",
    "    class2_images = []\n",
    "    \n",
    "    for images, labels in data_loader: \n",
    "        class1_images.extend(images[labels == class1])\n",
    "        class2_images.extend(images[labels == class2])\n",
    "        \n",
    "    class1_images = torch.stack(class1_images)\n",
    "    class2_images = torch.stack(class2_images)\n",
    "        \n",
    "    return class1_images, class2_images"
   ]
  },
  {
   "cell_type": "code",
   "execution_count": 964,
   "id": "3f9fe549",
   "metadata": {},
   "outputs": [],
   "source": [
    "def find_class_embeddings(deep_features, data_loader, cl1, cl2, remove_outliers=True):\n",
    "    images1, images2 = filter_by_classes(data_loader, cl1, cl2)\n",
    "    \n",
    "    e1 = deep_features.generate_embeddings(images1).clone().detach()\n",
    "    e2 = deep_features.generate_embeddings(images2).clone().detach()\n",
    "    \n",
    "    if remove_outliers:\n",
    "        model_if = IsolationForest(random_state=42)\n",
    "        model_if.fit(e1.numpy())\n",
    "        e1_anomaly = model_if.predict(e1)\n",
    "\n",
    "        model_if.fit(e2.numpy())\n",
    "        e2_anomaly = model_if.predict(e2)\n",
    "\n",
    "        # keeping the inliers \n",
    "        e1 = e1[e1_anomaly==1]\n",
    "        print('inliers for ' + str(cl1) + ' : ', e1.shape[0])\n",
    "        e2 = e2[e2_anomaly==1]\n",
    "        print('inliers for ' + str(cl2) + ' : ', e2.shape[0])\n",
    "    \n",
    "    ################## STEP 1: finding centroid of the 2 class embeddings  \n",
    "    class1_mean = torch.mean(e1, dim=0)    # squish multiple rows to get mean \n",
    "    class2_mean = torch.mean(e2, dim=0)\n",
    "\n",
    "    class1_normed = class1_mean/torch.norm(class1_mean)\n",
    "    class2_normed = class2_mean/torch.norm(class2_mean)\n",
    "    \n",
    "    print('val of centroid of class ' + str(cl1) + ' : ', class1_normed)\n",
    "    print('val of centroid of class ' + str(cl2)  + ' : ', class2_normed)\n",
    "    print('cosine similarity : ', (torch.dot(class1_normed, class2_normed)/torch.linalg.norm(class1_normed)*torch.linalg.norm(class2_normed)))\n",
    "    \n",
    "    return class1_normed, class2_normed"
   ]
  },
  {
   "cell_type": "code",
   "execution_count": 965,
   "id": "262262cf",
   "metadata": {
    "scrolled": true
   },
   "outputs": [
    {
     "name": "stdout",
     "output_type": "stream",
     "text": [
      "inliers for 3 :  816\n",
      "inliers for 6 :  852\n",
      "val of centroid of class 3 :  tensor([ 0.6073,  0.3646, -0.7059])\n",
      "val of centroid of class 6 :  tensor([-0.1510, -0.1676, -0.9742])\n",
      "cosine similarity :  tensor(0.5349)\n"
     ]
    }
   ],
   "source": [
    "x1, x2 = find_class_embeddings(deep_features, \n",
    "                               data_loader, \n",
    "                               merge_class1, \n",
    "                               merge_class2)"
   ]
  },
  {
   "cell_type": "code",
   "execution_count": 966,
   "id": "eb9a9adf",
   "metadata": {},
   "outputs": [],
   "source": [
    "################## Step 3: calculate change of basis matrix\n",
    "def change_of_basis(wm, d):\n",
    "    ################## The first basis is d, how do we get the other 2 ?    \n",
    "\n",
    "    new_wm = torch.eye(wm.shape[0])\n",
    "    \n",
    "    # replace first column of identity matrix with d \n",
    "    new_wm[:, 0] = d\n",
    "    \n",
    "    print('new weight matrix : ', new_wm)\n",
    "\n",
    "    return new_wm"
   ]
  },
  {
   "cell_type": "code",
   "execution_count": 967,
   "id": "5b80f3e1",
   "metadata": {},
   "outputs": [],
   "source": [
    "def perform_weight_surgery(mnist_net, x1, x2, save_model=True):\n",
    "    \n",
    "    ################## Step 2: calculating difference vector of the 2 classes \n",
    "    # calculate the difference between the 2 class vectors \n",
    "    d = x1 - x2  \n",
    "    print('d : ', d)\n",
    "    d = d/torch.norm(d)\n",
    "    print('normed d : ', d)\n",
    "    weight_matrix = mnist_net.fc4.weight.clone().detach()  # weight matrix of the penultimate layer \n",
    "    print('weight matrix : \\n', weight_matrix)\n",
    "    \n",
    "    ################## Step 3: calculate change of basis matrix \n",
    "    # perform a change of basis, to put d as the first basis \n",
    "    new_wm = change_of_basis(weight_matrix, d)\n",
    "    \n",
    "    # gram schmidt to calculate orthogonal basis vectors \n",
    "    def gram_schmidt(weight_matrix):\n",
    "        ################## d is first basis vector\n",
    "        m, n = weight_matrix.shape\n",
    "        \n",
    "        Q = torch.zeros((m, n))\n",
    "\n",
    "        for i in range(n):\n",
    "\n",
    "            v = weight_matrix[:, i].clone()\n",
    "\n",
    "            for j in range(i):\n",
    "                proj = (v @ torch.outer(Q[:, j], Q[:, j]))\n",
    "                v = v - proj\n",
    "                        \n",
    "            Q[:, i] = v/torch.linalg.norm(v)\n",
    "            \n",
    "        return Q\n",
    "    \n",
    "    ################## Step 4: using Gram-Schmidt to get orthogonal basis vectors \n",
    "    U = gram_schmidt(new_wm)    \n",
    "    \n",
    "#     U, _ = torch.qr(new_wm)\n",
    "    print('U matrix: ', U)\n",
    "    print('result of U * U_transpose : ', torch.mm(U, U.T))\n",
    "#     print('result of U * U_inv : ', U @ torch.inverse(U))\n",
    "#     print('QR decomp :\\n', Q)\n",
    "    \n",
    "    S = torch.eye(U.shape[0])\n",
    "    S[0, 0] = 1e-5\n",
    "#     print('matrix S :\\n', S)\n",
    "    \n",
    "    # projection matrix \n",
    "#     P_d = torch.mm(torch.mm(U, S), U.T)\n",
    "    P_d = U @ S @ U.T\n",
    "\n",
    "    print('projection matrix : ', P_d)\n",
    "    \n",
    "#     modified_weight_matrix = torch.mm(P_d, weight_matrix)\n",
    "    modified_weight_matrix = P_d @ weight_matrix\n",
    "    \n",
    "    print('modified weight matrix :\\n', modified_weight_matrix)\n",
    "    \n",
    "    print('rank of the modified weights matrix : ', torch.linalg.matrix_rank(modified_weight_matrix))\n",
    "    \n",
    "    mnist_net.fc4.weight = torch.nn.Parameter(modified_weight_matrix)\n",
    "    \n",
    "    if save_model: \n",
    "        path = './modified_mnist_net.pth'\n",
    "        torch.save(mnist_net.state_dict(), path)"
   ]
  },
  {
   "cell_type": "code",
   "execution_count": 968,
   "id": "346069de",
   "metadata": {
    "scrolled": false
   },
   "outputs": [
    {
     "name": "stdout",
     "output_type": "stream",
     "text": [
      "d :  tensor([0.7583, 0.5322, 0.2683])\n",
      "normed d :  tensor([0.7862, 0.5518, 0.2782])\n",
      "weight matrix : \n",
      " tensor([[ 0.4307, -0.1483,  0.8380],\n",
      "        [ 0.0444, -1.0082,  0.3290],\n",
      "        [ 1.0885, -0.1497, -0.8214]])\n",
      "new weight matrix :  tensor([[0.7862, 0.0000, 0.0000],\n",
      "        [0.5518, 1.0000, 0.0000],\n",
      "        [0.2782, 0.0000, 1.0000]])\n",
      "U matrix:  tensor([[ 7.8621e-01, -5.2018e-01, -3.3359e-01],\n",
      "        [ 5.5179e-01,  8.3398e-01, -1.5807e-08],\n",
      "        [ 2.7821e-01, -1.8407e-01,  9.4272e-01]])\n",
      "result of U * U_transpose :  tensor([[ 1.0000e+00,  5.2729e-09, -1.2555e-08],\n",
      "        [ 5.2729e-09,  1.0000e+00, -2.9618e-16],\n",
      "        [-1.2555e-08, -2.9618e-16,  1.0000e+00]])\n",
      "projection matrix :  tensor([[ 0.3825, -0.4334, -0.2185],\n",
      "        [-0.4334,  0.6958, -0.1534],\n",
      "        [-0.2185, -0.1534,  0.9227]])\n",
      "modified weight matrix :\n",
      " tensor([[-0.0924,  0.4129,  0.3574],\n",
      "        [-0.3227, -0.6143, -0.0083],\n",
      "        [ 0.9034,  0.0489, -0.9915]])\n",
      "rank of the modified weights matrix :  tensor(3)\n"
     ]
    }
   ],
   "source": [
    "perform_weight_surgery(mnist_net, x1, x2, save_model=True)"
   ]
  },
  {
   "cell_type": "code",
   "execution_count": 969,
   "id": "3754c031",
   "metadata": {},
   "outputs": [],
   "source": [
    "original_mnist_net = Net().to(device)\n",
    "original_mnist_net.load_state_dict(torch.load('./mnist_net.pth', map_location=torch.device(device)))  # load saved model \n",
    "\n",
    "original_mnist_net.eval()\n",
    "\n",
    "original_deep_features = DeepFeatures(model=original_mnist_net)"
   ]
  },
  {
   "cell_type": "code",
   "execution_count": 970,
   "id": "59c38717",
   "metadata": {
    "scrolled": true
   },
   "outputs": [
    {
     "name": "stdout",
     "output_type": "stream",
     "text": [
      "val of centroid of class 3 :  tensor([ 0.6096,  0.3616, -0.7055])\n",
      "val of centroid of class 6 :  tensor([-0.1608, -0.1829, -0.9699])\n",
      "cosine similarity :  tensor(0.5200)\n"
     ]
    }
   ],
   "source": [
    "_, _ = find_class_embeddings(original_deep_features, data_loader, merge_class1, merge_class2, remove_outliers=False)"
   ]
  },
  {
   "cell_type": "code",
   "execution_count": 971,
   "id": "3e35df1e",
   "metadata": {
    "scrolled": true
   },
   "outputs": [
    {
     "name": "stdout",
     "output_type": "stream",
     "text": [
      "val of centroid of class 3 :  tensor([ 0.1572,  0.0354, -0.9869])\n",
      "val of centroid of class 6 :  tensor([-0.1249, -0.1594, -0.9793])\n",
      "cosine similarity :  tensor(0.9412)\n"
     ]
    }
   ],
   "source": [
    "_, _ = find_class_embeddings(deep_features, data_loader, merge_class1, merge_class2, remove_outliers=False)"
   ]
  },
  {
   "cell_type": "markdown",
   "id": "25a3132c",
   "metadata": {},
   "source": [
    "## View Unmodified Embeddings through Plotly"
   ]
  },
  {
   "cell_type": "code",
   "execution_count": 972,
   "id": "1489d437",
   "metadata": {},
   "outputs": [],
   "source": [
    "def remove_outliers(embeds, labels):\n",
    "    unique_labels = set(labels.numpy())\n",
    "    \n",
    "    model_if = IsolationForest(random_state=42)\n",
    "    \n",
    "    new_embeds, new_labels = [], []\n",
    "    \n",
    "    for label_x in unique_labels:\n",
    "        embed_x = embeds[labels==label_x]\n",
    "        \n",
    "        model_if.fit(embed_x)\n",
    "        embedx_anomaly = model_if.predict(embed_x)\n",
    "        \n",
    "        embed_x = embed_x[embedx_anomaly == 1]   # keeping inliers \n",
    "        labels_x = [label_x] * embed_x.shape[0]\n",
    "        \n",
    "        new_embeds.extend(embed_x)\n",
    "        new_labels.extend(labels_x)\n",
    "        \n",
    "    return np.stack(new_embeds), np.stack(new_labels)"
   ]
  },
  {
   "cell_type": "code",
   "execution_count": 973,
   "id": "fe72310f",
   "metadata": {},
   "outputs": [],
   "source": [
    "batch_images, batch_labels = next(iter(data_loader))\n",
    "\n",
    "embeds = original_deep_features.generate_embeddings(batch_images.to(device), normalize=True)\n",
    "embeds = embeds.detach().numpy()\n",
    "\n",
    "# new_embeds, new_labels = remove_outliers(embeds, batch_labels)"
   ]
  },
  {
   "cell_type": "code",
   "execution_count": 974,
   "id": "179b2ce4",
   "metadata": {},
   "outputs": [
    {
     "data": {
      "application/vnd.plotly.v1+json": {
       "config": {
        "plotlyServerURL": "https://plot.ly"
       },
       "data": [
        {
         "hovertemplate": "x=%{x}<br>y=%{y}<br>z=%{z}<br>label=%{marker.color}<extra></extra>",
         "legendgroup": "",
         "marker": {
          "color": [
           6,
           3,
           7,
           1,
           1,
           0,
           7,
           0,
           0,
           1,
           7,
           8,
           5,
           1,
           5,
           8,
           6,
           2,
           3,
           9,
           2,
           8,
           7,
           4,
           1,
           6,
           2,
           1,
           1,
           0,
           3,
           1,
           0,
           3,
           3,
           4,
           6,
           6,
           2,
           4,
           5,
           0,
           9,
           7,
           4,
           2,
           0,
           1,
           4,
           9,
           3,
           9,
           3,
           8,
           6,
           7,
           1,
           7,
           7,
           3,
           0,
           3,
           8,
           4,
           1,
           2,
           4,
           8,
           6,
           9,
           5,
           2,
           3,
           0,
           9,
           3,
           4,
           4,
           2,
           2,
           0,
           1,
           1,
           6,
           0,
           0,
           8,
           6,
           3,
           3,
           3,
           1,
           4,
           1,
           3,
           3,
           0,
           5,
           0,
           1,
           8,
           5,
           4,
           1,
           7,
           2,
           4,
           6,
           9,
           5,
           1,
           0,
           9,
           3,
           7,
           3,
           1,
           0,
           3,
           5,
           4,
           3,
           2,
           1,
           5,
           0,
           2,
           1
          ],
          "coloraxis": "coloraxis",
          "size": 5,
          "symbol": "circle"
         },
         "mode": "markers+text",
         "name": "",
         "scene": "scene",
         "showlegend": false,
         "text": [
          6,
          3,
          7,
          1,
          1,
          0,
          7,
          0,
          0,
          1,
          7,
          8,
          5,
          1,
          5,
          8,
          6,
          2,
          3,
          9,
          2,
          8,
          7,
          4,
          1,
          6,
          2,
          1,
          1,
          0,
          3,
          1,
          0,
          3,
          3,
          4,
          6,
          6,
          2,
          4,
          5,
          0,
          9,
          7,
          4,
          2,
          0,
          1,
          4,
          9,
          3,
          9,
          3,
          8,
          6,
          7,
          1,
          7,
          7,
          3,
          0,
          3,
          8,
          4,
          1,
          2,
          4,
          8,
          6,
          9,
          5,
          2,
          3,
          0,
          9,
          3,
          4,
          4,
          2,
          2,
          0,
          1,
          1,
          6,
          0,
          0,
          8,
          6,
          3,
          3,
          3,
          1,
          4,
          1,
          3,
          3,
          0,
          5,
          0,
          1,
          8,
          5,
          4,
          1,
          7,
          2,
          4,
          6,
          9,
          5,
          1,
          0,
          9,
          3,
          7,
          3,
          1,
          0,
          3,
          5,
          4,
          3,
          2,
          1,
          5,
          0,
          2,
          1
         ],
         "type": "scatter3d",
         "x": [
          0.016404621303081512,
          0.6309720873832703,
          0.5787270069122314,
          -0.9468808174133301,
          -0.563199520111084,
          -0.2457258254289627,
          0.6049878001213074,
          -0.27307945489883423,
          -0.15555381774902344,
          -0.9393249750137329,
          0.6530566811561584,
          -0.2679902911186218,
          -0.701726496219635,
          -0.8784928321838379,
          -0.70773845911026,
          0.08643125742673874,
          -0.10574335604906082,
          0.9625282287597656,
          0.5959658026695251,
          0.317824125289917,
          0.9765284657478333,
          0.04359808564186096,
          0.5622590780258179,
          -0.35824689269065857,
          -0.948973536491394,
          -0.10286085307598114,
          0.9768402576446533,
          -0.9417264461517334,
          -0.9449384212493896,
          -0.267668217420578,
          0.6269541382789612,
          -0.9434139132499695,
          -0.2551115155220032,
          0.5747964978218079,
          0.6143987774848938,
          -0.4190398156642914,
          -0.18449687957763672,
          -0.1878763884305954,
          0.9695875644683838,
          -0.4099404811859131,
          -0.9390994906425476,
          -0.27500951290130615,
          -0.41613712906837463,
          0.5762749314308167,
          -0.3791023790836334,
          0.9704136252403259,
          -0.2499067634344101,
          -0.9464808702468872,
          -0.3498867452144623,
          0.2591036558151245,
          0.6311608552932739,
          0.38585948944091797,
          0.6280844807624817,
          0.05764009803533554,
          -0.13844631612300873,
          0.5321328639984131,
          -0.9437917470932007,
          0.7052486538887024,
          0.8575608730316162,
          0.6330165266990662,
          -0.24654506146907806,
          0.6201727390289307,
          0.060075484216213226,
          -0.3368414640426636,
          -0.9451229572296143,
          0.9821990728378296,
          -0.4559210538864136,
          0.0839637741446495,
          -0.1298222839832306,
          0.32351067662239075,
          -0.6874767541885376,
          0.7196868062019348,
          0.627618670463562,
          -0.23869363963603973,
          0.26323339343070984,
          -0.33075278997421265,
          -0.46701493859291077,
          -0.40065643191337585,
          0.9750999212265015,
          0.9708455204963684,
          -0.25933602452278137,
          -0.9475225806236267,
          -0.945212721824646,
          -0.12147583812475204,
          -0.26642757654190063,
          -0.271345853805542,
          0.16949813067913055,
          -0.15220212936401367,
          0.6009491682052612,
          0.6754507422447205,
          0.6429110765457153,
          -0.9444652795791626,
          -0.5020884275436401,
          -0.9492911100387573,
          0.6134511232376099,
          0.6043713688850403,
          -0.24983984231948853,
          -0.7219449877738953,
          -0.27628397941589355,
          -0.9415952563285828,
          0.10690554231405258,
          -0.6861975789070129,
          -0.3657188415527344,
          -0.9474291801452637,
          0.604141116142273,
          0.9873188138008118,
          -0.35019463300704956,
          -0.12716209888458252,
          0.3738182485103607,
          -0.7281897664070129,
          -0.9375962615013123,
          -0.27073678374290466,
          0.5496800541877747,
          0.6048471331596375,
          0.5731878876686096,
          0.6144533157348633,
          -0.9466841220855713,
          -0.26371634006500244,
          0.6048299670219421,
          -0.6818256974220276,
          -0.4525825083255768,
          0.497905969619751,
          0.9773690104484558,
          -0.9325020909309387,
          -0.6268002986907959,
          -0.26604539155960083,
          0.9673776030540466,
          -0.9493390321731567
         ],
         "y": [
          -0.2833629250526428,
          0.3643575608730316,
          -0.7727527618408203,
          -0.07577908039093018,
          -0.492663711309433,
          -0.9219891428947449,
          -0.7680073380470276,
          -0.9164389371871948,
          -0.87718665599823,
          -0.13360266387462616,
          -0.7457259893417358,
          0.3750248849391937,
          0.5289002060890198,
          -0.24375402927398682,
          0.5297030210494995,
          0.9917606711387634,
          -0.21194373071193695,
          0.25128960609436035,
          0.4308326244354248,
          0.2509743869304657,
          0.13497811555862427,
          0.9860618710517883,
          -0.7893027067184448,
          -0.5721848011016846,
          -0.052889786660671234,
          -0.19287146627902985,
          0.125563845038414,
          -0.1177188977599144,
          -0.0932794064283371,
          -0.9216343760490417,
          0.3984515070915222,
          -0.10543444752693176,
          -0.9317432641983032,
          0.40027812123298645,
          0.3559609353542328,
          -0.5602611303329468,
          -0.12784793972969055,
          -0.15872570872306824,
          0.16616308689117432,
          -0.5796954035758972,
          0.24675625562667847,
          -0.9215189218521118,
          0.5731094479560852,
          -0.7857528924942017,
          -0.5970830321311951,
          0.1336754560470581,
          -0.9256435632705688,
          -0.07961194217205048,
          -0.6365645527839661,
          0.2261720597743988,
          0.35032543540000916,
          0.031879547983407974,
          0.3044153153896332,
          0.9898392558097839,
          -0.19325605034828186,
          -0.8222886323928833,
          -0.10252632200717926,
          -0.6922991275787354,
          -0.47955143451690674,
          0.5842544436454773,
          -0.9310712218284607,
          0.3463020920753479,
          0.9742143750190735,
          -0.6088278293609619,
          -0.09172562509775162,
          0.07797462493181229,
          -0.4975877106189728,
          0.9860660433769226,
          -0.20349116623401642,
          0.40036579966545105,
          0.5267741084098816,
          -0.5955226421356201,
          0.398345023393631,
          -0.9251621961593628,
          0.33472388982772827,
          0.8798316717147827,
          -0.49709227681159973,
          -0.5579602718353271,
          0.12824955582618713,
          0.14391812682151794,
          -0.9249187111854553,
          -0.06932171434164047,
          -0.09096169471740723,
          -0.17338117957115173,
          -0.9245473742485046,
          -0.9186257719993591,
          0.983453631401062,
          -0.19187049567699432,
          0.6363129019737244,
          0.33397695422172546,
          0.3735577464103699,
          -0.09717659652233124,
          -0.5134960412979126,
          -0.048841193318367004,
          0.36212092638015747,
          0.3105173110961914,
          -0.9209051728248596,
          0.5313568115234375,
          -0.9038801193237305,
          -0.11863090097904205,
          0.9813809394836426,
          0.5265687108039856,
          -0.5532722473144531,
          -0.07028687745332718,
          -0.7622702121734619,
          0.08686253428459167,
          -0.613642156124115,
          -0.16974963247776031,
          0.2793343663215637,
          0.6572403311729431,
          -0.14412975311279297,
          -0.9167075157165527,
          -0.40877947211265564,
          0.3570939898490906,
          -0.7776727080345154,
          0.49610212445259094,
          -0.0776812955737114,
          -0.9271663427352905,
          0.3995225727558136,
          0.5258494019508362,
          -0.5336335301399231,
          0.49985289573669434,
          0.10104813426733017,
          -0.17192578315734863,
          0.5147802829742432,
          -0.9189633131027222,
          0.14330168068408966,
          -0.04821132495999336
         ],
         "z": [
          -0.9588724374771118,
          -0.6849216818809509,
          0.2606301009654999,
          -0.3125287890434265,
          -0.6633918881416321,
          -0.29925718903541565,
          0.21012991666793823,
          -0.29251888394355774,
          -0.45425382256507874,
          -0.31594130396842957,
          0.13194599747657776,
          -0.8874331116676331,
          0.4773305058479309,
          -0.410894513130188,
          0.46746230125427246,
          -0.09455353766679764,
          -0.9715442061424255,
          0.10194539278745651,
          -0.6776489019393921,
          0.9143301844596863,
          0.16784854233264923,
          -0.16056497395038605,
          0.2467101514339447,
          0.7377422451972961,
          -0.31088870763778687,
          -0.9758176803588867,
          0.1732538640499115,
          -0.3151088356971741,
          -0.3136724531650543,
          -0.28096938133239746,
          -0.6694511771202087,
          -0.31441035866737366,
          -0.2584039270877838,
          -0.7137130498886108,
          -0.7041349411010742,
          0.7145020365715027,
          -0.9744822978973389,
          -0.9692825078964233,
          0.17969338595867157,
          0.7042030692100525,
          0.2391723394393921,
          -0.27417632937431335,
          0.7059571743011475,
          0.22472117841243744,
          0.7069463133811951,
          0.2010675072669983,
          -0.28413116931915283,
          -0.3127874433994293,
          0.6872879862785339,
          0.9389949440956116,
          -0.6920318603515625,
          0.9220065474510193,
          -0.7161293029785156,
          -0.12998449802398682,
          -0.9713313579559326,
          0.20168296992778778,
          -0.3142379820346832,
          0.15279507637023926,
          0.1860640048980713,
          -0.5078748464584351,
          -0.2689274847507477,
          -0.7038896083831787,
          -0.2174794226884842,
          0.7182385325431824,
          -0.31357479095458984,
          0.17089465260505676,
          0.7379311919212341,
          -0.14361023902893066,
          -0.9704315662384033,
          0.8573494553565979,
          0.4998846650123596,
          -0.3569364845752716,
          -0.6688915491104126,
          -0.2951274812221527,
          0.9048027992248535,
          -0.3413192629814148,
          0.7312976121902466,
          0.7267424464225769,
          0.18092063069343567,
          0.1916942596435547,
          -0.2779751121997833,
          -0.3120826482772827,
          -0.313526451587677,
          -0.9773344993591309,
          -0.2724492847919464,
          -0.2872248589992523,
          -0.06394883245229721,
          -0.9695464372634888,
          -0.4837002754211426,
          -0.6574386954307556,
          -0.6686703562736511,
          -0.31391406059265137,
          0.6958655714988708,
          -0.3105817139148712,
          -0.7018163800239563,
          -0.7336989045143127,
          -0.2991883456707001,
          0.44323283433914185,
          -0.32660049200057983,
          -0.31515878438949585,
          -0.1595700979232788,
          0.5018547773361206,
          0.7484246492385864,
          -0.31215015053749084,
          0.23228760063648224,
          0.1328774392604828,
          0.7076771855354309,
          -0.9772486686706543,
          0.8844389915466309,
          -0.19435760378837585,
          -0.3164488673210144,
          -0.2938520908355713,
          0.728526771068573,
          -0.7117891311645508,
          0.2582263946533203,
          -0.6134573221206665,
          -0.3126577138900757,
          -0.2661134898662567,
          -0.6888848543167114,
          0.5085234642028809,
          0.7144258618354797,
          -0.7086867094039917,
          0.18584677577018738,
          -0.3176185190677643,
          0.5849124789237976,
          -0.2910778820514679,
          0.20891445875167847,
          -0.31053346395492554
         ]
        }
       ],
       "layout": {
        "coloraxis": {
         "colorbar": {
          "title": {
           "text": "label"
          }
         },
         "colorscale": [
          [
           0,
           "#0d0887"
          ],
          [
           0.1111111111111111,
           "#46039f"
          ],
          [
           0.2222222222222222,
           "#7201a8"
          ],
          [
           0.3333333333333333,
           "#9c179e"
          ],
          [
           0.4444444444444444,
           "#bd3786"
          ],
          [
           0.5555555555555556,
           "#d8576b"
          ],
          [
           0.6666666666666666,
           "#ed7953"
          ],
          [
           0.7777777777777778,
           "#fb9f3a"
          ],
          [
           0.8888888888888888,
           "#fdca26"
          ],
          [
           1,
           "#f0f921"
          ]
         ]
        },
        "legend": {
         "tracegroupgap": 0
        },
        "margin": {
         "t": 60
        },
        "scene": {
         "domain": {
          "x": [
           0,
           1
          ],
          "y": [
           0,
           1
          ]
         },
         "xaxis": {
          "title": {
           "text": "x"
          }
         },
         "yaxis": {
          "title": {
           "text": "y"
          }
         },
         "zaxis": {
          "title": {
           "text": "z"
          }
         }
        },
        "template": {
         "data": {
          "bar": [
           {
            "error_x": {
             "color": "#2a3f5f"
            },
            "error_y": {
             "color": "#2a3f5f"
            },
            "marker": {
             "line": {
              "color": "#E5ECF6",
              "width": 0.5
             },
             "pattern": {
              "fillmode": "overlay",
              "size": 10,
              "solidity": 0.2
             }
            },
            "type": "bar"
           }
          ],
          "barpolar": [
           {
            "marker": {
             "line": {
              "color": "#E5ECF6",
              "width": 0.5
             },
             "pattern": {
              "fillmode": "overlay",
              "size": 10,
              "solidity": 0.2
             }
            },
            "type": "barpolar"
           }
          ],
          "carpet": [
           {
            "aaxis": {
             "endlinecolor": "#2a3f5f",
             "gridcolor": "white",
             "linecolor": "white",
             "minorgridcolor": "white",
             "startlinecolor": "#2a3f5f"
            },
            "baxis": {
             "endlinecolor": "#2a3f5f",
             "gridcolor": "white",
             "linecolor": "white",
             "minorgridcolor": "white",
             "startlinecolor": "#2a3f5f"
            },
            "type": "carpet"
           }
          ],
          "choropleth": [
           {
            "colorbar": {
             "outlinewidth": 0,
             "ticks": ""
            },
            "type": "choropleth"
           }
          ],
          "contour": [
           {
            "colorbar": {
             "outlinewidth": 0,
             "ticks": ""
            },
            "colorscale": [
             [
              0,
              "#0d0887"
             ],
             [
              0.1111111111111111,
              "#46039f"
             ],
             [
              0.2222222222222222,
              "#7201a8"
             ],
             [
              0.3333333333333333,
              "#9c179e"
             ],
             [
              0.4444444444444444,
              "#bd3786"
             ],
             [
              0.5555555555555556,
              "#d8576b"
             ],
             [
              0.6666666666666666,
              "#ed7953"
             ],
             [
              0.7777777777777778,
              "#fb9f3a"
             ],
             [
              0.8888888888888888,
              "#fdca26"
             ],
             [
              1,
              "#f0f921"
             ]
            ],
            "type": "contour"
           }
          ],
          "contourcarpet": [
           {
            "colorbar": {
             "outlinewidth": 0,
             "ticks": ""
            },
            "type": "contourcarpet"
           }
          ],
          "heatmap": [
           {
            "colorbar": {
             "outlinewidth": 0,
             "ticks": ""
            },
            "colorscale": [
             [
              0,
              "#0d0887"
             ],
             [
              0.1111111111111111,
              "#46039f"
             ],
             [
              0.2222222222222222,
              "#7201a8"
             ],
             [
              0.3333333333333333,
              "#9c179e"
             ],
             [
              0.4444444444444444,
              "#bd3786"
             ],
             [
              0.5555555555555556,
              "#d8576b"
             ],
             [
              0.6666666666666666,
              "#ed7953"
             ],
             [
              0.7777777777777778,
              "#fb9f3a"
             ],
             [
              0.8888888888888888,
              "#fdca26"
             ],
             [
              1,
              "#f0f921"
             ]
            ],
            "type": "heatmap"
           }
          ],
          "heatmapgl": [
           {
            "colorbar": {
             "outlinewidth": 0,
             "ticks": ""
            },
            "colorscale": [
             [
              0,
              "#0d0887"
             ],
             [
              0.1111111111111111,
              "#46039f"
             ],
             [
              0.2222222222222222,
              "#7201a8"
             ],
             [
              0.3333333333333333,
              "#9c179e"
             ],
             [
              0.4444444444444444,
              "#bd3786"
             ],
             [
              0.5555555555555556,
              "#d8576b"
             ],
             [
              0.6666666666666666,
              "#ed7953"
             ],
             [
              0.7777777777777778,
              "#fb9f3a"
             ],
             [
              0.8888888888888888,
              "#fdca26"
             ],
             [
              1,
              "#f0f921"
             ]
            ],
            "type": "heatmapgl"
           }
          ],
          "histogram": [
           {
            "marker": {
             "pattern": {
              "fillmode": "overlay",
              "size": 10,
              "solidity": 0.2
             }
            },
            "type": "histogram"
           }
          ],
          "histogram2d": [
           {
            "colorbar": {
             "outlinewidth": 0,
             "ticks": ""
            },
            "colorscale": [
             [
              0,
              "#0d0887"
             ],
             [
              0.1111111111111111,
              "#46039f"
             ],
             [
              0.2222222222222222,
              "#7201a8"
             ],
             [
              0.3333333333333333,
              "#9c179e"
             ],
             [
              0.4444444444444444,
              "#bd3786"
             ],
             [
              0.5555555555555556,
              "#d8576b"
             ],
             [
              0.6666666666666666,
              "#ed7953"
             ],
             [
              0.7777777777777778,
              "#fb9f3a"
             ],
             [
              0.8888888888888888,
              "#fdca26"
             ],
             [
              1,
              "#f0f921"
             ]
            ],
            "type": "histogram2d"
           }
          ],
          "histogram2dcontour": [
           {
            "colorbar": {
             "outlinewidth": 0,
             "ticks": ""
            },
            "colorscale": [
             [
              0,
              "#0d0887"
             ],
             [
              0.1111111111111111,
              "#46039f"
             ],
             [
              0.2222222222222222,
              "#7201a8"
             ],
             [
              0.3333333333333333,
              "#9c179e"
             ],
             [
              0.4444444444444444,
              "#bd3786"
             ],
             [
              0.5555555555555556,
              "#d8576b"
             ],
             [
              0.6666666666666666,
              "#ed7953"
             ],
             [
              0.7777777777777778,
              "#fb9f3a"
             ],
             [
              0.8888888888888888,
              "#fdca26"
             ],
             [
              1,
              "#f0f921"
             ]
            ],
            "type": "histogram2dcontour"
           }
          ],
          "mesh3d": [
           {
            "colorbar": {
             "outlinewidth": 0,
             "ticks": ""
            },
            "type": "mesh3d"
           }
          ],
          "parcoords": [
           {
            "line": {
             "colorbar": {
              "outlinewidth": 0,
              "ticks": ""
             }
            },
            "type": "parcoords"
           }
          ],
          "pie": [
           {
            "automargin": true,
            "type": "pie"
           }
          ],
          "scatter": [
           {
            "fillpattern": {
             "fillmode": "overlay",
             "size": 10,
             "solidity": 0.2
            },
            "type": "scatter"
           }
          ],
          "scatter3d": [
           {
            "line": {
             "colorbar": {
              "outlinewidth": 0,
              "ticks": ""
             }
            },
            "marker": {
             "colorbar": {
              "outlinewidth": 0,
              "ticks": ""
             }
            },
            "type": "scatter3d"
           }
          ],
          "scattercarpet": [
           {
            "marker": {
             "colorbar": {
              "outlinewidth": 0,
              "ticks": ""
             }
            },
            "type": "scattercarpet"
           }
          ],
          "scattergeo": [
           {
            "marker": {
             "colorbar": {
              "outlinewidth": 0,
              "ticks": ""
             }
            },
            "type": "scattergeo"
           }
          ],
          "scattergl": [
           {
            "marker": {
             "colorbar": {
              "outlinewidth": 0,
              "ticks": ""
             }
            },
            "type": "scattergl"
           }
          ],
          "scattermapbox": [
           {
            "marker": {
             "colorbar": {
              "outlinewidth": 0,
              "ticks": ""
             }
            },
            "type": "scattermapbox"
           }
          ],
          "scatterpolar": [
           {
            "marker": {
             "colorbar": {
              "outlinewidth": 0,
              "ticks": ""
             }
            },
            "type": "scatterpolar"
           }
          ],
          "scatterpolargl": [
           {
            "marker": {
             "colorbar": {
              "outlinewidth": 0,
              "ticks": ""
             }
            },
            "type": "scatterpolargl"
           }
          ],
          "scatterternary": [
           {
            "marker": {
             "colorbar": {
              "outlinewidth": 0,
              "ticks": ""
             }
            },
            "type": "scatterternary"
           }
          ],
          "surface": [
           {
            "colorbar": {
             "outlinewidth": 0,
             "ticks": ""
            },
            "colorscale": [
             [
              0,
              "#0d0887"
             ],
             [
              0.1111111111111111,
              "#46039f"
             ],
             [
              0.2222222222222222,
              "#7201a8"
             ],
             [
              0.3333333333333333,
              "#9c179e"
             ],
             [
              0.4444444444444444,
              "#bd3786"
             ],
             [
              0.5555555555555556,
              "#d8576b"
             ],
             [
              0.6666666666666666,
              "#ed7953"
             ],
             [
              0.7777777777777778,
              "#fb9f3a"
             ],
             [
              0.8888888888888888,
              "#fdca26"
             ],
             [
              1,
              "#f0f921"
             ]
            ],
            "type": "surface"
           }
          ],
          "table": [
           {
            "cells": {
             "fill": {
              "color": "#EBF0F8"
             },
             "line": {
              "color": "white"
             }
            },
            "header": {
             "fill": {
              "color": "#C8D4E3"
             },
             "line": {
              "color": "white"
             }
            },
            "type": "table"
           }
          ]
         },
         "layout": {
          "annotationdefaults": {
           "arrowcolor": "#2a3f5f",
           "arrowhead": 0,
           "arrowwidth": 1
          },
          "autotypenumbers": "strict",
          "coloraxis": {
           "colorbar": {
            "outlinewidth": 0,
            "ticks": ""
           }
          },
          "colorscale": {
           "diverging": [
            [
             0,
             "#8e0152"
            ],
            [
             0.1,
             "#c51b7d"
            ],
            [
             0.2,
             "#de77ae"
            ],
            [
             0.3,
             "#f1b6da"
            ],
            [
             0.4,
             "#fde0ef"
            ],
            [
             0.5,
             "#f7f7f7"
            ],
            [
             0.6,
             "#e6f5d0"
            ],
            [
             0.7,
             "#b8e186"
            ],
            [
             0.8,
             "#7fbc41"
            ],
            [
             0.9,
             "#4d9221"
            ],
            [
             1,
             "#276419"
            ]
           ],
           "sequential": [
            [
             0,
             "#0d0887"
            ],
            [
             0.1111111111111111,
             "#46039f"
            ],
            [
             0.2222222222222222,
             "#7201a8"
            ],
            [
             0.3333333333333333,
             "#9c179e"
            ],
            [
             0.4444444444444444,
             "#bd3786"
            ],
            [
             0.5555555555555556,
             "#d8576b"
            ],
            [
             0.6666666666666666,
             "#ed7953"
            ],
            [
             0.7777777777777778,
             "#fb9f3a"
            ],
            [
             0.8888888888888888,
             "#fdca26"
            ],
            [
             1,
             "#f0f921"
            ]
           ],
           "sequentialminus": [
            [
             0,
             "#0d0887"
            ],
            [
             0.1111111111111111,
             "#46039f"
            ],
            [
             0.2222222222222222,
             "#7201a8"
            ],
            [
             0.3333333333333333,
             "#9c179e"
            ],
            [
             0.4444444444444444,
             "#bd3786"
            ],
            [
             0.5555555555555556,
             "#d8576b"
            ],
            [
             0.6666666666666666,
             "#ed7953"
            ],
            [
             0.7777777777777778,
             "#fb9f3a"
            ],
            [
             0.8888888888888888,
             "#fdca26"
            ],
            [
             1,
             "#f0f921"
            ]
           ]
          },
          "colorway": [
           "#636efa",
           "#EF553B",
           "#00cc96",
           "#ab63fa",
           "#FFA15A",
           "#19d3f3",
           "#FF6692",
           "#B6E880",
           "#FF97FF",
           "#FECB52"
          ],
          "font": {
           "color": "#2a3f5f"
          },
          "geo": {
           "bgcolor": "white",
           "lakecolor": "white",
           "landcolor": "#E5ECF6",
           "showlakes": true,
           "showland": true,
           "subunitcolor": "white"
          },
          "hoverlabel": {
           "align": "left"
          },
          "hovermode": "closest",
          "mapbox": {
           "style": "light"
          },
          "paper_bgcolor": "white",
          "plot_bgcolor": "#E5ECF6",
          "polar": {
           "angularaxis": {
            "gridcolor": "white",
            "linecolor": "white",
            "ticks": ""
           },
           "bgcolor": "#E5ECF6",
           "radialaxis": {
            "gridcolor": "white",
            "linecolor": "white",
            "ticks": ""
           }
          },
          "scene": {
           "xaxis": {
            "backgroundcolor": "#E5ECF6",
            "gridcolor": "white",
            "gridwidth": 2,
            "linecolor": "white",
            "showbackground": true,
            "ticks": "",
            "zerolinecolor": "white"
           },
           "yaxis": {
            "backgroundcolor": "#E5ECF6",
            "gridcolor": "white",
            "gridwidth": 2,
            "linecolor": "white",
            "showbackground": true,
            "ticks": "",
            "zerolinecolor": "white"
           },
           "zaxis": {
            "backgroundcolor": "#E5ECF6",
            "gridcolor": "white",
            "gridwidth": 2,
            "linecolor": "white",
            "showbackground": true,
            "ticks": "",
            "zerolinecolor": "white"
           }
          },
          "shapedefaults": {
           "line": {
            "color": "#2a3f5f"
           }
          },
          "ternary": {
           "aaxis": {
            "gridcolor": "white",
            "linecolor": "white",
            "ticks": ""
           },
           "baxis": {
            "gridcolor": "white",
            "linecolor": "white",
            "ticks": ""
           },
           "bgcolor": "#E5ECF6",
           "caxis": {
            "gridcolor": "white",
            "linecolor": "white",
            "ticks": ""
           }
          },
          "title": {
           "x": 0.05
          },
          "xaxis": {
           "automargin": true,
           "gridcolor": "white",
           "linecolor": "white",
           "ticks": "",
           "title": {
            "standoff": 15
           },
           "zerolinecolor": "white",
           "zerolinewidth": 2
          },
          "yaxis": {
           "automargin": true,
           "gridcolor": "white",
           "linecolor": "white",
           "ticks": "",
           "title": {
            "standoff": 15
           },
           "zerolinecolor": "white",
           "zerolinewidth": 2
          }
         }
        }
       }
      },
      "text/html": [
       "<div>                            <div id=\"fcc87483-f316-4bd3-a4ea-b8a71be16062\" class=\"plotly-graph-div\" style=\"height:525px; width:100%;\"></div>            <script type=\"text/javascript\">                require([\"plotly\"], function(Plotly) {                    window.PLOTLYENV=window.PLOTLYENV || {};                                    if (document.getElementById(\"fcc87483-f316-4bd3-a4ea-b8a71be16062\")) {                    Plotly.newPlot(                        \"fcc87483-f316-4bd3-a4ea-b8a71be16062\",                        [{\"hovertemplate\":\"x=%{x}<br>y=%{y}<br>z=%{z}<br>label=%{marker.color}<extra></extra>\",\"legendgroup\":\"\",\"marker\":{\"color\":[6,3,7,1,1,0,7,0,0,1,7,8,5,1,5,8,6,2,3,9,2,8,7,4,1,6,2,1,1,0,3,1,0,3,3,4,6,6,2,4,5,0,9,7,4,2,0,1,4,9,3,9,3,8,6,7,1,7,7,3,0,3,8,4,1,2,4,8,6,9,5,2,3,0,9,3,4,4,2,2,0,1,1,6,0,0,8,6,3,3,3,1,4,1,3,3,0,5,0,1,8,5,4,1,7,2,4,6,9,5,1,0,9,3,7,3,1,0,3,5,4,3,2,1,5,0,2,1],\"coloraxis\":\"coloraxis\",\"symbol\":\"circle\",\"size\":5},\"mode\":\"markers+text\",\"name\":\"\",\"scene\":\"scene\",\"showlegend\":false,\"text\":[6.0,3.0,7.0,1.0,1.0,0.0,7.0,0.0,0.0,1.0,7.0,8.0,5.0,1.0,5.0,8.0,6.0,2.0,3.0,9.0,2.0,8.0,7.0,4.0,1.0,6.0,2.0,1.0,1.0,0.0,3.0,1.0,0.0,3.0,3.0,4.0,6.0,6.0,2.0,4.0,5.0,0.0,9.0,7.0,4.0,2.0,0.0,1.0,4.0,9.0,3.0,9.0,3.0,8.0,6.0,7.0,1.0,7.0,7.0,3.0,0.0,3.0,8.0,4.0,1.0,2.0,4.0,8.0,6.0,9.0,5.0,2.0,3.0,0.0,9.0,3.0,4.0,4.0,2.0,2.0,0.0,1.0,1.0,6.0,0.0,0.0,8.0,6.0,3.0,3.0,3.0,1.0,4.0,1.0,3.0,3.0,0.0,5.0,0.0,1.0,8.0,5.0,4.0,1.0,7.0,2.0,4.0,6.0,9.0,5.0,1.0,0.0,9.0,3.0,7.0,3.0,1.0,0.0,3.0,5.0,4.0,3.0,2.0,1.0,5.0,0.0,2.0,1.0],\"x\":[0.016404621303081512,0.6309720873832703,0.5787270069122314,-0.9468808174133301,-0.563199520111084,-0.2457258254289627,0.6049878001213074,-0.27307945489883423,-0.15555381774902344,-0.9393249750137329,0.6530566811561584,-0.2679902911186218,-0.701726496219635,-0.8784928321838379,-0.70773845911026,0.08643125742673874,-0.10574335604906082,0.9625282287597656,0.5959658026695251,0.317824125289917,0.9765284657478333,0.04359808564186096,0.5622590780258179,-0.35824689269065857,-0.948973536491394,-0.10286085307598114,0.9768402576446533,-0.9417264461517334,-0.9449384212493896,-0.267668217420578,0.6269541382789612,-0.9434139132499695,-0.2551115155220032,0.5747964978218079,0.6143987774848938,-0.4190398156642914,-0.18449687957763672,-0.1878763884305954,0.9695875644683838,-0.4099404811859131,-0.9390994906425476,-0.27500951290130615,-0.41613712906837463,0.5762749314308167,-0.3791023790836334,0.9704136252403259,-0.2499067634344101,-0.9464808702468872,-0.3498867452144623,0.2591036558151245,0.6311608552932739,0.38585948944091797,0.6280844807624817,0.05764009803533554,-0.13844631612300873,0.5321328639984131,-0.9437917470932007,0.7052486538887024,0.8575608730316162,0.6330165266990662,-0.24654506146907806,0.6201727390289307,0.060075484216213226,-0.3368414640426636,-0.9451229572296143,0.9821990728378296,-0.4559210538864136,0.0839637741446495,-0.1298222839832306,0.32351067662239075,-0.6874767541885376,0.7196868062019348,0.627618670463562,-0.23869363963603973,0.26323339343070984,-0.33075278997421265,-0.46701493859291077,-0.40065643191337585,0.9750999212265015,0.9708455204963684,-0.25933602452278137,-0.9475225806236267,-0.945212721824646,-0.12147583812475204,-0.26642757654190063,-0.271345853805542,0.16949813067913055,-0.15220212936401367,0.6009491682052612,0.6754507422447205,0.6429110765457153,-0.9444652795791626,-0.5020884275436401,-0.9492911100387573,0.6134511232376099,0.6043713688850403,-0.24983984231948853,-0.7219449877738953,-0.27628397941589355,-0.9415952563285828,0.10690554231405258,-0.6861975789070129,-0.3657188415527344,-0.9474291801452637,0.604141116142273,0.9873188138008118,-0.35019463300704956,-0.12716209888458252,0.3738182485103607,-0.7281897664070129,-0.9375962615013123,-0.27073678374290466,0.5496800541877747,0.6048471331596375,0.5731878876686096,0.6144533157348633,-0.9466841220855713,-0.26371634006500244,0.6048299670219421,-0.6818256974220276,-0.4525825083255768,0.497905969619751,0.9773690104484558,-0.9325020909309387,-0.6268002986907959,-0.26604539155960083,0.9673776030540466,-0.9493390321731567],\"y\":[-0.2833629250526428,0.3643575608730316,-0.7727527618408203,-0.07577908039093018,-0.492663711309433,-0.9219891428947449,-0.7680073380470276,-0.9164389371871948,-0.87718665599823,-0.13360266387462616,-0.7457259893417358,0.3750248849391937,0.5289002060890198,-0.24375402927398682,0.5297030210494995,0.9917606711387634,-0.21194373071193695,0.25128960609436035,0.4308326244354248,0.2509743869304657,0.13497811555862427,0.9860618710517883,-0.7893027067184448,-0.5721848011016846,-0.052889786660671234,-0.19287146627902985,0.125563845038414,-0.1177188977599144,-0.0932794064283371,-0.9216343760490417,0.3984515070915222,-0.10543444752693176,-0.9317432641983032,0.40027812123298645,0.3559609353542328,-0.5602611303329468,-0.12784793972969055,-0.15872570872306824,0.16616308689117432,-0.5796954035758972,0.24675625562667847,-0.9215189218521118,0.5731094479560852,-0.7857528924942017,-0.5970830321311951,0.1336754560470581,-0.9256435632705688,-0.07961194217205048,-0.6365645527839661,0.2261720597743988,0.35032543540000916,0.031879547983407974,0.3044153153896332,0.9898392558097839,-0.19325605034828186,-0.8222886323928833,-0.10252632200717926,-0.6922991275787354,-0.47955143451690674,0.5842544436454773,-0.9310712218284607,0.3463020920753479,0.9742143750190735,-0.6088278293609619,-0.09172562509775162,0.07797462493181229,-0.4975877106189728,0.9860660433769226,-0.20349116623401642,0.40036579966545105,0.5267741084098816,-0.5955226421356201,0.398345023393631,-0.9251621961593628,0.33472388982772827,0.8798316717147827,-0.49709227681159973,-0.5579602718353271,0.12824955582618713,0.14391812682151794,-0.9249187111854553,-0.06932171434164047,-0.09096169471740723,-0.17338117957115173,-0.9245473742485046,-0.9186257719993591,0.983453631401062,-0.19187049567699432,0.6363129019737244,0.33397695422172546,0.3735577464103699,-0.09717659652233124,-0.5134960412979126,-0.048841193318367004,0.36212092638015747,0.3105173110961914,-0.9209051728248596,0.5313568115234375,-0.9038801193237305,-0.11863090097904205,0.9813809394836426,0.5265687108039856,-0.5532722473144531,-0.07028687745332718,-0.7622702121734619,0.08686253428459167,-0.613642156124115,-0.16974963247776031,0.2793343663215637,0.6572403311729431,-0.14412975311279297,-0.9167075157165527,-0.40877947211265564,0.3570939898490906,-0.7776727080345154,0.49610212445259094,-0.0776812955737114,-0.9271663427352905,0.3995225727558136,0.5258494019508362,-0.5336335301399231,0.49985289573669434,0.10104813426733017,-0.17192578315734863,0.5147802829742432,-0.9189633131027222,0.14330168068408966,-0.04821132495999336],\"z\":[-0.9588724374771118,-0.6849216818809509,0.2606301009654999,-0.3125287890434265,-0.6633918881416321,-0.29925718903541565,0.21012991666793823,-0.29251888394355774,-0.45425382256507874,-0.31594130396842957,0.13194599747657776,-0.8874331116676331,0.4773305058479309,-0.410894513130188,0.46746230125427246,-0.09455353766679764,-0.9715442061424255,0.10194539278745651,-0.6776489019393921,0.9143301844596863,0.16784854233264923,-0.16056497395038605,0.2467101514339447,0.7377422451972961,-0.31088870763778687,-0.9758176803588867,0.1732538640499115,-0.3151088356971741,-0.3136724531650543,-0.28096938133239746,-0.6694511771202087,-0.31441035866737366,-0.2584039270877838,-0.7137130498886108,-0.7041349411010742,0.7145020365715027,-0.9744822978973389,-0.9692825078964233,0.17969338595867157,0.7042030692100525,0.2391723394393921,-0.27417632937431335,0.7059571743011475,0.22472117841243744,0.7069463133811951,0.2010675072669983,-0.28413116931915283,-0.3127874433994293,0.6872879862785339,0.9389949440956116,-0.6920318603515625,0.9220065474510193,-0.7161293029785156,-0.12998449802398682,-0.9713313579559326,0.20168296992778778,-0.3142379820346832,0.15279507637023926,0.1860640048980713,-0.5078748464584351,-0.2689274847507477,-0.7038896083831787,-0.2174794226884842,0.7182385325431824,-0.31357479095458984,0.17089465260505676,0.7379311919212341,-0.14361023902893066,-0.9704315662384033,0.8573494553565979,0.4998846650123596,-0.3569364845752716,-0.6688915491104126,-0.2951274812221527,0.9048027992248535,-0.3413192629814148,0.7312976121902466,0.7267424464225769,0.18092063069343567,0.1916942596435547,-0.2779751121997833,-0.3120826482772827,-0.313526451587677,-0.9773344993591309,-0.2724492847919464,-0.2872248589992523,-0.06394883245229721,-0.9695464372634888,-0.4837002754211426,-0.6574386954307556,-0.6686703562736511,-0.31391406059265137,0.6958655714988708,-0.3105817139148712,-0.7018163800239563,-0.7336989045143127,-0.2991883456707001,0.44323283433914185,-0.32660049200057983,-0.31515878438949585,-0.1595700979232788,0.5018547773361206,0.7484246492385864,-0.31215015053749084,0.23228760063648224,0.1328774392604828,0.7076771855354309,-0.9772486686706543,0.8844389915466309,-0.19435760378837585,-0.3164488673210144,-0.2938520908355713,0.728526771068573,-0.7117891311645508,0.2582263946533203,-0.6134573221206665,-0.3126577138900757,-0.2661134898662567,-0.6888848543167114,0.5085234642028809,0.7144258618354797,-0.7086867094039917,0.18584677577018738,-0.3176185190677643,0.5849124789237976,-0.2910778820514679,0.20891445875167847,-0.31053346395492554],\"type\":\"scatter3d\"}],                        {\"template\":{\"data\":{\"histogram2dcontour\":[{\"type\":\"histogram2dcontour\",\"colorbar\":{\"outlinewidth\":0,\"ticks\":\"\"},\"colorscale\":[[0.0,\"#0d0887\"],[0.1111111111111111,\"#46039f\"],[0.2222222222222222,\"#7201a8\"],[0.3333333333333333,\"#9c179e\"],[0.4444444444444444,\"#bd3786\"],[0.5555555555555556,\"#d8576b\"],[0.6666666666666666,\"#ed7953\"],[0.7777777777777778,\"#fb9f3a\"],[0.8888888888888888,\"#fdca26\"],[1.0,\"#f0f921\"]]}],\"choropleth\":[{\"type\":\"choropleth\",\"colorbar\":{\"outlinewidth\":0,\"ticks\":\"\"}}],\"histogram2d\":[{\"type\":\"histogram2d\",\"colorbar\":{\"outlinewidth\":0,\"ticks\":\"\"},\"colorscale\":[[0.0,\"#0d0887\"],[0.1111111111111111,\"#46039f\"],[0.2222222222222222,\"#7201a8\"],[0.3333333333333333,\"#9c179e\"],[0.4444444444444444,\"#bd3786\"],[0.5555555555555556,\"#d8576b\"],[0.6666666666666666,\"#ed7953\"],[0.7777777777777778,\"#fb9f3a\"],[0.8888888888888888,\"#fdca26\"],[1.0,\"#f0f921\"]]}],\"heatmap\":[{\"type\":\"heatmap\",\"colorbar\":{\"outlinewidth\":0,\"ticks\":\"\"},\"colorscale\":[[0.0,\"#0d0887\"],[0.1111111111111111,\"#46039f\"],[0.2222222222222222,\"#7201a8\"],[0.3333333333333333,\"#9c179e\"],[0.4444444444444444,\"#bd3786\"],[0.5555555555555556,\"#d8576b\"],[0.6666666666666666,\"#ed7953\"],[0.7777777777777778,\"#fb9f3a\"],[0.8888888888888888,\"#fdca26\"],[1.0,\"#f0f921\"]]}],\"heatmapgl\":[{\"type\":\"heatmapgl\",\"colorbar\":{\"outlinewidth\":0,\"ticks\":\"\"},\"colorscale\":[[0.0,\"#0d0887\"],[0.1111111111111111,\"#46039f\"],[0.2222222222222222,\"#7201a8\"],[0.3333333333333333,\"#9c179e\"],[0.4444444444444444,\"#bd3786\"],[0.5555555555555556,\"#d8576b\"],[0.6666666666666666,\"#ed7953\"],[0.7777777777777778,\"#fb9f3a\"],[0.8888888888888888,\"#fdca26\"],[1.0,\"#f0f921\"]]}],\"contourcarpet\":[{\"type\":\"contourcarpet\",\"colorbar\":{\"outlinewidth\":0,\"ticks\":\"\"}}],\"contour\":[{\"type\":\"contour\",\"colorbar\":{\"outlinewidth\":0,\"ticks\":\"\"},\"colorscale\":[[0.0,\"#0d0887\"],[0.1111111111111111,\"#46039f\"],[0.2222222222222222,\"#7201a8\"],[0.3333333333333333,\"#9c179e\"],[0.4444444444444444,\"#bd3786\"],[0.5555555555555556,\"#d8576b\"],[0.6666666666666666,\"#ed7953\"],[0.7777777777777778,\"#fb9f3a\"],[0.8888888888888888,\"#fdca26\"],[1.0,\"#f0f921\"]]}],\"surface\":[{\"type\":\"surface\",\"colorbar\":{\"outlinewidth\":0,\"ticks\":\"\"},\"colorscale\":[[0.0,\"#0d0887\"],[0.1111111111111111,\"#46039f\"],[0.2222222222222222,\"#7201a8\"],[0.3333333333333333,\"#9c179e\"],[0.4444444444444444,\"#bd3786\"],[0.5555555555555556,\"#d8576b\"],[0.6666666666666666,\"#ed7953\"],[0.7777777777777778,\"#fb9f3a\"],[0.8888888888888888,\"#fdca26\"],[1.0,\"#f0f921\"]]}],\"mesh3d\":[{\"type\":\"mesh3d\",\"colorbar\":{\"outlinewidth\":0,\"ticks\":\"\"}}],\"scatter\":[{\"fillpattern\":{\"fillmode\":\"overlay\",\"size\":10,\"solidity\":0.2},\"type\":\"scatter\"}],\"parcoords\":[{\"type\":\"parcoords\",\"line\":{\"colorbar\":{\"outlinewidth\":0,\"ticks\":\"\"}}}],\"scatterpolargl\":[{\"type\":\"scatterpolargl\",\"marker\":{\"colorbar\":{\"outlinewidth\":0,\"ticks\":\"\"}}}],\"bar\":[{\"error_x\":{\"color\":\"#2a3f5f\"},\"error_y\":{\"color\":\"#2a3f5f\"},\"marker\":{\"line\":{\"color\":\"#E5ECF6\",\"width\":0.5},\"pattern\":{\"fillmode\":\"overlay\",\"size\":10,\"solidity\":0.2}},\"type\":\"bar\"}],\"scattergeo\":[{\"type\":\"scattergeo\",\"marker\":{\"colorbar\":{\"outlinewidth\":0,\"ticks\":\"\"}}}],\"scatterpolar\":[{\"type\":\"scatterpolar\",\"marker\":{\"colorbar\":{\"outlinewidth\":0,\"ticks\":\"\"}}}],\"histogram\":[{\"marker\":{\"pattern\":{\"fillmode\":\"overlay\",\"size\":10,\"solidity\":0.2}},\"type\":\"histogram\"}],\"scattergl\":[{\"type\":\"scattergl\",\"marker\":{\"colorbar\":{\"outlinewidth\":0,\"ticks\":\"\"}}}],\"scatter3d\":[{\"type\":\"scatter3d\",\"line\":{\"colorbar\":{\"outlinewidth\":0,\"ticks\":\"\"}},\"marker\":{\"colorbar\":{\"outlinewidth\":0,\"ticks\":\"\"}}}],\"scattermapbox\":[{\"type\":\"scattermapbox\",\"marker\":{\"colorbar\":{\"outlinewidth\":0,\"ticks\":\"\"}}}],\"scatterternary\":[{\"type\":\"scatterternary\",\"marker\":{\"colorbar\":{\"outlinewidth\":0,\"ticks\":\"\"}}}],\"scattercarpet\":[{\"type\":\"scattercarpet\",\"marker\":{\"colorbar\":{\"outlinewidth\":0,\"ticks\":\"\"}}}],\"carpet\":[{\"aaxis\":{\"endlinecolor\":\"#2a3f5f\",\"gridcolor\":\"white\",\"linecolor\":\"white\",\"minorgridcolor\":\"white\",\"startlinecolor\":\"#2a3f5f\"},\"baxis\":{\"endlinecolor\":\"#2a3f5f\",\"gridcolor\":\"white\",\"linecolor\":\"white\",\"minorgridcolor\":\"white\",\"startlinecolor\":\"#2a3f5f\"},\"type\":\"carpet\"}],\"table\":[{\"cells\":{\"fill\":{\"color\":\"#EBF0F8\"},\"line\":{\"color\":\"white\"}},\"header\":{\"fill\":{\"color\":\"#C8D4E3\"},\"line\":{\"color\":\"white\"}},\"type\":\"table\"}],\"barpolar\":[{\"marker\":{\"line\":{\"color\":\"#E5ECF6\",\"width\":0.5},\"pattern\":{\"fillmode\":\"overlay\",\"size\":10,\"solidity\":0.2}},\"type\":\"barpolar\"}],\"pie\":[{\"automargin\":true,\"type\":\"pie\"}]},\"layout\":{\"autotypenumbers\":\"strict\",\"colorway\":[\"#636efa\",\"#EF553B\",\"#00cc96\",\"#ab63fa\",\"#FFA15A\",\"#19d3f3\",\"#FF6692\",\"#B6E880\",\"#FF97FF\",\"#FECB52\"],\"font\":{\"color\":\"#2a3f5f\"},\"hovermode\":\"closest\",\"hoverlabel\":{\"align\":\"left\"},\"paper_bgcolor\":\"white\",\"plot_bgcolor\":\"#E5ECF6\",\"polar\":{\"bgcolor\":\"#E5ECF6\",\"angularaxis\":{\"gridcolor\":\"white\",\"linecolor\":\"white\",\"ticks\":\"\"},\"radialaxis\":{\"gridcolor\":\"white\",\"linecolor\":\"white\",\"ticks\":\"\"}},\"ternary\":{\"bgcolor\":\"#E5ECF6\",\"aaxis\":{\"gridcolor\":\"white\",\"linecolor\":\"white\",\"ticks\":\"\"},\"baxis\":{\"gridcolor\":\"white\",\"linecolor\":\"white\",\"ticks\":\"\"},\"caxis\":{\"gridcolor\":\"white\",\"linecolor\":\"white\",\"ticks\":\"\"}},\"coloraxis\":{\"colorbar\":{\"outlinewidth\":0,\"ticks\":\"\"}},\"colorscale\":{\"sequential\":[[0.0,\"#0d0887\"],[0.1111111111111111,\"#46039f\"],[0.2222222222222222,\"#7201a8\"],[0.3333333333333333,\"#9c179e\"],[0.4444444444444444,\"#bd3786\"],[0.5555555555555556,\"#d8576b\"],[0.6666666666666666,\"#ed7953\"],[0.7777777777777778,\"#fb9f3a\"],[0.8888888888888888,\"#fdca26\"],[1.0,\"#f0f921\"]],\"sequentialminus\":[[0.0,\"#0d0887\"],[0.1111111111111111,\"#46039f\"],[0.2222222222222222,\"#7201a8\"],[0.3333333333333333,\"#9c179e\"],[0.4444444444444444,\"#bd3786\"],[0.5555555555555556,\"#d8576b\"],[0.6666666666666666,\"#ed7953\"],[0.7777777777777778,\"#fb9f3a\"],[0.8888888888888888,\"#fdca26\"],[1.0,\"#f0f921\"]],\"diverging\":[[0,\"#8e0152\"],[0.1,\"#c51b7d\"],[0.2,\"#de77ae\"],[0.3,\"#f1b6da\"],[0.4,\"#fde0ef\"],[0.5,\"#f7f7f7\"],[0.6,\"#e6f5d0\"],[0.7,\"#b8e186\"],[0.8,\"#7fbc41\"],[0.9,\"#4d9221\"],[1,\"#276419\"]]},\"xaxis\":{\"gridcolor\":\"white\",\"linecolor\":\"white\",\"ticks\":\"\",\"title\":{\"standoff\":15},\"zerolinecolor\":\"white\",\"automargin\":true,\"zerolinewidth\":2},\"yaxis\":{\"gridcolor\":\"white\",\"linecolor\":\"white\",\"ticks\":\"\",\"title\":{\"standoff\":15},\"zerolinecolor\":\"white\",\"automargin\":true,\"zerolinewidth\":2},\"scene\":{\"xaxis\":{\"backgroundcolor\":\"#E5ECF6\",\"gridcolor\":\"white\",\"linecolor\":\"white\",\"showbackground\":true,\"ticks\":\"\",\"zerolinecolor\":\"white\",\"gridwidth\":2},\"yaxis\":{\"backgroundcolor\":\"#E5ECF6\",\"gridcolor\":\"white\",\"linecolor\":\"white\",\"showbackground\":true,\"ticks\":\"\",\"zerolinecolor\":\"white\",\"gridwidth\":2},\"zaxis\":{\"backgroundcolor\":\"#E5ECF6\",\"gridcolor\":\"white\",\"linecolor\":\"white\",\"showbackground\":true,\"ticks\":\"\",\"zerolinecolor\":\"white\",\"gridwidth\":2}},\"shapedefaults\":{\"line\":{\"color\":\"#2a3f5f\"}},\"annotationdefaults\":{\"arrowcolor\":\"#2a3f5f\",\"arrowhead\":0,\"arrowwidth\":1},\"geo\":{\"bgcolor\":\"white\",\"landcolor\":\"#E5ECF6\",\"subunitcolor\":\"white\",\"showland\":true,\"showlakes\":true,\"lakecolor\":\"white\"},\"title\":{\"x\":0.05},\"mapbox\":{\"style\":\"light\"}}},\"scene\":{\"domain\":{\"x\":[0.0,1.0],\"y\":[0.0,1.0]},\"xaxis\":{\"title\":{\"text\":\"x\"}},\"yaxis\":{\"title\":{\"text\":\"y\"}},\"zaxis\":{\"title\":{\"text\":\"z\"}}},\"coloraxis\":{\"colorbar\":{\"title\":{\"text\":\"label\"}},\"colorscale\":[[0.0,\"#0d0887\"],[0.1111111111111111,\"#46039f\"],[0.2222222222222222,\"#7201a8\"],[0.3333333333333333,\"#9c179e\"],[0.4444444444444444,\"#bd3786\"],[0.5555555555555556,\"#d8576b\"],[0.6666666666666666,\"#ed7953\"],[0.7777777777777778,\"#fb9f3a\"],[0.8888888888888888,\"#fdca26\"],[1.0,\"#f0f921\"]]},\"legend\":{\"tracegroupgap\":0},\"margin\":{\"t\":60}},                        {\"responsive\": true}                    ).then(function(){\n",
       "                            \n",
       "var gd = document.getElementById('fcc87483-f316-4bd3-a4ea-b8a71be16062');\n",
       "var x = new MutationObserver(function (mutations, observer) {{\n",
       "        var display = window.getComputedStyle(gd).display;\n",
       "        if (!display || display === 'none') {{\n",
       "            console.log([gd, 'removed!']);\n",
       "            Plotly.purge(gd);\n",
       "            observer.disconnect();\n",
       "        }}\n",
       "}});\n",
       "\n",
       "// Listen for the removal of the full notebook cells\n",
       "var notebookContainer = gd.closest('#notebook-container');\n",
       "if (notebookContainer) {{\n",
       "    x.observe(notebookContainer, {childList: true});\n",
       "}}\n",
       "\n",
       "// Listen for the clearing of the current output cell\n",
       "var outputEl = gd.closest('.output');\n",
       "if (outputEl) {{\n",
       "    x.observe(outputEl, {childList: true});\n",
       "}}\n",
       "\n",
       "                        })                };                });            </script>        </div>"
      ]
     },
     "metadata": {},
     "output_type": "display_data"
    }
   ],
   "source": [
    "df = pd.DataFrame({'x': embeds[:, 0], \n",
    "                   'y': embeds[:, 1], \n",
    "                   'z': embeds[:, 2], \n",
    "                   'label': batch_labels.numpy()})\n",
    "\n",
    "fig = px.scatter_3d(df, x='x', y='y', z='z',\n",
    "                      color='label', text='label')\n",
    "fig.update_traces(marker_size = 5)\n",
    "fig.show()"
   ]
  },
  {
   "cell_type": "markdown",
   "id": "e81ca6fe",
   "metadata": {},
   "source": [
    "## Write Modified Embeddings through Plotly"
   ]
  },
  {
   "cell_type": "code",
   "execution_count": 975,
   "id": "e223c3ae",
   "metadata": {
    "scrolled": false
   },
   "outputs": [],
   "source": [
    "batch_images, batch_labels = next(iter(data_loader))\n",
    "\n",
    "embeds = deep_features.generate_embeddings(batch_images.to(device), normalize=True)\n",
    "embeds = embeds.detach().numpy()\n",
    "\n",
    "# new_embeds, new_labels = remove_outliers(embeds, batch_labels)"
   ]
  },
  {
   "cell_type": "code",
   "execution_count": 976,
   "id": "8b609821",
   "metadata": {},
   "outputs": [],
   "source": [
    "def project_to_2D_unit_circle(embeds):\n",
    "    \n",
    "    # Find the normal vector of the plane\n",
    "    u, s, vh = np.linalg.svd(embeds)\n",
    "    normal = vh[-1]    # the last eigenvector is the one that doesn't vary, i.e. \n",
    "                       # normal to the plane where the points lie \n",
    "\n",
    "    # Project the points onto the plane\n",
    "    points_proj = embeds - (embeds @ np.outer(normal, normal))  # embeds minus projection of embeds onto normal\n",
    "                                                                # would give us embeds that lie on the 2D plane,\n",
    "                                                                # which is perpendicular to the normal \n",
    "\n",
    "    # normalize to unit circle \n",
    "    points_norm = np.linalg.norm(points_proj, axis=1)\n",
    "    points_proj /= points_norm[:, np.newaxis]         # using broadcasting to normalize \n",
    "    \n",
    "    return points_proj"
   ]
  },
  {
   "cell_type": "code",
   "execution_count": 977,
   "id": "32fe4454",
   "metadata": {},
   "outputs": [
    {
     "data": {
      "application/vnd.plotly.v1+json": {
       "config": {
        "plotlyServerURL": "https://plot.ly"
       },
       "data": [
        {
         "hovertemplate": "x=%{x}<br>y=%{y}<br>z=%{z}<br>label=%{marker.color}<extra></extra>",
         "legendgroup": "",
         "marker": {
          "color": [
           2,
           1,
           8,
           5,
           2,
           5,
           1,
           6,
           1,
           1,
           8,
           4,
           4,
           3,
           3,
           1,
           9,
           1,
           0,
           9,
           9,
           2,
           3,
           8,
           9,
           1,
           7,
           2,
           7,
           8,
           9,
           3,
           9,
           3,
           2,
           4,
           0,
           9,
           0,
           1,
           7,
           1,
           5,
           9,
           3,
           0,
           0,
           5,
           6,
           0,
           4,
           7,
           7,
           4,
           5,
           7,
           1,
           7,
           9,
           2,
           8,
           2,
           3,
           2,
           6,
           3,
           5,
           4,
           4,
           4,
           1,
           0,
           9,
           3,
           2,
           2,
           3,
           7,
           8,
           1,
           5,
           8,
           0,
           3,
           2,
           1,
           4,
           9,
           3,
           1,
           2,
           2,
           5,
           1,
           9,
           7,
           9,
           1,
           3,
           4,
           1,
           9,
           1,
           1,
           2,
           6,
           6,
           0,
           4,
           8,
           5,
           6,
           6,
           0,
           2,
           5,
           1,
           8,
           5,
           4,
           6,
           3,
           2,
           7,
           4,
           2,
           6,
           9
          ],
          "coloraxis": "coloraxis",
          "size": 5,
          "symbol": "circle"
         },
         "mode": "markers+text",
         "name": "",
         "scene": "scene",
         "showlegend": false,
         "text": [
          2,
          1,
          8,
          5,
          2,
          5,
          1,
          6,
          1,
          1,
          8,
          4,
          4,
          3,
          3,
          1,
          9,
          1,
          0,
          9,
          9,
          2,
          3,
          8,
          9,
          1,
          7,
          2,
          7,
          8,
          9,
          3,
          9,
          3,
          2,
          4,
          0,
          9,
          0,
          1,
          7,
          1,
          5,
          9,
          3,
          0,
          0,
          5,
          6,
          0,
          4,
          7,
          7,
          4,
          5,
          7,
          1,
          7,
          9,
          2,
          8,
          2,
          3,
          2,
          6,
          3,
          5,
          4,
          4,
          4,
          1,
          0,
          9,
          3,
          2,
          2,
          3,
          7,
          8,
          1,
          5,
          8,
          0,
          3,
          2,
          1,
          4,
          9,
          3,
          1,
          2,
          2,
          5,
          1,
          9,
          7,
          9,
          1,
          3,
          4,
          1,
          9,
          1,
          1,
          2,
          6,
          6,
          0,
          4,
          8,
          5,
          6,
          6,
          0,
          2,
          5,
          1,
          8,
          5,
          4,
          6,
          3,
          2,
          7,
          4,
          2,
          6,
          9
         ],
         "type": "scatter3d",
         "x": [
          0.7736045122146606,
          -0.718297004699707,
          -0.6262110471725464,
          -0.7782281637191772,
          0.7665087580680847,
          -0.7591643929481506,
          -0.7184445858001709,
          0.27156341075897217,
          -0.7183980345726013,
          -0.7184810042381287,
          -0.6306747794151306,
          0.20497800409793854,
          -0.12187521904706955,
          0.29446646571159363,
          0.24647030234336853,
          -0.7183476686477661,
          -0.27835121750831604,
          -0.7184041738510132,
          0.7658538222312927,
          -0.3557756245136261,
          -0.11027839779853821,
          0.7829959988594055,
          0.33500203490257263,
          -0.6488713026046753,
          -0.13736285269260406,
          -0.7184243202209473,
          0.6307248473167419,
          0.785229504108429,
          0.6620449423789978,
          -0.6282315254211426,
          -0.3366517424583435,
          0.28874629735946655,
          -0.3563256859779358,
          0.22405970096588135,
          0.7078267931938171,
          -0.21762770414352417,
          0.761625349521637,
          -0.4137202203273773,
          0.7601466178894043,
          -0.7184229493141174,
          0.6682752966880798,
          -0.7182278633117676,
          -0.7719463109970093,
          0.0014744234504178166,
          0.26866090297698975,
          0.7525922656059265,
          0.757577657699585,
          -0.7695909738540649,
          0.18150784075260162,
          0.7711922526359558,
          -0.1927579790353775,
          0.42172548174858093,
          0.6596921682357788,
          -0.09924940019845963,
          -0.7794225811958313,
          0.6935863494873047,
          -0.7183793187141418,
          0.6375574469566345,
          -0.2964729070663452,
          0.7781025767326355,
          -0.6306545734405518,
          0.7792379260063171,
          0.2751258909702301,
          0.7750476002693176,
          0.17195259034633636,
          0.30887311697006226,
          -0.7788506150245667,
          -0.24119214713573456,
          -0.21705131232738495,
          -0.23299837112426758,
          -0.7183859944343567,
          0.7688942551612854,
          -0.3203500807285309,
          0.30960190296173096,
          0.7752561569213867,
          0.7810072302818298,
          0.28952616453170776,
          0.6776767373085022,
          -0.5942836403846741,
          -0.7181785106658936,
          -0.7826119661331177,
          -0.6327165961265564,
          0.766866147518158,
          0.30826735496520996,
          0.7651793360710144,
          -0.7183693647384644,
          -0.19152167439460754,
          -0.14202462136745453,
          0.3022962808609009,
          -0.7184414863586426,
          0.7557753920555115,
          0.7749084234237671,
          -0.7775427103042603,
          -0.7183215022087097,
          -0.4304151237010956,
          0.6736700534820557,
          -0.3102613091468811,
          -0.7184010744094849,
          0.297926664352417,
          -0.21864517033100128,
          -0.7182694673538208,
          -0.33560314774513245,
          -0.7184451818466187,
          -0.7182369828224182,
          0.7882014513015747,
          0.14844779670238495,
          0.1795879453420639,
          0.7720183730125427,
          -0.13414977490901947,
          -0.7526821494102478,
          -0.7741270065307617,
          0.2603451907634735,
          0.23952414095401764,
          0.7617077827453613,
          0.7746976613998413,
          -0.7660593390464783,
          -0.7182012796401978,
          -0.6819543242454529,
          -0.7778855562210083,
          -0.21377764642238617,
          0.2158624678850174,
          0.1925489455461502,
          0.7776922583580017,
          0.6561798453330994,
          -0.12702882289886475,
          0.7730016112327576,
          0.16693010926246643,
          -0.3042373061180115
         ],
         "y": [
          -0.630181074142456,
          0.6788722276687622,
          0.6914970874786377,
          0.49241432547569275,
          -0.6416940689086914,
          0.4346163868904114,
          0.6788114309310913,
          0.18269331753253937,
          0.678830623626709,
          0.6787963509559631,
          0.6916865110397339,
          -0.5341363549232483,
          -0.3094499409198761,
          0.16183312237262726,
          0.2050783634185791,
          0.678851306438446,
          -0.17655429244041443,
          0.6788281202316284,
          -0.6426042914390564,
          -0.10385354608297348,
          -0.3186196982860565,
          -0.606224775314331,
          0.12386132031679153,
          0.6918160319328308,
          -0.29706311225891113,
          0.6788197159767151,
          -0.6916883587837219,
          -0.5260022878646851,
          -0.6911900043487549,
          0.6915901303291321,
          -0.1222863495349884,
          0.16708223521709442,
          -0.10331851989030838,
          0.22466859221458435,
          -0.3293464183807373,
          -0.2302227020263672,
          -0.648013174533844,
          -0.04590975493192673,
          -0.6497367024421692,
          0.6788203120231628,
          -0.6906554698944092,
          0.6789006590843201,
          0.4705418050289154,
          -0.402458518743515,
          0.18530739843845367,
          -0.6574624180793762,
          -0.6525532603263855,
          0.46326205134391785,
          0.2608594000339508,
          -0.6344846487045288,
          -0.2514166533946991,
          -0.640623927116394,
          -0.6913505792617798,
          -0.3272574245929718,
          0.49715882539749146,
          -0.6866087317466736,
          0.678838312625885,
          -0.6918609142303467,
          -0.15998558700084686,
          -0.6206040382385254,
          0.6916857957839966,
          -0.6177480220794678,
          0.1794758439064026,
          -0.6273601055145264,
          0.26880982518196106,
          0.1484949141740799,
          0.49485546350479126,
          -0.20972596108913422,
          -0.2307189553976059,
          -0.2168995589017868,
          0.6788355708122253,
          -0.6381877064704895,
          -0.13774609565734863,
          0.14781561493873596,
          -0.6269347667694092,
          -0.6127952933311462,
          0.16636811196804047,
          -0.6895264387130737,
          0.6885796785354614,
          0.6789209246635437,
          0.5113821029663086,
          0.6917534470558167,
          -0.6411884427070618,
          0.14905916154384613,
          -0.6435195803642273,
          0.6788423657417297,
          -0.25245875120162964,
          -0.293302983045578,
          0.15460507571697235,
          0.6788126826286316,
          -0.6544070839881897,
          -0.6276413202285767,
          0.4897974133491516,
          0.6788620948791504,
          -0.028584647923707962,
          -0.6900571584701538,
          -0.14720068871974945,
          0.6788293123245239,
          0.15864500403404236,
          -0.22934606671333313,
          0.6788834929466248,
          -0.12328768521547318,
          0.6788111329078674,
          0.6788968443870544,
          -0.5696372985839844,
          0.28809791803359985,
          0.26246196031570435,
          -0.633063554763794,
          -0.29964616894721985,
          0.657379686832428,
          0.4776659309864044,
          0.19276055693626404,
          0.211190328001976,
          -0.647914707660675,
          -0.6280632615089417,
          0.4529929757118225,
          0.678911566734314,
          0.6888737082481384,
          0.49109745025634766,
          -0.2335328459739685,
          0.23174169659614563,
          0.2515929341316223,
          -0.6215842962265015,
          -0.6915497779846191,
          -0.3053460419178009,
          -0.6313018798828125,
          0.272963285446167,
          -0.15280549228191376
         ],
         "z": [
          -0.06639136373996735,
          -0.15225620567798615,
          -0.3601270616054535,
          0.38972949981689453,
          -0.026323765516281128,
          0.4845390319824219,
          -0.15183044970035553,
          -0.9449213743209839,
          -0.15196485817432404,
          -0.15172532200813293,
          -0.3518793284893036,
          0.820172131061554,
          0.9430732131004333,
          -0.9418596625328064,
          -0.9472038745880127,
          -0.1521102339029312,
          0.9441128373146057,
          -0.15194715559482574,
          -0.022973235696554184,
          0.9287831783294678,
          0.9414457678794861,
          -0.13931533694267273,
          -0.9340407252311707,
          -0.31679102778434753,
          0.9449259638786316,
          -0.15188880264759064,
          0.3517860174179077,
          -0.32670509815216064,
          0.2897460162639618,
          -0.35641026496887207,
          0.9336550235748291,
          -0.9427136778831482,
          0.9286319613456726,
          -0.948325514793396,
          -0.6249096393585205,
          0.9484912753105164,
          -0.002409082604572177,
          0.9092457890510559,
          0.004398844204843044,
          -0.15189296007156372,
          0.276411235332489,
          -0.15245556831359863,
          0.4274216592311859,
          0.9154370427131653,
          -0.9452420473098755,
          0.03671656921505928,
          0.015820860862731934,
          0.4394519329071045,
          -0.94815993309021,
          -0.0518810972571373,
          0.9484903812408447,
          0.6416763663291931,
          0.29468733072280884,
          0.9397085905075073,
          0.38122639060020447,
          0.21795952320098877,
          -0.15201877057552338,
          0.33889371156692505,
          0.9415457248687744,
          -0.0969901978969574,
          -0.35191696882247925,
          -0.10571453720331192,
          -0.944507360458374,
          -0.07563411444425583,
          -0.9477202296257019,
          -0.9394395351409912,
          0.38536980748176575,
          0.9475449323654175,
          0.948502779006958,
          0.9479801654815674,
          -0.15199953317642212,
          -0.038963112980127335,
          0.9372308850288391,
          -0.9393067955970764,
          -0.07701022177934647,
          -0.120455801486969,
          -0.9426007866859436,
          0.25555363297462463,
          -0.41555389761924744,
          -0.1525976061820984,
          0.3549744784832001,
          -0.34806159138679504,
          -0.028172308579087257,
          -0.9395491480827332,
          -0.01957341469824314,
          -0.15204736590385437,
          0.948464035987854,
          0.945411205291748,
          -0.9405925273895264,
          -0.1518394649028778,
          0.023555297404527664,
          -0.07472176849842072,
          0.39436763525009155,
          -0.1521856039762497,
          0.9021782875061035,
          0.2645559310913086,
          0.9391857981681824,
          -0.15195615589618683,
          -0.9413137435913086,
          0.9484695792198181,
          -0.15233545005321503,
          0.933900773525238,
          -0.1518286019563675,
          -0.15242929756641388,
          -0.23292042315006256,
          -0.9460247755050659,
          -0.9480832815170288,
          -0.05672992765903473,
          0.944571852684021,
          -0.03635307028889656,
          0.4154065251350403,
          -0.9460781216621399,
          -0.9476427435874939,
          -0.002794422674924135,
          -0.07334910333156586,
          0.456015944480896,
          -0.15253207087516785,
          -0.24574638903141022,
          0.3920679986476898,
          0.9485576152801514,
          -0.9485247135162354,
          -0.9484860897064209,
          -0.09395583719015121,
          0.30197179317474365,
          0.9437305927276611,
          -0.06266164034605026,
          -0.9474309086799622,
          0.9402607083320618
         ]
        }
       ],
       "layout": {
        "coloraxis": {
         "colorbar": {
          "title": {
           "text": "label"
          }
         },
         "colorscale": [
          [
           0,
           "#0d0887"
          ],
          [
           0.1111111111111111,
           "#46039f"
          ],
          [
           0.2222222222222222,
           "#7201a8"
          ],
          [
           0.3333333333333333,
           "#9c179e"
          ],
          [
           0.4444444444444444,
           "#bd3786"
          ],
          [
           0.5555555555555556,
           "#d8576b"
          ],
          [
           0.6666666666666666,
           "#ed7953"
          ],
          [
           0.7777777777777778,
           "#fb9f3a"
          ],
          [
           0.8888888888888888,
           "#fdca26"
          ],
          [
           1,
           "#f0f921"
          ]
         ]
        },
        "legend": {
         "tracegroupgap": 0
        },
        "margin": {
         "t": 60
        },
        "scene": {
         "domain": {
          "x": [
           0,
           1
          ],
          "y": [
           0,
           1
          ]
         },
         "xaxis": {
          "title": {
           "text": "x"
          }
         },
         "yaxis": {
          "title": {
           "text": "y"
          }
         },
         "zaxis": {
          "title": {
           "text": "z"
          }
         }
        },
        "template": {
         "data": {
          "bar": [
           {
            "error_x": {
             "color": "#2a3f5f"
            },
            "error_y": {
             "color": "#2a3f5f"
            },
            "marker": {
             "line": {
              "color": "#E5ECF6",
              "width": 0.5
             },
             "pattern": {
              "fillmode": "overlay",
              "size": 10,
              "solidity": 0.2
             }
            },
            "type": "bar"
           }
          ],
          "barpolar": [
           {
            "marker": {
             "line": {
              "color": "#E5ECF6",
              "width": 0.5
             },
             "pattern": {
              "fillmode": "overlay",
              "size": 10,
              "solidity": 0.2
             }
            },
            "type": "barpolar"
           }
          ],
          "carpet": [
           {
            "aaxis": {
             "endlinecolor": "#2a3f5f",
             "gridcolor": "white",
             "linecolor": "white",
             "minorgridcolor": "white",
             "startlinecolor": "#2a3f5f"
            },
            "baxis": {
             "endlinecolor": "#2a3f5f",
             "gridcolor": "white",
             "linecolor": "white",
             "minorgridcolor": "white",
             "startlinecolor": "#2a3f5f"
            },
            "type": "carpet"
           }
          ],
          "choropleth": [
           {
            "colorbar": {
             "outlinewidth": 0,
             "ticks": ""
            },
            "type": "choropleth"
           }
          ],
          "contour": [
           {
            "colorbar": {
             "outlinewidth": 0,
             "ticks": ""
            },
            "colorscale": [
             [
              0,
              "#0d0887"
             ],
             [
              0.1111111111111111,
              "#46039f"
             ],
             [
              0.2222222222222222,
              "#7201a8"
             ],
             [
              0.3333333333333333,
              "#9c179e"
             ],
             [
              0.4444444444444444,
              "#bd3786"
             ],
             [
              0.5555555555555556,
              "#d8576b"
             ],
             [
              0.6666666666666666,
              "#ed7953"
             ],
             [
              0.7777777777777778,
              "#fb9f3a"
             ],
             [
              0.8888888888888888,
              "#fdca26"
             ],
             [
              1,
              "#f0f921"
             ]
            ],
            "type": "contour"
           }
          ],
          "contourcarpet": [
           {
            "colorbar": {
             "outlinewidth": 0,
             "ticks": ""
            },
            "type": "contourcarpet"
           }
          ],
          "heatmap": [
           {
            "colorbar": {
             "outlinewidth": 0,
             "ticks": ""
            },
            "colorscale": [
             [
              0,
              "#0d0887"
             ],
             [
              0.1111111111111111,
              "#46039f"
             ],
             [
              0.2222222222222222,
              "#7201a8"
             ],
             [
              0.3333333333333333,
              "#9c179e"
             ],
             [
              0.4444444444444444,
              "#bd3786"
             ],
             [
              0.5555555555555556,
              "#d8576b"
             ],
             [
              0.6666666666666666,
              "#ed7953"
             ],
             [
              0.7777777777777778,
              "#fb9f3a"
             ],
             [
              0.8888888888888888,
              "#fdca26"
             ],
             [
              1,
              "#f0f921"
             ]
            ],
            "type": "heatmap"
           }
          ],
          "heatmapgl": [
           {
            "colorbar": {
             "outlinewidth": 0,
             "ticks": ""
            },
            "colorscale": [
             [
              0,
              "#0d0887"
             ],
             [
              0.1111111111111111,
              "#46039f"
             ],
             [
              0.2222222222222222,
              "#7201a8"
             ],
             [
              0.3333333333333333,
              "#9c179e"
             ],
             [
              0.4444444444444444,
              "#bd3786"
             ],
             [
              0.5555555555555556,
              "#d8576b"
             ],
             [
              0.6666666666666666,
              "#ed7953"
             ],
             [
              0.7777777777777778,
              "#fb9f3a"
             ],
             [
              0.8888888888888888,
              "#fdca26"
             ],
             [
              1,
              "#f0f921"
             ]
            ],
            "type": "heatmapgl"
           }
          ],
          "histogram": [
           {
            "marker": {
             "pattern": {
              "fillmode": "overlay",
              "size": 10,
              "solidity": 0.2
             }
            },
            "type": "histogram"
           }
          ],
          "histogram2d": [
           {
            "colorbar": {
             "outlinewidth": 0,
             "ticks": ""
            },
            "colorscale": [
             [
              0,
              "#0d0887"
             ],
             [
              0.1111111111111111,
              "#46039f"
             ],
             [
              0.2222222222222222,
              "#7201a8"
             ],
             [
              0.3333333333333333,
              "#9c179e"
             ],
             [
              0.4444444444444444,
              "#bd3786"
             ],
             [
              0.5555555555555556,
              "#d8576b"
             ],
             [
              0.6666666666666666,
              "#ed7953"
             ],
             [
              0.7777777777777778,
              "#fb9f3a"
             ],
             [
              0.8888888888888888,
              "#fdca26"
             ],
             [
              1,
              "#f0f921"
             ]
            ],
            "type": "histogram2d"
           }
          ],
          "histogram2dcontour": [
           {
            "colorbar": {
             "outlinewidth": 0,
             "ticks": ""
            },
            "colorscale": [
             [
              0,
              "#0d0887"
             ],
             [
              0.1111111111111111,
              "#46039f"
             ],
             [
              0.2222222222222222,
              "#7201a8"
             ],
             [
              0.3333333333333333,
              "#9c179e"
             ],
             [
              0.4444444444444444,
              "#bd3786"
             ],
             [
              0.5555555555555556,
              "#d8576b"
             ],
             [
              0.6666666666666666,
              "#ed7953"
             ],
             [
              0.7777777777777778,
              "#fb9f3a"
             ],
             [
              0.8888888888888888,
              "#fdca26"
             ],
             [
              1,
              "#f0f921"
             ]
            ],
            "type": "histogram2dcontour"
           }
          ],
          "mesh3d": [
           {
            "colorbar": {
             "outlinewidth": 0,
             "ticks": ""
            },
            "type": "mesh3d"
           }
          ],
          "parcoords": [
           {
            "line": {
             "colorbar": {
              "outlinewidth": 0,
              "ticks": ""
             }
            },
            "type": "parcoords"
           }
          ],
          "pie": [
           {
            "automargin": true,
            "type": "pie"
           }
          ],
          "scatter": [
           {
            "fillpattern": {
             "fillmode": "overlay",
             "size": 10,
             "solidity": 0.2
            },
            "type": "scatter"
           }
          ],
          "scatter3d": [
           {
            "line": {
             "colorbar": {
              "outlinewidth": 0,
              "ticks": ""
             }
            },
            "marker": {
             "colorbar": {
              "outlinewidth": 0,
              "ticks": ""
             }
            },
            "type": "scatter3d"
           }
          ],
          "scattercarpet": [
           {
            "marker": {
             "colorbar": {
              "outlinewidth": 0,
              "ticks": ""
             }
            },
            "type": "scattercarpet"
           }
          ],
          "scattergeo": [
           {
            "marker": {
             "colorbar": {
              "outlinewidth": 0,
              "ticks": ""
             }
            },
            "type": "scattergeo"
           }
          ],
          "scattergl": [
           {
            "marker": {
             "colorbar": {
              "outlinewidth": 0,
              "ticks": ""
             }
            },
            "type": "scattergl"
           }
          ],
          "scattermapbox": [
           {
            "marker": {
             "colorbar": {
              "outlinewidth": 0,
              "ticks": ""
             }
            },
            "type": "scattermapbox"
           }
          ],
          "scatterpolar": [
           {
            "marker": {
             "colorbar": {
              "outlinewidth": 0,
              "ticks": ""
             }
            },
            "type": "scatterpolar"
           }
          ],
          "scatterpolargl": [
           {
            "marker": {
             "colorbar": {
              "outlinewidth": 0,
              "ticks": ""
             }
            },
            "type": "scatterpolargl"
           }
          ],
          "scatterternary": [
           {
            "marker": {
             "colorbar": {
              "outlinewidth": 0,
              "ticks": ""
             }
            },
            "type": "scatterternary"
           }
          ],
          "surface": [
           {
            "colorbar": {
             "outlinewidth": 0,
             "ticks": ""
            },
            "colorscale": [
             [
              0,
              "#0d0887"
             ],
             [
              0.1111111111111111,
              "#46039f"
             ],
             [
              0.2222222222222222,
              "#7201a8"
             ],
             [
              0.3333333333333333,
              "#9c179e"
             ],
             [
              0.4444444444444444,
              "#bd3786"
             ],
             [
              0.5555555555555556,
              "#d8576b"
             ],
             [
              0.6666666666666666,
              "#ed7953"
             ],
             [
              0.7777777777777778,
              "#fb9f3a"
             ],
             [
              0.8888888888888888,
              "#fdca26"
             ],
             [
              1,
              "#f0f921"
             ]
            ],
            "type": "surface"
           }
          ],
          "table": [
           {
            "cells": {
             "fill": {
              "color": "#EBF0F8"
             },
             "line": {
              "color": "white"
             }
            },
            "header": {
             "fill": {
              "color": "#C8D4E3"
             },
             "line": {
              "color": "white"
             }
            },
            "type": "table"
           }
          ]
         },
         "layout": {
          "annotationdefaults": {
           "arrowcolor": "#2a3f5f",
           "arrowhead": 0,
           "arrowwidth": 1
          },
          "autotypenumbers": "strict",
          "coloraxis": {
           "colorbar": {
            "outlinewidth": 0,
            "ticks": ""
           }
          },
          "colorscale": {
           "diverging": [
            [
             0,
             "#8e0152"
            ],
            [
             0.1,
             "#c51b7d"
            ],
            [
             0.2,
             "#de77ae"
            ],
            [
             0.3,
             "#f1b6da"
            ],
            [
             0.4,
             "#fde0ef"
            ],
            [
             0.5,
             "#f7f7f7"
            ],
            [
             0.6,
             "#e6f5d0"
            ],
            [
             0.7,
             "#b8e186"
            ],
            [
             0.8,
             "#7fbc41"
            ],
            [
             0.9,
             "#4d9221"
            ],
            [
             1,
             "#276419"
            ]
           ],
           "sequential": [
            [
             0,
             "#0d0887"
            ],
            [
             0.1111111111111111,
             "#46039f"
            ],
            [
             0.2222222222222222,
             "#7201a8"
            ],
            [
             0.3333333333333333,
             "#9c179e"
            ],
            [
             0.4444444444444444,
             "#bd3786"
            ],
            [
             0.5555555555555556,
             "#d8576b"
            ],
            [
             0.6666666666666666,
             "#ed7953"
            ],
            [
             0.7777777777777778,
             "#fb9f3a"
            ],
            [
             0.8888888888888888,
             "#fdca26"
            ],
            [
             1,
             "#f0f921"
            ]
           ],
           "sequentialminus": [
            [
             0,
             "#0d0887"
            ],
            [
             0.1111111111111111,
             "#46039f"
            ],
            [
             0.2222222222222222,
             "#7201a8"
            ],
            [
             0.3333333333333333,
             "#9c179e"
            ],
            [
             0.4444444444444444,
             "#bd3786"
            ],
            [
             0.5555555555555556,
             "#d8576b"
            ],
            [
             0.6666666666666666,
             "#ed7953"
            ],
            [
             0.7777777777777778,
             "#fb9f3a"
            ],
            [
             0.8888888888888888,
             "#fdca26"
            ],
            [
             1,
             "#f0f921"
            ]
           ]
          },
          "colorway": [
           "#636efa",
           "#EF553B",
           "#00cc96",
           "#ab63fa",
           "#FFA15A",
           "#19d3f3",
           "#FF6692",
           "#B6E880",
           "#FF97FF",
           "#FECB52"
          ],
          "font": {
           "color": "#2a3f5f"
          },
          "geo": {
           "bgcolor": "white",
           "lakecolor": "white",
           "landcolor": "#E5ECF6",
           "showlakes": true,
           "showland": true,
           "subunitcolor": "white"
          },
          "hoverlabel": {
           "align": "left"
          },
          "hovermode": "closest",
          "mapbox": {
           "style": "light"
          },
          "paper_bgcolor": "white",
          "plot_bgcolor": "#E5ECF6",
          "polar": {
           "angularaxis": {
            "gridcolor": "white",
            "linecolor": "white",
            "ticks": ""
           },
           "bgcolor": "#E5ECF6",
           "radialaxis": {
            "gridcolor": "white",
            "linecolor": "white",
            "ticks": ""
           }
          },
          "scene": {
           "xaxis": {
            "backgroundcolor": "#E5ECF6",
            "gridcolor": "white",
            "gridwidth": 2,
            "linecolor": "white",
            "showbackground": true,
            "ticks": "",
            "zerolinecolor": "white"
           },
           "yaxis": {
            "backgroundcolor": "#E5ECF6",
            "gridcolor": "white",
            "gridwidth": 2,
            "linecolor": "white",
            "showbackground": true,
            "ticks": "",
            "zerolinecolor": "white"
           },
           "zaxis": {
            "backgroundcolor": "#E5ECF6",
            "gridcolor": "white",
            "gridwidth": 2,
            "linecolor": "white",
            "showbackground": true,
            "ticks": "",
            "zerolinecolor": "white"
           }
          },
          "shapedefaults": {
           "line": {
            "color": "#2a3f5f"
           }
          },
          "ternary": {
           "aaxis": {
            "gridcolor": "white",
            "linecolor": "white",
            "ticks": ""
           },
           "baxis": {
            "gridcolor": "white",
            "linecolor": "white",
            "ticks": ""
           },
           "bgcolor": "#E5ECF6",
           "caxis": {
            "gridcolor": "white",
            "linecolor": "white",
            "ticks": ""
           }
          },
          "title": {
           "x": 0.05
          },
          "xaxis": {
           "automargin": true,
           "gridcolor": "white",
           "linecolor": "white",
           "ticks": "",
           "title": {
            "standoff": 15
           },
           "zerolinecolor": "white",
           "zerolinewidth": 2
          },
          "yaxis": {
           "automargin": true,
           "gridcolor": "white",
           "linecolor": "white",
           "ticks": "",
           "title": {
            "standoff": 15
           },
           "zerolinecolor": "white",
           "zerolinewidth": 2
          }
         }
        }
       }
      },
      "text/html": [
       "<div>                            <div id=\"7685c056-f152-4161-a4e7-a3d6766bb401\" class=\"plotly-graph-div\" style=\"height:525px; width:100%;\"></div>            <script type=\"text/javascript\">                require([\"plotly\"], function(Plotly) {                    window.PLOTLYENV=window.PLOTLYENV || {};                                    if (document.getElementById(\"7685c056-f152-4161-a4e7-a3d6766bb401\")) {                    Plotly.newPlot(                        \"7685c056-f152-4161-a4e7-a3d6766bb401\",                        [{\"hovertemplate\":\"x=%{x}<br>y=%{y}<br>z=%{z}<br>label=%{marker.color}<extra></extra>\",\"legendgroup\":\"\",\"marker\":{\"color\":[2,1,8,5,2,5,1,6,1,1,8,4,4,3,3,1,9,1,0,9,9,2,3,8,9,1,7,2,7,8,9,3,9,3,2,4,0,9,0,1,7,1,5,9,3,0,0,5,6,0,4,7,7,4,5,7,1,7,9,2,8,2,3,2,6,3,5,4,4,4,1,0,9,3,2,2,3,7,8,1,5,8,0,3,2,1,4,9,3,1,2,2,5,1,9,7,9,1,3,4,1,9,1,1,2,6,6,0,4,8,5,6,6,0,2,5,1,8,5,4,6,3,2,7,4,2,6,9],\"coloraxis\":\"coloraxis\",\"symbol\":\"circle\",\"size\":5},\"mode\":\"markers+text\",\"name\":\"\",\"scene\":\"scene\",\"showlegend\":false,\"text\":[2.0,1.0,8.0,5.0,2.0,5.0,1.0,6.0,1.0,1.0,8.0,4.0,4.0,3.0,3.0,1.0,9.0,1.0,0.0,9.0,9.0,2.0,3.0,8.0,9.0,1.0,7.0,2.0,7.0,8.0,9.0,3.0,9.0,3.0,2.0,4.0,0.0,9.0,0.0,1.0,7.0,1.0,5.0,9.0,3.0,0.0,0.0,5.0,6.0,0.0,4.0,7.0,7.0,4.0,5.0,7.0,1.0,7.0,9.0,2.0,8.0,2.0,3.0,2.0,6.0,3.0,5.0,4.0,4.0,4.0,1.0,0.0,9.0,3.0,2.0,2.0,3.0,7.0,8.0,1.0,5.0,8.0,0.0,3.0,2.0,1.0,4.0,9.0,3.0,1.0,2.0,2.0,5.0,1.0,9.0,7.0,9.0,1.0,3.0,4.0,1.0,9.0,1.0,1.0,2.0,6.0,6.0,0.0,4.0,8.0,5.0,6.0,6.0,0.0,2.0,5.0,1.0,8.0,5.0,4.0,6.0,3.0,2.0,7.0,4.0,2.0,6.0,9.0],\"x\":[0.7736045122146606,-0.718297004699707,-0.6262110471725464,-0.7782281637191772,0.7665087580680847,-0.7591643929481506,-0.7184445858001709,0.27156341075897217,-0.7183980345726013,-0.7184810042381287,-0.6306747794151306,0.20497800409793854,-0.12187521904706955,0.29446646571159363,0.24647030234336853,-0.7183476686477661,-0.27835121750831604,-0.7184041738510132,0.7658538222312927,-0.3557756245136261,-0.11027839779853821,0.7829959988594055,0.33500203490257263,-0.6488713026046753,-0.13736285269260406,-0.7184243202209473,0.6307248473167419,0.785229504108429,0.6620449423789978,-0.6282315254211426,-0.3366517424583435,0.28874629735946655,-0.3563256859779358,0.22405970096588135,0.7078267931938171,-0.21762770414352417,0.761625349521637,-0.4137202203273773,0.7601466178894043,-0.7184229493141174,0.6682752966880798,-0.7182278633117676,-0.7719463109970093,0.0014744234504178166,0.26866090297698975,0.7525922656059265,0.757577657699585,-0.7695909738540649,0.18150784075260162,0.7711922526359558,-0.1927579790353775,0.42172548174858093,0.6596921682357788,-0.09924940019845963,-0.7794225811958313,0.6935863494873047,-0.7183793187141418,0.6375574469566345,-0.2964729070663452,0.7781025767326355,-0.6306545734405518,0.7792379260063171,0.2751258909702301,0.7750476002693176,0.17195259034633636,0.30887311697006226,-0.7788506150245667,-0.24119214713573456,-0.21705131232738495,-0.23299837112426758,-0.7183859944343567,0.7688942551612854,-0.3203500807285309,0.30960190296173096,0.7752561569213867,0.7810072302818298,0.28952616453170776,0.6776767373085022,-0.5942836403846741,-0.7181785106658936,-0.7826119661331177,-0.6327165961265564,0.766866147518158,0.30826735496520996,0.7651793360710144,-0.7183693647384644,-0.19152167439460754,-0.14202462136745453,0.3022962808609009,-0.7184414863586426,0.7557753920555115,0.7749084234237671,-0.7775427103042603,-0.7183215022087097,-0.4304151237010956,0.6736700534820557,-0.3102613091468811,-0.7184010744094849,0.297926664352417,-0.21864517033100128,-0.7182694673538208,-0.33560314774513245,-0.7184451818466187,-0.7182369828224182,0.7882014513015747,0.14844779670238495,0.1795879453420639,0.7720183730125427,-0.13414977490901947,-0.7526821494102478,-0.7741270065307617,0.2603451907634735,0.23952414095401764,0.7617077827453613,0.7746976613998413,-0.7660593390464783,-0.7182012796401978,-0.6819543242454529,-0.7778855562210083,-0.21377764642238617,0.2158624678850174,0.1925489455461502,0.7776922583580017,0.6561798453330994,-0.12702882289886475,0.7730016112327576,0.16693010926246643,-0.3042373061180115],\"y\":[-0.630181074142456,0.6788722276687622,0.6914970874786377,0.49241432547569275,-0.6416940689086914,0.4346163868904114,0.6788114309310913,0.18269331753253937,0.678830623626709,0.6787963509559631,0.6916865110397339,-0.5341363549232483,-0.3094499409198761,0.16183312237262726,0.2050783634185791,0.678851306438446,-0.17655429244041443,0.6788281202316284,-0.6426042914390564,-0.10385354608297348,-0.3186196982860565,-0.606224775314331,0.12386132031679153,0.6918160319328308,-0.29706311225891113,0.6788197159767151,-0.6916883587837219,-0.5260022878646851,-0.6911900043487549,0.6915901303291321,-0.1222863495349884,0.16708223521709442,-0.10331851989030838,0.22466859221458435,-0.3293464183807373,-0.2302227020263672,-0.648013174533844,-0.04590975493192673,-0.6497367024421692,0.6788203120231628,-0.6906554698944092,0.6789006590843201,0.4705418050289154,-0.402458518743515,0.18530739843845367,-0.6574624180793762,-0.6525532603263855,0.46326205134391785,0.2608594000339508,-0.6344846487045288,-0.2514166533946991,-0.640623927116394,-0.6913505792617798,-0.3272574245929718,0.49715882539749146,-0.6866087317466736,0.678838312625885,-0.6918609142303467,-0.15998558700084686,-0.6206040382385254,0.6916857957839966,-0.6177480220794678,0.1794758439064026,-0.6273601055145264,0.26880982518196106,0.1484949141740799,0.49485546350479126,-0.20972596108913422,-0.2307189553976059,-0.2168995589017868,0.6788355708122253,-0.6381877064704895,-0.13774609565734863,0.14781561493873596,-0.6269347667694092,-0.6127952933311462,0.16636811196804047,-0.6895264387130737,0.6885796785354614,0.6789209246635437,0.5113821029663086,0.6917534470558167,-0.6411884427070618,0.14905916154384613,-0.6435195803642273,0.6788423657417297,-0.25245875120162964,-0.293302983045578,0.15460507571697235,0.6788126826286316,-0.6544070839881897,-0.6276413202285767,0.4897974133491516,0.6788620948791504,-0.028584647923707962,-0.6900571584701538,-0.14720068871974945,0.6788293123245239,0.15864500403404236,-0.22934606671333313,0.6788834929466248,-0.12328768521547318,0.6788111329078674,0.6788968443870544,-0.5696372985839844,0.28809791803359985,0.26246196031570435,-0.633063554763794,-0.29964616894721985,0.657379686832428,0.4776659309864044,0.19276055693626404,0.211190328001976,-0.647914707660675,-0.6280632615089417,0.4529929757118225,0.678911566734314,0.6888737082481384,0.49109745025634766,-0.2335328459739685,0.23174169659614563,0.2515929341316223,-0.6215842962265015,-0.6915497779846191,-0.3053460419178009,-0.6313018798828125,0.272963285446167,-0.15280549228191376],\"z\":[-0.06639136373996735,-0.15225620567798615,-0.3601270616054535,0.38972949981689453,-0.026323765516281128,0.4845390319824219,-0.15183044970035553,-0.9449213743209839,-0.15196485817432404,-0.15172532200813293,-0.3518793284893036,0.820172131061554,0.9430732131004333,-0.9418596625328064,-0.9472038745880127,-0.1521102339029312,0.9441128373146057,-0.15194715559482574,-0.022973235696554184,0.9287831783294678,0.9414457678794861,-0.13931533694267273,-0.9340407252311707,-0.31679102778434753,0.9449259638786316,-0.15188880264759064,0.3517860174179077,-0.32670509815216064,0.2897460162639618,-0.35641026496887207,0.9336550235748291,-0.9427136778831482,0.9286319613456726,-0.948325514793396,-0.6249096393585205,0.9484912753105164,-0.002409082604572177,0.9092457890510559,0.004398844204843044,-0.15189296007156372,0.276411235332489,-0.15245556831359863,0.4274216592311859,0.9154370427131653,-0.9452420473098755,0.03671656921505928,0.015820860862731934,0.4394519329071045,-0.94815993309021,-0.0518810972571373,0.9484903812408447,0.6416763663291931,0.29468733072280884,0.9397085905075073,0.38122639060020447,0.21795952320098877,-0.15201877057552338,0.33889371156692505,0.9415457248687744,-0.0969901978969574,-0.35191696882247925,-0.10571453720331192,-0.944507360458374,-0.07563411444425583,-0.9477202296257019,-0.9394395351409912,0.38536980748176575,0.9475449323654175,0.948502779006958,0.9479801654815674,-0.15199953317642212,-0.038963112980127335,0.9372308850288391,-0.9393067955970764,-0.07701022177934647,-0.120455801486969,-0.9426007866859436,0.25555363297462463,-0.41555389761924744,-0.1525976061820984,0.3549744784832001,-0.34806159138679504,-0.028172308579087257,-0.9395491480827332,-0.01957341469824314,-0.15204736590385437,0.948464035987854,0.945411205291748,-0.9405925273895264,-0.1518394649028778,0.023555297404527664,-0.07472176849842072,0.39436763525009155,-0.1521856039762497,0.9021782875061035,0.2645559310913086,0.9391857981681824,-0.15195615589618683,-0.9413137435913086,0.9484695792198181,-0.15233545005321503,0.933900773525238,-0.1518286019563675,-0.15242929756641388,-0.23292042315006256,-0.9460247755050659,-0.9480832815170288,-0.05672992765903473,0.944571852684021,-0.03635307028889656,0.4154065251350403,-0.9460781216621399,-0.9476427435874939,-0.002794422674924135,-0.07334910333156586,0.456015944480896,-0.15253207087516785,-0.24574638903141022,0.3920679986476898,0.9485576152801514,-0.9485247135162354,-0.9484860897064209,-0.09395583719015121,0.30197179317474365,0.9437305927276611,-0.06266164034605026,-0.9474309086799622,0.9402607083320618],\"type\":\"scatter3d\"}],                        {\"template\":{\"data\":{\"histogram2dcontour\":[{\"type\":\"histogram2dcontour\",\"colorbar\":{\"outlinewidth\":0,\"ticks\":\"\"},\"colorscale\":[[0.0,\"#0d0887\"],[0.1111111111111111,\"#46039f\"],[0.2222222222222222,\"#7201a8\"],[0.3333333333333333,\"#9c179e\"],[0.4444444444444444,\"#bd3786\"],[0.5555555555555556,\"#d8576b\"],[0.6666666666666666,\"#ed7953\"],[0.7777777777777778,\"#fb9f3a\"],[0.8888888888888888,\"#fdca26\"],[1.0,\"#f0f921\"]]}],\"choropleth\":[{\"type\":\"choropleth\",\"colorbar\":{\"outlinewidth\":0,\"ticks\":\"\"}}],\"histogram2d\":[{\"type\":\"histogram2d\",\"colorbar\":{\"outlinewidth\":0,\"ticks\":\"\"},\"colorscale\":[[0.0,\"#0d0887\"],[0.1111111111111111,\"#46039f\"],[0.2222222222222222,\"#7201a8\"],[0.3333333333333333,\"#9c179e\"],[0.4444444444444444,\"#bd3786\"],[0.5555555555555556,\"#d8576b\"],[0.6666666666666666,\"#ed7953\"],[0.7777777777777778,\"#fb9f3a\"],[0.8888888888888888,\"#fdca26\"],[1.0,\"#f0f921\"]]}],\"heatmap\":[{\"type\":\"heatmap\",\"colorbar\":{\"outlinewidth\":0,\"ticks\":\"\"},\"colorscale\":[[0.0,\"#0d0887\"],[0.1111111111111111,\"#46039f\"],[0.2222222222222222,\"#7201a8\"],[0.3333333333333333,\"#9c179e\"],[0.4444444444444444,\"#bd3786\"],[0.5555555555555556,\"#d8576b\"],[0.6666666666666666,\"#ed7953\"],[0.7777777777777778,\"#fb9f3a\"],[0.8888888888888888,\"#fdca26\"],[1.0,\"#f0f921\"]]}],\"heatmapgl\":[{\"type\":\"heatmapgl\",\"colorbar\":{\"outlinewidth\":0,\"ticks\":\"\"},\"colorscale\":[[0.0,\"#0d0887\"],[0.1111111111111111,\"#46039f\"],[0.2222222222222222,\"#7201a8\"],[0.3333333333333333,\"#9c179e\"],[0.4444444444444444,\"#bd3786\"],[0.5555555555555556,\"#d8576b\"],[0.6666666666666666,\"#ed7953\"],[0.7777777777777778,\"#fb9f3a\"],[0.8888888888888888,\"#fdca26\"],[1.0,\"#f0f921\"]]}],\"contourcarpet\":[{\"type\":\"contourcarpet\",\"colorbar\":{\"outlinewidth\":0,\"ticks\":\"\"}}],\"contour\":[{\"type\":\"contour\",\"colorbar\":{\"outlinewidth\":0,\"ticks\":\"\"},\"colorscale\":[[0.0,\"#0d0887\"],[0.1111111111111111,\"#46039f\"],[0.2222222222222222,\"#7201a8\"],[0.3333333333333333,\"#9c179e\"],[0.4444444444444444,\"#bd3786\"],[0.5555555555555556,\"#d8576b\"],[0.6666666666666666,\"#ed7953\"],[0.7777777777777778,\"#fb9f3a\"],[0.8888888888888888,\"#fdca26\"],[1.0,\"#f0f921\"]]}],\"surface\":[{\"type\":\"surface\",\"colorbar\":{\"outlinewidth\":0,\"ticks\":\"\"},\"colorscale\":[[0.0,\"#0d0887\"],[0.1111111111111111,\"#46039f\"],[0.2222222222222222,\"#7201a8\"],[0.3333333333333333,\"#9c179e\"],[0.4444444444444444,\"#bd3786\"],[0.5555555555555556,\"#d8576b\"],[0.6666666666666666,\"#ed7953\"],[0.7777777777777778,\"#fb9f3a\"],[0.8888888888888888,\"#fdca26\"],[1.0,\"#f0f921\"]]}],\"mesh3d\":[{\"type\":\"mesh3d\",\"colorbar\":{\"outlinewidth\":0,\"ticks\":\"\"}}],\"scatter\":[{\"fillpattern\":{\"fillmode\":\"overlay\",\"size\":10,\"solidity\":0.2},\"type\":\"scatter\"}],\"parcoords\":[{\"type\":\"parcoords\",\"line\":{\"colorbar\":{\"outlinewidth\":0,\"ticks\":\"\"}}}],\"scatterpolargl\":[{\"type\":\"scatterpolargl\",\"marker\":{\"colorbar\":{\"outlinewidth\":0,\"ticks\":\"\"}}}],\"bar\":[{\"error_x\":{\"color\":\"#2a3f5f\"},\"error_y\":{\"color\":\"#2a3f5f\"},\"marker\":{\"line\":{\"color\":\"#E5ECF6\",\"width\":0.5},\"pattern\":{\"fillmode\":\"overlay\",\"size\":10,\"solidity\":0.2}},\"type\":\"bar\"}],\"scattergeo\":[{\"type\":\"scattergeo\",\"marker\":{\"colorbar\":{\"outlinewidth\":0,\"ticks\":\"\"}}}],\"scatterpolar\":[{\"type\":\"scatterpolar\",\"marker\":{\"colorbar\":{\"outlinewidth\":0,\"ticks\":\"\"}}}],\"histogram\":[{\"marker\":{\"pattern\":{\"fillmode\":\"overlay\",\"size\":10,\"solidity\":0.2}},\"type\":\"histogram\"}],\"scattergl\":[{\"type\":\"scattergl\",\"marker\":{\"colorbar\":{\"outlinewidth\":0,\"ticks\":\"\"}}}],\"scatter3d\":[{\"type\":\"scatter3d\",\"line\":{\"colorbar\":{\"outlinewidth\":0,\"ticks\":\"\"}},\"marker\":{\"colorbar\":{\"outlinewidth\":0,\"ticks\":\"\"}}}],\"scattermapbox\":[{\"type\":\"scattermapbox\",\"marker\":{\"colorbar\":{\"outlinewidth\":0,\"ticks\":\"\"}}}],\"scatterternary\":[{\"type\":\"scatterternary\",\"marker\":{\"colorbar\":{\"outlinewidth\":0,\"ticks\":\"\"}}}],\"scattercarpet\":[{\"type\":\"scattercarpet\",\"marker\":{\"colorbar\":{\"outlinewidth\":0,\"ticks\":\"\"}}}],\"carpet\":[{\"aaxis\":{\"endlinecolor\":\"#2a3f5f\",\"gridcolor\":\"white\",\"linecolor\":\"white\",\"minorgridcolor\":\"white\",\"startlinecolor\":\"#2a3f5f\"},\"baxis\":{\"endlinecolor\":\"#2a3f5f\",\"gridcolor\":\"white\",\"linecolor\":\"white\",\"minorgridcolor\":\"white\",\"startlinecolor\":\"#2a3f5f\"},\"type\":\"carpet\"}],\"table\":[{\"cells\":{\"fill\":{\"color\":\"#EBF0F8\"},\"line\":{\"color\":\"white\"}},\"header\":{\"fill\":{\"color\":\"#C8D4E3\"},\"line\":{\"color\":\"white\"}},\"type\":\"table\"}],\"barpolar\":[{\"marker\":{\"line\":{\"color\":\"#E5ECF6\",\"width\":0.5},\"pattern\":{\"fillmode\":\"overlay\",\"size\":10,\"solidity\":0.2}},\"type\":\"barpolar\"}],\"pie\":[{\"automargin\":true,\"type\":\"pie\"}]},\"layout\":{\"autotypenumbers\":\"strict\",\"colorway\":[\"#636efa\",\"#EF553B\",\"#00cc96\",\"#ab63fa\",\"#FFA15A\",\"#19d3f3\",\"#FF6692\",\"#B6E880\",\"#FF97FF\",\"#FECB52\"],\"font\":{\"color\":\"#2a3f5f\"},\"hovermode\":\"closest\",\"hoverlabel\":{\"align\":\"left\"},\"paper_bgcolor\":\"white\",\"plot_bgcolor\":\"#E5ECF6\",\"polar\":{\"bgcolor\":\"#E5ECF6\",\"angularaxis\":{\"gridcolor\":\"white\",\"linecolor\":\"white\",\"ticks\":\"\"},\"radialaxis\":{\"gridcolor\":\"white\",\"linecolor\":\"white\",\"ticks\":\"\"}},\"ternary\":{\"bgcolor\":\"#E5ECF6\",\"aaxis\":{\"gridcolor\":\"white\",\"linecolor\":\"white\",\"ticks\":\"\"},\"baxis\":{\"gridcolor\":\"white\",\"linecolor\":\"white\",\"ticks\":\"\"},\"caxis\":{\"gridcolor\":\"white\",\"linecolor\":\"white\",\"ticks\":\"\"}},\"coloraxis\":{\"colorbar\":{\"outlinewidth\":0,\"ticks\":\"\"}},\"colorscale\":{\"sequential\":[[0.0,\"#0d0887\"],[0.1111111111111111,\"#46039f\"],[0.2222222222222222,\"#7201a8\"],[0.3333333333333333,\"#9c179e\"],[0.4444444444444444,\"#bd3786\"],[0.5555555555555556,\"#d8576b\"],[0.6666666666666666,\"#ed7953\"],[0.7777777777777778,\"#fb9f3a\"],[0.8888888888888888,\"#fdca26\"],[1.0,\"#f0f921\"]],\"sequentialminus\":[[0.0,\"#0d0887\"],[0.1111111111111111,\"#46039f\"],[0.2222222222222222,\"#7201a8\"],[0.3333333333333333,\"#9c179e\"],[0.4444444444444444,\"#bd3786\"],[0.5555555555555556,\"#d8576b\"],[0.6666666666666666,\"#ed7953\"],[0.7777777777777778,\"#fb9f3a\"],[0.8888888888888888,\"#fdca26\"],[1.0,\"#f0f921\"]],\"diverging\":[[0,\"#8e0152\"],[0.1,\"#c51b7d\"],[0.2,\"#de77ae\"],[0.3,\"#f1b6da\"],[0.4,\"#fde0ef\"],[0.5,\"#f7f7f7\"],[0.6,\"#e6f5d0\"],[0.7,\"#b8e186\"],[0.8,\"#7fbc41\"],[0.9,\"#4d9221\"],[1,\"#276419\"]]},\"xaxis\":{\"gridcolor\":\"white\",\"linecolor\":\"white\",\"ticks\":\"\",\"title\":{\"standoff\":15},\"zerolinecolor\":\"white\",\"automargin\":true,\"zerolinewidth\":2},\"yaxis\":{\"gridcolor\":\"white\",\"linecolor\":\"white\",\"ticks\":\"\",\"title\":{\"standoff\":15},\"zerolinecolor\":\"white\",\"automargin\":true,\"zerolinewidth\":2},\"scene\":{\"xaxis\":{\"backgroundcolor\":\"#E5ECF6\",\"gridcolor\":\"white\",\"linecolor\":\"white\",\"showbackground\":true,\"ticks\":\"\",\"zerolinecolor\":\"white\",\"gridwidth\":2},\"yaxis\":{\"backgroundcolor\":\"#E5ECF6\",\"gridcolor\":\"white\",\"linecolor\":\"white\",\"showbackground\":true,\"ticks\":\"\",\"zerolinecolor\":\"white\",\"gridwidth\":2},\"zaxis\":{\"backgroundcolor\":\"#E5ECF6\",\"gridcolor\":\"white\",\"linecolor\":\"white\",\"showbackground\":true,\"ticks\":\"\",\"zerolinecolor\":\"white\",\"gridwidth\":2}},\"shapedefaults\":{\"line\":{\"color\":\"#2a3f5f\"}},\"annotationdefaults\":{\"arrowcolor\":\"#2a3f5f\",\"arrowhead\":0,\"arrowwidth\":1},\"geo\":{\"bgcolor\":\"white\",\"landcolor\":\"#E5ECF6\",\"subunitcolor\":\"white\",\"showland\":true,\"showlakes\":true,\"lakecolor\":\"white\"},\"title\":{\"x\":0.05},\"mapbox\":{\"style\":\"light\"}}},\"scene\":{\"domain\":{\"x\":[0.0,1.0],\"y\":[0.0,1.0]},\"xaxis\":{\"title\":{\"text\":\"x\"}},\"yaxis\":{\"title\":{\"text\":\"y\"}},\"zaxis\":{\"title\":{\"text\":\"z\"}}},\"coloraxis\":{\"colorbar\":{\"title\":{\"text\":\"label\"}},\"colorscale\":[[0.0,\"#0d0887\"],[0.1111111111111111,\"#46039f\"],[0.2222222222222222,\"#7201a8\"],[0.3333333333333333,\"#9c179e\"],[0.4444444444444444,\"#bd3786\"],[0.5555555555555556,\"#d8576b\"],[0.6666666666666666,\"#ed7953\"],[0.7777777777777778,\"#fb9f3a\"],[0.8888888888888888,\"#fdca26\"],[1.0,\"#f0f921\"]]},\"legend\":{\"tracegroupgap\":0},\"margin\":{\"t\":60}},                        {\"responsive\": true}                    ).then(function(){\n",
       "                            \n",
       "var gd = document.getElementById('7685c056-f152-4161-a4e7-a3d6766bb401');\n",
       "var x = new MutationObserver(function (mutations, observer) {{\n",
       "        var display = window.getComputedStyle(gd).display;\n",
       "        if (!display || display === 'none') {{\n",
       "            console.log([gd, 'removed!']);\n",
       "            Plotly.purge(gd);\n",
       "            observer.disconnect();\n",
       "        }}\n",
       "}});\n",
       "\n",
       "// Listen for the removal of the full notebook cells\n",
       "var notebookContainer = gd.closest('#notebook-container');\n",
       "if (notebookContainer) {{\n",
       "    x.observe(notebookContainer, {childList: true});\n",
       "}}\n",
       "\n",
       "// Listen for the clearing of the current output cell\n",
       "var outputEl = gd.closest('.output');\n",
       "if (outputEl) {{\n",
       "    x.observe(outputEl, {childList: true});\n",
       "}}\n",
       "\n",
       "                        })                };                });            </script>        </div>"
      ]
     },
     "metadata": {},
     "output_type": "display_data"
    }
   ],
   "source": [
    "projected_points = project_to_2D_unit_circle(embeds)\n",
    "df = pd.DataFrame({'x': projected_points[:, 0], \n",
    "                   'y': projected_points[:, 1], \n",
    "                   'z': projected_points[:, 2], \n",
    "                   'label': batch_labels.numpy()})\n",
    "\n",
    "fig = px.scatter_3d(df, x='x', y='y', z='z',\n",
    "                      color='label', text='label')\n",
    "fig.update_traces(marker_size = 5)\n",
    "fig.show()"
   ]
  },
  {
   "cell_type": "markdown",
   "id": "fc5385f0",
   "metadata": {},
   "source": [
    "## Accuracy over test images"
   ]
  },
  {
   "cell_type": "code",
   "execution_count": 978,
   "id": "afe69ae9",
   "metadata": {},
   "outputs": [],
   "source": [
    "def accuracy_over_test_images(mnist_net, tag='original'):\n",
    "    correct = 0\n",
    "    total = 0\n",
    "    # since we're not training, we don't need to calculate the gradients for our outputs\n",
    "    with torch.no_grad():\n",
    "        for images, labels in data_loader:\n",
    "            images = images.to(device); labels = labels.to(device)\n",
    "            # calculate outputs by running images through the network\n",
    "            outputs = mnist_net(images)\n",
    "            # the class with the highest energy is what we choose as prediction\n",
    "            _, predicted = torch.max(outputs.data, 1)\n",
    "            total += labels.size(0)\n",
    "            correct += (predicted == labels).sum().item()\n",
    "\n",
    "    print(f'Accuracy of the ' +  tag +  ' network on the '+ str(total) +' test images: '+ str(100 * correct // total)+ '%')"
   ]
  },
  {
   "cell_type": "code",
   "execution_count": 979,
   "id": "283671bb",
   "metadata": {
    "scrolled": true
   },
   "outputs": [
    {
     "name": "stdout",
     "output_type": "stream",
     "text": [
      "Accuracy of the modified network on the 10000 test images: 49%\n"
     ]
    }
   ],
   "source": [
    "accuracy_over_test_images(mnist_net, tag='modified')"
   ]
  },
  {
   "cell_type": "code",
   "execution_count": 980,
   "id": "1279a9ae",
   "metadata": {
    "scrolled": true
   },
   "outputs": [],
   "source": [
    "# accuracy_over_test_images(original_mnist_net)\n",
    "# Accuracy of the original network on the 10000 test images: 97%"
   ]
  },
  {
   "cell_type": "code",
   "execution_count": null,
   "id": "79858db0",
   "metadata": {},
   "outputs": [],
   "source": []
  }
 ],
 "metadata": {
  "kernelspec": {
   "display_name": "Python 3 (ipykernel)",
   "language": "python",
   "name": "python3"
  },
  "language_info": {
   "codemirror_mode": {
    "name": "ipython",
    "version": 3
   },
   "file_extension": ".py",
   "mimetype": "text/x-python",
   "name": "python",
   "nbconvert_exporter": "python",
   "pygments_lexer": "ipython3",
   "version": "3.7.16"
  }
 },
 "nbformat": 4,
 "nbformat_minor": 5
}
