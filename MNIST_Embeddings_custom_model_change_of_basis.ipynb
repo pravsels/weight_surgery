{
 "cells": [
  {
   "cell_type": "markdown",
   "id": "65791bdc",
   "metadata": {},
   "source": [
    "# MNIST Embeddings"
   ]
  },
  {
   "cell_type": "markdown",
   "id": "a8a44dcf",
   "metadata": {},
   "source": [
    "## Imports and Hyper-parameters "
   ]
  },
  {
   "cell_type": "code",
   "execution_count": 1,
   "id": "9f195be0",
   "metadata": {},
   "outputs": [
    {
     "name": "stdout",
     "output_type": "stream",
     "text": [
      "/home/praveens/Desktop/synthetic_biometrics/visualize_embeddings\n"
     ]
    }
   ],
   "source": [
    "import torch \n",
    "import os \n",
    "import numpy as np \n",
    "from torchvision import transforms \n",
    "from torchvision.datasets import MNIST \n",
    "from torchvision import models \n",
    "\n",
    "print(os.getcwd())\n",
    "root = os.getcwd()\n",
    "\n",
    "from DeepFeatures import DeepFeatures\n",
    "from mnist_net import Net"
   ]
  },
  {
   "cell_type": "code",
   "execution_count": 2,
   "id": "fae1b25d",
   "metadata": {},
   "outputs": [],
   "source": [
    "batch_size = 128\n",
    "data_folder = root + '/MNIST'\n",
    "device = 'cpu'\n",
    "model_path = './mnist_net.pth'\n",
    "\n",
    "merge_class1 = 1\n",
    "merge_class2 = 0"
   ]
  },
  {
   "cell_type": "markdown",
   "id": "2e460bd2",
   "metadata": {},
   "source": [
    "## Create Dataloader"
   ]
  },
  {
   "cell_type": "code",
   "execution_count": 3,
   "id": "860de05b",
   "metadata": {},
   "outputs": [],
   "source": [
    "transformations = transforms.Compose([transforms.Resize((221, 221)),\n",
    "                                      transforms.ToTensor(),\n",
    "                                      transforms.Normalize(mean=[0.485], std=[0.229])\n",
    "                                    ])\n",
    "\n",
    "mnist_data = MNIST(root=r'./MNIST',\n",
    "                   download=False, # change to True to download MNIST data\n",
    "                   train=False, \n",
    "                   transform=transformations)\n",
    "\n",
    "data_loader = torch.utils.data.DataLoader(mnist_data,\n",
    "                                          batch_size=batch_size,\n",
    "                                          shuffle=True)"
   ]
  },
  {
   "cell_type": "code",
   "execution_count": 4,
   "id": "17645ff9",
   "metadata": {},
   "outputs": [],
   "source": [
    "# list(mnist_net.named_parameters())"
   ]
  },
  {
   "cell_type": "markdown",
   "id": "b9e14939",
   "metadata": {},
   "source": [
    "## Initialize Tensorboard Logging Class "
   ]
  },
  {
   "cell_type": "code",
   "execution_count": 5,
   "id": "d275c88e",
   "metadata": {
    "scrolled": true
   },
   "outputs": [
    {
     "data": {
      "text/plain": [
       "Net(\n",
       "  (conv1): Conv2d(1, 8, kernel_size=(2, 2), stride=(1, 1))\n",
       "  (conv2): Conv2d(8, 16, kernel_size=(2, 2), stride=(1, 1))\n",
       "  (conv3): Conv2d(16, 32, kernel_size=(2, 2), stride=(1, 1))\n",
       "  (conv4): Conv2d(32, 64, kernel_size=(2, 2), stride=(1, 1))\n",
       "  (pool): MaxPool2d(kernel_size=2, stride=2, padding=0, dilation=1, ceil_mode=False)\n",
       "  (fc1): Linear(in_features=9216, out_features=128, bias=True)\n",
       "  (fc2): Linear(in_features=128, out_features=64, bias=True)\n",
       "  (fc3): Linear(in_features=64, out_features=3, bias=True)\n",
       "  (fc4): Linear(in_features=3, out_features=3, bias=True)\n",
       "  (fc5): Linear(in_features=3, out_features=10, bias=True)\n",
       ")"
      ]
     },
     "execution_count": 5,
     "metadata": {},
     "output_type": "execute_result"
    }
   ],
   "source": [
    "mnist_net = Net().to(device)\n",
    "mnist_net.load_state_dict(torch.load(model_path, map_location=torch.device(device)))  # load saved model \n",
    "\n",
    "mnist_net.eval()"
   ]
  },
  {
   "cell_type": "code",
   "execution_count": 6,
   "id": "70ae5433",
   "metadata": {},
   "outputs": [],
   "source": [
    "deep_features = DeepFeatures(model=mnist_net)"
   ]
  },
  {
   "cell_type": "code",
   "execution_count": 7,
   "id": "3f9fe549",
   "metadata": {},
   "outputs": [],
   "source": [
    "def find_class_embeddings(deep_features, data_loader, class1, class2):\n",
    "    images, labels = next(iter(data_loader))\n",
    "    e = deep_features.generate_embeddings(images).clone().detach()\n",
    "    \n",
    "    ################## STEP 1: finding centroid of the 2 class embeddings  \n",
    "    x1 = None\n",
    "    class1 = torch.tensor(class1)\n",
    "    class1_count = 0\n",
    "\n",
    "    x2 = None\n",
    "    class2 = torch.tensor(class2)\n",
    "    class2_count = 0\n",
    "\n",
    "    ################## Should centroid be found by summing and averaging ?\n",
    "    for index, (image, label) in enumerate(zip(images, labels)):\n",
    "        if class1_count == 1 and class2_count == 1:\n",
    "            break \n",
    "        \n",
    "        if (not class1_count) and label == class1:\n",
    "            x1 = e[index]/torch.norm(e[index])\n",
    "            class1_count += 1\n",
    "        if (not class2_count) and label == class2:\n",
    "            x2 = e[index]/torch.norm(e[index])\n",
    "            class2_count += 1\n",
    "    \n",
    "    print('val of class ' + str(class1.numpy()) + ' : ', x1)\n",
    "    print('val of class '  + str(class2.numpy()) + ' : ', x2)\n",
    "    print('cosine similarity : ', (np.dot(x1, x2)/np.linalg.norm(x1)*np.linalg.norm(x2)))\n",
    "    \n",
    "    return x1, x2"
   ]
  },
  {
   "cell_type": "code",
   "execution_count": 8,
   "id": "262262cf",
   "metadata": {},
   "outputs": [
    {
     "name": "stdout",
     "output_type": "stream",
     "text": [
      "val of class 1 :  tensor([ 0.2814,  0.0522, -0.9582])\n",
      "val of class 0 :  tensor([0.7092, 0.5632, 0.4241])\n",
      "cosine similarity :  -0.1773846\n"
     ]
    },
    {
     "data": {
      "text/plain": [
       "(tensor([ 0.2814,  0.0522, -0.9582]), tensor([0.7092, 0.5632, 0.4241]))"
      ]
     },
     "execution_count": 8,
     "metadata": {},
     "output_type": "execute_result"
    }
   ],
   "source": [
    "x1, x2 = find_class_embeddings(deep_features, \n",
    "                               data_loader, \n",
    "                               merge_class1, \n",
    "                               merge_class2)\n",
    "x1, x2"
   ]
  },
  {
   "cell_type": "code",
   "execution_count": 9,
   "id": "eb9a9adf",
   "metadata": {},
   "outputs": [],
   "source": [
    "################## Step 3: calculate change of basis matrix\n",
    "def change_of_basis(wm, d):\n",
    "    ################## The first basis is d, how do we get the other 2 ?\n",
    "    combs = [list(range(wm.shape[1]-1)), \n",
    "             list(range(1, wm.shape[1]))]\n",
    "    \n",
    "    print('combinations : ', combs)\n",
    "    \n",
    "    det_threshold = 1e-1\n",
    "    new_wm = None \n",
    "\n",
    "    for c in combs:\n",
    "        curr_det = np.linalg.det(np.column_stack((d, wm[:, c])))\n",
    "        \n",
    "        # skip in case determinant is close to 0\n",
    "        if abs(curr_det) < det_threshold:\n",
    "            continue \n",
    "        print('det : ', curr_det)\n",
    "        new_wm = np.column_stack((d, wm[:, c]))\n",
    "\n",
    "    return torch.tensor(new_wm)"
   ]
  },
  {
   "cell_type": "code",
   "execution_count": 10,
   "id": "5b80f3e1",
   "metadata": {},
   "outputs": [],
   "source": [
    "def perform_weight_surgery(mnist_net, x1, x2, save_model=True):\n",
    "    \n",
    "    ################## Step 2: calculating difference vector of the 2 classes \n",
    "    # calculate the difference between the 2 class vectors \n",
    "    d = (x2/torch.norm(x2)) - (x1/torch.norm(x1))  \n",
    "    print('d : ', d)\n",
    "    d = d/torch.norm(d)\n",
    "    print('normed d : ', d)\n",
    "    weight_matrix = mnist_net.fc4.weight.clone().detach()  # weight matrix of the penultimate layer \n",
    "    print('weight matrix : \\n', weight_matrix)\n",
    "    \n",
    "    ################## Step 3: calculate change of basis matrix \n",
    "    # perform a change of basis, to put d as the first basis \n",
    "    new_wm = change_of_basis(weight_matrix, d)\n",
    "    print('new weight matrix : \\n', new_wm)\n",
    "    \n",
    "    # gram schmidt to calculate orthogonal basis vectors \n",
    "    def gram_schmidt(weight_matrix):\n",
    "        ################## d is first basis vector\n",
    "        new_basis_vectors = [weight_matrix[:, 0]]\n",
    "        m, n = weight_matrix.shape\n",
    "\n",
    "        for i in range(1, n):\n",
    "\n",
    "            a_i = weight_matrix[:, i].clone()\n",
    "            q_i = 0\n",
    "\n",
    "            for j, q_j in enumerate(new_basis_vectors):\n",
    "                q_i -= (torch.dot(q_j, a_i) * q_j)\n",
    "            \n",
    "            q_i += a_i\n",
    "            q_i = q_i / torch.norm(q_i)\n",
    "            \n",
    "            new_basis_vectors.append(q_i)\n",
    "            \n",
    "        return new_basis_vectors\n",
    "    \n",
    "    ################## Step 4: using Gram-Schmidt to get orthogonal basis vectors \n",
    "    new_basis_vectors = gram_schmidt(new_wm)    # \n",
    "    \n",
    "    U = [nbv.reshape(-1, 1) for nbv in new_basis_vectors]\n",
    "    U = torch.cat(U, axis=1)\n",
    "    print('result of U * U_transpose : ', U @ U.T)\n",
    "    print('result of U * U_inv : ', U @ torch.inverse(U))\n",
    "    \n",
    "#     U, _ = torch.qr(new_wm)\n",
    "    print('unitary matrix :\\n', U)\n",
    "#     print('QR decomp :\\n', Q)\n",
    "    \n",
    "    S = torch.eye(U.shape[0])\n",
    "    S[0, 0] = 0\n",
    "    print('projection matrix :\\n', S)\n",
    "    \n",
    "    print('modified weight matrix :\\n', weight_matrix @ U @ S @ torch.inverse(U))\n",
    "    \n",
    "    mnist_net.fc4.weight = torch.nn.Parameter(weight_matrix @ U @ S @ torch.inverse(U))\n",
    "    \n",
    "    if save_model: \n",
    "        path = './modified_mnist_net.pth'\n",
    "        torch.save(mnist_net.state_dict(), path)"
   ]
  },
  {
   "cell_type": "code",
   "execution_count": 11,
   "id": "346069de",
   "metadata": {
    "scrolled": false
   },
   "outputs": [
    {
     "name": "stdout",
     "output_type": "stream",
     "text": [
      "d :  tensor([0.4278, 0.5110, 1.3823])\n",
      "normed d :  tensor([0.2788, 0.3330, 0.9008])\n",
      "weight matrix : \n",
      " tensor([[ 0.3257, -1.0893,  0.8606],\n",
      "        [ 0.0483,  0.1397,  0.5508],\n",
      "        [-1.0913,  0.2588,  0.4324]])\n",
      "combinations :  [[0, 1], [1, 2]]\n",
      "det :  0.77067333\n",
      "det :  -0.6762598\n",
      "new weight matrix : \n",
      " tensor([[ 0.4278, -1.0893,  0.8606],\n",
      "        [ 0.5110,  0.1397,  0.5508],\n",
      "        [ 1.3823,  0.2588,  0.4324]])\n",
      "result of U * U_transpose :  tensor([[1.1409, 0.0847, 0.5542],\n",
      "        [0.0847, 0.2809, 0.7441],\n",
      "        [0.5542, 0.7441, 2.9330]])\n",
      "result of U * U_inv :  tensor([[ 1.0000e+00, -7.3592e-09,  6.1799e-09],\n",
      "        [ 3.6311e-11,  1.0000e+00,  2.7344e-09],\n",
      "        [-3.3433e-08, -1.3429e-07,  1.0000e+00]])\n",
      "unitary matrix :\n",
      " tensor([[ 4.2779e-01, -9.5126e-01, -2.3024e-01],\n",
      "        [ 5.1098e-01,  1.4054e-01,  8.3702e-04],\n",
      "        [ 1.3823e+00,  2.7452e-01, -9.7313e-01]])\n",
      "projection matrix :\n",
      " tensor([[0., 0., 0.],\n",
      "        [0., 1., 0.],\n",
      "        [0., 0., 1.]])\n",
      "modified weight matrix :\n",
      " tensor([[ 0.1223, -2.5572,  0.9075],\n",
      "        [-0.1764, -1.4824,  0.6026],\n",
      "        [-1.1606, -0.2412,  0.4483]])\n"
     ]
    }
   ],
   "source": [
    "perform_weight_surgery(mnist_net, x1, x2, save_model=True)"
   ]
  },
  {
   "cell_type": "code",
   "execution_count": 12,
   "id": "3754c031",
   "metadata": {},
   "outputs": [],
   "source": [
    "original_mnist_net = Net().to(device)\n",
    "original_mnist_net.load_state_dict(torch.load('./mnist_net.pth', map_location=torch.device(device)))  # load saved model \n",
    "\n",
    "original_mnist_net.eval()\n",
    "\n",
    "original_deep_features = DeepFeatures(model=original_mnist_net)"
   ]
  },
  {
   "cell_type": "code",
   "execution_count": 13,
   "id": "59c38717",
   "metadata": {},
   "outputs": [
    {
     "name": "stdout",
     "output_type": "stream",
     "text": [
      "val of class 1 :  tensor([ 0.2812,  0.0526, -0.9582])\n",
      "val of class 0 :  tensor([0.6185, 0.6097, 0.4957])\n",
      "cosine similarity :  -0.268965\n"
     ]
    }
   ],
   "source": [
    "_, _ = find_class_embeddings(original_deep_features, data_loader, merge_class1, merge_class2)"
   ]
  },
  {
   "cell_type": "code",
   "execution_count": 14,
   "id": "3e35df1e",
   "metadata": {},
   "outputs": [
    {
     "name": "stdout",
     "output_type": "stream",
     "text": [
      "val of class 1 :  tensor([ 0.1037, -0.1388, -0.9849])\n",
      "val of class 0 :  tensor([0.6243, 0.4941, 0.6051])\n",
      "cosine similarity :  -0.5997719\n"
     ]
    }
   ],
   "source": [
    "_, _ = find_class_embeddings(deep_features, data_loader, merge_class1, merge_class2)"
   ]
  },
  {
   "cell_type": "markdown",
   "id": "25a3132c",
   "metadata": {},
   "source": [
    "## Write Modified Embeddings to Tensorboard"
   ]
  },
  {
   "cell_type": "code",
   "execution_count": 15,
   "id": "83e945e3",
   "metadata": {},
   "outputs": [],
   "source": [
    "deep_features.create_tensorboard_dirs()"
   ]
  },
  {
   "cell_type": "code",
   "execution_count": 16,
   "id": "fe72310f",
   "metadata": {},
   "outputs": [
    {
     "data": {
      "text/plain": [
       "True"
      ]
     },
     "execution_count": 16,
     "metadata": {},
     "output_type": "execute_result"
    }
   ],
   "source": [
    "batch_images, batch_labels = next(iter(data_loader))\n",
    "deep_features.write_embeddings(x=batch_images.to(device))"
   ]
  },
  {
   "cell_type": "code",
   "execution_count": 17,
   "id": "997db19f",
   "metadata": {},
   "outputs": [
    {
     "name": "stdout",
     "output_type": "stream",
     "text": [
      "torch.Size([128, 3])\n",
      "torch.Size([128, 1, 28, 28])\n"
     ]
    },
    {
     "name": "stderr",
     "output_type": "stream",
     "text": [
      "/home/praveens/Desktop/synthetic_biometrics/visualize_embeddings/DeepFeatures.py:84: UserWarning: Creating a tensor from a list of numpy.ndarrays is extremely slow. Please consider converting the list to a single numpy.ndarray with numpy.array() before converting to a tensor. (Triggered internally at ../torch/csrc/utils/tensor_new.cpp:230.)\n",
      "  all_embeds = torch.Tensor(all_embeds)\n"
     ]
    }
   ],
   "source": [
    "deep_features.create_tensorboard_log()"
   ]
  },
  {
   "cell_type": "markdown",
   "id": "e81ca6fe",
   "metadata": {},
   "source": [
    "## Write Unmodified Embeddings to Tensorboard"
   ]
  },
  {
   "cell_type": "code",
   "execution_count": 18,
   "id": "11e5be43",
   "metadata": {},
   "outputs": [],
   "source": [
    "original_deep_features.create_tensorboard_dirs(model_type='original')"
   ]
  },
  {
   "cell_type": "code",
   "execution_count": 19,
   "id": "e223c3ae",
   "metadata": {
    "scrolled": true
   },
   "outputs": [
    {
     "data": {
      "text/plain": [
       "True"
      ]
     },
     "execution_count": 19,
     "metadata": {},
     "output_type": "execute_result"
    }
   ],
   "source": [
    "batch_images, batch_labels = next(iter(data_loader))\n",
    "original_deep_features.write_embeddings(x=batch_images.to(device))"
   ]
  },
  {
   "cell_type": "code",
   "execution_count": 20,
   "id": "9cbf68b1",
   "metadata": {
    "scrolled": true
   },
   "outputs": [
    {
     "name": "stdout",
     "output_type": "stream",
     "text": [
      "torch.Size([128, 3])\n",
      "torch.Size([128, 1, 28, 28])\n"
     ]
    }
   ],
   "source": [
    "original_deep_features.create_tensorboard_log()"
   ]
  },
  {
   "cell_type": "markdown",
   "id": "fc5385f0",
   "metadata": {},
   "source": [
    "## Accuracy over test images"
   ]
  },
  {
   "cell_type": "code",
   "execution_count": 21,
   "id": "afe69ae9",
   "metadata": {},
   "outputs": [],
   "source": [
    "def accuracy_over_test_images(mnist_net, tag='original'):\n",
    "    correct = 0\n",
    "    total = 0\n",
    "    # since we're not training, we don't need to calculate the gradients for our outputs\n",
    "    with torch.no_grad():\n",
    "        for images, labels in data_loader:\n",
    "            images = images.to(device); labels = labels.to(device)\n",
    "            # calculate outputs by running images through the network\n",
    "            outputs = mnist_net(images)\n",
    "            # the class with the highest energy is what we choose as prediction\n",
    "            _, predicted = torch.max(outputs.data, 1)\n",
    "            total += labels.size(0)\n",
    "            correct += (predicted == labels).sum().item()\n",
    "\n",
    "    print(f'Accuracy of the ' +  tag +  ' network on the '+ str(total) +' test images: '+ str(100 * correct // total)+ '%')"
   ]
  },
  {
   "cell_type": "code",
   "execution_count": 22,
   "id": "283671bb",
   "metadata": {},
   "outputs": [
    {
     "name": "stdout",
     "output_type": "stream",
     "text": [
      "Accuracy of the modified network on the 10000 test images: 40%\n"
     ]
    }
   ],
   "source": [
    "accuracy_over_test_images(mnist_net, tag='modified')"
   ]
  },
  {
   "cell_type": "code",
   "execution_count": 23,
   "id": "1279a9ae",
   "metadata": {},
   "outputs": [
    {
     "name": "stdout",
     "output_type": "stream",
     "text": [
      "Accuracy of the original network on the 10000 test images: 96%\n"
     ]
    }
   ],
   "source": [
    "accuracy_over_test_images(original_mnist_net)"
   ]
  },
  {
   "cell_type": "code",
   "execution_count": 24,
   "id": "ce22089b",
   "metadata": {},
   "outputs": [],
   "source": [
    "# 1, 0 split (accuracy 45%)\n",
    "# 1, 2 split (accuracy 47%)\n",
    "# 1, 3 split (accuracy 46%)\n",
    "# 1, 4 split (accuracy 36%)\n",
    "# 1, 5 split (accuracy 39%)\n",
    "# 1, 6 split (accuracy 52%) had to run twice \n",
    "# 1, 7 split (accuracy Not Possible %)\n",
    "# 1, 8 split (accuracy  Not possible %)\n",
    "# 1, 9 split (accuracy  37%)"
   ]
  },
  {
   "cell_type": "code",
   "execution_count": null,
   "id": "8f854233",
   "metadata": {},
   "outputs": [],
   "source": []
  }
 ],
 "metadata": {
  "kernelspec": {
   "display_name": "Python 3 (ipykernel)",
   "language": "python",
   "name": "python3"
  },
  "language_info": {
   "codemirror_mode": {
    "name": "ipython",
    "version": 3
   },
   "file_extension": ".py",
   "mimetype": "text/x-python",
   "name": "python",
   "nbconvert_exporter": "python",
   "pygments_lexer": "ipython3",
   "version": "3.7.16"
  }
 },
 "nbformat": 4,
 "nbformat_minor": 5
}
