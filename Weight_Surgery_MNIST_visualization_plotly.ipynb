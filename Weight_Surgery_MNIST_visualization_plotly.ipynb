{
 "cells": [
  {
   "cell_type": "markdown",
   "id": "65791bdc",
   "metadata": {},
   "source": [
    "# MNIST Embeddings"
   ]
  },
  {
   "cell_type": "markdown",
   "id": "a8a44dcf",
   "metadata": {},
   "source": [
    "## Imports and Hyper-parameters "
   ]
  },
  {
   "cell_type": "code",
   "execution_count": 338,
   "id": "9f195be0",
   "metadata": {},
   "outputs": [
    {
     "name": "stdout",
     "output_type": "stream",
     "text": [
      "/home/praveens/Desktop/synthetic_biometrics/visualize_embeddings\n"
     ]
    }
   ],
   "source": [
    "import torch \n",
    "import os \n",
    "import numpy as np \n",
    "from torchvision import transforms \n",
    "from torchvision.datasets import MNIST \n",
    "from torchvision import models \n",
    "\n",
    "print(os.getcwd())\n",
    "root = os.getcwd()\n",
    "\n",
    "from DeepFeatures import DeepFeatures\n",
    "from mnist_net import Net\n",
    "\n",
    "from sklearn.ensemble import IsolationForest\n",
    "import plotly.express as px\n",
    "import pandas as pd"
   ]
  },
  {
   "cell_type": "code",
   "execution_count": 339,
   "id": "fae1b25d",
   "metadata": {},
   "outputs": [],
   "source": [
    "batch_size = 128\n",
    "data_folder = root + '/MNIST'\n",
    "device = 'cpu'\n",
    "model_path = './mnist_net.pth'\n",
    "\n",
    "merge_class1 = 2\n",
    "merge_class2 = 4"
   ]
  },
  {
   "cell_type": "markdown",
   "id": "2e460bd2",
   "metadata": {},
   "source": [
    "## Create Dataloader"
   ]
  },
  {
   "cell_type": "code",
   "execution_count": 340,
   "id": "860de05b",
   "metadata": {},
   "outputs": [],
   "source": [
    "transformations = transforms.Compose([transforms.Resize((221, 221)),\n",
    "                                      transforms.ToTensor(),\n",
    "                                      transforms.Normalize(mean=[0.485], std=[0.229])\n",
    "                                    ])\n",
    "\n",
    "mnist_data = MNIST(root=r'./MNIST',\n",
    "                   download=False, # change to True to download MNIST data\n",
    "                   train=False, \n",
    "                   transform=transformations)\n",
    "\n",
    "data_loader = torch.utils.data.DataLoader(mnist_data,\n",
    "                                          batch_size=batch_size,\n",
    "                                          shuffle=True)"
   ]
  },
  {
   "cell_type": "code",
   "execution_count": 341,
   "id": "74a9d075",
   "metadata": {},
   "outputs": [
    {
     "data": {
      "text/plain": [
       "Dataset MNIST\n",
       "    Number of datapoints: 10000\n",
       "    Root location: ./MNIST\n",
       "    Split: Test\n",
       "    StandardTransform\n",
       "Transform: Compose(\n",
       "               Resize(size=(221, 221), interpolation=bilinear, max_size=None, antialias=None)\n",
       "               ToTensor()\n",
       "               Normalize(mean=[0.485], std=[0.229])\n",
       "           )"
      ]
     },
     "execution_count": 341,
     "metadata": {},
     "output_type": "execute_result"
    }
   ],
   "source": [
    "mnist_data"
   ]
  },
  {
   "cell_type": "code",
   "execution_count": 342,
   "id": "17645ff9",
   "metadata": {},
   "outputs": [],
   "source": [
    "# list(mnist_net.named_parameters())"
   ]
  },
  {
   "cell_type": "markdown",
   "id": "b9e14939",
   "metadata": {},
   "source": [
    "## Initialize Tensorboard Logging Class "
   ]
  },
  {
   "cell_type": "code",
   "execution_count": 343,
   "id": "d275c88e",
   "metadata": {
    "scrolled": true
   },
   "outputs": [
    {
     "data": {
      "text/plain": [
       "Net(\n",
       "  (conv1): Conv2d(1, 8, kernel_size=(2, 2), stride=(1, 1))\n",
       "  (conv2): Conv2d(8, 16, kernel_size=(2, 2), stride=(1, 1))\n",
       "  (conv3): Conv2d(16, 32, kernel_size=(2, 2), stride=(1, 1))\n",
       "  (conv4): Conv2d(32, 64, kernel_size=(2, 2), stride=(1, 1))\n",
       "  (pool): MaxPool2d(kernel_size=2, stride=2, padding=0, dilation=1, ceil_mode=False)\n",
       "  (fc1): Linear(in_features=9216, out_features=128, bias=True)\n",
       "  (fc2): Linear(in_features=128, out_features=64, bias=True)\n",
       "  (fc3): Linear(in_features=64, out_features=3, bias=True)\n",
       "  (fc4): Linear(in_features=3, out_features=3, bias=True)\n",
       "  (fc5): Linear(in_features=3, out_features=10, bias=True)\n",
       ")"
      ]
     },
     "execution_count": 343,
     "metadata": {},
     "output_type": "execute_result"
    }
   ],
   "source": [
    "mnist_net = Net().to(device)\n",
    "mnist_net.load_state_dict(torch.load(model_path, map_location=torch.device(device)))  # load saved model \n",
    "\n",
    "mnist_net.eval()"
   ]
  },
  {
   "cell_type": "code",
   "execution_count": 344,
   "id": "70ae5433",
   "metadata": {},
   "outputs": [],
   "source": [
    "deep_features = DeepFeatures(model=mnist_net)"
   ]
  },
  {
   "cell_type": "code",
   "execution_count": 345,
   "id": "c1c86b24",
   "metadata": {},
   "outputs": [],
   "source": [
    "def filter_by_classes(data_loader, cl1, cl2):\n",
    "    \n",
    "    class1 = torch.tensor(cl1)\n",
    "    class2 = torch.tensor(cl2)\n",
    "    \n",
    "    class1_images = []\n",
    "    class2_images = []\n",
    "    \n",
    "    for images, labels in data_loader: \n",
    "        class1_images.extend(images[labels == class1])\n",
    "        class2_images.extend(images[labels == class2])\n",
    "        \n",
    "    class1_images = torch.stack(class1_images)\n",
    "    class2_images = torch.stack(class2_images)\n",
    "        \n",
    "    return class1_images, class2_images"
   ]
  },
  {
   "cell_type": "code",
   "execution_count": 346,
   "id": "3f9fe549",
   "metadata": {},
   "outputs": [],
   "source": [
    "def find_class_embeddings(deep_features, data_loader, cl1, cl2):\n",
    "    images1, images2 = filter_by_classes(data_loader, cl1, cl2)\n",
    "    \n",
    "    e1 = deep_features.generate_embeddings(images1).clone().detach()\n",
    "    e2 = deep_features.generate_embeddings(images2).clone().detach()\n",
    "    \n",
    "    model_if = IsolationForest(random_state=42)\n",
    "    model_if.fit(e1.numpy())\n",
    "    e1_anomaly = model_if.predict(e1)\n",
    "    \n",
    "    model_if.fit(e2.numpy())\n",
    "    e2_anomaly = model_if.predict(e2)\n",
    "    \n",
    "    # keeping the inliers \n",
    "    e1 = e1[e1_anomaly==1]\n",
    "    print('inliers for ' + str(cl1) + ' : ', e1.shape[0])\n",
    "    e2 = e2[e2_anomaly==1]\n",
    "    print('inliers for ' + str(cl2) + ' : ', e2.shape[0])\n",
    "    \n",
    "    ################## STEP 1: finding centroid of the 2 class embeddings  \n",
    "    class1_mean = torch.mean(e1, dim=0)    # squish multiple rows to get mean \n",
    "    class2_mean = torch.mean(e2, dim=0)\n",
    "\n",
    "    class1_normed = class1_mean/torch.norm(class1_mean)\n",
    "    class2_normed = class2_mean/torch.norm(class2_mean)\n",
    "    \n",
    "    print('val of centroid of class ' + str(cl1) + ' : ', class1_normed)\n",
    "    print('val of centroid of class ' + str(cl2)  + ' : ', class2_normed)\n",
    "    print('cosine similarity : ', (torch.dot(class1_normed, class2_normed)/torch.linalg.norm(class1_normed)*torch.linalg.norm(class2_normed)))\n",
    "    \n",
    "    return class1_normed, class2_normed"
   ]
  },
  {
   "cell_type": "code",
   "execution_count": 347,
   "id": "262262cf",
   "metadata": {
    "scrolled": true
   },
   "outputs": [
    {
     "name": "stdout",
     "output_type": "stream",
     "text": [
      "inliers for 2 :  890\n",
      "inliers for 4 :  847\n",
      "val of centroid of class 2 :  tensor([0.9771, 0.1258, 0.1719])\n",
      "val of centroid of class 4 :  tensor([-0.4181, -0.5494,  0.7234])\n",
      "cosine similarity :  tensor(-0.3532)\n"
     ]
    }
   ],
   "source": [
    "x1, x2 = find_class_embeddings(deep_features, \n",
    "                               data_loader, \n",
    "                               merge_class1, \n",
    "                               merge_class2)"
   ]
  },
  {
   "cell_type": "code",
   "execution_count": 348,
   "id": "eb9a9adf",
   "metadata": {},
   "outputs": [],
   "source": [
    "################## Step 3: calculate change of basis matrix\n",
    "def change_of_basis(wm, d):\n",
    "    ################## The first basis is d, how do we get the other 2 ?    \n",
    "\n",
    "    new_wm = torch.eye(wm.shape[0])\n",
    "    \n",
    "    # replace first column of identity matrix with d \n",
    "    new_wm[:, 0] = d\n",
    "    \n",
    "    print('new weight matrix : ', new_wm)\n",
    "\n",
    "    return new_wm"
   ]
  },
  {
   "cell_type": "code",
   "execution_count": 349,
   "id": "5b80f3e1",
   "metadata": {},
   "outputs": [],
   "source": [
    "def perform_weight_surgery(mnist_net, x1, x2, save_model=True):\n",
    "    \n",
    "    ################## Step 2: calculating difference vector of the 2 classes \n",
    "    # calculate the difference between the 2 class vectors \n",
    "    d = x1 - x2  \n",
    "    print('d : ', d)\n",
    "#     d = d/torch.norm(d)\n",
    "    print('normed d : ', d)\n",
    "    weight_matrix = mnist_net.fc4.weight.clone().detach()  # weight matrix of the penultimate layer \n",
    "    print('weight matrix : \\n', weight_matrix)\n",
    "    \n",
    "    ################## Step 3: calculate change of basis matrix \n",
    "    # perform a change of basis, to put d as the first basis \n",
    "    new_wm = change_of_basis(weight_matrix, d)\n",
    "    \n",
    "    # gram schmidt to calculate orthogonal basis vectors \n",
    "    def gram_schmidt(weight_matrix):\n",
    "        ################## d is first basis vector\n",
    "        new_basis_vectors = [weight_matrix[:, 0]]\n",
    "        m, n = weight_matrix.shape\n",
    "\n",
    "        for i in range(1, n):\n",
    "\n",
    "            a_i = weight_matrix[:, i].clone()\n",
    "            q_i = 0\n",
    "\n",
    "            for j, q_j in enumerate(new_basis_vectors):\n",
    "                q_i -= (torch.dot(q_j, a_i) * q_j)\n",
    "            \n",
    "            q_i += a_i\n",
    "            q_i = q_i / torch.norm(q_i)\n",
    "            \n",
    "            new_basis_vectors.append(q_i)\n",
    "            \n",
    "        return new_basis_vectors\n",
    "    \n",
    "    ################## Step 4: using Gram-Schmidt to get orthogonal basis vectors \n",
    "#     new_basis_vectors = gram_schmidt(new_wm)    # \n",
    "    \n",
    "#     U = [nbv.reshape(-1, 1) for nbv in new_basis_vectors]\n",
    "#     U = torch.cat(U, axis=1)\n",
    "    \n",
    "    U, _ = torch.qr(new_wm)\n",
    "    print('U matrix: ', U)\n",
    "    print('result of U * U_transpose : ', torch.mm(U, U.T))\n",
    "#     print('result of U * U_inv : ', U @ torch.inverse(U))\n",
    "#     print('QR decomp :\\n', Q)\n",
    "    \n",
    "    S = torch.eye(U.shape[0])\n",
    "    S[0, 0] = 1e-5\n",
    "#     S[0, 0] = 0.\n",
    "#     print('matrix S :\\n', S)\n",
    "    \n",
    "    # projection matrix \n",
    "    P_d = torch.mm(torch.mm(U, S), U.T)\n",
    "\n",
    "    print('projection matrix : ', P_d)\n",
    "    \n",
    "    modified_weight_matrix = torch.mm(P_d, weight_matrix)\n",
    "    \n",
    "    print('modified weight matrix :\\n', modified_weight_matrix)\n",
    "    \n",
    "    print('rank of the modified weights matrix : ', torch.linalg.matrix_rank(modified_weight_matrix))\n",
    "    \n",
    "    mnist_net.fc4.weight = torch.nn.Parameter(modified_weight_matrix)\n",
    "    \n",
    "    if save_model: \n",
    "        path = './modified_mnist_net.pth'\n",
    "        torch.save(mnist_net.state_dict(), path)"
   ]
  },
  {
   "cell_type": "code",
   "execution_count": 350,
   "id": "346069de",
   "metadata": {
    "scrolled": false
   },
   "outputs": [
    {
     "name": "stdout",
     "output_type": "stream",
     "text": [
      "d :  tensor([ 1.3951,  0.6752, -0.5515])\n",
      "normed d :  tensor([ 1.3951,  0.6752, -0.5515])\n",
      "weight matrix : \n",
      " tensor([[ 0.4307, -0.1483,  0.8380],\n",
      "        [ 0.0444, -1.0082,  0.3290],\n",
      "        [ 1.0885, -0.1497, -0.8214]])\n",
      "new weight matrix :  tensor([[ 1.3951,  0.0000,  0.0000],\n",
      "        [ 0.6752,  1.0000,  0.0000],\n",
      "        [-0.5515,  0.0000,  1.0000]])\n",
      "U matrix:  tensor([[-8.4802e-01,  3.8169e-01,  3.6765e-01],\n",
      "        [-4.1044e-01, -9.1189e-01,  6.7842e-09],\n",
      "        [ 3.3526e-01, -1.5090e-01,  9.2996e-01]])\n",
      "result of U * U_transpose :  tensor([[ 1.0000e+00, -8.6913e-08,  8.8007e-08],\n",
      "        [-8.6913e-08,  1.0000e+00,  2.1210e-08],\n",
      "        [ 8.8007e-08,  2.1210e-08,  1.0000e+00]])\n",
      "projection matrix :  tensor([[ 0.2809, -0.3481,  0.2843],\n",
      "        [-0.3481,  0.8315,  0.1376],\n",
      "        [ 0.2843,  0.1376,  0.8876]])\n",
      "modified weight matrix :\n",
      " tensor([[ 0.4150,  0.2667, -0.1127],\n",
      "        [ 0.0368, -0.8074, -0.1311],\n",
      "        [ 1.0948, -0.3137, -0.4456]])\n",
      "rank of the modified weights matrix :  tensor(3)\n"
     ]
    }
   ],
   "source": [
    "perform_weight_surgery(mnist_net, x1, x2, save_model=True)"
   ]
  },
  {
   "cell_type": "code",
   "execution_count": 351,
   "id": "3754c031",
   "metadata": {},
   "outputs": [],
   "source": [
    "original_mnist_net = Net().to(device)\n",
    "original_mnist_net.load_state_dict(torch.load('./mnist_net.pth', map_location=torch.device(device)))  # load saved model \n",
    "\n",
    "original_mnist_net.eval()\n",
    "\n",
    "original_deep_features = DeepFeatures(model=original_mnist_net)"
   ]
  },
  {
   "cell_type": "code",
   "execution_count": 216,
   "id": "59c38717",
   "metadata": {
    "scrolled": true
   },
   "outputs": [
    {
     "name": "stdout",
     "output_type": "stream",
     "text": [
      "inliers for 2 :  899\n",
      "inliers for 4 :  854\n",
      "val of centroid of class 2 :  tensor([0.9772, 0.1251, 0.1716])\n",
      "val of centroid of class 4 :  tensor([-0.4172, -0.5502,  0.7233])\n",
      "cosine similarity :  tensor(-0.3525)\n"
     ]
    }
   ],
   "source": [
    "_, _ = find_class_embeddings(original_deep_features, data_loader, merge_class1, merge_class2)"
   ]
  },
  {
   "cell_type": "code",
   "execution_count": 352,
   "id": "3e35df1e",
   "metadata": {},
   "outputs": [
    {
     "name": "stdout",
     "output_type": "stream",
     "text": [
      "inliers for 2 :  879\n",
      "inliers for 4 :  862\n",
      "val of centroid of class 2 :  tensor([ 0.2439, -0.4704,  0.8481])\n",
      "val of centroid of class 4 :  tensor([-0.0767, -0.5391,  0.8388])\n",
      "cosine similarity :  tensor(0.9462)\n"
     ]
    }
   ],
   "source": [
    "_, _ = find_class_embeddings(deep_features, data_loader, merge_class1, merge_class2)"
   ]
  },
  {
   "cell_type": "markdown",
   "id": "25a3132c",
   "metadata": {},
   "source": [
    "## View Unmodified Embeddings through Plotly"
   ]
  },
  {
   "cell_type": "code",
   "execution_count": 353,
   "id": "12c2250a",
   "metadata": {},
   "outputs": [],
   "source": [
    "def remove_outliers(embeds, labels):\n",
    "    unique_labels = set(labels.numpy())\n",
    "    \n",
    "    model_if = IsolationForest(random_state=42)\n",
    "    \n",
    "    new_embeds, new_labels = [], []\n",
    "    \n",
    "    for label_x in unique_labels:\n",
    "        embed_x = embeds[labels==label_x]\n",
    "        \n",
    "        model_if.fit(embed_x)\n",
    "        embedx_anomaly = model_if.predict(embed_x)\n",
    "        \n",
    "        embed_x = embed_x[embedx_anomaly == 1]   # keeping inliers \n",
    "        labels_x = [label_x] * embed_x.shape[0]\n",
    "        \n",
    "        new_embeds.extend(embed_x)\n",
    "        new_labels.extend(labels_x)\n",
    "        \n",
    "    return np.stack(new_embeds), np.stack(new_labels)"
   ]
  },
  {
   "cell_type": "code",
   "execution_count": 354,
   "id": "fe72310f",
   "metadata": {},
   "outputs": [],
   "source": [
    "batch_images, batch_labels = next(iter(data_loader))\n",
    "\n",
    "embeds = original_deep_features.generate_embeddings(batch_images.to(device), normalize=True)\n",
    "embeds = embeds.detach().numpy()\n",
    "\n",
    "# new_embeds, new_labels = remove_outliers(embeds, batch_labels)"
   ]
  },
  {
   "cell_type": "code",
   "execution_count": 355,
   "id": "179b2ce4",
   "metadata": {},
   "outputs": [
    {
     "data": {
      "application/vnd.plotly.v1+json": {
       "config": {
        "plotlyServerURL": "https://plot.ly"
       },
       "data": [
        {
         "hovertemplate": "x=%{x}<br>y=%{y}<br>z=%{z}<br>label=%{marker.color}<extra></extra>",
         "legendgroup": "",
         "marker": {
          "color": [
           0,
           6,
           1,
           1,
           8,
           8,
           0,
           0,
           4,
           4,
           8,
           0,
           6,
           7,
           0,
           6,
           3,
           8,
           2,
           6,
           4,
           8,
           0,
           9,
           6,
           3,
           7,
           2,
           4,
           3,
           6,
           8,
           8,
           4,
           7,
           8,
           7,
           4,
           0,
           8,
           7,
           4,
           9,
           4,
           7,
           6,
           8,
           8,
           6,
           5,
           0,
           6,
           7,
           6,
           7,
           5,
           1,
           4,
           1,
           1,
           9,
           3,
           7,
           2,
           7,
           7,
           5,
           2,
           3,
           4,
           7,
           9,
           0,
           8,
           1,
           1,
           2,
           8,
           3,
           8,
           3,
           1,
           9,
           6,
           1,
           6,
           1,
           0,
           6,
           4,
           6,
           4,
           7,
           6,
           4,
           5,
           5,
           6,
           9,
           9,
           0,
           5,
           9,
           5,
           4,
           4,
           3,
           8,
           4,
           5,
           8,
           7,
           3,
           0,
           3,
           2,
           2,
           3,
           5,
           2,
           0,
           2,
           2,
           3,
           7,
           5,
           1,
           1
          ],
          "coloraxis": "coloraxis",
          "size": 5,
          "symbol": "circle"
         },
         "mode": "markers+text",
         "name": "",
         "scene": "scene",
         "showlegend": false,
         "text": [
          0,
          6,
          1,
          1,
          8,
          8,
          0,
          0,
          4,
          4,
          8,
          0,
          6,
          7,
          0,
          6,
          3,
          8,
          2,
          6,
          4,
          8,
          0,
          9,
          6,
          3,
          7,
          2,
          4,
          3,
          6,
          8,
          8,
          4,
          7,
          8,
          7,
          4,
          0,
          8,
          7,
          4,
          9,
          4,
          7,
          6,
          8,
          8,
          6,
          5,
          0,
          6,
          7,
          6,
          7,
          5,
          1,
          4,
          1,
          1,
          9,
          3,
          7,
          2,
          7,
          7,
          5,
          2,
          3,
          4,
          7,
          9,
          0,
          8,
          1,
          1,
          2,
          8,
          3,
          8,
          3,
          1,
          9,
          6,
          1,
          6,
          1,
          0,
          6,
          4,
          6,
          4,
          7,
          6,
          4,
          5,
          5,
          6,
          9,
          9,
          0,
          5,
          9,
          5,
          4,
          4,
          3,
          8,
          4,
          5,
          8,
          7,
          3,
          0,
          3,
          2,
          2,
          3,
          5,
          2,
          0,
          2,
          2,
          3,
          7,
          5,
          1,
          1
         ],
         "type": "scatter3d",
         "x": [
          -0.26069021224975586,
          -0.3925444185733795,
          -0.9482042193412781,
          -0.9415366649627686,
          -0.9067177772521973,
          0.397906094789505,
          -0.2784741222858429,
          -0.26484107971191406,
          -0.39644885063171387,
          -0.5339804291725159,
          0.08111567795276642,
          -0.3065145015716553,
          -0.13153089582920074,
          0.5964279174804688,
          -0.2630269229412079,
          -0.2450704723596573,
          0.6046475768089294,
          0.2665204703807831,
          0.9827620983123779,
          -0.18364763259887695,
          -0.35579630732536316,
          0.14891523122787476,
          -0.24859993159770966,
          0.26405811309814453,
          -0.1796625405550003,
          0.6882703304290771,
          0.6033029556274414,
          0.9822368025779724,
          -0.41324231028556824,
          0.5755003094673157,
          -0.2227138876914978,
          0.035172246396541595,
          0.6172338128089905,
          -0.4190741777420044,
          0.5340341925621033,
          0.10288553684949875,
          0.5252319574356079,
          -0.39849159121513367,
          -0.2696395516395569,
          0.07814689725637436,
          0.6082919836044312,
          -0.3795718550682068,
          0.2935451567173004,
          -0.5212740898132324,
          0.578684389591217,
          -0.15037833154201508,
          -0.6107831001281738,
          0.0759948119521141,
          -0.18914151191711426,
          -0.6394661068916321,
          -0.2492295801639557,
          -0.14574486017227173,
          0.6506147980690002,
          -0.16573098301887512,
          0.620635986328125,
          -0.6598759293556213,
          -0.9405351281166077,
          -0.377519428730011,
          -0.9485528469085693,
          -0.9470062851905823,
          0.32194405794143677,
          0.6252813339233398,
          0.5963419079780579,
          0.9351084232330322,
          0.588667094707489,
          0.5537908673286438,
          -0.680513858795166,
          0.975322425365448,
          0.5935406684875488,
          -0.46823763847351074,
          0.5985589623451233,
          0.3194013237953186,
          -0.267634779214859,
          0.788279116153717,
          -0.940984845161438,
          -0.9487913250923157,
          0.9743523001670837,
          0.05362401157617569,
          0.6161116361618042,
          0.058756954967975616,
          0.6334589123725891,
          -0.9450849890708923,
          0.28343069553375244,
          -0.1611701101064682,
          -0.940811812877655,
          -0.1579364836215973,
          -0.9842904806137085,
          -0.2575437128543854,
          -0.3126150369644165,
          -0.37864288687705994,
          -0.08014460653066635,
          -0.388217568397522,
          0.5678057074546814,
          -0.10817922651767731,
          -0.3453390598297119,
          -0.7138023972511292,
          -0.6746635437011719,
          -0.13410694897174835,
          0.28962433338165283,
          0.2724417746067047,
          -0.1894843578338623,
          -0.7310547232627869,
          0.31607362627983093,
          -0.7215688824653625,
          -0.380090594291687,
          -0.4821256399154663,
          0.5822633504867554,
          0.022673919796943665,
          -0.3709457516670227,
          -0.6836230754852295,
          0.10690554231405258,
          0.7396442890167236,
          0.6313895583152771,
          -0.26280421018600464,
          0.5891798138618469,
          0.9726083278656006,
          0.9937406182289124,
          0.6034750938415527,
          -0.723641037940979,
          0.9748764634132385,
          -0.2677285075187683,
          0.9738720655441284,
          0.9749534130096436,
          0.6314534544944763,
          0.559351921081543,
          -0.7479095458984375,
          -0.9451742768287659,
          -0.9406391978263855
         ],
         "y": [
          -0.9186121225357056,
          -0.08978878706693649,
          -0.06196632608771324,
          -0.1190362200140953,
          0.37520667910575867,
          0.6873406767845154,
          -0.9151128530502319,
          -0.9249423146247864,
          -0.5460814833641052,
          -0.49678799510002136,
          0.9896873235702515,
          -0.8883922100067139,
          -0.17192457616329193,
          -0.7814505100250244,
          -0.9188486337661743,
          -0.09599155932664871,
          0.24333538115024567,
          0.9623304605484009,
          0.09506583213806152,
          -0.12593576312065125,
          -0.5850093364715576,
          0.9737544655799866,
          -0.9271026253700256,
          0.20417554676532745,
          -0.13046303391456604,
          0.1853724718093872,
          -0.7599092125892639,
          0.13618841767311096,
          -0.5348144769668579,
          0.38415607810020447,
          -0.051811981946229935,
          0.9825876355171204,
          -0.1493060439825058,
          -0.5587756633758545,
          -0.7978953719139099,
          0.9868730306625366,
          -0.816367506980896,
          -0.5532701015472412,
          -0.9233562350273132,
          0.9876450896263123,
          -0.7548486590385437,
          -0.5727095603942871,
          0.2685926854610443,
          -0.5190946459770203,
          -0.773471474647522,
          -0.19719426333904266,
          0.7901213765144348,
          0.9835444092750549,
          -0.17737556993961334,
          0.5176293253898621,
          -0.9157970547676086,
          -0.1657736897468567,
          -0.730221152305603,
          -0.1155247911810875,
          -0.6221678853034973,
          0.5218576192855835,
          -0.1258034110069275,
          -0.5638492703437805,
          -0.05797046795487404,
          -0.07454799860715866,
          0.24092157185077667,
          0.3490193784236908,
          -0.7725299000740051,
          -0.12209433317184448,
          -0.7708780765533447,
          -0.7952213287353516,
          0.525628387928009,
          0.13155092298984528,
          0.3340388834476471,
          -0.5322107076644897,
          -0.7761968970298767,
          0.21138407289981842,
          -0.9284436702728271,
          0.57623291015625,
          -0.23362521827220917,
          -0.05512799322605133,
          0.16280494630336761,
          0.98967045545578,
          0.3319232165813446,
          0.9886173605918884,
          0.38156720995903015,
          -0.09204626083374023,
          0.21879425644874573,
          -0.18275605142116547,
          -0.12396423518657684,
          -0.15843798220157623,
          0.1558716744184494,
          -0.9311907887458801,
          -0.290408730506897,
          -0.5636444687843323,
          -0.2271299660205841,
          -0.5645652413368225,
          -0.7972041964530945,
          -0.17313160002231598,
          -0.5846360921859741,
          0.5304521322250366,
          0.5246148109436035,
          -0.20526814460754395,
          0.2645128667354584,
          0.26736146211624146,
          -0.9449616074562073,
          0.5322219729423523,
          0.1989406943321228,
          0.5313177108764648,
          -0.5699095129966736,
          -0.52168869972229,
          0.3621954917907715,
          0.9867852330207825,
          -0.5790432691574097,
          0.5261483192443848,
          0.9813809394836426,
          -0.6485828161239624,
          0.338705837726593,
          -0.9181517958641052,
          0.3942127525806427,
          0.11561398953199387,
          0.10263041406869888,
          0.37684962153434753,
          0.5315300226211548,
          0.20441699028015137,
          -0.9236259460449219,
          0.14317379891872406,
          0.13994406163692474,
          0.37249863147735596,
          -0.7977863550186157,
          0.5333669185638428,
          -0.09128954261541367,
          -0.1251150667667389
         ],
         "z": [
          -0.29697221517562866,
          -0.9153397083282471,
          -0.3115585446357727,
          -0.3151808977127075,
          -0.19256903231143951,
          0.6076459288597107,
          -0.29158300161361694,
          -0.27265527844429016,
          0.7379859089851379,
          0.6841539144515991,
          -0.11806440353393555,
          -0.34177201986312866,
          -0.9762896299362183,
          0.18332691490650177,
          -0.29416659474372864,
          -0.9647414684295654,
          -0.75841224193573,
          -0.0537300631403923,
          0.15855948626995087,
          -0.9748916625976562,
          0.7288161516189575,
          -0.17212341725826263,
          -0.28049737215042114,
          0.9426482319831848,
          -0.9750388860702515,
          -0.7013708353042603,
          0.2419990748167038,
          0.12908746302127838,
          0.7370240092277527,
          -0.7219580411911011,
          -0.9735060930252075,
          -0.1824401468038559,
          0.7724831700325012,
          0.7156441807746887,
          0.27958986163139343,
          -0.12448395788669586,
          0.24015723168849945,
          0.7315030097961426,
          -0.27332720160484314,
          -0.13583137094974518,
          0.2453252375125885,
          0.7265872359275818,
          0.9174361824989319,
          0.6773581504821777,
          0.25858497619628906,
          -0.9687624573707581,
          -0.05150003358721733,
          -0.16390585899353027,
          -0.9657967686653137,
          0.5684567093849182,
          -0.31496095657348633,
          -0.9753345847129822,
          0.20851242542266846,
          -0.9793810248374939,
          0.4771983027458191,
          0.5405815243721008,
          -0.3155425190925598,
          0.7345427870750427,
          -0.31126686930656433,
          -0.3124447166919708,
          0.9155920743942261,
          -0.6980034112930298,
          0.2181142121553421,
          0.33266374468803406,
          0.24334755539894104,
          0.24685774743556976,
          0.5105052590370178,
          0.1773146390914917,
          -0.7322072982788086,
          0.7053405046463013,
          0.19810505211353302,
          0.9237421751022339,
          -0.2576121985912323,
          0.21580466628074646,
          -0.24488107860088348,
          -0.31105631589889526,
          0.15534545481204987,
          -0.13295459747314453,
          -0.7143062949180603,
          -0.13850395381450653,
          -0.6731539368629456,
          -0.3135949969291687,
          0.9337002038955688,
          -0.969857931137085,
          -0.3154456615447998,
          -0.9746555089950562,
          0.08292265981435776,
          -0.25798264145851135,
          -0.9043973684310913,
          0.7341215014457703,
          -0.9705610275268555,
          0.7283908128738403,
          0.2050907015800476,
          -0.9789395928382874,
          0.7341264486312866,
          0.45728176832199097,
          0.5192383527755737,
          -0.9694742560386658,
          0.9198644161224365,
          0.9242798686027527,
          -0.2667267918586731,
          0.42696475982666016,
          0.9276422262191772,
          0.44389164447784424,
          0.7285151481628418,
          0.7038435935974121,
          -0.7278624773025513,
          -0.16043925285339355,
          0.7260221242904663,
          0.5057939291000366,
          -0.1595700979232788,
          0.1796294003725052,
          -0.6975854635238647,
          -0.2965319752693176,
          -0.7053108811378479,
          0.20165948569774628,
          -0.04412046819925308,
          -0.7027106285095215,
          0.44024935364723206,
          0.08848516643047333,
          -0.27429279685020447,
          0.1762792319059372,
          0.17286278307437897,
          -0.6800817847251892,
          0.2250831574201584,
          0.3951595425605774,
          -0.3135472536087036,
          -0.3155064284801483
         ]
        }
       ],
       "layout": {
        "coloraxis": {
         "colorbar": {
          "title": {
           "text": "label"
          }
         },
         "colorscale": [
          [
           0,
           "#0d0887"
          ],
          [
           0.1111111111111111,
           "#46039f"
          ],
          [
           0.2222222222222222,
           "#7201a8"
          ],
          [
           0.3333333333333333,
           "#9c179e"
          ],
          [
           0.4444444444444444,
           "#bd3786"
          ],
          [
           0.5555555555555556,
           "#d8576b"
          ],
          [
           0.6666666666666666,
           "#ed7953"
          ],
          [
           0.7777777777777778,
           "#fb9f3a"
          ],
          [
           0.8888888888888888,
           "#fdca26"
          ],
          [
           1,
           "#f0f921"
          ]
         ]
        },
        "legend": {
         "tracegroupgap": 0
        },
        "margin": {
         "t": 60
        },
        "scene": {
         "domain": {
          "x": [
           0,
           1
          ],
          "y": [
           0,
           1
          ]
         },
         "xaxis": {
          "title": {
           "text": "x"
          }
         },
         "yaxis": {
          "title": {
           "text": "y"
          }
         },
         "zaxis": {
          "title": {
           "text": "z"
          }
         }
        },
        "template": {
         "data": {
          "bar": [
           {
            "error_x": {
             "color": "#2a3f5f"
            },
            "error_y": {
             "color": "#2a3f5f"
            },
            "marker": {
             "line": {
              "color": "#E5ECF6",
              "width": 0.5
             },
             "pattern": {
              "fillmode": "overlay",
              "size": 10,
              "solidity": 0.2
             }
            },
            "type": "bar"
           }
          ],
          "barpolar": [
           {
            "marker": {
             "line": {
              "color": "#E5ECF6",
              "width": 0.5
             },
             "pattern": {
              "fillmode": "overlay",
              "size": 10,
              "solidity": 0.2
             }
            },
            "type": "barpolar"
           }
          ],
          "carpet": [
           {
            "aaxis": {
             "endlinecolor": "#2a3f5f",
             "gridcolor": "white",
             "linecolor": "white",
             "minorgridcolor": "white",
             "startlinecolor": "#2a3f5f"
            },
            "baxis": {
             "endlinecolor": "#2a3f5f",
             "gridcolor": "white",
             "linecolor": "white",
             "minorgridcolor": "white",
             "startlinecolor": "#2a3f5f"
            },
            "type": "carpet"
           }
          ],
          "choropleth": [
           {
            "colorbar": {
             "outlinewidth": 0,
             "ticks": ""
            },
            "type": "choropleth"
           }
          ],
          "contour": [
           {
            "colorbar": {
             "outlinewidth": 0,
             "ticks": ""
            },
            "colorscale": [
             [
              0,
              "#0d0887"
             ],
             [
              0.1111111111111111,
              "#46039f"
             ],
             [
              0.2222222222222222,
              "#7201a8"
             ],
             [
              0.3333333333333333,
              "#9c179e"
             ],
             [
              0.4444444444444444,
              "#bd3786"
             ],
             [
              0.5555555555555556,
              "#d8576b"
             ],
             [
              0.6666666666666666,
              "#ed7953"
             ],
             [
              0.7777777777777778,
              "#fb9f3a"
             ],
             [
              0.8888888888888888,
              "#fdca26"
             ],
             [
              1,
              "#f0f921"
             ]
            ],
            "type": "contour"
           }
          ],
          "contourcarpet": [
           {
            "colorbar": {
             "outlinewidth": 0,
             "ticks": ""
            },
            "type": "contourcarpet"
           }
          ],
          "heatmap": [
           {
            "colorbar": {
             "outlinewidth": 0,
             "ticks": ""
            },
            "colorscale": [
             [
              0,
              "#0d0887"
             ],
             [
              0.1111111111111111,
              "#46039f"
             ],
             [
              0.2222222222222222,
              "#7201a8"
             ],
             [
              0.3333333333333333,
              "#9c179e"
             ],
             [
              0.4444444444444444,
              "#bd3786"
             ],
             [
              0.5555555555555556,
              "#d8576b"
             ],
             [
              0.6666666666666666,
              "#ed7953"
             ],
             [
              0.7777777777777778,
              "#fb9f3a"
             ],
             [
              0.8888888888888888,
              "#fdca26"
             ],
             [
              1,
              "#f0f921"
             ]
            ],
            "type": "heatmap"
           }
          ],
          "heatmapgl": [
           {
            "colorbar": {
             "outlinewidth": 0,
             "ticks": ""
            },
            "colorscale": [
             [
              0,
              "#0d0887"
             ],
             [
              0.1111111111111111,
              "#46039f"
             ],
             [
              0.2222222222222222,
              "#7201a8"
             ],
             [
              0.3333333333333333,
              "#9c179e"
             ],
             [
              0.4444444444444444,
              "#bd3786"
             ],
             [
              0.5555555555555556,
              "#d8576b"
             ],
             [
              0.6666666666666666,
              "#ed7953"
             ],
             [
              0.7777777777777778,
              "#fb9f3a"
             ],
             [
              0.8888888888888888,
              "#fdca26"
             ],
             [
              1,
              "#f0f921"
             ]
            ],
            "type": "heatmapgl"
           }
          ],
          "histogram": [
           {
            "marker": {
             "pattern": {
              "fillmode": "overlay",
              "size": 10,
              "solidity": 0.2
             }
            },
            "type": "histogram"
           }
          ],
          "histogram2d": [
           {
            "colorbar": {
             "outlinewidth": 0,
             "ticks": ""
            },
            "colorscale": [
             [
              0,
              "#0d0887"
             ],
             [
              0.1111111111111111,
              "#46039f"
             ],
             [
              0.2222222222222222,
              "#7201a8"
             ],
             [
              0.3333333333333333,
              "#9c179e"
             ],
             [
              0.4444444444444444,
              "#bd3786"
             ],
             [
              0.5555555555555556,
              "#d8576b"
             ],
             [
              0.6666666666666666,
              "#ed7953"
             ],
             [
              0.7777777777777778,
              "#fb9f3a"
             ],
             [
              0.8888888888888888,
              "#fdca26"
             ],
             [
              1,
              "#f0f921"
             ]
            ],
            "type": "histogram2d"
           }
          ],
          "histogram2dcontour": [
           {
            "colorbar": {
             "outlinewidth": 0,
             "ticks": ""
            },
            "colorscale": [
             [
              0,
              "#0d0887"
             ],
             [
              0.1111111111111111,
              "#46039f"
             ],
             [
              0.2222222222222222,
              "#7201a8"
             ],
             [
              0.3333333333333333,
              "#9c179e"
             ],
             [
              0.4444444444444444,
              "#bd3786"
             ],
             [
              0.5555555555555556,
              "#d8576b"
             ],
             [
              0.6666666666666666,
              "#ed7953"
             ],
             [
              0.7777777777777778,
              "#fb9f3a"
             ],
             [
              0.8888888888888888,
              "#fdca26"
             ],
             [
              1,
              "#f0f921"
             ]
            ],
            "type": "histogram2dcontour"
           }
          ],
          "mesh3d": [
           {
            "colorbar": {
             "outlinewidth": 0,
             "ticks": ""
            },
            "type": "mesh3d"
           }
          ],
          "parcoords": [
           {
            "line": {
             "colorbar": {
              "outlinewidth": 0,
              "ticks": ""
             }
            },
            "type": "parcoords"
           }
          ],
          "pie": [
           {
            "automargin": true,
            "type": "pie"
           }
          ],
          "scatter": [
           {
            "fillpattern": {
             "fillmode": "overlay",
             "size": 10,
             "solidity": 0.2
            },
            "type": "scatter"
           }
          ],
          "scatter3d": [
           {
            "line": {
             "colorbar": {
              "outlinewidth": 0,
              "ticks": ""
             }
            },
            "marker": {
             "colorbar": {
              "outlinewidth": 0,
              "ticks": ""
             }
            },
            "type": "scatter3d"
           }
          ],
          "scattercarpet": [
           {
            "marker": {
             "colorbar": {
              "outlinewidth": 0,
              "ticks": ""
             }
            },
            "type": "scattercarpet"
           }
          ],
          "scattergeo": [
           {
            "marker": {
             "colorbar": {
              "outlinewidth": 0,
              "ticks": ""
             }
            },
            "type": "scattergeo"
           }
          ],
          "scattergl": [
           {
            "marker": {
             "colorbar": {
              "outlinewidth": 0,
              "ticks": ""
             }
            },
            "type": "scattergl"
           }
          ],
          "scattermapbox": [
           {
            "marker": {
             "colorbar": {
              "outlinewidth": 0,
              "ticks": ""
             }
            },
            "type": "scattermapbox"
           }
          ],
          "scatterpolar": [
           {
            "marker": {
             "colorbar": {
              "outlinewidth": 0,
              "ticks": ""
             }
            },
            "type": "scatterpolar"
           }
          ],
          "scatterpolargl": [
           {
            "marker": {
             "colorbar": {
              "outlinewidth": 0,
              "ticks": ""
             }
            },
            "type": "scatterpolargl"
           }
          ],
          "scatterternary": [
           {
            "marker": {
             "colorbar": {
              "outlinewidth": 0,
              "ticks": ""
             }
            },
            "type": "scatterternary"
           }
          ],
          "surface": [
           {
            "colorbar": {
             "outlinewidth": 0,
             "ticks": ""
            },
            "colorscale": [
             [
              0,
              "#0d0887"
             ],
             [
              0.1111111111111111,
              "#46039f"
             ],
             [
              0.2222222222222222,
              "#7201a8"
             ],
             [
              0.3333333333333333,
              "#9c179e"
             ],
             [
              0.4444444444444444,
              "#bd3786"
             ],
             [
              0.5555555555555556,
              "#d8576b"
             ],
             [
              0.6666666666666666,
              "#ed7953"
             ],
             [
              0.7777777777777778,
              "#fb9f3a"
             ],
             [
              0.8888888888888888,
              "#fdca26"
             ],
             [
              1,
              "#f0f921"
             ]
            ],
            "type": "surface"
           }
          ],
          "table": [
           {
            "cells": {
             "fill": {
              "color": "#EBF0F8"
             },
             "line": {
              "color": "white"
             }
            },
            "header": {
             "fill": {
              "color": "#C8D4E3"
             },
             "line": {
              "color": "white"
             }
            },
            "type": "table"
           }
          ]
         },
         "layout": {
          "annotationdefaults": {
           "arrowcolor": "#2a3f5f",
           "arrowhead": 0,
           "arrowwidth": 1
          },
          "autotypenumbers": "strict",
          "coloraxis": {
           "colorbar": {
            "outlinewidth": 0,
            "ticks": ""
           }
          },
          "colorscale": {
           "diverging": [
            [
             0,
             "#8e0152"
            ],
            [
             0.1,
             "#c51b7d"
            ],
            [
             0.2,
             "#de77ae"
            ],
            [
             0.3,
             "#f1b6da"
            ],
            [
             0.4,
             "#fde0ef"
            ],
            [
             0.5,
             "#f7f7f7"
            ],
            [
             0.6,
             "#e6f5d0"
            ],
            [
             0.7,
             "#b8e186"
            ],
            [
             0.8,
             "#7fbc41"
            ],
            [
             0.9,
             "#4d9221"
            ],
            [
             1,
             "#276419"
            ]
           ],
           "sequential": [
            [
             0,
             "#0d0887"
            ],
            [
             0.1111111111111111,
             "#46039f"
            ],
            [
             0.2222222222222222,
             "#7201a8"
            ],
            [
             0.3333333333333333,
             "#9c179e"
            ],
            [
             0.4444444444444444,
             "#bd3786"
            ],
            [
             0.5555555555555556,
             "#d8576b"
            ],
            [
             0.6666666666666666,
             "#ed7953"
            ],
            [
             0.7777777777777778,
             "#fb9f3a"
            ],
            [
             0.8888888888888888,
             "#fdca26"
            ],
            [
             1,
             "#f0f921"
            ]
           ],
           "sequentialminus": [
            [
             0,
             "#0d0887"
            ],
            [
             0.1111111111111111,
             "#46039f"
            ],
            [
             0.2222222222222222,
             "#7201a8"
            ],
            [
             0.3333333333333333,
             "#9c179e"
            ],
            [
             0.4444444444444444,
             "#bd3786"
            ],
            [
             0.5555555555555556,
             "#d8576b"
            ],
            [
             0.6666666666666666,
             "#ed7953"
            ],
            [
             0.7777777777777778,
             "#fb9f3a"
            ],
            [
             0.8888888888888888,
             "#fdca26"
            ],
            [
             1,
             "#f0f921"
            ]
           ]
          },
          "colorway": [
           "#636efa",
           "#EF553B",
           "#00cc96",
           "#ab63fa",
           "#FFA15A",
           "#19d3f3",
           "#FF6692",
           "#B6E880",
           "#FF97FF",
           "#FECB52"
          ],
          "font": {
           "color": "#2a3f5f"
          },
          "geo": {
           "bgcolor": "white",
           "lakecolor": "white",
           "landcolor": "#E5ECF6",
           "showlakes": true,
           "showland": true,
           "subunitcolor": "white"
          },
          "hoverlabel": {
           "align": "left"
          },
          "hovermode": "closest",
          "mapbox": {
           "style": "light"
          },
          "paper_bgcolor": "white",
          "plot_bgcolor": "#E5ECF6",
          "polar": {
           "angularaxis": {
            "gridcolor": "white",
            "linecolor": "white",
            "ticks": ""
           },
           "bgcolor": "#E5ECF6",
           "radialaxis": {
            "gridcolor": "white",
            "linecolor": "white",
            "ticks": ""
           }
          },
          "scene": {
           "xaxis": {
            "backgroundcolor": "#E5ECF6",
            "gridcolor": "white",
            "gridwidth": 2,
            "linecolor": "white",
            "showbackground": true,
            "ticks": "",
            "zerolinecolor": "white"
           },
           "yaxis": {
            "backgroundcolor": "#E5ECF6",
            "gridcolor": "white",
            "gridwidth": 2,
            "linecolor": "white",
            "showbackground": true,
            "ticks": "",
            "zerolinecolor": "white"
           },
           "zaxis": {
            "backgroundcolor": "#E5ECF6",
            "gridcolor": "white",
            "gridwidth": 2,
            "linecolor": "white",
            "showbackground": true,
            "ticks": "",
            "zerolinecolor": "white"
           }
          },
          "shapedefaults": {
           "line": {
            "color": "#2a3f5f"
           }
          },
          "ternary": {
           "aaxis": {
            "gridcolor": "white",
            "linecolor": "white",
            "ticks": ""
           },
           "baxis": {
            "gridcolor": "white",
            "linecolor": "white",
            "ticks": ""
           },
           "bgcolor": "#E5ECF6",
           "caxis": {
            "gridcolor": "white",
            "linecolor": "white",
            "ticks": ""
           }
          },
          "title": {
           "x": 0.05
          },
          "xaxis": {
           "automargin": true,
           "gridcolor": "white",
           "linecolor": "white",
           "ticks": "",
           "title": {
            "standoff": 15
           },
           "zerolinecolor": "white",
           "zerolinewidth": 2
          },
          "yaxis": {
           "automargin": true,
           "gridcolor": "white",
           "linecolor": "white",
           "ticks": "",
           "title": {
            "standoff": 15
           },
           "zerolinecolor": "white",
           "zerolinewidth": 2
          }
         }
        }
       }
      },
      "text/html": [
       "<div>                            <div id=\"2789c5ee-dd99-454b-8185-577237961baf\" class=\"plotly-graph-div\" style=\"height:525px; width:100%;\"></div>            <script type=\"text/javascript\">                require([\"plotly\"], function(Plotly) {                    window.PLOTLYENV=window.PLOTLYENV || {};                                    if (document.getElementById(\"2789c5ee-dd99-454b-8185-577237961baf\")) {                    Plotly.newPlot(                        \"2789c5ee-dd99-454b-8185-577237961baf\",                        [{\"hovertemplate\":\"x=%{x}<br>y=%{y}<br>z=%{z}<br>label=%{marker.color}<extra></extra>\",\"legendgroup\":\"\",\"marker\":{\"color\":[0,6,1,1,8,8,0,0,4,4,8,0,6,7,0,6,3,8,2,6,4,8,0,9,6,3,7,2,4,3,6,8,8,4,7,8,7,4,0,8,7,4,9,4,7,6,8,8,6,5,0,6,7,6,7,5,1,4,1,1,9,3,7,2,7,7,5,2,3,4,7,9,0,8,1,1,2,8,3,8,3,1,9,6,1,6,1,0,6,4,6,4,7,6,4,5,5,6,9,9,0,5,9,5,4,4,3,8,4,5,8,7,3,0,3,2,2,3,5,2,0,2,2,3,7,5,1,1],\"coloraxis\":\"coloraxis\",\"symbol\":\"circle\",\"size\":5},\"mode\":\"markers+text\",\"name\":\"\",\"scene\":\"scene\",\"showlegend\":false,\"text\":[0.0,6.0,1.0,1.0,8.0,8.0,0.0,0.0,4.0,4.0,8.0,0.0,6.0,7.0,0.0,6.0,3.0,8.0,2.0,6.0,4.0,8.0,0.0,9.0,6.0,3.0,7.0,2.0,4.0,3.0,6.0,8.0,8.0,4.0,7.0,8.0,7.0,4.0,0.0,8.0,7.0,4.0,9.0,4.0,7.0,6.0,8.0,8.0,6.0,5.0,0.0,6.0,7.0,6.0,7.0,5.0,1.0,4.0,1.0,1.0,9.0,3.0,7.0,2.0,7.0,7.0,5.0,2.0,3.0,4.0,7.0,9.0,0.0,8.0,1.0,1.0,2.0,8.0,3.0,8.0,3.0,1.0,9.0,6.0,1.0,6.0,1.0,0.0,6.0,4.0,6.0,4.0,7.0,6.0,4.0,5.0,5.0,6.0,9.0,9.0,0.0,5.0,9.0,5.0,4.0,4.0,3.0,8.0,4.0,5.0,8.0,7.0,3.0,0.0,3.0,2.0,2.0,3.0,5.0,2.0,0.0,2.0,2.0,3.0,7.0,5.0,1.0,1.0],\"x\":[-0.26069021224975586,-0.3925444185733795,-0.9482042193412781,-0.9415366649627686,-0.9067177772521973,0.397906094789505,-0.2784741222858429,-0.26484107971191406,-0.39644885063171387,-0.5339804291725159,0.08111567795276642,-0.3065145015716553,-0.13153089582920074,0.5964279174804688,-0.2630269229412079,-0.2450704723596573,0.6046475768089294,0.2665204703807831,0.9827620983123779,-0.18364763259887695,-0.35579630732536316,0.14891523122787476,-0.24859993159770966,0.26405811309814453,-0.1796625405550003,0.6882703304290771,0.6033029556274414,0.9822368025779724,-0.41324231028556824,0.5755003094673157,-0.2227138876914978,0.035172246396541595,0.6172338128089905,-0.4190741777420044,0.5340341925621033,0.10288553684949875,0.5252319574356079,-0.39849159121513367,-0.2696395516395569,0.07814689725637436,0.6082919836044312,-0.3795718550682068,0.2935451567173004,-0.5212740898132324,0.578684389591217,-0.15037833154201508,-0.6107831001281738,0.0759948119521141,-0.18914151191711426,-0.6394661068916321,-0.2492295801639557,-0.14574486017227173,0.6506147980690002,-0.16573098301887512,0.620635986328125,-0.6598759293556213,-0.9405351281166077,-0.377519428730011,-0.9485528469085693,-0.9470062851905823,0.32194405794143677,0.6252813339233398,0.5963419079780579,0.9351084232330322,0.588667094707489,0.5537908673286438,-0.680513858795166,0.975322425365448,0.5935406684875488,-0.46823763847351074,0.5985589623451233,0.3194013237953186,-0.267634779214859,0.788279116153717,-0.940984845161438,-0.9487913250923157,0.9743523001670837,0.05362401157617569,0.6161116361618042,0.058756954967975616,0.6334589123725891,-0.9450849890708923,0.28343069553375244,-0.1611701101064682,-0.940811812877655,-0.1579364836215973,-0.9842904806137085,-0.2575437128543854,-0.3126150369644165,-0.37864288687705994,-0.08014460653066635,-0.388217568397522,0.5678057074546814,-0.10817922651767731,-0.3453390598297119,-0.7138023972511292,-0.6746635437011719,-0.13410694897174835,0.28962433338165283,0.2724417746067047,-0.1894843578338623,-0.7310547232627869,0.31607362627983093,-0.7215688824653625,-0.380090594291687,-0.4821256399154663,0.5822633504867554,0.022673919796943665,-0.3709457516670227,-0.6836230754852295,0.10690554231405258,0.7396442890167236,0.6313895583152771,-0.26280421018600464,0.5891798138618469,0.9726083278656006,0.9937406182289124,0.6034750938415527,-0.723641037940979,0.9748764634132385,-0.2677285075187683,0.9738720655441284,0.9749534130096436,0.6314534544944763,0.559351921081543,-0.7479095458984375,-0.9451742768287659,-0.9406391978263855],\"y\":[-0.9186121225357056,-0.08978878706693649,-0.06196632608771324,-0.1190362200140953,0.37520667910575867,0.6873406767845154,-0.9151128530502319,-0.9249423146247864,-0.5460814833641052,-0.49678799510002136,0.9896873235702515,-0.8883922100067139,-0.17192457616329193,-0.7814505100250244,-0.9188486337661743,-0.09599155932664871,0.24333538115024567,0.9623304605484009,0.09506583213806152,-0.12593576312065125,-0.5850093364715576,0.9737544655799866,-0.9271026253700256,0.20417554676532745,-0.13046303391456604,0.1853724718093872,-0.7599092125892639,0.13618841767311096,-0.5348144769668579,0.38415607810020447,-0.051811981946229935,0.9825876355171204,-0.1493060439825058,-0.5587756633758545,-0.7978953719139099,0.9868730306625366,-0.816367506980896,-0.5532701015472412,-0.9233562350273132,0.9876450896263123,-0.7548486590385437,-0.5727095603942871,0.2685926854610443,-0.5190946459770203,-0.773471474647522,-0.19719426333904266,0.7901213765144348,0.9835444092750549,-0.17737556993961334,0.5176293253898621,-0.9157970547676086,-0.1657736897468567,-0.730221152305603,-0.1155247911810875,-0.6221678853034973,0.5218576192855835,-0.1258034110069275,-0.5638492703437805,-0.05797046795487404,-0.07454799860715866,0.24092157185077667,0.3490193784236908,-0.7725299000740051,-0.12209433317184448,-0.7708780765533447,-0.7952213287353516,0.525628387928009,0.13155092298984528,0.3340388834476471,-0.5322107076644897,-0.7761968970298767,0.21138407289981842,-0.9284436702728271,0.57623291015625,-0.23362521827220917,-0.05512799322605133,0.16280494630336761,0.98967045545578,0.3319232165813446,0.9886173605918884,0.38156720995903015,-0.09204626083374023,0.21879425644874573,-0.18275605142116547,-0.12396423518657684,-0.15843798220157623,0.1558716744184494,-0.9311907887458801,-0.290408730506897,-0.5636444687843323,-0.2271299660205841,-0.5645652413368225,-0.7972041964530945,-0.17313160002231598,-0.5846360921859741,0.5304521322250366,0.5246148109436035,-0.20526814460754395,0.2645128667354584,0.26736146211624146,-0.9449616074562073,0.5322219729423523,0.1989406943321228,0.5313177108764648,-0.5699095129966736,-0.52168869972229,0.3621954917907715,0.9867852330207825,-0.5790432691574097,0.5261483192443848,0.9813809394836426,-0.6485828161239624,0.338705837726593,-0.9181517958641052,0.3942127525806427,0.11561398953199387,0.10263041406869888,0.37684962153434753,0.5315300226211548,0.20441699028015137,-0.9236259460449219,0.14317379891872406,0.13994406163692474,0.37249863147735596,-0.7977863550186157,0.5333669185638428,-0.09128954261541367,-0.1251150667667389],\"z\":[-0.29697221517562866,-0.9153397083282471,-0.3115585446357727,-0.3151808977127075,-0.19256903231143951,0.6076459288597107,-0.29158300161361694,-0.27265527844429016,0.7379859089851379,0.6841539144515991,-0.11806440353393555,-0.34177201986312866,-0.9762896299362183,0.18332691490650177,-0.29416659474372864,-0.9647414684295654,-0.75841224193573,-0.0537300631403923,0.15855948626995087,-0.9748916625976562,0.7288161516189575,-0.17212341725826263,-0.28049737215042114,0.9426482319831848,-0.9750388860702515,-0.7013708353042603,0.2419990748167038,0.12908746302127838,0.7370240092277527,-0.7219580411911011,-0.9735060930252075,-0.1824401468038559,0.7724831700325012,0.7156441807746887,0.27958986163139343,-0.12448395788669586,0.24015723168849945,0.7315030097961426,-0.27332720160484314,-0.13583137094974518,0.2453252375125885,0.7265872359275818,0.9174361824989319,0.6773581504821777,0.25858497619628906,-0.9687624573707581,-0.05150003358721733,-0.16390585899353027,-0.9657967686653137,0.5684567093849182,-0.31496095657348633,-0.9753345847129822,0.20851242542266846,-0.9793810248374939,0.4771983027458191,0.5405815243721008,-0.3155425190925598,0.7345427870750427,-0.31126686930656433,-0.3124447166919708,0.9155920743942261,-0.6980034112930298,0.2181142121553421,0.33266374468803406,0.24334755539894104,0.24685774743556976,0.5105052590370178,0.1773146390914917,-0.7322072982788086,0.7053405046463013,0.19810505211353302,0.9237421751022339,-0.2576121985912323,0.21580466628074646,-0.24488107860088348,-0.31105631589889526,0.15534545481204987,-0.13295459747314453,-0.7143062949180603,-0.13850395381450653,-0.6731539368629456,-0.3135949969291687,0.9337002038955688,-0.969857931137085,-0.3154456615447998,-0.9746555089950562,0.08292265981435776,-0.25798264145851135,-0.9043973684310913,0.7341215014457703,-0.9705610275268555,0.7283908128738403,0.2050907015800476,-0.9789395928382874,0.7341264486312866,0.45728176832199097,0.5192383527755737,-0.9694742560386658,0.9198644161224365,0.9242798686027527,-0.2667267918586731,0.42696475982666016,0.9276422262191772,0.44389164447784424,0.7285151481628418,0.7038435935974121,-0.7278624773025513,-0.16043925285339355,0.7260221242904663,0.5057939291000366,-0.1595700979232788,0.1796294003725052,-0.6975854635238647,-0.2965319752693176,-0.7053108811378479,0.20165948569774628,-0.04412046819925308,-0.7027106285095215,0.44024935364723206,0.08848516643047333,-0.27429279685020447,0.1762792319059372,0.17286278307437897,-0.6800817847251892,0.2250831574201584,0.3951595425605774,-0.3135472536087036,-0.3155064284801483],\"type\":\"scatter3d\"}],                        {\"template\":{\"data\":{\"histogram2dcontour\":[{\"type\":\"histogram2dcontour\",\"colorbar\":{\"outlinewidth\":0,\"ticks\":\"\"},\"colorscale\":[[0.0,\"#0d0887\"],[0.1111111111111111,\"#46039f\"],[0.2222222222222222,\"#7201a8\"],[0.3333333333333333,\"#9c179e\"],[0.4444444444444444,\"#bd3786\"],[0.5555555555555556,\"#d8576b\"],[0.6666666666666666,\"#ed7953\"],[0.7777777777777778,\"#fb9f3a\"],[0.8888888888888888,\"#fdca26\"],[1.0,\"#f0f921\"]]}],\"choropleth\":[{\"type\":\"choropleth\",\"colorbar\":{\"outlinewidth\":0,\"ticks\":\"\"}}],\"histogram2d\":[{\"type\":\"histogram2d\",\"colorbar\":{\"outlinewidth\":0,\"ticks\":\"\"},\"colorscale\":[[0.0,\"#0d0887\"],[0.1111111111111111,\"#46039f\"],[0.2222222222222222,\"#7201a8\"],[0.3333333333333333,\"#9c179e\"],[0.4444444444444444,\"#bd3786\"],[0.5555555555555556,\"#d8576b\"],[0.6666666666666666,\"#ed7953\"],[0.7777777777777778,\"#fb9f3a\"],[0.8888888888888888,\"#fdca26\"],[1.0,\"#f0f921\"]]}],\"heatmap\":[{\"type\":\"heatmap\",\"colorbar\":{\"outlinewidth\":0,\"ticks\":\"\"},\"colorscale\":[[0.0,\"#0d0887\"],[0.1111111111111111,\"#46039f\"],[0.2222222222222222,\"#7201a8\"],[0.3333333333333333,\"#9c179e\"],[0.4444444444444444,\"#bd3786\"],[0.5555555555555556,\"#d8576b\"],[0.6666666666666666,\"#ed7953\"],[0.7777777777777778,\"#fb9f3a\"],[0.8888888888888888,\"#fdca26\"],[1.0,\"#f0f921\"]]}],\"heatmapgl\":[{\"type\":\"heatmapgl\",\"colorbar\":{\"outlinewidth\":0,\"ticks\":\"\"},\"colorscale\":[[0.0,\"#0d0887\"],[0.1111111111111111,\"#46039f\"],[0.2222222222222222,\"#7201a8\"],[0.3333333333333333,\"#9c179e\"],[0.4444444444444444,\"#bd3786\"],[0.5555555555555556,\"#d8576b\"],[0.6666666666666666,\"#ed7953\"],[0.7777777777777778,\"#fb9f3a\"],[0.8888888888888888,\"#fdca26\"],[1.0,\"#f0f921\"]]}],\"contourcarpet\":[{\"type\":\"contourcarpet\",\"colorbar\":{\"outlinewidth\":0,\"ticks\":\"\"}}],\"contour\":[{\"type\":\"contour\",\"colorbar\":{\"outlinewidth\":0,\"ticks\":\"\"},\"colorscale\":[[0.0,\"#0d0887\"],[0.1111111111111111,\"#46039f\"],[0.2222222222222222,\"#7201a8\"],[0.3333333333333333,\"#9c179e\"],[0.4444444444444444,\"#bd3786\"],[0.5555555555555556,\"#d8576b\"],[0.6666666666666666,\"#ed7953\"],[0.7777777777777778,\"#fb9f3a\"],[0.8888888888888888,\"#fdca26\"],[1.0,\"#f0f921\"]]}],\"surface\":[{\"type\":\"surface\",\"colorbar\":{\"outlinewidth\":0,\"ticks\":\"\"},\"colorscale\":[[0.0,\"#0d0887\"],[0.1111111111111111,\"#46039f\"],[0.2222222222222222,\"#7201a8\"],[0.3333333333333333,\"#9c179e\"],[0.4444444444444444,\"#bd3786\"],[0.5555555555555556,\"#d8576b\"],[0.6666666666666666,\"#ed7953\"],[0.7777777777777778,\"#fb9f3a\"],[0.8888888888888888,\"#fdca26\"],[1.0,\"#f0f921\"]]}],\"mesh3d\":[{\"type\":\"mesh3d\",\"colorbar\":{\"outlinewidth\":0,\"ticks\":\"\"}}],\"scatter\":[{\"fillpattern\":{\"fillmode\":\"overlay\",\"size\":10,\"solidity\":0.2},\"type\":\"scatter\"}],\"parcoords\":[{\"type\":\"parcoords\",\"line\":{\"colorbar\":{\"outlinewidth\":0,\"ticks\":\"\"}}}],\"scatterpolargl\":[{\"type\":\"scatterpolargl\",\"marker\":{\"colorbar\":{\"outlinewidth\":0,\"ticks\":\"\"}}}],\"bar\":[{\"error_x\":{\"color\":\"#2a3f5f\"},\"error_y\":{\"color\":\"#2a3f5f\"},\"marker\":{\"line\":{\"color\":\"#E5ECF6\",\"width\":0.5},\"pattern\":{\"fillmode\":\"overlay\",\"size\":10,\"solidity\":0.2}},\"type\":\"bar\"}],\"scattergeo\":[{\"type\":\"scattergeo\",\"marker\":{\"colorbar\":{\"outlinewidth\":0,\"ticks\":\"\"}}}],\"scatterpolar\":[{\"type\":\"scatterpolar\",\"marker\":{\"colorbar\":{\"outlinewidth\":0,\"ticks\":\"\"}}}],\"histogram\":[{\"marker\":{\"pattern\":{\"fillmode\":\"overlay\",\"size\":10,\"solidity\":0.2}},\"type\":\"histogram\"}],\"scattergl\":[{\"type\":\"scattergl\",\"marker\":{\"colorbar\":{\"outlinewidth\":0,\"ticks\":\"\"}}}],\"scatter3d\":[{\"type\":\"scatter3d\",\"line\":{\"colorbar\":{\"outlinewidth\":0,\"ticks\":\"\"}},\"marker\":{\"colorbar\":{\"outlinewidth\":0,\"ticks\":\"\"}}}],\"scattermapbox\":[{\"type\":\"scattermapbox\",\"marker\":{\"colorbar\":{\"outlinewidth\":0,\"ticks\":\"\"}}}],\"scatterternary\":[{\"type\":\"scatterternary\",\"marker\":{\"colorbar\":{\"outlinewidth\":0,\"ticks\":\"\"}}}],\"scattercarpet\":[{\"type\":\"scattercarpet\",\"marker\":{\"colorbar\":{\"outlinewidth\":0,\"ticks\":\"\"}}}],\"carpet\":[{\"aaxis\":{\"endlinecolor\":\"#2a3f5f\",\"gridcolor\":\"white\",\"linecolor\":\"white\",\"minorgridcolor\":\"white\",\"startlinecolor\":\"#2a3f5f\"},\"baxis\":{\"endlinecolor\":\"#2a3f5f\",\"gridcolor\":\"white\",\"linecolor\":\"white\",\"minorgridcolor\":\"white\",\"startlinecolor\":\"#2a3f5f\"},\"type\":\"carpet\"}],\"table\":[{\"cells\":{\"fill\":{\"color\":\"#EBF0F8\"},\"line\":{\"color\":\"white\"}},\"header\":{\"fill\":{\"color\":\"#C8D4E3\"},\"line\":{\"color\":\"white\"}},\"type\":\"table\"}],\"barpolar\":[{\"marker\":{\"line\":{\"color\":\"#E5ECF6\",\"width\":0.5},\"pattern\":{\"fillmode\":\"overlay\",\"size\":10,\"solidity\":0.2}},\"type\":\"barpolar\"}],\"pie\":[{\"automargin\":true,\"type\":\"pie\"}]},\"layout\":{\"autotypenumbers\":\"strict\",\"colorway\":[\"#636efa\",\"#EF553B\",\"#00cc96\",\"#ab63fa\",\"#FFA15A\",\"#19d3f3\",\"#FF6692\",\"#B6E880\",\"#FF97FF\",\"#FECB52\"],\"font\":{\"color\":\"#2a3f5f\"},\"hovermode\":\"closest\",\"hoverlabel\":{\"align\":\"left\"},\"paper_bgcolor\":\"white\",\"plot_bgcolor\":\"#E5ECF6\",\"polar\":{\"bgcolor\":\"#E5ECF6\",\"angularaxis\":{\"gridcolor\":\"white\",\"linecolor\":\"white\",\"ticks\":\"\"},\"radialaxis\":{\"gridcolor\":\"white\",\"linecolor\":\"white\",\"ticks\":\"\"}},\"ternary\":{\"bgcolor\":\"#E5ECF6\",\"aaxis\":{\"gridcolor\":\"white\",\"linecolor\":\"white\",\"ticks\":\"\"},\"baxis\":{\"gridcolor\":\"white\",\"linecolor\":\"white\",\"ticks\":\"\"},\"caxis\":{\"gridcolor\":\"white\",\"linecolor\":\"white\",\"ticks\":\"\"}},\"coloraxis\":{\"colorbar\":{\"outlinewidth\":0,\"ticks\":\"\"}},\"colorscale\":{\"sequential\":[[0.0,\"#0d0887\"],[0.1111111111111111,\"#46039f\"],[0.2222222222222222,\"#7201a8\"],[0.3333333333333333,\"#9c179e\"],[0.4444444444444444,\"#bd3786\"],[0.5555555555555556,\"#d8576b\"],[0.6666666666666666,\"#ed7953\"],[0.7777777777777778,\"#fb9f3a\"],[0.8888888888888888,\"#fdca26\"],[1.0,\"#f0f921\"]],\"sequentialminus\":[[0.0,\"#0d0887\"],[0.1111111111111111,\"#46039f\"],[0.2222222222222222,\"#7201a8\"],[0.3333333333333333,\"#9c179e\"],[0.4444444444444444,\"#bd3786\"],[0.5555555555555556,\"#d8576b\"],[0.6666666666666666,\"#ed7953\"],[0.7777777777777778,\"#fb9f3a\"],[0.8888888888888888,\"#fdca26\"],[1.0,\"#f0f921\"]],\"diverging\":[[0,\"#8e0152\"],[0.1,\"#c51b7d\"],[0.2,\"#de77ae\"],[0.3,\"#f1b6da\"],[0.4,\"#fde0ef\"],[0.5,\"#f7f7f7\"],[0.6,\"#e6f5d0\"],[0.7,\"#b8e186\"],[0.8,\"#7fbc41\"],[0.9,\"#4d9221\"],[1,\"#276419\"]]},\"xaxis\":{\"gridcolor\":\"white\",\"linecolor\":\"white\",\"ticks\":\"\",\"title\":{\"standoff\":15},\"zerolinecolor\":\"white\",\"automargin\":true,\"zerolinewidth\":2},\"yaxis\":{\"gridcolor\":\"white\",\"linecolor\":\"white\",\"ticks\":\"\",\"title\":{\"standoff\":15},\"zerolinecolor\":\"white\",\"automargin\":true,\"zerolinewidth\":2},\"scene\":{\"xaxis\":{\"backgroundcolor\":\"#E5ECF6\",\"gridcolor\":\"white\",\"linecolor\":\"white\",\"showbackground\":true,\"ticks\":\"\",\"zerolinecolor\":\"white\",\"gridwidth\":2},\"yaxis\":{\"backgroundcolor\":\"#E5ECF6\",\"gridcolor\":\"white\",\"linecolor\":\"white\",\"showbackground\":true,\"ticks\":\"\",\"zerolinecolor\":\"white\",\"gridwidth\":2},\"zaxis\":{\"backgroundcolor\":\"#E5ECF6\",\"gridcolor\":\"white\",\"linecolor\":\"white\",\"showbackground\":true,\"ticks\":\"\",\"zerolinecolor\":\"white\",\"gridwidth\":2}},\"shapedefaults\":{\"line\":{\"color\":\"#2a3f5f\"}},\"annotationdefaults\":{\"arrowcolor\":\"#2a3f5f\",\"arrowhead\":0,\"arrowwidth\":1},\"geo\":{\"bgcolor\":\"white\",\"landcolor\":\"#E5ECF6\",\"subunitcolor\":\"white\",\"showland\":true,\"showlakes\":true,\"lakecolor\":\"white\"},\"title\":{\"x\":0.05},\"mapbox\":{\"style\":\"light\"}}},\"scene\":{\"domain\":{\"x\":[0.0,1.0],\"y\":[0.0,1.0]},\"xaxis\":{\"title\":{\"text\":\"x\"}},\"yaxis\":{\"title\":{\"text\":\"y\"}},\"zaxis\":{\"title\":{\"text\":\"z\"}}},\"coloraxis\":{\"colorbar\":{\"title\":{\"text\":\"label\"}},\"colorscale\":[[0.0,\"#0d0887\"],[0.1111111111111111,\"#46039f\"],[0.2222222222222222,\"#7201a8\"],[0.3333333333333333,\"#9c179e\"],[0.4444444444444444,\"#bd3786\"],[0.5555555555555556,\"#d8576b\"],[0.6666666666666666,\"#ed7953\"],[0.7777777777777778,\"#fb9f3a\"],[0.8888888888888888,\"#fdca26\"],[1.0,\"#f0f921\"]]},\"legend\":{\"tracegroupgap\":0},\"margin\":{\"t\":60}},                        {\"responsive\": true}                    ).then(function(){\n",
       "                            \n",
       "var gd = document.getElementById('2789c5ee-dd99-454b-8185-577237961baf');\n",
       "var x = new MutationObserver(function (mutations, observer) {{\n",
       "        var display = window.getComputedStyle(gd).display;\n",
       "        if (!display || display === 'none') {{\n",
       "            console.log([gd, 'removed!']);\n",
       "            Plotly.purge(gd);\n",
       "            observer.disconnect();\n",
       "        }}\n",
       "}});\n",
       "\n",
       "// Listen for the removal of the full notebook cells\n",
       "var notebookContainer = gd.closest('#notebook-container');\n",
       "if (notebookContainer) {{\n",
       "    x.observe(notebookContainer, {childList: true});\n",
       "}}\n",
       "\n",
       "// Listen for the clearing of the current output cell\n",
       "var outputEl = gd.closest('.output');\n",
       "if (outputEl) {{\n",
       "    x.observe(outputEl, {childList: true});\n",
       "}}\n",
       "\n",
       "                        })                };                });            </script>        </div>"
      ]
     },
     "metadata": {},
     "output_type": "display_data"
    }
   ],
   "source": [
    "df = pd.DataFrame({'x': embeds[:, 0], \n",
    "                   'y': embeds[:, 1], \n",
    "                   'z': embeds[:, 2], \n",
    "                   'label': batch_labels.numpy()})\n",
    "\n",
    "fig = px.scatter_3d(df, x='x', y='y', z='z',\n",
    "                      color='label', text='label')\n",
    "fig.update_traces(marker_size = 5)\n",
    "fig.show()"
   ]
  },
  {
   "cell_type": "markdown",
   "id": "e81ca6fe",
   "metadata": {},
   "source": [
    "## Write Modified Embeddings through Plotly"
   ]
  },
  {
   "cell_type": "code",
   "execution_count": 356,
   "id": "e223c3ae",
   "metadata": {
    "scrolled": false
   },
   "outputs": [],
   "source": [
    "batch_images, batch_labels = next(iter(data_loader))\n",
    "\n",
    "embeds = deep_features.generate_embeddings(batch_images.to(device), normalize=True)\n",
    "embeds = embeds.detach().numpy()\n",
    "\n",
    "# new_embeds, new_labels = remove_outliers(embeds, batch_labels)"
   ]
  },
  {
   "cell_type": "code",
   "execution_count": 357,
   "id": "17b93dde",
   "metadata": {},
   "outputs": [],
   "source": [
    "def project_to_2D_unit_circle(embeds):\n",
    "    \n",
    "    # Find the normal vector of the plane\n",
    "    u, s, vh = np.linalg.svd(embeds)\n",
    "    normal = vh[-1]    # the last eigenvector is the one that doesn't vary, i.e. \n",
    "                       # normal to the plane where the points lie \n",
    "\n",
    "    # Project the points onto the plane\n",
    "    points_proj = embeds - (embeds @ np.outer(normal, normal))  # embeds minus projection of embeds onto normal\n",
    "                                                                # would give us embeds that lie on the 2D plane,\n",
    "                                                                # which is perpendicular to the normal \n",
    "\n",
    "    # normalize to unit circle \n",
    "    points_norm = np.linalg.norm(points_proj, axis=1)\n",
    "    points_proj /= points_norm[:, np.newaxis]         # using broadcasting to normalize \n",
    "    \n",
    "    return points_proj"
   ]
  },
  {
   "cell_type": "code",
   "execution_count": 358,
   "id": "32fe4454",
   "metadata": {},
   "outputs": [
    {
     "data": {
      "application/vnd.plotly.v1+json": {
       "config": {
        "plotlyServerURL": "https://plot.ly"
       },
       "data": [
        {
         "hovertemplate": "x=%{x}<br>y=%{y}<br>z=%{z}<br>label=%{marker.color}<extra></extra>",
         "legendgroup": "",
         "marker": {
          "color": [
           5,
           6,
           6,
           3,
           5,
           5,
           2,
           2,
           2,
           1,
           0,
           6,
           4,
           9,
           6,
           6,
           1,
           2,
           6,
           6,
           3,
           1,
           9,
           3,
           9,
           8,
           2,
           8,
           1,
           8,
           4,
           0,
           4,
           8,
           5,
           2,
           4,
           4,
           3,
           9,
           6,
           5,
           2,
           9,
           7,
           0,
           6,
           4,
           5,
           2,
           2,
           0,
           6,
           1,
           6,
           2,
           7,
           2,
           1,
           8,
           4,
           5,
           7,
           9,
           1,
           2,
           4,
           7,
           8,
           3,
           1,
           6,
           6,
           8,
           5,
           8,
           3,
           9,
           8,
           7,
           4,
           2,
           2,
           6,
           5,
           2,
           3,
           4,
           0,
           4,
           9,
           8,
           6,
           3,
           0,
           6,
           7,
           2,
           2,
           6,
           6,
           1,
           6,
           8,
           0,
           7,
           0,
           9,
           4,
           3,
           4,
           3,
           0,
           3,
           5,
           1,
           2,
           5,
           5,
           3,
           9,
           0,
           5,
           6,
           1,
           7,
           2,
           0
          ],
          "coloraxis": "coloraxis",
          "size": 5,
          "symbol": "circle"
         },
         "mode": "markers+text",
         "name": "",
         "scene": "scene",
         "showlegend": false,
         "text": [
          5,
          6,
          6,
          3,
          5,
          5,
          2,
          2,
          2,
          1,
          0,
          6,
          4,
          9,
          6,
          6,
          1,
          2,
          6,
          6,
          3,
          1,
          9,
          3,
          9,
          8,
          2,
          8,
          1,
          8,
          4,
          0,
          4,
          8,
          5,
          2,
          4,
          4,
          3,
          9,
          6,
          5,
          2,
          9,
          7,
          0,
          6,
          4,
          5,
          2,
          2,
          0,
          6,
          1,
          6,
          2,
          7,
          2,
          1,
          8,
          4,
          5,
          7,
          9,
          1,
          2,
          4,
          7,
          8,
          3,
          1,
          6,
          6,
          8,
          5,
          8,
          3,
          9,
          8,
          7,
          4,
          2,
          2,
          6,
          5,
          2,
          3,
          4,
          0,
          4,
          9,
          8,
          6,
          3,
          0,
          6,
          7,
          2,
          2,
          6,
          6,
          1,
          6,
          8,
          0,
          7,
          0,
          9,
          4,
          3,
          4,
          3,
          0,
          3,
          5,
          1,
          2,
          5,
          5,
          3,
          9,
          0,
          5,
          6,
          1,
          7,
          2,
          0
         ],
         "type": "scatter3d",
         "x": [
          -0.4928004741668701,
          -0.27277669310569763,
          -0.29136499762535095,
          -0.420720636844635,
          -0.5169841051101685,
          -0.5087283253669739,
          0.5714027881622314,
          0.4658534526824951,
          0.5695173740386963,
          -0.6261833310127258,
          0.3397863507270813,
          -0.2819617986679077,
          0.5339404344558716,
          0.1862069070339203,
          -0.3778625726699829,
          -0.3379993438720703,
          -0.6291968822479248,
          0.5543901920318604,
          -0.29429128766059875,
          -0.5580289959907532,
          -0.41635677218437195,
          -0.6312030553817749,
          0.19527484476566315,
          -0.21099695563316345,
          -0.14061610400676727,
          -0.6682586073875427,
          0.6106187701225281,
          -0.6353722214698792,
          -0.6305110454559326,
          -0.6313468217849731,
          0.5029699802398682,
          0.35145577788352966,
          0.5324506759643555,
          -0.6371057033538818,
          -0.5208337306976318,
          0.5315842032432556,
          0.5086587071418762,
          0.4724057912826538,
          -0.5596572756767273,
          0.18907530605793,
          -0.3157908320426941,
          -0.5276259183883667,
          0.6215803623199463,
          0.5803051590919495,
          0.7011579275131226,
          0.3601398766040802,
          -0.39285844564437866,
          0.6515427231788635,
          -0.4903920888900757,
          0.523228645324707,
          0.5697030425071716,
          0.23162740468978882,
          -0.29079538583755493,
          -0.6268272995948792,
          -0.2946385443210602,
          0.5506397485733032,
          0.6986837387084961,
          0.6234170198440552,
          -0.6164354085922241,
          -0.6235669255256653,
          0.3885599374771118,
          -0.5041053891181946,
          0.7005590200424194,
          0.18829740583896637,
          -0.6241457462310791,
          0.49402326345443726,
          0.5576866865158081,
          0.6966359615325928,
          -0.6406965851783752,
          -0.36635929346084595,
          -0.6337385773658752,
          -0.3368666470050812,
          -0.3220468759536743,
          -0.6219391822814941,
          -0.49509236216545105,
          -0.609356701374054,
          -0.533667266368866,
          0.21543022990226746,
          -0.5744374990463257,
          0.7008824944496155,
          0.5666086673736572,
          0.5389050841331482,
          0.5769062638282776,
          -0.34707725048065186,
          -0.5310818552970886,
          0.5517218708992004,
          -0.43995431065559387,
          0.49230700731277466,
          0.36665239930152893,
          0.508800745010376,
          0.21006494760513306,
          -0.5570405721664429,
          -0.2713472545146942,
          -0.4797631800174713,
          0.36784783005714417,
          -0.33129504323005676,
          0.6882233023643494,
          0.5650269985198975,
          0.5674411058425903,
          -0.34615522623062134,
          -0.31462880969047546,
          -0.609872043132782,
          -0.34111079573631287,
          -0.6213457584381104,
          0.36080703139305115,
          0.7051833868026733,
          0.35370972752571106,
          0.3712112307548523,
          0.5605739951133728,
          -0.39499425888061523,
          0.485694944858551,
          -0.4062913954257965,
          0.3421066403388977,
          -0.42102569341659546,
          -0.6672979593276978,
          -0.6302197575569153,
          0.46786952018737793,
          -0.5273095369338989,
          -0.5173929929733276,
          -0.4066111147403717,
          0.20136989653110504,
          0.3509540557861328,
          -0.4844730496406555,
          -0.28494057059288025,
          -0.6343483328819275,
          0.7007841467857361,
          0.5446370244026184,
          0.39627107977867126
         ],
         "y": [
          0.7621222734451294,
          -0.16645865142345428,
          -0.1446346491575241,
          0.019727036356925964,
          0.7681841254234314,
          0.7662889957427979,
          -0.25145605206489563,
          -0.08333859592676163,
          -0.24812568724155426,
          0.3567376136779785,
          -0.6963303685188293,
          -0.1557249128818512,
          -0.187905952334404,
          0.26309576630592346,
          -0.03738614171743393,
          -0.0880398154258728,
          0.3631517291069031,
          -0.22194264829158783,
          -0.14116203784942627,
          0.22815735638141632,
          0.013774586841464043,
          0.3674702048301697,
          0.2533400058746338,
          -0.236227884888649,
          0.5635713338851929,
          0.7438399195671082,
          -0.32484129071235657,
          0.7650360465049744,
          0.36597615480422974,
          0.7665973901748657,
          -0.13885825872421265,
          -0.7026696801185608,
          -0.18548138439655304,
          0.7643102407455444,
          0.7690023183822632,
          -0.18407447636127472,
          -0.14766523241996765,
          -0.09291107207536697,
          0.23095467686653137,
          0.2600187361240387,
          -0.11533115059137344,
          0.7703397274017334,
          -0.34709876775741577,
          -0.7752701640129089,
          -0.6807134747505188,
          -0.7072662115097046,
          -0.017734142020344734,
          -0.41384655237197876,
          0.7614368796348572,
          -0.17062658071517944,
          -0.24845296144485474,
          -0.6295647025108337,
          -0.1453094333410263,
          0.3581010401248932,
          -0.1407492756843567,
          -0.21558965742588043,
          -0.6906577348709106,
          -0.35092249512672424,
          0.3365362286567688,
          0.769163966178894,
          0.023402443155646324,
          0.7651469707489014,
          -0.6833767294883728,
          0.260854035615921,
          0.3524477481842041,
          -0.12517639994621277,
          -0.22757047414779663,
          -0.6973128914833069,
          0.7626978158950806,
          -0.052233513444662094,
          0.3729858696460724,
          -0.0894472599029541,
          -0.10770729184150696,
          0.7696316242218018,
          0.7627614140510559,
          0.7725312113761902,
          0.18746080994606018,
          0.23135687410831451,
          0.7752764821052551,
          -0.681963324546814,
          -0.24301806092262268,
          -0.19603747129440308,
          -0.26126837730407715,
          -0.07669826596975327,
          0.7709665298461914,
          -0.21741724014282227,
          0.0463634692132473,
          -0.12257438898086548,
          -0.7106437683105469,
          -0.1478862464427948,
          0.23724941909313202,
          0.7744040489196777,
          -0.16812041401863098,
          0.10377169400453568,
          -0.7112572193145752,
          -0.09634566307067871,
          -0.7171018719673157,
          -0.24025584757328033,
          -0.2444761097431183,
          -0.07785532623529434,
          -0.11674182862043381,
          0.32335788011550903,
          -0.08416488021612167,
          0.76979660987854,
          -0.7076149582862854,
          -0.6513721942901611,
          -0.703872799873352,
          0.04599456489086151,
          -0.2325342893600464,
          -0.01490692887455225,
          -0.11261709034442902,
          0.00016758312995079905,
          -0.6976054906845093,
          0.020144380629062653,
          0.7447528839111328,
          0.3653486967086792,
          -0.08627407252788544,
          0.7702805399894714,
          0.7682730555534363,
          0.0005972534418106079,
          0.24673600494861603,
          -0.7024009823799133,
          0.7596932649612427,
          -0.15222293138504028,
          0.3743220865726471,
          -0.682398796081543,
          -0.20552794635295868,
          -0.725217342376709
         ],
         "z": [
          0.4199015200138092,
          -0.9475676417350769,
          -0.945614755153656,
          -0.9069757461547852,
          0.3776513636112213,
          0.39242416620254517,
          0.7811969518661499,
          0.8809285759925842,
          0.7836348414421082,
          -0.6932767629623413,
          -0.6321941018104553,
          -0.9467033743858337,
          0.8243779540061951,
          0.9466295838356018,
          -0.9251065850257874,
          -0.9370194673538208,
          -0.6871914267539978,
          0.8021177649497986,
          -0.9452332258224487,
          -0.7978394031524658,
          -0.9090969562530518,
          -0.6830434203147888,
          0.9474632143974304,
          -0.9485129117965698,
          0.8140113353729248,
          -0.011515885591506958,
          0.7222346067428589,
          0.10498610883951187,
          -0.6844831705093384,
          0.11717402189970016,
          0.8530765175819397,
          -0.6186550855636597,
          0.8258891701698303,
          0.0996301993727684,
          0.37063148617744446,
          0.8267616629600525,
          0.8482106328010559,
          0.8764703273773193,
          -0.7958917617797852,
          0.9469111561775208,
          -0.9417934417724609,
          0.35803288221359253,
          0.7022536993026733,
          -0.2494034469127655,
          0.21214772760868073,
          -0.608336865901947,
          -0.9194279909133911,
          0.6357854008674622,
          0.42394521832466125,
          0.8349361419677734,
          0.7833961248397827,
          -0.7416177988052368,
          -0.9456866383552551,
          -0.6919907927513123,
          -0.9451866745948792,
          0.8064222931861877,
          0.18663576245307922,
          0.698716402053833,
          -0.7118642330169678,
          0.1398252248764038,
          0.9211261868476868,
          0.40053436160087585,
          0.20545868575572968,
          0.9468364119529724,
          -0.6972966194152832,
          0.8603905439376831,
          0.7982463836669922,
          0.1686801165342331,
          0.08831742405891418,
          -0.9290062189102173,
          -0.6776849627494812,
          -0.9372940063476562,
          -0.94057697057724,
          0.14442533254623413,
          0.4160271883010864,
          0.17854946851730347,
          -0.8246561288833618,
          0.948716938495636,
          0.26261740922927856,
          0.20902112126350403,
          0.7873353362083435,
          0.8192378282546997,
          0.7738978862762451,
          -0.9346950054168701,
          0.3515147864818573,
          0.8051910996437073,
          -0.8968225121498108,
          0.8617478609085083,
          -0.6004593372344971,
          0.848086953163147,
          0.9484648108482361,
          0.3000071346759796,
          -0.947684645652771,
          -0.8712397813796997,
          -0.599000096321106,
          -0.9385952949523926,
          0.1100618988275528,
          0.7893171310424805,
          0.7862836718559265,
          -0.9349412322044373,
          -0.9420085549354553,
          -0.7235300540924072,
          -0.9362476468086243,
          0.1460913121700287,
          -0.6075354218482971,
          0.28005483746528625,
          -0.6159971952438354,
          0.9274085760116577,
          0.7947858572006226,
          -0.918562650680542,
          0.8668436408042908,
          -0.9137435555458069,
          -0.6295312643051147,
          -0.9068249464035034,
          -0.007523489650338888,
          -0.6850863695144653,
          0.879576563835144,
          0.35862594842910767,
          0.3769097328186035,
          -0.9136011004447937,
          0.947930097579956,
          -0.6192447543144226,
          0.433764785528183,
          -0.9463810324668884,
          -0.6763765215873718,
          0.20792655646800995,
          0.8130982518196106,
          -0.5630533695220947
         ]
        }
       ],
       "layout": {
        "coloraxis": {
         "colorbar": {
          "title": {
           "text": "label"
          }
         },
         "colorscale": [
          [
           0,
           "#0d0887"
          ],
          [
           0.1111111111111111,
           "#46039f"
          ],
          [
           0.2222222222222222,
           "#7201a8"
          ],
          [
           0.3333333333333333,
           "#9c179e"
          ],
          [
           0.4444444444444444,
           "#bd3786"
          ],
          [
           0.5555555555555556,
           "#d8576b"
          ],
          [
           0.6666666666666666,
           "#ed7953"
          ],
          [
           0.7777777777777778,
           "#fb9f3a"
          ],
          [
           0.8888888888888888,
           "#fdca26"
          ],
          [
           1,
           "#f0f921"
          ]
         ]
        },
        "legend": {
         "tracegroupgap": 0
        },
        "margin": {
         "t": 60
        },
        "scene": {
         "domain": {
          "x": [
           0,
           1
          ],
          "y": [
           0,
           1
          ]
         },
         "xaxis": {
          "title": {
           "text": "x"
          }
         },
         "yaxis": {
          "title": {
           "text": "y"
          }
         },
         "zaxis": {
          "title": {
           "text": "z"
          }
         }
        },
        "template": {
         "data": {
          "bar": [
           {
            "error_x": {
             "color": "#2a3f5f"
            },
            "error_y": {
             "color": "#2a3f5f"
            },
            "marker": {
             "line": {
              "color": "#E5ECF6",
              "width": 0.5
             },
             "pattern": {
              "fillmode": "overlay",
              "size": 10,
              "solidity": 0.2
             }
            },
            "type": "bar"
           }
          ],
          "barpolar": [
           {
            "marker": {
             "line": {
              "color": "#E5ECF6",
              "width": 0.5
             },
             "pattern": {
              "fillmode": "overlay",
              "size": 10,
              "solidity": 0.2
             }
            },
            "type": "barpolar"
           }
          ],
          "carpet": [
           {
            "aaxis": {
             "endlinecolor": "#2a3f5f",
             "gridcolor": "white",
             "linecolor": "white",
             "minorgridcolor": "white",
             "startlinecolor": "#2a3f5f"
            },
            "baxis": {
             "endlinecolor": "#2a3f5f",
             "gridcolor": "white",
             "linecolor": "white",
             "minorgridcolor": "white",
             "startlinecolor": "#2a3f5f"
            },
            "type": "carpet"
           }
          ],
          "choropleth": [
           {
            "colorbar": {
             "outlinewidth": 0,
             "ticks": ""
            },
            "type": "choropleth"
           }
          ],
          "contour": [
           {
            "colorbar": {
             "outlinewidth": 0,
             "ticks": ""
            },
            "colorscale": [
             [
              0,
              "#0d0887"
             ],
             [
              0.1111111111111111,
              "#46039f"
             ],
             [
              0.2222222222222222,
              "#7201a8"
             ],
             [
              0.3333333333333333,
              "#9c179e"
             ],
             [
              0.4444444444444444,
              "#bd3786"
             ],
             [
              0.5555555555555556,
              "#d8576b"
             ],
             [
              0.6666666666666666,
              "#ed7953"
             ],
             [
              0.7777777777777778,
              "#fb9f3a"
             ],
             [
              0.8888888888888888,
              "#fdca26"
             ],
             [
              1,
              "#f0f921"
             ]
            ],
            "type": "contour"
           }
          ],
          "contourcarpet": [
           {
            "colorbar": {
             "outlinewidth": 0,
             "ticks": ""
            },
            "type": "contourcarpet"
           }
          ],
          "heatmap": [
           {
            "colorbar": {
             "outlinewidth": 0,
             "ticks": ""
            },
            "colorscale": [
             [
              0,
              "#0d0887"
             ],
             [
              0.1111111111111111,
              "#46039f"
             ],
             [
              0.2222222222222222,
              "#7201a8"
             ],
             [
              0.3333333333333333,
              "#9c179e"
             ],
             [
              0.4444444444444444,
              "#bd3786"
             ],
             [
              0.5555555555555556,
              "#d8576b"
             ],
             [
              0.6666666666666666,
              "#ed7953"
             ],
             [
              0.7777777777777778,
              "#fb9f3a"
             ],
             [
              0.8888888888888888,
              "#fdca26"
             ],
             [
              1,
              "#f0f921"
             ]
            ],
            "type": "heatmap"
           }
          ],
          "heatmapgl": [
           {
            "colorbar": {
             "outlinewidth": 0,
             "ticks": ""
            },
            "colorscale": [
             [
              0,
              "#0d0887"
             ],
             [
              0.1111111111111111,
              "#46039f"
             ],
             [
              0.2222222222222222,
              "#7201a8"
             ],
             [
              0.3333333333333333,
              "#9c179e"
             ],
             [
              0.4444444444444444,
              "#bd3786"
             ],
             [
              0.5555555555555556,
              "#d8576b"
             ],
             [
              0.6666666666666666,
              "#ed7953"
             ],
             [
              0.7777777777777778,
              "#fb9f3a"
             ],
             [
              0.8888888888888888,
              "#fdca26"
             ],
             [
              1,
              "#f0f921"
             ]
            ],
            "type": "heatmapgl"
           }
          ],
          "histogram": [
           {
            "marker": {
             "pattern": {
              "fillmode": "overlay",
              "size": 10,
              "solidity": 0.2
             }
            },
            "type": "histogram"
           }
          ],
          "histogram2d": [
           {
            "colorbar": {
             "outlinewidth": 0,
             "ticks": ""
            },
            "colorscale": [
             [
              0,
              "#0d0887"
             ],
             [
              0.1111111111111111,
              "#46039f"
             ],
             [
              0.2222222222222222,
              "#7201a8"
             ],
             [
              0.3333333333333333,
              "#9c179e"
             ],
             [
              0.4444444444444444,
              "#bd3786"
             ],
             [
              0.5555555555555556,
              "#d8576b"
             ],
             [
              0.6666666666666666,
              "#ed7953"
             ],
             [
              0.7777777777777778,
              "#fb9f3a"
             ],
             [
              0.8888888888888888,
              "#fdca26"
             ],
             [
              1,
              "#f0f921"
             ]
            ],
            "type": "histogram2d"
           }
          ],
          "histogram2dcontour": [
           {
            "colorbar": {
             "outlinewidth": 0,
             "ticks": ""
            },
            "colorscale": [
             [
              0,
              "#0d0887"
             ],
             [
              0.1111111111111111,
              "#46039f"
             ],
             [
              0.2222222222222222,
              "#7201a8"
             ],
             [
              0.3333333333333333,
              "#9c179e"
             ],
             [
              0.4444444444444444,
              "#bd3786"
             ],
             [
              0.5555555555555556,
              "#d8576b"
             ],
             [
              0.6666666666666666,
              "#ed7953"
             ],
             [
              0.7777777777777778,
              "#fb9f3a"
             ],
             [
              0.8888888888888888,
              "#fdca26"
             ],
             [
              1,
              "#f0f921"
             ]
            ],
            "type": "histogram2dcontour"
           }
          ],
          "mesh3d": [
           {
            "colorbar": {
             "outlinewidth": 0,
             "ticks": ""
            },
            "type": "mesh3d"
           }
          ],
          "parcoords": [
           {
            "line": {
             "colorbar": {
              "outlinewidth": 0,
              "ticks": ""
             }
            },
            "type": "parcoords"
           }
          ],
          "pie": [
           {
            "automargin": true,
            "type": "pie"
           }
          ],
          "scatter": [
           {
            "fillpattern": {
             "fillmode": "overlay",
             "size": 10,
             "solidity": 0.2
            },
            "type": "scatter"
           }
          ],
          "scatter3d": [
           {
            "line": {
             "colorbar": {
              "outlinewidth": 0,
              "ticks": ""
             }
            },
            "marker": {
             "colorbar": {
              "outlinewidth": 0,
              "ticks": ""
             }
            },
            "type": "scatter3d"
           }
          ],
          "scattercarpet": [
           {
            "marker": {
             "colorbar": {
              "outlinewidth": 0,
              "ticks": ""
             }
            },
            "type": "scattercarpet"
           }
          ],
          "scattergeo": [
           {
            "marker": {
             "colorbar": {
              "outlinewidth": 0,
              "ticks": ""
             }
            },
            "type": "scattergeo"
           }
          ],
          "scattergl": [
           {
            "marker": {
             "colorbar": {
              "outlinewidth": 0,
              "ticks": ""
             }
            },
            "type": "scattergl"
           }
          ],
          "scattermapbox": [
           {
            "marker": {
             "colorbar": {
              "outlinewidth": 0,
              "ticks": ""
             }
            },
            "type": "scattermapbox"
           }
          ],
          "scatterpolar": [
           {
            "marker": {
             "colorbar": {
              "outlinewidth": 0,
              "ticks": ""
             }
            },
            "type": "scatterpolar"
           }
          ],
          "scatterpolargl": [
           {
            "marker": {
             "colorbar": {
              "outlinewidth": 0,
              "ticks": ""
             }
            },
            "type": "scatterpolargl"
           }
          ],
          "scatterternary": [
           {
            "marker": {
             "colorbar": {
              "outlinewidth": 0,
              "ticks": ""
             }
            },
            "type": "scatterternary"
           }
          ],
          "surface": [
           {
            "colorbar": {
             "outlinewidth": 0,
             "ticks": ""
            },
            "colorscale": [
             [
              0,
              "#0d0887"
             ],
             [
              0.1111111111111111,
              "#46039f"
             ],
             [
              0.2222222222222222,
              "#7201a8"
             ],
             [
              0.3333333333333333,
              "#9c179e"
             ],
             [
              0.4444444444444444,
              "#bd3786"
             ],
             [
              0.5555555555555556,
              "#d8576b"
             ],
             [
              0.6666666666666666,
              "#ed7953"
             ],
             [
              0.7777777777777778,
              "#fb9f3a"
             ],
             [
              0.8888888888888888,
              "#fdca26"
             ],
             [
              1,
              "#f0f921"
             ]
            ],
            "type": "surface"
           }
          ],
          "table": [
           {
            "cells": {
             "fill": {
              "color": "#EBF0F8"
             },
             "line": {
              "color": "white"
             }
            },
            "header": {
             "fill": {
              "color": "#C8D4E3"
             },
             "line": {
              "color": "white"
             }
            },
            "type": "table"
           }
          ]
         },
         "layout": {
          "annotationdefaults": {
           "arrowcolor": "#2a3f5f",
           "arrowhead": 0,
           "arrowwidth": 1
          },
          "autotypenumbers": "strict",
          "coloraxis": {
           "colorbar": {
            "outlinewidth": 0,
            "ticks": ""
           }
          },
          "colorscale": {
           "diverging": [
            [
             0,
             "#8e0152"
            ],
            [
             0.1,
             "#c51b7d"
            ],
            [
             0.2,
             "#de77ae"
            ],
            [
             0.3,
             "#f1b6da"
            ],
            [
             0.4,
             "#fde0ef"
            ],
            [
             0.5,
             "#f7f7f7"
            ],
            [
             0.6,
             "#e6f5d0"
            ],
            [
             0.7,
             "#b8e186"
            ],
            [
             0.8,
             "#7fbc41"
            ],
            [
             0.9,
             "#4d9221"
            ],
            [
             1,
             "#276419"
            ]
           ],
           "sequential": [
            [
             0,
             "#0d0887"
            ],
            [
             0.1111111111111111,
             "#46039f"
            ],
            [
             0.2222222222222222,
             "#7201a8"
            ],
            [
             0.3333333333333333,
             "#9c179e"
            ],
            [
             0.4444444444444444,
             "#bd3786"
            ],
            [
             0.5555555555555556,
             "#d8576b"
            ],
            [
             0.6666666666666666,
             "#ed7953"
            ],
            [
             0.7777777777777778,
             "#fb9f3a"
            ],
            [
             0.8888888888888888,
             "#fdca26"
            ],
            [
             1,
             "#f0f921"
            ]
           ],
           "sequentialminus": [
            [
             0,
             "#0d0887"
            ],
            [
             0.1111111111111111,
             "#46039f"
            ],
            [
             0.2222222222222222,
             "#7201a8"
            ],
            [
             0.3333333333333333,
             "#9c179e"
            ],
            [
             0.4444444444444444,
             "#bd3786"
            ],
            [
             0.5555555555555556,
             "#d8576b"
            ],
            [
             0.6666666666666666,
             "#ed7953"
            ],
            [
             0.7777777777777778,
             "#fb9f3a"
            ],
            [
             0.8888888888888888,
             "#fdca26"
            ],
            [
             1,
             "#f0f921"
            ]
           ]
          },
          "colorway": [
           "#636efa",
           "#EF553B",
           "#00cc96",
           "#ab63fa",
           "#FFA15A",
           "#19d3f3",
           "#FF6692",
           "#B6E880",
           "#FF97FF",
           "#FECB52"
          ],
          "font": {
           "color": "#2a3f5f"
          },
          "geo": {
           "bgcolor": "white",
           "lakecolor": "white",
           "landcolor": "#E5ECF6",
           "showlakes": true,
           "showland": true,
           "subunitcolor": "white"
          },
          "hoverlabel": {
           "align": "left"
          },
          "hovermode": "closest",
          "mapbox": {
           "style": "light"
          },
          "paper_bgcolor": "white",
          "plot_bgcolor": "#E5ECF6",
          "polar": {
           "angularaxis": {
            "gridcolor": "white",
            "linecolor": "white",
            "ticks": ""
           },
           "bgcolor": "#E5ECF6",
           "radialaxis": {
            "gridcolor": "white",
            "linecolor": "white",
            "ticks": ""
           }
          },
          "scene": {
           "xaxis": {
            "backgroundcolor": "#E5ECF6",
            "gridcolor": "white",
            "gridwidth": 2,
            "linecolor": "white",
            "showbackground": true,
            "ticks": "",
            "zerolinecolor": "white"
           },
           "yaxis": {
            "backgroundcolor": "#E5ECF6",
            "gridcolor": "white",
            "gridwidth": 2,
            "linecolor": "white",
            "showbackground": true,
            "ticks": "",
            "zerolinecolor": "white"
           },
           "zaxis": {
            "backgroundcolor": "#E5ECF6",
            "gridcolor": "white",
            "gridwidth": 2,
            "linecolor": "white",
            "showbackground": true,
            "ticks": "",
            "zerolinecolor": "white"
           }
          },
          "shapedefaults": {
           "line": {
            "color": "#2a3f5f"
           }
          },
          "ternary": {
           "aaxis": {
            "gridcolor": "white",
            "linecolor": "white",
            "ticks": ""
           },
           "baxis": {
            "gridcolor": "white",
            "linecolor": "white",
            "ticks": ""
           },
           "bgcolor": "#E5ECF6",
           "caxis": {
            "gridcolor": "white",
            "linecolor": "white",
            "ticks": ""
           }
          },
          "title": {
           "x": 0.05
          },
          "xaxis": {
           "automargin": true,
           "gridcolor": "white",
           "linecolor": "white",
           "ticks": "",
           "title": {
            "standoff": 15
           },
           "zerolinecolor": "white",
           "zerolinewidth": 2
          },
          "yaxis": {
           "automargin": true,
           "gridcolor": "white",
           "linecolor": "white",
           "ticks": "",
           "title": {
            "standoff": 15
           },
           "zerolinecolor": "white",
           "zerolinewidth": 2
          }
         }
        }
       }
      },
      "text/html": [
       "<div>                            <div id=\"6a87d2f6-8555-4745-a539-5da9b38371ca\" class=\"plotly-graph-div\" style=\"height:525px; width:100%;\"></div>            <script type=\"text/javascript\">                require([\"plotly\"], function(Plotly) {                    window.PLOTLYENV=window.PLOTLYENV || {};                                    if (document.getElementById(\"6a87d2f6-8555-4745-a539-5da9b38371ca\")) {                    Plotly.newPlot(                        \"6a87d2f6-8555-4745-a539-5da9b38371ca\",                        [{\"hovertemplate\":\"x=%{x}<br>y=%{y}<br>z=%{z}<br>label=%{marker.color}<extra></extra>\",\"legendgroup\":\"\",\"marker\":{\"color\":[5,6,6,3,5,5,2,2,2,1,0,6,4,9,6,6,1,2,6,6,3,1,9,3,9,8,2,8,1,8,4,0,4,8,5,2,4,4,3,9,6,5,2,9,7,0,6,4,5,2,2,0,6,1,6,2,7,2,1,8,4,5,7,9,1,2,4,7,8,3,1,6,6,8,5,8,3,9,8,7,4,2,2,6,5,2,3,4,0,4,9,8,6,3,0,6,7,2,2,6,6,1,6,8,0,7,0,9,4,3,4,3,0,3,5,1,2,5,5,3,9,0,5,6,1,7,2,0],\"coloraxis\":\"coloraxis\",\"symbol\":\"circle\",\"size\":5},\"mode\":\"markers+text\",\"name\":\"\",\"scene\":\"scene\",\"showlegend\":false,\"text\":[5.0,6.0,6.0,3.0,5.0,5.0,2.0,2.0,2.0,1.0,0.0,6.0,4.0,9.0,6.0,6.0,1.0,2.0,6.0,6.0,3.0,1.0,9.0,3.0,9.0,8.0,2.0,8.0,1.0,8.0,4.0,0.0,4.0,8.0,5.0,2.0,4.0,4.0,3.0,9.0,6.0,5.0,2.0,9.0,7.0,0.0,6.0,4.0,5.0,2.0,2.0,0.0,6.0,1.0,6.0,2.0,7.0,2.0,1.0,8.0,4.0,5.0,7.0,9.0,1.0,2.0,4.0,7.0,8.0,3.0,1.0,6.0,6.0,8.0,5.0,8.0,3.0,9.0,8.0,7.0,4.0,2.0,2.0,6.0,5.0,2.0,3.0,4.0,0.0,4.0,9.0,8.0,6.0,3.0,0.0,6.0,7.0,2.0,2.0,6.0,6.0,1.0,6.0,8.0,0.0,7.0,0.0,9.0,4.0,3.0,4.0,3.0,0.0,3.0,5.0,1.0,2.0,5.0,5.0,3.0,9.0,0.0,5.0,6.0,1.0,7.0,2.0,0.0],\"x\":[-0.4928004741668701,-0.27277669310569763,-0.29136499762535095,-0.420720636844635,-0.5169841051101685,-0.5087283253669739,0.5714027881622314,0.4658534526824951,0.5695173740386963,-0.6261833310127258,0.3397863507270813,-0.2819617986679077,0.5339404344558716,0.1862069070339203,-0.3778625726699829,-0.3379993438720703,-0.6291968822479248,0.5543901920318604,-0.29429128766059875,-0.5580289959907532,-0.41635677218437195,-0.6312030553817749,0.19527484476566315,-0.21099695563316345,-0.14061610400676727,-0.6682586073875427,0.6106187701225281,-0.6353722214698792,-0.6305110454559326,-0.6313468217849731,0.5029699802398682,0.35145577788352966,0.5324506759643555,-0.6371057033538818,-0.5208337306976318,0.5315842032432556,0.5086587071418762,0.4724057912826538,-0.5596572756767273,0.18907530605793,-0.3157908320426941,-0.5276259183883667,0.6215803623199463,0.5803051590919495,0.7011579275131226,0.3601398766040802,-0.39285844564437866,0.6515427231788635,-0.4903920888900757,0.523228645324707,0.5697030425071716,0.23162740468978882,-0.29079538583755493,-0.6268272995948792,-0.2946385443210602,0.5506397485733032,0.6986837387084961,0.6234170198440552,-0.6164354085922241,-0.6235669255256653,0.3885599374771118,-0.5041053891181946,0.7005590200424194,0.18829740583896637,-0.6241457462310791,0.49402326345443726,0.5576866865158081,0.6966359615325928,-0.6406965851783752,-0.36635929346084595,-0.6337385773658752,-0.3368666470050812,-0.3220468759536743,-0.6219391822814941,-0.49509236216545105,-0.609356701374054,-0.533667266368866,0.21543022990226746,-0.5744374990463257,0.7008824944496155,0.5666086673736572,0.5389050841331482,0.5769062638282776,-0.34707725048065186,-0.5310818552970886,0.5517218708992004,-0.43995431065559387,0.49230700731277466,0.36665239930152893,0.508800745010376,0.21006494760513306,-0.5570405721664429,-0.2713472545146942,-0.4797631800174713,0.36784783005714417,-0.33129504323005676,0.6882233023643494,0.5650269985198975,0.5674411058425903,-0.34615522623062134,-0.31462880969047546,-0.609872043132782,-0.34111079573631287,-0.6213457584381104,0.36080703139305115,0.7051833868026733,0.35370972752571106,0.3712112307548523,0.5605739951133728,-0.39499425888061523,0.485694944858551,-0.4062913954257965,0.3421066403388977,-0.42102569341659546,-0.6672979593276978,-0.6302197575569153,0.46786952018737793,-0.5273095369338989,-0.5173929929733276,-0.4066111147403717,0.20136989653110504,0.3509540557861328,-0.4844730496406555,-0.28494057059288025,-0.6343483328819275,0.7007841467857361,0.5446370244026184,0.39627107977867126],\"y\":[0.7621222734451294,-0.16645865142345428,-0.1446346491575241,0.019727036356925964,0.7681841254234314,0.7662889957427979,-0.25145605206489563,-0.08333859592676163,-0.24812568724155426,0.3567376136779785,-0.6963303685188293,-0.1557249128818512,-0.187905952334404,0.26309576630592346,-0.03738614171743393,-0.0880398154258728,0.3631517291069031,-0.22194264829158783,-0.14116203784942627,0.22815735638141632,0.013774586841464043,0.3674702048301697,0.2533400058746338,-0.236227884888649,0.5635713338851929,0.7438399195671082,-0.32484129071235657,0.7650360465049744,0.36597615480422974,0.7665973901748657,-0.13885825872421265,-0.7026696801185608,-0.18548138439655304,0.7643102407455444,0.7690023183822632,-0.18407447636127472,-0.14766523241996765,-0.09291107207536697,0.23095467686653137,0.2600187361240387,-0.11533115059137344,0.7703397274017334,-0.34709876775741577,-0.7752701640129089,-0.6807134747505188,-0.7072662115097046,-0.017734142020344734,-0.41384655237197876,0.7614368796348572,-0.17062658071517944,-0.24845296144485474,-0.6295647025108337,-0.1453094333410263,0.3581010401248932,-0.1407492756843567,-0.21558965742588043,-0.6906577348709106,-0.35092249512672424,0.3365362286567688,0.769163966178894,0.023402443155646324,0.7651469707489014,-0.6833767294883728,0.260854035615921,0.3524477481842041,-0.12517639994621277,-0.22757047414779663,-0.6973128914833069,0.7626978158950806,-0.052233513444662094,0.3729858696460724,-0.0894472599029541,-0.10770729184150696,0.7696316242218018,0.7627614140510559,0.7725312113761902,0.18746080994606018,0.23135687410831451,0.7752764821052551,-0.681963324546814,-0.24301806092262268,-0.19603747129440308,-0.26126837730407715,-0.07669826596975327,0.7709665298461914,-0.21741724014282227,0.0463634692132473,-0.12257438898086548,-0.7106437683105469,-0.1478862464427948,0.23724941909313202,0.7744040489196777,-0.16812041401863098,0.10377169400453568,-0.7112572193145752,-0.09634566307067871,-0.7171018719673157,-0.24025584757328033,-0.2444761097431183,-0.07785532623529434,-0.11674182862043381,0.32335788011550903,-0.08416488021612167,0.76979660987854,-0.7076149582862854,-0.6513721942901611,-0.703872799873352,0.04599456489086151,-0.2325342893600464,-0.01490692887455225,-0.11261709034442902,0.00016758312995079905,-0.6976054906845093,0.020144380629062653,0.7447528839111328,0.3653486967086792,-0.08627407252788544,0.7702805399894714,0.7682730555534363,0.0005972534418106079,0.24673600494861603,-0.7024009823799133,0.7596932649612427,-0.15222293138504028,0.3743220865726471,-0.682398796081543,-0.20552794635295868,-0.725217342376709],\"z\":[0.4199015200138092,-0.9475676417350769,-0.945614755153656,-0.9069757461547852,0.3776513636112213,0.39242416620254517,0.7811969518661499,0.8809285759925842,0.7836348414421082,-0.6932767629623413,-0.6321941018104553,-0.9467033743858337,0.8243779540061951,0.9466295838356018,-0.9251065850257874,-0.9370194673538208,-0.6871914267539978,0.8021177649497986,-0.9452332258224487,-0.7978394031524658,-0.9090969562530518,-0.6830434203147888,0.9474632143974304,-0.9485129117965698,0.8140113353729248,-0.011515885591506958,0.7222346067428589,0.10498610883951187,-0.6844831705093384,0.11717402189970016,0.8530765175819397,-0.6186550855636597,0.8258891701698303,0.0996301993727684,0.37063148617744446,0.8267616629600525,0.8482106328010559,0.8764703273773193,-0.7958917617797852,0.9469111561775208,-0.9417934417724609,0.35803288221359253,0.7022536993026733,-0.2494034469127655,0.21214772760868073,-0.608336865901947,-0.9194279909133911,0.6357854008674622,0.42394521832466125,0.8349361419677734,0.7833961248397827,-0.7416177988052368,-0.9456866383552551,-0.6919907927513123,-0.9451866745948792,0.8064222931861877,0.18663576245307922,0.698716402053833,-0.7118642330169678,0.1398252248764038,0.9211261868476868,0.40053436160087585,0.20545868575572968,0.9468364119529724,-0.6972966194152832,0.8603905439376831,0.7982463836669922,0.1686801165342331,0.08831742405891418,-0.9290062189102173,-0.6776849627494812,-0.9372940063476562,-0.94057697057724,0.14442533254623413,0.4160271883010864,0.17854946851730347,-0.8246561288833618,0.948716938495636,0.26261740922927856,0.20902112126350403,0.7873353362083435,0.8192378282546997,0.7738978862762451,-0.9346950054168701,0.3515147864818573,0.8051910996437073,-0.8968225121498108,0.8617478609085083,-0.6004593372344971,0.848086953163147,0.9484648108482361,0.3000071346759796,-0.947684645652771,-0.8712397813796997,-0.599000096321106,-0.9385952949523926,0.1100618988275528,0.7893171310424805,0.7862836718559265,-0.9349412322044373,-0.9420085549354553,-0.7235300540924072,-0.9362476468086243,0.1460913121700287,-0.6075354218482971,0.28005483746528625,-0.6159971952438354,0.9274085760116577,0.7947858572006226,-0.918562650680542,0.8668436408042908,-0.9137435555458069,-0.6295312643051147,-0.9068249464035034,-0.007523489650338888,-0.6850863695144653,0.879576563835144,0.35862594842910767,0.3769097328186035,-0.9136011004447937,0.947930097579956,-0.6192447543144226,0.433764785528183,-0.9463810324668884,-0.6763765215873718,0.20792655646800995,0.8130982518196106,-0.5630533695220947],\"type\":\"scatter3d\"}],                        {\"template\":{\"data\":{\"histogram2dcontour\":[{\"type\":\"histogram2dcontour\",\"colorbar\":{\"outlinewidth\":0,\"ticks\":\"\"},\"colorscale\":[[0.0,\"#0d0887\"],[0.1111111111111111,\"#46039f\"],[0.2222222222222222,\"#7201a8\"],[0.3333333333333333,\"#9c179e\"],[0.4444444444444444,\"#bd3786\"],[0.5555555555555556,\"#d8576b\"],[0.6666666666666666,\"#ed7953\"],[0.7777777777777778,\"#fb9f3a\"],[0.8888888888888888,\"#fdca26\"],[1.0,\"#f0f921\"]]}],\"choropleth\":[{\"type\":\"choropleth\",\"colorbar\":{\"outlinewidth\":0,\"ticks\":\"\"}}],\"histogram2d\":[{\"type\":\"histogram2d\",\"colorbar\":{\"outlinewidth\":0,\"ticks\":\"\"},\"colorscale\":[[0.0,\"#0d0887\"],[0.1111111111111111,\"#46039f\"],[0.2222222222222222,\"#7201a8\"],[0.3333333333333333,\"#9c179e\"],[0.4444444444444444,\"#bd3786\"],[0.5555555555555556,\"#d8576b\"],[0.6666666666666666,\"#ed7953\"],[0.7777777777777778,\"#fb9f3a\"],[0.8888888888888888,\"#fdca26\"],[1.0,\"#f0f921\"]]}],\"heatmap\":[{\"type\":\"heatmap\",\"colorbar\":{\"outlinewidth\":0,\"ticks\":\"\"},\"colorscale\":[[0.0,\"#0d0887\"],[0.1111111111111111,\"#46039f\"],[0.2222222222222222,\"#7201a8\"],[0.3333333333333333,\"#9c179e\"],[0.4444444444444444,\"#bd3786\"],[0.5555555555555556,\"#d8576b\"],[0.6666666666666666,\"#ed7953\"],[0.7777777777777778,\"#fb9f3a\"],[0.8888888888888888,\"#fdca26\"],[1.0,\"#f0f921\"]]}],\"heatmapgl\":[{\"type\":\"heatmapgl\",\"colorbar\":{\"outlinewidth\":0,\"ticks\":\"\"},\"colorscale\":[[0.0,\"#0d0887\"],[0.1111111111111111,\"#46039f\"],[0.2222222222222222,\"#7201a8\"],[0.3333333333333333,\"#9c179e\"],[0.4444444444444444,\"#bd3786\"],[0.5555555555555556,\"#d8576b\"],[0.6666666666666666,\"#ed7953\"],[0.7777777777777778,\"#fb9f3a\"],[0.8888888888888888,\"#fdca26\"],[1.0,\"#f0f921\"]]}],\"contourcarpet\":[{\"type\":\"contourcarpet\",\"colorbar\":{\"outlinewidth\":0,\"ticks\":\"\"}}],\"contour\":[{\"type\":\"contour\",\"colorbar\":{\"outlinewidth\":0,\"ticks\":\"\"},\"colorscale\":[[0.0,\"#0d0887\"],[0.1111111111111111,\"#46039f\"],[0.2222222222222222,\"#7201a8\"],[0.3333333333333333,\"#9c179e\"],[0.4444444444444444,\"#bd3786\"],[0.5555555555555556,\"#d8576b\"],[0.6666666666666666,\"#ed7953\"],[0.7777777777777778,\"#fb9f3a\"],[0.8888888888888888,\"#fdca26\"],[1.0,\"#f0f921\"]]}],\"surface\":[{\"type\":\"surface\",\"colorbar\":{\"outlinewidth\":0,\"ticks\":\"\"},\"colorscale\":[[0.0,\"#0d0887\"],[0.1111111111111111,\"#46039f\"],[0.2222222222222222,\"#7201a8\"],[0.3333333333333333,\"#9c179e\"],[0.4444444444444444,\"#bd3786\"],[0.5555555555555556,\"#d8576b\"],[0.6666666666666666,\"#ed7953\"],[0.7777777777777778,\"#fb9f3a\"],[0.8888888888888888,\"#fdca26\"],[1.0,\"#f0f921\"]]}],\"mesh3d\":[{\"type\":\"mesh3d\",\"colorbar\":{\"outlinewidth\":0,\"ticks\":\"\"}}],\"scatter\":[{\"fillpattern\":{\"fillmode\":\"overlay\",\"size\":10,\"solidity\":0.2},\"type\":\"scatter\"}],\"parcoords\":[{\"type\":\"parcoords\",\"line\":{\"colorbar\":{\"outlinewidth\":0,\"ticks\":\"\"}}}],\"scatterpolargl\":[{\"type\":\"scatterpolargl\",\"marker\":{\"colorbar\":{\"outlinewidth\":0,\"ticks\":\"\"}}}],\"bar\":[{\"error_x\":{\"color\":\"#2a3f5f\"},\"error_y\":{\"color\":\"#2a3f5f\"},\"marker\":{\"line\":{\"color\":\"#E5ECF6\",\"width\":0.5},\"pattern\":{\"fillmode\":\"overlay\",\"size\":10,\"solidity\":0.2}},\"type\":\"bar\"}],\"scattergeo\":[{\"type\":\"scattergeo\",\"marker\":{\"colorbar\":{\"outlinewidth\":0,\"ticks\":\"\"}}}],\"scatterpolar\":[{\"type\":\"scatterpolar\",\"marker\":{\"colorbar\":{\"outlinewidth\":0,\"ticks\":\"\"}}}],\"histogram\":[{\"marker\":{\"pattern\":{\"fillmode\":\"overlay\",\"size\":10,\"solidity\":0.2}},\"type\":\"histogram\"}],\"scattergl\":[{\"type\":\"scattergl\",\"marker\":{\"colorbar\":{\"outlinewidth\":0,\"ticks\":\"\"}}}],\"scatter3d\":[{\"type\":\"scatter3d\",\"line\":{\"colorbar\":{\"outlinewidth\":0,\"ticks\":\"\"}},\"marker\":{\"colorbar\":{\"outlinewidth\":0,\"ticks\":\"\"}}}],\"scattermapbox\":[{\"type\":\"scattermapbox\",\"marker\":{\"colorbar\":{\"outlinewidth\":0,\"ticks\":\"\"}}}],\"scatterternary\":[{\"type\":\"scatterternary\",\"marker\":{\"colorbar\":{\"outlinewidth\":0,\"ticks\":\"\"}}}],\"scattercarpet\":[{\"type\":\"scattercarpet\",\"marker\":{\"colorbar\":{\"outlinewidth\":0,\"ticks\":\"\"}}}],\"carpet\":[{\"aaxis\":{\"endlinecolor\":\"#2a3f5f\",\"gridcolor\":\"white\",\"linecolor\":\"white\",\"minorgridcolor\":\"white\",\"startlinecolor\":\"#2a3f5f\"},\"baxis\":{\"endlinecolor\":\"#2a3f5f\",\"gridcolor\":\"white\",\"linecolor\":\"white\",\"minorgridcolor\":\"white\",\"startlinecolor\":\"#2a3f5f\"},\"type\":\"carpet\"}],\"table\":[{\"cells\":{\"fill\":{\"color\":\"#EBF0F8\"},\"line\":{\"color\":\"white\"}},\"header\":{\"fill\":{\"color\":\"#C8D4E3\"},\"line\":{\"color\":\"white\"}},\"type\":\"table\"}],\"barpolar\":[{\"marker\":{\"line\":{\"color\":\"#E5ECF6\",\"width\":0.5},\"pattern\":{\"fillmode\":\"overlay\",\"size\":10,\"solidity\":0.2}},\"type\":\"barpolar\"}],\"pie\":[{\"automargin\":true,\"type\":\"pie\"}]},\"layout\":{\"autotypenumbers\":\"strict\",\"colorway\":[\"#636efa\",\"#EF553B\",\"#00cc96\",\"#ab63fa\",\"#FFA15A\",\"#19d3f3\",\"#FF6692\",\"#B6E880\",\"#FF97FF\",\"#FECB52\"],\"font\":{\"color\":\"#2a3f5f\"},\"hovermode\":\"closest\",\"hoverlabel\":{\"align\":\"left\"},\"paper_bgcolor\":\"white\",\"plot_bgcolor\":\"#E5ECF6\",\"polar\":{\"bgcolor\":\"#E5ECF6\",\"angularaxis\":{\"gridcolor\":\"white\",\"linecolor\":\"white\",\"ticks\":\"\"},\"radialaxis\":{\"gridcolor\":\"white\",\"linecolor\":\"white\",\"ticks\":\"\"}},\"ternary\":{\"bgcolor\":\"#E5ECF6\",\"aaxis\":{\"gridcolor\":\"white\",\"linecolor\":\"white\",\"ticks\":\"\"},\"baxis\":{\"gridcolor\":\"white\",\"linecolor\":\"white\",\"ticks\":\"\"},\"caxis\":{\"gridcolor\":\"white\",\"linecolor\":\"white\",\"ticks\":\"\"}},\"coloraxis\":{\"colorbar\":{\"outlinewidth\":0,\"ticks\":\"\"}},\"colorscale\":{\"sequential\":[[0.0,\"#0d0887\"],[0.1111111111111111,\"#46039f\"],[0.2222222222222222,\"#7201a8\"],[0.3333333333333333,\"#9c179e\"],[0.4444444444444444,\"#bd3786\"],[0.5555555555555556,\"#d8576b\"],[0.6666666666666666,\"#ed7953\"],[0.7777777777777778,\"#fb9f3a\"],[0.8888888888888888,\"#fdca26\"],[1.0,\"#f0f921\"]],\"sequentialminus\":[[0.0,\"#0d0887\"],[0.1111111111111111,\"#46039f\"],[0.2222222222222222,\"#7201a8\"],[0.3333333333333333,\"#9c179e\"],[0.4444444444444444,\"#bd3786\"],[0.5555555555555556,\"#d8576b\"],[0.6666666666666666,\"#ed7953\"],[0.7777777777777778,\"#fb9f3a\"],[0.8888888888888888,\"#fdca26\"],[1.0,\"#f0f921\"]],\"diverging\":[[0,\"#8e0152\"],[0.1,\"#c51b7d\"],[0.2,\"#de77ae\"],[0.3,\"#f1b6da\"],[0.4,\"#fde0ef\"],[0.5,\"#f7f7f7\"],[0.6,\"#e6f5d0\"],[0.7,\"#b8e186\"],[0.8,\"#7fbc41\"],[0.9,\"#4d9221\"],[1,\"#276419\"]]},\"xaxis\":{\"gridcolor\":\"white\",\"linecolor\":\"white\",\"ticks\":\"\",\"title\":{\"standoff\":15},\"zerolinecolor\":\"white\",\"automargin\":true,\"zerolinewidth\":2},\"yaxis\":{\"gridcolor\":\"white\",\"linecolor\":\"white\",\"ticks\":\"\",\"title\":{\"standoff\":15},\"zerolinecolor\":\"white\",\"automargin\":true,\"zerolinewidth\":2},\"scene\":{\"xaxis\":{\"backgroundcolor\":\"#E5ECF6\",\"gridcolor\":\"white\",\"linecolor\":\"white\",\"showbackground\":true,\"ticks\":\"\",\"zerolinecolor\":\"white\",\"gridwidth\":2},\"yaxis\":{\"backgroundcolor\":\"#E5ECF6\",\"gridcolor\":\"white\",\"linecolor\":\"white\",\"showbackground\":true,\"ticks\":\"\",\"zerolinecolor\":\"white\",\"gridwidth\":2},\"zaxis\":{\"backgroundcolor\":\"#E5ECF6\",\"gridcolor\":\"white\",\"linecolor\":\"white\",\"showbackground\":true,\"ticks\":\"\",\"zerolinecolor\":\"white\",\"gridwidth\":2}},\"shapedefaults\":{\"line\":{\"color\":\"#2a3f5f\"}},\"annotationdefaults\":{\"arrowcolor\":\"#2a3f5f\",\"arrowhead\":0,\"arrowwidth\":1},\"geo\":{\"bgcolor\":\"white\",\"landcolor\":\"#E5ECF6\",\"subunitcolor\":\"white\",\"showland\":true,\"showlakes\":true,\"lakecolor\":\"white\"},\"title\":{\"x\":0.05},\"mapbox\":{\"style\":\"light\"}}},\"scene\":{\"domain\":{\"x\":[0.0,1.0],\"y\":[0.0,1.0]},\"xaxis\":{\"title\":{\"text\":\"x\"}},\"yaxis\":{\"title\":{\"text\":\"y\"}},\"zaxis\":{\"title\":{\"text\":\"z\"}}},\"coloraxis\":{\"colorbar\":{\"title\":{\"text\":\"label\"}},\"colorscale\":[[0.0,\"#0d0887\"],[0.1111111111111111,\"#46039f\"],[0.2222222222222222,\"#7201a8\"],[0.3333333333333333,\"#9c179e\"],[0.4444444444444444,\"#bd3786\"],[0.5555555555555556,\"#d8576b\"],[0.6666666666666666,\"#ed7953\"],[0.7777777777777778,\"#fb9f3a\"],[0.8888888888888888,\"#fdca26\"],[1.0,\"#f0f921\"]]},\"legend\":{\"tracegroupgap\":0},\"margin\":{\"t\":60}},                        {\"responsive\": true}                    ).then(function(){\n",
       "                            \n",
       "var gd = document.getElementById('6a87d2f6-8555-4745-a539-5da9b38371ca');\n",
       "var x = new MutationObserver(function (mutations, observer) {{\n",
       "        var display = window.getComputedStyle(gd).display;\n",
       "        if (!display || display === 'none') {{\n",
       "            console.log([gd, 'removed!']);\n",
       "            Plotly.purge(gd);\n",
       "            observer.disconnect();\n",
       "        }}\n",
       "}});\n",
       "\n",
       "// Listen for the removal of the full notebook cells\n",
       "var notebookContainer = gd.closest('#notebook-container');\n",
       "if (notebookContainer) {{\n",
       "    x.observe(notebookContainer, {childList: true});\n",
       "}}\n",
       "\n",
       "// Listen for the clearing of the current output cell\n",
       "var outputEl = gd.closest('.output');\n",
       "if (outputEl) {{\n",
       "    x.observe(outputEl, {childList: true});\n",
       "}}\n",
       "\n",
       "                        })                };                });            </script>        </div>"
      ]
     },
     "metadata": {},
     "output_type": "display_data"
    }
   ],
   "source": [
    "projected_points = project_to_2D_unit_circle(embeds)\n",
    "df = pd.DataFrame({'x': projected_points[:, 0], \n",
    "                   'y': projected_points[:, 1], \n",
    "                   'z': projected_points[:, 2], \n",
    "                   'label': batch_labels.numpy()})\n",
    "\n",
    "fig = px.scatter_3d(df, x='x', y='y', z='z',\n",
    "                      color='label', text='label')\n",
    "fig.update_traces(marker_size = 5)\n",
    "fig.show()"
   ]
  },
  {
   "cell_type": "markdown",
   "id": "fc5385f0",
   "metadata": {},
   "source": [
    "## Accuracy over test images"
   ]
  },
  {
   "cell_type": "code",
   "execution_count": 359,
   "id": "afe69ae9",
   "metadata": {},
   "outputs": [],
   "source": [
    "def accuracy_over_test_images(mnist_net, tag='original'):\n",
    "    correct = 0\n",
    "    total = 0\n",
    "    # since we're not training, we don't need to calculate the gradients for our outputs\n",
    "    with torch.no_grad():\n",
    "        for images, labels in data_loader:\n",
    "            images = images.to(device); labels = labels.to(device)\n",
    "            # calculate outputs by running images through the network\n",
    "            outputs = mnist_net(images)\n",
    "            # the class with the highest energy is what we choose as prediction\n",
    "            _, predicted = torch.max(outputs.data, 1)\n",
    "            total += labels.size(0)\n",
    "            correct += (predicted == labels).sum().item()\n",
    "\n",
    "    print(f'Accuracy of the ' +  tag +  ' network on the '+ str(total) +' test images: '+ str(100 * correct // total)+ '%')"
   ]
  },
  {
   "cell_type": "code",
   "execution_count": 360,
   "id": "283671bb",
   "metadata": {
    "scrolled": true
   },
   "outputs": [
    {
     "name": "stdout",
     "output_type": "stream",
     "text": [
      "Accuracy of the modified network on the 10000 test images: 66%\n"
     ]
    }
   ],
   "source": [
    "accuracy_over_test_images(mnist_net, tag='modified')"
   ]
  },
  {
   "cell_type": "code",
   "execution_count": 79,
   "id": "1279a9ae",
   "metadata": {
    "scrolled": true
   },
   "outputs": [
    {
     "name": "stdout",
     "output_type": "stream",
     "text": [
      "Accuracy of the original network on the 10000 test images: 97%\n"
     ]
    }
   ],
   "source": [
    "# accuracy_over_test_images(original_mnist_net)\n",
    "# Accuracy of the original network on the 10000 test images: 97%"
   ]
  },
  {
   "cell_type": "code",
   "execution_count": null,
   "id": "79858db0",
   "metadata": {},
   "outputs": [],
   "source": []
  }
 ],
 "metadata": {
  "kernelspec": {
   "display_name": "Python 3 (ipykernel)",
   "language": "python",
   "name": "python3"
  },
  "language_info": {
   "codemirror_mode": {
    "name": "ipython",
    "version": 3
   },
   "file_extension": ".py",
   "mimetype": "text/x-python",
   "name": "python",
   "nbconvert_exporter": "python",
   "pygments_lexer": "ipython3",
   "version": "3.7.16"
  }
 },
 "nbformat": 4,
 "nbformat_minor": 5
}
