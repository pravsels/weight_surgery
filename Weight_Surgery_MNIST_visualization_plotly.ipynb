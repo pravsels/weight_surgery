{
 "cells": [
  {
   "cell_type": "markdown",
   "id": "65791bdc",
   "metadata": {},
   "source": [
    "# MNIST Embeddings"
   ]
  },
  {
   "cell_type": "markdown",
   "id": "a8a44dcf",
   "metadata": {},
   "source": [
    "## Imports and Hyper-parameters "
   ]
  },
  {
   "cell_type": "code",
   "execution_count": 338,
   "id": "9f195be0",
   "metadata": {},
   "outputs": [
    {
     "name": "stdout",
     "output_type": "stream",
     "text": [
      "/home/praveens/Desktop/synthetic_biometrics/visualize_embeddings\n"
     ]
    }
   ],
   "source": [
    "import torch \n",
    "import os \n",
    "import numpy as np \n",
    "from torchvision import transforms \n",
    "from torchvision.datasets import MNIST \n",
    "from torchvision import models \n",
    "\n",
    "print(os.getcwd())\n",
    "root = os.getcwd()\n",
    "\n",
    "from DeepFeatures import DeepFeatures\n",
    "from mnist_net import Net\n",
    "\n",
    "from sklearn.ensemble import IsolationForest\n",
    "import plotly.express as px\n",
    "import pandas as pd"
   ]
  },
  {
   "cell_type": "code",
   "execution_count": 339,
   "id": "fae1b25d",
   "metadata": {},
   "outputs": [],
   "source": [
    "batch_size = 128\n",
    "data_folder = root + '/MNIST'\n",
    "device = 'cpu'\n",
    "model_path = './mnist_net.pth'\n",
    "\n",
    "merge_class1 = 2\n",
    "merge_class2 = 4"
   ]
  },
  {
   "cell_type": "markdown",
   "id": "2e460bd2",
   "metadata": {},
   "source": [
    "## Create Dataloader"
   ]
  },
  {
   "cell_type": "code",
   "execution_count": 340,
   "id": "860de05b",
   "metadata": {},
   "outputs": [],
   "source": [
    "transformations = transforms.Compose([transforms.Resize((221, 221)),\n",
    "                                      transforms.ToTensor(),\n",
    "                                      transforms.Normalize(mean=[0.485], std=[0.229])\n",
    "                                    ])\n",
    "\n",
    "mnist_data = MNIST(root=r'./MNIST',\n",
    "                   download=False, # change to True to download MNIST data\n",
    "                   train=False, \n",
    "                   transform=transformations)\n",
    "\n",
    "data_loader = torch.utils.data.DataLoader(mnist_data,\n",
    "                                          batch_size=batch_size,\n",
    "                                          shuffle=True)"
   ]
  },
  {
   "cell_type": "code",
   "execution_count": 341,
   "id": "74a9d075",
   "metadata": {},
   "outputs": [
    {
     "data": {
      "text/plain": [
       "Dataset MNIST\n",
       "    Number of datapoints: 10000\n",
       "    Root location: ./MNIST\n",
       "    Split: Test\n",
       "    StandardTransform\n",
       "Transform: Compose(\n",
       "               Resize(size=(221, 221), interpolation=bilinear, max_size=None, antialias=None)\n",
       "               ToTensor()\n",
       "               Normalize(mean=[0.485], std=[0.229])\n",
       "           )"
      ]
     },
     "execution_count": 341,
     "metadata": {},
     "output_type": "execute_result"
    }
   ],
   "source": [
    "mnist_data"
   ]
  },
  {
   "cell_type": "code",
   "execution_count": 342,
   "id": "17645ff9",
   "metadata": {},
   "outputs": [],
   "source": [
    "# list(mnist_net.named_parameters())"
   ]
  },
  {
   "cell_type": "markdown",
   "id": "b9e14939",
   "metadata": {},
   "source": [
    "## Initialize Tensorboard Logging Class "
   ]
  },
  {
   "cell_type": "code",
   "execution_count": 497,
   "id": "d275c88e",
   "metadata": {
    "scrolled": true
   },
   "outputs": [
    {
     "data": {
      "text/plain": [
       "Net(\n",
       "  (conv1): Conv2d(1, 8, kernel_size=(2, 2), stride=(1, 1))\n",
       "  (conv2): Conv2d(8, 16, kernel_size=(2, 2), stride=(1, 1))\n",
       "  (conv3): Conv2d(16, 32, kernel_size=(2, 2), stride=(1, 1))\n",
       "  (conv4): Conv2d(32, 64, kernel_size=(2, 2), stride=(1, 1))\n",
       "  (pool): MaxPool2d(kernel_size=2, stride=2, padding=0, dilation=1, ceil_mode=False)\n",
       "  (fc1): Linear(in_features=9216, out_features=128, bias=True)\n",
       "  (fc2): Linear(in_features=128, out_features=64, bias=True)\n",
       "  (fc3): Linear(in_features=64, out_features=3, bias=True)\n",
       "  (fc4): Linear(in_features=3, out_features=3, bias=True)\n",
       "  (fc5): Linear(in_features=3, out_features=10, bias=True)\n",
       ")"
      ]
     },
     "execution_count": 497,
     "metadata": {},
     "output_type": "execute_result"
    }
   ],
   "source": [
    "mnist_net = Net().to(device)\n",
    "mnist_net.load_state_dict(torch.load(model_path, map_location=torch.device(device)))  # load saved model \n",
    "\n",
    "mnist_net.eval()"
   ]
  },
  {
   "cell_type": "code",
   "execution_count": 498,
   "id": "70ae5433",
   "metadata": {},
   "outputs": [],
   "source": [
    "deep_features = DeepFeatures(model=mnist_net)"
   ]
  },
  {
   "cell_type": "code",
   "execution_count": 397,
   "id": "c1c86b24",
   "metadata": {},
   "outputs": [],
   "source": [
    "def filter_by_classes(data_loader, cl1, cl2):\n",
    "    \n",
    "    class1 = torch.tensor(cl1)\n",
    "    class2 = torch.tensor(cl2)\n",
    "    \n",
    "    class1_images = []\n",
    "    class2_images = []\n",
    "    \n",
    "    for images, labels in data_loader: \n",
    "        class1_images.extend(images[labels == class1])\n",
    "        class2_images.extend(images[labels == class2])\n",
    "        \n",
    "    class1_images = torch.stack(class1_images)\n",
    "    class2_images = torch.stack(class2_images)\n",
    "        \n",
    "    return class1_images, class2_images"
   ]
  },
  {
   "cell_type": "code",
   "execution_count": 398,
   "id": "3f9fe549",
   "metadata": {},
   "outputs": [],
   "source": [
    "def find_class_embeddings(deep_features, data_loader, cl1, cl2):\n",
    "    images1, images2 = filter_by_classes(data_loader, cl1, cl2)\n",
    "    \n",
    "    e1 = deep_features.generate_embeddings(images1).clone().detach()\n",
    "    e2 = deep_features.generate_embeddings(images2).clone().detach()\n",
    "    \n",
    "    model_if = IsolationForest(random_state=42)\n",
    "    model_if.fit(e1.numpy())\n",
    "    e1_anomaly = model_if.predict(e1)\n",
    "    \n",
    "    model_if.fit(e2.numpy())\n",
    "    e2_anomaly = model_if.predict(e2)\n",
    "    \n",
    "    # keeping the inliers \n",
    "    e1 = e1[e1_anomaly==1]\n",
    "    print('inliers for ' + str(cl1) + ' : ', e1.shape[0])\n",
    "    e2 = e2[e2_anomaly==1]\n",
    "    print('inliers for ' + str(cl2) + ' : ', e2.shape[0])\n",
    "    \n",
    "    ################## STEP 1: finding centroid of the 2 class embeddings  \n",
    "    class1_mean = torch.mean(e1, dim=0)    # squish multiple rows to get mean \n",
    "    class2_mean = torch.mean(e2, dim=0)\n",
    "\n",
    "    class1_normed = class1_mean/torch.norm(class1_mean)\n",
    "    class2_normed = class2_mean/torch.norm(class2_mean)\n",
    "    \n",
    "    print('val of centroid of class ' + str(cl1) + ' : ', class1_normed)\n",
    "    print('val of centroid of class ' + str(cl2)  + ' : ', class2_normed)\n",
    "    print('cosine similarity : ', (torch.dot(class1_normed, class2_normed)/torch.linalg.norm(class1_normed)*torch.linalg.norm(class2_normed)))\n",
    "    \n",
    "    return class1_normed, class2_normed"
   ]
  },
  {
   "cell_type": "code",
   "execution_count": 399,
   "id": "262262cf",
   "metadata": {
    "scrolled": true
   },
   "outputs": [
    {
     "name": "stdout",
     "output_type": "stream",
     "text": [
      "inliers for 2 :  901\n",
      "inliers for 4 :  845\n",
      "val of centroid of class 2 :  tensor([0.9770, 0.1262, 0.1719])\n",
      "val of centroid of class 4 :  tensor([-0.4169, -0.5503,  0.7235])\n",
      "cosine similarity :  tensor(-0.3524)\n"
     ]
    }
   ],
   "source": [
    "x1, x2 = find_class_embeddings(deep_features, \n",
    "                               data_loader, \n",
    "                               merge_class1, \n",
    "                               merge_class2)"
   ]
  },
  {
   "cell_type": "code",
   "execution_count": 499,
   "id": "eb9a9adf",
   "metadata": {},
   "outputs": [],
   "source": [
    "################## Step 3: calculate change of basis matrix\n",
    "def change_of_basis(wm, d):\n",
    "    ################## The first basis is d, how do we get the other 2 ?    \n",
    "\n",
    "    new_wm = torch.eye(wm.shape[0])\n",
    "    \n",
    "    # replace first column of identity matrix with d \n",
    "    new_wm[:, 0] = d\n",
    "    \n",
    "    print('new weight matrix : ', new_wm)\n",
    "\n",
    "    return new_wm"
   ]
  },
  {
   "cell_type": "code",
   "execution_count": 500,
   "id": "5b80f3e1",
   "metadata": {},
   "outputs": [],
   "source": [
    "def perform_weight_surgery(mnist_net, x1, x2, save_model=True):\n",
    "    \n",
    "    ################## Step 2: calculating difference vector of the 2 classes \n",
    "    # calculate the difference between the 2 class vectors \n",
    "    d = x1 - x2  \n",
    "    print('d : ', d)\n",
    "    d = d/torch.norm(d)\n",
    "    print('normed d : ', d)\n",
    "    weight_matrix = mnist_net.fc4.weight.clone().detach()  # weight matrix of the penultimate layer \n",
    "    print('weight matrix : \\n', weight_matrix)\n",
    "    \n",
    "    ################## Step 3: calculate change of basis matrix \n",
    "    # perform a change of basis, to put d as the first basis \n",
    "    new_wm = change_of_basis(weight_matrix, d)\n",
    "    \n",
    "    # gram schmidt to calculate orthogonal basis vectors \n",
    "    def gram_schmidt(weight_matrix):\n",
    "        ################## d is first basis vector\n",
    "        m, n = weight_matrix.shape\n",
    "        \n",
    "        Q = torch.zeros((m, n))\n",
    "\n",
    "        for i in range(n):\n",
    "\n",
    "            v = weight_matrix[:, i].clone()\n",
    "\n",
    "            for j in range(i):\n",
    "                proj = (v @ torch.outer(Q[:, j], Q[:, j]))\n",
    "                v = v - proj\n",
    "                        \n",
    "            Q[:, i] = v/torch.linalg.norm(v)\n",
    "            \n",
    "        return Q\n",
    "    \n",
    "    ################## Step 4: using Gram-Schmidt to get orthogonal basis vectors \n",
    "    U = gram_schmidt(new_wm)    # \n",
    "    \n",
    "#     U, _ = torch.qr(new_wm)\n",
    "    print('U matrix: ', U)\n",
    "    print('result of U * U_transpose : ', torch.mm(U, U.T))\n",
    "#     print('result of U * U_inv : ', U @ torch.inverse(U))\n",
    "#     print('QR decomp :\\n', Q)\n",
    "    \n",
    "    S = torch.eye(U.shape[0])\n",
    "    S[0, 0] = 1e-5\n",
    "#     S[0, 0] = 0.\n",
    "#     print('matrix S :\\n', S)\n",
    "    \n",
    "    # projection matrix \n",
    "    P_d = torch.mm(torch.mm(U, S), U.T)\n",
    "\n",
    "    print('projection matrix : ', P_d)\n",
    "    \n",
    "    modified_weight_matrix = torch.mm(P_d, weight_matrix)\n",
    "    \n",
    "    print('modified weight matrix :\\n', modified_weight_matrix)\n",
    "    \n",
    "    print('rank of the modified weights matrix : ', torch.linalg.matrix_rank(modified_weight_matrix))\n",
    "    \n",
    "    mnist_net.fc4.weight = torch.nn.Parameter(modified_weight_matrix)\n",
    "    \n",
    "    if save_model: \n",
    "        path = './modified_mnist_net.pth'\n",
    "        torch.save(mnist_net.state_dict(), path)"
   ]
  },
  {
   "cell_type": "code",
   "execution_count": 501,
   "id": "346069de",
   "metadata": {
    "scrolled": false
   },
   "outputs": [
    {
     "name": "stdout",
     "output_type": "stream",
     "text": [
      "d :  tensor([ 1.3939,  0.6765, -0.5516])\n",
      "normed d :  tensor([ 0.8476,  0.4113, -0.3354])\n",
      "weight matrix : \n",
      " tensor([[ 0.4307, -0.1483,  0.8380],\n",
      "        [ 0.0444, -1.0082,  0.3290],\n",
      "        [ 1.0885, -0.1497, -0.8214]])\n",
      "new weight matrix :  tensor([[ 0.8476,  0.0000,  0.0000],\n",
      "        [ 0.4113,  1.0000,  0.0000],\n",
      "        [-0.3354,  0.0000,  1.0000]])\n",
      "U matrix:  tensor([[ 0.8476, -0.3825,  0.3679],\n",
      "        [ 0.4113,  0.9115,  0.0000],\n",
      "        [-0.3354,  0.1513,  0.9298]])\n",
      "result of U * U_transpose :  tensor([[1.0000e+00, 2.9802e-08, 6.7932e-09],\n",
      "        [2.9802e-08, 1.0000e+00, 0.0000e+00],\n",
      "        [6.7932e-09, 0.0000e+00, 1.0000e+00]])\n",
      "projection matrix :  tensor([[ 0.2817, -0.3486,  0.2842],\n",
      "        [-0.3486,  0.8308,  0.1379],\n",
      "        [ 0.2842,  0.1379,  0.8875]])\n",
      "modified weight matrix :\n",
      " tensor([[ 0.4152,  0.2672, -0.1122],\n",
      "        [ 0.0369, -0.8066, -0.1321],\n",
      "        [ 1.0947, -0.3140, -0.4454]])\n",
      "rank of the modified weights matrix :  tensor(3)\n"
     ]
    }
   ],
   "source": [
    "perform_weight_surgery(mnist_net, x1, x2, save_model=True)"
   ]
  },
  {
   "cell_type": "code",
   "execution_count": 502,
   "id": "3754c031",
   "metadata": {},
   "outputs": [],
   "source": [
    "original_mnist_net = Net().to(device)\n",
    "original_mnist_net.load_state_dict(torch.load('./mnist_net.pth', map_location=torch.device(device)))  # load saved model \n",
    "\n",
    "original_mnist_net.eval()\n",
    "\n",
    "original_deep_features = DeepFeatures(model=original_mnist_net)"
   ]
  },
  {
   "cell_type": "code",
   "execution_count": 216,
   "id": "59c38717",
   "metadata": {
    "scrolled": true
   },
   "outputs": [
    {
     "name": "stdout",
     "output_type": "stream",
     "text": [
      "inliers for 2 :  899\n",
      "inliers for 4 :  854\n",
      "val of centroid of class 2 :  tensor([0.9772, 0.1251, 0.1716])\n",
      "val of centroid of class 4 :  tensor([-0.4172, -0.5502,  0.7233])\n",
      "cosine similarity :  tensor(-0.3525)\n"
     ]
    }
   ],
   "source": [
    "_, _ = find_class_embeddings(original_deep_features, data_loader, merge_class1, merge_class2)"
   ]
  },
  {
   "cell_type": "code",
   "execution_count": 503,
   "id": "3e35df1e",
   "metadata": {},
   "outputs": [
    {
     "name": "stdout",
     "output_type": "stream",
     "text": [
      "inliers for 2 :  868\n",
      "inliers for 4 :  869\n",
      "val of centroid of class 2 :  tensor([ 0.2445, -0.4705,  0.8479])\n",
      "val of centroid of class 4 :  tensor([-0.0739, -0.5393,  0.8389])\n",
      "cosine similarity :  tensor(0.9469)\n"
     ]
    }
   ],
   "source": [
    "_, _ = find_class_embeddings(deep_features, data_loader, merge_class1, merge_class2)"
   ]
  },
  {
   "cell_type": "markdown",
   "id": "25a3132c",
   "metadata": {},
   "source": [
    "## View Unmodified Embeddings through Plotly"
   ]
  },
  {
   "cell_type": "code",
   "execution_count": 504,
   "id": "a3968d28",
   "metadata": {},
   "outputs": [],
   "source": [
    "def remove_outliers(embeds, labels):\n",
    "    unique_labels = set(labels.numpy())\n",
    "    \n",
    "    model_if = IsolationForest(random_state=42)\n",
    "    \n",
    "    new_embeds, new_labels = [], []\n",
    "    \n",
    "    for label_x in unique_labels:\n",
    "        embed_x = embeds[labels==label_x]\n",
    "        \n",
    "        model_if.fit(embed_x)\n",
    "        embedx_anomaly = model_if.predict(embed_x)\n",
    "        \n",
    "        embed_x = embed_x[embedx_anomaly == 1]   # keeping inliers \n",
    "        labels_x = [label_x] * embed_x.shape[0]\n",
    "        \n",
    "        new_embeds.extend(embed_x)\n",
    "        new_labels.extend(labels_x)\n",
    "        \n",
    "    return np.stack(new_embeds), np.stack(new_labels)"
   ]
  },
  {
   "cell_type": "code",
   "execution_count": 505,
   "id": "fe72310f",
   "metadata": {},
   "outputs": [],
   "source": [
    "batch_images, batch_labels = next(iter(data_loader))\n",
    "\n",
    "embeds = original_deep_features.generate_embeddings(batch_images.to(device), normalize=True)\n",
    "embeds = embeds.detach().numpy()\n",
    "\n",
    "# new_embeds, new_labels = remove_outliers(embeds, batch_labels)"
   ]
  },
  {
   "cell_type": "code",
   "execution_count": 506,
   "id": "179b2ce4",
   "metadata": {},
   "outputs": [
    {
     "data": {
      "application/vnd.plotly.v1+json": {
       "config": {
        "plotlyServerURL": "https://plot.ly"
       },
       "data": [
        {
         "hovertemplate": "x=%{x}<br>y=%{y}<br>z=%{z}<br>label=%{marker.color}<extra></extra>",
         "legendgroup": "",
         "marker": {
          "color": [
           0,
           3,
           2,
           2,
           6,
           6,
           0,
           1,
           5,
           0,
           1,
           3,
           3,
           2,
           9,
           0,
           4,
           1,
           1,
           8,
           4,
           5,
           9,
           1,
           4,
           6,
           2,
           0,
           0,
           2,
           6,
           8,
           3,
           5,
           1,
           3,
           6,
           1,
           0,
           8,
           7,
           2,
           6,
           8,
           9,
           5,
           1,
           8,
           2,
           7,
           3,
           6,
           0,
           2,
           2,
           6,
           0,
           1,
           6,
           2,
           1,
           2,
           7,
           5,
           2,
           1,
           9,
           4,
           6,
           6,
           6,
           9,
           1,
           6,
           0,
           1,
           1,
           6,
           7,
           3,
           8,
           5,
           0,
           3,
           7,
           2,
           8,
           6,
           0,
           5,
           4,
           7,
           5,
           1,
           3,
           0,
           6,
           4,
           1,
           7,
           2,
           7,
           8,
           5,
           1,
           2,
           0,
           1,
           1,
           3,
           9,
           2,
           4,
           5,
           3,
           6,
           4,
           8,
           3,
           0,
           7,
           5,
           5,
           2,
           2,
           0,
           3,
           4
          ],
          "coloraxis": "coloraxis",
          "size": 5,
          "symbol": "circle"
         },
         "mode": "markers+text",
         "name": "",
         "scene": "scene",
         "showlegend": false,
         "text": [
          0,
          3,
          2,
          2,
          6,
          6,
          0,
          1,
          5,
          0,
          1,
          3,
          3,
          2,
          9,
          0,
          4,
          1,
          1,
          8,
          4,
          5,
          9,
          1,
          4,
          6,
          2,
          0,
          0,
          2,
          6,
          8,
          3,
          5,
          1,
          3,
          6,
          1,
          0,
          8,
          7,
          2,
          6,
          8,
          9,
          5,
          1,
          8,
          2,
          7,
          3,
          6,
          0,
          2,
          2,
          6,
          0,
          1,
          6,
          2,
          1,
          2,
          7,
          5,
          2,
          1,
          9,
          4,
          6,
          6,
          6,
          9,
          1,
          6,
          0,
          1,
          1,
          6,
          7,
          3,
          8,
          5,
          0,
          3,
          7,
          2,
          8,
          6,
          0,
          5,
          4,
          7,
          5,
          1,
          3,
          0,
          6,
          4,
          1,
          7,
          2,
          7,
          8,
          5,
          1,
          2,
          0,
          1,
          1,
          3,
          9,
          2,
          4,
          5,
          3,
          6,
          4,
          8,
          3,
          0,
          7,
          5,
          5,
          2,
          2,
          0,
          3,
          4
         ],
         "type": "scatter3d",
         "x": [
          -0.2544238865375519,
          0.6086866855621338,
          0.754877507686615,
          0.9761841297149658,
          -0.17863596975803375,
          -0.1743052750825882,
          -0.2470606118440628,
          -0.9475225806236267,
          -0.6789399981498718,
          -0.26580944657325745,
          -0.9484591484069824,
          0.6760982871055603,
          0.6128864884376526,
          0.9870404601097107,
          0.28766828775405884,
          -0.2551459074020386,
          -0.5223190188407898,
          -0.9451686143875122,
          -0.940362274646759,
          0.04256601631641388,
          -0.3359922468662262,
          -0.9735519886016846,
          0.25117728114128113,
          -0.9456608891487122,
          -0.46606671810150146,
          -0.10286085307598114,
          0.9873420000076294,
          -0.25929179787635803,
          -0.25932905077934265,
          0.975322425365448,
          -0.13253208994865417,
          0.10096454620361328,
          0.5981812477111816,
          -0.7024575471878052,
          -0.9450131058692932,
          0.8739053010940552,
          -0.2503724992275238,
          -0.9452738165855408,
          -0.24918115139007568,
          -0.41518133878707886,
          0.5776116847991943,
          0.9903820753097534,
          -0.18226101994514465,
          0.061848919838666916,
          0.24738958477973938,
          -0.6871567368507385,
          -0.9393249750137329,
          0.07885167002677917,
          0.9986587166786194,
          0.6065400242805481,
          0.5107529163360596,
          -0.14434993267059326,
          -0.3153607249259949,
          0.9826738834381104,
          0.21208365261554718,
          -0.22153660655021667,
          -0.2848515510559082,
          -0.9480722546577454,
          -0.13278654217720032,
          0.9824373126029968,
          -0.9446644186973572,
          0.9773660898208618,
          0.5992953181266785,
          -0.6842217445373535,
          0.9669718146324158,
          -0.9493081569671631,
          0.3180866837501526,
          -0.3987073004245758,
          -0.17617933452129364,
          -0.17282506823539734,
          -0.10478203743696213,
          -0.3215067684650421,
          -0.9433397054672241,
          -0.1184496358036995,
          -0.23633968830108643,
          -0.9467529654502869,
          -0.9450116157531738,
          -0.1857208013534546,
          0.6061586737632751,
          0.6144981980323792,
          0.2788630425930023,
          -0.7084664702415466,
          -0.2628134489059448,
          0.6248884797096252,
          0.5641343593597412,
          0.9728896021842957,
          -0.13850674033164978,
          -0.1192697286605835,
          -0.27057093381881714,
          -0.6663352847099304,
          -0.43504467606544495,
          0.6033644676208496,
          -0.6786651015281677,
          -0.9386605620384216,
          0.5944349765777588,
          -0.23840248584747314,
          -0.16597884893417358,
          -0.47231295704841614,
          -0.9488052725791931,
          0.5962625741958618,
          0.9791866540908813,
          0.5671464800834656,
          -0.021146541461348534,
          -0.7026035785675049,
          -0.946269690990448,
          0.9759770631790161,
          -0.25046947598457336,
          -0.947158694267273,
          -0.9469137191772461,
          0.8268470168113708,
          0.29161688685417175,
          0.9722793102264404,
          -0.4892594814300537,
          -0.6805883049964905,
          0.5711859464645386,
          -0.13488635420799255,
          -0.41738176345825195,
          0.13217291235923767,
          0.6212189197540283,
          -0.2592310309410095,
          0.5714907646179199,
          -0.7487909197807312,
          -0.7293442487716675,
          0.9406106472015381,
          0.9793075323104858,
          -0.26358890533447266,
          0.6524702310562134,
          -0.38361668586730957
         ],
         "y": [
          -0.9076684713363647,
          0.34927091002464294,
          -0.6550490260124207,
          0.1557808518409729,
          -0.16403108835220337,
          -0.15008662641048431,
          -0.9225764870643616,
          -0.06932171434164047,
          0.5253602266311646,
          -0.923026442527771,
          -0.05906141549348831,
          0.3429359793663025,
          0.3499460816383362,
          0.015537330880761147,
          0.266885906457901,
          -0.9291474223136902,
          -0.45252135396003723,
          -0.09133744239807129,
          -0.12694145739078522,
          0.9792686104774475,
          -0.5975936055183411,
          0.19721567630767822,
          0.24987898766994476,
          -0.08707668632268906,
          -0.5153300166130066,
          -0.19287146627902985,
          -0.1128414049744606,
          -0.9220100045204163,
          -0.9159819483757019,
          0.13155092298984528,
          -0.15179896354675293,
          0.9882320761680603,
          0.41346269845962524,
          0.5290009379386902,
          -0.09265261143445969,
          -0.2612904906272888,
          -0.17581400275230408,
          -0.09043976664543152,
          -0.930241584777832,
          0.6898798942565918,
          -0.6650071740150452,
          0.11734581738710403,
          -0.12294406443834305,
          0.9882332682609558,
          0.22283220291137695,
          0.5267229080200195,
          -0.13360266387462616,
          0.9844483137130737,
          -0.048983730375766754,
          -0.7515843510627747,
          0.27147188782691956,
          -0.1851821392774582,
          -0.8945724964141846,
          0.15241669118404388,
          -0.8729594349861145,
          0.040453605353832245,
          -0.9099098443984985,
          -0.06343642622232437,
          -0.20062406361103058,
          0.10016874223947525,
          -0.09555079787969589,
          0.12426520138978958,
          -0.7674789428710938,
          0.530771791934967,
          0.16160497069358826,
          -0.04861786589026451,
          0.3018767237663269,
          -0.5553268790245056,
          -0.09960850328207016,
          -0.1617516726255417,
          -0.20182140171527863,
          -0.27979856729507446,
          -0.12695638835430145,
          -0.1768152266740799,
          -0.922285258769989,
          -0.07701809704303741,
          -0.0926654040813446,
          -0.17919041216373444,
          -0.765028178691864,
          0.3600479066371918,
          0.9565774202346802,
          0.5297961831092834,
          -0.9193875789642334,
          0.3641788959503174,
          -0.8041980266571045,
          0.13979527354240417,
          0.9896124601364136,
          -0.1828235238790512,
          -0.8935878872871399,
          0.5230953693389893,
          -0.5436529517173767,
          -0.7575609087944031,
          0.5253130197525024,
          -0.23756428062915802,
          0.38645318150520325,
          -0.9317387938499451,
          -0.19240978360176086,
          -0.5528702139854431,
          -0.0549587644636631,
          -0.7652082443237305,
          0.12285284698009491,
          -0.7689568996429443,
          0.990328311920166,
          0.5290209650993347,
          -0.08158251643180847,
          0.13961537182331085,
          -0.9246214628219604,
          -0.07303232699632645,
          -0.0754573717713356,
          0.04665088653564453,
          0.26306241750717163,
          0.15144729614257812,
          -0.5596717596054077,
          0.5256410241127014,
          0.269966721534729,
          -0.14767436683177948,
          -0.5647873878479004,
          0.9865461587905884,
          0.3435744047164917,
          -0.9192787408828735,
          -0.7994219660758972,
          0.533409059047699,
          0.5320719480514526,
          0.17436230182647705,
          0.10264203697443008,
          -0.9228824377059937,
          0.31271758675575256,
          -0.5655056834220886
         ],
         "z": [
          -0.3337758779525757,
          -0.712397575378418,
          -0.032722942531108856,
          0.15098655223846436,
          -0.9701458215713501,
          -0.9731863737106323,
          -0.29633381962776184,
          -0.3120826482772827,
          0.5128714442253113,
          -0.2781502306461334,
          -0.31134700775146484,
          -0.6521396040916443,
          -0.7084545493125916,
          0.1597174108028412,
          0.919792890548706,
          -0.26755499839782715,
          0.7227774262428284,
          -0.3135502338409424,
          -0.3156018853187561,
          -0.1980433613061905,
          0.7280049920082092,
          -0.11533646285533905,
          0.9351312518119812,
          -0.31327804923057556,
          0.7191779017448425,
          -0.9758176803588867,
          0.11145612597465515,
          -0.2875158190727234,
          -0.30614620447158813,
          0.1773146390914917,
          -0.9794857501983643,
          -0.11490611732006073,
          -0.6864603757858276,
          0.47614216804504395,
          -0.31363314390182495,
          -0.4098985493183136,
          -0.9520519971847534,
          -0.31349337100982666,
          -0.2693684697151184,
          -0.5930346846580505,
          0.47342392802238464,
          0.07330343127250671,
          -0.9755335450172424,
          -0.13989180326461792,
          0.9429444670677185,
          0.500378429889679,
          -0.31594130396842957,
          -0.15698371827602386,
          -0.016772115603089333,
          0.25928795337677,
          -0.8157417178153992,
          -0.9720445871353149,
          -0.3166821002960205,
          0.10545685887336731,
          -0.43927475810050964,
          -0.9743126034736633,
          -0.3015356659889221,
          -0.3116647005081177,
          -0.97062748670578,
          0.15742650628089905,
          -0.31381386518478394,
          0.17121219635009766,
          0.22764259576797485,
          0.5001218318939209,
          0.1971023976802826,
          -0.3105646073818207,
          0.8987165093421936,
          0.7298250198364258,
          -0.9793053269386292,
          -0.9715800881385803,
          -0.9738012552261353,
          0.904624879360199,
          -0.3065815269947052,
          -0.9770906567573547,
          -0.3058323562145233,
          -0.3126128613948822,
          -0.3136339485645294,
          -0.9661255478858948,
          0.21749398112297058,
          -0.7019668221473694,
          -0.08482372015714645,
          0.4662523865699768,
          -0.29266971349716187,
          -0.6905709505081177,
          0.18713057041168213,
          0.18423672020435333,
          0.038509149104356766,
          -0.9758844375610352,
          -0.35817888379096985,
          0.5313835740089417,
          0.7177586555480957,
          0.24910399317741394,
          0.5132834315299988,
          -0.24995926022529602,
          -0.7051957845687866,
          -0.2739105522632599,
          -0.967176079750061,
          0.6864801049232483,
          -0.31104370951652527,
          0.24274921417236328,
          0.1615574061870575,
          0.29504284262657166,
          -0.13712233304977417,
          0.4759044349193573,
          -0.31291866302490234,
          0.1672612726688385,
          -0.2869500517845154,
          -0.31234055757522583,
          -0.31250685453414917,
          -0.5604888796806335,
          0.9196508526802063,
          0.178148090839386,
          0.6688741445541382,
          0.5103930830955505,
          -0.7751545906066895,
          -0.9797948002815247,
          0.7119042873382568,
          -0.09621359407901764,
          -0.7043037414550781,
          -0.2961857318878174,
          0.18526437878608704,
          0.39342984557151794,
          0.43006572127342224,
          -0.2912892699241638,
          0.17441719770431519,
          -0.2807292938232422,
          -0.6902827024459839,
          0.7300969362258911
         ]
        }
       ],
       "layout": {
        "coloraxis": {
         "colorbar": {
          "title": {
           "text": "label"
          }
         },
         "colorscale": [
          [
           0,
           "#0d0887"
          ],
          [
           0.1111111111111111,
           "#46039f"
          ],
          [
           0.2222222222222222,
           "#7201a8"
          ],
          [
           0.3333333333333333,
           "#9c179e"
          ],
          [
           0.4444444444444444,
           "#bd3786"
          ],
          [
           0.5555555555555556,
           "#d8576b"
          ],
          [
           0.6666666666666666,
           "#ed7953"
          ],
          [
           0.7777777777777778,
           "#fb9f3a"
          ],
          [
           0.8888888888888888,
           "#fdca26"
          ],
          [
           1,
           "#f0f921"
          ]
         ]
        },
        "legend": {
         "tracegroupgap": 0
        },
        "margin": {
         "t": 60
        },
        "scene": {
         "domain": {
          "x": [
           0,
           1
          ],
          "y": [
           0,
           1
          ]
         },
         "xaxis": {
          "title": {
           "text": "x"
          }
         },
         "yaxis": {
          "title": {
           "text": "y"
          }
         },
         "zaxis": {
          "title": {
           "text": "z"
          }
         }
        },
        "template": {
         "data": {
          "bar": [
           {
            "error_x": {
             "color": "#2a3f5f"
            },
            "error_y": {
             "color": "#2a3f5f"
            },
            "marker": {
             "line": {
              "color": "#E5ECF6",
              "width": 0.5
             },
             "pattern": {
              "fillmode": "overlay",
              "size": 10,
              "solidity": 0.2
             }
            },
            "type": "bar"
           }
          ],
          "barpolar": [
           {
            "marker": {
             "line": {
              "color": "#E5ECF6",
              "width": 0.5
             },
             "pattern": {
              "fillmode": "overlay",
              "size": 10,
              "solidity": 0.2
             }
            },
            "type": "barpolar"
           }
          ],
          "carpet": [
           {
            "aaxis": {
             "endlinecolor": "#2a3f5f",
             "gridcolor": "white",
             "linecolor": "white",
             "minorgridcolor": "white",
             "startlinecolor": "#2a3f5f"
            },
            "baxis": {
             "endlinecolor": "#2a3f5f",
             "gridcolor": "white",
             "linecolor": "white",
             "minorgridcolor": "white",
             "startlinecolor": "#2a3f5f"
            },
            "type": "carpet"
           }
          ],
          "choropleth": [
           {
            "colorbar": {
             "outlinewidth": 0,
             "ticks": ""
            },
            "type": "choropleth"
           }
          ],
          "contour": [
           {
            "colorbar": {
             "outlinewidth": 0,
             "ticks": ""
            },
            "colorscale": [
             [
              0,
              "#0d0887"
             ],
             [
              0.1111111111111111,
              "#46039f"
             ],
             [
              0.2222222222222222,
              "#7201a8"
             ],
             [
              0.3333333333333333,
              "#9c179e"
             ],
             [
              0.4444444444444444,
              "#bd3786"
             ],
             [
              0.5555555555555556,
              "#d8576b"
             ],
             [
              0.6666666666666666,
              "#ed7953"
             ],
             [
              0.7777777777777778,
              "#fb9f3a"
             ],
             [
              0.8888888888888888,
              "#fdca26"
             ],
             [
              1,
              "#f0f921"
             ]
            ],
            "type": "contour"
           }
          ],
          "contourcarpet": [
           {
            "colorbar": {
             "outlinewidth": 0,
             "ticks": ""
            },
            "type": "contourcarpet"
           }
          ],
          "heatmap": [
           {
            "colorbar": {
             "outlinewidth": 0,
             "ticks": ""
            },
            "colorscale": [
             [
              0,
              "#0d0887"
             ],
             [
              0.1111111111111111,
              "#46039f"
             ],
             [
              0.2222222222222222,
              "#7201a8"
             ],
             [
              0.3333333333333333,
              "#9c179e"
             ],
             [
              0.4444444444444444,
              "#bd3786"
             ],
             [
              0.5555555555555556,
              "#d8576b"
             ],
             [
              0.6666666666666666,
              "#ed7953"
             ],
             [
              0.7777777777777778,
              "#fb9f3a"
             ],
             [
              0.8888888888888888,
              "#fdca26"
             ],
             [
              1,
              "#f0f921"
             ]
            ],
            "type": "heatmap"
           }
          ],
          "heatmapgl": [
           {
            "colorbar": {
             "outlinewidth": 0,
             "ticks": ""
            },
            "colorscale": [
             [
              0,
              "#0d0887"
             ],
             [
              0.1111111111111111,
              "#46039f"
             ],
             [
              0.2222222222222222,
              "#7201a8"
             ],
             [
              0.3333333333333333,
              "#9c179e"
             ],
             [
              0.4444444444444444,
              "#bd3786"
             ],
             [
              0.5555555555555556,
              "#d8576b"
             ],
             [
              0.6666666666666666,
              "#ed7953"
             ],
             [
              0.7777777777777778,
              "#fb9f3a"
             ],
             [
              0.8888888888888888,
              "#fdca26"
             ],
             [
              1,
              "#f0f921"
             ]
            ],
            "type": "heatmapgl"
           }
          ],
          "histogram": [
           {
            "marker": {
             "pattern": {
              "fillmode": "overlay",
              "size": 10,
              "solidity": 0.2
             }
            },
            "type": "histogram"
           }
          ],
          "histogram2d": [
           {
            "colorbar": {
             "outlinewidth": 0,
             "ticks": ""
            },
            "colorscale": [
             [
              0,
              "#0d0887"
             ],
             [
              0.1111111111111111,
              "#46039f"
             ],
             [
              0.2222222222222222,
              "#7201a8"
             ],
             [
              0.3333333333333333,
              "#9c179e"
             ],
             [
              0.4444444444444444,
              "#bd3786"
             ],
             [
              0.5555555555555556,
              "#d8576b"
             ],
             [
              0.6666666666666666,
              "#ed7953"
             ],
             [
              0.7777777777777778,
              "#fb9f3a"
             ],
             [
              0.8888888888888888,
              "#fdca26"
             ],
             [
              1,
              "#f0f921"
             ]
            ],
            "type": "histogram2d"
           }
          ],
          "histogram2dcontour": [
           {
            "colorbar": {
             "outlinewidth": 0,
             "ticks": ""
            },
            "colorscale": [
             [
              0,
              "#0d0887"
             ],
             [
              0.1111111111111111,
              "#46039f"
             ],
             [
              0.2222222222222222,
              "#7201a8"
             ],
             [
              0.3333333333333333,
              "#9c179e"
             ],
             [
              0.4444444444444444,
              "#bd3786"
             ],
             [
              0.5555555555555556,
              "#d8576b"
             ],
             [
              0.6666666666666666,
              "#ed7953"
             ],
             [
              0.7777777777777778,
              "#fb9f3a"
             ],
             [
              0.8888888888888888,
              "#fdca26"
             ],
             [
              1,
              "#f0f921"
             ]
            ],
            "type": "histogram2dcontour"
           }
          ],
          "mesh3d": [
           {
            "colorbar": {
             "outlinewidth": 0,
             "ticks": ""
            },
            "type": "mesh3d"
           }
          ],
          "parcoords": [
           {
            "line": {
             "colorbar": {
              "outlinewidth": 0,
              "ticks": ""
             }
            },
            "type": "parcoords"
           }
          ],
          "pie": [
           {
            "automargin": true,
            "type": "pie"
           }
          ],
          "scatter": [
           {
            "fillpattern": {
             "fillmode": "overlay",
             "size": 10,
             "solidity": 0.2
            },
            "type": "scatter"
           }
          ],
          "scatter3d": [
           {
            "line": {
             "colorbar": {
              "outlinewidth": 0,
              "ticks": ""
             }
            },
            "marker": {
             "colorbar": {
              "outlinewidth": 0,
              "ticks": ""
             }
            },
            "type": "scatter3d"
           }
          ],
          "scattercarpet": [
           {
            "marker": {
             "colorbar": {
              "outlinewidth": 0,
              "ticks": ""
             }
            },
            "type": "scattercarpet"
           }
          ],
          "scattergeo": [
           {
            "marker": {
             "colorbar": {
              "outlinewidth": 0,
              "ticks": ""
             }
            },
            "type": "scattergeo"
           }
          ],
          "scattergl": [
           {
            "marker": {
             "colorbar": {
              "outlinewidth": 0,
              "ticks": ""
             }
            },
            "type": "scattergl"
           }
          ],
          "scattermapbox": [
           {
            "marker": {
             "colorbar": {
              "outlinewidth": 0,
              "ticks": ""
             }
            },
            "type": "scattermapbox"
           }
          ],
          "scatterpolar": [
           {
            "marker": {
             "colorbar": {
              "outlinewidth": 0,
              "ticks": ""
             }
            },
            "type": "scatterpolar"
           }
          ],
          "scatterpolargl": [
           {
            "marker": {
             "colorbar": {
              "outlinewidth": 0,
              "ticks": ""
             }
            },
            "type": "scatterpolargl"
           }
          ],
          "scatterternary": [
           {
            "marker": {
             "colorbar": {
              "outlinewidth": 0,
              "ticks": ""
             }
            },
            "type": "scatterternary"
           }
          ],
          "surface": [
           {
            "colorbar": {
             "outlinewidth": 0,
             "ticks": ""
            },
            "colorscale": [
             [
              0,
              "#0d0887"
             ],
             [
              0.1111111111111111,
              "#46039f"
             ],
             [
              0.2222222222222222,
              "#7201a8"
             ],
             [
              0.3333333333333333,
              "#9c179e"
             ],
             [
              0.4444444444444444,
              "#bd3786"
             ],
             [
              0.5555555555555556,
              "#d8576b"
             ],
             [
              0.6666666666666666,
              "#ed7953"
             ],
             [
              0.7777777777777778,
              "#fb9f3a"
             ],
             [
              0.8888888888888888,
              "#fdca26"
             ],
             [
              1,
              "#f0f921"
             ]
            ],
            "type": "surface"
           }
          ],
          "table": [
           {
            "cells": {
             "fill": {
              "color": "#EBF0F8"
             },
             "line": {
              "color": "white"
             }
            },
            "header": {
             "fill": {
              "color": "#C8D4E3"
             },
             "line": {
              "color": "white"
             }
            },
            "type": "table"
           }
          ]
         },
         "layout": {
          "annotationdefaults": {
           "arrowcolor": "#2a3f5f",
           "arrowhead": 0,
           "arrowwidth": 1
          },
          "autotypenumbers": "strict",
          "coloraxis": {
           "colorbar": {
            "outlinewidth": 0,
            "ticks": ""
           }
          },
          "colorscale": {
           "diverging": [
            [
             0,
             "#8e0152"
            ],
            [
             0.1,
             "#c51b7d"
            ],
            [
             0.2,
             "#de77ae"
            ],
            [
             0.3,
             "#f1b6da"
            ],
            [
             0.4,
             "#fde0ef"
            ],
            [
             0.5,
             "#f7f7f7"
            ],
            [
             0.6,
             "#e6f5d0"
            ],
            [
             0.7,
             "#b8e186"
            ],
            [
             0.8,
             "#7fbc41"
            ],
            [
             0.9,
             "#4d9221"
            ],
            [
             1,
             "#276419"
            ]
           ],
           "sequential": [
            [
             0,
             "#0d0887"
            ],
            [
             0.1111111111111111,
             "#46039f"
            ],
            [
             0.2222222222222222,
             "#7201a8"
            ],
            [
             0.3333333333333333,
             "#9c179e"
            ],
            [
             0.4444444444444444,
             "#bd3786"
            ],
            [
             0.5555555555555556,
             "#d8576b"
            ],
            [
             0.6666666666666666,
             "#ed7953"
            ],
            [
             0.7777777777777778,
             "#fb9f3a"
            ],
            [
             0.8888888888888888,
             "#fdca26"
            ],
            [
             1,
             "#f0f921"
            ]
           ],
           "sequentialminus": [
            [
             0,
             "#0d0887"
            ],
            [
             0.1111111111111111,
             "#46039f"
            ],
            [
             0.2222222222222222,
             "#7201a8"
            ],
            [
             0.3333333333333333,
             "#9c179e"
            ],
            [
             0.4444444444444444,
             "#bd3786"
            ],
            [
             0.5555555555555556,
             "#d8576b"
            ],
            [
             0.6666666666666666,
             "#ed7953"
            ],
            [
             0.7777777777777778,
             "#fb9f3a"
            ],
            [
             0.8888888888888888,
             "#fdca26"
            ],
            [
             1,
             "#f0f921"
            ]
           ]
          },
          "colorway": [
           "#636efa",
           "#EF553B",
           "#00cc96",
           "#ab63fa",
           "#FFA15A",
           "#19d3f3",
           "#FF6692",
           "#B6E880",
           "#FF97FF",
           "#FECB52"
          ],
          "font": {
           "color": "#2a3f5f"
          },
          "geo": {
           "bgcolor": "white",
           "lakecolor": "white",
           "landcolor": "#E5ECF6",
           "showlakes": true,
           "showland": true,
           "subunitcolor": "white"
          },
          "hoverlabel": {
           "align": "left"
          },
          "hovermode": "closest",
          "mapbox": {
           "style": "light"
          },
          "paper_bgcolor": "white",
          "plot_bgcolor": "#E5ECF6",
          "polar": {
           "angularaxis": {
            "gridcolor": "white",
            "linecolor": "white",
            "ticks": ""
           },
           "bgcolor": "#E5ECF6",
           "radialaxis": {
            "gridcolor": "white",
            "linecolor": "white",
            "ticks": ""
           }
          },
          "scene": {
           "xaxis": {
            "backgroundcolor": "#E5ECF6",
            "gridcolor": "white",
            "gridwidth": 2,
            "linecolor": "white",
            "showbackground": true,
            "ticks": "",
            "zerolinecolor": "white"
           },
           "yaxis": {
            "backgroundcolor": "#E5ECF6",
            "gridcolor": "white",
            "gridwidth": 2,
            "linecolor": "white",
            "showbackground": true,
            "ticks": "",
            "zerolinecolor": "white"
           },
           "zaxis": {
            "backgroundcolor": "#E5ECF6",
            "gridcolor": "white",
            "gridwidth": 2,
            "linecolor": "white",
            "showbackground": true,
            "ticks": "",
            "zerolinecolor": "white"
           }
          },
          "shapedefaults": {
           "line": {
            "color": "#2a3f5f"
           }
          },
          "ternary": {
           "aaxis": {
            "gridcolor": "white",
            "linecolor": "white",
            "ticks": ""
           },
           "baxis": {
            "gridcolor": "white",
            "linecolor": "white",
            "ticks": ""
           },
           "bgcolor": "#E5ECF6",
           "caxis": {
            "gridcolor": "white",
            "linecolor": "white",
            "ticks": ""
           }
          },
          "title": {
           "x": 0.05
          },
          "xaxis": {
           "automargin": true,
           "gridcolor": "white",
           "linecolor": "white",
           "ticks": "",
           "title": {
            "standoff": 15
           },
           "zerolinecolor": "white",
           "zerolinewidth": 2
          },
          "yaxis": {
           "automargin": true,
           "gridcolor": "white",
           "linecolor": "white",
           "ticks": "",
           "title": {
            "standoff": 15
           },
           "zerolinecolor": "white",
           "zerolinewidth": 2
          }
         }
        }
       }
      },
      "text/html": [
       "<div>                            <div id=\"f651cd54-d56d-4523-95ac-ba02cbd9dac9\" class=\"plotly-graph-div\" style=\"height:525px; width:100%;\"></div>            <script type=\"text/javascript\">                require([\"plotly\"], function(Plotly) {                    window.PLOTLYENV=window.PLOTLYENV || {};                                    if (document.getElementById(\"f651cd54-d56d-4523-95ac-ba02cbd9dac9\")) {                    Plotly.newPlot(                        \"f651cd54-d56d-4523-95ac-ba02cbd9dac9\",                        [{\"hovertemplate\":\"x=%{x}<br>y=%{y}<br>z=%{z}<br>label=%{marker.color}<extra></extra>\",\"legendgroup\":\"\",\"marker\":{\"color\":[0,3,2,2,6,6,0,1,5,0,1,3,3,2,9,0,4,1,1,8,4,5,9,1,4,6,2,0,0,2,6,8,3,5,1,3,6,1,0,8,7,2,6,8,9,5,1,8,2,7,3,6,0,2,2,6,0,1,6,2,1,2,7,5,2,1,9,4,6,6,6,9,1,6,0,1,1,6,7,3,8,5,0,3,7,2,8,6,0,5,4,7,5,1,3,0,6,4,1,7,2,7,8,5,1,2,0,1,1,3,9,2,4,5,3,6,4,8,3,0,7,5,5,2,2,0,3,4],\"coloraxis\":\"coloraxis\",\"symbol\":\"circle\",\"size\":5},\"mode\":\"markers+text\",\"name\":\"\",\"scene\":\"scene\",\"showlegend\":false,\"text\":[0.0,3.0,2.0,2.0,6.0,6.0,0.0,1.0,5.0,0.0,1.0,3.0,3.0,2.0,9.0,0.0,4.0,1.0,1.0,8.0,4.0,5.0,9.0,1.0,4.0,6.0,2.0,0.0,0.0,2.0,6.0,8.0,3.0,5.0,1.0,3.0,6.0,1.0,0.0,8.0,7.0,2.0,6.0,8.0,9.0,5.0,1.0,8.0,2.0,7.0,3.0,6.0,0.0,2.0,2.0,6.0,0.0,1.0,6.0,2.0,1.0,2.0,7.0,5.0,2.0,1.0,9.0,4.0,6.0,6.0,6.0,9.0,1.0,6.0,0.0,1.0,1.0,6.0,7.0,3.0,8.0,5.0,0.0,3.0,7.0,2.0,8.0,6.0,0.0,5.0,4.0,7.0,5.0,1.0,3.0,0.0,6.0,4.0,1.0,7.0,2.0,7.0,8.0,5.0,1.0,2.0,0.0,1.0,1.0,3.0,9.0,2.0,4.0,5.0,3.0,6.0,4.0,8.0,3.0,0.0,7.0,5.0,5.0,2.0,2.0,0.0,3.0,4.0],\"x\":[-0.2544238865375519,0.6086866855621338,0.754877507686615,0.9761841297149658,-0.17863596975803375,-0.1743052750825882,-0.2470606118440628,-0.9475225806236267,-0.6789399981498718,-0.26580944657325745,-0.9484591484069824,0.6760982871055603,0.6128864884376526,0.9870404601097107,0.28766828775405884,-0.2551459074020386,-0.5223190188407898,-0.9451686143875122,-0.940362274646759,0.04256601631641388,-0.3359922468662262,-0.9735519886016846,0.25117728114128113,-0.9456608891487122,-0.46606671810150146,-0.10286085307598114,0.9873420000076294,-0.25929179787635803,-0.25932905077934265,0.975322425365448,-0.13253208994865417,0.10096454620361328,0.5981812477111816,-0.7024575471878052,-0.9450131058692932,0.8739053010940552,-0.2503724992275238,-0.9452738165855408,-0.24918115139007568,-0.41518133878707886,0.5776116847991943,0.9903820753097534,-0.18226101994514465,0.061848919838666916,0.24738958477973938,-0.6871567368507385,-0.9393249750137329,0.07885167002677917,0.9986587166786194,0.6065400242805481,0.5107529163360596,-0.14434993267059326,-0.3153607249259949,0.9826738834381104,0.21208365261554718,-0.22153660655021667,-0.2848515510559082,-0.9480722546577454,-0.13278654217720032,0.9824373126029968,-0.9446644186973572,0.9773660898208618,0.5992953181266785,-0.6842217445373535,0.9669718146324158,-0.9493081569671631,0.3180866837501526,-0.3987073004245758,-0.17617933452129364,-0.17282506823539734,-0.10478203743696213,-0.3215067684650421,-0.9433397054672241,-0.1184496358036995,-0.23633968830108643,-0.9467529654502869,-0.9450116157531738,-0.1857208013534546,0.6061586737632751,0.6144981980323792,0.2788630425930023,-0.7084664702415466,-0.2628134489059448,0.6248884797096252,0.5641343593597412,0.9728896021842957,-0.13850674033164978,-0.1192697286605835,-0.27057093381881714,-0.6663352847099304,-0.43504467606544495,0.6033644676208496,-0.6786651015281677,-0.9386605620384216,0.5944349765777588,-0.23840248584747314,-0.16597884893417358,-0.47231295704841614,-0.9488052725791931,0.5962625741958618,0.9791866540908813,0.5671464800834656,-0.021146541461348534,-0.7026035785675049,-0.946269690990448,0.9759770631790161,-0.25046947598457336,-0.947158694267273,-0.9469137191772461,0.8268470168113708,0.29161688685417175,0.9722793102264404,-0.4892594814300537,-0.6805883049964905,0.5711859464645386,-0.13488635420799255,-0.41738176345825195,0.13217291235923767,0.6212189197540283,-0.2592310309410095,0.5714907646179199,-0.7487909197807312,-0.7293442487716675,0.9406106472015381,0.9793075323104858,-0.26358890533447266,0.6524702310562134,-0.38361668586730957],\"y\":[-0.9076684713363647,0.34927091002464294,-0.6550490260124207,0.1557808518409729,-0.16403108835220337,-0.15008662641048431,-0.9225764870643616,-0.06932171434164047,0.5253602266311646,-0.923026442527771,-0.05906141549348831,0.3429359793663025,0.3499460816383362,0.015537330880761147,0.266885906457901,-0.9291474223136902,-0.45252135396003723,-0.09133744239807129,-0.12694145739078522,0.9792686104774475,-0.5975936055183411,0.19721567630767822,0.24987898766994476,-0.08707668632268906,-0.5153300166130066,-0.19287146627902985,-0.1128414049744606,-0.9220100045204163,-0.9159819483757019,0.13155092298984528,-0.15179896354675293,0.9882320761680603,0.41346269845962524,0.5290009379386902,-0.09265261143445969,-0.2612904906272888,-0.17581400275230408,-0.09043976664543152,-0.930241584777832,0.6898798942565918,-0.6650071740150452,0.11734581738710403,-0.12294406443834305,0.9882332682609558,0.22283220291137695,0.5267229080200195,-0.13360266387462616,0.9844483137130737,-0.048983730375766754,-0.7515843510627747,0.27147188782691956,-0.1851821392774582,-0.8945724964141846,0.15241669118404388,-0.8729594349861145,0.040453605353832245,-0.9099098443984985,-0.06343642622232437,-0.20062406361103058,0.10016874223947525,-0.09555079787969589,0.12426520138978958,-0.7674789428710938,0.530771791934967,0.16160497069358826,-0.04861786589026451,0.3018767237663269,-0.5553268790245056,-0.09960850328207016,-0.1617516726255417,-0.20182140171527863,-0.27979856729507446,-0.12695638835430145,-0.1768152266740799,-0.922285258769989,-0.07701809704303741,-0.0926654040813446,-0.17919041216373444,-0.765028178691864,0.3600479066371918,0.9565774202346802,0.5297961831092834,-0.9193875789642334,0.3641788959503174,-0.8041980266571045,0.13979527354240417,0.9896124601364136,-0.1828235238790512,-0.8935878872871399,0.5230953693389893,-0.5436529517173767,-0.7575609087944031,0.5253130197525024,-0.23756428062915802,0.38645318150520325,-0.9317387938499451,-0.19240978360176086,-0.5528702139854431,-0.0549587644636631,-0.7652082443237305,0.12285284698009491,-0.7689568996429443,0.990328311920166,0.5290209650993347,-0.08158251643180847,0.13961537182331085,-0.9246214628219604,-0.07303232699632645,-0.0754573717713356,0.04665088653564453,0.26306241750717163,0.15144729614257812,-0.5596717596054077,0.5256410241127014,0.269966721534729,-0.14767436683177948,-0.5647873878479004,0.9865461587905884,0.3435744047164917,-0.9192787408828735,-0.7994219660758972,0.533409059047699,0.5320719480514526,0.17436230182647705,0.10264203697443008,-0.9228824377059937,0.31271758675575256,-0.5655056834220886],\"z\":[-0.3337758779525757,-0.712397575378418,-0.032722942531108856,0.15098655223846436,-0.9701458215713501,-0.9731863737106323,-0.29633381962776184,-0.3120826482772827,0.5128714442253113,-0.2781502306461334,-0.31134700775146484,-0.6521396040916443,-0.7084545493125916,0.1597174108028412,0.919792890548706,-0.26755499839782715,0.7227774262428284,-0.3135502338409424,-0.3156018853187561,-0.1980433613061905,0.7280049920082092,-0.11533646285533905,0.9351312518119812,-0.31327804923057556,0.7191779017448425,-0.9758176803588867,0.11145612597465515,-0.2875158190727234,-0.30614620447158813,0.1773146390914917,-0.9794857501983643,-0.11490611732006073,-0.6864603757858276,0.47614216804504395,-0.31363314390182495,-0.4098985493183136,-0.9520519971847534,-0.31349337100982666,-0.2693684697151184,-0.5930346846580505,0.47342392802238464,0.07330343127250671,-0.9755335450172424,-0.13989180326461792,0.9429444670677185,0.500378429889679,-0.31594130396842957,-0.15698371827602386,-0.016772115603089333,0.25928795337677,-0.8157417178153992,-0.9720445871353149,-0.3166821002960205,0.10545685887336731,-0.43927475810050964,-0.9743126034736633,-0.3015356659889221,-0.3116647005081177,-0.97062748670578,0.15742650628089905,-0.31381386518478394,0.17121219635009766,0.22764259576797485,0.5001218318939209,0.1971023976802826,-0.3105646073818207,0.8987165093421936,0.7298250198364258,-0.9793053269386292,-0.9715800881385803,-0.9738012552261353,0.904624879360199,-0.3065815269947052,-0.9770906567573547,-0.3058323562145233,-0.3126128613948822,-0.3136339485645294,-0.9661255478858948,0.21749398112297058,-0.7019668221473694,-0.08482372015714645,0.4662523865699768,-0.29266971349716187,-0.6905709505081177,0.18713057041168213,0.18423672020435333,0.038509149104356766,-0.9758844375610352,-0.35817888379096985,0.5313835740089417,0.7177586555480957,0.24910399317741394,0.5132834315299988,-0.24995926022529602,-0.7051957845687866,-0.2739105522632599,-0.967176079750061,0.6864801049232483,-0.31104370951652527,0.24274921417236328,0.1615574061870575,0.29504284262657166,-0.13712233304977417,0.4759044349193573,-0.31291866302490234,0.1672612726688385,-0.2869500517845154,-0.31234055757522583,-0.31250685453414917,-0.5604888796806335,0.9196508526802063,0.178148090839386,0.6688741445541382,0.5103930830955505,-0.7751545906066895,-0.9797948002815247,0.7119042873382568,-0.09621359407901764,-0.7043037414550781,-0.2961857318878174,0.18526437878608704,0.39342984557151794,0.43006572127342224,-0.2912892699241638,0.17441719770431519,-0.2807292938232422,-0.6902827024459839,0.7300969362258911],\"type\":\"scatter3d\"}],                        {\"template\":{\"data\":{\"histogram2dcontour\":[{\"type\":\"histogram2dcontour\",\"colorbar\":{\"outlinewidth\":0,\"ticks\":\"\"},\"colorscale\":[[0.0,\"#0d0887\"],[0.1111111111111111,\"#46039f\"],[0.2222222222222222,\"#7201a8\"],[0.3333333333333333,\"#9c179e\"],[0.4444444444444444,\"#bd3786\"],[0.5555555555555556,\"#d8576b\"],[0.6666666666666666,\"#ed7953\"],[0.7777777777777778,\"#fb9f3a\"],[0.8888888888888888,\"#fdca26\"],[1.0,\"#f0f921\"]]}],\"choropleth\":[{\"type\":\"choropleth\",\"colorbar\":{\"outlinewidth\":0,\"ticks\":\"\"}}],\"histogram2d\":[{\"type\":\"histogram2d\",\"colorbar\":{\"outlinewidth\":0,\"ticks\":\"\"},\"colorscale\":[[0.0,\"#0d0887\"],[0.1111111111111111,\"#46039f\"],[0.2222222222222222,\"#7201a8\"],[0.3333333333333333,\"#9c179e\"],[0.4444444444444444,\"#bd3786\"],[0.5555555555555556,\"#d8576b\"],[0.6666666666666666,\"#ed7953\"],[0.7777777777777778,\"#fb9f3a\"],[0.8888888888888888,\"#fdca26\"],[1.0,\"#f0f921\"]]}],\"heatmap\":[{\"type\":\"heatmap\",\"colorbar\":{\"outlinewidth\":0,\"ticks\":\"\"},\"colorscale\":[[0.0,\"#0d0887\"],[0.1111111111111111,\"#46039f\"],[0.2222222222222222,\"#7201a8\"],[0.3333333333333333,\"#9c179e\"],[0.4444444444444444,\"#bd3786\"],[0.5555555555555556,\"#d8576b\"],[0.6666666666666666,\"#ed7953\"],[0.7777777777777778,\"#fb9f3a\"],[0.8888888888888888,\"#fdca26\"],[1.0,\"#f0f921\"]]}],\"heatmapgl\":[{\"type\":\"heatmapgl\",\"colorbar\":{\"outlinewidth\":0,\"ticks\":\"\"},\"colorscale\":[[0.0,\"#0d0887\"],[0.1111111111111111,\"#46039f\"],[0.2222222222222222,\"#7201a8\"],[0.3333333333333333,\"#9c179e\"],[0.4444444444444444,\"#bd3786\"],[0.5555555555555556,\"#d8576b\"],[0.6666666666666666,\"#ed7953\"],[0.7777777777777778,\"#fb9f3a\"],[0.8888888888888888,\"#fdca26\"],[1.0,\"#f0f921\"]]}],\"contourcarpet\":[{\"type\":\"contourcarpet\",\"colorbar\":{\"outlinewidth\":0,\"ticks\":\"\"}}],\"contour\":[{\"type\":\"contour\",\"colorbar\":{\"outlinewidth\":0,\"ticks\":\"\"},\"colorscale\":[[0.0,\"#0d0887\"],[0.1111111111111111,\"#46039f\"],[0.2222222222222222,\"#7201a8\"],[0.3333333333333333,\"#9c179e\"],[0.4444444444444444,\"#bd3786\"],[0.5555555555555556,\"#d8576b\"],[0.6666666666666666,\"#ed7953\"],[0.7777777777777778,\"#fb9f3a\"],[0.8888888888888888,\"#fdca26\"],[1.0,\"#f0f921\"]]}],\"surface\":[{\"type\":\"surface\",\"colorbar\":{\"outlinewidth\":0,\"ticks\":\"\"},\"colorscale\":[[0.0,\"#0d0887\"],[0.1111111111111111,\"#46039f\"],[0.2222222222222222,\"#7201a8\"],[0.3333333333333333,\"#9c179e\"],[0.4444444444444444,\"#bd3786\"],[0.5555555555555556,\"#d8576b\"],[0.6666666666666666,\"#ed7953\"],[0.7777777777777778,\"#fb9f3a\"],[0.8888888888888888,\"#fdca26\"],[1.0,\"#f0f921\"]]}],\"mesh3d\":[{\"type\":\"mesh3d\",\"colorbar\":{\"outlinewidth\":0,\"ticks\":\"\"}}],\"scatter\":[{\"fillpattern\":{\"fillmode\":\"overlay\",\"size\":10,\"solidity\":0.2},\"type\":\"scatter\"}],\"parcoords\":[{\"type\":\"parcoords\",\"line\":{\"colorbar\":{\"outlinewidth\":0,\"ticks\":\"\"}}}],\"scatterpolargl\":[{\"type\":\"scatterpolargl\",\"marker\":{\"colorbar\":{\"outlinewidth\":0,\"ticks\":\"\"}}}],\"bar\":[{\"error_x\":{\"color\":\"#2a3f5f\"},\"error_y\":{\"color\":\"#2a3f5f\"},\"marker\":{\"line\":{\"color\":\"#E5ECF6\",\"width\":0.5},\"pattern\":{\"fillmode\":\"overlay\",\"size\":10,\"solidity\":0.2}},\"type\":\"bar\"}],\"scattergeo\":[{\"type\":\"scattergeo\",\"marker\":{\"colorbar\":{\"outlinewidth\":0,\"ticks\":\"\"}}}],\"scatterpolar\":[{\"type\":\"scatterpolar\",\"marker\":{\"colorbar\":{\"outlinewidth\":0,\"ticks\":\"\"}}}],\"histogram\":[{\"marker\":{\"pattern\":{\"fillmode\":\"overlay\",\"size\":10,\"solidity\":0.2}},\"type\":\"histogram\"}],\"scattergl\":[{\"type\":\"scattergl\",\"marker\":{\"colorbar\":{\"outlinewidth\":0,\"ticks\":\"\"}}}],\"scatter3d\":[{\"type\":\"scatter3d\",\"line\":{\"colorbar\":{\"outlinewidth\":0,\"ticks\":\"\"}},\"marker\":{\"colorbar\":{\"outlinewidth\":0,\"ticks\":\"\"}}}],\"scattermapbox\":[{\"type\":\"scattermapbox\",\"marker\":{\"colorbar\":{\"outlinewidth\":0,\"ticks\":\"\"}}}],\"scatterternary\":[{\"type\":\"scatterternary\",\"marker\":{\"colorbar\":{\"outlinewidth\":0,\"ticks\":\"\"}}}],\"scattercarpet\":[{\"type\":\"scattercarpet\",\"marker\":{\"colorbar\":{\"outlinewidth\":0,\"ticks\":\"\"}}}],\"carpet\":[{\"aaxis\":{\"endlinecolor\":\"#2a3f5f\",\"gridcolor\":\"white\",\"linecolor\":\"white\",\"minorgridcolor\":\"white\",\"startlinecolor\":\"#2a3f5f\"},\"baxis\":{\"endlinecolor\":\"#2a3f5f\",\"gridcolor\":\"white\",\"linecolor\":\"white\",\"minorgridcolor\":\"white\",\"startlinecolor\":\"#2a3f5f\"},\"type\":\"carpet\"}],\"table\":[{\"cells\":{\"fill\":{\"color\":\"#EBF0F8\"},\"line\":{\"color\":\"white\"}},\"header\":{\"fill\":{\"color\":\"#C8D4E3\"},\"line\":{\"color\":\"white\"}},\"type\":\"table\"}],\"barpolar\":[{\"marker\":{\"line\":{\"color\":\"#E5ECF6\",\"width\":0.5},\"pattern\":{\"fillmode\":\"overlay\",\"size\":10,\"solidity\":0.2}},\"type\":\"barpolar\"}],\"pie\":[{\"automargin\":true,\"type\":\"pie\"}]},\"layout\":{\"autotypenumbers\":\"strict\",\"colorway\":[\"#636efa\",\"#EF553B\",\"#00cc96\",\"#ab63fa\",\"#FFA15A\",\"#19d3f3\",\"#FF6692\",\"#B6E880\",\"#FF97FF\",\"#FECB52\"],\"font\":{\"color\":\"#2a3f5f\"},\"hovermode\":\"closest\",\"hoverlabel\":{\"align\":\"left\"},\"paper_bgcolor\":\"white\",\"plot_bgcolor\":\"#E5ECF6\",\"polar\":{\"bgcolor\":\"#E5ECF6\",\"angularaxis\":{\"gridcolor\":\"white\",\"linecolor\":\"white\",\"ticks\":\"\"},\"radialaxis\":{\"gridcolor\":\"white\",\"linecolor\":\"white\",\"ticks\":\"\"}},\"ternary\":{\"bgcolor\":\"#E5ECF6\",\"aaxis\":{\"gridcolor\":\"white\",\"linecolor\":\"white\",\"ticks\":\"\"},\"baxis\":{\"gridcolor\":\"white\",\"linecolor\":\"white\",\"ticks\":\"\"},\"caxis\":{\"gridcolor\":\"white\",\"linecolor\":\"white\",\"ticks\":\"\"}},\"coloraxis\":{\"colorbar\":{\"outlinewidth\":0,\"ticks\":\"\"}},\"colorscale\":{\"sequential\":[[0.0,\"#0d0887\"],[0.1111111111111111,\"#46039f\"],[0.2222222222222222,\"#7201a8\"],[0.3333333333333333,\"#9c179e\"],[0.4444444444444444,\"#bd3786\"],[0.5555555555555556,\"#d8576b\"],[0.6666666666666666,\"#ed7953\"],[0.7777777777777778,\"#fb9f3a\"],[0.8888888888888888,\"#fdca26\"],[1.0,\"#f0f921\"]],\"sequentialminus\":[[0.0,\"#0d0887\"],[0.1111111111111111,\"#46039f\"],[0.2222222222222222,\"#7201a8\"],[0.3333333333333333,\"#9c179e\"],[0.4444444444444444,\"#bd3786\"],[0.5555555555555556,\"#d8576b\"],[0.6666666666666666,\"#ed7953\"],[0.7777777777777778,\"#fb9f3a\"],[0.8888888888888888,\"#fdca26\"],[1.0,\"#f0f921\"]],\"diverging\":[[0,\"#8e0152\"],[0.1,\"#c51b7d\"],[0.2,\"#de77ae\"],[0.3,\"#f1b6da\"],[0.4,\"#fde0ef\"],[0.5,\"#f7f7f7\"],[0.6,\"#e6f5d0\"],[0.7,\"#b8e186\"],[0.8,\"#7fbc41\"],[0.9,\"#4d9221\"],[1,\"#276419\"]]},\"xaxis\":{\"gridcolor\":\"white\",\"linecolor\":\"white\",\"ticks\":\"\",\"title\":{\"standoff\":15},\"zerolinecolor\":\"white\",\"automargin\":true,\"zerolinewidth\":2},\"yaxis\":{\"gridcolor\":\"white\",\"linecolor\":\"white\",\"ticks\":\"\",\"title\":{\"standoff\":15},\"zerolinecolor\":\"white\",\"automargin\":true,\"zerolinewidth\":2},\"scene\":{\"xaxis\":{\"backgroundcolor\":\"#E5ECF6\",\"gridcolor\":\"white\",\"linecolor\":\"white\",\"showbackground\":true,\"ticks\":\"\",\"zerolinecolor\":\"white\",\"gridwidth\":2},\"yaxis\":{\"backgroundcolor\":\"#E5ECF6\",\"gridcolor\":\"white\",\"linecolor\":\"white\",\"showbackground\":true,\"ticks\":\"\",\"zerolinecolor\":\"white\",\"gridwidth\":2},\"zaxis\":{\"backgroundcolor\":\"#E5ECF6\",\"gridcolor\":\"white\",\"linecolor\":\"white\",\"showbackground\":true,\"ticks\":\"\",\"zerolinecolor\":\"white\",\"gridwidth\":2}},\"shapedefaults\":{\"line\":{\"color\":\"#2a3f5f\"}},\"annotationdefaults\":{\"arrowcolor\":\"#2a3f5f\",\"arrowhead\":0,\"arrowwidth\":1},\"geo\":{\"bgcolor\":\"white\",\"landcolor\":\"#E5ECF6\",\"subunitcolor\":\"white\",\"showland\":true,\"showlakes\":true,\"lakecolor\":\"white\"},\"title\":{\"x\":0.05},\"mapbox\":{\"style\":\"light\"}}},\"scene\":{\"domain\":{\"x\":[0.0,1.0],\"y\":[0.0,1.0]},\"xaxis\":{\"title\":{\"text\":\"x\"}},\"yaxis\":{\"title\":{\"text\":\"y\"}},\"zaxis\":{\"title\":{\"text\":\"z\"}}},\"coloraxis\":{\"colorbar\":{\"title\":{\"text\":\"label\"}},\"colorscale\":[[0.0,\"#0d0887\"],[0.1111111111111111,\"#46039f\"],[0.2222222222222222,\"#7201a8\"],[0.3333333333333333,\"#9c179e\"],[0.4444444444444444,\"#bd3786\"],[0.5555555555555556,\"#d8576b\"],[0.6666666666666666,\"#ed7953\"],[0.7777777777777778,\"#fb9f3a\"],[0.8888888888888888,\"#fdca26\"],[1.0,\"#f0f921\"]]},\"legend\":{\"tracegroupgap\":0},\"margin\":{\"t\":60}},                        {\"responsive\": true}                    ).then(function(){\n",
       "                            \n",
       "var gd = document.getElementById('f651cd54-d56d-4523-95ac-ba02cbd9dac9');\n",
       "var x = new MutationObserver(function (mutations, observer) {{\n",
       "        var display = window.getComputedStyle(gd).display;\n",
       "        if (!display || display === 'none') {{\n",
       "            console.log([gd, 'removed!']);\n",
       "            Plotly.purge(gd);\n",
       "            observer.disconnect();\n",
       "        }}\n",
       "}});\n",
       "\n",
       "// Listen for the removal of the full notebook cells\n",
       "var notebookContainer = gd.closest('#notebook-container');\n",
       "if (notebookContainer) {{\n",
       "    x.observe(notebookContainer, {childList: true});\n",
       "}}\n",
       "\n",
       "// Listen for the clearing of the current output cell\n",
       "var outputEl = gd.closest('.output');\n",
       "if (outputEl) {{\n",
       "    x.observe(outputEl, {childList: true});\n",
       "}}\n",
       "\n",
       "                        })                };                });            </script>        </div>"
      ]
     },
     "metadata": {},
     "output_type": "display_data"
    }
   ],
   "source": [
    "df = pd.DataFrame({'x': embeds[:, 0], \n",
    "                   'y': embeds[:, 1], \n",
    "                   'z': embeds[:, 2], \n",
    "                   'label': batch_labels.numpy()})\n",
    "\n",
    "fig = px.scatter_3d(df, x='x', y='y', z='z',\n",
    "                      color='label', text='label')\n",
    "fig.update_traces(marker_size = 5)\n",
    "fig.show()"
   ]
  },
  {
   "cell_type": "markdown",
   "id": "e81ca6fe",
   "metadata": {},
   "source": [
    "## Write Modified Embeddings through Plotly"
   ]
  },
  {
   "cell_type": "code",
   "execution_count": 507,
   "id": "e223c3ae",
   "metadata": {
    "scrolled": false
   },
   "outputs": [],
   "source": [
    "batch_images, batch_labels = next(iter(data_loader))\n",
    "\n",
    "embeds = deep_features.generate_embeddings(batch_images.to(device), normalize=True)\n",
    "embeds = embeds.detach().numpy()\n",
    "\n",
    "# new_embeds, new_labels = remove_outliers(embeds, batch_labels)"
   ]
  },
  {
   "cell_type": "code",
   "execution_count": 508,
   "id": "e1e99b58",
   "metadata": {},
   "outputs": [],
   "source": [
    "def project_to_2D_unit_circle(embeds):\n",
    "    \n",
    "    # Find the normal vector of the plane\n",
    "    u, s, vh = np.linalg.svd(embeds)\n",
    "    normal = vh[-1]    # the last eigenvector is the one that doesn't vary, i.e. \n",
    "                       # normal to the plane where the points lie \n",
    "\n",
    "    # Project the points onto the plane\n",
    "    points_proj = embeds - (embeds @ np.outer(normal, normal))  # embeds minus projection of embeds onto normal\n",
    "                                                                # would give us embeds that lie on the 2D plane,\n",
    "                                                                # which is perpendicular to the normal \n",
    "\n",
    "    # normalize to unit circle \n",
    "    points_norm = np.linalg.norm(points_proj, axis=1)\n",
    "    points_proj /= points_norm[:, np.newaxis]         # using broadcasting to normalize \n",
    "    \n",
    "    return points_proj"
   ]
  },
  {
   "cell_type": "code",
   "execution_count": 509,
   "id": "32fe4454",
   "metadata": {},
   "outputs": [
    {
     "data": {
      "application/vnd.plotly.v1+json": {
       "config": {
        "plotlyServerURL": "https://plot.ly"
       },
       "data": [
        {
         "hovertemplate": "x=%{x}<br>y=%{y}<br>z=%{z}<br>label=%{marker.color}<extra></extra>",
         "legendgroup": "",
         "marker": {
          "color": [
           7,
           5,
           9,
           9,
           0,
           7,
           9,
           6,
           8,
           5,
           2,
           2,
           4,
           1,
           1,
           1,
           3,
           5,
           8,
           0,
           1,
           8,
           4,
           6,
           6,
           4,
           3,
           9,
           8,
           4,
           9,
           3,
           0,
           9,
           2,
           4,
           3,
           2,
           1,
           4,
           8,
           4,
           7,
           3,
           7,
           3,
           9,
           9,
           1,
           1,
           3,
           3,
           8,
           8,
           0,
           0,
           9,
           1,
           0,
           1,
           9,
           3,
           4,
           8,
           3,
           8,
           1,
           1,
           0,
           5,
           7,
           7,
           7,
           9,
           6,
           7,
           1,
           6,
           4,
           0,
           1,
           2,
           9,
           9,
           2,
           5,
           6,
           0,
           2,
           4,
           9,
           0,
           9,
           2,
           3,
           2,
           7,
           7,
           1,
           0,
           7,
           4,
           3,
           3,
           4,
           1,
           4,
           1,
           9,
           9,
           5,
           6,
           1,
           3,
           0,
           2,
           7,
           8,
           3,
           5,
           2,
           1,
           1,
           9,
           0,
           3,
           8,
           4
          ],
          "coloraxis": "coloraxis",
          "size": 5,
          "symbol": "circle"
         },
         "mode": "markers+text",
         "name": "",
         "scene": "scene",
         "showlegend": false,
         "text": [
          7,
          5,
          9,
          9,
          0,
          7,
          9,
          6,
          8,
          5,
          2,
          2,
          4,
          1,
          1,
          1,
          3,
          5,
          8,
          0,
          1,
          8,
          4,
          6,
          6,
          4,
          3,
          9,
          8,
          4,
          9,
          3,
          0,
          9,
          2,
          4,
          3,
          2,
          1,
          4,
          8,
          4,
          7,
          3,
          7,
          3,
          9,
          9,
          1,
          1,
          3,
          3,
          8,
          8,
          0,
          0,
          9,
          1,
          0,
          1,
          9,
          3,
          4,
          8,
          3,
          8,
          1,
          1,
          0,
          5,
          7,
          7,
          7,
          9,
          6,
          7,
          1,
          6,
          4,
          0,
          1,
          2,
          9,
          9,
          2,
          5,
          6,
          0,
          2,
          4,
          9,
          0,
          9,
          2,
          3,
          2,
          7,
          7,
          1,
          0,
          7,
          4,
          3,
          3,
          4,
          1,
          4,
          1,
          9,
          9,
          5,
          6,
          1,
          3,
          0,
          2,
          7,
          8,
          3,
          5,
          2,
          1,
          1,
          9,
          0,
          3,
          8,
          4
         ],
         "type": "scatter3d",
         "x": [
          0.6524599194526672,
          -0.43746158480644226,
          0.21036243438720703,
          0.189504474401474,
          0.2882319688796997,
          0.6446143388748169,
          0.23752813041210175,
          -0.30866187810897827,
          -0.5457291603088379,
          -0.4505792558193207,
          0.541669487953186,
          0.5671109557151794,
          0.4091004431247711,
          -0.585884690284729,
          -0.5908594131469727,
          -0.5902611613273621,
          -0.38968420028686523,
          -0.4274095296859741,
          -0.5891953706741333,
          0.31181496381759644,
          -0.5904766321182251,
          -0.5886411070823669,
          0.6626096963882446,
          -0.2954353094100952,
          -0.3236919641494751,
          0.5413534641265869,
          -0.4600180685520172,
          0.23517867922782898,
          -0.5843372941017151,
          0.526517927646637,
          0.2541871666908264,
          -0.45819276571273804,
          0.277932733297348,
          0.3777567148208618,
          0.6127895712852478,
          0.5742369890213013,
          -0.3575369715690613,
          0.5650545358657837,
          -0.5543558597564697,
          0.5345593094825745,
          -0.659249484539032,
          0.5184123516082764,
          0.6580185890197754,
          -0.38473591208457947,
          0.6555359959602356,
          -0.46477147936820984,
          0.2617790997028351,
          0.16320741176605225,
          -0.5996803045272827,
          -0.603054404258728,
          -0.41566023230552673,
          -0.3856412470340729,
          -0.5765061378479004,
          -0.11802710592746735,
          0.2291690856218338,
          0.298095166683197,
          0.25775107741355896,
          -0.590934157371521,
          0.2935681641101837,
          -0.5974041223526001,
          0.2595980167388916,
          -0.5221165418624878,
          0.5666533708572388,
          -0.6078759431838989,
          -0.42403632402420044,
          -0.5759910345077515,
          -0.5888424515724182,
          -0.5959826707839966,
          0.32632148265838623,
          -0.4915711283683777,
          0.6534137725830078,
          0.6437620520591736,
          0.6332560181617737,
          0.20313660800457,
          -0.30951714515686035,
          0.6469258666038513,
          -0.5967093110084534,
          -0.2855411469936371,
          0.5670411586761475,
          0.2997087240219116,
          -0.5935704708099365,
          0.5273520946502686,
          0.2495066225528717,
          0.2331707775592804,
          0.5830943584442139,
          -0.4113996624946594,
          -0.33348843455314636,
          0.29524531960487366,
          0.5754579901695251,
          0.5128793120384216,
          0.24602046608924866,
          0.2979698181152344,
          0.23392696678638458,
          0.5678309798240662,
          -0.4758193790912628,
          0.6504754424095154,
          0.6499301195144653,
          0.6546058654785156,
          -0.5986658334732056,
          0.3173478841781616,
          0.6460995078086853,
          0.6021458506584167,
          -0.41157031059265137,
          -0.40516120195388794,
          0.5249800682067871,
          -0.5932080745697021,
          0.5288527011871338,
          -0.5952162146568298,
          0.2575969398021698,
          0.21130864322185516,
          -0.45689600706100464,
          -0.2900652289390564,
          -0.5968599915504456,
          -0.39726194739341736,
          0.3079195022583008,
          0.5622186064720154,
          0.6519232988357544,
          -0.5626607537269592,
          -0.44546571373939514,
          -0.43532681465148926,
          0.5707190632820129,
          -0.5801841616630554,
          -0.5799233913421631,
          0.6597203016281128,
          0.3211055099964142,
          -0.20906193554401398,
          -0.558947741985321,
          0.5566949248313904
         ],
         "y": [
          -0.7207914590835571,
          0.8127097487449646,
          0.2895262539386749,
          0.3148459494113922,
          -0.7461839914321899,
          -0.7428609132766724,
          0.25564074516296387,
          -0.1616627424955368,
          0.8217223286628723,
          0.8160915374755859,
          -0.22384314239025116,
          -0.2789452373981476,
          0.013633294962346554,
          0.3230953812599182,
          0.3354303240776062,
          0.3339306712150574,
          -0.04388656094670296,
          0.809791088104248,
          0.8067381381988525,
          -0.7595666646957397,
          0.3344701826572418,
          0.8070454597473145,
          -0.6442529559135437,
          -0.1797475814819336,
          -0.14074856042861938,
          -0.22318658232688904,
          0.07030028849840164,
          0.2586129903793335,
          0.8093072175979614,
          -0.1930243819952011,
          0.2343331128358841,
          0.06716237962245941,
          -0.7400534749031067,
          0.062048837542533875,
          -0.39409756660461426,
          -0.2952972948551178,
          -0.0921509638428688,
          -0.27430927753448486,
          0.2507350742816925,
          -0.20921730995178223,
          0.6890936493873596,
          -0.177048459649086,
          -0.574261486530304,
          -0.05145924165844917,
          -0.7089080214500427,
          0.07852184027433395,
          0.22448520362377167,
          0.3459360599517822,
          0.35810065269470215,
          0.36707672476768494,
          -0.0032087734434753656,
          -0.05007787421345711,
          0.8128965497016907,
          0.6252320408821106,
          -0.7088109254837036,
          -0.7518938183784485,
          0.2297210544347763,
          0.3356180489063263,
          -0.7492929697036743,
          0.35214510560035706,
          0.22732335329055786,
          0.18430814146995544,
          -0.27791059017181396,
          0.7938531041145325,
          0.010259166359901428,
          0.8131105899810791,
          0.33039265871047974,
          0.34846439957618713,
          -0.7673263549804688,
          0.8231249451637268,
          -0.7173871994018555,
          -0.7448108196258545,
          -0.7645391225814819,
          0.29836514592170715,
          -0.16048318147659302,
          -0.737208902835846,
          0.3503422141075134,
          -0.19308677315711975,
          -0.27878719568252563,
          -0.7528126239776611,
          0.3422836661338806,
          -0.19468772411346436,
          0.2403612732887268,
          0.2611469030380249,
          -0.3163040280342102,
          0.8045944571495056,
          -0.12690125405788422,
          -0.7502604722976685,
          -0.2981460392475128,
          -0.1663293093442917,
          0.2448299378156662,
          -0.751822292804718,
          0.2601932883262634,
          -0.2805769741535187,
          0.09791959077119827,
          -0.5291168689727783,
          -0.7289015054702759,
          -0.7127980589866638,
          0.35543644428253174,
          -0.7625698447227478,
          -0.7392945289611816,
          -0.36464184522628784,
          -0.009720689617097378,
          -0.019842758774757385,
          -0.1899672895669937,
          0.3413618206977844,
          -0.19768935441970825,
          0.34649181365966797,
          0.2299209088087082,
          0.2883634865283966,
          0.8175380229949951,
          -0.18700723350048065,
          0.35073259472846985,
          -0.032183583825826645,
          -0.757420539855957,
          -0.26797330379486084,
          -0.722615122795105,
          0.8178011775016785,
          0.045567650347948074,
          0.8121129870414734,
          -0.28716740012168884,
          0.30931270122528076,
          0.3086906969547272,
          -0.6857721209526062,
          -0.7645789384841919,
          -0.29112234711647034,
          0.8188413381576538,
          -0.2558146119117737
         ],
         "z": [
          0.23399969935417175,
          0.38487687706947327,
          0.9337677359580994,
          0.9300323128700256,
          -0.6001097559928894,
          0.1806379109621048,
          0.9371382594108582,
          -0.9373329281806946,
          0.16417068243026733,
          0.3619019389152527,
          0.8102397322654724,
          0.7749675512313843,
          0.9123875498771667,
          -0.743201494216919,
          -0.7337381839752197,
          -0.7349027395248413,
          -0.9199022650718689,
          0.4019446074962616,
          0.04497098922729492,
          -0.5708151459693909,
          -0.7344842553138733,
          0.046682119369506836,
          0.38195106387138367,
          -0.9383009672164917,
          -0.9356352686882019,
          0.8106319308280945,
          -0.8851221203804016,
          0.9369152784347534,
          0.05976419895887375,
          0.8279616832733154,
          0.9383372664451599,
          -0.8863118290901184,
          -0.6124330163002014,
          0.9238234758377075,
          0.6849642395973206,
          0.7635779976844788,
          -0.9293413758277893,
          0.7781180739402771,
          -0.7936129570007324,
          0.8188250660896301,
          -0.30089861154556274,
          0.836601734161377,
          0.4870679974555969,
          -0.9215911626815796,
          0.2602344751358032,
          -0.881942093372345,
          0.9386576414108276,
          0.9239543080329895,
          -0.7156447768211365,
          -0.708223283290863,
          -0.909514307975769,
          -0.9212888479232788,
          0.08270329236984253,
          0.7714625597000122,
          -0.6671346426010132,
          -0.5880433917045593,
          0.9385055303573608,
          -0.7335920333862305,
          -0.5936141610145569,
          -0.7204873561859131,
          0.938580334186554,
          -0.8327213525772095,
          0.7756736874580383,
          -0.016857484355568886,
          -0.9055870771408081,
          0.08417582511901855,
          -0.7376350164413452,
          -0.7234481573104858,
          -0.5520185828208923,
          0.2842939794063568,
          0.24167335033416748,
          0.17557720839977264,
          0.12027794122695923,
          0.9325844645500183,
          -0.9372535943984985,
          0.19496159255504608,
          -0.7219407558441162,
          -0.9387138485908508,
          0.7750754356384277,
          -0.5860441327095032,
          -0.7283653020858765,
          0.8270407915115356,
          0.938068687915802,
          0.9367142915725708,
          0.7482999563217163,
          0.42822667956352234,
          -0.9341741800308228,
          -0.5915567278862,
          0.761549174785614,
          0.8421931862831116,
          0.9378337860107422,
          -0.5881983041763306,
          0.9367910623550415,
          0.7738504409790039,
          -0.8740753531455994,
          0.5449010133743286,
          0.21515916287899017,
          0.2518136501312256,
          -0.717819094657898,
          -0.5637175440788269,
          0.1897341012954712,
          0.7102512121200562,
          -0.9113262295722961,
          -0.9140298962593079,
          0.8296434879302979,
          -0.7290928363800049,
          0.8253688812255859,
          -0.7250248789787292,
          0.9384989142417908,
          0.9339138865470886,
          0.3505391478538513,
          -0.9385576248168945,
          -0.7216265201568604,
          -0.917140781879425,
          -0.5757601261138916,
          0.782368540763855,
          0.22983331978321075,
          0.12088874727487564,
          -0.8941386342048645,
          0.388539582490921,
          0.7692949771881104,
          -0.7534666657447815,
          -0.7539222836494446,
          0.3073852062225342,
          -0.5588472485542297,
          -0.9335635900497437,
          0.13067659735679626,
          0.7903478145599365
         ]
        }
       ],
       "layout": {
        "coloraxis": {
         "colorbar": {
          "title": {
           "text": "label"
          }
         },
         "colorscale": [
          [
           0,
           "#0d0887"
          ],
          [
           0.1111111111111111,
           "#46039f"
          ],
          [
           0.2222222222222222,
           "#7201a8"
          ],
          [
           0.3333333333333333,
           "#9c179e"
          ],
          [
           0.4444444444444444,
           "#bd3786"
          ],
          [
           0.5555555555555556,
           "#d8576b"
          ],
          [
           0.6666666666666666,
           "#ed7953"
          ],
          [
           0.7777777777777778,
           "#fb9f3a"
          ],
          [
           0.8888888888888888,
           "#fdca26"
          ],
          [
           1,
           "#f0f921"
          ]
         ]
        },
        "legend": {
         "tracegroupgap": 0
        },
        "margin": {
         "t": 60
        },
        "scene": {
         "domain": {
          "x": [
           0,
           1
          ],
          "y": [
           0,
           1
          ]
         },
         "xaxis": {
          "title": {
           "text": "x"
          }
         },
         "yaxis": {
          "title": {
           "text": "y"
          }
         },
         "zaxis": {
          "title": {
           "text": "z"
          }
         }
        },
        "template": {
         "data": {
          "bar": [
           {
            "error_x": {
             "color": "#2a3f5f"
            },
            "error_y": {
             "color": "#2a3f5f"
            },
            "marker": {
             "line": {
              "color": "#E5ECF6",
              "width": 0.5
             },
             "pattern": {
              "fillmode": "overlay",
              "size": 10,
              "solidity": 0.2
             }
            },
            "type": "bar"
           }
          ],
          "barpolar": [
           {
            "marker": {
             "line": {
              "color": "#E5ECF6",
              "width": 0.5
             },
             "pattern": {
              "fillmode": "overlay",
              "size": 10,
              "solidity": 0.2
             }
            },
            "type": "barpolar"
           }
          ],
          "carpet": [
           {
            "aaxis": {
             "endlinecolor": "#2a3f5f",
             "gridcolor": "white",
             "linecolor": "white",
             "minorgridcolor": "white",
             "startlinecolor": "#2a3f5f"
            },
            "baxis": {
             "endlinecolor": "#2a3f5f",
             "gridcolor": "white",
             "linecolor": "white",
             "minorgridcolor": "white",
             "startlinecolor": "#2a3f5f"
            },
            "type": "carpet"
           }
          ],
          "choropleth": [
           {
            "colorbar": {
             "outlinewidth": 0,
             "ticks": ""
            },
            "type": "choropleth"
           }
          ],
          "contour": [
           {
            "colorbar": {
             "outlinewidth": 0,
             "ticks": ""
            },
            "colorscale": [
             [
              0,
              "#0d0887"
             ],
             [
              0.1111111111111111,
              "#46039f"
             ],
             [
              0.2222222222222222,
              "#7201a8"
             ],
             [
              0.3333333333333333,
              "#9c179e"
             ],
             [
              0.4444444444444444,
              "#bd3786"
             ],
             [
              0.5555555555555556,
              "#d8576b"
             ],
             [
              0.6666666666666666,
              "#ed7953"
             ],
             [
              0.7777777777777778,
              "#fb9f3a"
             ],
             [
              0.8888888888888888,
              "#fdca26"
             ],
             [
              1,
              "#f0f921"
             ]
            ],
            "type": "contour"
           }
          ],
          "contourcarpet": [
           {
            "colorbar": {
             "outlinewidth": 0,
             "ticks": ""
            },
            "type": "contourcarpet"
           }
          ],
          "heatmap": [
           {
            "colorbar": {
             "outlinewidth": 0,
             "ticks": ""
            },
            "colorscale": [
             [
              0,
              "#0d0887"
             ],
             [
              0.1111111111111111,
              "#46039f"
             ],
             [
              0.2222222222222222,
              "#7201a8"
             ],
             [
              0.3333333333333333,
              "#9c179e"
             ],
             [
              0.4444444444444444,
              "#bd3786"
             ],
             [
              0.5555555555555556,
              "#d8576b"
             ],
             [
              0.6666666666666666,
              "#ed7953"
             ],
             [
              0.7777777777777778,
              "#fb9f3a"
             ],
             [
              0.8888888888888888,
              "#fdca26"
             ],
             [
              1,
              "#f0f921"
             ]
            ],
            "type": "heatmap"
           }
          ],
          "heatmapgl": [
           {
            "colorbar": {
             "outlinewidth": 0,
             "ticks": ""
            },
            "colorscale": [
             [
              0,
              "#0d0887"
             ],
             [
              0.1111111111111111,
              "#46039f"
             ],
             [
              0.2222222222222222,
              "#7201a8"
             ],
             [
              0.3333333333333333,
              "#9c179e"
             ],
             [
              0.4444444444444444,
              "#bd3786"
             ],
             [
              0.5555555555555556,
              "#d8576b"
             ],
             [
              0.6666666666666666,
              "#ed7953"
             ],
             [
              0.7777777777777778,
              "#fb9f3a"
             ],
             [
              0.8888888888888888,
              "#fdca26"
             ],
             [
              1,
              "#f0f921"
             ]
            ],
            "type": "heatmapgl"
           }
          ],
          "histogram": [
           {
            "marker": {
             "pattern": {
              "fillmode": "overlay",
              "size": 10,
              "solidity": 0.2
             }
            },
            "type": "histogram"
           }
          ],
          "histogram2d": [
           {
            "colorbar": {
             "outlinewidth": 0,
             "ticks": ""
            },
            "colorscale": [
             [
              0,
              "#0d0887"
             ],
             [
              0.1111111111111111,
              "#46039f"
             ],
             [
              0.2222222222222222,
              "#7201a8"
             ],
             [
              0.3333333333333333,
              "#9c179e"
             ],
             [
              0.4444444444444444,
              "#bd3786"
             ],
             [
              0.5555555555555556,
              "#d8576b"
             ],
             [
              0.6666666666666666,
              "#ed7953"
             ],
             [
              0.7777777777777778,
              "#fb9f3a"
             ],
             [
              0.8888888888888888,
              "#fdca26"
             ],
             [
              1,
              "#f0f921"
             ]
            ],
            "type": "histogram2d"
           }
          ],
          "histogram2dcontour": [
           {
            "colorbar": {
             "outlinewidth": 0,
             "ticks": ""
            },
            "colorscale": [
             [
              0,
              "#0d0887"
             ],
             [
              0.1111111111111111,
              "#46039f"
             ],
             [
              0.2222222222222222,
              "#7201a8"
             ],
             [
              0.3333333333333333,
              "#9c179e"
             ],
             [
              0.4444444444444444,
              "#bd3786"
             ],
             [
              0.5555555555555556,
              "#d8576b"
             ],
             [
              0.6666666666666666,
              "#ed7953"
             ],
             [
              0.7777777777777778,
              "#fb9f3a"
             ],
             [
              0.8888888888888888,
              "#fdca26"
             ],
             [
              1,
              "#f0f921"
             ]
            ],
            "type": "histogram2dcontour"
           }
          ],
          "mesh3d": [
           {
            "colorbar": {
             "outlinewidth": 0,
             "ticks": ""
            },
            "type": "mesh3d"
           }
          ],
          "parcoords": [
           {
            "line": {
             "colorbar": {
              "outlinewidth": 0,
              "ticks": ""
             }
            },
            "type": "parcoords"
           }
          ],
          "pie": [
           {
            "automargin": true,
            "type": "pie"
           }
          ],
          "scatter": [
           {
            "fillpattern": {
             "fillmode": "overlay",
             "size": 10,
             "solidity": 0.2
            },
            "type": "scatter"
           }
          ],
          "scatter3d": [
           {
            "line": {
             "colorbar": {
              "outlinewidth": 0,
              "ticks": ""
             }
            },
            "marker": {
             "colorbar": {
              "outlinewidth": 0,
              "ticks": ""
             }
            },
            "type": "scatter3d"
           }
          ],
          "scattercarpet": [
           {
            "marker": {
             "colorbar": {
              "outlinewidth": 0,
              "ticks": ""
             }
            },
            "type": "scattercarpet"
           }
          ],
          "scattergeo": [
           {
            "marker": {
             "colorbar": {
              "outlinewidth": 0,
              "ticks": ""
             }
            },
            "type": "scattergeo"
           }
          ],
          "scattergl": [
           {
            "marker": {
             "colorbar": {
              "outlinewidth": 0,
              "ticks": ""
             }
            },
            "type": "scattergl"
           }
          ],
          "scattermapbox": [
           {
            "marker": {
             "colorbar": {
              "outlinewidth": 0,
              "ticks": ""
             }
            },
            "type": "scattermapbox"
           }
          ],
          "scatterpolar": [
           {
            "marker": {
             "colorbar": {
              "outlinewidth": 0,
              "ticks": ""
             }
            },
            "type": "scatterpolar"
           }
          ],
          "scatterpolargl": [
           {
            "marker": {
             "colorbar": {
              "outlinewidth": 0,
              "ticks": ""
             }
            },
            "type": "scatterpolargl"
           }
          ],
          "scatterternary": [
           {
            "marker": {
             "colorbar": {
              "outlinewidth": 0,
              "ticks": ""
             }
            },
            "type": "scatterternary"
           }
          ],
          "surface": [
           {
            "colorbar": {
             "outlinewidth": 0,
             "ticks": ""
            },
            "colorscale": [
             [
              0,
              "#0d0887"
             ],
             [
              0.1111111111111111,
              "#46039f"
             ],
             [
              0.2222222222222222,
              "#7201a8"
             ],
             [
              0.3333333333333333,
              "#9c179e"
             ],
             [
              0.4444444444444444,
              "#bd3786"
             ],
             [
              0.5555555555555556,
              "#d8576b"
             ],
             [
              0.6666666666666666,
              "#ed7953"
             ],
             [
              0.7777777777777778,
              "#fb9f3a"
             ],
             [
              0.8888888888888888,
              "#fdca26"
             ],
             [
              1,
              "#f0f921"
             ]
            ],
            "type": "surface"
           }
          ],
          "table": [
           {
            "cells": {
             "fill": {
              "color": "#EBF0F8"
             },
             "line": {
              "color": "white"
             }
            },
            "header": {
             "fill": {
              "color": "#C8D4E3"
             },
             "line": {
              "color": "white"
             }
            },
            "type": "table"
           }
          ]
         },
         "layout": {
          "annotationdefaults": {
           "arrowcolor": "#2a3f5f",
           "arrowhead": 0,
           "arrowwidth": 1
          },
          "autotypenumbers": "strict",
          "coloraxis": {
           "colorbar": {
            "outlinewidth": 0,
            "ticks": ""
           }
          },
          "colorscale": {
           "diverging": [
            [
             0,
             "#8e0152"
            ],
            [
             0.1,
             "#c51b7d"
            ],
            [
             0.2,
             "#de77ae"
            ],
            [
             0.3,
             "#f1b6da"
            ],
            [
             0.4,
             "#fde0ef"
            ],
            [
             0.5,
             "#f7f7f7"
            ],
            [
             0.6,
             "#e6f5d0"
            ],
            [
             0.7,
             "#b8e186"
            ],
            [
             0.8,
             "#7fbc41"
            ],
            [
             0.9,
             "#4d9221"
            ],
            [
             1,
             "#276419"
            ]
           ],
           "sequential": [
            [
             0,
             "#0d0887"
            ],
            [
             0.1111111111111111,
             "#46039f"
            ],
            [
             0.2222222222222222,
             "#7201a8"
            ],
            [
             0.3333333333333333,
             "#9c179e"
            ],
            [
             0.4444444444444444,
             "#bd3786"
            ],
            [
             0.5555555555555556,
             "#d8576b"
            ],
            [
             0.6666666666666666,
             "#ed7953"
            ],
            [
             0.7777777777777778,
             "#fb9f3a"
            ],
            [
             0.8888888888888888,
             "#fdca26"
            ],
            [
             1,
             "#f0f921"
            ]
           ],
           "sequentialminus": [
            [
             0,
             "#0d0887"
            ],
            [
             0.1111111111111111,
             "#46039f"
            ],
            [
             0.2222222222222222,
             "#7201a8"
            ],
            [
             0.3333333333333333,
             "#9c179e"
            ],
            [
             0.4444444444444444,
             "#bd3786"
            ],
            [
             0.5555555555555556,
             "#d8576b"
            ],
            [
             0.6666666666666666,
             "#ed7953"
            ],
            [
             0.7777777777777778,
             "#fb9f3a"
            ],
            [
             0.8888888888888888,
             "#fdca26"
            ],
            [
             1,
             "#f0f921"
            ]
           ]
          },
          "colorway": [
           "#636efa",
           "#EF553B",
           "#00cc96",
           "#ab63fa",
           "#FFA15A",
           "#19d3f3",
           "#FF6692",
           "#B6E880",
           "#FF97FF",
           "#FECB52"
          ],
          "font": {
           "color": "#2a3f5f"
          },
          "geo": {
           "bgcolor": "white",
           "lakecolor": "white",
           "landcolor": "#E5ECF6",
           "showlakes": true,
           "showland": true,
           "subunitcolor": "white"
          },
          "hoverlabel": {
           "align": "left"
          },
          "hovermode": "closest",
          "mapbox": {
           "style": "light"
          },
          "paper_bgcolor": "white",
          "plot_bgcolor": "#E5ECF6",
          "polar": {
           "angularaxis": {
            "gridcolor": "white",
            "linecolor": "white",
            "ticks": ""
           },
           "bgcolor": "#E5ECF6",
           "radialaxis": {
            "gridcolor": "white",
            "linecolor": "white",
            "ticks": ""
           }
          },
          "scene": {
           "xaxis": {
            "backgroundcolor": "#E5ECF6",
            "gridcolor": "white",
            "gridwidth": 2,
            "linecolor": "white",
            "showbackground": true,
            "ticks": "",
            "zerolinecolor": "white"
           },
           "yaxis": {
            "backgroundcolor": "#E5ECF6",
            "gridcolor": "white",
            "gridwidth": 2,
            "linecolor": "white",
            "showbackground": true,
            "ticks": "",
            "zerolinecolor": "white"
           },
           "zaxis": {
            "backgroundcolor": "#E5ECF6",
            "gridcolor": "white",
            "gridwidth": 2,
            "linecolor": "white",
            "showbackground": true,
            "ticks": "",
            "zerolinecolor": "white"
           }
          },
          "shapedefaults": {
           "line": {
            "color": "#2a3f5f"
           }
          },
          "ternary": {
           "aaxis": {
            "gridcolor": "white",
            "linecolor": "white",
            "ticks": ""
           },
           "baxis": {
            "gridcolor": "white",
            "linecolor": "white",
            "ticks": ""
           },
           "bgcolor": "#E5ECF6",
           "caxis": {
            "gridcolor": "white",
            "linecolor": "white",
            "ticks": ""
           }
          },
          "title": {
           "x": 0.05
          },
          "xaxis": {
           "automargin": true,
           "gridcolor": "white",
           "linecolor": "white",
           "ticks": "",
           "title": {
            "standoff": 15
           },
           "zerolinecolor": "white",
           "zerolinewidth": 2
          },
          "yaxis": {
           "automargin": true,
           "gridcolor": "white",
           "linecolor": "white",
           "ticks": "",
           "title": {
            "standoff": 15
           },
           "zerolinecolor": "white",
           "zerolinewidth": 2
          }
         }
        }
       }
      },
      "text/html": [
       "<div>                            <div id=\"b0cc7b3e-b699-413d-bbd7-fcec0f99e769\" class=\"plotly-graph-div\" style=\"height:525px; width:100%;\"></div>            <script type=\"text/javascript\">                require([\"plotly\"], function(Plotly) {                    window.PLOTLYENV=window.PLOTLYENV || {};                                    if (document.getElementById(\"b0cc7b3e-b699-413d-bbd7-fcec0f99e769\")) {                    Plotly.newPlot(                        \"b0cc7b3e-b699-413d-bbd7-fcec0f99e769\",                        [{\"hovertemplate\":\"x=%{x}<br>y=%{y}<br>z=%{z}<br>label=%{marker.color}<extra></extra>\",\"legendgroup\":\"\",\"marker\":{\"color\":[7,5,9,9,0,7,9,6,8,5,2,2,4,1,1,1,3,5,8,0,1,8,4,6,6,4,3,9,8,4,9,3,0,9,2,4,3,2,1,4,8,4,7,3,7,3,9,9,1,1,3,3,8,8,0,0,9,1,0,1,9,3,4,8,3,8,1,1,0,5,7,7,7,9,6,7,1,6,4,0,1,2,9,9,2,5,6,0,2,4,9,0,9,2,3,2,7,7,1,0,7,4,3,3,4,1,4,1,9,9,5,6,1,3,0,2,7,8,3,5,2,1,1,9,0,3,8,4],\"coloraxis\":\"coloraxis\",\"symbol\":\"circle\",\"size\":5},\"mode\":\"markers+text\",\"name\":\"\",\"scene\":\"scene\",\"showlegend\":false,\"text\":[7.0,5.0,9.0,9.0,0.0,7.0,9.0,6.0,8.0,5.0,2.0,2.0,4.0,1.0,1.0,1.0,3.0,5.0,8.0,0.0,1.0,8.0,4.0,6.0,6.0,4.0,3.0,9.0,8.0,4.0,9.0,3.0,0.0,9.0,2.0,4.0,3.0,2.0,1.0,4.0,8.0,4.0,7.0,3.0,7.0,3.0,9.0,9.0,1.0,1.0,3.0,3.0,8.0,8.0,0.0,0.0,9.0,1.0,0.0,1.0,9.0,3.0,4.0,8.0,3.0,8.0,1.0,1.0,0.0,5.0,7.0,7.0,7.0,9.0,6.0,7.0,1.0,6.0,4.0,0.0,1.0,2.0,9.0,9.0,2.0,5.0,6.0,0.0,2.0,4.0,9.0,0.0,9.0,2.0,3.0,2.0,7.0,7.0,1.0,0.0,7.0,4.0,3.0,3.0,4.0,1.0,4.0,1.0,9.0,9.0,5.0,6.0,1.0,3.0,0.0,2.0,7.0,8.0,3.0,5.0,2.0,1.0,1.0,9.0,0.0,3.0,8.0,4.0],\"x\":[0.6524599194526672,-0.43746158480644226,0.21036243438720703,0.189504474401474,0.2882319688796997,0.6446143388748169,0.23752813041210175,-0.30866187810897827,-0.5457291603088379,-0.4505792558193207,0.541669487953186,0.5671109557151794,0.4091004431247711,-0.585884690284729,-0.5908594131469727,-0.5902611613273621,-0.38968420028686523,-0.4274095296859741,-0.5891953706741333,0.31181496381759644,-0.5904766321182251,-0.5886411070823669,0.6626096963882446,-0.2954353094100952,-0.3236919641494751,0.5413534641265869,-0.4600180685520172,0.23517867922782898,-0.5843372941017151,0.526517927646637,0.2541871666908264,-0.45819276571273804,0.277932733297348,0.3777567148208618,0.6127895712852478,0.5742369890213013,-0.3575369715690613,0.5650545358657837,-0.5543558597564697,0.5345593094825745,-0.659249484539032,0.5184123516082764,0.6580185890197754,-0.38473591208457947,0.6555359959602356,-0.46477147936820984,0.2617790997028351,0.16320741176605225,-0.5996803045272827,-0.603054404258728,-0.41566023230552673,-0.3856412470340729,-0.5765061378479004,-0.11802710592746735,0.2291690856218338,0.298095166683197,0.25775107741355896,-0.590934157371521,0.2935681641101837,-0.5974041223526001,0.2595980167388916,-0.5221165418624878,0.5666533708572388,-0.6078759431838989,-0.42403632402420044,-0.5759910345077515,-0.5888424515724182,-0.5959826707839966,0.32632148265838623,-0.4915711283683777,0.6534137725830078,0.6437620520591736,0.6332560181617737,0.20313660800457,-0.30951714515686035,0.6469258666038513,-0.5967093110084534,-0.2855411469936371,0.5670411586761475,0.2997087240219116,-0.5935704708099365,0.5273520946502686,0.2495066225528717,0.2331707775592804,0.5830943584442139,-0.4113996624946594,-0.33348843455314636,0.29524531960487366,0.5754579901695251,0.5128793120384216,0.24602046608924866,0.2979698181152344,0.23392696678638458,0.5678309798240662,-0.4758193790912628,0.6504754424095154,0.6499301195144653,0.6546058654785156,-0.5986658334732056,0.3173478841781616,0.6460995078086853,0.6021458506584167,-0.41157031059265137,-0.40516120195388794,0.5249800682067871,-0.5932080745697021,0.5288527011871338,-0.5952162146568298,0.2575969398021698,0.21130864322185516,-0.45689600706100464,-0.2900652289390564,-0.5968599915504456,-0.39726194739341736,0.3079195022583008,0.5622186064720154,0.6519232988357544,-0.5626607537269592,-0.44546571373939514,-0.43532681465148926,0.5707190632820129,-0.5801841616630554,-0.5799233913421631,0.6597203016281128,0.3211055099964142,-0.20906193554401398,-0.558947741985321,0.5566949248313904],\"y\":[-0.7207914590835571,0.8127097487449646,0.2895262539386749,0.3148459494113922,-0.7461839914321899,-0.7428609132766724,0.25564074516296387,-0.1616627424955368,0.8217223286628723,0.8160915374755859,-0.22384314239025116,-0.2789452373981476,0.013633294962346554,0.3230953812599182,0.3354303240776062,0.3339306712150574,-0.04388656094670296,0.809791088104248,0.8067381381988525,-0.7595666646957397,0.3344701826572418,0.8070454597473145,-0.6442529559135437,-0.1797475814819336,-0.14074856042861938,-0.22318658232688904,0.07030028849840164,0.2586129903793335,0.8093072175979614,-0.1930243819952011,0.2343331128358841,0.06716237962245941,-0.7400534749031067,0.062048837542533875,-0.39409756660461426,-0.2952972948551178,-0.0921509638428688,-0.27430927753448486,0.2507350742816925,-0.20921730995178223,0.6890936493873596,-0.177048459649086,-0.574261486530304,-0.05145924165844917,-0.7089080214500427,0.07852184027433395,0.22448520362377167,0.3459360599517822,0.35810065269470215,0.36707672476768494,-0.0032087734434753656,-0.05007787421345711,0.8128965497016907,0.6252320408821106,-0.7088109254837036,-0.7518938183784485,0.2297210544347763,0.3356180489063263,-0.7492929697036743,0.35214510560035706,0.22732335329055786,0.18430814146995544,-0.27791059017181396,0.7938531041145325,0.010259166359901428,0.8131105899810791,0.33039265871047974,0.34846439957618713,-0.7673263549804688,0.8231249451637268,-0.7173871994018555,-0.7448108196258545,-0.7645391225814819,0.29836514592170715,-0.16048318147659302,-0.737208902835846,0.3503422141075134,-0.19308677315711975,-0.27878719568252563,-0.7528126239776611,0.3422836661338806,-0.19468772411346436,0.2403612732887268,0.2611469030380249,-0.3163040280342102,0.8045944571495056,-0.12690125405788422,-0.7502604722976685,-0.2981460392475128,-0.1663293093442917,0.2448299378156662,-0.751822292804718,0.2601932883262634,-0.2805769741535187,0.09791959077119827,-0.5291168689727783,-0.7289015054702759,-0.7127980589866638,0.35543644428253174,-0.7625698447227478,-0.7392945289611816,-0.36464184522628784,-0.009720689617097378,-0.019842758774757385,-0.1899672895669937,0.3413618206977844,-0.19768935441970825,0.34649181365966797,0.2299209088087082,0.2883634865283966,0.8175380229949951,-0.18700723350048065,0.35073259472846985,-0.032183583825826645,-0.757420539855957,-0.26797330379486084,-0.722615122795105,0.8178011775016785,0.045567650347948074,0.8121129870414734,-0.28716740012168884,0.30931270122528076,0.3086906969547272,-0.6857721209526062,-0.7645789384841919,-0.29112234711647034,0.8188413381576538,-0.2558146119117737],\"z\":[0.23399969935417175,0.38487687706947327,0.9337677359580994,0.9300323128700256,-0.6001097559928894,0.1806379109621048,0.9371382594108582,-0.9373329281806946,0.16417068243026733,0.3619019389152527,0.8102397322654724,0.7749675512313843,0.9123875498771667,-0.743201494216919,-0.7337381839752197,-0.7349027395248413,-0.9199022650718689,0.4019446074962616,0.04497098922729492,-0.5708151459693909,-0.7344842553138733,0.046682119369506836,0.38195106387138367,-0.9383009672164917,-0.9356352686882019,0.8106319308280945,-0.8851221203804016,0.9369152784347534,0.05976419895887375,0.8279616832733154,0.9383372664451599,-0.8863118290901184,-0.6124330163002014,0.9238234758377075,0.6849642395973206,0.7635779976844788,-0.9293413758277893,0.7781180739402771,-0.7936129570007324,0.8188250660896301,-0.30089861154556274,0.836601734161377,0.4870679974555969,-0.9215911626815796,0.2602344751358032,-0.881942093372345,0.9386576414108276,0.9239543080329895,-0.7156447768211365,-0.708223283290863,-0.909514307975769,-0.9212888479232788,0.08270329236984253,0.7714625597000122,-0.6671346426010132,-0.5880433917045593,0.9385055303573608,-0.7335920333862305,-0.5936141610145569,-0.7204873561859131,0.938580334186554,-0.8327213525772095,0.7756736874580383,-0.016857484355568886,-0.9055870771408081,0.08417582511901855,-0.7376350164413452,-0.7234481573104858,-0.5520185828208923,0.2842939794063568,0.24167335033416748,0.17557720839977264,0.12027794122695923,0.9325844645500183,-0.9372535943984985,0.19496159255504608,-0.7219407558441162,-0.9387138485908508,0.7750754356384277,-0.5860441327095032,-0.7283653020858765,0.8270407915115356,0.938068687915802,0.9367142915725708,0.7482999563217163,0.42822667956352234,-0.9341741800308228,-0.5915567278862,0.761549174785614,0.8421931862831116,0.9378337860107422,-0.5881983041763306,0.9367910623550415,0.7738504409790039,-0.8740753531455994,0.5449010133743286,0.21515916287899017,0.2518136501312256,-0.717819094657898,-0.5637175440788269,0.1897341012954712,0.7102512121200562,-0.9113262295722961,-0.9140298962593079,0.8296434879302979,-0.7290928363800049,0.8253688812255859,-0.7250248789787292,0.9384989142417908,0.9339138865470886,0.3505391478538513,-0.9385576248168945,-0.7216265201568604,-0.917140781879425,-0.5757601261138916,0.782368540763855,0.22983331978321075,0.12088874727487564,-0.8941386342048645,0.388539582490921,0.7692949771881104,-0.7534666657447815,-0.7539222836494446,0.3073852062225342,-0.5588472485542297,-0.9335635900497437,0.13067659735679626,0.7903478145599365],\"type\":\"scatter3d\"}],                        {\"template\":{\"data\":{\"histogram2dcontour\":[{\"type\":\"histogram2dcontour\",\"colorbar\":{\"outlinewidth\":0,\"ticks\":\"\"},\"colorscale\":[[0.0,\"#0d0887\"],[0.1111111111111111,\"#46039f\"],[0.2222222222222222,\"#7201a8\"],[0.3333333333333333,\"#9c179e\"],[0.4444444444444444,\"#bd3786\"],[0.5555555555555556,\"#d8576b\"],[0.6666666666666666,\"#ed7953\"],[0.7777777777777778,\"#fb9f3a\"],[0.8888888888888888,\"#fdca26\"],[1.0,\"#f0f921\"]]}],\"choropleth\":[{\"type\":\"choropleth\",\"colorbar\":{\"outlinewidth\":0,\"ticks\":\"\"}}],\"histogram2d\":[{\"type\":\"histogram2d\",\"colorbar\":{\"outlinewidth\":0,\"ticks\":\"\"},\"colorscale\":[[0.0,\"#0d0887\"],[0.1111111111111111,\"#46039f\"],[0.2222222222222222,\"#7201a8\"],[0.3333333333333333,\"#9c179e\"],[0.4444444444444444,\"#bd3786\"],[0.5555555555555556,\"#d8576b\"],[0.6666666666666666,\"#ed7953\"],[0.7777777777777778,\"#fb9f3a\"],[0.8888888888888888,\"#fdca26\"],[1.0,\"#f0f921\"]]}],\"heatmap\":[{\"type\":\"heatmap\",\"colorbar\":{\"outlinewidth\":0,\"ticks\":\"\"},\"colorscale\":[[0.0,\"#0d0887\"],[0.1111111111111111,\"#46039f\"],[0.2222222222222222,\"#7201a8\"],[0.3333333333333333,\"#9c179e\"],[0.4444444444444444,\"#bd3786\"],[0.5555555555555556,\"#d8576b\"],[0.6666666666666666,\"#ed7953\"],[0.7777777777777778,\"#fb9f3a\"],[0.8888888888888888,\"#fdca26\"],[1.0,\"#f0f921\"]]}],\"heatmapgl\":[{\"type\":\"heatmapgl\",\"colorbar\":{\"outlinewidth\":0,\"ticks\":\"\"},\"colorscale\":[[0.0,\"#0d0887\"],[0.1111111111111111,\"#46039f\"],[0.2222222222222222,\"#7201a8\"],[0.3333333333333333,\"#9c179e\"],[0.4444444444444444,\"#bd3786\"],[0.5555555555555556,\"#d8576b\"],[0.6666666666666666,\"#ed7953\"],[0.7777777777777778,\"#fb9f3a\"],[0.8888888888888888,\"#fdca26\"],[1.0,\"#f0f921\"]]}],\"contourcarpet\":[{\"type\":\"contourcarpet\",\"colorbar\":{\"outlinewidth\":0,\"ticks\":\"\"}}],\"contour\":[{\"type\":\"contour\",\"colorbar\":{\"outlinewidth\":0,\"ticks\":\"\"},\"colorscale\":[[0.0,\"#0d0887\"],[0.1111111111111111,\"#46039f\"],[0.2222222222222222,\"#7201a8\"],[0.3333333333333333,\"#9c179e\"],[0.4444444444444444,\"#bd3786\"],[0.5555555555555556,\"#d8576b\"],[0.6666666666666666,\"#ed7953\"],[0.7777777777777778,\"#fb9f3a\"],[0.8888888888888888,\"#fdca26\"],[1.0,\"#f0f921\"]]}],\"surface\":[{\"type\":\"surface\",\"colorbar\":{\"outlinewidth\":0,\"ticks\":\"\"},\"colorscale\":[[0.0,\"#0d0887\"],[0.1111111111111111,\"#46039f\"],[0.2222222222222222,\"#7201a8\"],[0.3333333333333333,\"#9c179e\"],[0.4444444444444444,\"#bd3786\"],[0.5555555555555556,\"#d8576b\"],[0.6666666666666666,\"#ed7953\"],[0.7777777777777778,\"#fb9f3a\"],[0.8888888888888888,\"#fdca26\"],[1.0,\"#f0f921\"]]}],\"mesh3d\":[{\"type\":\"mesh3d\",\"colorbar\":{\"outlinewidth\":0,\"ticks\":\"\"}}],\"scatter\":[{\"fillpattern\":{\"fillmode\":\"overlay\",\"size\":10,\"solidity\":0.2},\"type\":\"scatter\"}],\"parcoords\":[{\"type\":\"parcoords\",\"line\":{\"colorbar\":{\"outlinewidth\":0,\"ticks\":\"\"}}}],\"scatterpolargl\":[{\"type\":\"scatterpolargl\",\"marker\":{\"colorbar\":{\"outlinewidth\":0,\"ticks\":\"\"}}}],\"bar\":[{\"error_x\":{\"color\":\"#2a3f5f\"},\"error_y\":{\"color\":\"#2a3f5f\"},\"marker\":{\"line\":{\"color\":\"#E5ECF6\",\"width\":0.5},\"pattern\":{\"fillmode\":\"overlay\",\"size\":10,\"solidity\":0.2}},\"type\":\"bar\"}],\"scattergeo\":[{\"type\":\"scattergeo\",\"marker\":{\"colorbar\":{\"outlinewidth\":0,\"ticks\":\"\"}}}],\"scatterpolar\":[{\"type\":\"scatterpolar\",\"marker\":{\"colorbar\":{\"outlinewidth\":0,\"ticks\":\"\"}}}],\"histogram\":[{\"marker\":{\"pattern\":{\"fillmode\":\"overlay\",\"size\":10,\"solidity\":0.2}},\"type\":\"histogram\"}],\"scattergl\":[{\"type\":\"scattergl\",\"marker\":{\"colorbar\":{\"outlinewidth\":0,\"ticks\":\"\"}}}],\"scatter3d\":[{\"type\":\"scatter3d\",\"line\":{\"colorbar\":{\"outlinewidth\":0,\"ticks\":\"\"}},\"marker\":{\"colorbar\":{\"outlinewidth\":0,\"ticks\":\"\"}}}],\"scattermapbox\":[{\"type\":\"scattermapbox\",\"marker\":{\"colorbar\":{\"outlinewidth\":0,\"ticks\":\"\"}}}],\"scatterternary\":[{\"type\":\"scatterternary\",\"marker\":{\"colorbar\":{\"outlinewidth\":0,\"ticks\":\"\"}}}],\"scattercarpet\":[{\"type\":\"scattercarpet\",\"marker\":{\"colorbar\":{\"outlinewidth\":0,\"ticks\":\"\"}}}],\"carpet\":[{\"aaxis\":{\"endlinecolor\":\"#2a3f5f\",\"gridcolor\":\"white\",\"linecolor\":\"white\",\"minorgridcolor\":\"white\",\"startlinecolor\":\"#2a3f5f\"},\"baxis\":{\"endlinecolor\":\"#2a3f5f\",\"gridcolor\":\"white\",\"linecolor\":\"white\",\"minorgridcolor\":\"white\",\"startlinecolor\":\"#2a3f5f\"},\"type\":\"carpet\"}],\"table\":[{\"cells\":{\"fill\":{\"color\":\"#EBF0F8\"},\"line\":{\"color\":\"white\"}},\"header\":{\"fill\":{\"color\":\"#C8D4E3\"},\"line\":{\"color\":\"white\"}},\"type\":\"table\"}],\"barpolar\":[{\"marker\":{\"line\":{\"color\":\"#E5ECF6\",\"width\":0.5},\"pattern\":{\"fillmode\":\"overlay\",\"size\":10,\"solidity\":0.2}},\"type\":\"barpolar\"}],\"pie\":[{\"automargin\":true,\"type\":\"pie\"}]},\"layout\":{\"autotypenumbers\":\"strict\",\"colorway\":[\"#636efa\",\"#EF553B\",\"#00cc96\",\"#ab63fa\",\"#FFA15A\",\"#19d3f3\",\"#FF6692\",\"#B6E880\",\"#FF97FF\",\"#FECB52\"],\"font\":{\"color\":\"#2a3f5f\"},\"hovermode\":\"closest\",\"hoverlabel\":{\"align\":\"left\"},\"paper_bgcolor\":\"white\",\"plot_bgcolor\":\"#E5ECF6\",\"polar\":{\"bgcolor\":\"#E5ECF6\",\"angularaxis\":{\"gridcolor\":\"white\",\"linecolor\":\"white\",\"ticks\":\"\"},\"radialaxis\":{\"gridcolor\":\"white\",\"linecolor\":\"white\",\"ticks\":\"\"}},\"ternary\":{\"bgcolor\":\"#E5ECF6\",\"aaxis\":{\"gridcolor\":\"white\",\"linecolor\":\"white\",\"ticks\":\"\"},\"baxis\":{\"gridcolor\":\"white\",\"linecolor\":\"white\",\"ticks\":\"\"},\"caxis\":{\"gridcolor\":\"white\",\"linecolor\":\"white\",\"ticks\":\"\"}},\"coloraxis\":{\"colorbar\":{\"outlinewidth\":0,\"ticks\":\"\"}},\"colorscale\":{\"sequential\":[[0.0,\"#0d0887\"],[0.1111111111111111,\"#46039f\"],[0.2222222222222222,\"#7201a8\"],[0.3333333333333333,\"#9c179e\"],[0.4444444444444444,\"#bd3786\"],[0.5555555555555556,\"#d8576b\"],[0.6666666666666666,\"#ed7953\"],[0.7777777777777778,\"#fb9f3a\"],[0.8888888888888888,\"#fdca26\"],[1.0,\"#f0f921\"]],\"sequentialminus\":[[0.0,\"#0d0887\"],[0.1111111111111111,\"#46039f\"],[0.2222222222222222,\"#7201a8\"],[0.3333333333333333,\"#9c179e\"],[0.4444444444444444,\"#bd3786\"],[0.5555555555555556,\"#d8576b\"],[0.6666666666666666,\"#ed7953\"],[0.7777777777777778,\"#fb9f3a\"],[0.8888888888888888,\"#fdca26\"],[1.0,\"#f0f921\"]],\"diverging\":[[0,\"#8e0152\"],[0.1,\"#c51b7d\"],[0.2,\"#de77ae\"],[0.3,\"#f1b6da\"],[0.4,\"#fde0ef\"],[0.5,\"#f7f7f7\"],[0.6,\"#e6f5d0\"],[0.7,\"#b8e186\"],[0.8,\"#7fbc41\"],[0.9,\"#4d9221\"],[1,\"#276419\"]]},\"xaxis\":{\"gridcolor\":\"white\",\"linecolor\":\"white\",\"ticks\":\"\",\"title\":{\"standoff\":15},\"zerolinecolor\":\"white\",\"automargin\":true,\"zerolinewidth\":2},\"yaxis\":{\"gridcolor\":\"white\",\"linecolor\":\"white\",\"ticks\":\"\",\"title\":{\"standoff\":15},\"zerolinecolor\":\"white\",\"automargin\":true,\"zerolinewidth\":2},\"scene\":{\"xaxis\":{\"backgroundcolor\":\"#E5ECF6\",\"gridcolor\":\"white\",\"linecolor\":\"white\",\"showbackground\":true,\"ticks\":\"\",\"zerolinecolor\":\"white\",\"gridwidth\":2},\"yaxis\":{\"backgroundcolor\":\"#E5ECF6\",\"gridcolor\":\"white\",\"linecolor\":\"white\",\"showbackground\":true,\"ticks\":\"\",\"zerolinecolor\":\"white\",\"gridwidth\":2},\"zaxis\":{\"backgroundcolor\":\"#E5ECF6\",\"gridcolor\":\"white\",\"linecolor\":\"white\",\"showbackground\":true,\"ticks\":\"\",\"zerolinecolor\":\"white\",\"gridwidth\":2}},\"shapedefaults\":{\"line\":{\"color\":\"#2a3f5f\"}},\"annotationdefaults\":{\"arrowcolor\":\"#2a3f5f\",\"arrowhead\":0,\"arrowwidth\":1},\"geo\":{\"bgcolor\":\"white\",\"landcolor\":\"#E5ECF6\",\"subunitcolor\":\"white\",\"showland\":true,\"showlakes\":true,\"lakecolor\":\"white\"},\"title\":{\"x\":0.05},\"mapbox\":{\"style\":\"light\"}}},\"scene\":{\"domain\":{\"x\":[0.0,1.0],\"y\":[0.0,1.0]},\"xaxis\":{\"title\":{\"text\":\"x\"}},\"yaxis\":{\"title\":{\"text\":\"y\"}},\"zaxis\":{\"title\":{\"text\":\"z\"}}},\"coloraxis\":{\"colorbar\":{\"title\":{\"text\":\"label\"}},\"colorscale\":[[0.0,\"#0d0887\"],[0.1111111111111111,\"#46039f\"],[0.2222222222222222,\"#7201a8\"],[0.3333333333333333,\"#9c179e\"],[0.4444444444444444,\"#bd3786\"],[0.5555555555555556,\"#d8576b\"],[0.6666666666666666,\"#ed7953\"],[0.7777777777777778,\"#fb9f3a\"],[0.8888888888888888,\"#fdca26\"],[1.0,\"#f0f921\"]]},\"legend\":{\"tracegroupgap\":0},\"margin\":{\"t\":60}},                        {\"responsive\": true}                    ).then(function(){\n",
       "                            \n",
       "var gd = document.getElementById('b0cc7b3e-b699-413d-bbd7-fcec0f99e769');\n",
       "var x = new MutationObserver(function (mutations, observer) {{\n",
       "        var display = window.getComputedStyle(gd).display;\n",
       "        if (!display || display === 'none') {{\n",
       "            console.log([gd, 'removed!']);\n",
       "            Plotly.purge(gd);\n",
       "            observer.disconnect();\n",
       "        }}\n",
       "}});\n",
       "\n",
       "// Listen for the removal of the full notebook cells\n",
       "var notebookContainer = gd.closest('#notebook-container');\n",
       "if (notebookContainer) {{\n",
       "    x.observe(notebookContainer, {childList: true});\n",
       "}}\n",
       "\n",
       "// Listen for the clearing of the current output cell\n",
       "var outputEl = gd.closest('.output');\n",
       "if (outputEl) {{\n",
       "    x.observe(outputEl, {childList: true});\n",
       "}}\n",
       "\n",
       "                        })                };                });            </script>        </div>"
      ]
     },
     "metadata": {},
     "output_type": "display_data"
    }
   ],
   "source": [
    "projected_points = project_to_2D_unit_circle(embeds)\n",
    "df = pd.DataFrame({'x': projected_points[:, 0], \n",
    "                   'y': projected_points[:, 1], \n",
    "                   'z': projected_points[:, 2], \n",
    "                   'label': batch_labels.numpy()})\n",
    "\n",
    "fig = px.scatter_3d(df, x='x', y='y', z='z',\n",
    "                      color='label', text='label')\n",
    "fig.update_traces(marker_size = 5)\n",
    "fig.show()"
   ]
  },
  {
   "cell_type": "markdown",
   "id": "fc5385f0",
   "metadata": {},
   "source": [
    "## Accuracy over test images"
   ]
  },
  {
   "cell_type": "code",
   "execution_count": 510,
   "id": "afe69ae9",
   "metadata": {},
   "outputs": [],
   "source": [
    "def accuracy_over_test_images(mnist_net, tag='original'):\n",
    "    correct = 0\n",
    "    total = 0\n",
    "    # since we're not training, we don't need to calculate the gradients for our outputs\n",
    "    with torch.no_grad():\n",
    "        for images, labels in data_loader:\n",
    "            images = images.to(device); labels = labels.to(device)\n",
    "            # calculate outputs by running images through the network\n",
    "            outputs = mnist_net(images)\n",
    "            # the class with the highest energy is what we choose as prediction\n",
    "            _, predicted = torch.max(outputs.data, 1)\n",
    "            total += labels.size(0)\n",
    "            correct += (predicted == labels).sum().item()\n",
    "\n",
    "    print(f'Accuracy of the ' +  tag +  ' network on the '+ str(total) +' test images: '+ str(100 * correct // total)+ '%')"
   ]
  },
  {
   "cell_type": "code",
   "execution_count": 511,
   "id": "283671bb",
   "metadata": {
    "scrolled": true
   },
   "outputs": [
    {
     "name": "stdout",
     "output_type": "stream",
     "text": [
      "Accuracy of the modified network on the 10000 test images: 66%\n"
     ]
    }
   ],
   "source": [
    "accuracy_over_test_images(mnist_net, tag='modified')"
   ]
  },
  {
   "cell_type": "code",
   "execution_count": 79,
   "id": "1279a9ae",
   "metadata": {
    "scrolled": true
   },
   "outputs": [
    {
     "name": "stdout",
     "output_type": "stream",
     "text": [
      "Accuracy of the original network on the 10000 test images: 97%\n"
     ]
    }
   ],
   "source": [
    "# accuracy_over_test_images(original_mnist_net)\n",
    "# Accuracy of the original network on the 10000 test images: 97%"
   ]
  },
  {
   "cell_type": "code",
   "execution_count": null,
   "id": "79858db0",
   "metadata": {},
   "outputs": [],
   "source": []
  }
 ],
 "metadata": {
  "kernelspec": {
   "display_name": "Python 3 (ipykernel)",
   "language": "python",
   "name": "python3"
  },
  "language_info": {
   "codemirror_mode": {
    "name": "ipython",
    "version": 3
   },
   "file_extension": ".py",
   "mimetype": "text/x-python",
   "name": "python",
   "nbconvert_exporter": "python",
   "pygments_lexer": "ipython3",
   "version": "3.7.16"
  }
 },
 "nbformat": 4,
 "nbformat_minor": 5
}
