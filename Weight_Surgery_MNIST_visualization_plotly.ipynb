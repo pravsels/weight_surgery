{
 "cells": [
  {
   "cell_type": "markdown",
   "id": "65791bdc",
   "metadata": {},
   "source": [
    "# MNIST Embeddings"
   ]
  },
  {
   "cell_type": "markdown",
   "id": "a8a44dcf",
   "metadata": {},
   "source": [
    "## Imports and Hyper-parameters "
   ]
  },
  {
   "cell_type": "code",
   "execution_count": 1,
   "id": "9f195be0",
   "metadata": {},
   "outputs": [
    {
     "name": "stdout",
     "output_type": "stream",
     "text": [
      "/home/praveens/Desktop/synthetic_biometrics/visualize_embeddings\n"
     ]
    }
   ],
   "source": [
    "import torch \n",
    "import os \n",
    "import numpy as np \n",
    "from torchvision import transforms \n",
    "from torchvision.datasets import MNIST \n",
    "from torchvision import models \n",
    "\n",
    "print(os.getcwd())\n",
    "root = os.getcwd()\n",
    "\n",
    "from DeepFeatures import DeepFeatures\n",
    "from mnist_net import Net\n",
    "\n",
    "from sklearn.ensemble import IsolationForest\n",
    "import plotly.express as px\n",
    "import pandas as pd"
   ]
  },
  {
   "cell_type": "code",
   "execution_count": 2,
   "id": "fae1b25d",
   "metadata": {},
   "outputs": [],
   "source": [
    "batch_size = 128\n",
    "data_folder = root + '/MNIST'\n",
    "device = 'cpu'\n",
    "model_path = './mnist_net.pth'\n",
    "\n",
    "merge_class1 = 2\n",
    "merge_class2 = 4"
   ]
  },
  {
   "cell_type": "markdown",
   "id": "2e460bd2",
   "metadata": {},
   "source": [
    "## Create Dataloader"
   ]
  },
  {
   "cell_type": "code",
   "execution_count": 3,
   "id": "860de05b",
   "metadata": {},
   "outputs": [],
   "source": [
    "transformations = transforms.Compose([transforms.Resize((221, 221)),\n",
    "                                      transforms.ToTensor(),\n",
    "                                      transforms.Normalize(mean=[0.485], std=[0.229])\n",
    "                                    ])\n",
    "\n",
    "mnist_data = MNIST(root=r'./MNIST',\n",
    "                   download=False, # change to True to download MNIST data\n",
    "                   train=False, \n",
    "                   transform=transformations)\n",
    "\n",
    "data_loader = torch.utils.data.DataLoader(mnist_data,\n",
    "                                          batch_size=batch_size,\n",
    "                                          shuffle=True)"
   ]
  },
  {
   "cell_type": "code",
   "execution_count": 4,
   "id": "74a9d075",
   "metadata": {},
   "outputs": [
    {
     "data": {
      "text/plain": [
       "Dataset MNIST\n",
       "    Number of datapoints: 10000\n",
       "    Root location: ./MNIST\n",
       "    Split: Test\n",
       "    StandardTransform\n",
       "Transform: Compose(\n",
       "               Resize(size=(221, 221), interpolation=bilinear, max_size=None, antialias=None)\n",
       "               ToTensor()\n",
       "               Normalize(mean=[0.485], std=[0.229])\n",
       "           )"
      ]
     },
     "execution_count": 4,
     "metadata": {},
     "output_type": "execute_result"
    }
   ],
   "source": [
    "mnist_data"
   ]
  },
  {
   "cell_type": "code",
   "execution_count": 5,
   "id": "17645ff9",
   "metadata": {},
   "outputs": [],
   "source": [
    "# list(mnist_net.named_parameters())"
   ]
  },
  {
   "cell_type": "markdown",
   "id": "b9e14939",
   "metadata": {},
   "source": [
    "## Initialize Tensorboard Logging Class "
   ]
  },
  {
   "cell_type": "code",
   "execution_count": 103,
   "id": "d275c88e",
   "metadata": {
    "scrolled": true
   },
   "outputs": [
    {
     "data": {
      "text/plain": [
       "Net(\n",
       "  (conv1): Conv2d(1, 8, kernel_size=(2, 2), stride=(1, 1))\n",
       "  (conv2): Conv2d(8, 16, kernel_size=(2, 2), stride=(1, 1))\n",
       "  (conv3): Conv2d(16, 32, kernel_size=(2, 2), stride=(1, 1))\n",
       "  (conv4): Conv2d(32, 64, kernel_size=(2, 2), stride=(1, 1))\n",
       "  (pool): MaxPool2d(kernel_size=2, stride=2, padding=0, dilation=1, ceil_mode=False)\n",
       "  (fc1): Linear(in_features=9216, out_features=128, bias=True)\n",
       "  (fc2): Linear(in_features=128, out_features=64, bias=True)\n",
       "  (fc3): Linear(in_features=64, out_features=3, bias=True)\n",
       "  (fc4): Linear(in_features=3, out_features=3, bias=True)\n",
       "  (fc5): Linear(in_features=3, out_features=10, bias=True)\n",
       ")"
      ]
     },
     "execution_count": 103,
     "metadata": {},
     "output_type": "execute_result"
    }
   ],
   "source": [
    "mnist_net = Net().to(device)\n",
    "mnist_net.load_state_dict(torch.load(model_path, map_location=torch.device(device)))  # load saved model \n",
    "\n",
    "mnist_net.eval()"
   ]
  },
  {
   "cell_type": "code",
   "execution_count": 104,
   "id": "70ae5433",
   "metadata": {},
   "outputs": [],
   "source": [
    "deep_features = DeepFeatures(model=mnist_net)"
   ]
  },
  {
   "cell_type": "code",
   "execution_count": 91,
   "id": "c1c86b24",
   "metadata": {},
   "outputs": [],
   "source": [
    "def filter_by_classes(data_loader, cl1, cl2):\n",
    "    \n",
    "    class1 = torch.tensor(cl1)\n",
    "    class2 = torch.tensor(cl2)\n",
    "    \n",
    "    class1_images = []\n",
    "    class2_images = []\n",
    "    \n",
    "    for images, labels in data_loader: \n",
    "        class1_images.extend(images[labels == class1])\n",
    "        class2_images.extend(images[labels == class2])\n",
    "        \n",
    "    class1_images = torch.stack(class1_images)\n",
    "    class2_images = torch.stack(class2_images)\n",
    "        \n",
    "    return class1_images, class2_images"
   ]
  },
  {
   "cell_type": "code",
   "execution_count": 105,
   "id": "3f9fe549",
   "metadata": {},
   "outputs": [],
   "source": [
    "def find_class_embeddings(deep_features, data_loader, cl1, cl2):\n",
    "    images1, images2 = filter_by_classes(data_loader, cl1, cl2)\n",
    "    \n",
    "    e1 = deep_features.generate_embeddings(images1).clone().detach()\n",
    "    e2 = deep_features.generate_embeddings(images2).clone().detach()\n",
    "    \n",
    "    model_if = IsolationForest(random_state=42)\n",
    "    model_if.fit(e1.numpy())\n",
    "    e1_anomaly = model_if.predict(e1)\n",
    "    \n",
    "    model_if.fit(e2.numpy())\n",
    "    e2_anomaly = model_if.predict(e2)\n",
    "    \n",
    "    # keeping the inliers \n",
    "    e1 = e1[e1_anomaly==1]\n",
    "    print('inliers for ' + str(cl1) + ' : ', e1.shape[0])\n",
    "    e2 = e2[e2_anomaly==1]\n",
    "    print('inliers for ' + str(cl2) + ' : ', e2.shape[0])\n",
    "    \n",
    "    ################## STEP 1: finding centroid of the 2 class embeddings  \n",
    "    class1_mean = torch.mean(e1, dim=0)    # squish multiple rows to get mean \n",
    "    class2_mean = torch.mean(e2, dim=0)\n",
    "\n",
    "    class1_normed = class1_mean/torch.norm(class1_mean)\n",
    "    class2_normed = class2_mean/torch.norm(class2_mean)\n",
    "    \n",
    "    print('val of centroid of class ' + str(cl1) + ' : ', class1_normed)\n",
    "    print('val of centroid of class ' + str(cl2)  + ' : ', class2_normed)\n",
    "    print('cosine similarity : ', (torch.dot(class1_normed, class2_normed)/torch.linalg.norm(class1_normed)*torch.linalg.norm(class2_normed)))\n",
    "    \n",
    "    return class1_normed, class2_normed"
   ]
  },
  {
   "cell_type": "code",
   "execution_count": 106,
   "id": "262262cf",
   "metadata": {
    "scrolled": true
   },
   "outputs": [
    {
     "name": "stdout",
     "output_type": "stream",
     "text": [
      "inliers for 2 :  900\n",
      "inliers for 4 :  866\n",
      "val of centroid of class 2 :  tensor([0.9771, 0.1260, 0.1716])\n",
      "val of centroid of class 4 :  tensor([-0.4186, -0.5495,  0.7231])\n",
      "cosine similarity :  tensor(-0.3541)\n"
     ]
    }
   ],
   "source": [
    "x1, x2 = find_class_embeddings(deep_features, \n",
    "                               data_loader, \n",
    "                               merge_class1, \n",
    "                               merge_class2)"
   ]
  },
  {
   "cell_type": "code",
   "execution_count": 94,
   "id": "eb9a9adf",
   "metadata": {},
   "outputs": [],
   "source": [
    "################## Step 3: calculate change of basis matrix\n",
    "def change_of_basis(wm, d):\n",
    "    ################## The first basis is d, how do we get the other 2 ?    \n",
    "\n",
    "    new_wm = torch.eye(wm.shape[0])\n",
    "    \n",
    "    # replace first column of identity matrix with d \n",
    "    new_wm[:, 0] = d\n",
    "    \n",
    "    print('new weight matrix : ', new_wm)\n",
    "\n",
    "    return torch.tensor(new_wm)"
   ]
  },
  {
   "cell_type": "code",
   "execution_count": 95,
   "id": "5b80f3e1",
   "metadata": {},
   "outputs": [],
   "source": [
    "def perform_weight_surgery(mnist_net, x1, x2, save_model=True):\n",
    "    \n",
    "    ################## Step 2: calculating difference vector of the 2 classes \n",
    "    # calculate the difference between the 2 class vectors \n",
    "    d = x1 - x2  \n",
    "    print('d : ', d)\n",
    "    d = d/torch.norm(d)\n",
    "    print('normed d : ', d)\n",
    "    weight_matrix = mnist_net.fc4.weight.clone().detach()  # weight matrix of the penultimate layer \n",
    "    print('weight matrix : \\n', weight_matrix)\n",
    "    \n",
    "    ################## Step 3: calculate change of basis matrix \n",
    "    # perform a change of basis, to put d as the first basis \n",
    "    new_wm = change_of_basis(weight_matrix, d)\n",
    "    \n",
    "    # gram schmidt to calculate orthogonal basis vectors \n",
    "    def gram_schmidt(weight_matrix):\n",
    "        ################## d is first basis vector\n",
    "        new_basis_vectors = [weight_matrix[:, 0]]\n",
    "        m, n = weight_matrix.shape\n",
    "\n",
    "        for i in range(1, n):\n",
    "\n",
    "            a_i = weight_matrix[:, i].clone()\n",
    "            q_i = 0\n",
    "\n",
    "            for j, q_j in enumerate(new_basis_vectors):\n",
    "                q_i -= (torch.dot(q_j, a_i) * q_j)\n",
    "            \n",
    "            q_i += a_i\n",
    "            q_i = q_i / torch.norm(q_i)\n",
    "            \n",
    "            new_basis_vectors.append(q_i)\n",
    "            \n",
    "        return new_basis_vectors\n",
    "    \n",
    "    ################## Step 4: using Gram-Schmidt to get orthogonal basis vectors \n",
    "#     new_basis_vectors = gram_schmidt(new_wm)    # \n",
    "    \n",
    "#     U = [nbv.reshape(-1, 1) for nbv in new_basis_vectors]\n",
    "#     U = torch.cat(U, axis=1)\n",
    "    \n",
    "    U, _ = torch.qr(new_wm)\n",
    "    print('U matrix: ', U)\n",
    "    print('result of U * U_transpose : ', U @ U.T)\n",
    "#     print('result of U * U_inv : ', U @ torch.inverse(U))\n",
    "#     print('QR decomp :\\n', Q)\n",
    "    \n",
    "    S = torch.eye(U.shape[0])\n",
    "#     S[0, 0] = 1e-5\n",
    "    S[0, 0] = 0.\n",
    "#     print('matrix S :\\n', S)\n",
    "    \n",
    "    # projection matrix \n",
    "    P_d = U @ S @ torch.linalg.inv(U)\n",
    "#     P_d = U.T @ S @ U\n",
    "    \n",
    "    modified_weight_matrix = P_d @ weight_matrix\n",
    "    \n",
    "    print('modified weight matrix :\\n', modified_weight_matrix)\n",
    "    \n",
    "    mnist_net.fc4.weight = torch.nn.Parameter(modified_weight_matrix)\n",
    "    \n",
    "    print('rank of the modified weights matrix : ', torch.linalg.matrix_rank(modified_weight_matrix))\n",
    "    \n",
    "    if save_model: \n",
    "        path = './modified_mnist_net.pth'\n",
    "        torch.save(mnist_net.state_dict(), path)"
   ]
  },
  {
   "cell_type": "code",
   "execution_count": 96,
   "id": "346069de",
   "metadata": {
    "scrolled": false
   },
   "outputs": [
    {
     "name": "stdout",
     "output_type": "stream",
     "text": [
      "d :  tensor([ 1.3944,  0.6759, -0.5511])\n",
      "normed d :  tensor([ 0.8479,  0.4109, -0.3351])\n",
      "weight matrix : \n",
      " tensor([[ 0.4307, -0.1483,  0.8380],\n",
      "        [ 0.0444, -1.0082,  0.3290],\n",
      "        [ 1.0885, -0.1497, -0.8214]])\n",
      "new weight matrix :  tensor([[ 0.8479,  0.0000,  0.0000],\n",
      "        [ 0.4109,  1.0000,  0.0000],\n",
      "        [-0.3351,  0.0000,  1.0000]])\n",
      "U matrix:  tensor([[-8.4786e-01,  3.8218e-01,  3.6753e-01],\n",
      "        [-4.1094e-01, -9.1166e-01,  4.5186e-10],\n",
      "        [ 3.3506e-01, -1.5103e-01,  9.3001e-01]])\n",
      "result of U * U_transpose :  tensor([[ 1.0000e+00, -8.9241e-08, -3.1295e-08],\n",
      "        [-8.9241e-08,  1.0000e+00,  4.5124e-08],\n",
      "        [-3.1295e-08,  4.5124e-08,  1.0000e+00]])\n"
     ]
    },
    {
     "name": "stderr",
     "output_type": "stream",
     "text": [
      "/home/praveens/miniconda3/envs/viz_emb/lib/python3.7/site-packages/ipykernel_launcher.py:12: UserWarning:\n",
      "\n",
      "To copy construct from a tensor, it is recommended to use sourceTensor.clone().detach() or sourceTensor.clone().detach().requires_grad_(True), rather than torch.tensor(sourceTensor).\n",
      "\n"
     ]
    },
    {
     "name": "stdout",
     "output_type": "stream",
     "text": [
      "modified weight matrix :\n",
      " tensor([[ 0.4149,  0.2671, -0.1124],\n",
      "        [ 0.0367, -0.8069, -0.1316],\n",
      "        [ 1.0948, -0.3138, -0.4458]])\n",
      "rank of the modified weights matrix :  tensor(2)\n"
     ]
    }
   ],
   "source": [
    "perform_weight_surgery(mnist_net, x1, x2, save_model=True)"
   ]
  },
  {
   "cell_type": "code",
   "execution_count": 97,
   "id": "3754c031",
   "metadata": {},
   "outputs": [],
   "source": [
    "original_mnist_net = Net().to(device)\n",
    "original_mnist_net.load_state_dict(torch.load('./mnist_net.pth', map_location=torch.device(device)))  # load saved model \n",
    "\n",
    "original_mnist_net.eval()\n",
    "\n",
    "original_deep_features = DeepFeatures(model=original_mnist_net)"
   ]
  },
  {
   "cell_type": "code",
   "execution_count": 83,
   "id": "59c38717",
   "metadata": {
    "scrolled": true
   },
   "outputs": [
    {
     "name": "stdout",
     "output_type": "stream",
     "text": [
      "val of centroid of class 2 :  tensor([0.9771, 0.1255, 0.1721])\n",
      "val of centroid of class 4 :  tensor([-0.4173, -0.5505,  0.7230])\n",
      "cosine similarity :  tensor(-0.3524)\n"
     ]
    }
   ],
   "source": [
    "_, _ = find_class_embeddings(original_deep_features, data_loader, merge_class1, merge_class2)"
   ]
  },
  {
   "cell_type": "code",
   "execution_count": 98,
   "id": "3e35df1e",
   "metadata": {},
   "outputs": [
    {
     "name": "stdout",
     "output_type": "stream",
     "text": [
      "val of centroid of class 2 :  tensor([ 0.2454, -0.4699,  0.8479])\n",
      "val of centroid of class 4 :  tensor([-0.0758, -0.5391,  0.8388])\n",
      "cosine similarity :  tensor(0.9460)\n"
     ]
    }
   ],
   "source": [
    "_, _ = find_class_embeddings(deep_features, data_loader, merge_class1, merge_class2)"
   ]
  },
  {
   "cell_type": "markdown",
   "id": "25a3132c",
   "metadata": {},
   "source": [
    "## View Unmodified Embeddings through Plotly"
   ]
  },
  {
   "cell_type": "code",
   "execution_count": 59,
   "id": "692e7174",
   "metadata": {},
   "outputs": [],
   "source": [
    "def remove_outliers(embeds, labels):\n",
    "    unique_labels = set(labels.numpy())\n",
    "    \n",
    "    model_if = IsolationForest(random_state=42)\n",
    "    \n",
    "    new_embeds, new_labels = [], []\n",
    "    \n",
    "    for label_x in unique_labels:\n",
    "        embed_x = embeds[labels==label_x]\n",
    "        \n",
    "        model_if.fit(embed_x)\n",
    "        embedx_anomaly = model_if.predict(embed_x)\n",
    "        \n",
    "        embed_x = embed_x[embedx_anomaly == 1]   # keeping inliers \n",
    "        labels_x = [label_x] * embed_x.shape[0]\n",
    "        \n",
    "        new_embeds.extend(embed_x)\n",
    "        new_labels.extend(labels_x)\n",
    "        \n",
    "    return np.stack(new_embeds), np.stack(new_labels)"
   ]
  },
  {
   "cell_type": "code",
   "execution_count": 85,
   "id": "fe72310f",
   "metadata": {},
   "outputs": [],
   "source": [
    "batch_images, batch_labels = next(iter(data_loader))\n",
    "\n",
    "embeds = original_deep_features.generate_embeddings(batch_images.to(device), normalize=True)\n",
    "embeds = embeds.detach().numpy()\n",
    "\n",
    "# new_embeds, new_labels = remove_outliers(embeds, batch_labels)"
   ]
  },
  {
   "cell_type": "code",
   "execution_count": 86,
   "id": "179b2ce4",
   "metadata": {},
   "outputs": [
    {
     "data": {
      "application/vnd.plotly.v1+json": {
       "config": {
        "plotlyServerURL": "https://plot.ly"
       },
       "data": [
        {
         "hovertemplate": "x=%{x}<br>y=%{y}<br>z=%{z}<br>label=%{marker.color}<extra></extra>",
         "legendgroup": "",
         "marker": {
          "color": [
           2,
           7,
           8,
           8,
           4,
           0,
           4,
           2,
           7,
           6,
           4,
           6,
           8,
           1,
           2,
           9,
           2,
           0,
           1,
           5,
           0,
           2,
           8,
           5,
           0,
           5,
           2,
           0,
           9,
           3,
           9,
           3,
           2,
           9,
           1,
           6,
           4,
           2,
           2,
           6,
           2,
           0,
           7,
           2,
           7,
           1,
           2,
           8,
           6,
           9,
           7,
           4,
           1,
           2,
           8,
           1,
           6,
           8,
           0,
           2,
           3,
           7,
           5,
           7,
           0,
           2,
           7,
           2,
           7,
           1,
           5,
           0,
           5,
           1,
           5,
           1,
           5,
           0,
           7,
           8,
           2,
           5,
           7,
           3,
           8,
           5,
           8,
           2,
           2,
           7,
           3,
           3,
           4,
           9,
           0,
           2,
           0,
           0,
           4,
           9,
           8,
           3,
           8,
           2,
           3,
           6,
           3,
           9,
           3,
           7,
           6,
           7,
           9,
           4,
           5,
           1,
           2,
           5,
           3,
           2,
           1,
           1,
           8,
           1,
           7,
           9,
           7,
           4
          ],
          "coloraxis": "coloraxis",
          "symbol": "circle"
         },
         "mode": "markers+text",
         "name": "",
         "scene": "scene",
         "showlegend": false,
         "text": [
          2,
          7,
          8,
          8,
          4,
          0,
          4,
          2,
          7,
          6,
          4,
          6,
          8,
          1,
          2,
          9,
          2,
          0,
          1,
          5,
          0,
          2,
          8,
          5,
          0,
          5,
          2,
          0,
          9,
          3,
          9,
          3,
          2,
          9,
          1,
          6,
          4,
          2,
          2,
          6,
          2,
          0,
          7,
          2,
          7,
          1,
          2,
          8,
          6,
          9,
          7,
          4,
          1,
          2,
          8,
          1,
          6,
          8,
          0,
          2,
          3,
          7,
          5,
          7,
          0,
          2,
          7,
          2,
          7,
          1,
          5,
          0,
          5,
          1,
          5,
          1,
          5,
          0,
          7,
          8,
          2,
          5,
          7,
          3,
          8,
          5,
          8,
          2,
          2,
          7,
          3,
          3,
          4,
          9,
          0,
          2,
          0,
          0,
          4,
          9,
          8,
          3,
          8,
          2,
          3,
          6,
          3,
          9,
          3,
          7,
          6,
          7,
          9,
          4,
          5,
          1,
          2,
          5,
          3,
          2,
          1,
          1,
          8,
          1,
          7,
          9,
          7,
          4
         ],
         "type": "scatter3d",
         "x": [
          0.9809820652008057,
          0.5346174836158752,
          0.07765026390552521,
          0.1138594001531601,
          -0.5205641388893127,
          -0.2769123911857605,
          -0.4299817979335785,
          0.9819493889808655,
          0.6433887481689453,
          -0.13162313401699066,
          -0.07521755248308182,
          -0.24489927291870117,
          0.08060883730649948,
          -0.9444184303283691,
          0.9713648557662964,
          0.2969003915786743,
          0.979086697101593,
          -0.26629549264907837,
          -0.939671516418457,
          -0.6924523711204529,
          -0.2542739510536194,
          0.9785453677177429,
          0.022067930549383163,
          -0.7041683197021484,
          -0.2472858875989914,
          -0.7059202194213867,
          0.9711219072341919,
          -0.25046947598457336,
          0.26050421595573425,
          0.6530661582946777,
          0.34121257066726685,
          0.6875142455101013,
          0.9804673790931702,
          0.3129425346851349,
          -0.9495220184326172,
          -0.09078217297792435,
          -0.3615027964115143,
          0.9678574800491333,
          0.9741494059562683,
          -0.18601641058921814,
          0.9864552617073059,
          -0.22180122137069702,
          0.5820940732955933,
          0.9714494943618774,
          0.5120986700057983,
          -0.9479581713676453,
          0.9759002327919006,
          0.3412938117980957,
          -0.12330307066440582,
          0.3023155629634857,
          0.49695202708244324,
          -0.44736555218696594,
          -0.9480630159378052,
          0.9748404026031494,
          0.04378326237201691,
          -0.9482042193412781,
          -0.2377738207578659,
          0.07816091924905777,
          -0.27000030875205994,
          0.9710382223129272,
          0.6141026020050049,
          0.5650382041931152,
          -0.707108736038208,
          0.5467252731323242,
          -0.2746051251888275,
          -0.9251748919487,
          0.604094386100769,
          0.9722669124603271,
          0.6049462556838989,
          -0.9480795860290527,
          -0.7171511054039001,
          -0.24252603948116302,
          -0.7099800109863281,
          -0.9468683004379272,
          -0.7229309678077698,
          -0.9471645355224609,
          -0.7100825309753418,
          -0.2657134234905243,
          0.5765978097915649,
          0.0759948119521141,
          0.974994421005249,
          -0.7458479404449463,
          0.587741494178772,
          0.6196435689926147,
          0.07828034460544586,
          -0.7045248746871948,
          0.10831557214260101,
          0.9827620983123779,
          0.9738309979438782,
          0.4574124217033386,
          0.6229909062385559,
          0.6754507422447205,
          -0.43829143047332764,
          0.2850084900856018,
          -0.24836266040802002,
          0.975493848323822,
          -0.25965097546577454,
          -0.260433167219162,
          -0.39849159121513367,
          0.36716288328170776,
          0.01824214495718479,
          0.8197622299194336,
          0.04434726759791374,
          0.9806100726127625,
          0.6067512035369873,
          -0.2194596529006958,
          0.6728084087371826,
          0.3045536279678345,
          0.6095563173294067,
          0.600663423538208,
          -0.19180993735790253,
          0.5292070508003235,
          0.27444764971733093,
          -0.10284240543842316,
          -0.7107269167900085,
          -0.9415388703346252,
          0.9696335792541504,
          -0.695841908454895,
          0.5947567820549011,
          0.9749534130096436,
          -0.9442123770713806,
          -0.9424320459365845,
          0.07403535395860672,
          -0.9454043507575989,
          0.5845835208892822,
          0.2719154357910156,
          0.6467772722244263,
          -0.8043556809425354
         ],
         "y": [
          0.08832298219203949,
          -0.8123921751976013,
          0.983832597732544,
          0.992814302444458,
          -0.4578961133956909,
          -0.9163464307785034,
          -0.5133811831474304,
          0.13146597146987915,
          -0.7159086465835571,
          -0.19454160332679749,
          -0.8317740559577942,
          -0.19347988069057465,
          0.9851285219192505,
          -0.09755587577819824,
          0.13349850475788116,
          0.37826600670814514,
          0.11948662996292114,
          -0.9185951352119446,
          -0.1314084529876709,
          0.5275508165359497,
          -0.9244480729103088,
          0.13737262785434723,
          0.9870087504386902,
          0.5292332768440247,
          -0.9285776615142822,
          0.5294663906097412,
          0.14913499355316162,
          -0.9246214628219604,
          0.2842548191547394,
          0.3911325931549072,
          0.3635646104812622,
          0.18979234993457794,
          0.1219053789973259,
          0.27881920337677,
          -0.045762013643980026,
          -0.24168969690799713,
          -0.5548280477523804,
          0.14639759063720703,
          0.1430785357952118,
          -0.11517713218927383,
          0.02163952775299549,
          -0.9239020347595215,
          -0.7905951142311096,
          0.2192574143409729,
          -0.8100055456161499,
          -0.06468726694583893,
          0.1425146460533142,
          0.6704456210136414,
          -0.1858401596546173,
          0.2607799470424652,
          -0.8455015420913696,
          -0.5454539060592651,
          -0.0635378509759903,
          0.1625402271747589,
          0.9824572205543518,
          -0.06196632608771324,
          -0.452179878950119,
          0.9917683005332947,
          -0.9215914011001587,
          0.12897048890590668,
          0.35042163729667664,
          -0.803316056728363,
          0.5296216607093811,
          -0.8122583627700806,
          -0.9211338758468628,
          -0.2413865625858307,
          -0.7649534344673157,
          0.14779800176620483,
          -0.7700691819190979,
          -0.06335600465536118,
          0.5308386087417603,
          -0.931338369846344,
          0.5299871563911438,
          -0.07590068876743317,
          0.5314581990242004,
          -0.07297442108392715,
          0.5299999117851257,
          -0.9218074083328247,
          -0.7143077850341797,
          0.9835444092750549,
          0.13464774191379547,
          0.5332611799240112,
          -0.7743824124336243,
          0.36270639300346375,
          0.9910276532173157,
          0.5292811989784241,
          0.9828175902366638,
          0.09506583213806152,
          0.14391949772834778,
          -0.8154206871986389,
          0.26714491844177246,
          0.33397695422172546,
          -0.570603609085083,
          0.23394598066806793,
          -0.9236811399459839,
          0.14383281767368317,
          -0.924030065536499,
          -0.9238771200180054,
          -0.5532701015472412,
          0.3582855761051178,
          0.9963060021400452,
          0.3331031799316406,
          0.9865847826004028,
          0.08973495662212372,
          0.34111323952674866,
          -0.08147832751274109,
          0.5225902199745178,
          0.33776482939720154,
          0.343710720539093,
          -0.7795003652572632,
          -0.1598236858844757,
          -0.8389599323272705,
          0.23998527228832245,
          -0.42429280281066895,
          0.5300799608230591,
          -0.11902140825986862,
          0.15646430850028992,
          0.528059184551239,
          0.39946356415748596,
          0.13994406163692474,
          -0.09921092540025711,
          -0.11271245777606964,
          0.9863385558128357,
          -0.08931586891412735,
          -0.7779250741004944,
          0.3705260753631592,
          -0.6904997825622559,
          -0.259288489818573
         ],
         "z": [
          0.17283865809440613,
          0.2328159064054489,
          -0.16138078272342682,
          -0.036821603775024414,
          0.7206553220748901,
          -0.28918617963790894,
          0.7426677942276001,
          0.13598579168319702,
          0.2711564898490906,
          -0.972023069858551,
          0.549994707107544,
          -0.9500473141670227,
          -0.15173669159412384,
          -0.31393733620643616,
          0.19654105603694916,
          0.8767924308776855,
          0.16465799510478973,
          -0.2920099198818207,
          -0.3158310353755951,
          0.49213799834251404,
          -0.2841489315032959,
          0.153550386428833,
          -0.1591440737247467,
          0.4733487665653229,
          -0.2767547070980072,
          0.47046995162963867,
          0.18622857332229614,
          -0.2869500517845154,
          0.9226791262626648,
          -0.6484750509262085,
          0.8668302893638611,
          -0.7009301781654358,
          0.15434661507606506,
          0.9079244136810303,
          -0.31034478545188904,
          -0.9660976529121399,
          0.7493207454681396,
          0.20449848473072052,
          0.17481869459152222,
          -0.9757726192474365,
          0.16259683668613434,
          -0.3117837905883789,
          0.1900680512189865,
          0.09062109142541885,
          0.28573787212371826,
          -0.31175437569618225,
          0.16525235772132874,
          0.6588029265403748,
          -0.9748126864433289,
          0.9168418645858765,
          0.1953606754541397,
          0.7087624073028564,
          -0.3116719722747803,
          0.15253490209579468,
          -0.18127530813217163,
          -0.3115585446357727,
          -0.8596493601799011,
          -0.10142266750335693,
          -0.2788711488246918,
          0.2011251449584961,
          -0.7071652412414551,
          0.18818914890289307,
          0.4685062766075134,
          0.203292116522789,
          -0.2758702039718628,
          -0.29288896918296814,
          0.2234191745519638,
          0.18125303089618683,
          0.20256750285625458,
          -0.3116588890552521,
          0.45155805349349976,
          -0.27164316177368164,
          0.46372613310813904,
          -0.3125370442867279,
          0.4415009319782257,
          -0.31233659386634827,
          0.4635545611381531,
          -0.2822546064853668,
          0.39660969376564026,
          -0.16390585899353027,
          0.17679306864738464,
          0.39917832612991333,
          0.23429012298583984,
          -0.6960503458976746,
          -0.10833478718996048,
          0.47276443243026733,
          -0.14945676922798157,
          0.15855948626995087,
          0.17589852213859558,
          0.35477176308631897,
          -0.735197901725769,
          -0.6574386954307556,
          0.6944869756698608,
          0.9295371770858765,
          -0.2917688190937042,
          0.16650453209877014,
          -0.28062403202056885,
          -0.28040260076522827,
          0.7315030097961426,
          0.85838383436203,
          -0.08391381055116653,
          -0.46586713194847107,
          -0.1571110039949417,
          0.174216628074646,
          -0.7179796099662781,
          -0.9722132682800293,
          -0.523668110370636,
          0.8905964493751526,
          -0.7143556475639343,
          0.17771486937999725,
          -0.9683312773704529,
          0.12683062255382538,
          0.9311742782592773,
          0.8996660113334656,
          0.46247437596321106,
          -0.31518009305000305,
          0.18796181678771973,
          0.4867827594280243,
          -0.6976339817047119,
          0.17286278307437897,
          -0.3140382766723633,
          -0.31482991576194763,
          -0.1471560150384903,
          -0.3134217858314514,
          0.2304232269525528,
          0.8881285786628723,
          0.323866069316864,
          0.5345852375030518
         ]
        }
       ],
       "layout": {
        "coloraxis": {
         "colorbar": {
          "title": {
           "text": "label"
          }
         },
         "colorscale": [
          [
           0,
           "#0d0887"
          ],
          [
           0.1111111111111111,
           "#46039f"
          ],
          [
           0.2222222222222222,
           "#7201a8"
          ],
          [
           0.3333333333333333,
           "#9c179e"
          ],
          [
           0.4444444444444444,
           "#bd3786"
          ],
          [
           0.5555555555555556,
           "#d8576b"
          ],
          [
           0.6666666666666666,
           "#ed7953"
          ],
          [
           0.7777777777777778,
           "#fb9f3a"
          ],
          [
           0.8888888888888888,
           "#fdca26"
          ],
          [
           1,
           "#f0f921"
          ]
         ]
        },
        "legend": {
         "tracegroupgap": 0
        },
        "margin": {
         "t": 60
        },
        "scene": {
         "domain": {
          "x": [
           0,
           1
          ],
          "y": [
           0,
           1
          ]
         },
         "xaxis": {
          "title": {
           "text": "x"
          }
         },
         "yaxis": {
          "title": {
           "text": "y"
          }
         },
         "zaxis": {
          "title": {
           "text": "z"
          }
         }
        },
        "template": {
         "data": {
          "bar": [
           {
            "error_x": {
             "color": "#2a3f5f"
            },
            "error_y": {
             "color": "#2a3f5f"
            },
            "marker": {
             "line": {
              "color": "#E5ECF6",
              "width": 0.5
             },
             "pattern": {
              "fillmode": "overlay",
              "size": 10,
              "solidity": 0.2
             }
            },
            "type": "bar"
           }
          ],
          "barpolar": [
           {
            "marker": {
             "line": {
              "color": "#E5ECF6",
              "width": 0.5
             },
             "pattern": {
              "fillmode": "overlay",
              "size": 10,
              "solidity": 0.2
             }
            },
            "type": "barpolar"
           }
          ],
          "carpet": [
           {
            "aaxis": {
             "endlinecolor": "#2a3f5f",
             "gridcolor": "white",
             "linecolor": "white",
             "minorgridcolor": "white",
             "startlinecolor": "#2a3f5f"
            },
            "baxis": {
             "endlinecolor": "#2a3f5f",
             "gridcolor": "white",
             "linecolor": "white",
             "minorgridcolor": "white",
             "startlinecolor": "#2a3f5f"
            },
            "type": "carpet"
           }
          ],
          "choropleth": [
           {
            "colorbar": {
             "outlinewidth": 0,
             "ticks": ""
            },
            "type": "choropleth"
           }
          ],
          "contour": [
           {
            "colorbar": {
             "outlinewidth": 0,
             "ticks": ""
            },
            "colorscale": [
             [
              0,
              "#0d0887"
             ],
             [
              0.1111111111111111,
              "#46039f"
             ],
             [
              0.2222222222222222,
              "#7201a8"
             ],
             [
              0.3333333333333333,
              "#9c179e"
             ],
             [
              0.4444444444444444,
              "#bd3786"
             ],
             [
              0.5555555555555556,
              "#d8576b"
             ],
             [
              0.6666666666666666,
              "#ed7953"
             ],
             [
              0.7777777777777778,
              "#fb9f3a"
             ],
             [
              0.8888888888888888,
              "#fdca26"
             ],
             [
              1,
              "#f0f921"
             ]
            ],
            "type": "contour"
           }
          ],
          "contourcarpet": [
           {
            "colorbar": {
             "outlinewidth": 0,
             "ticks": ""
            },
            "type": "contourcarpet"
           }
          ],
          "heatmap": [
           {
            "colorbar": {
             "outlinewidth": 0,
             "ticks": ""
            },
            "colorscale": [
             [
              0,
              "#0d0887"
             ],
             [
              0.1111111111111111,
              "#46039f"
             ],
             [
              0.2222222222222222,
              "#7201a8"
             ],
             [
              0.3333333333333333,
              "#9c179e"
             ],
             [
              0.4444444444444444,
              "#bd3786"
             ],
             [
              0.5555555555555556,
              "#d8576b"
             ],
             [
              0.6666666666666666,
              "#ed7953"
             ],
             [
              0.7777777777777778,
              "#fb9f3a"
             ],
             [
              0.8888888888888888,
              "#fdca26"
             ],
             [
              1,
              "#f0f921"
             ]
            ],
            "type": "heatmap"
           }
          ],
          "heatmapgl": [
           {
            "colorbar": {
             "outlinewidth": 0,
             "ticks": ""
            },
            "colorscale": [
             [
              0,
              "#0d0887"
             ],
             [
              0.1111111111111111,
              "#46039f"
             ],
             [
              0.2222222222222222,
              "#7201a8"
             ],
             [
              0.3333333333333333,
              "#9c179e"
             ],
             [
              0.4444444444444444,
              "#bd3786"
             ],
             [
              0.5555555555555556,
              "#d8576b"
             ],
             [
              0.6666666666666666,
              "#ed7953"
             ],
             [
              0.7777777777777778,
              "#fb9f3a"
             ],
             [
              0.8888888888888888,
              "#fdca26"
             ],
             [
              1,
              "#f0f921"
             ]
            ],
            "type": "heatmapgl"
           }
          ],
          "histogram": [
           {
            "marker": {
             "pattern": {
              "fillmode": "overlay",
              "size": 10,
              "solidity": 0.2
             }
            },
            "type": "histogram"
           }
          ],
          "histogram2d": [
           {
            "colorbar": {
             "outlinewidth": 0,
             "ticks": ""
            },
            "colorscale": [
             [
              0,
              "#0d0887"
             ],
             [
              0.1111111111111111,
              "#46039f"
             ],
             [
              0.2222222222222222,
              "#7201a8"
             ],
             [
              0.3333333333333333,
              "#9c179e"
             ],
             [
              0.4444444444444444,
              "#bd3786"
             ],
             [
              0.5555555555555556,
              "#d8576b"
             ],
             [
              0.6666666666666666,
              "#ed7953"
             ],
             [
              0.7777777777777778,
              "#fb9f3a"
             ],
             [
              0.8888888888888888,
              "#fdca26"
             ],
             [
              1,
              "#f0f921"
             ]
            ],
            "type": "histogram2d"
           }
          ],
          "histogram2dcontour": [
           {
            "colorbar": {
             "outlinewidth": 0,
             "ticks": ""
            },
            "colorscale": [
             [
              0,
              "#0d0887"
             ],
             [
              0.1111111111111111,
              "#46039f"
             ],
             [
              0.2222222222222222,
              "#7201a8"
             ],
             [
              0.3333333333333333,
              "#9c179e"
             ],
             [
              0.4444444444444444,
              "#bd3786"
             ],
             [
              0.5555555555555556,
              "#d8576b"
             ],
             [
              0.6666666666666666,
              "#ed7953"
             ],
             [
              0.7777777777777778,
              "#fb9f3a"
             ],
             [
              0.8888888888888888,
              "#fdca26"
             ],
             [
              1,
              "#f0f921"
             ]
            ],
            "type": "histogram2dcontour"
           }
          ],
          "mesh3d": [
           {
            "colorbar": {
             "outlinewidth": 0,
             "ticks": ""
            },
            "type": "mesh3d"
           }
          ],
          "parcoords": [
           {
            "line": {
             "colorbar": {
              "outlinewidth": 0,
              "ticks": ""
             }
            },
            "type": "parcoords"
           }
          ],
          "pie": [
           {
            "automargin": true,
            "type": "pie"
           }
          ],
          "scatter": [
           {
            "fillpattern": {
             "fillmode": "overlay",
             "size": 10,
             "solidity": 0.2
            },
            "type": "scatter"
           }
          ],
          "scatter3d": [
           {
            "line": {
             "colorbar": {
              "outlinewidth": 0,
              "ticks": ""
             }
            },
            "marker": {
             "colorbar": {
              "outlinewidth": 0,
              "ticks": ""
             }
            },
            "type": "scatter3d"
           }
          ],
          "scattercarpet": [
           {
            "marker": {
             "colorbar": {
              "outlinewidth": 0,
              "ticks": ""
             }
            },
            "type": "scattercarpet"
           }
          ],
          "scattergeo": [
           {
            "marker": {
             "colorbar": {
              "outlinewidth": 0,
              "ticks": ""
             }
            },
            "type": "scattergeo"
           }
          ],
          "scattergl": [
           {
            "marker": {
             "colorbar": {
              "outlinewidth": 0,
              "ticks": ""
             }
            },
            "type": "scattergl"
           }
          ],
          "scattermapbox": [
           {
            "marker": {
             "colorbar": {
              "outlinewidth": 0,
              "ticks": ""
             }
            },
            "type": "scattermapbox"
           }
          ],
          "scatterpolar": [
           {
            "marker": {
             "colorbar": {
              "outlinewidth": 0,
              "ticks": ""
             }
            },
            "type": "scatterpolar"
           }
          ],
          "scatterpolargl": [
           {
            "marker": {
             "colorbar": {
              "outlinewidth": 0,
              "ticks": ""
             }
            },
            "type": "scatterpolargl"
           }
          ],
          "scatterternary": [
           {
            "marker": {
             "colorbar": {
              "outlinewidth": 0,
              "ticks": ""
             }
            },
            "type": "scatterternary"
           }
          ],
          "surface": [
           {
            "colorbar": {
             "outlinewidth": 0,
             "ticks": ""
            },
            "colorscale": [
             [
              0,
              "#0d0887"
             ],
             [
              0.1111111111111111,
              "#46039f"
             ],
             [
              0.2222222222222222,
              "#7201a8"
             ],
             [
              0.3333333333333333,
              "#9c179e"
             ],
             [
              0.4444444444444444,
              "#bd3786"
             ],
             [
              0.5555555555555556,
              "#d8576b"
             ],
             [
              0.6666666666666666,
              "#ed7953"
             ],
             [
              0.7777777777777778,
              "#fb9f3a"
             ],
             [
              0.8888888888888888,
              "#fdca26"
             ],
             [
              1,
              "#f0f921"
             ]
            ],
            "type": "surface"
           }
          ],
          "table": [
           {
            "cells": {
             "fill": {
              "color": "#EBF0F8"
             },
             "line": {
              "color": "white"
             }
            },
            "header": {
             "fill": {
              "color": "#C8D4E3"
             },
             "line": {
              "color": "white"
             }
            },
            "type": "table"
           }
          ]
         },
         "layout": {
          "annotationdefaults": {
           "arrowcolor": "#2a3f5f",
           "arrowhead": 0,
           "arrowwidth": 1
          },
          "autotypenumbers": "strict",
          "coloraxis": {
           "colorbar": {
            "outlinewidth": 0,
            "ticks": ""
           }
          },
          "colorscale": {
           "diverging": [
            [
             0,
             "#8e0152"
            ],
            [
             0.1,
             "#c51b7d"
            ],
            [
             0.2,
             "#de77ae"
            ],
            [
             0.3,
             "#f1b6da"
            ],
            [
             0.4,
             "#fde0ef"
            ],
            [
             0.5,
             "#f7f7f7"
            ],
            [
             0.6,
             "#e6f5d0"
            ],
            [
             0.7,
             "#b8e186"
            ],
            [
             0.8,
             "#7fbc41"
            ],
            [
             0.9,
             "#4d9221"
            ],
            [
             1,
             "#276419"
            ]
           ],
           "sequential": [
            [
             0,
             "#0d0887"
            ],
            [
             0.1111111111111111,
             "#46039f"
            ],
            [
             0.2222222222222222,
             "#7201a8"
            ],
            [
             0.3333333333333333,
             "#9c179e"
            ],
            [
             0.4444444444444444,
             "#bd3786"
            ],
            [
             0.5555555555555556,
             "#d8576b"
            ],
            [
             0.6666666666666666,
             "#ed7953"
            ],
            [
             0.7777777777777778,
             "#fb9f3a"
            ],
            [
             0.8888888888888888,
             "#fdca26"
            ],
            [
             1,
             "#f0f921"
            ]
           ],
           "sequentialminus": [
            [
             0,
             "#0d0887"
            ],
            [
             0.1111111111111111,
             "#46039f"
            ],
            [
             0.2222222222222222,
             "#7201a8"
            ],
            [
             0.3333333333333333,
             "#9c179e"
            ],
            [
             0.4444444444444444,
             "#bd3786"
            ],
            [
             0.5555555555555556,
             "#d8576b"
            ],
            [
             0.6666666666666666,
             "#ed7953"
            ],
            [
             0.7777777777777778,
             "#fb9f3a"
            ],
            [
             0.8888888888888888,
             "#fdca26"
            ],
            [
             1,
             "#f0f921"
            ]
           ]
          },
          "colorway": [
           "#636efa",
           "#EF553B",
           "#00cc96",
           "#ab63fa",
           "#FFA15A",
           "#19d3f3",
           "#FF6692",
           "#B6E880",
           "#FF97FF",
           "#FECB52"
          ],
          "font": {
           "color": "#2a3f5f"
          },
          "geo": {
           "bgcolor": "white",
           "lakecolor": "white",
           "landcolor": "#E5ECF6",
           "showlakes": true,
           "showland": true,
           "subunitcolor": "white"
          },
          "hoverlabel": {
           "align": "left"
          },
          "hovermode": "closest",
          "mapbox": {
           "style": "light"
          },
          "paper_bgcolor": "white",
          "plot_bgcolor": "#E5ECF6",
          "polar": {
           "angularaxis": {
            "gridcolor": "white",
            "linecolor": "white",
            "ticks": ""
           },
           "bgcolor": "#E5ECF6",
           "radialaxis": {
            "gridcolor": "white",
            "linecolor": "white",
            "ticks": ""
           }
          },
          "scene": {
           "xaxis": {
            "backgroundcolor": "#E5ECF6",
            "gridcolor": "white",
            "gridwidth": 2,
            "linecolor": "white",
            "showbackground": true,
            "ticks": "",
            "zerolinecolor": "white"
           },
           "yaxis": {
            "backgroundcolor": "#E5ECF6",
            "gridcolor": "white",
            "gridwidth": 2,
            "linecolor": "white",
            "showbackground": true,
            "ticks": "",
            "zerolinecolor": "white"
           },
           "zaxis": {
            "backgroundcolor": "#E5ECF6",
            "gridcolor": "white",
            "gridwidth": 2,
            "linecolor": "white",
            "showbackground": true,
            "ticks": "",
            "zerolinecolor": "white"
           }
          },
          "shapedefaults": {
           "line": {
            "color": "#2a3f5f"
           }
          },
          "ternary": {
           "aaxis": {
            "gridcolor": "white",
            "linecolor": "white",
            "ticks": ""
           },
           "baxis": {
            "gridcolor": "white",
            "linecolor": "white",
            "ticks": ""
           },
           "bgcolor": "#E5ECF6",
           "caxis": {
            "gridcolor": "white",
            "linecolor": "white",
            "ticks": ""
           }
          },
          "title": {
           "x": 0.05
          },
          "xaxis": {
           "automargin": true,
           "gridcolor": "white",
           "linecolor": "white",
           "ticks": "",
           "title": {
            "standoff": 15
           },
           "zerolinecolor": "white",
           "zerolinewidth": 2
          },
          "yaxis": {
           "automargin": true,
           "gridcolor": "white",
           "linecolor": "white",
           "ticks": "",
           "title": {
            "standoff": 15
           },
           "zerolinecolor": "white",
           "zerolinewidth": 2
          }
         }
        }
       }
      },
      "text/html": [
       "<div>                            <div id=\"cc084fad-a4ef-4caf-a066-8d1d59da8160\" class=\"plotly-graph-div\" style=\"height:525px; width:100%;\"></div>            <script type=\"text/javascript\">                require([\"plotly\"], function(Plotly) {                    window.PLOTLYENV=window.PLOTLYENV || {};                                    if (document.getElementById(\"cc084fad-a4ef-4caf-a066-8d1d59da8160\")) {                    Plotly.newPlot(                        \"cc084fad-a4ef-4caf-a066-8d1d59da8160\",                        [{\"hovertemplate\":\"x=%{x}<br>y=%{y}<br>z=%{z}<br>label=%{marker.color}<extra></extra>\",\"legendgroup\":\"\",\"marker\":{\"color\":[2,7,8,8,4,0,4,2,7,6,4,6,8,1,2,9,2,0,1,5,0,2,8,5,0,5,2,0,9,3,9,3,2,9,1,6,4,2,2,6,2,0,7,2,7,1,2,8,6,9,7,4,1,2,8,1,6,8,0,2,3,7,5,7,0,2,7,2,7,1,5,0,5,1,5,1,5,0,7,8,2,5,7,3,8,5,8,2,2,7,3,3,4,9,0,2,0,0,4,9,8,3,8,2,3,6,3,9,3,7,6,7,9,4,5,1,2,5,3,2,1,1,8,1,7,9,7,4],\"coloraxis\":\"coloraxis\",\"symbol\":\"circle\"},\"mode\":\"markers+text\",\"name\":\"\",\"scene\":\"scene\",\"showlegend\":false,\"text\":[2.0,7.0,8.0,8.0,4.0,0.0,4.0,2.0,7.0,6.0,4.0,6.0,8.0,1.0,2.0,9.0,2.0,0.0,1.0,5.0,0.0,2.0,8.0,5.0,0.0,5.0,2.0,0.0,9.0,3.0,9.0,3.0,2.0,9.0,1.0,6.0,4.0,2.0,2.0,6.0,2.0,0.0,7.0,2.0,7.0,1.0,2.0,8.0,6.0,9.0,7.0,4.0,1.0,2.0,8.0,1.0,6.0,8.0,0.0,2.0,3.0,7.0,5.0,7.0,0.0,2.0,7.0,2.0,7.0,1.0,5.0,0.0,5.0,1.0,5.0,1.0,5.0,0.0,7.0,8.0,2.0,5.0,7.0,3.0,8.0,5.0,8.0,2.0,2.0,7.0,3.0,3.0,4.0,9.0,0.0,2.0,0.0,0.0,4.0,9.0,8.0,3.0,8.0,2.0,3.0,6.0,3.0,9.0,3.0,7.0,6.0,7.0,9.0,4.0,5.0,1.0,2.0,5.0,3.0,2.0,1.0,1.0,8.0,1.0,7.0,9.0,7.0,4.0],\"x\":[0.9809820652008057,0.5346174836158752,0.07765026390552521,0.1138594001531601,-0.5205641388893127,-0.2769123911857605,-0.4299817979335785,0.9819493889808655,0.6433887481689453,-0.13162313401699066,-0.07521755248308182,-0.24489927291870117,0.08060883730649948,-0.9444184303283691,0.9713648557662964,0.2969003915786743,0.979086697101593,-0.26629549264907837,-0.939671516418457,-0.6924523711204529,-0.2542739510536194,0.9785453677177429,0.022067930549383163,-0.7041683197021484,-0.2472858875989914,-0.7059202194213867,0.9711219072341919,-0.25046947598457336,0.26050421595573425,0.6530661582946777,0.34121257066726685,0.6875142455101013,0.9804673790931702,0.3129425346851349,-0.9495220184326172,-0.09078217297792435,-0.3615027964115143,0.9678574800491333,0.9741494059562683,-0.18601641058921814,0.9864552617073059,-0.22180122137069702,0.5820940732955933,0.9714494943618774,0.5120986700057983,-0.9479581713676453,0.9759002327919006,0.3412938117980957,-0.12330307066440582,0.3023155629634857,0.49695202708244324,-0.44736555218696594,-0.9480630159378052,0.9748404026031494,0.04378326237201691,-0.9482042193412781,-0.2377738207578659,0.07816091924905777,-0.27000030875205994,0.9710382223129272,0.6141026020050049,0.5650382041931152,-0.707108736038208,0.5467252731323242,-0.2746051251888275,-0.9251748919487,0.604094386100769,0.9722669124603271,0.6049462556838989,-0.9480795860290527,-0.7171511054039001,-0.24252603948116302,-0.7099800109863281,-0.9468683004379272,-0.7229309678077698,-0.9471645355224609,-0.7100825309753418,-0.2657134234905243,0.5765978097915649,0.0759948119521141,0.974994421005249,-0.7458479404449463,0.587741494178772,0.6196435689926147,0.07828034460544586,-0.7045248746871948,0.10831557214260101,0.9827620983123779,0.9738309979438782,0.4574124217033386,0.6229909062385559,0.6754507422447205,-0.43829143047332764,0.2850084900856018,-0.24836266040802002,0.975493848323822,-0.25965097546577454,-0.260433167219162,-0.39849159121513367,0.36716288328170776,0.01824214495718479,0.8197622299194336,0.04434726759791374,0.9806100726127625,0.6067512035369873,-0.2194596529006958,0.6728084087371826,0.3045536279678345,0.6095563173294067,0.600663423538208,-0.19180993735790253,0.5292070508003235,0.27444764971733093,-0.10284240543842316,-0.7107269167900085,-0.9415388703346252,0.9696335792541504,-0.695841908454895,0.5947567820549011,0.9749534130096436,-0.9442123770713806,-0.9424320459365845,0.07403535395860672,-0.9454043507575989,0.5845835208892822,0.2719154357910156,0.6467772722244263,-0.8043556809425354],\"y\":[0.08832298219203949,-0.8123921751976013,0.983832597732544,0.992814302444458,-0.4578961133956909,-0.9163464307785034,-0.5133811831474304,0.13146597146987915,-0.7159086465835571,-0.19454160332679749,-0.8317740559577942,-0.19347988069057465,0.9851285219192505,-0.09755587577819824,0.13349850475788116,0.37826600670814514,0.11948662996292114,-0.9185951352119446,-0.1314084529876709,0.5275508165359497,-0.9244480729103088,0.13737262785434723,0.9870087504386902,0.5292332768440247,-0.9285776615142822,0.5294663906097412,0.14913499355316162,-0.9246214628219604,0.2842548191547394,0.3911325931549072,0.3635646104812622,0.18979234993457794,0.1219053789973259,0.27881920337677,-0.045762013643980026,-0.24168969690799713,-0.5548280477523804,0.14639759063720703,0.1430785357952118,-0.11517713218927383,0.02163952775299549,-0.9239020347595215,-0.7905951142311096,0.2192574143409729,-0.8100055456161499,-0.06468726694583893,0.1425146460533142,0.6704456210136414,-0.1858401596546173,0.2607799470424652,-0.8455015420913696,-0.5454539060592651,-0.0635378509759903,0.1625402271747589,0.9824572205543518,-0.06196632608771324,-0.452179878950119,0.9917683005332947,-0.9215914011001587,0.12897048890590668,0.35042163729667664,-0.803316056728363,0.5296216607093811,-0.8122583627700806,-0.9211338758468628,-0.2413865625858307,-0.7649534344673157,0.14779800176620483,-0.7700691819190979,-0.06335600465536118,0.5308386087417603,-0.931338369846344,0.5299871563911438,-0.07590068876743317,0.5314581990242004,-0.07297442108392715,0.5299999117851257,-0.9218074083328247,-0.7143077850341797,0.9835444092750549,0.13464774191379547,0.5332611799240112,-0.7743824124336243,0.36270639300346375,0.9910276532173157,0.5292811989784241,0.9828175902366638,0.09506583213806152,0.14391949772834778,-0.8154206871986389,0.26714491844177246,0.33397695422172546,-0.570603609085083,0.23394598066806793,-0.9236811399459839,0.14383281767368317,-0.924030065536499,-0.9238771200180054,-0.5532701015472412,0.3582855761051178,0.9963060021400452,0.3331031799316406,0.9865847826004028,0.08973495662212372,0.34111323952674866,-0.08147832751274109,0.5225902199745178,0.33776482939720154,0.343710720539093,-0.7795003652572632,-0.1598236858844757,-0.8389599323272705,0.23998527228832245,-0.42429280281066895,0.5300799608230591,-0.11902140825986862,0.15646430850028992,0.528059184551239,0.39946356415748596,0.13994406163692474,-0.09921092540025711,-0.11271245777606964,0.9863385558128357,-0.08931586891412735,-0.7779250741004944,0.3705260753631592,-0.6904997825622559,-0.259288489818573],\"z\":[0.17283865809440613,0.2328159064054489,-0.16138078272342682,-0.036821603775024414,0.7206553220748901,-0.28918617963790894,0.7426677942276001,0.13598579168319702,0.2711564898490906,-0.972023069858551,0.549994707107544,-0.9500473141670227,-0.15173669159412384,-0.31393733620643616,0.19654105603694916,0.8767924308776855,0.16465799510478973,-0.2920099198818207,-0.3158310353755951,0.49213799834251404,-0.2841489315032959,0.153550386428833,-0.1591440737247467,0.4733487665653229,-0.2767547070980072,0.47046995162963867,0.18622857332229614,-0.2869500517845154,0.9226791262626648,-0.6484750509262085,0.8668302893638611,-0.7009301781654358,0.15434661507606506,0.9079244136810303,-0.31034478545188904,-0.9660976529121399,0.7493207454681396,0.20449848473072052,0.17481869459152222,-0.9757726192474365,0.16259683668613434,-0.3117837905883789,0.1900680512189865,0.09062109142541885,0.28573787212371826,-0.31175437569618225,0.16525235772132874,0.6588029265403748,-0.9748126864433289,0.9168418645858765,0.1953606754541397,0.7087624073028564,-0.3116719722747803,0.15253490209579468,-0.18127530813217163,-0.3115585446357727,-0.8596493601799011,-0.10142266750335693,-0.2788711488246918,0.2011251449584961,-0.7071652412414551,0.18818914890289307,0.4685062766075134,0.203292116522789,-0.2758702039718628,-0.29288896918296814,0.2234191745519638,0.18125303089618683,0.20256750285625458,-0.3116588890552521,0.45155805349349976,-0.27164316177368164,0.46372613310813904,-0.3125370442867279,0.4415009319782257,-0.31233659386634827,0.4635545611381531,-0.2822546064853668,0.39660969376564026,-0.16390585899353027,0.17679306864738464,0.39917832612991333,0.23429012298583984,-0.6960503458976746,-0.10833478718996048,0.47276443243026733,-0.14945676922798157,0.15855948626995087,0.17589852213859558,0.35477176308631897,-0.735197901725769,-0.6574386954307556,0.6944869756698608,0.9295371770858765,-0.2917688190937042,0.16650453209877014,-0.28062403202056885,-0.28040260076522827,0.7315030097961426,0.85838383436203,-0.08391381055116653,-0.46586713194847107,-0.1571110039949417,0.174216628074646,-0.7179796099662781,-0.9722132682800293,-0.523668110370636,0.8905964493751526,-0.7143556475639343,0.17771486937999725,-0.9683312773704529,0.12683062255382538,0.9311742782592773,0.8996660113334656,0.46247437596321106,-0.31518009305000305,0.18796181678771973,0.4867827594280243,-0.6976339817047119,0.17286278307437897,-0.3140382766723633,-0.31482991576194763,-0.1471560150384903,-0.3134217858314514,0.2304232269525528,0.8881285786628723,0.323866069316864,0.5345852375030518],\"type\":\"scatter3d\"}],                        {\"template\":{\"data\":{\"histogram2dcontour\":[{\"type\":\"histogram2dcontour\",\"colorbar\":{\"outlinewidth\":0,\"ticks\":\"\"},\"colorscale\":[[0.0,\"#0d0887\"],[0.1111111111111111,\"#46039f\"],[0.2222222222222222,\"#7201a8\"],[0.3333333333333333,\"#9c179e\"],[0.4444444444444444,\"#bd3786\"],[0.5555555555555556,\"#d8576b\"],[0.6666666666666666,\"#ed7953\"],[0.7777777777777778,\"#fb9f3a\"],[0.8888888888888888,\"#fdca26\"],[1.0,\"#f0f921\"]]}],\"choropleth\":[{\"type\":\"choropleth\",\"colorbar\":{\"outlinewidth\":0,\"ticks\":\"\"}}],\"histogram2d\":[{\"type\":\"histogram2d\",\"colorbar\":{\"outlinewidth\":0,\"ticks\":\"\"},\"colorscale\":[[0.0,\"#0d0887\"],[0.1111111111111111,\"#46039f\"],[0.2222222222222222,\"#7201a8\"],[0.3333333333333333,\"#9c179e\"],[0.4444444444444444,\"#bd3786\"],[0.5555555555555556,\"#d8576b\"],[0.6666666666666666,\"#ed7953\"],[0.7777777777777778,\"#fb9f3a\"],[0.8888888888888888,\"#fdca26\"],[1.0,\"#f0f921\"]]}],\"heatmap\":[{\"type\":\"heatmap\",\"colorbar\":{\"outlinewidth\":0,\"ticks\":\"\"},\"colorscale\":[[0.0,\"#0d0887\"],[0.1111111111111111,\"#46039f\"],[0.2222222222222222,\"#7201a8\"],[0.3333333333333333,\"#9c179e\"],[0.4444444444444444,\"#bd3786\"],[0.5555555555555556,\"#d8576b\"],[0.6666666666666666,\"#ed7953\"],[0.7777777777777778,\"#fb9f3a\"],[0.8888888888888888,\"#fdca26\"],[1.0,\"#f0f921\"]]}],\"heatmapgl\":[{\"type\":\"heatmapgl\",\"colorbar\":{\"outlinewidth\":0,\"ticks\":\"\"},\"colorscale\":[[0.0,\"#0d0887\"],[0.1111111111111111,\"#46039f\"],[0.2222222222222222,\"#7201a8\"],[0.3333333333333333,\"#9c179e\"],[0.4444444444444444,\"#bd3786\"],[0.5555555555555556,\"#d8576b\"],[0.6666666666666666,\"#ed7953\"],[0.7777777777777778,\"#fb9f3a\"],[0.8888888888888888,\"#fdca26\"],[1.0,\"#f0f921\"]]}],\"contourcarpet\":[{\"type\":\"contourcarpet\",\"colorbar\":{\"outlinewidth\":0,\"ticks\":\"\"}}],\"contour\":[{\"type\":\"contour\",\"colorbar\":{\"outlinewidth\":0,\"ticks\":\"\"},\"colorscale\":[[0.0,\"#0d0887\"],[0.1111111111111111,\"#46039f\"],[0.2222222222222222,\"#7201a8\"],[0.3333333333333333,\"#9c179e\"],[0.4444444444444444,\"#bd3786\"],[0.5555555555555556,\"#d8576b\"],[0.6666666666666666,\"#ed7953\"],[0.7777777777777778,\"#fb9f3a\"],[0.8888888888888888,\"#fdca26\"],[1.0,\"#f0f921\"]]}],\"surface\":[{\"type\":\"surface\",\"colorbar\":{\"outlinewidth\":0,\"ticks\":\"\"},\"colorscale\":[[0.0,\"#0d0887\"],[0.1111111111111111,\"#46039f\"],[0.2222222222222222,\"#7201a8\"],[0.3333333333333333,\"#9c179e\"],[0.4444444444444444,\"#bd3786\"],[0.5555555555555556,\"#d8576b\"],[0.6666666666666666,\"#ed7953\"],[0.7777777777777778,\"#fb9f3a\"],[0.8888888888888888,\"#fdca26\"],[1.0,\"#f0f921\"]]}],\"mesh3d\":[{\"type\":\"mesh3d\",\"colorbar\":{\"outlinewidth\":0,\"ticks\":\"\"}}],\"scatter\":[{\"fillpattern\":{\"fillmode\":\"overlay\",\"size\":10,\"solidity\":0.2},\"type\":\"scatter\"}],\"parcoords\":[{\"type\":\"parcoords\",\"line\":{\"colorbar\":{\"outlinewidth\":0,\"ticks\":\"\"}}}],\"scatterpolargl\":[{\"type\":\"scatterpolargl\",\"marker\":{\"colorbar\":{\"outlinewidth\":0,\"ticks\":\"\"}}}],\"bar\":[{\"error_x\":{\"color\":\"#2a3f5f\"},\"error_y\":{\"color\":\"#2a3f5f\"},\"marker\":{\"line\":{\"color\":\"#E5ECF6\",\"width\":0.5},\"pattern\":{\"fillmode\":\"overlay\",\"size\":10,\"solidity\":0.2}},\"type\":\"bar\"}],\"scattergeo\":[{\"type\":\"scattergeo\",\"marker\":{\"colorbar\":{\"outlinewidth\":0,\"ticks\":\"\"}}}],\"scatterpolar\":[{\"type\":\"scatterpolar\",\"marker\":{\"colorbar\":{\"outlinewidth\":0,\"ticks\":\"\"}}}],\"histogram\":[{\"marker\":{\"pattern\":{\"fillmode\":\"overlay\",\"size\":10,\"solidity\":0.2}},\"type\":\"histogram\"}],\"scattergl\":[{\"type\":\"scattergl\",\"marker\":{\"colorbar\":{\"outlinewidth\":0,\"ticks\":\"\"}}}],\"scatter3d\":[{\"type\":\"scatter3d\",\"line\":{\"colorbar\":{\"outlinewidth\":0,\"ticks\":\"\"}},\"marker\":{\"colorbar\":{\"outlinewidth\":0,\"ticks\":\"\"}}}],\"scattermapbox\":[{\"type\":\"scattermapbox\",\"marker\":{\"colorbar\":{\"outlinewidth\":0,\"ticks\":\"\"}}}],\"scatterternary\":[{\"type\":\"scatterternary\",\"marker\":{\"colorbar\":{\"outlinewidth\":0,\"ticks\":\"\"}}}],\"scattercarpet\":[{\"type\":\"scattercarpet\",\"marker\":{\"colorbar\":{\"outlinewidth\":0,\"ticks\":\"\"}}}],\"carpet\":[{\"aaxis\":{\"endlinecolor\":\"#2a3f5f\",\"gridcolor\":\"white\",\"linecolor\":\"white\",\"minorgridcolor\":\"white\",\"startlinecolor\":\"#2a3f5f\"},\"baxis\":{\"endlinecolor\":\"#2a3f5f\",\"gridcolor\":\"white\",\"linecolor\":\"white\",\"minorgridcolor\":\"white\",\"startlinecolor\":\"#2a3f5f\"},\"type\":\"carpet\"}],\"table\":[{\"cells\":{\"fill\":{\"color\":\"#EBF0F8\"},\"line\":{\"color\":\"white\"}},\"header\":{\"fill\":{\"color\":\"#C8D4E3\"},\"line\":{\"color\":\"white\"}},\"type\":\"table\"}],\"barpolar\":[{\"marker\":{\"line\":{\"color\":\"#E5ECF6\",\"width\":0.5},\"pattern\":{\"fillmode\":\"overlay\",\"size\":10,\"solidity\":0.2}},\"type\":\"barpolar\"}],\"pie\":[{\"automargin\":true,\"type\":\"pie\"}]},\"layout\":{\"autotypenumbers\":\"strict\",\"colorway\":[\"#636efa\",\"#EF553B\",\"#00cc96\",\"#ab63fa\",\"#FFA15A\",\"#19d3f3\",\"#FF6692\",\"#B6E880\",\"#FF97FF\",\"#FECB52\"],\"font\":{\"color\":\"#2a3f5f\"},\"hovermode\":\"closest\",\"hoverlabel\":{\"align\":\"left\"},\"paper_bgcolor\":\"white\",\"plot_bgcolor\":\"#E5ECF6\",\"polar\":{\"bgcolor\":\"#E5ECF6\",\"angularaxis\":{\"gridcolor\":\"white\",\"linecolor\":\"white\",\"ticks\":\"\"},\"radialaxis\":{\"gridcolor\":\"white\",\"linecolor\":\"white\",\"ticks\":\"\"}},\"ternary\":{\"bgcolor\":\"#E5ECF6\",\"aaxis\":{\"gridcolor\":\"white\",\"linecolor\":\"white\",\"ticks\":\"\"},\"baxis\":{\"gridcolor\":\"white\",\"linecolor\":\"white\",\"ticks\":\"\"},\"caxis\":{\"gridcolor\":\"white\",\"linecolor\":\"white\",\"ticks\":\"\"}},\"coloraxis\":{\"colorbar\":{\"outlinewidth\":0,\"ticks\":\"\"}},\"colorscale\":{\"sequential\":[[0.0,\"#0d0887\"],[0.1111111111111111,\"#46039f\"],[0.2222222222222222,\"#7201a8\"],[0.3333333333333333,\"#9c179e\"],[0.4444444444444444,\"#bd3786\"],[0.5555555555555556,\"#d8576b\"],[0.6666666666666666,\"#ed7953\"],[0.7777777777777778,\"#fb9f3a\"],[0.8888888888888888,\"#fdca26\"],[1.0,\"#f0f921\"]],\"sequentialminus\":[[0.0,\"#0d0887\"],[0.1111111111111111,\"#46039f\"],[0.2222222222222222,\"#7201a8\"],[0.3333333333333333,\"#9c179e\"],[0.4444444444444444,\"#bd3786\"],[0.5555555555555556,\"#d8576b\"],[0.6666666666666666,\"#ed7953\"],[0.7777777777777778,\"#fb9f3a\"],[0.8888888888888888,\"#fdca26\"],[1.0,\"#f0f921\"]],\"diverging\":[[0,\"#8e0152\"],[0.1,\"#c51b7d\"],[0.2,\"#de77ae\"],[0.3,\"#f1b6da\"],[0.4,\"#fde0ef\"],[0.5,\"#f7f7f7\"],[0.6,\"#e6f5d0\"],[0.7,\"#b8e186\"],[0.8,\"#7fbc41\"],[0.9,\"#4d9221\"],[1,\"#276419\"]]},\"xaxis\":{\"gridcolor\":\"white\",\"linecolor\":\"white\",\"ticks\":\"\",\"title\":{\"standoff\":15},\"zerolinecolor\":\"white\",\"automargin\":true,\"zerolinewidth\":2},\"yaxis\":{\"gridcolor\":\"white\",\"linecolor\":\"white\",\"ticks\":\"\",\"title\":{\"standoff\":15},\"zerolinecolor\":\"white\",\"automargin\":true,\"zerolinewidth\":2},\"scene\":{\"xaxis\":{\"backgroundcolor\":\"#E5ECF6\",\"gridcolor\":\"white\",\"linecolor\":\"white\",\"showbackground\":true,\"ticks\":\"\",\"zerolinecolor\":\"white\",\"gridwidth\":2},\"yaxis\":{\"backgroundcolor\":\"#E5ECF6\",\"gridcolor\":\"white\",\"linecolor\":\"white\",\"showbackground\":true,\"ticks\":\"\",\"zerolinecolor\":\"white\",\"gridwidth\":2},\"zaxis\":{\"backgroundcolor\":\"#E5ECF6\",\"gridcolor\":\"white\",\"linecolor\":\"white\",\"showbackground\":true,\"ticks\":\"\",\"zerolinecolor\":\"white\",\"gridwidth\":2}},\"shapedefaults\":{\"line\":{\"color\":\"#2a3f5f\"}},\"annotationdefaults\":{\"arrowcolor\":\"#2a3f5f\",\"arrowhead\":0,\"arrowwidth\":1},\"geo\":{\"bgcolor\":\"white\",\"landcolor\":\"#E5ECF6\",\"subunitcolor\":\"white\",\"showland\":true,\"showlakes\":true,\"lakecolor\":\"white\"},\"title\":{\"x\":0.05},\"mapbox\":{\"style\":\"light\"}}},\"scene\":{\"domain\":{\"x\":[0.0,1.0],\"y\":[0.0,1.0]},\"xaxis\":{\"title\":{\"text\":\"x\"}},\"yaxis\":{\"title\":{\"text\":\"y\"}},\"zaxis\":{\"title\":{\"text\":\"z\"}}},\"coloraxis\":{\"colorbar\":{\"title\":{\"text\":\"label\"}},\"colorscale\":[[0.0,\"#0d0887\"],[0.1111111111111111,\"#46039f\"],[0.2222222222222222,\"#7201a8\"],[0.3333333333333333,\"#9c179e\"],[0.4444444444444444,\"#bd3786\"],[0.5555555555555556,\"#d8576b\"],[0.6666666666666666,\"#ed7953\"],[0.7777777777777778,\"#fb9f3a\"],[0.8888888888888888,\"#fdca26\"],[1.0,\"#f0f921\"]]},\"legend\":{\"tracegroupgap\":0},\"margin\":{\"t\":60}},                        {\"responsive\": true}                    ).then(function(){\n",
       "                            \n",
       "var gd = document.getElementById('cc084fad-a4ef-4caf-a066-8d1d59da8160');\n",
       "var x = new MutationObserver(function (mutations, observer) {{\n",
       "        var display = window.getComputedStyle(gd).display;\n",
       "        if (!display || display === 'none') {{\n",
       "            console.log([gd, 'removed!']);\n",
       "            Plotly.purge(gd);\n",
       "            observer.disconnect();\n",
       "        }}\n",
       "}});\n",
       "\n",
       "// Listen for the removal of the full notebook cells\n",
       "var notebookContainer = gd.closest('#notebook-container');\n",
       "if (notebookContainer) {{\n",
       "    x.observe(notebookContainer, {childList: true});\n",
       "}}\n",
       "\n",
       "// Listen for the clearing of the current output cell\n",
       "var outputEl = gd.closest('.output');\n",
       "if (outputEl) {{\n",
       "    x.observe(outputEl, {childList: true});\n",
       "}}\n",
       "\n",
       "                        })                };                });            </script>        </div>"
      ]
     },
     "metadata": {},
     "output_type": "display_data"
    }
   ],
   "source": [
    "df = pd.DataFrame({'x': embeds[:, 0], \n",
    "                   'y': embeds[:, 1], \n",
    "                   'z': embeds[:, 2], \n",
    "                   'label': batch_labels.numpy()})\n",
    "\n",
    "fig = px.scatter_3d(df, x='x', y='y', z='z',\n",
    "                      color='label', text='label')\n",
    "fig.show()"
   ]
  },
  {
   "cell_type": "markdown",
   "id": "e81ca6fe",
   "metadata": {},
   "source": [
    "## Write Modified Embeddings through Plotly"
   ]
  },
  {
   "cell_type": "code",
   "execution_count": 99,
   "id": "e223c3ae",
   "metadata": {
    "scrolled": false
   },
   "outputs": [],
   "source": [
    "batch_images, batch_labels = next(iter(data_loader))\n",
    "\n",
    "embeds = deep_features.generate_embeddings(batch_images.to(device), normalize=True)\n",
    "embeds = embeds.detach().numpy()\n",
    "\n",
    "# new_embeds, new_labels = remove_outliers(embeds, batch_labels)"
   ]
  },
  {
   "cell_type": "code",
   "execution_count": 100,
   "id": "32fe4454",
   "metadata": {},
   "outputs": [
    {
     "data": {
      "application/vnd.plotly.v1+json": {
       "config": {
        "plotlyServerURL": "https://plot.ly"
       },
       "data": [
        {
         "hovertemplate": "x=%{x}<br>y=%{y}<br>z=%{z}<br>label=%{marker.color}<extra></extra>",
         "legendgroup": "",
         "marker": {
          "color": [
           3,
           6,
           5,
           3,
           3,
           8,
           8,
           7,
           8,
           9,
           2,
           8,
           5,
           8,
           0,
           2,
           2,
           5,
           1,
           8,
           8,
           1,
           1,
           0,
           2,
           2,
           2,
           9,
           5,
           2,
           3,
           3,
           2,
           4,
           0,
           2,
           9,
           4,
           2,
           2,
           3,
           8,
           2,
           0,
           0,
           6,
           5,
           6,
           7,
           8,
           1,
           2,
           7,
           6,
           0,
           3,
           1,
           1,
           5,
           3,
           2,
           8,
           7,
           2,
           1,
           6,
           3,
           2,
           4,
           5,
           2,
           6,
           1,
           2,
           3,
           1,
           7,
           8,
           6,
           4,
           9,
           1,
           0,
           9,
           5,
           4,
           7,
           9,
           3,
           4,
           7,
           1,
           8,
           8,
           3,
           6,
           1,
           2,
           1,
           8,
           8,
           4,
           1,
           8,
           9,
           4,
           8,
           0,
           9,
           5,
           4,
           2,
           0,
           5,
           7,
           6,
           2,
           4,
           4,
           4,
           2,
           8,
           3,
           8,
           2,
           5,
           3,
           0
          ],
          "coloraxis": "coloraxis",
          "symbol": "circle"
         },
         "mode": "markers+text",
         "name": "",
         "scene": "scene",
         "showlegend": false,
         "text": [
          3,
          6,
          5,
          3,
          3,
          8,
          8,
          7,
          8,
          9,
          2,
          8,
          5,
          8,
          0,
          2,
          2,
          5,
          1,
          8,
          8,
          1,
          1,
          0,
          2,
          2,
          2,
          9,
          5,
          2,
          3,
          3,
          2,
          4,
          0,
          2,
          9,
          4,
          2,
          2,
          3,
          8,
          2,
          0,
          0,
          6,
          5,
          6,
          7,
          8,
          1,
          2,
          7,
          6,
          0,
          3,
          1,
          1,
          5,
          3,
          2,
          8,
          7,
          2,
          1,
          6,
          3,
          2,
          4,
          5,
          2,
          6,
          1,
          2,
          3,
          1,
          7,
          8,
          6,
          4,
          9,
          1,
          0,
          9,
          5,
          4,
          7,
          9,
          3,
          4,
          7,
          1,
          8,
          8,
          3,
          6,
          1,
          2,
          1,
          8,
          8,
          4,
          1,
          8,
          9,
          4,
          8,
          0,
          9,
          5,
          4,
          2,
          0,
          5,
          7,
          6,
          2,
          4,
          4,
          4,
          2,
          8,
          3,
          8,
          2,
          5,
          3,
          0
         ],
         "type": "scatter3d",
         "x": [
          -0.6835431456565857,
          -0.5357563495635986,
          -0.8399069309234619,
          -0.57917720079422,
          -0.9211938977241516,
          -0.8584342002868652,
          -0.8630712628364563,
          0.41852498054504395,
          -0.8507291674613953,
          0.09801635891199112,
          0.2081131935119629,
          -0.8530544638633728,
          -0.8836619853973389,
          -0.8572906255722046,
          0.0740700215101242,
          0.285664439201355,
          0.2917683720588684,
          -0.7115849256515503,
          -0.8804222345352173,
          -0.8429765701293945,
          -0.8588250875473022,
          -0.8870548009872437,
          -0.8809497356414795,
          0.053891800343990326,
          0.23745737969875336,
          0.3234769105911255,
          0.2805585265159607,
          0.166591614484787,
          -0.8094940781593323,
          0.34385937452316284,
          -0.4716845154762268,
          -0.5876004099845886,
          0.265606164932251,
          -0.24496668577194214,
          0.10669420659542084,
          0.3323872983455658,
          0.15452931821346283,
          0.03379353880882263,
          0.08370884507894516,
          0.3359227776527405,
          -0.7824586629867554,
          -0.838651180267334,
          0.1340378224849701,
          0.08156125992536545,
          0.024236338213086128,
          -0.5380842685699463,
          -0.6938543319702148,
          -0.575317919254303,
          0.34044796228408813,
          -0.8550513982772827,
          -0.8735392093658447,
          0.2976306080818176,
          0.4278009831905365,
          -0.5427178144454956,
          -0.013682562857866287,
          -0.5337313413619995,
          -0.8816512227058411,
          -0.8795159459114075,
          -0.6782975196838379,
          -0.488057404756546,
          0.2737482190132141,
          -0.8297330737113953,
          0.381012499332428,
          0.27385714650154114,
          -0.8690162897109985,
          -0.5667709112167358,
          -0.5523993372917175,
          0.22471363842487335,
          -0.16091211140155792,
          -0.7251192927360535,
          0.2310483157634735,
          -0.5630558133125305,
          -0.8768682479858398,
          -0.02653713896870613,
          -0.5164057612419128,
          -0.8834280371665955,
          0.37098586559295654,
          -0.8082016706466675,
          -0.5639975666999817,
          -0.4539295732975006,
          0.09243035316467285,
          -0.8819152116775513,
          0.02295033447444439,
          0.1407431960105896,
          -0.7292615175247192,
          0.011458657681941986,
          0.3745764195919037,
          0.04395276680588722,
          -0.5890831351280212,
          -0.05475342646241188,
          0.3962344825267792,
          -0.884568452835083,
          -0.853367805480957,
          -0.8703060150146484,
          -0.5176045298576355,
          -0.6690239906311035,
          -0.8749644160270691,
          -0.22323472797870636,
          -0.8777643442153931,
          -0.8561192750930786,
          -0.7610702514648438,
          -0.2871169149875641,
          -0.8754183650016785,
          -0.8454062342643738,
          -0.04830368235707283,
          -0.11308691650629044,
          -0.8500720262527466,
          -0.03933117166161537,
          0.09652844071388245,
          -0.70844966173172,
          0.022376196458935738,
          0.2133375108242035,
          -0.01180815976113081,
          -0.6990783214569092,
          0.42627015709877014,
          -0.62187659740448,
          0.18007570505142212,
          -0.11918371170759201,
          -0.1922139972448349,
          -0.08508168905973434,
          -0.019730277359485626,
          -0.854522168636322,
          -0.5946978330612183,
          -0.8452793955802917,
          0.2844483256340027,
          -0.6958109736442566,
          -0.5113311409950256,
          0.06362564116716385
         ],
         "y": [
          -0.09041891247034073,
          -0.38164135813713074,
          0.4048338234424591,
          -0.0801009014248848,
          0.08405879139900208,
          0.46048641204833984,
          0.45948004722595215,
          -0.8349553346633911,
          0.46440935134887695,
          0.1752692013978958,
          -0.434643030166626,
          0.46429407596588135,
          0.4549248218536377,
          0.4620128273963928,
          -0.8936060070991516,
          -0.37143173813819885,
          -0.4339616298675537,
          0.5205917954444885,
          0.03157389536499977,
          0.4647739827632904,
          0.4606768786907196,
          0.06639916449785233,
          0.034108374267816544,
          -0.8952417373657227,
          -0.4408087432384491,
          -0.4161500036716461,
          -0.42953962087631226,
          0.13968156278133392,
          -0.18074142932891846,
          -0.7277212142944336,
          -0.1770079880952835,
          -0.12951456010341644,
          -0.45201757550239563,
          -0.5146021246910095,
          -0.8778614401817322,
          -0.39666447043418884,
          0.1443280577659607,
          -0.5470452308654785,
          -0.6125493049621582,
          -0.41680657863616943,
          0.17133603990077972,
          0.4669167399406433,
          -0.6839101314544678,
          -0.8815843462944031,
          -0.8864803910255432,
          -0.37517571449279785,
          0.5176775455474854,
          -0.33041539788246155,
          -0.8885535001754761,
          0.4676780700683594,
          0.0011421801755204797,
          -0.3895356059074402,
          -0.8627856373786926,
          -0.3711409270763397,
          -0.907987117767334,
          -0.08845749497413635,
          0.03753206506371498,
          0.027296679094433784,
          0.5147606730461121,
          -0.10085801780223846,
          -0.48595231771469116,
          0.46204185485839844,
          -0.8731042146682739,
          -0.4834548234939575,
          -0.016764288768172264,
          -0.34917235374450684,
          -0.6955587267875671,
          -0.4182109832763672,
          -0.4915596842765808,
          0.5224847793579102,
          -0.44306322932243347,
          -0.3520352840423584,
          0.015304050408303738,
          -0.6072915196418762,
          -0.08142829686403275,
          0.04650082811713219,
          -0.8930023312568665,
          0.4661504626274109,
          -0.3500179052352905,
          -0.5110299587249756,
          0.17292077839374542,
          0.03883686661720276,
          -0.8880165815353394,
          0.15138304233551025,
          0.5230008363723755,
          -0.5567360520362854,
          -0.8719280958175659,
          0.1590992957353592,
          -0.06307945400476456,
          -0.542479932308197,
          -0.746177613735199,
          0.0525064654648304,
          0.4606395959854126,
          0.45655518770217896,
          -0.07320983707904816,
          -0.5824156403541565,
          0.007091563660651445,
          -0.9469122290611267,
          0.019284069538116455,
          0.4600510597229004,
          0.1537954956293106,
          -0.4346586763858795,
          0.009020951576530933,
          0.46036961674690247,
          0.15220966935157776,
          -0.5366389155387878,
          0.45975401997566223,
          -0.8999714851379395,
          0.16693729162216187,
          0.5201107263565063,
          -0.547640323638916,
          -0.42070743441581726,
          -0.9036975502967834,
          0.5185838937759399,
          -0.8505927920341492,
          -0.3162931203842163,
          -0.43804940581321716,
          -0.5412837266921997,
          -0.43850240111351013,
          -0.546276330947876,
          -0.5524464249610901,
          0.4277115762233734,
          -0.11666514724493027,
          0.4627780318260193,
          -0.3877643644809723,
          0.5180214643478394,
          -0.21388939023017883,
          -0.8840767741203308
         ],
         "z": [
          -0.7242881655693054,
          -0.7532031536102295,
          0.36147743463516235,
          -0.8112567067146301,
          -0.37991562485694885,
          0.22592703998088837,
          0.20972849428653717,
          0.3573321998119354,
          0.24613778293132782,
          0.9796292781829834,
          0.8762273192405701,
          0.23817864060401917,
          0.11038574576377869,
          0.22714979946613312,
          -0.44269847869873047,
          0.8834219574928284,
          0.8523780703544617,
          0.4718378782272339,
          -0.4731382727622986,
          0.27087947726249695,
          0.22404514253139496,
          -0.4568643271923065,
          -0.47197890281677246,
          -0.44230976700782776,
          0.8656221032142639,
          0.8498128056526184,
          0.8583604097366333,
          0.9760821461677551,
          -0.5586159825325012,
          0.5934496521949768,
          -0.8638182282447815,
          -0.7987188100814819,
          0.8515476584434509,
          0.8216909170150757,
          -0.4668785631656647,
          0.8556728363037109,
          0.9773894548416138,
          0.8364205956459045,
          0.785987377166748,
          0.8446467518806458,
          -0.598667323589325,
          0.28045132756233215,
          0.7171476483345032,
          -0.46492671966552734,
          -0.4621311128139496,
          -0.7547903656959534,
          0.5005759000778198,
          -0.748221218585968,
          0.30751901865005493,
          0.2239743024110794,
          -0.486752450466156,
          0.8715951442718506,
          0.26942014694213867,
          -0.7534665465354919,
          -0.41877442598342896,
          -0.8410149216651917,
          -0.47040659189224243,
          -0.4750858545303345,
          0.5243414044380188,
          -0.8669646382331848,
          0.8300073146820068,
          0.3131459057331085,
          0.30416855216026306,
          0.8314287662506104,
          -0.4944993853569031,
          -0.7462233304977417,
          -0.4594050347805023,
          0.8801155090332031,
          0.8558483719825745,
          0.4485662281513214,
          0.8662053346633911,
          -0.7476892471313477,
          -0.4804871082305908,
          0.794035792350769,
          -0.8524637222290039,
          -0.4662538170814514,
          0.25478678941726685,
          0.35988014936447144,
          -0.7479265332221985,
          0.7299289703369141,
          0.9805890917778015,
          -0.4698054790496826,
          -0.4592382609844208,
          0.9784040451049805,
          0.44118911027908325,
          0.8306103944778442,
          0.315331369638443,
          0.9862837791442871,
          -0.8056066632270813,
          0.838282585144043,
          0.5349928140640259,
          -0.4634454548358917,
          0.24407905340194702,
          0.1847289502620697,
          -0.8524821996688843,
          -0.4617346525192261,
          -0.48413529992103577,
          0.23135164380073547,
          -0.4787043333053589,
          0.2353993058204651,
          0.6301738619804382,
          0.8536016345024109,
          -0.4832819402217865,
          0.2708286941051483,
          0.9871671795845032,
          0.8361997008323669,
          0.2569120228290558,
          -0.43417099118232727,
          0.9812309741973877,
          0.4770575761795044,
          0.8364145755767822,
          0.8817552924156189,
          -0.4280085563659668,
          0.49230101704597473,
          0.3078726828098297,
          -0.7163993716239929,
          0.8807300329208374,
          0.8323503732681274,
          0.8779348134994507,
          0.8332726955413818,
          0.833314836025238,
          0.2947111129760742,
          -0.7954393625259399,
          0.26709431409835815,
          0.8767712712287903,
          0.49749451875686646,
          -0.8323411345481873,
          -0.4629902243614197
         ]
        }
       ],
       "layout": {
        "coloraxis": {
         "colorbar": {
          "title": {
           "text": "label"
          }
         },
         "colorscale": [
          [
           0,
           "#0d0887"
          ],
          [
           0.1111111111111111,
           "#46039f"
          ],
          [
           0.2222222222222222,
           "#7201a8"
          ],
          [
           0.3333333333333333,
           "#9c179e"
          ],
          [
           0.4444444444444444,
           "#bd3786"
          ],
          [
           0.5555555555555556,
           "#d8576b"
          ],
          [
           0.6666666666666666,
           "#ed7953"
          ],
          [
           0.7777777777777778,
           "#fb9f3a"
          ],
          [
           0.8888888888888888,
           "#fdca26"
          ],
          [
           1,
           "#f0f921"
          ]
         ]
        },
        "legend": {
         "tracegroupgap": 0
        },
        "margin": {
         "t": 60
        },
        "scene": {
         "domain": {
          "x": [
           0,
           1
          ],
          "y": [
           0,
           1
          ]
         },
         "xaxis": {
          "title": {
           "text": "x"
          }
         },
         "yaxis": {
          "title": {
           "text": "y"
          }
         },
         "zaxis": {
          "title": {
           "text": "z"
          }
         }
        },
        "template": {
         "data": {
          "bar": [
           {
            "error_x": {
             "color": "#2a3f5f"
            },
            "error_y": {
             "color": "#2a3f5f"
            },
            "marker": {
             "line": {
              "color": "#E5ECF6",
              "width": 0.5
             },
             "pattern": {
              "fillmode": "overlay",
              "size": 10,
              "solidity": 0.2
             }
            },
            "type": "bar"
           }
          ],
          "barpolar": [
           {
            "marker": {
             "line": {
              "color": "#E5ECF6",
              "width": 0.5
             },
             "pattern": {
              "fillmode": "overlay",
              "size": 10,
              "solidity": 0.2
             }
            },
            "type": "barpolar"
           }
          ],
          "carpet": [
           {
            "aaxis": {
             "endlinecolor": "#2a3f5f",
             "gridcolor": "white",
             "linecolor": "white",
             "minorgridcolor": "white",
             "startlinecolor": "#2a3f5f"
            },
            "baxis": {
             "endlinecolor": "#2a3f5f",
             "gridcolor": "white",
             "linecolor": "white",
             "minorgridcolor": "white",
             "startlinecolor": "#2a3f5f"
            },
            "type": "carpet"
           }
          ],
          "choropleth": [
           {
            "colorbar": {
             "outlinewidth": 0,
             "ticks": ""
            },
            "type": "choropleth"
           }
          ],
          "contour": [
           {
            "colorbar": {
             "outlinewidth": 0,
             "ticks": ""
            },
            "colorscale": [
             [
              0,
              "#0d0887"
             ],
             [
              0.1111111111111111,
              "#46039f"
             ],
             [
              0.2222222222222222,
              "#7201a8"
             ],
             [
              0.3333333333333333,
              "#9c179e"
             ],
             [
              0.4444444444444444,
              "#bd3786"
             ],
             [
              0.5555555555555556,
              "#d8576b"
             ],
             [
              0.6666666666666666,
              "#ed7953"
             ],
             [
              0.7777777777777778,
              "#fb9f3a"
             ],
             [
              0.8888888888888888,
              "#fdca26"
             ],
             [
              1,
              "#f0f921"
             ]
            ],
            "type": "contour"
           }
          ],
          "contourcarpet": [
           {
            "colorbar": {
             "outlinewidth": 0,
             "ticks": ""
            },
            "type": "contourcarpet"
           }
          ],
          "heatmap": [
           {
            "colorbar": {
             "outlinewidth": 0,
             "ticks": ""
            },
            "colorscale": [
             [
              0,
              "#0d0887"
             ],
             [
              0.1111111111111111,
              "#46039f"
             ],
             [
              0.2222222222222222,
              "#7201a8"
             ],
             [
              0.3333333333333333,
              "#9c179e"
             ],
             [
              0.4444444444444444,
              "#bd3786"
             ],
             [
              0.5555555555555556,
              "#d8576b"
             ],
             [
              0.6666666666666666,
              "#ed7953"
             ],
             [
              0.7777777777777778,
              "#fb9f3a"
             ],
             [
              0.8888888888888888,
              "#fdca26"
             ],
             [
              1,
              "#f0f921"
             ]
            ],
            "type": "heatmap"
           }
          ],
          "heatmapgl": [
           {
            "colorbar": {
             "outlinewidth": 0,
             "ticks": ""
            },
            "colorscale": [
             [
              0,
              "#0d0887"
             ],
             [
              0.1111111111111111,
              "#46039f"
             ],
             [
              0.2222222222222222,
              "#7201a8"
             ],
             [
              0.3333333333333333,
              "#9c179e"
             ],
             [
              0.4444444444444444,
              "#bd3786"
             ],
             [
              0.5555555555555556,
              "#d8576b"
             ],
             [
              0.6666666666666666,
              "#ed7953"
             ],
             [
              0.7777777777777778,
              "#fb9f3a"
             ],
             [
              0.8888888888888888,
              "#fdca26"
             ],
             [
              1,
              "#f0f921"
             ]
            ],
            "type": "heatmapgl"
           }
          ],
          "histogram": [
           {
            "marker": {
             "pattern": {
              "fillmode": "overlay",
              "size": 10,
              "solidity": 0.2
             }
            },
            "type": "histogram"
           }
          ],
          "histogram2d": [
           {
            "colorbar": {
             "outlinewidth": 0,
             "ticks": ""
            },
            "colorscale": [
             [
              0,
              "#0d0887"
             ],
             [
              0.1111111111111111,
              "#46039f"
             ],
             [
              0.2222222222222222,
              "#7201a8"
             ],
             [
              0.3333333333333333,
              "#9c179e"
             ],
             [
              0.4444444444444444,
              "#bd3786"
             ],
             [
              0.5555555555555556,
              "#d8576b"
             ],
             [
              0.6666666666666666,
              "#ed7953"
             ],
             [
              0.7777777777777778,
              "#fb9f3a"
             ],
             [
              0.8888888888888888,
              "#fdca26"
             ],
             [
              1,
              "#f0f921"
             ]
            ],
            "type": "histogram2d"
           }
          ],
          "histogram2dcontour": [
           {
            "colorbar": {
             "outlinewidth": 0,
             "ticks": ""
            },
            "colorscale": [
             [
              0,
              "#0d0887"
             ],
             [
              0.1111111111111111,
              "#46039f"
             ],
             [
              0.2222222222222222,
              "#7201a8"
             ],
             [
              0.3333333333333333,
              "#9c179e"
             ],
             [
              0.4444444444444444,
              "#bd3786"
             ],
             [
              0.5555555555555556,
              "#d8576b"
             ],
             [
              0.6666666666666666,
              "#ed7953"
             ],
             [
              0.7777777777777778,
              "#fb9f3a"
             ],
             [
              0.8888888888888888,
              "#fdca26"
             ],
             [
              1,
              "#f0f921"
             ]
            ],
            "type": "histogram2dcontour"
           }
          ],
          "mesh3d": [
           {
            "colorbar": {
             "outlinewidth": 0,
             "ticks": ""
            },
            "type": "mesh3d"
           }
          ],
          "parcoords": [
           {
            "line": {
             "colorbar": {
              "outlinewidth": 0,
              "ticks": ""
             }
            },
            "type": "parcoords"
           }
          ],
          "pie": [
           {
            "automargin": true,
            "type": "pie"
           }
          ],
          "scatter": [
           {
            "fillpattern": {
             "fillmode": "overlay",
             "size": 10,
             "solidity": 0.2
            },
            "type": "scatter"
           }
          ],
          "scatter3d": [
           {
            "line": {
             "colorbar": {
              "outlinewidth": 0,
              "ticks": ""
             }
            },
            "marker": {
             "colorbar": {
              "outlinewidth": 0,
              "ticks": ""
             }
            },
            "type": "scatter3d"
           }
          ],
          "scattercarpet": [
           {
            "marker": {
             "colorbar": {
              "outlinewidth": 0,
              "ticks": ""
             }
            },
            "type": "scattercarpet"
           }
          ],
          "scattergeo": [
           {
            "marker": {
             "colorbar": {
              "outlinewidth": 0,
              "ticks": ""
             }
            },
            "type": "scattergeo"
           }
          ],
          "scattergl": [
           {
            "marker": {
             "colorbar": {
              "outlinewidth": 0,
              "ticks": ""
             }
            },
            "type": "scattergl"
           }
          ],
          "scattermapbox": [
           {
            "marker": {
             "colorbar": {
              "outlinewidth": 0,
              "ticks": ""
             }
            },
            "type": "scattermapbox"
           }
          ],
          "scatterpolar": [
           {
            "marker": {
             "colorbar": {
              "outlinewidth": 0,
              "ticks": ""
             }
            },
            "type": "scatterpolar"
           }
          ],
          "scatterpolargl": [
           {
            "marker": {
             "colorbar": {
              "outlinewidth": 0,
              "ticks": ""
             }
            },
            "type": "scatterpolargl"
           }
          ],
          "scatterternary": [
           {
            "marker": {
             "colorbar": {
              "outlinewidth": 0,
              "ticks": ""
             }
            },
            "type": "scatterternary"
           }
          ],
          "surface": [
           {
            "colorbar": {
             "outlinewidth": 0,
             "ticks": ""
            },
            "colorscale": [
             [
              0,
              "#0d0887"
             ],
             [
              0.1111111111111111,
              "#46039f"
             ],
             [
              0.2222222222222222,
              "#7201a8"
             ],
             [
              0.3333333333333333,
              "#9c179e"
             ],
             [
              0.4444444444444444,
              "#bd3786"
             ],
             [
              0.5555555555555556,
              "#d8576b"
             ],
             [
              0.6666666666666666,
              "#ed7953"
             ],
             [
              0.7777777777777778,
              "#fb9f3a"
             ],
             [
              0.8888888888888888,
              "#fdca26"
             ],
             [
              1,
              "#f0f921"
             ]
            ],
            "type": "surface"
           }
          ],
          "table": [
           {
            "cells": {
             "fill": {
              "color": "#EBF0F8"
             },
             "line": {
              "color": "white"
             }
            },
            "header": {
             "fill": {
              "color": "#C8D4E3"
             },
             "line": {
              "color": "white"
             }
            },
            "type": "table"
           }
          ]
         },
         "layout": {
          "annotationdefaults": {
           "arrowcolor": "#2a3f5f",
           "arrowhead": 0,
           "arrowwidth": 1
          },
          "autotypenumbers": "strict",
          "coloraxis": {
           "colorbar": {
            "outlinewidth": 0,
            "ticks": ""
           }
          },
          "colorscale": {
           "diverging": [
            [
             0,
             "#8e0152"
            ],
            [
             0.1,
             "#c51b7d"
            ],
            [
             0.2,
             "#de77ae"
            ],
            [
             0.3,
             "#f1b6da"
            ],
            [
             0.4,
             "#fde0ef"
            ],
            [
             0.5,
             "#f7f7f7"
            ],
            [
             0.6,
             "#e6f5d0"
            ],
            [
             0.7,
             "#b8e186"
            ],
            [
             0.8,
             "#7fbc41"
            ],
            [
             0.9,
             "#4d9221"
            ],
            [
             1,
             "#276419"
            ]
           ],
           "sequential": [
            [
             0,
             "#0d0887"
            ],
            [
             0.1111111111111111,
             "#46039f"
            ],
            [
             0.2222222222222222,
             "#7201a8"
            ],
            [
             0.3333333333333333,
             "#9c179e"
            ],
            [
             0.4444444444444444,
             "#bd3786"
            ],
            [
             0.5555555555555556,
             "#d8576b"
            ],
            [
             0.6666666666666666,
             "#ed7953"
            ],
            [
             0.7777777777777778,
             "#fb9f3a"
            ],
            [
             0.8888888888888888,
             "#fdca26"
            ],
            [
             1,
             "#f0f921"
            ]
           ],
           "sequentialminus": [
            [
             0,
             "#0d0887"
            ],
            [
             0.1111111111111111,
             "#46039f"
            ],
            [
             0.2222222222222222,
             "#7201a8"
            ],
            [
             0.3333333333333333,
             "#9c179e"
            ],
            [
             0.4444444444444444,
             "#bd3786"
            ],
            [
             0.5555555555555556,
             "#d8576b"
            ],
            [
             0.6666666666666666,
             "#ed7953"
            ],
            [
             0.7777777777777778,
             "#fb9f3a"
            ],
            [
             0.8888888888888888,
             "#fdca26"
            ],
            [
             1,
             "#f0f921"
            ]
           ]
          },
          "colorway": [
           "#636efa",
           "#EF553B",
           "#00cc96",
           "#ab63fa",
           "#FFA15A",
           "#19d3f3",
           "#FF6692",
           "#B6E880",
           "#FF97FF",
           "#FECB52"
          ],
          "font": {
           "color": "#2a3f5f"
          },
          "geo": {
           "bgcolor": "white",
           "lakecolor": "white",
           "landcolor": "#E5ECF6",
           "showlakes": true,
           "showland": true,
           "subunitcolor": "white"
          },
          "hoverlabel": {
           "align": "left"
          },
          "hovermode": "closest",
          "mapbox": {
           "style": "light"
          },
          "paper_bgcolor": "white",
          "plot_bgcolor": "#E5ECF6",
          "polar": {
           "angularaxis": {
            "gridcolor": "white",
            "linecolor": "white",
            "ticks": ""
           },
           "bgcolor": "#E5ECF6",
           "radialaxis": {
            "gridcolor": "white",
            "linecolor": "white",
            "ticks": ""
           }
          },
          "scene": {
           "xaxis": {
            "backgroundcolor": "#E5ECF6",
            "gridcolor": "white",
            "gridwidth": 2,
            "linecolor": "white",
            "showbackground": true,
            "ticks": "",
            "zerolinecolor": "white"
           },
           "yaxis": {
            "backgroundcolor": "#E5ECF6",
            "gridcolor": "white",
            "gridwidth": 2,
            "linecolor": "white",
            "showbackground": true,
            "ticks": "",
            "zerolinecolor": "white"
           },
           "zaxis": {
            "backgroundcolor": "#E5ECF6",
            "gridcolor": "white",
            "gridwidth": 2,
            "linecolor": "white",
            "showbackground": true,
            "ticks": "",
            "zerolinecolor": "white"
           }
          },
          "shapedefaults": {
           "line": {
            "color": "#2a3f5f"
           }
          },
          "ternary": {
           "aaxis": {
            "gridcolor": "white",
            "linecolor": "white",
            "ticks": ""
           },
           "baxis": {
            "gridcolor": "white",
            "linecolor": "white",
            "ticks": ""
           },
           "bgcolor": "#E5ECF6",
           "caxis": {
            "gridcolor": "white",
            "linecolor": "white",
            "ticks": ""
           }
          },
          "title": {
           "x": 0.05
          },
          "xaxis": {
           "automargin": true,
           "gridcolor": "white",
           "linecolor": "white",
           "ticks": "",
           "title": {
            "standoff": 15
           },
           "zerolinecolor": "white",
           "zerolinewidth": 2
          },
          "yaxis": {
           "automargin": true,
           "gridcolor": "white",
           "linecolor": "white",
           "ticks": "",
           "title": {
            "standoff": 15
           },
           "zerolinecolor": "white",
           "zerolinewidth": 2
          }
         }
        }
       }
      },
      "text/html": [
       "<div>                            <div id=\"85b78027-7aa3-4589-b915-dcc22900d35f\" class=\"plotly-graph-div\" style=\"height:525px; width:100%;\"></div>            <script type=\"text/javascript\">                require([\"plotly\"], function(Plotly) {                    window.PLOTLYENV=window.PLOTLYENV || {};                                    if (document.getElementById(\"85b78027-7aa3-4589-b915-dcc22900d35f\")) {                    Plotly.newPlot(                        \"85b78027-7aa3-4589-b915-dcc22900d35f\",                        [{\"hovertemplate\":\"x=%{x}<br>y=%{y}<br>z=%{z}<br>label=%{marker.color}<extra></extra>\",\"legendgroup\":\"\",\"marker\":{\"color\":[3,6,5,3,3,8,8,7,8,9,2,8,5,8,0,2,2,5,1,8,8,1,1,0,2,2,2,9,5,2,3,3,2,4,0,2,9,4,2,2,3,8,2,0,0,6,5,6,7,8,1,2,7,6,0,3,1,1,5,3,2,8,7,2,1,6,3,2,4,5,2,6,1,2,3,1,7,8,6,4,9,1,0,9,5,4,7,9,3,4,7,1,8,8,3,6,1,2,1,8,8,4,1,8,9,4,8,0,9,5,4,2,0,5,7,6,2,4,4,4,2,8,3,8,2,5,3,0],\"coloraxis\":\"coloraxis\",\"symbol\":\"circle\"},\"mode\":\"markers+text\",\"name\":\"\",\"scene\":\"scene\",\"showlegend\":false,\"text\":[3.0,6.0,5.0,3.0,3.0,8.0,8.0,7.0,8.0,9.0,2.0,8.0,5.0,8.0,0.0,2.0,2.0,5.0,1.0,8.0,8.0,1.0,1.0,0.0,2.0,2.0,2.0,9.0,5.0,2.0,3.0,3.0,2.0,4.0,0.0,2.0,9.0,4.0,2.0,2.0,3.0,8.0,2.0,0.0,0.0,6.0,5.0,6.0,7.0,8.0,1.0,2.0,7.0,6.0,0.0,3.0,1.0,1.0,5.0,3.0,2.0,8.0,7.0,2.0,1.0,6.0,3.0,2.0,4.0,5.0,2.0,6.0,1.0,2.0,3.0,1.0,7.0,8.0,6.0,4.0,9.0,1.0,0.0,9.0,5.0,4.0,7.0,9.0,3.0,4.0,7.0,1.0,8.0,8.0,3.0,6.0,1.0,2.0,1.0,8.0,8.0,4.0,1.0,8.0,9.0,4.0,8.0,0.0,9.0,5.0,4.0,2.0,0.0,5.0,7.0,6.0,2.0,4.0,4.0,4.0,2.0,8.0,3.0,8.0,2.0,5.0,3.0,0.0],\"x\":[-0.6835431456565857,-0.5357563495635986,-0.8399069309234619,-0.57917720079422,-0.9211938977241516,-0.8584342002868652,-0.8630712628364563,0.41852498054504395,-0.8507291674613953,0.09801635891199112,0.2081131935119629,-0.8530544638633728,-0.8836619853973389,-0.8572906255722046,0.0740700215101242,0.285664439201355,0.2917683720588684,-0.7115849256515503,-0.8804222345352173,-0.8429765701293945,-0.8588250875473022,-0.8870548009872437,-0.8809497356414795,0.053891800343990326,0.23745737969875336,0.3234769105911255,0.2805585265159607,0.166591614484787,-0.8094940781593323,0.34385937452316284,-0.4716845154762268,-0.5876004099845886,0.265606164932251,-0.24496668577194214,0.10669420659542084,0.3323872983455658,0.15452931821346283,0.03379353880882263,0.08370884507894516,0.3359227776527405,-0.7824586629867554,-0.838651180267334,0.1340378224849701,0.08156125992536545,0.024236338213086128,-0.5380842685699463,-0.6938543319702148,-0.575317919254303,0.34044796228408813,-0.8550513982772827,-0.8735392093658447,0.2976306080818176,0.4278009831905365,-0.5427178144454956,-0.013682562857866287,-0.5337313413619995,-0.8816512227058411,-0.8795159459114075,-0.6782975196838379,-0.488057404756546,0.2737482190132141,-0.8297330737113953,0.381012499332428,0.27385714650154114,-0.8690162897109985,-0.5667709112167358,-0.5523993372917175,0.22471363842487335,-0.16091211140155792,-0.7251192927360535,0.2310483157634735,-0.5630558133125305,-0.8768682479858398,-0.02653713896870613,-0.5164057612419128,-0.8834280371665955,0.37098586559295654,-0.8082016706466675,-0.5639975666999817,-0.4539295732975006,0.09243035316467285,-0.8819152116775513,0.02295033447444439,0.1407431960105896,-0.7292615175247192,0.011458657681941986,0.3745764195919037,0.04395276680588722,-0.5890831351280212,-0.05475342646241188,0.3962344825267792,-0.884568452835083,-0.853367805480957,-0.8703060150146484,-0.5176045298576355,-0.6690239906311035,-0.8749644160270691,-0.22323472797870636,-0.8777643442153931,-0.8561192750930786,-0.7610702514648438,-0.2871169149875641,-0.8754183650016785,-0.8454062342643738,-0.04830368235707283,-0.11308691650629044,-0.8500720262527466,-0.03933117166161537,0.09652844071388245,-0.70844966173172,0.022376196458935738,0.2133375108242035,-0.01180815976113081,-0.6990783214569092,0.42627015709877014,-0.62187659740448,0.18007570505142212,-0.11918371170759201,-0.1922139972448349,-0.08508168905973434,-0.019730277359485626,-0.854522168636322,-0.5946978330612183,-0.8452793955802917,0.2844483256340027,-0.6958109736442566,-0.5113311409950256,0.06362564116716385],\"y\":[-0.09041891247034073,-0.38164135813713074,0.4048338234424591,-0.0801009014248848,0.08405879139900208,0.46048641204833984,0.45948004722595215,-0.8349553346633911,0.46440935134887695,0.1752692013978958,-0.434643030166626,0.46429407596588135,0.4549248218536377,0.4620128273963928,-0.8936060070991516,-0.37143173813819885,-0.4339616298675537,0.5205917954444885,0.03157389536499977,0.4647739827632904,0.4606768786907196,0.06639916449785233,0.034108374267816544,-0.8952417373657227,-0.4408087432384491,-0.4161500036716461,-0.42953962087631226,0.13968156278133392,-0.18074142932891846,-0.7277212142944336,-0.1770079880952835,-0.12951456010341644,-0.45201757550239563,-0.5146021246910095,-0.8778614401817322,-0.39666447043418884,0.1443280577659607,-0.5470452308654785,-0.6125493049621582,-0.41680657863616943,0.17133603990077972,0.4669167399406433,-0.6839101314544678,-0.8815843462944031,-0.8864803910255432,-0.37517571449279785,0.5176775455474854,-0.33041539788246155,-0.8885535001754761,0.4676780700683594,0.0011421801755204797,-0.3895356059074402,-0.8627856373786926,-0.3711409270763397,-0.907987117767334,-0.08845749497413635,0.03753206506371498,0.027296679094433784,0.5147606730461121,-0.10085801780223846,-0.48595231771469116,0.46204185485839844,-0.8731042146682739,-0.4834548234939575,-0.016764288768172264,-0.34917235374450684,-0.6955587267875671,-0.4182109832763672,-0.4915596842765808,0.5224847793579102,-0.44306322932243347,-0.3520352840423584,0.015304050408303738,-0.6072915196418762,-0.08142829686403275,0.04650082811713219,-0.8930023312568665,0.4661504626274109,-0.3500179052352905,-0.5110299587249756,0.17292077839374542,0.03883686661720276,-0.8880165815353394,0.15138304233551025,0.5230008363723755,-0.5567360520362854,-0.8719280958175659,0.1590992957353592,-0.06307945400476456,-0.542479932308197,-0.746177613735199,0.0525064654648304,0.4606395959854126,0.45655518770217896,-0.07320983707904816,-0.5824156403541565,0.007091563660651445,-0.9469122290611267,0.019284069538116455,0.4600510597229004,0.1537954956293106,-0.4346586763858795,0.009020951576530933,0.46036961674690247,0.15220966935157776,-0.5366389155387878,0.45975401997566223,-0.8999714851379395,0.16693729162216187,0.5201107263565063,-0.547640323638916,-0.42070743441581726,-0.9036975502967834,0.5185838937759399,-0.8505927920341492,-0.3162931203842163,-0.43804940581321716,-0.5412837266921997,-0.43850240111351013,-0.546276330947876,-0.5524464249610901,0.4277115762233734,-0.11666514724493027,0.4627780318260193,-0.3877643644809723,0.5180214643478394,-0.21388939023017883,-0.8840767741203308],\"z\":[-0.7242881655693054,-0.7532031536102295,0.36147743463516235,-0.8112567067146301,-0.37991562485694885,0.22592703998088837,0.20972849428653717,0.3573321998119354,0.24613778293132782,0.9796292781829834,0.8762273192405701,0.23817864060401917,0.11038574576377869,0.22714979946613312,-0.44269847869873047,0.8834219574928284,0.8523780703544617,0.4718378782272339,-0.4731382727622986,0.27087947726249695,0.22404514253139496,-0.4568643271923065,-0.47197890281677246,-0.44230976700782776,0.8656221032142639,0.8498128056526184,0.8583604097366333,0.9760821461677551,-0.5586159825325012,0.5934496521949768,-0.8638182282447815,-0.7987188100814819,0.8515476584434509,0.8216909170150757,-0.4668785631656647,0.8556728363037109,0.9773894548416138,0.8364205956459045,0.785987377166748,0.8446467518806458,-0.598667323589325,0.28045132756233215,0.7171476483345032,-0.46492671966552734,-0.4621311128139496,-0.7547903656959534,0.5005759000778198,-0.748221218585968,0.30751901865005493,0.2239743024110794,-0.486752450466156,0.8715951442718506,0.26942014694213867,-0.7534665465354919,-0.41877442598342896,-0.8410149216651917,-0.47040659189224243,-0.4750858545303345,0.5243414044380188,-0.8669646382331848,0.8300073146820068,0.3131459057331085,0.30416855216026306,0.8314287662506104,-0.4944993853569031,-0.7462233304977417,-0.4594050347805023,0.8801155090332031,0.8558483719825745,0.4485662281513214,0.8662053346633911,-0.7476892471313477,-0.4804871082305908,0.794035792350769,-0.8524637222290039,-0.4662538170814514,0.25478678941726685,0.35988014936447144,-0.7479265332221985,0.7299289703369141,0.9805890917778015,-0.4698054790496826,-0.4592382609844208,0.9784040451049805,0.44118911027908325,0.8306103944778442,0.315331369638443,0.9862837791442871,-0.8056066632270813,0.838282585144043,0.5349928140640259,-0.4634454548358917,0.24407905340194702,0.1847289502620697,-0.8524821996688843,-0.4617346525192261,-0.48413529992103577,0.23135164380073547,-0.4787043333053589,0.2353993058204651,0.6301738619804382,0.8536016345024109,-0.4832819402217865,0.2708286941051483,0.9871671795845032,0.8361997008323669,0.2569120228290558,-0.43417099118232727,0.9812309741973877,0.4770575761795044,0.8364145755767822,0.8817552924156189,-0.4280085563659668,0.49230101704597473,0.3078726828098297,-0.7163993716239929,0.8807300329208374,0.8323503732681274,0.8779348134994507,0.8332726955413818,0.833314836025238,0.2947111129760742,-0.7954393625259399,0.26709431409835815,0.8767712712287903,0.49749451875686646,-0.8323411345481873,-0.4629902243614197],\"type\":\"scatter3d\"}],                        {\"template\":{\"data\":{\"histogram2dcontour\":[{\"type\":\"histogram2dcontour\",\"colorbar\":{\"outlinewidth\":0,\"ticks\":\"\"},\"colorscale\":[[0.0,\"#0d0887\"],[0.1111111111111111,\"#46039f\"],[0.2222222222222222,\"#7201a8\"],[0.3333333333333333,\"#9c179e\"],[0.4444444444444444,\"#bd3786\"],[0.5555555555555556,\"#d8576b\"],[0.6666666666666666,\"#ed7953\"],[0.7777777777777778,\"#fb9f3a\"],[0.8888888888888888,\"#fdca26\"],[1.0,\"#f0f921\"]]}],\"choropleth\":[{\"type\":\"choropleth\",\"colorbar\":{\"outlinewidth\":0,\"ticks\":\"\"}}],\"histogram2d\":[{\"type\":\"histogram2d\",\"colorbar\":{\"outlinewidth\":0,\"ticks\":\"\"},\"colorscale\":[[0.0,\"#0d0887\"],[0.1111111111111111,\"#46039f\"],[0.2222222222222222,\"#7201a8\"],[0.3333333333333333,\"#9c179e\"],[0.4444444444444444,\"#bd3786\"],[0.5555555555555556,\"#d8576b\"],[0.6666666666666666,\"#ed7953\"],[0.7777777777777778,\"#fb9f3a\"],[0.8888888888888888,\"#fdca26\"],[1.0,\"#f0f921\"]]}],\"heatmap\":[{\"type\":\"heatmap\",\"colorbar\":{\"outlinewidth\":0,\"ticks\":\"\"},\"colorscale\":[[0.0,\"#0d0887\"],[0.1111111111111111,\"#46039f\"],[0.2222222222222222,\"#7201a8\"],[0.3333333333333333,\"#9c179e\"],[0.4444444444444444,\"#bd3786\"],[0.5555555555555556,\"#d8576b\"],[0.6666666666666666,\"#ed7953\"],[0.7777777777777778,\"#fb9f3a\"],[0.8888888888888888,\"#fdca26\"],[1.0,\"#f0f921\"]]}],\"heatmapgl\":[{\"type\":\"heatmapgl\",\"colorbar\":{\"outlinewidth\":0,\"ticks\":\"\"},\"colorscale\":[[0.0,\"#0d0887\"],[0.1111111111111111,\"#46039f\"],[0.2222222222222222,\"#7201a8\"],[0.3333333333333333,\"#9c179e\"],[0.4444444444444444,\"#bd3786\"],[0.5555555555555556,\"#d8576b\"],[0.6666666666666666,\"#ed7953\"],[0.7777777777777778,\"#fb9f3a\"],[0.8888888888888888,\"#fdca26\"],[1.0,\"#f0f921\"]]}],\"contourcarpet\":[{\"type\":\"contourcarpet\",\"colorbar\":{\"outlinewidth\":0,\"ticks\":\"\"}}],\"contour\":[{\"type\":\"contour\",\"colorbar\":{\"outlinewidth\":0,\"ticks\":\"\"},\"colorscale\":[[0.0,\"#0d0887\"],[0.1111111111111111,\"#46039f\"],[0.2222222222222222,\"#7201a8\"],[0.3333333333333333,\"#9c179e\"],[0.4444444444444444,\"#bd3786\"],[0.5555555555555556,\"#d8576b\"],[0.6666666666666666,\"#ed7953\"],[0.7777777777777778,\"#fb9f3a\"],[0.8888888888888888,\"#fdca26\"],[1.0,\"#f0f921\"]]}],\"surface\":[{\"type\":\"surface\",\"colorbar\":{\"outlinewidth\":0,\"ticks\":\"\"},\"colorscale\":[[0.0,\"#0d0887\"],[0.1111111111111111,\"#46039f\"],[0.2222222222222222,\"#7201a8\"],[0.3333333333333333,\"#9c179e\"],[0.4444444444444444,\"#bd3786\"],[0.5555555555555556,\"#d8576b\"],[0.6666666666666666,\"#ed7953\"],[0.7777777777777778,\"#fb9f3a\"],[0.8888888888888888,\"#fdca26\"],[1.0,\"#f0f921\"]]}],\"mesh3d\":[{\"type\":\"mesh3d\",\"colorbar\":{\"outlinewidth\":0,\"ticks\":\"\"}}],\"scatter\":[{\"fillpattern\":{\"fillmode\":\"overlay\",\"size\":10,\"solidity\":0.2},\"type\":\"scatter\"}],\"parcoords\":[{\"type\":\"parcoords\",\"line\":{\"colorbar\":{\"outlinewidth\":0,\"ticks\":\"\"}}}],\"scatterpolargl\":[{\"type\":\"scatterpolargl\",\"marker\":{\"colorbar\":{\"outlinewidth\":0,\"ticks\":\"\"}}}],\"bar\":[{\"error_x\":{\"color\":\"#2a3f5f\"},\"error_y\":{\"color\":\"#2a3f5f\"},\"marker\":{\"line\":{\"color\":\"#E5ECF6\",\"width\":0.5},\"pattern\":{\"fillmode\":\"overlay\",\"size\":10,\"solidity\":0.2}},\"type\":\"bar\"}],\"scattergeo\":[{\"type\":\"scattergeo\",\"marker\":{\"colorbar\":{\"outlinewidth\":0,\"ticks\":\"\"}}}],\"scatterpolar\":[{\"type\":\"scatterpolar\",\"marker\":{\"colorbar\":{\"outlinewidth\":0,\"ticks\":\"\"}}}],\"histogram\":[{\"marker\":{\"pattern\":{\"fillmode\":\"overlay\",\"size\":10,\"solidity\":0.2}},\"type\":\"histogram\"}],\"scattergl\":[{\"type\":\"scattergl\",\"marker\":{\"colorbar\":{\"outlinewidth\":0,\"ticks\":\"\"}}}],\"scatter3d\":[{\"type\":\"scatter3d\",\"line\":{\"colorbar\":{\"outlinewidth\":0,\"ticks\":\"\"}},\"marker\":{\"colorbar\":{\"outlinewidth\":0,\"ticks\":\"\"}}}],\"scattermapbox\":[{\"type\":\"scattermapbox\",\"marker\":{\"colorbar\":{\"outlinewidth\":0,\"ticks\":\"\"}}}],\"scatterternary\":[{\"type\":\"scatterternary\",\"marker\":{\"colorbar\":{\"outlinewidth\":0,\"ticks\":\"\"}}}],\"scattercarpet\":[{\"type\":\"scattercarpet\",\"marker\":{\"colorbar\":{\"outlinewidth\":0,\"ticks\":\"\"}}}],\"carpet\":[{\"aaxis\":{\"endlinecolor\":\"#2a3f5f\",\"gridcolor\":\"white\",\"linecolor\":\"white\",\"minorgridcolor\":\"white\",\"startlinecolor\":\"#2a3f5f\"},\"baxis\":{\"endlinecolor\":\"#2a3f5f\",\"gridcolor\":\"white\",\"linecolor\":\"white\",\"minorgridcolor\":\"white\",\"startlinecolor\":\"#2a3f5f\"},\"type\":\"carpet\"}],\"table\":[{\"cells\":{\"fill\":{\"color\":\"#EBF0F8\"},\"line\":{\"color\":\"white\"}},\"header\":{\"fill\":{\"color\":\"#C8D4E3\"},\"line\":{\"color\":\"white\"}},\"type\":\"table\"}],\"barpolar\":[{\"marker\":{\"line\":{\"color\":\"#E5ECF6\",\"width\":0.5},\"pattern\":{\"fillmode\":\"overlay\",\"size\":10,\"solidity\":0.2}},\"type\":\"barpolar\"}],\"pie\":[{\"automargin\":true,\"type\":\"pie\"}]},\"layout\":{\"autotypenumbers\":\"strict\",\"colorway\":[\"#636efa\",\"#EF553B\",\"#00cc96\",\"#ab63fa\",\"#FFA15A\",\"#19d3f3\",\"#FF6692\",\"#B6E880\",\"#FF97FF\",\"#FECB52\"],\"font\":{\"color\":\"#2a3f5f\"},\"hovermode\":\"closest\",\"hoverlabel\":{\"align\":\"left\"},\"paper_bgcolor\":\"white\",\"plot_bgcolor\":\"#E5ECF6\",\"polar\":{\"bgcolor\":\"#E5ECF6\",\"angularaxis\":{\"gridcolor\":\"white\",\"linecolor\":\"white\",\"ticks\":\"\"},\"radialaxis\":{\"gridcolor\":\"white\",\"linecolor\":\"white\",\"ticks\":\"\"}},\"ternary\":{\"bgcolor\":\"#E5ECF6\",\"aaxis\":{\"gridcolor\":\"white\",\"linecolor\":\"white\",\"ticks\":\"\"},\"baxis\":{\"gridcolor\":\"white\",\"linecolor\":\"white\",\"ticks\":\"\"},\"caxis\":{\"gridcolor\":\"white\",\"linecolor\":\"white\",\"ticks\":\"\"}},\"coloraxis\":{\"colorbar\":{\"outlinewidth\":0,\"ticks\":\"\"}},\"colorscale\":{\"sequential\":[[0.0,\"#0d0887\"],[0.1111111111111111,\"#46039f\"],[0.2222222222222222,\"#7201a8\"],[0.3333333333333333,\"#9c179e\"],[0.4444444444444444,\"#bd3786\"],[0.5555555555555556,\"#d8576b\"],[0.6666666666666666,\"#ed7953\"],[0.7777777777777778,\"#fb9f3a\"],[0.8888888888888888,\"#fdca26\"],[1.0,\"#f0f921\"]],\"sequentialminus\":[[0.0,\"#0d0887\"],[0.1111111111111111,\"#46039f\"],[0.2222222222222222,\"#7201a8\"],[0.3333333333333333,\"#9c179e\"],[0.4444444444444444,\"#bd3786\"],[0.5555555555555556,\"#d8576b\"],[0.6666666666666666,\"#ed7953\"],[0.7777777777777778,\"#fb9f3a\"],[0.8888888888888888,\"#fdca26\"],[1.0,\"#f0f921\"]],\"diverging\":[[0,\"#8e0152\"],[0.1,\"#c51b7d\"],[0.2,\"#de77ae\"],[0.3,\"#f1b6da\"],[0.4,\"#fde0ef\"],[0.5,\"#f7f7f7\"],[0.6,\"#e6f5d0\"],[0.7,\"#b8e186\"],[0.8,\"#7fbc41\"],[0.9,\"#4d9221\"],[1,\"#276419\"]]},\"xaxis\":{\"gridcolor\":\"white\",\"linecolor\":\"white\",\"ticks\":\"\",\"title\":{\"standoff\":15},\"zerolinecolor\":\"white\",\"automargin\":true,\"zerolinewidth\":2},\"yaxis\":{\"gridcolor\":\"white\",\"linecolor\":\"white\",\"ticks\":\"\",\"title\":{\"standoff\":15},\"zerolinecolor\":\"white\",\"automargin\":true,\"zerolinewidth\":2},\"scene\":{\"xaxis\":{\"backgroundcolor\":\"#E5ECF6\",\"gridcolor\":\"white\",\"linecolor\":\"white\",\"showbackground\":true,\"ticks\":\"\",\"zerolinecolor\":\"white\",\"gridwidth\":2},\"yaxis\":{\"backgroundcolor\":\"#E5ECF6\",\"gridcolor\":\"white\",\"linecolor\":\"white\",\"showbackground\":true,\"ticks\":\"\",\"zerolinecolor\":\"white\",\"gridwidth\":2},\"zaxis\":{\"backgroundcolor\":\"#E5ECF6\",\"gridcolor\":\"white\",\"linecolor\":\"white\",\"showbackground\":true,\"ticks\":\"\",\"zerolinecolor\":\"white\",\"gridwidth\":2}},\"shapedefaults\":{\"line\":{\"color\":\"#2a3f5f\"}},\"annotationdefaults\":{\"arrowcolor\":\"#2a3f5f\",\"arrowhead\":0,\"arrowwidth\":1},\"geo\":{\"bgcolor\":\"white\",\"landcolor\":\"#E5ECF6\",\"subunitcolor\":\"white\",\"showland\":true,\"showlakes\":true,\"lakecolor\":\"white\"},\"title\":{\"x\":0.05},\"mapbox\":{\"style\":\"light\"}}},\"scene\":{\"domain\":{\"x\":[0.0,1.0],\"y\":[0.0,1.0]},\"xaxis\":{\"title\":{\"text\":\"x\"}},\"yaxis\":{\"title\":{\"text\":\"y\"}},\"zaxis\":{\"title\":{\"text\":\"z\"}}},\"coloraxis\":{\"colorbar\":{\"title\":{\"text\":\"label\"}},\"colorscale\":[[0.0,\"#0d0887\"],[0.1111111111111111,\"#46039f\"],[0.2222222222222222,\"#7201a8\"],[0.3333333333333333,\"#9c179e\"],[0.4444444444444444,\"#bd3786\"],[0.5555555555555556,\"#d8576b\"],[0.6666666666666666,\"#ed7953\"],[0.7777777777777778,\"#fb9f3a\"],[0.8888888888888888,\"#fdca26\"],[1.0,\"#f0f921\"]]},\"legend\":{\"tracegroupgap\":0},\"margin\":{\"t\":60}},                        {\"responsive\": true}                    ).then(function(){\n",
       "                            \n",
       "var gd = document.getElementById('85b78027-7aa3-4589-b915-dcc22900d35f');\n",
       "var x = new MutationObserver(function (mutations, observer) {{\n",
       "        var display = window.getComputedStyle(gd).display;\n",
       "        if (!display || display === 'none') {{\n",
       "            console.log([gd, 'removed!']);\n",
       "            Plotly.purge(gd);\n",
       "            observer.disconnect();\n",
       "        }}\n",
       "}});\n",
       "\n",
       "// Listen for the removal of the full notebook cells\n",
       "var notebookContainer = gd.closest('#notebook-container');\n",
       "if (notebookContainer) {{\n",
       "    x.observe(notebookContainer, {childList: true});\n",
       "}}\n",
       "\n",
       "// Listen for the clearing of the current output cell\n",
       "var outputEl = gd.closest('.output');\n",
       "if (outputEl) {{\n",
       "    x.observe(outputEl, {childList: true});\n",
       "}}\n",
       "\n",
       "                        })                };                });            </script>        </div>"
      ]
     },
     "metadata": {},
     "output_type": "display_data"
    }
   ],
   "source": [
    "df = pd.DataFrame({'x': embeds[:, 0], \n",
    "                   'y': embeds[:, 1], \n",
    "                   'z': embeds[:, 2], \n",
    "                   'label': batch_labels.numpy()})\n",
    "\n",
    "fig = px.scatter_3d(df, x='x', y='y', z='z',\n",
    "                      color='label', text='label')\n",
    "fig.show()"
   ]
  },
  {
   "cell_type": "markdown",
   "id": "fc5385f0",
   "metadata": {},
   "source": [
    "## Accuracy over test images"
   ]
  },
  {
   "cell_type": "code",
   "execution_count": 382,
   "id": "afe69ae9",
   "metadata": {},
   "outputs": [],
   "source": [
    "def accuracy_over_test_images(mnist_net, tag='original'):\n",
    "    correct = 0\n",
    "    total = 0\n",
    "    # since we're not training, we don't need to calculate the gradients for our outputs\n",
    "    with torch.no_grad():\n",
    "        for images, labels in data_loader:\n",
    "            images = images.to(device); labels = labels.to(device)\n",
    "            # calculate outputs by running images through the network\n",
    "            outputs = mnist_net(images)\n",
    "            # the class with the highest energy is what we choose as prediction\n",
    "            _, predicted = torch.max(outputs.data, 1)\n",
    "            total += labels.size(0)\n",
    "            correct += (predicted == labels).sum().item()\n",
    "\n",
    "    print(f'Accuracy of the ' +  tag +  ' network on the '+ str(total) +' test images: '+ str(100 * correct // total)+ '%')"
   ]
  },
  {
   "cell_type": "code",
   "execution_count": 383,
   "id": "283671bb",
   "metadata": {
    "scrolled": true
   },
   "outputs": [
    {
     "name": "stdout",
     "output_type": "stream",
     "text": [
      "Accuracy of the modified network on the 10000 test images: 66%\n"
     ]
    }
   ],
   "source": [
    "accuracy_over_test_images(mnist_net, tag='modified')"
   ]
  },
  {
   "cell_type": "code",
   "execution_count": 79,
   "id": "1279a9ae",
   "metadata": {
    "scrolled": true
   },
   "outputs": [
    {
     "name": "stdout",
     "output_type": "stream",
     "text": [
      "Accuracy of the original network on the 10000 test images: 97%\n"
     ]
    }
   ],
   "source": [
    "# accuracy_over_test_images(original_mnist_net)\n",
    "# Accuracy of the original network on the 10000 test images: 97%"
   ]
  },
  {
   "cell_type": "code",
   "execution_count": 25,
   "id": "ce22089b",
   "metadata": {},
   "outputs": [],
   "source": [
    "# 1, 0 split (accuracy 45%)\n",
    "# 1, 2 split (accuracy 47%)\n",
    "# 1, 3 split (accuracy 46%)\n",
    "# 1, 4 split (accuracy 36%)\n",
    "# 1, 5 split (accuracy 39%)\n",
    "# 1, 6 split (accuracy 52%) had to run twice \n",
    "# 1, 7 split (accuracy Not Possible %)\n",
    "# 1, 8 split (accuracy  Not possible %)\n",
    "# 1, 9 split (accuracy  37%)"
   ]
  },
  {
   "cell_type": "code",
   "execution_count": null,
   "id": "79858db0",
   "metadata": {},
   "outputs": [],
   "source": []
  }
 ],
 "metadata": {
  "kernelspec": {
   "display_name": "Python 3 (ipykernel)",
   "language": "python",
   "name": "python3"
  },
  "language_info": {
   "codemirror_mode": {
    "name": "ipython",
    "version": 3
   },
   "file_extension": ".py",
   "mimetype": "text/x-python",
   "name": "python",
   "nbconvert_exporter": "python",
   "pygments_lexer": "ipython3",
   "version": "3.7.16"
  }
 },
 "nbformat": 4,
 "nbformat_minor": 5
}
