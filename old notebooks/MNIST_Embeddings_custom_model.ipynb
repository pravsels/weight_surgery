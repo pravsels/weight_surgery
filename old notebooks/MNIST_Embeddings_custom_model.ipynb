{
 "cells": [
  {
   "cell_type": "markdown",
   "id": "d45fb7df",
   "metadata": {},
   "source": [
    "# MNIST Embeddings"
   ]
  },
  {
   "cell_type": "markdown",
   "id": "bc1598eb",
   "metadata": {},
   "source": [
    "## Imports and Hyper-parameters "
   ]
  },
  {
   "cell_type": "code",
   "execution_count": 1,
   "id": "8e3336f1",
   "metadata": {},
   "outputs": [
    {
     "name": "stdout",
     "output_type": "stream",
     "text": [
      "/home/praveens/Desktop/synthetic_biometrics/visualize_embeddings\n"
     ]
    }
   ],
   "source": [
    "import torch \n",
    "import os \n",
    "import numpy as np \n",
    "from torchvision import transforms \n",
    "from torchvision.datasets import MNIST \n",
    "from torchvision import models \n",
    "\n",
    "print(os.getcwd())\n",
    "root = os.getcwd()\n",
    "\n",
    "from DeepFeatures import DeepFeatures\n",
    "from mnist_net import Net"
   ]
  },
  {
   "cell_type": "code",
   "execution_count": 2,
   "id": "ea592aff",
   "metadata": {},
   "outputs": [],
   "source": [
    "batch_size = 128\n",
    "data_folder = root + '/MNIST'\n",
    "device = 'cpu'\n",
    "model_path = './mnist_net.pth'"
   ]
  },
  {
   "cell_type": "markdown",
   "id": "5309520a",
   "metadata": {},
   "source": [
    "## Create Dataloader"
   ]
  },
  {
   "cell_type": "code",
   "execution_count": 3,
   "id": "a605168a",
   "metadata": {},
   "outputs": [],
   "source": [
    "transformations = transforms.Compose([transforms.Resize((221, 221)),\n",
    "                                      transforms.ToTensor(),\n",
    "                                      transforms.Normalize(mean=[0.485], std=[0.229])\n",
    "                                    ])\n",
    "\n",
    "mnist_data = MNIST(root=r'./MNIST',\n",
    "                   download=False, train=False,\n",
    "                   transform=transformations)\n",
    "\n",
    "data_loader = torch.utils.data.DataLoader(mnist_data,\n",
    "                                          batch_size=batch_size,\n",
    "                                          shuffle=True)"
   ]
  },
  {
   "cell_type": "code",
   "execution_count": 4,
   "id": "bec9dff2",
   "metadata": {},
   "outputs": [],
   "source": [
    "# list(mnist_net.named_parameters())"
   ]
  },
  {
   "cell_type": "markdown",
   "id": "810fc033",
   "metadata": {},
   "source": [
    "## Initialize Tensorboard Logging Class "
   ]
  },
  {
   "cell_type": "code",
   "execution_count": 5,
   "id": "b6e4f0f0",
   "metadata": {},
   "outputs": [
    {
     "data": {
      "text/plain": [
       "Net(\n",
       "  (conv1): Conv2d(1, 8, kernel_size=(2, 2), stride=(1, 1))\n",
       "  (conv2): Conv2d(8, 16, kernel_size=(2, 2), stride=(1, 1))\n",
       "  (conv3): Conv2d(16, 32, kernel_size=(2, 2), stride=(1, 1))\n",
       "  (conv4): Conv2d(32, 64, kernel_size=(2, 2), stride=(1, 1))\n",
       "  (pool): MaxPool2d(kernel_size=2, stride=2, padding=0, dilation=1, ceil_mode=False)\n",
       "  (fc1): Linear(in_features=9216, out_features=128, bias=True)\n",
       "  (fc2): Linear(in_features=128, out_features=64, bias=True)\n",
       "  (fc3): Linear(in_features=64, out_features=3, bias=True)\n",
       "  (fc4): Linear(in_features=3, out_features=3, bias=True)\n",
       "  (fc5): Linear(in_features=3, out_features=10, bias=True)\n",
       ")"
      ]
     },
     "execution_count": 5,
     "metadata": {},
     "output_type": "execute_result"
    }
   ],
   "source": [
    "mnist_net = Net().to(device)\n",
    "mnist_net.load_state_dict(torch.load(model_path))  # load saved model \n",
    "\n",
    "mnist_net.eval()"
   ]
  },
  {
   "cell_type": "code",
   "execution_count": 6,
   "id": "07fab1e4",
   "metadata": {},
   "outputs": [],
   "source": [
    "deep_features = DeepFeatures(model=mnist_net)"
   ]
  },
  {
   "cell_type": "code",
   "execution_count": 7,
   "id": "8a0f4af9",
   "metadata": {},
   "outputs": [],
   "source": [
    "def find_class_embeddings(deep_features, data_loader, class1, class2):\n",
    "    images, labels = next(iter(data_loader))\n",
    "    e = deep_features.generate_embeddings(images).clone().detach()\n",
    "    \n",
    "    x1 = torch.zeros(3)\n",
    "    class1 = torch.tensor(class1)\n",
    "    class1_count = 0\n",
    "\n",
    "    x2 = torch.zeros(3)\n",
    "    class2 = torch.tensor(class2)\n",
    "    class2_count = 0\n",
    "\n",
    "    for index, (image, label) in enumerate(zip(images, labels)):\n",
    "        if class2_count == 1 and class2_count == 1:\n",
    "            break \n",
    "        \n",
    "        if (not class1_count) and label == class1:\n",
    "            x1 += e[index]/torch.norm(e[index])\n",
    "            class1_count += 1\n",
    "        if (not class2_count) and label == class2:\n",
    "            x2 += e[index]/torch.norm(e[index])\n",
    "            class2_count += 1\n",
    "    \n",
    "    print('sum of class ' + str(class1.numpy()) + ' : ', x1)\n",
    "    print('sum of class '  + str(class2.numpy()) + ' : ', x2)\n",
    "    \n",
    "    x1 = x1/class1_count\n",
    "    x2 = x2/class2_count\n",
    "    \n",
    "    return x1, x2"
   ]
  },
  {
   "cell_type": "code",
   "execution_count": 8,
   "id": "98660408",
   "metadata": {},
   "outputs": [
    {
     "name": "stdout",
     "output_type": "stream",
     "text": [
      "sum of class 1 :  tensor([ 0.1610,  0.0786, -0.9838])\n",
      "sum of class 0 :  tensor([0.7407, 0.5354, 0.4059])\n"
     ]
    },
    {
     "data": {
      "text/plain": [
       "(tensor([ 0.1610,  0.0786, -0.9838]), tensor([0.7407, 0.5354, 0.4059]))"
      ]
     },
     "execution_count": 8,
     "metadata": {},
     "output_type": "execute_result"
    }
   ],
   "source": [
    "x1, x2 = find_class_embeddings(deep_features, data_loader, 1, 0)\n",
    "x1, x2"
   ]
  },
  {
   "cell_type": "code",
   "execution_count": 9,
   "id": "d937e737",
   "metadata": {},
   "outputs": [],
   "source": [
    "def check_if_orthogonal(nbv, q_i):\n",
    "    is_orthogonal = True\n",
    "    for q_n in nbv:\n",
    "        if torch.abs(torch.dot(q_n, q_i)) >= torch.tensor(1e-05):   \n",
    "            is_orthogonal = False   # has to be orthogonal to all of the basis vectors in the list \n",
    "    return is_orthogonal"
   ]
  },
  {
   "cell_type": "code",
   "execution_count": 10,
   "id": "baf4bb26",
   "metadata": {},
   "outputs": [],
   "source": [
    "def perform_weight_surgery(mnist_net, x1, x2, save_model=True):\n",
    "    \n",
    "    # calculate the difference between the 2 class vectors \n",
    "    d = (x2/torch.norm(x2)) - (x1/torch.norm(x1)) \n",
    "    d = d/torch.norm(d)\n",
    "    weight_matrix = mnist_net.fc4.weight.clone().detach()  # weight matrix of the penultimate layer \n",
    "    \n",
    "    def gram_schmidt(d, weight_matrix):\n",
    "        new_basis_vectors = [d]\n",
    "\n",
    "        m, n = weight_matrix.shape\n",
    "\n",
    "        for i in range(n):\n",
    "\n",
    "            a_i = weight_matrix[:, i].clone()\n",
    "            q_i = 0\n",
    "\n",
    "            for j, q_j in enumerate(new_basis_vectors):\n",
    "                q_i -= (torch.dot(q_j, a_i) * q_j)\n",
    "            \n",
    "            q_i += a_i\n",
    "            q_i = q_i / torch.norm(q_i)\n",
    "            \n",
    "            if check_if_orthogonal(new_basis_vectors, q_i):\n",
    "                new_basis_vectors.append(q_i)\n",
    "            \n",
    "        return new_basis_vectors\n",
    "    \n",
    "    \n",
    "    new_basis_vectors = gram_schmidt(d, weight_matrix)\n",
    "    print('weight matrix :\\n', weight_matrix)\n",
    "    \n",
    "    U = [nbv.reshape(-1, 1) for nbv in new_basis_vectors]\n",
    "    U = torch.cat(U, axis=1)\n",
    "#     Q, _ = torch.qr(U)\n",
    "    print('unitary matrix :\\n', U)\n",
    "#     print('QR decomp :\\n', Q)\n",
    "    \n",
    "    S = torch.eye(U.shape[0])\n",
    "    S[0, 0] = 0\n",
    "    print('projection matrix :\\n', S)\n",
    "    \n",
    "    print('modified weight matrix :\\n', weight_matrix @ U @ S @ U.T)\n",
    "    \n",
    "    mnist_net.fc4.weight = torch.nn.Parameter(weight_matrix @ U @ S @ U.T)\n",
    "    \n",
    "    if save_model: \n",
    "        path = './modified_mnist_net.pth'\n",
    "        torch.save(mnist_net.state_dict(), path)"
   ]
  },
  {
   "cell_type": "code",
   "execution_count": 11,
   "id": "800a2213",
   "metadata": {
    "scrolled": false
   },
   "outputs": [
    {
     "name": "stdout",
     "output_type": "stream",
     "text": [
      "weight matrix :\n",
      " tensor([[ 0.3257, -1.0893,  0.8606],\n",
      "        [ 0.0483,  0.1397,  0.5508],\n",
      "        [-1.0913,  0.2588,  0.4324]])\n",
      "unitary matrix :\n",
      " tensor([[ 0.3684,  0.8079, -0.4600],\n",
      "        [ 0.2903,  0.3701,  0.8825],\n",
      "        [ 0.8832, -0.4586, -0.0982]])\n",
      "projection matrix :\n",
      " tensor([[0., 0., 0.],\n",
      "        [0., 1., 0.],\n",
      "        [0., 0., 1.]])\n",
      "modified weight matrix :\n",
      " tensor([[ 0.1180, -1.2530,  0.3627],\n",
      "        [-0.1524, -0.0184,  0.0696],\n",
      "        [-1.1116,  0.2428,  0.3838]])\n"
     ]
    }
   ],
   "source": [
    "perform_weight_surgery(mnist_net, x1, x2, save_model=True)"
   ]
  },
  {
   "cell_type": "markdown",
   "id": "ec519681",
   "metadata": {},
   "source": [
    "## Write Embeddings to Tensorboard"
   ]
  },
  {
   "cell_type": "code",
   "execution_count": 12,
   "id": "0d718872",
   "metadata": {
    "scrolled": true
   },
   "outputs": [
    {
     "data": {
      "text/plain": [
       "True"
      ]
     },
     "execution_count": 12,
     "metadata": {},
     "output_type": "execute_result"
    }
   ],
   "source": [
    "batch_images, batch_labels = next(iter(data_loader))\n",
    "deep_features.write_embeddings(x=batch_images.to(device))"
   ]
  },
  {
   "cell_type": "code",
   "execution_count": 13,
   "id": "1785d592",
   "metadata": {
    "scrolled": true
   },
   "outputs": [
    {
     "name": "stdout",
     "output_type": "stream",
     "text": [
      "torch.Size([128, 3])\n",
      "torch.Size([128, 1, 28, 28])\n"
     ]
    },
    {
     "name": "stderr",
     "output_type": "stream",
     "text": [
      "/home/praveens/Desktop/synthetic_biometrics/visualize_embeddings/DeepFeatures.py:86: UserWarning: Creating a tensor from a list of numpy.ndarrays is extremely slow. Please consider converting the list to a single numpy.ndarray with numpy.array() before converting to a tensor. (Triggered internally at  /home/builder/mc3/envs/pytorch-build/envs/pytorch-build/conda-bld/pytorch_1673601922403/work/torch/csrc/utils/tensor_new.cpp:201.)\n",
      "  all_embeds = torch.Tensor(all_embeds)\n"
     ]
    }
   ],
   "source": [
    "deep_features.create_tensorboard_log()"
   ]
  },
  {
   "cell_type": "code",
   "execution_count": 14,
   "id": "5dcb0c96",
   "metadata": {},
   "outputs": [],
   "source": [
    "correct = 0\n",
    "total = 0\n",
    "# since we're not training, we don't need to calculate the gradients for our outputs\n",
    "with torch.no_grad():\n",
    "    for images, labels in data_loader:\n",
    "        images = images.to(device); labels = labels.to(device)\n",
    "        # calculate outputs by running images through the network\n",
    "        outputs = mnist_net(images)\n",
    "        # the class with the highest energy is what we choose as prediction\n",
    "        _, predicted = torch.max(outputs.data, 1)\n",
    "        total += labels.size(0)\n",
    "        correct += (predicted == labels).sum().item()\n"
   ]
  },
  {
   "cell_type": "code",
   "execution_count": 15,
   "id": "cbc29e3e",
   "metadata": {},
   "outputs": [
    {
     "name": "stdout",
     "output_type": "stream",
     "text": [
      "Accuracy of the network on the 10000 test images: 50%\n"
     ]
    }
   ],
   "source": [
    "print(f'Accuracy of the network on the '+ str(total) +' test images: '+ str(100 * correct // total)+ '%')"
   ]
  },
  {
   "cell_type": "code",
   "execution_count": 16,
   "id": "2107b9ba",
   "metadata": {},
   "outputs": [],
   "source": [
    "# 1, 0 split (accuracy 45%)\n",
    "# 1, 2 split (accuracy 47%)\n",
    "# 1, 3 split (accuracy 46%)\n",
    "# 1, 4 split (accuracy 36%)\n",
    "# 1, 5 split (accuracy 39%)\n",
    "# 1, 6 split (accuracy 52%) had to run twice \n",
    "# 1, 7 split (accuracy Not Possible %)\n",
    "# 1, 8 split (accuracy  Not possible %)\n",
    "# 1, 9 split (accuracy  37%)"
   ]
  }
 ],
 "metadata": {
  "kernelspec": {
   "display_name": "Python 3 (ipykernel)",
   "language": "python",
   "name": "python3"
  },
  "language_info": {
   "codemirror_mode": {
    "name": "ipython",
    "version": 3
   },
   "file_extension": ".py",
   "mimetype": "text/x-python",
   "name": "python",
   "nbconvert_exporter": "python",
   "pygments_lexer": "ipython3",
   "version": "3.7.16"
  }
 },
 "nbformat": 4,
 "nbformat_minor": 5
}
