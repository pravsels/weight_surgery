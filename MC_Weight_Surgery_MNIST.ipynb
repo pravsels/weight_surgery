{
 "cells": [
  {
   "cell_type": "markdown",
   "id": "65791bdc",
   "metadata": {},
   "source": [
    "# MNIST Embeddings"
   ]
  },
  {
   "cell_type": "markdown",
   "id": "a8a44dcf",
   "metadata": {},
   "source": [
    "## Imports and Hyper-parameters "
   ]
  },
  {
   "cell_type": "code",
   "execution_count": 93,
   "id": "9f195be0",
   "metadata": {},
   "outputs": [
    {
     "name": "stdout",
     "output_type": "stream",
     "text": [
      "/home/praveens/Desktop/synthetic_biometrics/visualize_embeddings\n"
     ]
    }
   ],
   "source": [
    "import torch \n",
    "import os \n",
    "import numpy as np \n",
    "from torchvision import transforms \n",
    "from torchvision.datasets import MNIST \n",
    "from torchvision import models \n",
    "\n",
    "print(os.getcwd())\n",
    "root = os.getcwd()\n",
    "\n",
    "from mnist_net import Net\n",
    "\n",
    "from sklearn.ensemble import IsolationForest\n",
    "import plotly.express as px\n",
    "import pandas as pd"
   ]
  },
  {
   "cell_type": "code",
   "execution_count": 94,
   "id": "fae1b25d",
   "metadata": {},
   "outputs": [],
   "source": [
    "batch_size = 128\n",
    "data_folder = root + '/MNIST'\n",
    "device = 'cpu'\n",
    "model_path = './mnist_net.pth'\n",
    "\n",
    "merge_class1 = 2\n",
    "merge_class2 = 4"
   ]
  },
  {
   "cell_type": "markdown",
   "id": "2e460bd2",
   "metadata": {},
   "source": [
    "## Create Dataloader"
   ]
  },
  {
   "cell_type": "code",
   "execution_count": 95,
   "id": "860de05b",
   "metadata": {},
   "outputs": [],
   "source": [
    "transformations = transforms.Compose([transforms.Resize((221, 221)),\n",
    "                                      transforms.ToTensor(),\n",
    "                                      transforms.Normalize(mean=[0.485], std=[0.229])\n",
    "                                    ])\n",
    "\n",
    "mnist_data = MNIST(root=r'./MNIST',\n",
    "                   download=False, # change to True to download MNIST data\n",
    "                   train=False, \n",
    "                   transform=transformations)\n",
    "\n",
    "data_loader = torch.utils.data.DataLoader(mnist_data,\n",
    "                                          batch_size=batch_size,\n",
    "                                          shuffle=True)"
   ]
  },
  {
   "cell_type": "code",
   "execution_count": 96,
   "id": "74a9d075",
   "metadata": {},
   "outputs": [
    {
     "data": {
      "text/plain": [
       "Dataset MNIST\n",
       "    Number of datapoints: 10000\n",
       "    Root location: ./MNIST\n",
       "    Split: Test\n",
       "    StandardTransform\n",
       "Transform: Compose(\n",
       "               Resize(size=(221, 221), interpolation=bilinear, max_size=None, antialias=None)\n",
       "               ToTensor()\n",
       "               Normalize(mean=[0.485], std=[0.229])\n",
       "           )"
      ]
     },
     "execution_count": 96,
     "metadata": {},
     "output_type": "execute_result"
    }
   ],
   "source": [
    "mnist_data"
   ]
  },
  {
   "cell_type": "code",
   "execution_count": 97,
   "id": "17645ff9",
   "metadata": {},
   "outputs": [],
   "source": [
    "# list(mnist_net.named_parameters())"
   ]
  },
  {
   "cell_type": "markdown",
   "id": "b9e14939",
   "metadata": {},
   "source": [
    "## Initialize Tensorboard Logging Class "
   ]
  },
  {
   "cell_type": "code",
   "execution_count": 98,
   "id": "d275c88e",
   "metadata": {
    "scrolled": true
   },
   "outputs": [
    {
     "data": {
      "text/plain": [
       "Net(\n",
       "  (conv1): Conv2d(1, 8, kernel_size=(2, 2), stride=(1, 1))\n",
       "  (conv2): Conv2d(8, 16, kernel_size=(2, 2), stride=(1, 1))\n",
       "  (conv3): Conv2d(16, 32, kernel_size=(2, 2), stride=(1, 1))\n",
       "  (conv4): Conv2d(32, 64, kernel_size=(2, 2), stride=(1, 1))\n",
       "  (pool): MaxPool2d(kernel_size=2, stride=2, padding=0, dilation=1, ceil_mode=False)\n",
       "  (fc1): Linear(in_features=9216, out_features=128, bias=True)\n",
       "  (fc2): Linear(in_features=128, out_features=64, bias=True)\n",
       "  (fc3): Linear(in_features=64, out_features=16, bias=True)\n",
       "  (fc4): Linear(in_features=16, out_features=3, bias=True)\n",
       "  (fc5): Linear(in_features=3, out_features=10, bias=True)\n",
       ")"
      ]
     },
     "execution_count": 98,
     "metadata": {},
     "output_type": "execute_result"
    }
   ],
   "source": [
    "mnist_net = Net().to(device)\n",
    "mnist_net.load_state_dict(torch.load(model_path, map_location=torch.device(device)))  # load saved model \n",
    "\n",
    "mnist_net.eval()"
   ]
  },
  {
   "cell_type": "code",
   "execution_count": 99,
   "id": "c1c86b24",
   "metadata": {},
   "outputs": [],
   "source": [
    "def filter_by_classes(data_loader, cl1, cl2):\n",
    "    \n",
    "    class1 = torch.tensor(cl1)\n",
    "    class2 = torch.tensor(cl2)\n",
    "    \n",
    "    class1_images = []\n",
    "    class2_images = []\n",
    "    \n",
    "    for images, labels in data_loader: \n",
    "        class1_images.extend(images[labels == class1])\n",
    "        class2_images.extend(images[labels == class2])\n",
    "        \n",
    "    class1_images = torch.stack(class1_images)\n",
    "    class2_images = torch.stack(class2_images)\n",
    "        \n",
    "    return class1_images, class2_images"
   ]
  },
  {
   "cell_type": "code",
   "execution_count": 100,
   "id": "3f9fe549",
   "metadata": {},
   "outputs": [],
   "source": [
    "def find_class_embeddings(model, data_loader, cl1, cl2, remove_outliers=True):\n",
    "    images1, images2 = filter_by_classes(data_loader, cl1, cl2)\n",
    "    \n",
    "    e1 = model.embedding(images1).clone().detach()\n",
    "    e2 = model.embedding(images2).clone().detach()\n",
    "    \n",
    "    if remove_outliers:\n",
    "        model_if = IsolationForest(random_state=42)\n",
    "        model_if.fit(e1.numpy())\n",
    "        e1_anomaly = model_if.predict(e1)\n",
    "\n",
    "        model_if.fit(e2.numpy())\n",
    "        e2_anomaly = model_if.predict(e2)\n",
    "\n",
    "        # keeping the inliers \n",
    "        e1 = e1[e1_anomaly==1]\n",
    "        print('inliers for ' + str(cl1) + ' : ', e1.shape[0])\n",
    "        e2 = e2[e2_anomaly==1]\n",
    "        print('inliers for ' + str(cl2) + ' : ', e2.shape[0])\n",
    "    \n",
    "    ################## STEP 1: finding centroid of the 2 class embeddings  \n",
    "    class1_mean = torch.mean(e1, dim=0)    # squish multiple rows to get mean \n",
    "    class2_mean = torch.mean(e2, dim=0)\n",
    "\n",
    "    class1_normed = class1_mean/torch.norm(class1_mean)\n",
    "    class2_normed = class2_mean/torch.norm(class2_mean)\n",
    "    \n",
    "    print('val of centroid of class ' + str(cl1) + ' : ', class1_normed)\n",
    "    print('val of centroid of class ' + str(cl2)  + ' : ', class2_normed)\n",
    "    print('cosine similarity : ', (torch.dot(class1_normed, class2_normed)/torch.linalg.norm(class1_normed)*torch.linalg.norm(class2_normed)))\n",
    "    \n",
    "    return class1_normed, class2_normed"
   ]
  },
  {
   "cell_type": "code",
   "execution_count": 101,
   "id": "262262cf",
   "metadata": {
    "scrolled": true
   },
   "outputs": [
    {
     "name": "stdout",
     "output_type": "stream",
     "text": [
      "inliers for 2 :  896\n",
      "inliers for 4 :  841\n",
      "val of centroid of class 2 :  tensor([ 0.2796,  0.1175, -0.9529])\n",
      "val of centroid of class 4 :  tensor([-0.3523, -0.3211,  0.8791])\n",
      "cosine similarity :  tensor(-0.9739)\n"
     ]
    }
   ],
   "source": [
    "x1, x2 = find_class_embeddings(mnist_net, \n",
    "                               data_loader, \n",
    "                               merge_class1, \n",
    "                               merge_class2)"
   ]
  },
  {
   "cell_type": "code",
   "execution_count": 102,
   "id": "eb9a9adf",
   "metadata": {},
   "outputs": [],
   "source": [
    "################## Step 3: calculate change of basis matrix\n",
    "def change_of_basis(wm, d):\n",
    "    ################## The first basis is d, how do we get the other 2 ?    \n",
    "\n",
    "    new_wm = torch.eye(wm.shape[0])\n",
    "    \n",
    "    # replace first column of identity matrix with d \n",
    "    new_wm[:, 0] = d\n",
    "    \n",
    "    print('new weight matrix : ', new_wm)\n",
    "\n",
    "    return new_wm"
   ]
  },
  {
   "cell_type": "code",
   "execution_count": 103,
   "id": "5b80f3e1",
   "metadata": {},
   "outputs": [],
   "source": [
    "def perform_weight_surgery(mnist_net, x1, x2, save_model=True):\n",
    "    \n",
    "    ################## Step 2: calculating difference vector of the 2 classes \n",
    "    # calculate the difference between the 2 class vectors \n",
    "    d = x1 - x2  \n",
    "    print('d : ', d)\n",
    "    d = d/torch.norm(d)\n",
    "    print('normed d : ', d)\n",
    "    weight_matrix = mnist_net.fc4.weight.clone().detach()  # weight matrix of the penultimate layer \n",
    "    print('weight matrix : \\n', weight_matrix)\n",
    "    \n",
    "    ################## Step 3: calculate change of basis matrix \n",
    "    # perform a change of basis, to put d as the first basis \n",
    "    new_wm = change_of_basis(weight_matrix, d)\n",
    "    \n",
    "    # gram schmidt to calculate orthogonal basis vectors \n",
    "    def gram_schmidt(weight_matrix):\n",
    "        ################## d is first basis vector\n",
    "        m, n = weight_matrix.shape\n",
    "        \n",
    "        Q = torch.zeros((m, n))\n",
    "\n",
    "        for i in range(n):\n",
    "\n",
    "            v = weight_matrix[:, i].clone()\n",
    "\n",
    "            for j in range(i):\n",
    "                proj = (v @ torch.outer(Q[:, j], Q[:, j]))\n",
    "                v = v - proj\n",
    "                        \n",
    "            Q[:, i] = v/torch.linalg.norm(v)\n",
    "            \n",
    "        return Q\n",
    "    \n",
    "    ################## Step 4: using Gram-Schmidt to get orthogonal basis vectors \n",
    "    U = gram_schmidt(new_wm)    \n",
    "    \n",
    "    print('U matrix: ', U)\n",
    "    print('result of U * U_transpose : ', torch.mm(U, U.T))\n",
    "#     print('result of U * U_inv : ', U @ torch.inverse(U))\n",
    "    \n",
    "    S = torch.eye(U.shape[0])\n",
    "    S[0, 0] = 1e-5\n",
    "#     print('matrix S :\\n', S)\n",
    "    \n",
    "    # projection matrix \n",
    "#     P_d = torch.mm(torch.mm(U, S), U.T)\n",
    "    P_d = U @ S @ U.T\n",
    "\n",
    "    print('projection matrix : ', P_d)\n",
    "    \n",
    "# #     modified_weight_matrix = torch.mm(P_d, weight_matrix)\n",
    "    modified_weight_matrix = P_d @ weight_matrix\n",
    "    \n",
    "    print('modified weight matrix :\\n', modified_weight_matrix)\n",
    "    \n",
    "    print('rank of the modified weights matrix : ', torch.linalg.matrix_rank(modified_weight_matrix))\n",
    "    \n",
    "    mnist_net.fc4.weight = torch.nn.Parameter(modified_weight_matrix)\n",
    "    \n",
    "    if save_model: \n",
    "        path = './modified_mnist_net.pth'\n",
    "        torch.save(mnist_net.state_dict(), path)"
   ]
  },
  {
   "cell_type": "code",
   "execution_count": 104,
   "id": "346069de",
   "metadata": {
    "scrolled": false
   },
   "outputs": [
    {
     "name": "stdout",
     "output_type": "stream",
     "text": [
      "d :  tensor([ 0.6320,  0.4386, -1.8319])\n",
      "normed d :  tensor([ 0.3181,  0.2207, -0.9220])\n",
      "weight matrix : \n",
      " tensor([[-0.4793, -0.3378,  0.2388,  0.2235,  0.0479,  0.6634, -0.3005,  0.0974,\n",
      "          0.1657,  0.2789,  0.3297,  0.6865, -0.0954, -0.6407,  0.2100, -0.5907],\n",
      "        [ 0.7700,  0.2041,  0.5233, -0.4937,  0.1929, -0.2195, -0.1123, -0.1531,\n",
      "         -0.3558, -0.4096,  0.4457, -0.1805,  0.1870, -0.3620,  0.4298, -0.7580],\n",
      "        [-0.0495, -0.4934, -0.1103, -0.4222, -0.3907,  0.5165,  0.0474, -0.0977,\n",
      "          0.4707, -0.1545,  0.1174, -0.3732,  0.8841,  0.2384, -0.3835, -0.5321]])\n",
      "new weight matrix :  tensor([[ 0.3181,  0.0000,  0.0000],\n",
      "        [ 0.2207,  1.0000,  0.0000],\n",
      "        [-0.9220,  0.0000,  1.0000]])\n",
      "U matrix:  tensor([[ 0.3181, -0.0720,  0.9453],\n",
      "        [ 0.2207,  0.9753,  0.0000],\n",
      "        [-0.9220,  0.2087,  0.3261]])\n",
      "result of U * U_transpose :  tensor([[ 1.0000e+00,  0.0000e+00, -2.7936e-07],\n",
      "        [ 0.0000e+00,  1.0000e+00,  1.4901e-08],\n",
      "        [-2.7936e-07,  1.4901e-08,  1.0000e+00]])\n",
      "projection matrix :  tensor([[ 0.8988, -0.0702,  0.2933],\n",
      "        [-0.0702,  0.9513,  0.2035],\n",
      "        [ 0.2933,  0.2035,  0.1499]])\n",
      "modified weight matrix :\n",
      " tensor([[-0.4994, -0.4627,  0.1456,  0.1117, -0.0850,  0.7631, -0.2483,  0.0697,\n",
      "          0.3120,  0.2341,  0.2995,  0.5203,  0.1604, -0.4805,  0.0461, -0.6338],\n",
      "        [ 0.7561,  0.1175,  0.4586, -0.5712,  0.1007, -0.1502, -0.0761, -0.1724,\n",
      "         -0.2543, -0.4407,  0.4247, -0.2959,  0.3645, -0.2509,  0.3161, -0.7879],\n",
      "        [ 0.0087, -0.1315,  0.1600, -0.0982, -0.0052,  0.2273, -0.1039, -0.0172,\n",
      "          0.0467, -0.0247,  0.2050,  0.1086,  0.1426, -0.2258,  0.0916, -0.4073]])\n",
      "rank of the modified weights matrix :  tensor(3)\n"
     ]
    }
   ],
   "source": [
    "perform_weight_surgery(mnist_net, x1, x2, save_model=True)"
   ]
  },
  {
   "cell_type": "code",
   "execution_count": 105,
   "id": "3754c031",
   "metadata": {},
   "outputs": [
    {
     "data": {
      "text/plain": [
       "Net(\n",
       "  (conv1): Conv2d(1, 8, kernel_size=(2, 2), stride=(1, 1))\n",
       "  (conv2): Conv2d(8, 16, kernel_size=(2, 2), stride=(1, 1))\n",
       "  (conv3): Conv2d(16, 32, kernel_size=(2, 2), stride=(1, 1))\n",
       "  (conv4): Conv2d(32, 64, kernel_size=(2, 2), stride=(1, 1))\n",
       "  (pool): MaxPool2d(kernel_size=2, stride=2, padding=0, dilation=1, ceil_mode=False)\n",
       "  (fc1): Linear(in_features=9216, out_features=128, bias=True)\n",
       "  (fc2): Linear(in_features=128, out_features=64, bias=True)\n",
       "  (fc3): Linear(in_features=64, out_features=16, bias=True)\n",
       "  (fc4): Linear(in_features=16, out_features=3, bias=True)\n",
       "  (fc5): Linear(in_features=3, out_features=10, bias=True)\n",
       ")"
      ]
     },
     "execution_count": 105,
     "metadata": {},
     "output_type": "execute_result"
    }
   ],
   "source": [
    "original_mnist_net = Net().to(device)\n",
    "original_mnist_net.load_state_dict(torch.load('./mnist_net.pth', map_location=torch.device(device)))  # load saved model \n",
    "\n",
    "original_mnist_net.eval()"
   ]
  },
  {
   "cell_type": "code",
   "execution_count": 106,
   "id": "59c38717",
   "metadata": {
    "scrolled": true
   },
   "outputs": [
    {
     "name": "stdout",
     "output_type": "stream",
     "text": [
      "val of centroid of class 2 :  tensor([ 0.2778,  0.1143, -0.9538])\n",
      "val of centroid of class 4 :  tensor([-0.3507, -0.3221,  0.8793])\n",
      "cosine similarity :  tensor(-0.9730)\n"
     ]
    }
   ],
   "source": [
    "_, _ = find_class_embeddings(original_mnist_net, data_loader, merge_class1, merge_class2, remove_outliers=False)"
   ]
  },
  {
   "cell_type": "code",
   "execution_count": 107,
   "id": "3e35df1e",
   "metadata": {
    "scrolled": true
   },
   "outputs": [
    {
     "name": "stdout",
     "output_type": "stream",
     "text": [
      "val of centroid of class 2 :  tensor([-0.3223, -0.8889, -0.3254])\n",
      "val of centroid of class 4 :  tensor([-0.3029, -0.8974, -0.3208])\n",
      "cosine similarity :  tensor(0.9998)\n"
     ]
    }
   ],
   "source": [
    "_, _ = find_class_embeddings(mnist_net, data_loader, merge_class1, merge_class2, remove_outliers=False)"
   ]
  },
  {
   "cell_type": "markdown",
   "id": "25a3132c",
   "metadata": {},
   "source": [
    "## View Unmodified Embeddings through Plotly"
   ]
  },
  {
   "cell_type": "code",
   "execution_count": 108,
   "id": "1489d437",
   "metadata": {},
   "outputs": [],
   "source": [
    "def remove_outliers(embeds, labels):\n",
    "    unique_labels = set(labels.numpy())\n",
    "    \n",
    "    model_if = IsolationForest(random_state=42)\n",
    "    \n",
    "    new_embeds, new_labels = [], []\n",
    "    \n",
    "    for label_x in unique_labels:\n",
    "        embed_x = embeds[labels==label_x]\n",
    "        \n",
    "        model_if.fit(embed_x)\n",
    "        embedx_anomaly = model_if.predict(embed_x)\n",
    "        \n",
    "        embed_x = embed_x[embedx_anomaly == 1]   # keeping inliers \n",
    "        labels_x = [label_x] * embed_x.shape[0]\n",
    "        \n",
    "        new_embeds.extend(embed_x)\n",
    "        new_labels.extend(labels_x)\n",
    "        \n",
    "    return np.stack(new_embeds), np.stack(new_labels)"
   ]
  },
  {
   "cell_type": "code",
   "execution_count": 109,
   "id": "fe72310f",
   "metadata": {},
   "outputs": [],
   "source": [
    "batch_images, batch_labels = next(iter(data_loader))\n",
    "\n",
    "embeds = original_mnist_net.embedding(batch_images.to(device), normalize=True)\n",
    "embeds = embeds.detach().numpy()\n",
    "\n",
    "# new_embeds, new_labels = remove_outliers(embeds, batch_labels)"
   ]
  },
  {
   "cell_type": "code",
   "execution_count": 110,
   "id": "179b2ce4",
   "metadata": {
    "scrolled": false
   },
   "outputs": [
    {
     "data": {
      "application/vnd.plotly.v1+json": {
       "config": {
        "plotlyServerURL": "https://plot.ly"
       },
       "data": [
        {
         "hovertemplate": "x=%{x}<br>y=%{y}<br>z=%{z}<br>label=%{marker.color}<extra></extra>",
         "legendgroup": "",
         "marker": {
          "color": [
           5,
           5,
           5,
           5,
           4,
           4,
           2,
           7,
           4,
           8,
           9,
           8,
           4,
           1,
           6,
           1,
           3,
           4,
           3,
           8,
           2,
           4,
           0,
           9,
           2,
           6,
           3,
           8,
           7,
           4,
           1,
           7,
           7,
           9,
           1,
           0,
           6,
           6,
           7,
           0,
           1,
           8,
           5,
           8,
           8,
           6,
           2,
           3,
           2,
           5,
           0,
           0,
           1,
           0,
           1,
           5,
           4,
           4,
           3,
           8,
           2,
           9,
           0,
           5,
           4,
           6,
           3,
           9,
           0,
           8,
           4,
           3,
           2,
           1,
           3,
           3,
           9,
           7,
           9,
           0,
           5,
           5,
           2,
           2,
           7,
           0,
           8,
           8,
           8,
           5,
           9,
           3,
           4,
           6,
           0,
           2,
           2,
           8,
           1,
           9,
           9,
           2,
           6,
           6,
           2,
           3,
           5,
           3,
           2,
           7,
           3,
           4,
           4,
           7,
           7,
           7,
           9,
           7,
           0,
           6,
           1,
           1,
           8,
           4,
           1,
           9,
           0,
           3
          ],
          "coloraxis": "coloraxis",
          "size": 5,
          "symbol": "circle"
         },
         "mode": "markers+text",
         "name": "",
         "scene": "scene",
         "showlegend": false,
         "text": [
          5,
          5,
          5,
          5,
          4,
          4,
          2,
          7,
          4,
          8,
          9,
          8,
          4,
          1,
          6,
          1,
          3,
          4,
          3,
          8,
          2,
          4,
          0,
          9,
          2,
          6,
          3,
          8,
          7,
          4,
          1,
          7,
          7,
          9,
          1,
          0,
          6,
          6,
          7,
          0,
          1,
          8,
          5,
          8,
          8,
          6,
          2,
          3,
          2,
          5,
          0,
          0,
          1,
          0,
          1,
          5,
          4,
          4,
          3,
          8,
          2,
          9,
          0,
          5,
          4,
          6,
          3,
          9,
          0,
          8,
          4,
          3,
          2,
          1,
          3,
          3,
          9,
          7,
          9,
          0,
          5,
          5,
          2,
          2,
          7,
          0,
          8,
          8,
          8,
          5,
          9,
          3,
          4,
          6,
          0,
          2,
          2,
          8,
          1,
          9,
          9,
          2,
          6,
          6,
          2,
          3,
          5,
          3,
          2,
          7,
          3,
          4,
          4,
          7,
          7,
          7,
          9,
          7,
          0,
          6,
          1,
          1,
          8,
          4,
          1,
          9,
          0,
          3
         ],
         "textfont": {
          "color": "white",
          "size": 10
         },
         "textposition": "middle center",
         "type": "scatter3d",
         "x": [
          0.3110737204551697,
          0.34338146448135376,
          0.3074979782104492,
          0.3328574001789093,
          -0.3864489197731018,
          -0.34910309314727783,
          0.27492275834083557,
          -0.5297586917877197,
          -0.34331002831459045,
          -0.020969698205590248,
          0.6375203728675842,
          0.005448221694678068,
          -0.3543126583099365,
          -0.7720162272453308,
          -0.8142426013946533,
          -0.7643633484840393,
          0.966921865940094,
          -0.3383514881134033,
          0.9660030007362366,
          -0.012419064529240131,
          0.21608836948871613,
          -0.34603506326675415,
          0.4351844787597656,
          0.6483843326568604,
          0.2901376485824585,
          -0.7971730828285217,
          0.9560431838035583,
          -0.00024080410366877913,
          -0.5326117873191833,
          -0.34153202176094055,
          -0.7754001617431641,
          -0.5311334729194641,
          -0.5218743085861206,
          0.8025076985359192,
          -0.7638483643531799,
          0.44665348529815674,
          -0.7854489088058472,
          -0.7928503751754761,
          -0.5056266188621521,
          0.43499985337257385,
          -0.783087968826294,
          0.004504775162786245,
          0.3379453420639038,
          -0.03270987421274185,
          -0.019844118505716324,
          -0.8089550137519836,
          0.2867259681224823,
          0.9588430523872375,
          0.27124613523483276,
          0.3385326564311981,
          0.4318647086620331,
          0.4217005968093872,
          -0.764540433883667,
          0.4512300193309784,
          -0.7670549154281616,
          0.31788069009780884,
          -0.3739200234413147,
          -0.368167519569397,
          0.973524808883667,
          0.025448165833950043,
          0.26982906460762024,
          0.6518985629081726,
          0.46438953280448914,
          0.32197752594947815,
          -0.30720755457878113,
          -0.8132027387619019,
          0.43272629380226135,
          0.8019341230392456,
          0.45226484537124634,
          -0.03915292024612427,
          -0.35918039083480835,
          0.9614267349243164,
          0.27178409695625305,
          -0.7829837799072266,
          0.9717020988464355,
          0.980538010597229,
          0.7071934342384338,
          -0.5025019645690918,
          0.6919750571250916,
          0.4301412105560303,
          0.32372966408729553,
          0.3289456367492676,
          0.24589291214942932,
          0.2376096099615097,
          -0.5277672410011292,
          0.44124582409858704,
          0.0006243479438126087,
          -0.020033439621329308,
          -0.01952071487903595,
          0.3016771376132965,
          0.5888537168502808,
          0.9675381183624268,
          -0.32645183801651,
          -0.8012906908988953,
          0.43522945046424866,
          0.27383169531822205,
          0.2500480115413666,
          0.003812289796769619,
          -0.7678899765014648,
          0.6633003950119019,
          0.6459477543830872,
          0.27561062574386597,
          -0.8148151636123657,
          -0.9219334721565247,
          0.3204300105571747,
          0.9476383924484253,
          0.324996680021286,
          0.9506086111068726,
          0.27113768458366394,
          -0.4675115942955017,
          0.9625187516212463,
          -0.34693261981010437,
          -0.3574090600013733,
          -0.5166323184967041,
          -0.4858788251876831,
          -0.4880712628364563,
          0.6300280690193176,
          -0.45918920636177063,
          0.4319537878036499,
          -0.8102044463157654,
          -0.7858399152755737,
          -0.772026002407074,
          -0.04254903644323349,
          -0.340892493724823,
          -0.7930033206939697,
          0.5823450684547424,
          0.4250815510749817,
          0.9629034399986267
         ],
         "y": [
          0.5632649660110474,
          0.5478450059890747,
          0.5399817228317261,
          0.5214177966117859,
          -0.28207242488861084,
          -0.3206453025341034,
          0.1164245456457138,
          -0.8481087684631348,
          -0.3164663314819336,
          0.9622487425804138,
          -0.522692859172821,
          0.9504338502883911,
          -0.3021020293235779,
          0.03910694271326065,
          0.44139206409454346,
          0.03885562717914581,
          0.236601322889328,
          -0.31341296434402466,
          0.22261300683021545,
          0.9650968909263611,
          0.057210154831409454,
          -0.2965868413448334,
          -0.7689410448074341,
          -0.5361484289169312,
          0.13176792860031128,
          0.4550594091415405,
          0.2658070921897888,
          0.9639672040939331,
          -0.845674991607666,
          -0.3101571798324585,
          0.05168556421995163,
          -0.8472580909729004,
          -0.8530195951461792,
          -0.2245521992444992,
          0.044611189514398575,
          -0.760591983795166,
          0.47109338641166687,
          0.46871915459632874,
          -0.8617050647735596,
          -0.7594891786575317,
          0.01900024525821209,
          0.9642935395240784,
          0.5507330298423767,
          0.9615361094474792,
          0.9673685431480408,
          0.4478902518749237,
          0.12585504353046417,
          0.24906477332115173,
          0.05336238816380501,
          0.5672357678413391,
          -0.7643420696258545,
          -0.7762859463691711,
          0.0425669401884079,
          -0.7615408301353455,
          0.02887740544974804,
          0.5471940040588379,
          -0.3250412940979004,
          -0.3231963515281677,
          0.21367502212524414,
          0.966109037399292,
          0.12915702164173126,
          -0.5363629460334778,
          -0.7540026307106018,
          0.5716738700866699,
          -0.34421011805534363,
          0.43999120593070984,
          0.5057653784751892,
          -0.5074982047080994,
          -0.7522356510162354,
          0.9608597159385681,
          -0.34416964650154114,
          0.23215705156326294,
          0.11171935498714447,
          -0.031196877360343933,
          0.20635388791561127,
          0.16530801355838776,
          -0.5032072067260742,
          -0.8632797002792358,
          -0.502697765827179,
          -0.766939640045166,
          0.5750531554222107,
          0.5598256587982178,
          0.09916360676288605,
          0.10633037984371185,
          -0.8493800759315491,
          -0.7652456164360046,
          0.9747347831726074,
          0.9639009833335876,
          0.963495671749115,
          0.5625397562980652,
          -0.518994927406311,
          0.20721663534641266,
          -0.3460308909416199,
          0.4573257267475128,
          -0.7683121562004089,
          0.14200185239315033,
          0.07028356939554214,
          0.965943455696106,
          -0.027055026963353157,
          -0.5162497162818909,
          -0.5410941243171692,
          0.051100846379995346,
          0.4374247193336487,
          0.284353107213974,
          0.13946060836315155,
          0.30031588673591614,
          0.5400132536888123,
          0.28434035181999207,
          0.10746970772743225,
          -0.8836429119110107,
          0.25008752942085266,
          -0.3271220624446869,
          -0.3090634047985077,
          -0.8553309440612793,
          -0.8733766674995422,
          -0.8728035688400269,
          -0.5304936766624451,
          -0.8869739174842834,
          -0.7736552357673645,
          0.44015613198280334,
          0.02804703824222088,
          0.026782460510730743,
          0.9588242769241333,
          -0.32663071155548096,
          0.016912179067730904,
          -0.5447593927383423,
          -0.7717145085334778,
          0.23339596390724182
         ],
         "z": [
          0.7654839754104614,
          0.7628597617149353,
          0.7834951877593994,
          0.7857031226158142,
          0.878118634223938,
          0.8805189728736877,
          -0.954391360282898,
          0.008196000941097736,
          0.8843004107475281,
          -0.27136242389678955,
          0.5660035014152527,
          -0.31087934970855713,
          0.8849841356277466,
          -0.6343986392021179,
          0.37707045674324036,
          -0.6436139941215515,
          -0.09529821574687958,
          0.8872939348220825,
          -0.1314598172903061,
          -0.2615981996059418,
          -0.9746962785720825,
          0.8901100754737854,
          -0.46834179759025574,
          0.5405021905899048,
          -0.9478699564933777,
          0.39678189158439636,
          -0.12380687147378922,
          -0.2660209536552429,
          0.03403778746724129,
          0.8872194886207581,
          -0.6293513774871826,
          -0.007137156091630459,
          0.0021453583613038063,
          0.5527728796005249,
          -0.6438520550727844,
          -0.47116926312446594,
          0.40142375230789185,
          0.38947492837905884,
          0.042497456073760986,
          -0.4836851954460144,
          -0.6216206550598145,
          -0.2647974193096161,
          0.763207733631134,
          -0.2727240324020386,
          -0.2525949776172638,
          0.38077035546302795,
          -0.9497098326683044,
          -0.13633300364017487,
          -0.9610297083854675,
          0.7507591843605042,
          -0.4788256585597992,
          -0.46856027841567993,
          -0.6431686878204346,
          -0.46523869037628174,
          -0.6409311890602112,
          0.7742936015129089,
          0.8686380386352539,
          0.8717780113220215,
          -0.08119434863328934,
          -0.2568768262863159,
          -0.9542068839073181,
          0.5360439419746399,
          -0.4645669758319855,
          0.7546651363372803,
          0.8872107863426208,
          0.3809319734573364,
          0.746290385723114,
          0.31519395112991333,
          -0.47916388511657715,
          -0.2742549777030945,
          0.8674887418746948,
          -0.14751848578453064,
          -0.9558515548706055,
          -0.6212592720985413,
          -0.11494840681552887,
          -0.10591652244329453,
          0.4966486990451813,
          0.047328583896160126,
          0.5181366205215454,
          -0.4762164056301117,
          0.7513407468795776,
          0.7605195045471191,
          -0.9642112255096436,
          -0.9655234813690186,
          -0.0038911178708076477,
          -0.46872302889823914,
          -0.2233647108078003,
          -0.26550617814064026,
          -0.2670113742351532,
          0.7697661519050598,
          0.6195930242538452,
          -0.14467640221118927,
          0.879597544670105,
          0.38572847843170166,
          -0.46933117508888245,
          -0.9512369632720947,
          -0.9656791090965271,
          -0.2587251663208008,
          -0.6400101780891418,
          0.5417736768722534,
          0.5384873151779175,
          -0.9599101543426514,
          0.3804416060447693,
          0.2630246579647064,
          -0.9369500279426575,
          0.1085902750492096,
          0.7763780355453491,
          -0.12447407841682434,
          -0.9565221667289734,
          0.024660658091306686,
          -0.10494718700647354,
          0.8789931535720825,
          0.881327748298645,
          0.03872912377119064,
          0.03368839621543884,
          -0.0004879653570242226,
          0.5671341419219971,
          0.04921896383166313,
          -0.4635445177555084,
          0.38708052039146423,
          -0.617793619632721,
          -0.6350263953208923,
          -0.28079476952552795,
          0.8815354108810425,
          -0.6089825630187988,
          0.603416383266449,
          -0.47303521633148193,
          -0.13543736934661865
         ]
        }
       ],
       "layout": {
        "coloraxis": {
         "colorbar": {
          "title": {
           "text": "label"
          }
         },
         "colorscale": [
          [
           0,
           "#0d0887"
          ],
          [
           0.1111111111111111,
           "#46039f"
          ],
          [
           0.2222222222222222,
           "#7201a8"
          ],
          [
           0.3333333333333333,
           "#9c179e"
          ],
          [
           0.4444444444444444,
           "#bd3786"
          ],
          [
           0.5555555555555556,
           "#d8576b"
          ],
          [
           0.6666666666666666,
           "#ed7953"
          ],
          [
           0.7777777777777778,
           "#fb9f3a"
          ],
          [
           0.8888888888888888,
           "#fdca26"
          ],
          [
           1,
           "#f0f921"
          ]
         ],
         "showscale": false
        },
        "legend": {
         "tracegroupgap": 0
        },
        "margin": {
         "t": 60
        },
        "scene": {
         "domain": {
          "x": [
           0,
           1
          ],
          "y": [
           0,
           1
          ]
         },
         "xaxis": {
          "title": {
           "text": "x"
          }
         },
         "yaxis": {
          "title": {
           "text": "y"
          }
         },
         "zaxis": {
          "title": {
           "text": "z"
          }
         }
        },
        "template": {
         "data": {
          "bar": [
           {
            "error_x": {
             "color": "#2a3f5f"
            },
            "error_y": {
             "color": "#2a3f5f"
            },
            "marker": {
             "line": {
              "color": "#E5ECF6",
              "width": 0.5
             },
             "pattern": {
              "fillmode": "overlay",
              "size": 10,
              "solidity": 0.2
             }
            },
            "type": "bar"
           }
          ],
          "barpolar": [
           {
            "marker": {
             "line": {
              "color": "#E5ECF6",
              "width": 0.5
             },
             "pattern": {
              "fillmode": "overlay",
              "size": 10,
              "solidity": 0.2
             }
            },
            "type": "barpolar"
           }
          ],
          "carpet": [
           {
            "aaxis": {
             "endlinecolor": "#2a3f5f",
             "gridcolor": "white",
             "linecolor": "white",
             "minorgridcolor": "white",
             "startlinecolor": "#2a3f5f"
            },
            "baxis": {
             "endlinecolor": "#2a3f5f",
             "gridcolor": "white",
             "linecolor": "white",
             "minorgridcolor": "white",
             "startlinecolor": "#2a3f5f"
            },
            "type": "carpet"
           }
          ],
          "choropleth": [
           {
            "colorbar": {
             "outlinewidth": 0,
             "ticks": ""
            },
            "type": "choropleth"
           }
          ],
          "contour": [
           {
            "colorbar": {
             "outlinewidth": 0,
             "ticks": ""
            },
            "colorscale": [
             [
              0,
              "#0d0887"
             ],
             [
              0.1111111111111111,
              "#46039f"
             ],
             [
              0.2222222222222222,
              "#7201a8"
             ],
             [
              0.3333333333333333,
              "#9c179e"
             ],
             [
              0.4444444444444444,
              "#bd3786"
             ],
             [
              0.5555555555555556,
              "#d8576b"
             ],
             [
              0.6666666666666666,
              "#ed7953"
             ],
             [
              0.7777777777777778,
              "#fb9f3a"
             ],
             [
              0.8888888888888888,
              "#fdca26"
             ],
             [
              1,
              "#f0f921"
             ]
            ],
            "type": "contour"
           }
          ],
          "contourcarpet": [
           {
            "colorbar": {
             "outlinewidth": 0,
             "ticks": ""
            },
            "type": "contourcarpet"
           }
          ],
          "heatmap": [
           {
            "colorbar": {
             "outlinewidth": 0,
             "ticks": ""
            },
            "colorscale": [
             [
              0,
              "#0d0887"
             ],
             [
              0.1111111111111111,
              "#46039f"
             ],
             [
              0.2222222222222222,
              "#7201a8"
             ],
             [
              0.3333333333333333,
              "#9c179e"
             ],
             [
              0.4444444444444444,
              "#bd3786"
             ],
             [
              0.5555555555555556,
              "#d8576b"
             ],
             [
              0.6666666666666666,
              "#ed7953"
             ],
             [
              0.7777777777777778,
              "#fb9f3a"
             ],
             [
              0.8888888888888888,
              "#fdca26"
             ],
             [
              1,
              "#f0f921"
             ]
            ],
            "type": "heatmap"
           }
          ],
          "heatmapgl": [
           {
            "colorbar": {
             "outlinewidth": 0,
             "ticks": ""
            },
            "colorscale": [
             [
              0,
              "#0d0887"
             ],
             [
              0.1111111111111111,
              "#46039f"
             ],
             [
              0.2222222222222222,
              "#7201a8"
             ],
             [
              0.3333333333333333,
              "#9c179e"
             ],
             [
              0.4444444444444444,
              "#bd3786"
             ],
             [
              0.5555555555555556,
              "#d8576b"
             ],
             [
              0.6666666666666666,
              "#ed7953"
             ],
             [
              0.7777777777777778,
              "#fb9f3a"
             ],
             [
              0.8888888888888888,
              "#fdca26"
             ],
             [
              1,
              "#f0f921"
             ]
            ],
            "type": "heatmapgl"
           }
          ],
          "histogram": [
           {
            "marker": {
             "pattern": {
              "fillmode": "overlay",
              "size": 10,
              "solidity": 0.2
             }
            },
            "type": "histogram"
           }
          ],
          "histogram2d": [
           {
            "colorbar": {
             "outlinewidth": 0,
             "ticks": ""
            },
            "colorscale": [
             [
              0,
              "#0d0887"
             ],
             [
              0.1111111111111111,
              "#46039f"
             ],
             [
              0.2222222222222222,
              "#7201a8"
             ],
             [
              0.3333333333333333,
              "#9c179e"
             ],
             [
              0.4444444444444444,
              "#bd3786"
             ],
             [
              0.5555555555555556,
              "#d8576b"
             ],
             [
              0.6666666666666666,
              "#ed7953"
             ],
             [
              0.7777777777777778,
              "#fb9f3a"
             ],
             [
              0.8888888888888888,
              "#fdca26"
             ],
             [
              1,
              "#f0f921"
             ]
            ],
            "type": "histogram2d"
           }
          ],
          "histogram2dcontour": [
           {
            "colorbar": {
             "outlinewidth": 0,
             "ticks": ""
            },
            "colorscale": [
             [
              0,
              "#0d0887"
             ],
             [
              0.1111111111111111,
              "#46039f"
             ],
             [
              0.2222222222222222,
              "#7201a8"
             ],
             [
              0.3333333333333333,
              "#9c179e"
             ],
             [
              0.4444444444444444,
              "#bd3786"
             ],
             [
              0.5555555555555556,
              "#d8576b"
             ],
             [
              0.6666666666666666,
              "#ed7953"
             ],
             [
              0.7777777777777778,
              "#fb9f3a"
             ],
             [
              0.8888888888888888,
              "#fdca26"
             ],
             [
              1,
              "#f0f921"
             ]
            ],
            "type": "histogram2dcontour"
           }
          ],
          "mesh3d": [
           {
            "colorbar": {
             "outlinewidth": 0,
             "ticks": ""
            },
            "type": "mesh3d"
           }
          ],
          "parcoords": [
           {
            "line": {
             "colorbar": {
              "outlinewidth": 0,
              "ticks": ""
             }
            },
            "type": "parcoords"
           }
          ],
          "pie": [
           {
            "automargin": true,
            "type": "pie"
           }
          ],
          "scatter": [
           {
            "fillpattern": {
             "fillmode": "overlay",
             "size": 10,
             "solidity": 0.2
            },
            "type": "scatter"
           }
          ],
          "scatter3d": [
           {
            "line": {
             "colorbar": {
              "outlinewidth": 0,
              "ticks": ""
             }
            },
            "marker": {
             "colorbar": {
              "outlinewidth": 0,
              "ticks": ""
             }
            },
            "type": "scatter3d"
           }
          ],
          "scattercarpet": [
           {
            "marker": {
             "colorbar": {
              "outlinewidth": 0,
              "ticks": ""
             }
            },
            "type": "scattercarpet"
           }
          ],
          "scattergeo": [
           {
            "marker": {
             "colorbar": {
              "outlinewidth": 0,
              "ticks": ""
             }
            },
            "type": "scattergeo"
           }
          ],
          "scattergl": [
           {
            "marker": {
             "colorbar": {
              "outlinewidth": 0,
              "ticks": ""
             }
            },
            "type": "scattergl"
           }
          ],
          "scattermapbox": [
           {
            "marker": {
             "colorbar": {
              "outlinewidth": 0,
              "ticks": ""
             }
            },
            "type": "scattermapbox"
           }
          ],
          "scatterpolar": [
           {
            "marker": {
             "colorbar": {
              "outlinewidth": 0,
              "ticks": ""
             }
            },
            "type": "scatterpolar"
           }
          ],
          "scatterpolargl": [
           {
            "marker": {
             "colorbar": {
              "outlinewidth": 0,
              "ticks": ""
             }
            },
            "type": "scatterpolargl"
           }
          ],
          "scatterternary": [
           {
            "marker": {
             "colorbar": {
              "outlinewidth": 0,
              "ticks": ""
             }
            },
            "type": "scatterternary"
           }
          ],
          "surface": [
           {
            "colorbar": {
             "outlinewidth": 0,
             "ticks": ""
            },
            "colorscale": [
             [
              0,
              "#0d0887"
             ],
             [
              0.1111111111111111,
              "#46039f"
             ],
             [
              0.2222222222222222,
              "#7201a8"
             ],
             [
              0.3333333333333333,
              "#9c179e"
             ],
             [
              0.4444444444444444,
              "#bd3786"
             ],
             [
              0.5555555555555556,
              "#d8576b"
             ],
             [
              0.6666666666666666,
              "#ed7953"
             ],
             [
              0.7777777777777778,
              "#fb9f3a"
             ],
             [
              0.8888888888888888,
              "#fdca26"
             ],
             [
              1,
              "#f0f921"
             ]
            ],
            "type": "surface"
           }
          ],
          "table": [
           {
            "cells": {
             "fill": {
              "color": "#EBF0F8"
             },
             "line": {
              "color": "white"
             }
            },
            "header": {
             "fill": {
              "color": "#C8D4E3"
             },
             "line": {
              "color": "white"
             }
            },
            "type": "table"
           }
          ]
         },
         "layout": {
          "annotationdefaults": {
           "arrowcolor": "#2a3f5f",
           "arrowhead": 0,
           "arrowwidth": 1
          },
          "autotypenumbers": "strict",
          "coloraxis": {
           "colorbar": {
            "outlinewidth": 0,
            "ticks": ""
           }
          },
          "colorscale": {
           "diverging": [
            [
             0,
             "#8e0152"
            ],
            [
             0.1,
             "#c51b7d"
            ],
            [
             0.2,
             "#de77ae"
            ],
            [
             0.3,
             "#f1b6da"
            ],
            [
             0.4,
             "#fde0ef"
            ],
            [
             0.5,
             "#f7f7f7"
            ],
            [
             0.6,
             "#e6f5d0"
            ],
            [
             0.7,
             "#b8e186"
            ],
            [
             0.8,
             "#7fbc41"
            ],
            [
             0.9,
             "#4d9221"
            ],
            [
             1,
             "#276419"
            ]
           ],
           "sequential": [
            [
             0,
             "#0d0887"
            ],
            [
             0.1111111111111111,
             "#46039f"
            ],
            [
             0.2222222222222222,
             "#7201a8"
            ],
            [
             0.3333333333333333,
             "#9c179e"
            ],
            [
             0.4444444444444444,
             "#bd3786"
            ],
            [
             0.5555555555555556,
             "#d8576b"
            ],
            [
             0.6666666666666666,
             "#ed7953"
            ],
            [
             0.7777777777777778,
             "#fb9f3a"
            ],
            [
             0.8888888888888888,
             "#fdca26"
            ],
            [
             1,
             "#f0f921"
            ]
           ],
           "sequentialminus": [
            [
             0,
             "#0d0887"
            ],
            [
             0.1111111111111111,
             "#46039f"
            ],
            [
             0.2222222222222222,
             "#7201a8"
            ],
            [
             0.3333333333333333,
             "#9c179e"
            ],
            [
             0.4444444444444444,
             "#bd3786"
            ],
            [
             0.5555555555555556,
             "#d8576b"
            ],
            [
             0.6666666666666666,
             "#ed7953"
            ],
            [
             0.7777777777777778,
             "#fb9f3a"
            ],
            [
             0.8888888888888888,
             "#fdca26"
            ],
            [
             1,
             "#f0f921"
            ]
           ]
          },
          "colorway": [
           "#636efa",
           "#EF553B",
           "#00cc96",
           "#ab63fa",
           "#FFA15A",
           "#19d3f3",
           "#FF6692",
           "#B6E880",
           "#FF97FF",
           "#FECB52"
          ],
          "font": {
           "color": "#2a3f5f"
          },
          "geo": {
           "bgcolor": "white",
           "lakecolor": "white",
           "landcolor": "#E5ECF6",
           "showlakes": true,
           "showland": true,
           "subunitcolor": "white"
          },
          "hoverlabel": {
           "align": "left"
          },
          "hovermode": "closest",
          "mapbox": {
           "style": "light"
          },
          "paper_bgcolor": "white",
          "plot_bgcolor": "#E5ECF6",
          "polar": {
           "angularaxis": {
            "gridcolor": "white",
            "linecolor": "white",
            "ticks": ""
           },
           "bgcolor": "#E5ECF6",
           "radialaxis": {
            "gridcolor": "white",
            "linecolor": "white",
            "ticks": ""
           }
          },
          "scene": {
           "xaxis": {
            "backgroundcolor": "#E5ECF6",
            "gridcolor": "white",
            "gridwidth": 2,
            "linecolor": "white",
            "showbackground": true,
            "ticks": "",
            "zerolinecolor": "white"
           },
           "yaxis": {
            "backgroundcolor": "#E5ECF6",
            "gridcolor": "white",
            "gridwidth": 2,
            "linecolor": "white",
            "showbackground": true,
            "ticks": "",
            "zerolinecolor": "white"
           },
           "zaxis": {
            "backgroundcolor": "#E5ECF6",
            "gridcolor": "white",
            "gridwidth": 2,
            "linecolor": "white",
            "showbackground": true,
            "ticks": "",
            "zerolinecolor": "white"
           }
          },
          "shapedefaults": {
           "line": {
            "color": "#2a3f5f"
           }
          },
          "ternary": {
           "aaxis": {
            "gridcolor": "white",
            "linecolor": "white",
            "ticks": ""
           },
           "baxis": {
            "gridcolor": "white",
            "linecolor": "white",
            "ticks": ""
           },
           "bgcolor": "#E5ECF6",
           "caxis": {
            "gridcolor": "white",
            "linecolor": "white",
            "ticks": ""
           }
          },
          "title": {
           "x": 0.05
          },
          "xaxis": {
           "automargin": true,
           "gridcolor": "white",
           "linecolor": "white",
           "ticks": "",
           "title": {
            "standoff": 15
           },
           "zerolinecolor": "white",
           "zerolinewidth": 2
          },
          "yaxis": {
           "automargin": true,
           "gridcolor": "white",
           "linecolor": "white",
           "ticks": "",
           "title": {
            "standoff": 15
           },
           "zerolinecolor": "white",
           "zerolinewidth": 2
          }
         }
        }
       }
      },
      "text/html": [
       "<div>                            <div id=\"118bcd9f-4753-4a5c-932b-ed3123106c6d\" class=\"plotly-graph-div\" style=\"height:525px; width:100%;\"></div>            <script type=\"text/javascript\">                require([\"plotly\"], function(Plotly) {                    window.PLOTLYENV=window.PLOTLYENV || {};                                    if (document.getElementById(\"118bcd9f-4753-4a5c-932b-ed3123106c6d\")) {                    Plotly.newPlot(                        \"118bcd9f-4753-4a5c-932b-ed3123106c6d\",                        [{\"hovertemplate\":\"x=%{x}<br>y=%{y}<br>z=%{z}<br>label=%{marker.color}<extra></extra>\",\"legendgroup\":\"\",\"marker\":{\"color\":[5,5,5,5,4,4,2,7,4,8,9,8,4,1,6,1,3,4,3,8,2,4,0,9,2,6,3,8,7,4,1,7,7,9,1,0,6,6,7,0,1,8,5,8,8,6,2,3,2,5,0,0,1,0,1,5,4,4,3,8,2,9,0,5,4,6,3,9,0,8,4,3,2,1,3,3,9,7,9,0,5,5,2,2,7,0,8,8,8,5,9,3,4,6,0,2,2,8,1,9,9,2,6,6,2,3,5,3,2,7,3,4,4,7,7,7,9,7,0,6,1,1,8,4,1,9,0,3],\"coloraxis\":\"coloraxis\",\"symbol\":\"circle\",\"size\":5},\"mode\":\"markers+text\",\"name\":\"\",\"scene\":\"scene\",\"showlegend\":false,\"text\":[5.0,5.0,5.0,5.0,4.0,4.0,2.0,7.0,4.0,8.0,9.0,8.0,4.0,1.0,6.0,1.0,3.0,4.0,3.0,8.0,2.0,4.0,0.0,9.0,2.0,6.0,3.0,8.0,7.0,4.0,1.0,7.0,7.0,9.0,1.0,0.0,6.0,6.0,7.0,0.0,1.0,8.0,5.0,8.0,8.0,6.0,2.0,3.0,2.0,5.0,0.0,0.0,1.0,0.0,1.0,5.0,4.0,4.0,3.0,8.0,2.0,9.0,0.0,5.0,4.0,6.0,3.0,9.0,0.0,8.0,4.0,3.0,2.0,1.0,3.0,3.0,9.0,7.0,9.0,0.0,5.0,5.0,2.0,2.0,7.0,0.0,8.0,8.0,8.0,5.0,9.0,3.0,4.0,6.0,0.0,2.0,2.0,8.0,1.0,9.0,9.0,2.0,6.0,6.0,2.0,3.0,5.0,3.0,2.0,7.0,3.0,4.0,4.0,7.0,7.0,7.0,9.0,7.0,0.0,6.0,1.0,1.0,8.0,4.0,1.0,9.0,0.0,3.0],\"x\":[0.3110737204551697,0.34338146448135376,0.3074979782104492,0.3328574001789093,-0.3864489197731018,-0.34910309314727783,0.27492275834083557,-0.5297586917877197,-0.34331002831459045,-0.020969698205590248,0.6375203728675842,0.005448221694678068,-0.3543126583099365,-0.7720162272453308,-0.8142426013946533,-0.7643633484840393,0.966921865940094,-0.3383514881134033,0.9660030007362366,-0.012419064529240131,0.21608836948871613,-0.34603506326675415,0.4351844787597656,0.6483843326568604,0.2901376485824585,-0.7971730828285217,0.9560431838035583,-0.00024080410366877913,-0.5326117873191833,-0.34153202176094055,-0.7754001617431641,-0.5311334729194641,-0.5218743085861206,0.8025076985359192,-0.7638483643531799,0.44665348529815674,-0.7854489088058472,-0.7928503751754761,-0.5056266188621521,0.43499985337257385,-0.783087968826294,0.004504775162786245,0.3379453420639038,-0.03270987421274185,-0.019844118505716324,-0.8089550137519836,0.2867259681224823,0.9588430523872375,0.27124613523483276,0.3385326564311981,0.4318647086620331,0.4217005968093872,-0.764540433883667,0.4512300193309784,-0.7670549154281616,0.31788069009780884,-0.3739200234413147,-0.368167519569397,0.973524808883667,0.025448165833950043,0.26982906460762024,0.6518985629081726,0.46438953280448914,0.32197752594947815,-0.30720755457878113,-0.8132027387619019,0.43272629380226135,0.8019341230392456,0.45226484537124634,-0.03915292024612427,-0.35918039083480835,0.9614267349243164,0.27178409695625305,-0.7829837799072266,0.9717020988464355,0.980538010597229,0.7071934342384338,-0.5025019645690918,0.6919750571250916,0.4301412105560303,0.32372966408729553,0.3289456367492676,0.24589291214942932,0.2376096099615097,-0.5277672410011292,0.44124582409858704,0.0006243479438126087,-0.020033439621329308,-0.01952071487903595,0.3016771376132965,0.5888537168502808,0.9675381183624268,-0.32645183801651,-0.8012906908988953,0.43522945046424866,0.27383169531822205,0.2500480115413666,0.003812289796769619,-0.7678899765014648,0.6633003950119019,0.6459477543830872,0.27561062574386597,-0.8148151636123657,-0.9219334721565247,0.3204300105571747,0.9476383924484253,0.324996680021286,0.9506086111068726,0.27113768458366394,-0.4675115942955017,0.9625187516212463,-0.34693261981010437,-0.3574090600013733,-0.5166323184967041,-0.4858788251876831,-0.4880712628364563,0.6300280690193176,-0.45918920636177063,0.4319537878036499,-0.8102044463157654,-0.7858399152755737,-0.772026002407074,-0.04254903644323349,-0.340892493724823,-0.7930033206939697,0.5823450684547424,0.4250815510749817,0.9629034399986267],\"y\":[0.5632649660110474,0.5478450059890747,0.5399817228317261,0.5214177966117859,-0.28207242488861084,-0.3206453025341034,0.1164245456457138,-0.8481087684631348,-0.3164663314819336,0.9622487425804138,-0.522692859172821,0.9504338502883911,-0.3021020293235779,0.03910694271326065,0.44139206409454346,0.03885562717914581,0.236601322889328,-0.31341296434402466,0.22261300683021545,0.9650968909263611,0.057210154831409454,-0.2965868413448334,-0.7689410448074341,-0.5361484289169312,0.13176792860031128,0.4550594091415405,0.2658070921897888,0.9639672040939331,-0.845674991607666,-0.3101571798324585,0.05168556421995163,-0.8472580909729004,-0.8530195951461792,-0.2245521992444992,0.044611189514398575,-0.760591983795166,0.47109338641166687,0.46871915459632874,-0.8617050647735596,-0.7594891786575317,0.01900024525821209,0.9642935395240784,0.5507330298423767,0.9615361094474792,0.9673685431480408,0.4478902518749237,0.12585504353046417,0.24906477332115173,0.05336238816380501,0.5672357678413391,-0.7643420696258545,-0.7762859463691711,0.0425669401884079,-0.7615408301353455,0.02887740544974804,0.5471940040588379,-0.3250412940979004,-0.3231963515281677,0.21367502212524414,0.966109037399292,0.12915702164173126,-0.5363629460334778,-0.7540026307106018,0.5716738700866699,-0.34421011805534363,0.43999120593070984,0.5057653784751892,-0.5074982047080994,-0.7522356510162354,0.9608597159385681,-0.34416964650154114,0.23215705156326294,0.11171935498714447,-0.031196877360343933,0.20635388791561127,0.16530801355838776,-0.5032072067260742,-0.8632797002792358,-0.502697765827179,-0.766939640045166,0.5750531554222107,0.5598256587982178,0.09916360676288605,0.10633037984371185,-0.8493800759315491,-0.7652456164360046,0.9747347831726074,0.9639009833335876,0.963495671749115,0.5625397562980652,-0.518994927406311,0.20721663534641266,-0.3460308909416199,0.4573257267475128,-0.7683121562004089,0.14200185239315033,0.07028356939554214,0.965943455696106,-0.027055026963353157,-0.5162497162818909,-0.5410941243171692,0.051100846379995346,0.4374247193336487,0.284353107213974,0.13946060836315155,0.30031588673591614,0.5400132536888123,0.28434035181999207,0.10746970772743225,-0.8836429119110107,0.25008752942085266,-0.3271220624446869,-0.3090634047985077,-0.8553309440612793,-0.8733766674995422,-0.8728035688400269,-0.5304936766624451,-0.8869739174842834,-0.7736552357673645,0.44015613198280334,0.02804703824222088,0.026782460510730743,0.9588242769241333,-0.32663071155548096,0.016912179067730904,-0.5447593927383423,-0.7717145085334778,0.23339596390724182],\"z\":[0.7654839754104614,0.7628597617149353,0.7834951877593994,0.7857031226158142,0.878118634223938,0.8805189728736877,-0.954391360282898,0.008196000941097736,0.8843004107475281,-0.27136242389678955,0.5660035014152527,-0.31087934970855713,0.8849841356277466,-0.6343986392021179,0.37707045674324036,-0.6436139941215515,-0.09529821574687958,0.8872939348220825,-0.1314598172903061,-0.2615981996059418,-0.9746962785720825,0.8901100754737854,-0.46834179759025574,0.5405021905899048,-0.9478699564933777,0.39678189158439636,-0.12380687147378922,-0.2660209536552429,0.03403778746724129,0.8872194886207581,-0.6293513774871826,-0.007137156091630459,0.0021453583613038063,0.5527728796005249,-0.6438520550727844,-0.47116926312446594,0.40142375230789185,0.38947492837905884,0.042497456073760986,-0.4836851954460144,-0.6216206550598145,-0.2647974193096161,0.763207733631134,-0.2727240324020386,-0.2525949776172638,0.38077035546302795,-0.9497098326683044,-0.13633300364017487,-0.9610297083854675,0.7507591843605042,-0.4788256585597992,-0.46856027841567993,-0.6431686878204346,-0.46523869037628174,-0.6409311890602112,0.7742936015129089,0.8686380386352539,0.8717780113220215,-0.08119434863328934,-0.2568768262863159,-0.9542068839073181,0.5360439419746399,-0.4645669758319855,0.7546651363372803,0.8872107863426208,0.3809319734573364,0.746290385723114,0.31519395112991333,-0.47916388511657715,-0.2742549777030945,0.8674887418746948,-0.14751848578453064,-0.9558515548706055,-0.6212592720985413,-0.11494840681552887,-0.10591652244329453,0.4966486990451813,0.047328583896160126,0.5181366205215454,-0.4762164056301117,0.7513407468795776,0.7605195045471191,-0.9642112255096436,-0.9655234813690186,-0.0038911178708076477,-0.46872302889823914,-0.2233647108078003,-0.26550617814064026,-0.2670113742351532,0.7697661519050598,0.6195930242538452,-0.14467640221118927,0.879597544670105,0.38572847843170166,-0.46933117508888245,-0.9512369632720947,-0.9656791090965271,-0.2587251663208008,-0.6400101780891418,0.5417736768722534,0.5384873151779175,-0.9599101543426514,0.3804416060447693,0.2630246579647064,-0.9369500279426575,0.1085902750492096,0.7763780355453491,-0.12447407841682434,-0.9565221667289734,0.024660658091306686,-0.10494718700647354,0.8789931535720825,0.881327748298645,0.03872912377119064,0.03368839621543884,-0.0004879653570242226,0.5671341419219971,0.04921896383166313,-0.4635445177555084,0.38708052039146423,-0.617793619632721,-0.6350263953208923,-0.28079476952552795,0.8815354108810425,-0.6089825630187988,0.603416383266449,-0.47303521633148193,-0.13543736934661865],\"type\":\"scatter3d\",\"textfont\":{\"color\":\"white\",\"size\":10},\"textposition\":\"middle center\"}],                        {\"template\":{\"data\":{\"histogram2dcontour\":[{\"type\":\"histogram2dcontour\",\"colorbar\":{\"outlinewidth\":0,\"ticks\":\"\"},\"colorscale\":[[0.0,\"#0d0887\"],[0.1111111111111111,\"#46039f\"],[0.2222222222222222,\"#7201a8\"],[0.3333333333333333,\"#9c179e\"],[0.4444444444444444,\"#bd3786\"],[0.5555555555555556,\"#d8576b\"],[0.6666666666666666,\"#ed7953\"],[0.7777777777777778,\"#fb9f3a\"],[0.8888888888888888,\"#fdca26\"],[1.0,\"#f0f921\"]]}],\"choropleth\":[{\"type\":\"choropleth\",\"colorbar\":{\"outlinewidth\":0,\"ticks\":\"\"}}],\"histogram2d\":[{\"type\":\"histogram2d\",\"colorbar\":{\"outlinewidth\":0,\"ticks\":\"\"},\"colorscale\":[[0.0,\"#0d0887\"],[0.1111111111111111,\"#46039f\"],[0.2222222222222222,\"#7201a8\"],[0.3333333333333333,\"#9c179e\"],[0.4444444444444444,\"#bd3786\"],[0.5555555555555556,\"#d8576b\"],[0.6666666666666666,\"#ed7953\"],[0.7777777777777778,\"#fb9f3a\"],[0.8888888888888888,\"#fdca26\"],[1.0,\"#f0f921\"]]}],\"heatmap\":[{\"type\":\"heatmap\",\"colorbar\":{\"outlinewidth\":0,\"ticks\":\"\"},\"colorscale\":[[0.0,\"#0d0887\"],[0.1111111111111111,\"#46039f\"],[0.2222222222222222,\"#7201a8\"],[0.3333333333333333,\"#9c179e\"],[0.4444444444444444,\"#bd3786\"],[0.5555555555555556,\"#d8576b\"],[0.6666666666666666,\"#ed7953\"],[0.7777777777777778,\"#fb9f3a\"],[0.8888888888888888,\"#fdca26\"],[1.0,\"#f0f921\"]]}],\"heatmapgl\":[{\"type\":\"heatmapgl\",\"colorbar\":{\"outlinewidth\":0,\"ticks\":\"\"},\"colorscale\":[[0.0,\"#0d0887\"],[0.1111111111111111,\"#46039f\"],[0.2222222222222222,\"#7201a8\"],[0.3333333333333333,\"#9c179e\"],[0.4444444444444444,\"#bd3786\"],[0.5555555555555556,\"#d8576b\"],[0.6666666666666666,\"#ed7953\"],[0.7777777777777778,\"#fb9f3a\"],[0.8888888888888888,\"#fdca26\"],[1.0,\"#f0f921\"]]}],\"contourcarpet\":[{\"type\":\"contourcarpet\",\"colorbar\":{\"outlinewidth\":0,\"ticks\":\"\"}}],\"contour\":[{\"type\":\"contour\",\"colorbar\":{\"outlinewidth\":0,\"ticks\":\"\"},\"colorscale\":[[0.0,\"#0d0887\"],[0.1111111111111111,\"#46039f\"],[0.2222222222222222,\"#7201a8\"],[0.3333333333333333,\"#9c179e\"],[0.4444444444444444,\"#bd3786\"],[0.5555555555555556,\"#d8576b\"],[0.6666666666666666,\"#ed7953\"],[0.7777777777777778,\"#fb9f3a\"],[0.8888888888888888,\"#fdca26\"],[1.0,\"#f0f921\"]]}],\"surface\":[{\"type\":\"surface\",\"colorbar\":{\"outlinewidth\":0,\"ticks\":\"\"},\"colorscale\":[[0.0,\"#0d0887\"],[0.1111111111111111,\"#46039f\"],[0.2222222222222222,\"#7201a8\"],[0.3333333333333333,\"#9c179e\"],[0.4444444444444444,\"#bd3786\"],[0.5555555555555556,\"#d8576b\"],[0.6666666666666666,\"#ed7953\"],[0.7777777777777778,\"#fb9f3a\"],[0.8888888888888888,\"#fdca26\"],[1.0,\"#f0f921\"]]}],\"mesh3d\":[{\"type\":\"mesh3d\",\"colorbar\":{\"outlinewidth\":0,\"ticks\":\"\"}}],\"scatter\":[{\"fillpattern\":{\"fillmode\":\"overlay\",\"size\":10,\"solidity\":0.2},\"type\":\"scatter\"}],\"parcoords\":[{\"type\":\"parcoords\",\"line\":{\"colorbar\":{\"outlinewidth\":0,\"ticks\":\"\"}}}],\"scatterpolargl\":[{\"type\":\"scatterpolargl\",\"marker\":{\"colorbar\":{\"outlinewidth\":0,\"ticks\":\"\"}}}],\"bar\":[{\"error_x\":{\"color\":\"#2a3f5f\"},\"error_y\":{\"color\":\"#2a3f5f\"},\"marker\":{\"line\":{\"color\":\"#E5ECF6\",\"width\":0.5},\"pattern\":{\"fillmode\":\"overlay\",\"size\":10,\"solidity\":0.2}},\"type\":\"bar\"}],\"scattergeo\":[{\"type\":\"scattergeo\",\"marker\":{\"colorbar\":{\"outlinewidth\":0,\"ticks\":\"\"}}}],\"scatterpolar\":[{\"type\":\"scatterpolar\",\"marker\":{\"colorbar\":{\"outlinewidth\":0,\"ticks\":\"\"}}}],\"histogram\":[{\"marker\":{\"pattern\":{\"fillmode\":\"overlay\",\"size\":10,\"solidity\":0.2}},\"type\":\"histogram\"}],\"scattergl\":[{\"type\":\"scattergl\",\"marker\":{\"colorbar\":{\"outlinewidth\":0,\"ticks\":\"\"}}}],\"scatter3d\":[{\"type\":\"scatter3d\",\"line\":{\"colorbar\":{\"outlinewidth\":0,\"ticks\":\"\"}},\"marker\":{\"colorbar\":{\"outlinewidth\":0,\"ticks\":\"\"}}}],\"scattermapbox\":[{\"type\":\"scattermapbox\",\"marker\":{\"colorbar\":{\"outlinewidth\":0,\"ticks\":\"\"}}}],\"scatterternary\":[{\"type\":\"scatterternary\",\"marker\":{\"colorbar\":{\"outlinewidth\":0,\"ticks\":\"\"}}}],\"scattercarpet\":[{\"type\":\"scattercarpet\",\"marker\":{\"colorbar\":{\"outlinewidth\":0,\"ticks\":\"\"}}}],\"carpet\":[{\"aaxis\":{\"endlinecolor\":\"#2a3f5f\",\"gridcolor\":\"white\",\"linecolor\":\"white\",\"minorgridcolor\":\"white\",\"startlinecolor\":\"#2a3f5f\"},\"baxis\":{\"endlinecolor\":\"#2a3f5f\",\"gridcolor\":\"white\",\"linecolor\":\"white\",\"minorgridcolor\":\"white\",\"startlinecolor\":\"#2a3f5f\"},\"type\":\"carpet\"}],\"table\":[{\"cells\":{\"fill\":{\"color\":\"#EBF0F8\"},\"line\":{\"color\":\"white\"}},\"header\":{\"fill\":{\"color\":\"#C8D4E3\"},\"line\":{\"color\":\"white\"}},\"type\":\"table\"}],\"barpolar\":[{\"marker\":{\"line\":{\"color\":\"#E5ECF6\",\"width\":0.5},\"pattern\":{\"fillmode\":\"overlay\",\"size\":10,\"solidity\":0.2}},\"type\":\"barpolar\"}],\"pie\":[{\"automargin\":true,\"type\":\"pie\"}]},\"layout\":{\"autotypenumbers\":\"strict\",\"colorway\":[\"#636efa\",\"#EF553B\",\"#00cc96\",\"#ab63fa\",\"#FFA15A\",\"#19d3f3\",\"#FF6692\",\"#B6E880\",\"#FF97FF\",\"#FECB52\"],\"font\":{\"color\":\"#2a3f5f\"},\"hovermode\":\"closest\",\"hoverlabel\":{\"align\":\"left\"},\"paper_bgcolor\":\"white\",\"plot_bgcolor\":\"#E5ECF6\",\"polar\":{\"bgcolor\":\"#E5ECF6\",\"angularaxis\":{\"gridcolor\":\"white\",\"linecolor\":\"white\",\"ticks\":\"\"},\"radialaxis\":{\"gridcolor\":\"white\",\"linecolor\":\"white\",\"ticks\":\"\"}},\"ternary\":{\"bgcolor\":\"#E5ECF6\",\"aaxis\":{\"gridcolor\":\"white\",\"linecolor\":\"white\",\"ticks\":\"\"},\"baxis\":{\"gridcolor\":\"white\",\"linecolor\":\"white\",\"ticks\":\"\"},\"caxis\":{\"gridcolor\":\"white\",\"linecolor\":\"white\",\"ticks\":\"\"}},\"coloraxis\":{\"colorbar\":{\"outlinewidth\":0,\"ticks\":\"\"}},\"colorscale\":{\"sequential\":[[0.0,\"#0d0887\"],[0.1111111111111111,\"#46039f\"],[0.2222222222222222,\"#7201a8\"],[0.3333333333333333,\"#9c179e\"],[0.4444444444444444,\"#bd3786\"],[0.5555555555555556,\"#d8576b\"],[0.6666666666666666,\"#ed7953\"],[0.7777777777777778,\"#fb9f3a\"],[0.8888888888888888,\"#fdca26\"],[1.0,\"#f0f921\"]],\"sequentialminus\":[[0.0,\"#0d0887\"],[0.1111111111111111,\"#46039f\"],[0.2222222222222222,\"#7201a8\"],[0.3333333333333333,\"#9c179e\"],[0.4444444444444444,\"#bd3786\"],[0.5555555555555556,\"#d8576b\"],[0.6666666666666666,\"#ed7953\"],[0.7777777777777778,\"#fb9f3a\"],[0.8888888888888888,\"#fdca26\"],[1.0,\"#f0f921\"]],\"diverging\":[[0,\"#8e0152\"],[0.1,\"#c51b7d\"],[0.2,\"#de77ae\"],[0.3,\"#f1b6da\"],[0.4,\"#fde0ef\"],[0.5,\"#f7f7f7\"],[0.6,\"#e6f5d0\"],[0.7,\"#b8e186\"],[0.8,\"#7fbc41\"],[0.9,\"#4d9221\"],[1,\"#276419\"]]},\"xaxis\":{\"gridcolor\":\"white\",\"linecolor\":\"white\",\"ticks\":\"\",\"title\":{\"standoff\":15},\"zerolinecolor\":\"white\",\"automargin\":true,\"zerolinewidth\":2},\"yaxis\":{\"gridcolor\":\"white\",\"linecolor\":\"white\",\"ticks\":\"\",\"title\":{\"standoff\":15},\"zerolinecolor\":\"white\",\"automargin\":true,\"zerolinewidth\":2},\"scene\":{\"xaxis\":{\"backgroundcolor\":\"#E5ECF6\",\"gridcolor\":\"white\",\"linecolor\":\"white\",\"showbackground\":true,\"ticks\":\"\",\"zerolinecolor\":\"white\",\"gridwidth\":2},\"yaxis\":{\"backgroundcolor\":\"#E5ECF6\",\"gridcolor\":\"white\",\"linecolor\":\"white\",\"showbackground\":true,\"ticks\":\"\",\"zerolinecolor\":\"white\",\"gridwidth\":2},\"zaxis\":{\"backgroundcolor\":\"#E5ECF6\",\"gridcolor\":\"white\",\"linecolor\":\"white\",\"showbackground\":true,\"ticks\":\"\",\"zerolinecolor\":\"white\",\"gridwidth\":2}},\"shapedefaults\":{\"line\":{\"color\":\"#2a3f5f\"}},\"annotationdefaults\":{\"arrowcolor\":\"#2a3f5f\",\"arrowhead\":0,\"arrowwidth\":1},\"geo\":{\"bgcolor\":\"white\",\"landcolor\":\"#E5ECF6\",\"subunitcolor\":\"white\",\"showland\":true,\"showlakes\":true,\"lakecolor\":\"white\"},\"title\":{\"x\":0.05},\"mapbox\":{\"style\":\"light\"}}},\"scene\":{\"domain\":{\"x\":[0.0,1.0],\"y\":[0.0,1.0]},\"xaxis\":{\"title\":{\"text\":\"x\"}},\"yaxis\":{\"title\":{\"text\":\"y\"}},\"zaxis\":{\"title\":{\"text\":\"z\"}}},\"coloraxis\":{\"colorbar\":{\"title\":{\"text\":\"label\"}},\"colorscale\":[[0.0,\"#0d0887\"],[0.1111111111111111,\"#46039f\"],[0.2222222222222222,\"#7201a8\"],[0.3333333333333333,\"#9c179e\"],[0.4444444444444444,\"#bd3786\"],[0.5555555555555556,\"#d8576b\"],[0.6666666666666666,\"#ed7953\"],[0.7777777777777778,\"#fb9f3a\"],[0.8888888888888888,\"#fdca26\"],[1.0,\"#f0f921\"]],\"showscale\":false},\"legend\":{\"tracegroupgap\":0},\"margin\":{\"t\":60}},                        {\"responsive\": true}                    ).then(function(){\n",
       "                            \n",
       "var gd = document.getElementById('118bcd9f-4753-4a5c-932b-ed3123106c6d');\n",
       "var x = new MutationObserver(function (mutations, observer) {{\n",
       "        var display = window.getComputedStyle(gd).display;\n",
       "        if (!display || display === 'none') {{\n",
       "            console.log([gd, 'removed!']);\n",
       "            Plotly.purge(gd);\n",
       "            observer.disconnect();\n",
       "        }}\n",
       "}});\n",
       "\n",
       "// Listen for the removal of the full notebook cells\n",
       "var notebookContainer = gd.closest('#notebook-container');\n",
       "if (notebookContainer) {{\n",
       "    x.observe(notebookContainer, {childList: true});\n",
       "}}\n",
       "\n",
       "// Listen for the clearing of the current output cell\n",
       "var outputEl = gd.closest('.output');\n",
       "if (outputEl) {{\n",
       "    x.observe(outputEl, {childList: true});\n",
       "}}\n",
       "\n",
       "                        })                };                });            </script>        </div>"
      ]
     },
     "metadata": {},
     "output_type": "display_data"
    }
   ],
   "source": [
    "df = pd.DataFrame({'x': embeds[:, 0], \n",
    "                   'y': embeds[:, 1], \n",
    "                   'z': embeds[:, 2], \n",
    "                   'label': batch_labels.numpy()})\n",
    "\n",
    "fig = px.scatter_3d(df, x='x', y='y', z='z',\n",
    "                      color='label', text='label')\n",
    "fig.update_coloraxes(showscale=False)\n",
    "fig.update_traces(marker=dict(size=5), \n",
    "                  textposition='middle center', \n",
    "                  textfont=dict(color='white', size=10))\n",
    "\n",
    "# fig.write_image(\"./figs/mnist_clusters.pdf\", scale=10)\n",
    "\n",
    "fig.show()"
   ]
  },
  {
   "cell_type": "markdown",
   "id": "e81ca6fe",
   "metadata": {},
   "source": [
    "## View Modified Embeddings through Plotly"
   ]
  },
  {
   "cell_type": "code",
   "execution_count": 111,
   "id": "e223c3ae",
   "metadata": {
    "scrolled": false
   },
   "outputs": [],
   "source": [
    "batch_images, batch_labels = next(iter(data_loader))\n",
    "\n",
    "embeds = mnist_net.embedding(batch_images.to(device), normalize=True)\n",
    "embeds = embeds.detach().numpy()\n",
    "\n",
    "# new_embeds, new_labels = remove_outliers(embeds, batch_labels)"
   ]
  },
  {
   "cell_type": "code",
   "execution_count": 112,
   "id": "8b609821",
   "metadata": {},
   "outputs": [],
   "source": [
    "def project_to_2D_unit_circle(embeds):\n",
    "    \n",
    "    # Find the normal vector of the plane\n",
    "    u, s, vh = np.linalg.svd(embeds)\n",
    "    normal = vh[-1]    # the last eigenvector is the one that doesn't vary, i.e. \n",
    "                       # normal to the plane where the points lie \n",
    "\n",
    "    # Project the points onto the plane\n",
    "    points_proj = embeds - (embeds @ np.outer(normal, normal))  # embeds minus projection of embeds onto normal\n",
    "                                                                # would give us embeds that lie on the 2D plane,\n",
    "                                                                # which is perpendicular to the normal \n",
    "\n",
    "    # normalize to unit circle \n",
    "    points_norm = np.linalg.norm(points_proj, axis=1)\n",
    "    points_proj /= points_norm[:, np.newaxis]         # using broadcasting to normalize \n",
    "    \n",
    "    return points_proj"
   ]
  },
  {
   "cell_type": "code",
   "execution_count": 113,
   "id": "32fe4454",
   "metadata": {},
   "outputs": [
    {
     "data": {
      "application/vnd.plotly.v1+json": {
       "config": {
        "plotlyServerURL": "https://plot.ly"
       },
       "data": [
        {
         "hovertemplate": "x=%{x}<br>y=%{y}<br>z=%{z}<br>label=%{marker.color}<extra></extra>",
         "legendgroup": "",
         "marker": {
          "color": [
           7,
           1,
           9,
           9,
           9,
           8,
           2,
           2,
           2,
           8,
           6,
           0,
           7,
           4,
           7,
           7,
           2,
           8,
           8,
           2,
           7,
           1,
           7,
           3,
           1,
           1,
           4,
           7,
           7,
           3,
           4,
           2,
           3,
           8,
           1,
           6,
           1,
           3,
           2,
           9,
           4,
           1,
           1,
           1,
           2,
           9,
           9,
           2,
           9,
           0,
           3,
           9,
           8,
           6,
           2,
           4,
           2,
           3,
           7,
           6,
           8,
           9,
           4,
           8,
           9,
           3,
           3,
           9,
           1,
           6,
           7,
           6,
           1,
           5,
           1,
           1,
           5,
           9,
           0,
           1,
           0,
           6,
           5,
           6,
           7,
           3,
           0,
           0,
           0,
           1,
           2,
           8,
           1,
           9,
           0,
           4,
           1,
           5,
           5,
           3,
           7,
           2,
           6,
           8,
           1,
           1,
           4,
           9,
           9,
           8,
           8,
           7,
           1,
           0,
           5,
           9,
           2,
           0,
           3,
           5,
           1,
           6,
           3,
           5,
           3,
           3,
           2,
           5
          ],
          "coloraxis": "coloraxis",
          "size": 5,
          "symbol": "circle"
         },
         "mode": "markers+text",
         "name": "",
         "scene": "scene",
         "showlegend": false,
         "text": [
          7,
          1,
          9,
          9,
          9,
          8,
          2,
          2,
          2,
          8,
          6,
          0,
          7,
          4,
          7,
          7,
          2,
          8,
          8,
          2,
          7,
          1,
          7,
          3,
          1,
          1,
          4,
          7,
          7,
          3,
          4,
          2,
          3,
          8,
          1,
          6,
          1,
          3,
          2,
          9,
          4,
          1,
          1,
          1,
          2,
          9,
          9,
          2,
          9,
          0,
          3,
          9,
          8,
          6,
          2,
          4,
          2,
          3,
          7,
          6,
          8,
          9,
          4,
          8,
          9,
          3,
          3,
          9,
          1,
          6,
          7,
          6,
          1,
          5,
          1,
          1,
          5,
          9,
          0,
          1,
          0,
          6,
          5,
          6,
          7,
          3,
          0,
          0,
          0,
          1,
          2,
          8,
          1,
          9,
          0,
          4,
          1,
          5,
          5,
          3,
          7,
          2,
          6,
          8,
          1,
          1,
          4,
          9,
          9,
          8,
          8,
          7,
          1,
          0,
          5,
          9,
          2,
          0,
          3,
          5,
          1,
          6,
          3,
          5,
          3,
          3,
          2,
          5
         ],
         "textfont": {
          "color": "white",
          "size": 12
         },
         "textposition": "middle center",
         "type": "scatter3d",
         "x": [
          -0.4351198375225067,
          -0.9405948519706726,
          0.8561050295829773,
          0.8527531623840332,
          0.8552404642105103,
          -0.18985532224178314,
          0.10777236521244049,
          0.005580523516982794,
          -0.11384531110525131,
          -0.06398406624794006,
          -0.743410050868988,
          0.3356527090072632,
          -0.40860289335250854,
          -0.2553495764732361,
          -0.4452413022518158,
          -0.3649834990501404,
          -0.34011223912239075,
          -0.15426744520664215,
          -0.18939271569252014,
          0.05016610771417618,
          -0.42274904251098633,
          -0.9376896023750305,
          -0.44295984506607056,
          0.8950549960136414,
          -0.9426948428153992,
          -0.9412093758583069,
          -0.18129222095012665,
          -0.3945695757865906,
          -0.41801372170448303,
          0.9229718446731567,
          -0.24125126004219055,
          -0.4470839500427246,
          0.9248590469360352,
          -0.17429886758327484,
          -0.9427317380905151,
          -0.7659025192260742,
          -0.9426516890525818,
          0.9228761792182922,
          -0.3960399031639099,
          0.8623682856559753,
          -0.5139486789703369,
          -0.9390638470649719,
          -0.9374810457229614,
          -0.9397042393684387,
          -0.21183405816555023,
          0.859302282333374,
          0.48447713255882263,
          -0.5232306122779846,
          0.8506770133972168,
          0.2225443571805954,
          0.9220760464668274,
          0.8572617173194885,
          -0.20719726383686066,
          -0.750454306602478,
          -0.05068039149045944,
          -0.35432299971580505,
          -0.08595789223909378,
          0.9253387451171875,
          -0.4368758201599121,
          -0.7416762113571167,
          -0.2012154757976532,
          0.8549723029136658,
          -0.14927899837493896,
          0.25541815161705017,
          0.8549237251281738,
          0.9240688681602478,
          0.926865816116333,
          0.8554647564888,
          -0.9431267380714417,
          -0.7527615427970886,
          -0.4380888044834137,
          -0.7259417176246643,
          -0.9443258047103882,
          0.5609545111656189,
          -0.9425658583641052,
          -0.8381319046020508,
          0.530102550983429,
          0.791198194026947,
          0.3427634537220001,
          -0.9445483088493347,
          0.3588605523109436,
          -0.7235838770866394,
          0.5626233220100403,
          -0.7541009783744812,
          -0.4345960319042206,
          0.9218952655792236,
          0.34663134813308716,
          0.3410688042640686,
          0.34242329001426697,
          -0.9359666109085083,
          -0.3082389235496521,
          -0.17406964302062988,
          -0.9400628805160522,
          0.8605391383171082,
          0.33442509174346924,
          -0.4929251968860626,
          -0.9436750411987305,
          0.5367955565452576,
          0.5614427328109741,
          0.907012939453125,
          -0.4519449770450592,
          -0.5084920525550842,
          -0.7498798966407776,
          -0.17607660591602325,
          -0.9478520750999451,
          -0.9409469962120056,
          -0.3920727074146271,
          0.8523516058921814,
          0.8539445996284485,
          -0.2166953682899475,
          -0.20873737335205078,
          -0.3350209891796112,
          -0.9416974782943726,
          0.3403295576572418,
          0.5462946891784668,
          0.8526389598846436,
          -0.35670772194862366,
          0.3291842043399811,
          0.9079194068908691,
          0.5454197525978088,
          -0.9387000799179077,
          -0.7458152174949646,
          0.9324548840522766,
          0.5703063607215881,
          0.9269030094146729,
          0.930870771408081,
          -0.6009891629219055,
          0.7620999813079834
         ],
         "y": [
          -0.829849123954773,
          -0.047569043934345245,
          -0.48469337821006775,
          -0.4915846884250641,
          -0.4864853024482727,
          0.9675803184509277,
          0.957665205001831,
          -0.9728308916091919,
          -0.9564564228057861,
          0.9752047061920166,
          0.6616222858428955,
          -0.9357075691223145,
          -0.84544438123703,
          -0.9164704084396362,
          -0.823613166809082,
          -0.8688642382621765,
          -0.8810340166091919,
          0.9715317487716675,
          0.9676409363746643,
          -0.9749773144721985,
          -0.8372566103935242,
          -0.0695280209183693,
          -0.8250327706336975,
          0.25029632449150085,
          -0.028819400817155838,
          -0.042394910007715225,
          -0.9402640461921692,
          -0.8532754182815552,
          -0.8400306701660156,
          0.1496429741382599,
          -0.9214995503425598,
          -0.8224605917930603,
          0.14106865227222443,
          0.9694849252700806,
          -0.028459342196583748,
          0.6330212950706482,
          -0.029238399118185043,
          0.15006856620311737,
          -0.8524683713912964,
          -0.4713982045650482,
          -0.7768479585647583,
          -0.0595923513174057,
          -0.07097646594047546,
          -0.05470019578933716,
          -0.9312307834625244,
          -0.4779767692089081,
          -0.8737790584564209,
          -0.7698988914489746,
          -0.4957796037197113,
          -0.9626671075820923,
          0.15359710156917572,
          -0.4822799861431122,
          0.9651287198066711,
          0.6529282927513123,
          -0.9670505523681641,
          -0.8741830587387085,
          -0.9616724252700806,
          0.13883289694786072,
          -0.8287787437438965,
          0.663727343082428,
          0.9660136699676514,
          -0.48703891038894653,
          -0.9485867023468018,
          0.9164453744888306,
          -0.48713913559913635,
          0.14470073580741882,
          0.13154999911785126,
          -0.48602136969566345,
          -0.024522976949810982,
          0.6500300168991089,
          -0.8280364871025085,
          0.6822324991226196,
          -0.011474579572677612,
          0.7399599552154541,
          -0.030067728832364082,
          -0.3887360692024231,
          0.7646507620811462,
          -0.5976220965385437,
          -0.9334694743156433,
          -0.008829326368868351,
          -0.9281527400016785,
          0.6849164962768555,
          0.7385698556900024,
          0.6483357548713684,
          -0.8301675915718079,
          0.1543864905834198,
          -0.9322238564491272,
          -0.9340089559555054,
          -0.9335780739784241,
          -0.08108590543270111,
          -0.8954300880432129,
          0.9695109724998474,
          -0.05187717080116272,
          -0.4753395617008209,
          -0.9360870718955994,
          -0.7920117974281311,
          -0.018783099949359894,
          0.7594531178474426,
          0.7395538091659546,
          0.21177202463150024,
          -0.8193944692611694,
          -0.7808595299720764,
          0.6536458730697632,
          0.9692813158035278,
          0.05752947926521301,
          -0.04463166370987892,
          -0.854638934135437,
          -0.49240046739578247,
          -0.4891521632671356,
          0.9636378288269043,
          0.9648940563201904,
          -0.8834229111671448,
          -0.038114797323942184,
          -0.9342430830001831,
          0.7519271969795227,
          -0.491816908121109,
          -0.8730067610740662,
          -0.9376853108406067,
          0.20862387120723724,
          0.7526278495788574,
          -0.06229284405708313,
          0.6586796045303345,
          0.10229852795600891,
          0.7320950031280518,
          0.1313694268465042,
          0.11106657981872559,
          -0.7049573063850403,
          0.518652081489563
         ],
         "z": [
          -0.34931522607803345,
          -0.33618223667144775,
          0.17932264506816864,
          0.17651212215423584,
          0.17859424650669098,
          0.16656334698200226,
          0.2669503390789032,
          -0.23144975304603577,
          -0.26875725388526917,
          0.2118535041809082,
          -0.09796683490276337,
          -0.10857602208852768,
          -0.343900591135025,
          -0.30802372097969055,
          -0.3513140380382538,
          -0.3344579339027405,
          -0.32878977060317993,
          0.1797991394996643,
          0.1667376309633255,
          -0.21657006442546844,
          -0.34682080149650574,
          -0.34044691920280457,
          -0.35086682438850403,
          0.3690912127494812,
          -0.3324093818664551,
          -0.335153192281723,
          -0.2881609797477722,
          -0.34093379974365234,
          -0.3458513021469116,
          0.3545842468738556,
          -0.30436229705810547,
          -0.35167378187179565,
          0.3531789481639862,
          0.1723916083574295,
          -0.3323357105255127,
          -0.11259430646896362,
          -0.33249497413635254,
          0.35465332865715027,
          -0.3412478268146515,
          0.18467466533184052,
          -0.3638187646865845,
          -0.33853790163993835,
          -0.34072238206863403,
          -0.3375854194164276,
          -0.2965394854545593,
          0.1820378601551056,
          -0.04233330488204956,
          -0.36535656452178955,
          0.1747889220714569,
          -0.154097780585289,
          0.35522353649139404,
          0.1803010106086731,
          0.15998739004135132,
          -0.10248471796512604,
          -0.24948899447917938,
          -0.33205297589302063,
          -0.26037946343421936,
          0.3528082072734833,
          -0.34966474771499634,
          -0.09686317294836044,
          0.16226507723331451,
          0.17836885154247284,
          -0.27910396456718445,
          0.30804136395454407,
          0.17832806706428528,
          0.3537774384021759,
          0.35158833861351013,
          0.17878296971321106,
          -0.33152779936790466,
          -0.10397665202617645,
          -0.34990552067756653,
          -0.08699104189872742,
          -0.3288116157054901,
          0.3711997866630554,
          -0.3326643109321594,
          -0.3826476037502289,
          0.3664703965187073,
          0.12982049584388733,
          -0.10558390617370605,
          -0.328253835439682,
          -0.09875040501356125,
          -0.08553305268287659,
          0.3714425265789032,
          -0.10484558343887329,
          -0.3492107689380646,
          0.35535043478012085,
          -0.10394958406686783,
          -0.10629846155643463,
          -0.105727419257164,
          -0.3426246643066406,
          -0.3212380111217499,
          0.17247703671455383,
          -0.3370320200920105,
          0.18309761583805084,
          -0.10909094661474228,
          -0.36019742488861084,
          -0.330340176820755,
          0.3675343990325928,
          0.37127095460891724,
          0.3639783263206482,
          -0.35261663794517517,
          -0.36289700865745544,
          -0.102114237844944,
          0.1717289537191391,
          -0.31347545981407166,
          -0.3355991244316101,
          -0.34039878845214844,
          0.1761777549982071,
          0.17750705778598785,
          0.15635018050670624,
          0.15939931571483612,
          -0.3276049494743347,
          -0.3342949450016022,
          -0.10660987347364426,
          0.369008868932724,
          0.17641699314117432,
          -0.33259421586990356,
          -0.11128394305706024,
          0.3635360896587372,
          0.3688749074935913,
          -0.3390601575374603,
          -0.09950321167707443,
          0.3465009033679962,
          0.3725420832633972,
          0.3515578806400299,
          0.348057359457016,
          -0.3766261339187622,
          0.38756126165390015
         ]
        }
       ],
       "layout": {
        "coloraxis": {
         "colorbar": {
          "title": {
           "text": "label"
          }
         },
         "colorscale": [
          [
           0,
           "#0d0887"
          ],
          [
           0.1111111111111111,
           "#46039f"
          ],
          [
           0.2222222222222222,
           "#7201a8"
          ],
          [
           0.3333333333333333,
           "#9c179e"
          ],
          [
           0.4444444444444444,
           "#bd3786"
          ],
          [
           0.5555555555555556,
           "#d8576b"
          ],
          [
           0.6666666666666666,
           "#ed7953"
          ],
          [
           0.7777777777777778,
           "#fb9f3a"
          ],
          [
           0.8888888888888888,
           "#fdca26"
          ],
          [
           1,
           "#f0f921"
          ]
         ],
         "showscale": false
        },
        "legend": {
         "tracegroupgap": 0
        },
        "margin": {
         "t": 60
        },
        "scene": {
         "camera": {
          "center": {
           "x": 0,
           "y": 0,
           "z": 0
          },
          "eye": {
           "x": 0.8,
           "y": 0.8,
           "z": -1.2
          },
          "up": {
           "x": 0,
           "y": 0,
           "z": 1
          }
         },
         "domain": {
          "x": [
           0,
           1
          ],
          "y": [
           0,
           1
          ]
         },
         "xaxis": {
          "title": {
           "text": "x"
          }
         },
         "yaxis": {
          "title": {
           "text": "y"
          }
         },
         "zaxis": {
          "title": {
           "text": "z"
          }
         }
        },
        "template": {
         "data": {
          "bar": [
           {
            "error_x": {
             "color": "#2a3f5f"
            },
            "error_y": {
             "color": "#2a3f5f"
            },
            "marker": {
             "line": {
              "color": "#E5ECF6",
              "width": 0.5
             },
             "pattern": {
              "fillmode": "overlay",
              "size": 10,
              "solidity": 0.2
             }
            },
            "type": "bar"
           }
          ],
          "barpolar": [
           {
            "marker": {
             "line": {
              "color": "#E5ECF6",
              "width": 0.5
             },
             "pattern": {
              "fillmode": "overlay",
              "size": 10,
              "solidity": 0.2
             }
            },
            "type": "barpolar"
           }
          ],
          "carpet": [
           {
            "aaxis": {
             "endlinecolor": "#2a3f5f",
             "gridcolor": "white",
             "linecolor": "white",
             "minorgridcolor": "white",
             "startlinecolor": "#2a3f5f"
            },
            "baxis": {
             "endlinecolor": "#2a3f5f",
             "gridcolor": "white",
             "linecolor": "white",
             "minorgridcolor": "white",
             "startlinecolor": "#2a3f5f"
            },
            "type": "carpet"
           }
          ],
          "choropleth": [
           {
            "colorbar": {
             "outlinewidth": 0,
             "ticks": ""
            },
            "type": "choropleth"
           }
          ],
          "contour": [
           {
            "colorbar": {
             "outlinewidth": 0,
             "ticks": ""
            },
            "colorscale": [
             [
              0,
              "#0d0887"
             ],
             [
              0.1111111111111111,
              "#46039f"
             ],
             [
              0.2222222222222222,
              "#7201a8"
             ],
             [
              0.3333333333333333,
              "#9c179e"
             ],
             [
              0.4444444444444444,
              "#bd3786"
             ],
             [
              0.5555555555555556,
              "#d8576b"
             ],
             [
              0.6666666666666666,
              "#ed7953"
             ],
             [
              0.7777777777777778,
              "#fb9f3a"
             ],
             [
              0.8888888888888888,
              "#fdca26"
             ],
             [
              1,
              "#f0f921"
             ]
            ],
            "type": "contour"
           }
          ],
          "contourcarpet": [
           {
            "colorbar": {
             "outlinewidth": 0,
             "ticks": ""
            },
            "type": "contourcarpet"
           }
          ],
          "heatmap": [
           {
            "colorbar": {
             "outlinewidth": 0,
             "ticks": ""
            },
            "colorscale": [
             [
              0,
              "#0d0887"
             ],
             [
              0.1111111111111111,
              "#46039f"
             ],
             [
              0.2222222222222222,
              "#7201a8"
             ],
             [
              0.3333333333333333,
              "#9c179e"
             ],
             [
              0.4444444444444444,
              "#bd3786"
             ],
             [
              0.5555555555555556,
              "#d8576b"
             ],
             [
              0.6666666666666666,
              "#ed7953"
             ],
             [
              0.7777777777777778,
              "#fb9f3a"
             ],
             [
              0.8888888888888888,
              "#fdca26"
             ],
             [
              1,
              "#f0f921"
             ]
            ],
            "type": "heatmap"
           }
          ],
          "heatmapgl": [
           {
            "colorbar": {
             "outlinewidth": 0,
             "ticks": ""
            },
            "colorscale": [
             [
              0,
              "#0d0887"
             ],
             [
              0.1111111111111111,
              "#46039f"
             ],
             [
              0.2222222222222222,
              "#7201a8"
             ],
             [
              0.3333333333333333,
              "#9c179e"
             ],
             [
              0.4444444444444444,
              "#bd3786"
             ],
             [
              0.5555555555555556,
              "#d8576b"
             ],
             [
              0.6666666666666666,
              "#ed7953"
             ],
             [
              0.7777777777777778,
              "#fb9f3a"
             ],
             [
              0.8888888888888888,
              "#fdca26"
             ],
             [
              1,
              "#f0f921"
             ]
            ],
            "type": "heatmapgl"
           }
          ],
          "histogram": [
           {
            "marker": {
             "pattern": {
              "fillmode": "overlay",
              "size": 10,
              "solidity": 0.2
             }
            },
            "type": "histogram"
           }
          ],
          "histogram2d": [
           {
            "colorbar": {
             "outlinewidth": 0,
             "ticks": ""
            },
            "colorscale": [
             [
              0,
              "#0d0887"
             ],
             [
              0.1111111111111111,
              "#46039f"
             ],
             [
              0.2222222222222222,
              "#7201a8"
             ],
             [
              0.3333333333333333,
              "#9c179e"
             ],
             [
              0.4444444444444444,
              "#bd3786"
             ],
             [
              0.5555555555555556,
              "#d8576b"
             ],
             [
              0.6666666666666666,
              "#ed7953"
             ],
             [
              0.7777777777777778,
              "#fb9f3a"
             ],
             [
              0.8888888888888888,
              "#fdca26"
             ],
             [
              1,
              "#f0f921"
             ]
            ],
            "type": "histogram2d"
           }
          ],
          "histogram2dcontour": [
           {
            "colorbar": {
             "outlinewidth": 0,
             "ticks": ""
            },
            "colorscale": [
             [
              0,
              "#0d0887"
             ],
             [
              0.1111111111111111,
              "#46039f"
             ],
             [
              0.2222222222222222,
              "#7201a8"
             ],
             [
              0.3333333333333333,
              "#9c179e"
             ],
             [
              0.4444444444444444,
              "#bd3786"
             ],
             [
              0.5555555555555556,
              "#d8576b"
             ],
             [
              0.6666666666666666,
              "#ed7953"
             ],
             [
              0.7777777777777778,
              "#fb9f3a"
             ],
             [
              0.8888888888888888,
              "#fdca26"
             ],
             [
              1,
              "#f0f921"
             ]
            ],
            "type": "histogram2dcontour"
           }
          ],
          "mesh3d": [
           {
            "colorbar": {
             "outlinewidth": 0,
             "ticks": ""
            },
            "type": "mesh3d"
           }
          ],
          "parcoords": [
           {
            "line": {
             "colorbar": {
              "outlinewidth": 0,
              "ticks": ""
             }
            },
            "type": "parcoords"
           }
          ],
          "pie": [
           {
            "automargin": true,
            "type": "pie"
           }
          ],
          "scatter": [
           {
            "fillpattern": {
             "fillmode": "overlay",
             "size": 10,
             "solidity": 0.2
            },
            "type": "scatter"
           }
          ],
          "scatter3d": [
           {
            "line": {
             "colorbar": {
              "outlinewidth": 0,
              "ticks": ""
             }
            },
            "marker": {
             "colorbar": {
              "outlinewidth": 0,
              "ticks": ""
             }
            },
            "type": "scatter3d"
           }
          ],
          "scattercarpet": [
           {
            "marker": {
             "colorbar": {
              "outlinewidth": 0,
              "ticks": ""
             }
            },
            "type": "scattercarpet"
           }
          ],
          "scattergeo": [
           {
            "marker": {
             "colorbar": {
              "outlinewidth": 0,
              "ticks": ""
             }
            },
            "type": "scattergeo"
           }
          ],
          "scattergl": [
           {
            "marker": {
             "colorbar": {
              "outlinewidth": 0,
              "ticks": ""
             }
            },
            "type": "scattergl"
           }
          ],
          "scattermapbox": [
           {
            "marker": {
             "colorbar": {
              "outlinewidth": 0,
              "ticks": ""
             }
            },
            "type": "scattermapbox"
           }
          ],
          "scatterpolar": [
           {
            "marker": {
             "colorbar": {
              "outlinewidth": 0,
              "ticks": ""
             }
            },
            "type": "scatterpolar"
           }
          ],
          "scatterpolargl": [
           {
            "marker": {
             "colorbar": {
              "outlinewidth": 0,
              "ticks": ""
             }
            },
            "type": "scatterpolargl"
           }
          ],
          "scatterternary": [
           {
            "marker": {
             "colorbar": {
              "outlinewidth": 0,
              "ticks": ""
             }
            },
            "type": "scatterternary"
           }
          ],
          "surface": [
           {
            "colorbar": {
             "outlinewidth": 0,
             "ticks": ""
            },
            "colorscale": [
             [
              0,
              "#0d0887"
             ],
             [
              0.1111111111111111,
              "#46039f"
             ],
             [
              0.2222222222222222,
              "#7201a8"
             ],
             [
              0.3333333333333333,
              "#9c179e"
             ],
             [
              0.4444444444444444,
              "#bd3786"
             ],
             [
              0.5555555555555556,
              "#d8576b"
             ],
             [
              0.6666666666666666,
              "#ed7953"
             ],
             [
              0.7777777777777778,
              "#fb9f3a"
             ],
             [
              0.8888888888888888,
              "#fdca26"
             ],
             [
              1,
              "#f0f921"
             ]
            ],
            "type": "surface"
           }
          ],
          "table": [
           {
            "cells": {
             "fill": {
              "color": "#EBF0F8"
             },
             "line": {
              "color": "white"
             }
            },
            "header": {
             "fill": {
              "color": "#C8D4E3"
             },
             "line": {
              "color": "white"
             }
            },
            "type": "table"
           }
          ]
         },
         "layout": {
          "annotationdefaults": {
           "arrowcolor": "#2a3f5f",
           "arrowhead": 0,
           "arrowwidth": 1
          },
          "autotypenumbers": "strict",
          "coloraxis": {
           "colorbar": {
            "outlinewidth": 0,
            "ticks": ""
           }
          },
          "colorscale": {
           "diverging": [
            [
             0,
             "#8e0152"
            ],
            [
             0.1,
             "#c51b7d"
            ],
            [
             0.2,
             "#de77ae"
            ],
            [
             0.3,
             "#f1b6da"
            ],
            [
             0.4,
             "#fde0ef"
            ],
            [
             0.5,
             "#f7f7f7"
            ],
            [
             0.6,
             "#e6f5d0"
            ],
            [
             0.7,
             "#b8e186"
            ],
            [
             0.8,
             "#7fbc41"
            ],
            [
             0.9,
             "#4d9221"
            ],
            [
             1,
             "#276419"
            ]
           ],
           "sequential": [
            [
             0,
             "#0d0887"
            ],
            [
             0.1111111111111111,
             "#46039f"
            ],
            [
             0.2222222222222222,
             "#7201a8"
            ],
            [
             0.3333333333333333,
             "#9c179e"
            ],
            [
             0.4444444444444444,
             "#bd3786"
            ],
            [
             0.5555555555555556,
             "#d8576b"
            ],
            [
             0.6666666666666666,
             "#ed7953"
            ],
            [
             0.7777777777777778,
             "#fb9f3a"
            ],
            [
             0.8888888888888888,
             "#fdca26"
            ],
            [
             1,
             "#f0f921"
            ]
           ],
           "sequentialminus": [
            [
             0,
             "#0d0887"
            ],
            [
             0.1111111111111111,
             "#46039f"
            ],
            [
             0.2222222222222222,
             "#7201a8"
            ],
            [
             0.3333333333333333,
             "#9c179e"
            ],
            [
             0.4444444444444444,
             "#bd3786"
            ],
            [
             0.5555555555555556,
             "#d8576b"
            ],
            [
             0.6666666666666666,
             "#ed7953"
            ],
            [
             0.7777777777777778,
             "#fb9f3a"
            ],
            [
             0.8888888888888888,
             "#fdca26"
            ],
            [
             1,
             "#f0f921"
            ]
           ]
          },
          "colorway": [
           "#636efa",
           "#EF553B",
           "#00cc96",
           "#ab63fa",
           "#FFA15A",
           "#19d3f3",
           "#FF6692",
           "#B6E880",
           "#FF97FF",
           "#FECB52"
          ],
          "font": {
           "color": "#2a3f5f"
          },
          "geo": {
           "bgcolor": "white",
           "lakecolor": "white",
           "landcolor": "#E5ECF6",
           "showlakes": true,
           "showland": true,
           "subunitcolor": "white"
          },
          "hoverlabel": {
           "align": "left"
          },
          "hovermode": "closest",
          "mapbox": {
           "style": "light"
          },
          "paper_bgcolor": "white",
          "plot_bgcolor": "#E5ECF6",
          "polar": {
           "angularaxis": {
            "gridcolor": "white",
            "linecolor": "white",
            "ticks": ""
           },
           "bgcolor": "#E5ECF6",
           "radialaxis": {
            "gridcolor": "white",
            "linecolor": "white",
            "ticks": ""
           }
          },
          "scene": {
           "xaxis": {
            "backgroundcolor": "#E5ECF6",
            "gridcolor": "white",
            "gridwidth": 2,
            "linecolor": "white",
            "showbackground": true,
            "ticks": "",
            "zerolinecolor": "white"
           },
           "yaxis": {
            "backgroundcolor": "#E5ECF6",
            "gridcolor": "white",
            "gridwidth": 2,
            "linecolor": "white",
            "showbackground": true,
            "ticks": "",
            "zerolinecolor": "white"
           },
           "zaxis": {
            "backgroundcolor": "#E5ECF6",
            "gridcolor": "white",
            "gridwidth": 2,
            "linecolor": "white",
            "showbackground": true,
            "ticks": "",
            "zerolinecolor": "white"
           }
          },
          "shapedefaults": {
           "line": {
            "color": "#2a3f5f"
           }
          },
          "ternary": {
           "aaxis": {
            "gridcolor": "white",
            "linecolor": "white",
            "ticks": ""
           },
           "baxis": {
            "gridcolor": "white",
            "linecolor": "white",
            "ticks": ""
           },
           "bgcolor": "#E5ECF6",
           "caxis": {
            "gridcolor": "white",
            "linecolor": "white",
            "ticks": ""
           }
          },
          "title": {
           "x": 0.05
          },
          "xaxis": {
           "automargin": true,
           "gridcolor": "white",
           "linecolor": "white",
           "ticks": "",
           "title": {
            "standoff": 15
           },
           "zerolinecolor": "white",
           "zerolinewidth": 2
          },
          "yaxis": {
           "automargin": true,
           "gridcolor": "white",
           "linecolor": "white",
           "ticks": "",
           "title": {
            "standoff": 15
           },
           "zerolinecolor": "white",
           "zerolinewidth": 2
          }
         }
        }
       }
      },
      "text/html": [
       "<div>                            <div id=\"f8a89aea-0963-4a22-96ba-59b1ec1127c9\" class=\"plotly-graph-div\" style=\"height:525px; width:100%;\"></div>            <script type=\"text/javascript\">                require([\"plotly\"], function(Plotly) {                    window.PLOTLYENV=window.PLOTLYENV || {};                                    if (document.getElementById(\"f8a89aea-0963-4a22-96ba-59b1ec1127c9\")) {                    Plotly.newPlot(                        \"f8a89aea-0963-4a22-96ba-59b1ec1127c9\",                        [{\"hovertemplate\":\"x=%{x}<br>y=%{y}<br>z=%{z}<br>label=%{marker.color}<extra></extra>\",\"legendgroup\":\"\",\"marker\":{\"color\":[7,1,9,9,9,8,2,2,2,8,6,0,7,4,7,7,2,8,8,2,7,1,7,3,1,1,4,7,7,3,4,2,3,8,1,6,1,3,2,9,4,1,1,1,2,9,9,2,9,0,3,9,8,6,2,4,2,3,7,6,8,9,4,8,9,3,3,9,1,6,7,6,1,5,1,1,5,9,0,1,0,6,5,6,7,3,0,0,0,1,2,8,1,9,0,4,1,5,5,3,7,2,6,8,1,1,4,9,9,8,8,7,1,0,5,9,2,0,3,5,1,6,3,5,3,3,2,5],\"coloraxis\":\"coloraxis\",\"symbol\":\"circle\",\"size\":5},\"mode\":\"markers+text\",\"name\":\"\",\"scene\":\"scene\",\"showlegend\":false,\"text\":[7.0,1.0,9.0,9.0,9.0,8.0,2.0,2.0,2.0,8.0,6.0,0.0,7.0,4.0,7.0,7.0,2.0,8.0,8.0,2.0,7.0,1.0,7.0,3.0,1.0,1.0,4.0,7.0,7.0,3.0,4.0,2.0,3.0,8.0,1.0,6.0,1.0,3.0,2.0,9.0,4.0,1.0,1.0,1.0,2.0,9.0,9.0,2.0,9.0,0.0,3.0,9.0,8.0,6.0,2.0,4.0,2.0,3.0,7.0,6.0,8.0,9.0,4.0,8.0,9.0,3.0,3.0,9.0,1.0,6.0,7.0,6.0,1.0,5.0,1.0,1.0,5.0,9.0,0.0,1.0,0.0,6.0,5.0,6.0,7.0,3.0,0.0,0.0,0.0,1.0,2.0,8.0,1.0,9.0,0.0,4.0,1.0,5.0,5.0,3.0,7.0,2.0,6.0,8.0,1.0,1.0,4.0,9.0,9.0,8.0,8.0,7.0,1.0,0.0,5.0,9.0,2.0,0.0,3.0,5.0,1.0,6.0,3.0,5.0,3.0,3.0,2.0,5.0],\"x\":[-0.4351198375225067,-0.9405948519706726,0.8561050295829773,0.8527531623840332,0.8552404642105103,-0.18985532224178314,0.10777236521244049,0.005580523516982794,-0.11384531110525131,-0.06398406624794006,-0.743410050868988,0.3356527090072632,-0.40860289335250854,-0.2553495764732361,-0.4452413022518158,-0.3649834990501404,-0.34011223912239075,-0.15426744520664215,-0.18939271569252014,0.05016610771417618,-0.42274904251098633,-0.9376896023750305,-0.44295984506607056,0.8950549960136414,-0.9426948428153992,-0.9412093758583069,-0.18129222095012665,-0.3945695757865906,-0.41801372170448303,0.9229718446731567,-0.24125126004219055,-0.4470839500427246,0.9248590469360352,-0.17429886758327484,-0.9427317380905151,-0.7659025192260742,-0.9426516890525818,0.9228761792182922,-0.3960399031639099,0.8623682856559753,-0.5139486789703369,-0.9390638470649719,-0.9374810457229614,-0.9397042393684387,-0.21183405816555023,0.859302282333374,0.48447713255882263,-0.5232306122779846,0.8506770133972168,0.2225443571805954,0.9220760464668274,0.8572617173194885,-0.20719726383686066,-0.750454306602478,-0.05068039149045944,-0.35432299971580505,-0.08595789223909378,0.9253387451171875,-0.4368758201599121,-0.7416762113571167,-0.2012154757976532,0.8549723029136658,-0.14927899837493896,0.25541815161705017,0.8549237251281738,0.9240688681602478,0.926865816116333,0.8554647564888,-0.9431267380714417,-0.7527615427970886,-0.4380888044834137,-0.7259417176246643,-0.9443258047103882,0.5609545111656189,-0.9425658583641052,-0.8381319046020508,0.530102550983429,0.791198194026947,0.3427634537220001,-0.9445483088493347,0.3588605523109436,-0.7235838770866394,0.5626233220100403,-0.7541009783744812,-0.4345960319042206,0.9218952655792236,0.34663134813308716,0.3410688042640686,0.34242329001426697,-0.9359666109085083,-0.3082389235496521,-0.17406964302062988,-0.9400628805160522,0.8605391383171082,0.33442509174346924,-0.4929251968860626,-0.9436750411987305,0.5367955565452576,0.5614427328109741,0.907012939453125,-0.4519449770450592,-0.5084920525550842,-0.7498798966407776,-0.17607660591602325,-0.9478520750999451,-0.9409469962120056,-0.3920727074146271,0.8523516058921814,0.8539445996284485,-0.2166953682899475,-0.20873737335205078,-0.3350209891796112,-0.9416974782943726,0.3403295576572418,0.5462946891784668,0.8526389598846436,-0.35670772194862366,0.3291842043399811,0.9079194068908691,0.5454197525978088,-0.9387000799179077,-0.7458152174949646,0.9324548840522766,0.5703063607215881,0.9269030094146729,0.930870771408081,-0.6009891629219055,0.7620999813079834],\"y\":[-0.829849123954773,-0.047569043934345245,-0.48469337821006775,-0.4915846884250641,-0.4864853024482727,0.9675803184509277,0.957665205001831,-0.9728308916091919,-0.9564564228057861,0.9752047061920166,0.6616222858428955,-0.9357075691223145,-0.84544438123703,-0.9164704084396362,-0.823613166809082,-0.8688642382621765,-0.8810340166091919,0.9715317487716675,0.9676409363746643,-0.9749773144721985,-0.8372566103935242,-0.0695280209183693,-0.8250327706336975,0.25029632449150085,-0.028819400817155838,-0.042394910007715225,-0.9402640461921692,-0.8532754182815552,-0.8400306701660156,0.1496429741382599,-0.9214995503425598,-0.8224605917930603,0.14106865227222443,0.9694849252700806,-0.028459342196583748,0.6330212950706482,-0.029238399118185043,0.15006856620311737,-0.8524683713912964,-0.4713982045650482,-0.7768479585647583,-0.0595923513174057,-0.07097646594047546,-0.05470019578933716,-0.9312307834625244,-0.4779767692089081,-0.8737790584564209,-0.7698988914489746,-0.4957796037197113,-0.9626671075820923,0.15359710156917572,-0.4822799861431122,0.9651287198066711,0.6529282927513123,-0.9670505523681641,-0.8741830587387085,-0.9616724252700806,0.13883289694786072,-0.8287787437438965,0.663727343082428,0.9660136699676514,-0.48703891038894653,-0.9485867023468018,0.9164453744888306,-0.48713913559913635,0.14470073580741882,0.13154999911785126,-0.48602136969566345,-0.024522976949810982,0.6500300168991089,-0.8280364871025085,0.6822324991226196,-0.011474579572677612,0.7399599552154541,-0.030067728832364082,-0.3887360692024231,0.7646507620811462,-0.5976220965385437,-0.9334694743156433,-0.008829326368868351,-0.9281527400016785,0.6849164962768555,0.7385698556900024,0.6483357548713684,-0.8301675915718079,0.1543864905834198,-0.9322238564491272,-0.9340089559555054,-0.9335780739784241,-0.08108590543270111,-0.8954300880432129,0.9695109724998474,-0.05187717080116272,-0.4753395617008209,-0.9360870718955994,-0.7920117974281311,-0.018783099949359894,0.7594531178474426,0.7395538091659546,0.21177202463150024,-0.8193944692611694,-0.7808595299720764,0.6536458730697632,0.9692813158035278,0.05752947926521301,-0.04463166370987892,-0.854638934135437,-0.49240046739578247,-0.4891521632671356,0.9636378288269043,0.9648940563201904,-0.8834229111671448,-0.038114797323942184,-0.9342430830001831,0.7519271969795227,-0.491816908121109,-0.8730067610740662,-0.9376853108406067,0.20862387120723724,0.7526278495788574,-0.06229284405708313,0.6586796045303345,0.10229852795600891,0.7320950031280518,0.1313694268465042,0.11106657981872559,-0.7049573063850403,0.518652081489563],\"z\":[-0.34931522607803345,-0.33618223667144775,0.17932264506816864,0.17651212215423584,0.17859424650669098,0.16656334698200226,0.2669503390789032,-0.23144975304603577,-0.26875725388526917,0.2118535041809082,-0.09796683490276337,-0.10857602208852768,-0.343900591135025,-0.30802372097969055,-0.3513140380382538,-0.3344579339027405,-0.32878977060317993,0.1797991394996643,0.1667376309633255,-0.21657006442546844,-0.34682080149650574,-0.34044691920280457,-0.35086682438850403,0.3690912127494812,-0.3324093818664551,-0.335153192281723,-0.2881609797477722,-0.34093379974365234,-0.3458513021469116,0.3545842468738556,-0.30436229705810547,-0.35167378187179565,0.3531789481639862,0.1723916083574295,-0.3323357105255127,-0.11259430646896362,-0.33249497413635254,0.35465332865715027,-0.3412478268146515,0.18467466533184052,-0.3638187646865845,-0.33853790163993835,-0.34072238206863403,-0.3375854194164276,-0.2965394854545593,0.1820378601551056,-0.04233330488204956,-0.36535656452178955,0.1747889220714569,-0.154097780585289,0.35522353649139404,0.1803010106086731,0.15998739004135132,-0.10248471796512604,-0.24948899447917938,-0.33205297589302063,-0.26037946343421936,0.3528082072734833,-0.34966474771499634,-0.09686317294836044,0.16226507723331451,0.17836885154247284,-0.27910396456718445,0.30804136395454407,0.17832806706428528,0.3537774384021759,0.35158833861351013,0.17878296971321106,-0.33152779936790466,-0.10397665202617645,-0.34990552067756653,-0.08699104189872742,-0.3288116157054901,0.3711997866630554,-0.3326643109321594,-0.3826476037502289,0.3664703965187073,0.12982049584388733,-0.10558390617370605,-0.328253835439682,-0.09875040501356125,-0.08553305268287659,0.3714425265789032,-0.10484558343887329,-0.3492107689380646,0.35535043478012085,-0.10394958406686783,-0.10629846155643463,-0.105727419257164,-0.3426246643066406,-0.3212380111217499,0.17247703671455383,-0.3370320200920105,0.18309761583805084,-0.10909094661474228,-0.36019742488861084,-0.330340176820755,0.3675343990325928,0.37127095460891724,0.3639783263206482,-0.35261663794517517,-0.36289700865745544,-0.102114237844944,0.1717289537191391,-0.31347545981407166,-0.3355991244316101,-0.34039878845214844,0.1761777549982071,0.17750705778598785,0.15635018050670624,0.15939931571483612,-0.3276049494743347,-0.3342949450016022,-0.10660987347364426,0.369008868932724,0.17641699314117432,-0.33259421586990356,-0.11128394305706024,0.3635360896587372,0.3688749074935913,-0.3390601575374603,-0.09950321167707443,0.3465009033679962,0.3725420832633972,0.3515578806400299,0.348057359457016,-0.3766261339187622,0.38756126165390015],\"type\":\"scatter3d\",\"textfont\":{\"color\":\"white\",\"size\":12},\"textposition\":\"middle center\"}],                        {\"template\":{\"data\":{\"histogram2dcontour\":[{\"type\":\"histogram2dcontour\",\"colorbar\":{\"outlinewidth\":0,\"ticks\":\"\"},\"colorscale\":[[0.0,\"#0d0887\"],[0.1111111111111111,\"#46039f\"],[0.2222222222222222,\"#7201a8\"],[0.3333333333333333,\"#9c179e\"],[0.4444444444444444,\"#bd3786\"],[0.5555555555555556,\"#d8576b\"],[0.6666666666666666,\"#ed7953\"],[0.7777777777777778,\"#fb9f3a\"],[0.8888888888888888,\"#fdca26\"],[1.0,\"#f0f921\"]]}],\"choropleth\":[{\"type\":\"choropleth\",\"colorbar\":{\"outlinewidth\":0,\"ticks\":\"\"}}],\"histogram2d\":[{\"type\":\"histogram2d\",\"colorbar\":{\"outlinewidth\":0,\"ticks\":\"\"},\"colorscale\":[[0.0,\"#0d0887\"],[0.1111111111111111,\"#46039f\"],[0.2222222222222222,\"#7201a8\"],[0.3333333333333333,\"#9c179e\"],[0.4444444444444444,\"#bd3786\"],[0.5555555555555556,\"#d8576b\"],[0.6666666666666666,\"#ed7953\"],[0.7777777777777778,\"#fb9f3a\"],[0.8888888888888888,\"#fdca26\"],[1.0,\"#f0f921\"]]}],\"heatmap\":[{\"type\":\"heatmap\",\"colorbar\":{\"outlinewidth\":0,\"ticks\":\"\"},\"colorscale\":[[0.0,\"#0d0887\"],[0.1111111111111111,\"#46039f\"],[0.2222222222222222,\"#7201a8\"],[0.3333333333333333,\"#9c179e\"],[0.4444444444444444,\"#bd3786\"],[0.5555555555555556,\"#d8576b\"],[0.6666666666666666,\"#ed7953\"],[0.7777777777777778,\"#fb9f3a\"],[0.8888888888888888,\"#fdca26\"],[1.0,\"#f0f921\"]]}],\"heatmapgl\":[{\"type\":\"heatmapgl\",\"colorbar\":{\"outlinewidth\":0,\"ticks\":\"\"},\"colorscale\":[[0.0,\"#0d0887\"],[0.1111111111111111,\"#46039f\"],[0.2222222222222222,\"#7201a8\"],[0.3333333333333333,\"#9c179e\"],[0.4444444444444444,\"#bd3786\"],[0.5555555555555556,\"#d8576b\"],[0.6666666666666666,\"#ed7953\"],[0.7777777777777778,\"#fb9f3a\"],[0.8888888888888888,\"#fdca26\"],[1.0,\"#f0f921\"]]}],\"contourcarpet\":[{\"type\":\"contourcarpet\",\"colorbar\":{\"outlinewidth\":0,\"ticks\":\"\"}}],\"contour\":[{\"type\":\"contour\",\"colorbar\":{\"outlinewidth\":0,\"ticks\":\"\"},\"colorscale\":[[0.0,\"#0d0887\"],[0.1111111111111111,\"#46039f\"],[0.2222222222222222,\"#7201a8\"],[0.3333333333333333,\"#9c179e\"],[0.4444444444444444,\"#bd3786\"],[0.5555555555555556,\"#d8576b\"],[0.6666666666666666,\"#ed7953\"],[0.7777777777777778,\"#fb9f3a\"],[0.8888888888888888,\"#fdca26\"],[1.0,\"#f0f921\"]]}],\"surface\":[{\"type\":\"surface\",\"colorbar\":{\"outlinewidth\":0,\"ticks\":\"\"},\"colorscale\":[[0.0,\"#0d0887\"],[0.1111111111111111,\"#46039f\"],[0.2222222222222222,\"#7201a8\"],[0.3333333333333333,\"#9c179e\"],[0.4444444444444444,\"#bd3786\"],[0.5555555555555556,\"#d8576b\"],[0.6666666666666666,\"#ed7953\"],[0.7777777777777778,\"#fb9f3a\"],[0.8888888888888888,\"#fdca26\"],[1.0,\"#f0f921\"]]}],\"mesh3d\":[{\"type\":\"mesh3d\",\"colorbar\":{\"outlinewidth\":0,\"ticks\":\"\"}}],\"scatter\":[{\"fillpattern\":{\"fillmode\":\"overlay\",\"size\":10,\"solidity\":0.2},\"type\":\"scatter\"}],\"parcoords\":[{\"type\":\"parcoords\",\"line\":{\"colorbar\":{\"outlinewidth\":0,\"ticks\":\"\"}}}],\"scatterpolargl\":[{\"type\":\"scatterpolargl\",\"marker\":{\"colorbar\":{\"outlinewidth\":0,\"ticks\":\"\"}}}],\"bar\":[{\"error_x\":{\"color\":\"#2a3f5f\"},\"error_y\":{\"color\":\"#2a3f5f\"},\"marker\":{\"line\":{\"color\":\"#E5ECF6\",\"width\":0.5},\"pattern\":{\"fillmode\":\"overlay\",\"size\":10,\"solidity\":0.2}},\"type\":\"bar\"}],\"scattergeo\":[{\"type\":\"scattergeo\",\"marker\":{\"colorbar\":{\"outlinewidth\":0,\"ticks\":\"\"}}}],\"scatterpolar\":[{\"type\":\"scatterpolar\",\"marker\":{\"colorbar\":{\"outlinewidth\":0,\"ticks\":\"\"}}}],\"histogram\":[{\"marker\":{\"pattern\":{\"fillmode\":\"overlay\",\"size\":10,\"solidity\":0.2}},\"type\":\"histogram\"}],\"scattergl\":[{\"type\":\"scattergl\",\"marker\":{\"colorbar\":{\"outlinewidth\":0,\"ticks\":\"\"}}}],\"scatter3d\":[{\"type\":\"scatter3d\",\"line\":{\"colorbar\":{\"outlinewidth\":0,\"ticks\":\"\"}},\"marker\":{\"colorbar\":{\"outlinewidth\":0,\"ticks\":\"\"}}}],\"scattermapbox\":[{\"type\":\"scattermapbox\",\"marker\":{\"colorbar\":{\"outlinewidth\":0,\"ticks\":\"\"}}}],\"scatterternary\":[{\"type\":\"scatterternary\",\"marker\":{\"colorbar\":{\"outlinewidth\":0,\"ticks\":\"\"}}}],\"scattercarpet\":[{\"type\":\"scattercarpet\",\"marker\":{\"colorbar\":{\"outlinewidth\":0,\"ticks\":\"\"}}}],\"carpet\":[{\"aaxis\":{\"endlinecolor\":\"#2a3f5f\",\"gridcolor\":\"white\",\"linecolor\":\"white\",\"minorgridcolor\":\"white\",\"startlinecolor\":\"#2a3f5f\"},\"baxis\":{\"endlinecolor\":\"#2a3f5f\",\"gridcolor\":\"white\",\"linecolor\":\"white\",\"minorgridcolor\":\"white\",\"startlinecolor\":\"#2a3f5f\"},\"type\":\"carpet\"}],\"table\":[{\"cells\":{\"fill\":{\"color\":\"#EBF0F8\"},\"line\":{\"color\":\"white\"}},\"header\":{\"fill\":{\"color\":\"#C8D4E3\"},\"line\":{\"color\":\"white\"}},\"type\":\"table\"}],\"barpolar\":[{\"marker\":{\"line\":{\"color\":\"#E5ECF6\",\"width\":0.5},\"pattern\":{\"fillmode\":\"overlay\",\"size\":10,\"solidity\":0.2}},\"type\":\"barpolar\"}],\"pie\":[{\"automargin\":true,\"type\":\"pie\"}]},\"layout\":{\"autotypenumbers\":\"strict\",\"colorway\":[\"#636efa\",\"#EF553B\",\"#00cc96\",\"#ab63fa\",\"#FFA15A\",\"#19d3f3\",\"#FF6692\",\"#B6E880\",\"#FF97FF\",\"#FECB52\"],\"font\":{\"color\":\"#2a3f5f\"},\"hovermode\":\"closest\",\"hoverlabel\":{\"align\":\"left\"},\"paper_bgcolor\":\"white\",\"plot_bgcolor\":\"#E5ECF6\",\"polar\":{\"bgcolor\":\"#E5ECF6\",\"angularaxis\":{\"gridcolor\":\"white\",\"linecolor\":\"white\",\"ticks\":\"\"},\"radialaxis\":{\"gridcolor\":\"white\",\"linecolor\":\"white\",\"ticks\":\"\"}},\"ternary\":{\"bgcolor\":\"#E5ECF6\",\"aaxis\":{\"gridcolor\":\"white\",\"linecolor\":\"white\",\"ticks\":\"\"},\"baxis\":{\"gridcolor\":\"white\",\"linecolor\":\"white\",\"ticks\":\"\"},\"caxis\":{\"gridcolor\":\"white\",\"linecolor\":\"white\",\"ticks\":\"\"}},\"coloraxis\":{\"colorbar\":{\"outlinewidth\":0,\"ticks\":\"\"}},\"colorscale\":{\"sequential\":[[0.0,\"#0d0887\"],[0.1111111111111111,\"#46039f\"],[0.2222222222222222,\"#7201a8\"],[0.3333333333333333,\"#9c179e\"],[0.4444444444444444,\"#bd3786\"],[0.5555555555555556,\"#d8576b\"],[0.6666666666666666,\"#ed7953\"],[0.7777777777777778,\"#fb9f3a\"],[0.8888888888888888,\"#fdca26\"],[1.0,\"#f0f921\"]],\"sequentialminus\":[[0.0,\"#0d0887\"],[0.1111111111111111,\"#46039f\"],[0.2222222222222222,\"#7201a8\"],[0.3333333333333333,\"#9c179e\"],[0.4444444444444444,\"#bd3786\"],[0.5555555555555556,\"#d8576b\"],[0.6666666666666666,\"#ed7953\"],[0.7777777777777778,\"#fb9f3a\"],[0.8888888888888888,\"#fdca26\"],[1.0,\"#f0f921\"]],\"diverging\":[[0,\"#8e0152\"],[0.1,\"#c51b7d\"],[0.2,\"#de77ae\"],[0.3,\"#f1b6da\"],[0.4,\"#fde0ef\"],[0.5,\"#f7f7f7\"],[0.6,\"#e6f5d0\"],[0.7,\"#b8e186\"],[0.8,\"#7fbc41\"],[0.9,\"#4d9221\"],[1,\"#276419\"]]},\"xaxis\":{\"gridcolor\":\"white\",\"linecolor\":\"white\",\"ticks\":\"\",\"title\":{\"standoff\":15},\"zerolinecolor\":\"white\",\"automargin\":true,\"zerolinewidth\":2},\"yaxis\":{\"gridcolor\":\"white\",\"linecolor\":\"white\",\"ticks\":\"\",\"title\":{\"standoff\":15},\"zerolinecolor\":\"white\",\"automargin\":true,\"zerolinewidth\":2},\"scene\":{\"xaxis\":{\"backgroundcolor\":\"#E5ECF6\",\"gridcolor\":\"white\",\"linecolor\":\"white\",\"showbackground\":true,\"ticks\":\"\",\"zerolinecolor\":\"white\",\"gridwidth\":2},\"yaxis\":{\"backgroundcolor\":\"#E5ECF6\",\"gridcolor\":\"white\",\"linecolor\":\"white\",\"showbackground\":true,\"ticks\":\"\",\"zerolinecolor\":\"white\",\"gridwidth\":2},\"zaxis\":{\"backgroundcolor\":\"#E5ECF6\",\"gridcolor\":\"white\",\"linecolor\":\"white\",\"showbackground\":true,\"ticks\":\"\",\"zerolinecolor\":\"white\",\"gridwidth\":2}},\"shapedefaults\":{\"line\":{\"color\":\"#2a3f5f\"}},\"annotationdefaults\":{\"arrowcolor\":\"#2a3f5f\",\"arrowhead\":0,\"arrowwidth\":1},\"geo\":{\"bgcolor\":\"white\",\"landcolor\":\"#E5ECF6\",\"subunitcolor\":\"white\",\"showland\":true,\"showlakes\":true,\"lakecolor\":\"white\"},\"title\":{\"x\":0.05},\"mapbox\":{\"style\":\"light\"}}},\"scene\":{\"domain\":{\"x\":[0.0,1.0],\"y\":[0.0,1.0]},\"xaxis\":{\"title\":{\"text\":\"x\"}},\"yaxis\":{\"title\":{\"text\":\"y\"}},\"zaxis\":{\"title\":{\"text\":\"z\"}},\"camera\":{\"up\":{\"x\":0,\"y\":0,\"z\":1},\"center\":{\"x\":0.0,\"y\":0.0,\"z\":0.0},\"eye\":{\"x\":0.8,\"y\":0.8,\"z\":-1.2}}},\"coloraxis\":{\"colorbar\":{\"title\":{\"text\":\"label\"}},\"colorscale\":[[0.0,\"#0d0887\"],[0.1111111111111111,\"#46039f\"],[0.2222222222222222,\"#7201a8\"],[0.3333333333333333,\"#9c179e\"],[0.4444444444444444,\"#bd3786\"],[0.5555555555555556,\"#d8576b\"],[0.6666666666666666,\"#ed7953\"],[0.7777777777777778,\"#fb9f3a\"],[0.8888888888888888,\"#fdca26\"],[1.0,\"#f0f921\"]],\"showscale\":false},\"legend\":{\"tracegroupgap\":0},\"margin\":{\"t\":60}},                        {\"responsive\": true}                    ).then(function(){\n",
       "                            \n",
       "var gd = document.getElementById('f8a89aea-0963-4a22-96ba-59b1ec1127c9');\n",
       "var x = new MutationObserver(function (mutations, observer) {{\n",
       "        var display = window.getComputedStyle(gd).display;\n",
       "        if (!display || display === 'none') {{\n",
       "            console.log([gd, 'removed!']);\n",
       "            Plotly.purge(gd);\n",
       "            observer.disconnect();\n",
       "        }}\n",
       "}});\n",
       "\n",
       "// Listen for the removal of the full notebook cells\n",
       "var notebookContainer = gd.closest('#notebook-container');\n",
       "if (notebookContainer) {{\n",
       "    x.observe(notebookContainer, {childList: true});\n",
       "}}\n",
       "\n",
       "// Listen for the clearing of the current output cell\n",
       "var outputEl = gd.closest('.output');\n",
       "if (outputEl) {{\n",
       "    x.observe(outputEl, {childList: true});\n",
       "}}\n",
       "\n",
       "                        })                };                });            </script>        </div>"
      ]
     },
     "metadata": {},
     "output_type": "display_data"
    }
   ],
   "source": [
    "projected_points = project_to_2D_unit_circle(embeds)\n",
    "df = pd.DataFrame({'x': projected_points[:, 0], \n",
    "                   'y': projected_points[:, 1], \n",
    "                   'z': projected_points[:, 2], \n",
    "                   'label': batch_labels.numpy()})\n",
    "\n",
    "fig = px.scatter_3d(df, x='x', y='y', z='z',\n",
    "                      color='label', text='label')\n",
    "fig.update_coloraxes(showscale=False)\n",
    "fig.update_traces(marker=dict(size=5), \n",
    "                  textposition='middle center', \n",
    "                  textfont=dict(color='white', size=12))\n",
    "\n",
    "camera = dict(\n",
    "    up=dict(x=0, y=0, z=1),\n",
    "    center=dict(x=0., y=0., z=0.),\n",
    "    eye=dict(x=0.8, y=0.8, z=-1.2)\n",
    ")\n",
    "\n",
    "fig.update_layout(scene_camera=camera)\n",
    "# fig.write_image(\"./figs/mc_plot.pdf\", scale=5)\n",
    "fig.show()"
   ]
  },
  {
   "cell_type": "markdown",
   "id": "fc5385f0",
   "metadata": {},
   "source": [
    "## Accuracy over test images"
   ]
  },
  {
   "cell_type": "code",
   "execution_count": 114,
   "id": "afe69ae9",
   "metadata": {},
   "outputs": [],
   "source": [
    "def accuracy_over_test_images(mnist_net, tag='original'):\n",
    "    correct = 0\n",
    "    total = 0\n",
    "    # since we're not training, we don't need to calculate the gradients for our outputs\n",
    "    with torch.no_grad():\n",
    "        for images, labels in data_loader:\n",
    "            images = images.to(device); labels = labels.to(device)\n",
    "            # calculate outputs by running images through the network\n",
    "            outputs = mnist_net(images)\n",
    "            # the class with the highest energy is what we choose as prediction\n",
    "            _, predicted = torch.max(outputs.data, 1)\n",
    "            total += labels.size(0)\n",
    "            correct += (predicted == labels).sum().item()\n",
    "\n",
    "    print(f'Accuracy of the ' +  tag +  ' network on the '+ str(total) +' test images: '+ str(100 * correct // total)+ '%')"
   ]
  },
  {
   "cell_type": "code",
   "execution_count": 115,
   "id": "283671bb",
   "metadata": {
    "scrolled": true
   },
   "outputs": [
    {
     "name": "stdout",
     "output_type": "stream",
     "text": [
      "Accuracy of the modified network on the 10000 test images: 77%\n"
     ]
    }
   ],
   "source": [
    "accuracy_over_test_images(mnist_net, tag='modified')"
   ]
  },
  {
   "cell_type": "code",
   "execution_count": 980,
   "id": "1279a9ae",
   "metadata": {
    "scrolled": true
   },
   "outputs": [],
   "source": [
    "# accuracy_over_test_images(original_mnist_net)\n",
    "# Accuracy of the original network on the 10000 test images: 97%"
   ]
  },
  {
   "cell_type": "code",
   "execution_count": null,
   "id": "79858db0",
   "metadata": {},
   "outputs": [],
   "source": []
  }
 ],
 "metadata": {
  "kernelspec": {
   "display_name": "Python 3 (ipykernel)",
   "language": "python",
   "name": "python3"
  },
  "language_info": {
   "codemirror_mode": {
    "name": "ipython",
    "version": 3
   },
   "file_extension": ".py",
   "mimetype": "text/x-python",
   "name": "python",
   "nbconvert_exporter": "python",
   "pygments_lexer": "ipython3",
   "version": "3.7.16"
  }
 },
 "nbformat": 4,
 "nbformat_minor": 5
}
